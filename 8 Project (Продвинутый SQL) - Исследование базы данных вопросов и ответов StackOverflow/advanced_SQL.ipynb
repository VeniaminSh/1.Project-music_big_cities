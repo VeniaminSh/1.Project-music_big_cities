{
 "cells": [
  {
   "cell_type": "markdown",
   "id": "539e342d-8759-4b12-86be-6226765a255e",
   "metadata": {},
   "source": [
    "## Исследование базы данных вопросов и ответов StackOverflow"
   ]
  },
  {
   "cell_type": "markdown",
   "id": "d890d0a9-3b10-48fc-a621-77f32c7a17de",
   "metadata": {},
   "source": [
    "**Цель проекта:**\n",
    "\n",
    "Решать поставленые задачи, с помощью SQL запросов. "
   ]
  },
  {
   "cell_type": "markdown",
   "id": "3d10dfe6-318d-42e3-b175-d6a899ea5a3c",
   "metadata": {},
   "source": [
    "**Описание проекта:**\n",
    "\n",
    "Задачи автоматически проверяются в тренажере. Самостоятельная работа основана на базе данных StackOverflow — сервиса вопросов и ответов о программировании с данными о постах за 2008 год."
   ]
  },
  {
   "cell_type": "markdown",
   "id": "75c2fa28-8a31-4e48-876c-1f89d842cc63",
   "metadata": {},
   "source": [
    "**Инструментарий:**\n",
    "* PostgreSQL\n",
    "* Oконные функции, подзапросы, JOIN-соединения"
   ]
  },
  {
   "cell_type": "markdown",
   "id": "11c17ebf-5d17-4269-9117-b1fe415bcbc2",
   "metadata": {},
   "source": [
    "## Задача 1. \n",
    "Найдите количество вопросов, которые набрали больше 300 очков или как минимум 100 раз были добавлены в «Закладки»."
   ]
  },
  {
   "cell_type": "code",
   "execution_count": 1,
   "id": "545cbf21-a184-43f2-b75c-5f3d67558387",
   "metadata": {},
   "outputs": [
    {
     "data": {
      "text/plain": [
       "'\\nSELECT \\n      COUNT(*)\\n\\nFROM \\n      stackoverflow.posts\\nWHERE \\n     post_type_id = 1 AND (score > 300 OR favorites_count >=100)\\n'"
      ]
     },
     "execution_count": 1,
     "metadata": {},
     "output_type": "execute_result"
    }
   ],
   "source": [
    "'''\n",
    "SELECT \n",
    "      COUNT(*)\n",
    "FROM \n",
    "      stackoverflow.posts\n",
    "WHERE \n",
    "     post_type_id = 1 AND (score > 300 OR favorites_count >=100)\n",
    "'''"
   ]
  },
  {
   "cell_type": "markdown",
   "id": "2379ed6b-e08e-411e-a20f-141dc8715e2c",
   "metadata": {},
   "source": [
    "## Задача 2. \n",
    "Сколько в среднем в день задавали вопросов с 1 по 18 ноября 2008 включительно? Результат округлите до целого числа."
   ]
  },
  {
   "cell_type": "code",
   "execution_count": 3,
   "id": "315709fc-6440-4626-9392-35f03e53d0dc",
   "metadata": {},
   "outputs": [
    {
     "data": {
      "text/plain": [
       "\"\\nSELECT\\n      ROUND(AVG(t.avs))\\n\\nFROM\\n\\n(SELECT\\n      CAST(DATE_TRUNC('DAY', creation_date) AS date),\\n      COUNT(id) AS avs\\n      \\nFROM stackoverflow.posts\\nWHERE (post_type_id = 1) AND \\n      (creation_date :: date BETWEEN '2008.11.01' AND '2008.11.18')\\nGROUP BY \\n      CAST(DATE_TRUNC('DAY', creation_date) AS date)) AS t\\n\""
      ]
     },
     "execution_count": 3,
     "metadata": {},
     "output_type": "execute_result"
    }
   ],
   "source": [
    "'''\n",
    "SELECT\n",
    "      ROUND(AVG(t.avs))\n",
    "\n",
    "FROM\n",
    "\n",
    "(SELECT\n",
    "      CAST(DATE_TRUNC('DAY', creation_date) AS date),\n",
    "      COUNT(id) AS avs\n",
    "      \n",
    "FROM stackoverflow.posts\n",
    "WHERE (post_type_id = 1) AND \n",
    "      (creation_date :: date BETWEEN '2008.11.01' AND '2008.11.18')\n",
    "GROUP BY \n",
    "      CAST(DATE_TRUNC('DAY', creation_date) AS date)) AS t\n",
    "'''"
   ]
  },
  {
   "cell_type": "markdown",
   "id": "eb1b0557-08f4-4190-a5bb-bec5ecfd0032",
   "metadata": {},
   "source": [
    "## Задача 3. \n",
    "Сколько пользователей получили значки сразу в день регистрации? Выведите количество уникальных пользователей."
   ]
  },
  {
   "cell_type": "code",
   "execution_count": 1,
   "id": "bed75e76-1a84-4c8b-aaf3-2ed401df58e2",
   "metadata": {},
   "outputs": [
    {
     "data": {
      "text/plain": [
       "'\\nSELECT COUNT(DISTINCT user_id)\\n\\nFROM stackoverflow.users AS u\\n                             LEFT JOIN stackoverflow.badges AS b ON u.id=b.user_id\\n                             \\nWHERE b.creation_date :: date = u.creation_date :: date\\n'"
      ]
     },
     "execution_count": 1,
     "metadata": {},
     "output_type": "execute_result"
    }
   ],
   "source": [
    "'''\n",
    "SELECT COUNT(DISTINCT user_id)\n",
    "\n",
    "FROM stackoverflow.users AS u\n",
    "                             LEFT JOIN stackoverflow.badges AS b ON u.id=b.user_id\n",
    "                             \n",
    "WHERE b.creation_date :: date = u.creation_date :: date\n",
    "'''"
   ]
  },
  {
   "cell_type": "markdown",
   "id": "2234db56-5c47-40f1-873a-38c4bfe7e90a",
   "metadata": {},
   "source": [
    "## Задача 4. \n",
    "Сколько уникальных постов пользователя с именем Joel Coehoorn получили хотя бы один голос?"
   ]
  },
  {
   "cell_type": "code",
   "execution_count": 2,
   "id": "c5379456-31c4-4df6-9f5a-6186c3c5e974",
   "metadata": {},
   "outputs": [
    {
     "data": {
      "text/plain": [
       "\"\\nSELECT\\n      COUNT(DISTINCT p.id)\\n\\nFROM stackoverflow.posts AS p                                               \\n                             JOIN stackoverflow.users AS u ON p.user_id=u.id \\n                             JOIN stackoverflow.votes AS v ON p.id = v.post_id \\n                             \\nWHERE v.id > 0 \\n                    AND u.display_name = 'Joel Coehoorn';\\n\""
      ]
     },
     "execution_count": 2,
     "metadata": {},
     "output_type": "execute_result"
    }
   ],
   "source": [
    "'''\n",
    "SELECT\n",
    "      COUNT(DISTINCT p.id)\n",
    "\n",
    "FROM stackoverflow.posts AS p                                               \n",
    "                             JOIN stackoverflow.users AS u ON p.user_id=u.id \n",
    "                             JOIN stackoverflow.votes AS v ON p.id = v.post_id \n",
    "                             \n",
    "WHERE v.id > 0 \n",
    "                    AND u.display_name = 'Joel Coehoorn';\n",
    "'''"
   ]
  },
  {
   "cell_type": "markdown",
   "id": "707df8b0-3575-4c5e-874a-94feb7530c3e",
   "metadata": {},
   "source": [
    "## Задача 5. \n",
    "Выгрузите все поля таблицы vote_types. Добавьте к таблице поле rank, в которое войдут номера записей в обратном порядке. Таблица должна быть отсортирована по полю id."
   ]
  },
  {
   "cell_type": "code",
   "execution_count": 3,
   "id": "0f263b41-9ce3-475f-8bbd-e419855c0cef",
   "metadata": {},
   "outputs": [
    {
     "data": {
      "text/plain": [
       "'\\nSELECT *,\\n       ROW_NUMBER() OVER(ORDER BY id DESC)\\nFROM stackoverflow.vote_types\\nORDER BY id \\n'"
      ]
     },
     "execution_count": 3,
     "metadata": {},
     "output_type": "execute_result"
    }
   ],
   "source": [
    "'''\n",
    "SELECT *,\n",
    "       ROW_NUMBER() OVER(ORDER BY id DESC)\n",
    "FROM stackoverflow.vote_types\n",
    "ORDER BY id \n",
    "'''"
   ]
  },
  {
   "cell_type": "markdown",
   "id": "4c7e4b38-307c-42c4-8bed-0aa54db47669",
   "metadata": {},
   "source": [
    "## Задача 6. \n",
    "Отберите 10 пользователей, которые поставили больше всего голосов типа Close. Отобразите таблицу из двух полей: идентификатором пользователя и количеством голосов. Отсортируйте данные сначала по убыванию количества голосов, потом по убыванию значения идентификатора пользователя."
   ]
  },
  {
   "cell_type": "code",
   "execution_count": 4,
   "id": "f9010136-88d1-4ed3-a01c-479f6b3d0f49",
   "metadata": {},
   "outputs": [
    {
     "data": {
      "text/plain": [
       "\"\\nSELECT\\n      *\\nFROM (SELECT v.user_id AS c,\\n       COUNT(vt.id) AS b\\n\\nFROM stackoverflow.votes AS v \\n                             JOIN stackoverflow.vote_types AS vt ON v.vote_type_id=vt.id                           \\nWHERE vt.name = 'Close'\\nGROUP BY v.user_id\\nORDER BY COUNT(v.user_id) DESC\\nLIMIT 10) AS D\\n\\nORDER BY \\n        D.b DESC,\\n        D.c DESC;\\n\""
      ]
     },
     "execution_count": 4,
     "metadata": {},
     "output_type": "execute_result"
    }
   ],
   "source": [
    "'''\n",
    "SELECT\n",
    "      *\n",
    "FROM (SELECT v.user_id AS c,\n",
    "       COUNT(vt.id) AS b\n",
    "\n",
    "FROM stackoverflow.votes AS v \n",
    "                             JOIN stackoverflow.vote_types AS vt ON v.vote_type_id=vt.id                           \n",
    "WHERE vt.name = 'Close'\n",
    "GROUP BY v.user_id\n",
    "ORDER BY COUNT(v.user_id) DESC\n",
    "LIMIT 10) AS D\n",
    "\n",
    "ORDER BY \n",
    "        D.b DESC,\n",
    "        D.c DESC;\n",
    "'''"
   ]
  },
  {
   "cell_type": "markdown",
   "id": "7f894640-8f67-4c41-af6c-122ceb4bfe7e",
   "metadata": {},
   "source": [
    "## Задача 7. \n",
    "Отберите 10 пользователей по количеству значков, полученных в период с 15 ноября по 15 декабря 2008 года включительно.\n",
    "Отобразите несколько полей:\n",
    "идентификатор пользователя;\n",
    "число значков;\n",
    "место в рейтинге — чем больше значков, тем выше рейтинг.\n",
    "Пользователям, которые набрали одинаковое количество значков, присвойте одно и то же место в рейтинге.\n",
    "Отсортируйте записи по количеству значков по убыванию, а затем по возрастанию значения идентификатора пользователя."
   ]
  },
  {
   "cell_type": "code",
   "execution_count": 5,
   "id": "81d44b8e-6703-41a3-b02b-0fa47ed99be6",
   "metadata": {},
   "outputs": [
    {
     "data": {
      "text/plain": [
       "\"\\nSELECT\\n      use,\\n      bage,\\n      DENSE_RANK() OVER(ORDER BY bage DESC)\\n      \\nFROM \\n(SELECT \\n      user_id AS use,\\n      COUNT(id) AS bage\\nFROM stackoverflow.badges\\nWHERE creation_date :: date BETWEEN '2008-11-15' AND '2008-12-15'\\nGROUP BY user_id\\nORDER BY bage DESC, user_id LIMIT 10) AS tabl\\n\""
      ]
     },
     "execution_count": 5,
     "metadata": {},
     "output_type": "execute_result"
    }
   ],
   "source": [
    "'''\n",
    "SELECT\n",
    "      use,\n",
    "      bage,\n",
    "      DENSE_RANK() OVER(ORDER BY bage DESC)\n",
    "      \n",
    "FROM \n",
    "(SELECT \n",
    "      user_id AS use,\n",
    "      COUNT(id) AS bage\n",
    "FROM stackoverflow.badges\n",
    "WHERE creation_date :: date BETWEEN '2008-11-15' AND '2008-12-15'\n",
    "GROUP BY user_id\n",
    "ORDER BY bage DESC, user_id LIMIT 10) AS tabl\n",
    "'''"
   ]
  },
  {
   "cell_type": "markdown",
   "id": "575109ba-24fb-4c08-a5a5-44ec81935c12",
   "metadata": {},
   "source": [
    "## Задача 8. \n",
    "Сколько в среднем очков получает пост каждого пользователя?\n",
    "Сформируйте таблицу из следующих полей:\n",
    "- заголовок поста;\n",
    "- идентификатор пользователя;\n",
    "- число очков поста;\n",
    "- среднее число очков пользователя за пост, округлённое до целого числа.\n",
    "\n",
    "Не учитывайте посты без заголовка, а также те, что набрали ноль очков."
   ]
  },
  {
   "cell_type": "code",
   "execution_count": 6,
   "id": "40f22bb4-a52e-48bb-890c-525b663b6138",
   "metadata": {},
   "outputs": [
    {
     "data": {
      "text/plain": [
       "'\\nSELECT *,\\n      ROUND(AVG(score) OVER(PARTITION BY user_id))\\n\\nFROM\\n(SELECT\\n      title,\\n      user_id,\\n      score\\n\\nFROM stackoverflow.posts AS p\\nWHERE title IS NOT NULL AND score != 0) A\\n'"
      ]
     },
     "execution_count": 6,
     "metadata": {},
     "output_type": "execute_result"
    }
   ],
   "source": [
    "'''\n",
    "SELECT *,\n",
    "      ROUND(AVG(score) OVER(PARTITION BY user_id))\n",
    "\n",
    "FROM\n",
    "(SELECT\n",
    "      title,\n",
    "      user_id,\n",
    "      score\n",
    "\n",
    "FROM stackoverflow.posts AS p\n",
    "WHERE title IS NOT NULL AND score != 0) A\n",
    "'''"
   ]
  },
  {
   "cell_type": "markdown",
   "id": "e8674e6b-a1ab-4b35-9373-ab169540fff5",
   "metadata": {},
   "source": [
    "## Задача 9. \n",
    "Отобразите заголовки постов, которые были написаны пользователями, получившими более 1000 значков. Посты без заголовков не должны попасть в список."
   ]
  },
  {
   "cell_type": "code",
   "execution_count": 7,
   "id": "a20d4e74-2b6f-4df6-8007-23d481aba1ed",
   "metadata": {},
   "outputs": [
    {
     "data": {
      "text/plain": [
       "'\\nSELECT\\n      title\\nFROM \\n      stackoverflow.posts\\n      \\nWHERE user_id IN (\\n  \\nSELECT \\n      user_id\\nFROM stackoverflow.badges\\n\\nGROUP BY 1\\nHAVING COUNT(id) > 1000) AND title IS NOT NULL \\n'"
      ]
     },
     "execution_count": 7,
     "metadata": {},
     "output_type": "execute_result"
    }
   ],
   "source": [
    "'''\n",
    "SELECT\n",
    "      title\n",
    "FROM \n",
    "      stackoverflow.posts\n",
    "      \n",
    "WHERE user_id IN (\n",
    "  \n",
    "SELECT \n",
    "      user_id\n",
    "FROM stackoverflow.badges\n",
    "\n",
    "GROUP BY 1\n",
    "HAVING COUNT(id) > 1000) AND title IS NOT NULL \n",
    "'''"
   ]
  },
  {
   "cell_type": "markdown",
   "id": "17171056-31a9-4e66-adee-b8e8d5c9477e",
   "metadata": {},
   "source": [
    "## Задача 10. \n",
    "Напишите запрос, который выгрузит данные о пользователях из США (англ. United States). Разделите пользователей на три группы в зависимости от количества просмотров их профилей:\n",
    "- пользователям с числом просмотров больше либо равным 350 присвойте группу 1;\n",
    "- пользователям с числом просмотров меньше 350, но больше либо равно 100 — группу 2;\n",
    "- пользователям с числом просмотров меньше 100 — группу 3.\n",
    "\n",
    "Отобразите в итоговой таблице идентификатор пользователя, количество просмотров профиля и группу. Пользователи с нулевым количеством просмотров не должны войти в итоговую таблицу."
   ]
  },
  {
   "cell_type": "code",
   "execution_count": 8,
   "id": "0bcc090e-418c-44ec-a2c9-37a938479417",
   "metadata": {},
   "outputs": [
    {
     "data": {
      "text/plain": [
       "\"\\nSELECT id,\\n      views,\\n        CASE\\n    WHEN views>=350 THEN '1'\\n    WHEN views<350 AND views>=100 THEN '2'\\n    WHEN views<100 THEN '3'\\n         END :: numeric\\n  \\nFROM stackoverflow.users\\nWHERE location LIKE '%United States%' AND views > 0 \\n\""
      ]
     },
     "execution_count": 8,
     "metadata": {},
     "output_type": "execute_result"
    }
   ],
   "source": [
    "'''\n",
    "SELECT id,\n",
    "      views,\n",
    "        CASE\n",
    "    WHEN views>=350 THEN '1'\n",
    "    WHEN views<350 AND views>=100 THEN '2'\n",
    "    WHEN views<100 THEN '3'\n",
    "         END :: numeric\n",
    "  \n",
    "FROM stackoverflow.users\n",
    "WHERE location LIKE '%United States%' AND views > 0 \n",
    "'''"
   ]
  },
  {
   "cell_type": "markdown",
   "id": "a8ea406e-549d-4e53-b3c7-20cd5d3b1b2f",
   "metadata": {},
   "source": [
    "## Задача 11. \n",
    "Дополните предыдущий запрос. Отобразите лидеров каждой группы — пользователей, которые набрали максимальное число просмотров в своей группе. Выведите поля с идентификатором пользователя, группой и количеством просмотров. Отсортируйте таблицу по убыванию просмотров, а затем по возрастанию значения идентификатора."
   ]
  },
  {
   "cell_type": "code",
   "execution_count": 9,
   "id": "a659d8d8-d9b9-4c29-a4dd-a390745afed9",
   "metadata": {},
   "outputs": [
    {
     "data": {
      "text/plain": [
       "\"\\nWITH\\na AS (SELECT id,\\n      views,\\n        CASE\\n    WHEN views>=350 THEN 1\\n    WHEN views<350 AND views>=100 THEN 2\\n    WHEN views<100 THEN 3\\n         END AS ccc\\n  \\nFROM stackoverflow.users\\nWHERE location LIKE '%United States%' AND views > 0\\nORDER BY 2 DESC,3),\\n\\nb AS (\\nSELECT \\n      ccc,\\n      MAX(views) as mmm\\nFROM a\\nGROUP BY 1)\\n\\nSELECT DISTINCT\\n     a.id,\\n     b.ccc,\\n     b.mmm\\n\\nFROM b LEFT JOIN a ON b.mmm = a.views\\n\\nORDER BY mmm DESC, id\\n\""
      ]
     },
     "execution_count": 9,
     "metadata": {},
     "output_type": "execute_result"
    }
   ],
   "source": [
    "'''\n",
    "WITH\n",
    "a AS (SELECT id,\n",
    "      views,\n",
    "        CASE\n",
    "    WHEN views>=350 THEN 1\n",
    "    WHEN views<350 AND views>=100 THEN 2\n",
    "    WHEN views<100 THEN 3\n",
    "         END AS ccc\n",
    "  \n",
    "FROM stackoverflow.users\n",
    "WHERE location LIKE '%United States%' AND views > 0\n",
    "ORDER BY 2 DESC,3),\n",
    "\n",
    "b AS (\n",
    "SELECT \n",
    "      ccc,\n",
    "      MAX(views) as mmm\n",
    "FROM a\n",
    "GROUP BY 1)\n",
    "\n",
    "SELECT DISTINCT\n",
    "     a.id,\n",
    "     b.ccc,\n",
    "     b.mmm\n",
    "\n",
    "FROM b LEFT JOIN a ON b.mmm = a.views\n",
    "\n",
    "ORDER BY mmm DESC, id\n",
    "'''"
   ]
  },
  {
   "cell_type": "markdown",
   "id": "f057e59b-ca2d-4b11-bfb8-22da7129095b",
   "metadata": {},
   "source": [
    "## Задача 12. \n",
    "Посчитайте ежедневный прирост новых пользователей в ноябре 2008 года. Сформируйте таблицу с полями:\n",
    "\n",
    "- номер дня;\n",
    "- число пользователей, зарегистрированных в этот день;\n",
    "- сумму пользователей с накоплением."
   ]
  },
  {
   "cell_type": "code",
   "execution_count": 10,
   "id": "d1b6909e-37c0-4626-9677-02fb518783b8",
   "metadata": {},
   "outputs": [
    {
     "data": {
      "text/plain": [
       "\"\\nWITH\\n\\nA as\\n(SELECT \\n      EXTRACT(DAY FROM CAST(creation_date AS date)) AS day_count,\\n      COUNT(id) AS user_count\\n      \\nFROM stackoverflow.users\\n \\nWHERE creation_date :: date BETWEEN '2008-11-1' AND '2008-11-30'\\n\\nGROUP BY 1)\\n\\nSELECT\\n      day_count,\\n      user_count,\\n      SUM(user_count) OVER(ORDER BY day_count)\\n      \\nFROM a\\n\""
      ]
     },
     "execution_count": 10,
     "metadata": {},
     "output_type": "execute_result"
    }
   ],
   "source": [
    "'''\n",
    "WITH\n",
    "\n",
    "A as\n",
    "(SELECT \n",
    "      EXTRACT(DAY FROM CAST(creation_date AS date)) AS day_count,\n",
    "      COUNT(id) AS user_count\n",
    "      \n",
    "FROM stackoverflow.users\n",
    " \n",
    "WHERE creation_date :: date BETWEEN '2008-11-1' AND '2008-11-30'\n",
    "\n",
    "GROUP BY 1)\n",
    "\n",
    "SELECT\n",
    "      day_count,\n",
    "      user_count,\n",
    "      SUM(user_count) OVER(ORDER BY day_count)\n",
    "      \n",
    "FROM a\n",
    "'''"
   ]
  },
  {
   "cell_type": "markdown",
   "id": "90739f69-fdb8-4c66-a47e-840c340cc864",
   "metadata": {},
   "source": [
    "## Задача 13. \n",
    "\n",
    "Для каждого пользователя, который написал хотя бы один пост, найдите интервал между регистрацией и временем создания первого поста. Отобразите:\n",
    "\n",
    "- идентификатор пользователя;\n",
    "- разницу во времени между регистрацией и первым постом."
   ]
  },
  {
   "cell_type": "code",
   "execution_count": 11,
   "id": "c9b81418-4e1b-4422-adff-362eb2cf4f8f",
   "metadata": {},
   "outputs": [
    {
     "data": {
      "text/plain": [
       "'\\nSELECT DISTINCT\\n       p.user_id ,\\n       FIRST_VALUE(p.creation_date) OVER(PARTITION BY p.user_id  ORDER BY p.creation_date) - u.creation_date\\n\\nFROM stackoverflow.users AS u\\n                             JOIN stackoverflow.posts AS p ON u.id = p.user_id \\n'"
      ]
     },
     "execution_count": 11,
     "metadata": {},
     "output_type": "execute_result"
    }
   ],
   "source": [
    "'''\n",
    "SELECT DISTINCT\n",
    "       p.user_id ,\n",
    "       FIRST_VALUE(p.creation_date) OVER(PARTITION BY p.user_id  ORDER BY p.creation_date) - u.creation_date\n",
    "\n",
    "FROM stackoverflow.users AS u\n",
    "                             JOIN stackoverflow.posts AS p ON u.id = p.user_id \n",
    "'''"
   ]
  },
  {
   "cell_type": "markdown",
   "id": "80eb0792-fceb-406e-a412-e2b65ff6b6d8",
   "metadata": {},
   "source": [
    "## Задача 14. \n",
    "\n",
    "Выведите общую сумму просмотров постов за каждый месяц 2008 года. Если данных за какой-либо месяц в базе нет, такой месяц можно пропустить. Результат отсортируйте по убыванию общего количества просмотров."
   ]
  },
  {
   "cell_type": "code",
   "execution_count": 12,
   "id": "74f673e3-b74f-4f53-a89d-ba7e6958c9f4",
   "metadata": {},
   "outputs": [
    {
     "data": {
      "text/plain": [
       "\"\\nSELECT \\n      CAST(DATE_TRUNC('MONTH', creation_date) AS date),\\n      SUM(views_count)\\nFROM stackoverflow.posts\\nWHERE EXTRACT(YEAR FROM CAST(creation_date AS date)) = 2008\\nGROUP BY CAST(DATE_TRUNC('MONTH', creation_date) AS date)\\nORDER BY 2 DESC\\n\""
      ]
     },
     "execution_count": 12,
     "metadata": {},
     "output_type": "execute_result"
    }
   ],
   "source": [
    "'''\n",
    "SELECT \n",
    "      CAST(DATE_TRUNC('MONTH', creation_date) AS date),\n",
    "      SUM(views_count)\n",
    "FROM stackoverflow.posts\n",
    "WHERE EXTRACT(YEAR FROM CAST(creation_date AS date)) = 2008\n",
    "GROUP BY CAST(DATE_TRUNC('MONTH', creation_date) AS date)\n",
    "ORDER BY 2 DESC\n",
    "'''"
   ]
  },
  {
   "cell_type": "markdown",
   "id": "5662bebc-576e-4fee-a296-361d867316f1",
   "metadata": {},
   "source": [
    "## Задача 15. \n",
    "\n",
    "\n",
    "Выведите имена самых активных пользователей, которые в первый месяц после регистрации (включая день регистрации) дали больше 100 ответов. Вопросы, которые задавали пользователи, не учитывайте. Для каждого имени пользователя выведите количество уникальных значений user_id. Отсортируйте результат по полю с именами в лексикографическом порядке."
   ]
  },
  {
   "cell_type": "code",
   "execution_count": 13,
   "id": "11198592-6111-482d-8319-2f53291be611",
   "metadata": {},
   "outputs": [
    {
     "data": {
      "text/plain": [
       "\"\\nSELECT \\n      u.display_name,\\n      COUNT(DISTINCT u.id)\\n\\nFROM stackoverflow.users AS u \\n                               JOIN stackoverflow.posts AS p ON u.id = p.user_id\\n                                       \\nWHERE p.creation_date :: date <= u.creation_date :: date + INTERVAL '1 months'\\n      AND post_type_id = 2\\n\\nGROUP BY u.display_name\\nHAVING COUNT(post_type_id) > 100\\n\""
      ]
     },
     "execution_count": 13,
     "metadata": {},
     "output_type": "execute_result"
    }
   ],
   "source": [
    "'''\n",
    "SELECT \n",
    "      u.display_name,\n",
    "      COUNT(DISTINCT u.id)\n",
    "\n",
    "FROM stackoverflow.users AS u \n",
    "                               JOIN stackoverflow.posts AS p ON u.id = p.user_id\n",
    "                                       \n",
    "WHERE p.creation_date :: date <= u.creation_date :: date + INTERVAL '1 months'\n",
    "      AND post_type_id = 2\n",
    "\n",
    "GROUP BY u.display_name\n",
    "HAVING COUNT(post_type_id) > 100\n",
    "'''"
   ]
  },
  {
   "cell_type": "markdown",
   "id": "9833cbcd-a763-408d-9ebe-b731d4755e1d",
   "metadata": {},
   "source": [
    "## Задача 16. \n",
    "\n",
    "Выведите количество постов за 2008 год по месяцам. Отберите посты от пользователей, которые зарегистрировались в сентябре 2008 года и сделали хотя бы один пост в декабре того же года. Отсортируйте таблицу по значению месяца по убыванию."
   ]
  },
  {
   "cell_type": "code",
   "execution_count": 14,
   "id": "987ba7bb-5469-4afe-bcd9-4e2ff8c3e446",
   "metadata": {},
   "outputs": [
    {
     "data": {
      "text/plain": [
       "\"\\nWITH users AS (SELECT u.id\\n               FROM stackoverflow.posts AS p\\n               JOIN stackoverflow.users AS u ON p.user_id=u.id\\n               WHERE DATE_TRUNC('month', u.creation_date)::date = '2008-09-01' \\n                   AND DATE_TRUNC('month', p.creation_date)::date = '2008-12-01'\\n               GROUP BY u.id\\n               HAVING COUNT(p.id) > 0)\\n\\nSELECT COUNT(p.id),\\n       DATE_TRUNC('month', p.creation_date)::date\\nFROM stackoverflow.posts AS p\\nWHERE p.user_id IN (SELECT *\\n                    FROM users)\\n      AND DATE_TRUNC('year', p.creation_date)::date = '2008-01-01'\\nGROUP BY DATE_TRUNC('month', p.creation_date)::date\\nORDER BY DATE_TRUNC('month', p.creation_date)::date DESC;\\n\""
      ]
     },
     "execution_count": 14,
     "metadata": {},
     "output_type": "execute_result"
    }
   ],
   "source": [
    "'''\n",
    "WITH users AS (SELECT u.id\n",
    "               FROM stackoverflow.posts AS p\n",
    "               JOIN stackoverflow.users AS u ON p.user_id=u.id\n",
    "               WHERE DATE_TRUNC('month', u.creation_date)::date = '2008-09-01' \n",
    "                   AND DATE_TRUNC('month', p.creation_date)::date = '2008-12-01'\n",
    "               GROUP BY u.id\n",
    "               HAVING COUNT(p.id) > 0)\n",
    "\n",
    "SELECT COUNT(p.id),\n",
    "       DATE_TRUNC('month', p.creation_date)::date\n",
    "FROM stackoverflow.posts AS p\n",
    "WHERE p.user_id IN (SELECT *\n",
    "                    FROM users)\n",
    "      AND DATE_TRUNC('year', p.creation_date)::date = '2008-01-01'\n",
    "GROUP BY DATE_TRUNC('month', p.creation_date)::date\n",
    "ORDER BY DATE_TRUNC('month', p.creation_date)::date DESC;\n",
    "'''"
   ]
  },
  {
   "cell_type": "markdown",
   "id": "e239ec9e-f790-426e-99f3-490f2cdc4a5f",
   "metadata": {},
   "source": [
    "## Задача 17. \n",
    "\n",
    "Используя данные о постах, выведите несколько полей:\n",
    "- идентификатор пользователя, который написал пост;\n",
    "- дата создания поста;\n",
    "- количество просмотров у текущего поста;\n",
    "- сумму просмотров постов автора с накоплением.\n",
    "\n",
    "\n",
    "Данные в таблице должны быть отсортированы по возрастанию идентификаторов пользователей, а данные об одном и том же пользователе — по возрастанию даты создания поста."
   ]
  },
  {
   "cell_type": "code",
   "execution_count": 16,
   "id": "3ca3e96a-1c6a-4c17-80ae-082bdaddb792",
   "metadata": {},
   "outputs": [
    {
     "data": {
      "text/plain": [
       "'\\nSELECT\\n      user_id,\\n      creation_date,\\n      views_count,\\n      SUM(views_count) OVER(PARTITION BY user_id ORDER BY creation_date)\\n\\nFROM stackoverflow.posts\\n'"
      ]
     },
     "execution_count": 16,
     "metadata": {},
     "output_type": "execute_result"
    }
   ],
   "source": [
    "'''\n",
    "SELECT\n",
    "      user_id,\n",
    "      creation_date,\n",
    "      views_count,\n",
    "      SUM(views_count) OVER(PARTITION BY user_id ORDER BY creation_date)\n",
    "\n",
    "FROM stackoverflow.posts\n",
    "'''"
   ]
  },
  {
   "cell_type": "markdown",
   "id": "76f5fb27-4ea6-4de0-8024-c82df122e530",
   "metadata": {},
   "source": [
    "## Задача 18. \n",
    "\n",
    "Сколько в среднем дней в период с 1 по 7 декабря 2008 года включительно пользователи взаимодействовали с платформой? Для каждого пользователя отберите дни, в которые он или она опубликовали хотя бы один пост. Нужно получить одно целое число — не забудьте округлить результат"
   ]
  },
  {
   "cell_type": "code",
   "execution_count": 18,
   "id": "03a1b002-0680-4ac8-9d3d-abd483d8dbe3",
   "metadata": {},
   "outputs": [
    {
     "data": {
      "text/plain": [
       "\"\\nWITH ad AS (SELECT user_id,\\n                   COUNT(DISTINCT creation_date::date)  AS cnt\\n            FROM stackoverflow.posts\\n            WHERE creation_date::date BETWEEN '2008-12-01' AND '2008-12-07' \\n            GROUP BY user_id)\\n\\nSELECT ROUND(AVG(ad.cnt))\\nFROM ad;\\n\""
      ]
     },
     "execution_count": 18,
     "metadata": {},
     "output_type": "execute_result"
    }
   ],
   "source": [
    "'''\n",
    "WITH ad AS (SELECT user_id,\n",
    "                   COUNT(DISTINCT creation_date::date)  AS cnt\n",
    "            FROM stackoverflow.posts\n",
    "            WHERE creation_date::date BETWEEN '2008-12-01' AND '2008-12-07' \n",
    "            GROUP BY user_id)\n",
    "\n",
    "SELECT ROUND(AVG(ad.cnt))\n",
    "FROM ad;\n",
    "'''"
   ]
  },
  {
   "cell_type": "markdown",
   "id": "ae9b27e8-d655-4d1e-9707-f245513403d8",
   "metadata": {},
   "source": [
    "## Задача 19. \n",
    "\n",
    "На сколько процентов менялось количество постов ежемесячно с 1 сентября по 31 декабря 2008 года? Отобразите таблицу со следующими полями:\n",
    "- номер месяца;\n",
    "- количество постов за месяц;\n",
    "- процент, который показывает, насколько изменилось количество постов в текущем месяце по сравнению с предыдущим.\n",
    "\n",
    "\n",
    "Если постов стало меньше, значение процента должно быть отрицательным, если больше — положительным. Округлите значение процента до двух знаков после запятой.\n",
    "Напомним, что при делении одного целого числа на другое в PostgreSQL в результате получится целое число, округлённое до ближайшего целого вниз. Чтобы этого избежать, переведите делимое в тип numeric."
   ]
  },
  {
   "cell_type": "code",
   "execution_count": 19,
   "id": "e58316d1-061f-4212-811f-3c1b7ba77957",
   "metadata": {},
   "outputs": [
    {
     "data": {
      "text/plain": [
       "\"\\nSELECT\\n      EXTRACT(MONTH FROM CAST(creation_date AS date)),\\n      COUNT(id) AS zzz,\\n      ROUND(((COUNT(id) :: numeric / LAG(COUNT(id)) OVER()) - 1) * 100,2)\\n      \\n      \\nFROM stackoverflow.posts\\n\\nWHERE CAST(DATE_TRUNC('MONTH', creation_date) AS date) BETWEEN '2008-09-01' AND '2008-12-31'\\n\\nGROUP BY EXTRACT(MONTH FROM CAST(creation_date AS date))\\n\""
      ]
     },
     "execution_count": 19,
     "metadata": {},
     "output_type": "execute_result"
    }
   ],
   "source": [
    "'''\n",
    "SELECT\n",
    "      EXTRACT(MONTH FROM CAST(creation_date AS date)),\n",
    "      COUNT(id) AS zzz,\n",
    "      ROUND(((COUNT(id) :: numeric / LAG(COUNT(id)) OVER()) - 1) * 100,2)\n",
    "      \n",
    "      \n",
    "FROM stackoverflow.posts\n",
    "\n",
    "WHERE CAST(DATE_TRUNC('MONTH', creation_date) AS date) BETWEEN '2008-09-01' AND '2008-12-31'\n",
    "\n",
    "GROUP BY EXTRACT(MONTH FROM CAST(creation_date AS date))\n",
    "'''"
   ]
  },
  {
   "cell_type": "markdown",
   "id": "fd12f5e4-3f37-4298-b4a8-55903dc59fc8",
   "metadata": {},
   "source": [
    "## Задача 20. \n",
    "\n",
    "На сколько процентов менялось количество постов ежемесячно с 1 сентября по 31 декабря 2008 года? Отобразите таблицу со следующими полями:\n",
    "- номер месяца;\n",
    "- количество постов за месяц;\n",
    "- процент, который показывает, насколько изменилось количество постов в текущем месяце по сравнению с предыдущим.\n",
    "\n",
    "\n",
    "Если постов стало меньше, значение процента должно быть отрицательным, если больше — положительным. Округлите значение процента до двух знаков после запятой.\n",
    "Напомним, что при делении одного целого числа на другое в PostgreSQL в результате получится целое число, округлённое до ближайшего целого вниз. Чтобы этого избежать, переведите делимое в тип numeric."
   ]
  },
  {
   "cell_type": "code",
   "execution_count": null,
   "id": "68b73c9f-eb87-4a5f-992d-9074986a0474",
   "metadata": {},
   "outputs": [],
   "source": []
  }
 ],
 "metadata": {
  "kernelspec": {
   "display_name": "Python 3 (ipykernel)",
   "language": "python",
   "name": "python3"
  },
  "language_info": {
   "codemirror_mode": {
    "name": "ipython",
    "version": 3
   },
   "file_extension": ".py",
   "mimetype": "text/x-python",
   "name": "python",
   "nbconvert_exporter": "python",
   "pygments_lexer": "ipython3",
   "version": "3.10.9"
  }
 },
 "nbformat": 4,
 "nbformat_minor": 5
}
