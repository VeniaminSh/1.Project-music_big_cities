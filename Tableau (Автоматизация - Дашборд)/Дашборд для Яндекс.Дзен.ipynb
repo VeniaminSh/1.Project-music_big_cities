{
 "cells": [
  {
   "cell_type": "markdown",
   "id": "ccb695bc-2769-46ac-b090-13388ecbda07",
   "metadata": {},
   "source": [
    "# Дашборд для Яндекс.Дзен"
   ]
  },
  {
   "cell_type": "markdown",
   "id": "e2366e0c-d106-48a0-96e8-de06525d6e03",
   "metadata": {},
   "source": [
    "**Описание проекта**"
   ]
  },
  {
   "cell_type": "markdown",
   "id": "a75ea95f-cf1e-4e41-921e-6b1f2aed3ba0",
   "metadata": {},
   "source": [
    "Почти все время у аналитика занимает анализ пользовательского взаимодействия с карточками статей. "
   ]
  },
  {
   "cell_type": "markdown",
   "id": "b75fa1b2-e7e8-4f85-84c0-2947958f844b",
   "metadata": {},
   "source": [
    "Каждую карточку определяют её тема и источник (у него тоже есть тема). Примеры тем: «Красота и здоровье», «Россия», «Путешествия».\n",
    "Пользователей системы характеризует возрастная категория. Скажем, «26-30» или «45+».\n",
    "\n",
    "Есть три способа взаимодействия пользователей с системой:\n",
    "* Карточка отображена для пользователя (show);\n",
    "* Пользователь кликнул на карточку (click);\n",
    "* Пользователь просмотрел статью карточки (view).\n",
    "\n",
    "Каждую неделю менеджеры задают одни и те же вопросы: \n",
    "* Сколько взаимодействий пользователей с карточками происходит в системе с разбивкой по темам карточек?\n",
    "* Как много карточек генерируют источники с разными темами?\n",
    "* Как соотносятся темы карточек и темы источников?\n",
    "\n",
    "**Цель проекта** \n",
    "\n",
    "построение дашборда для анализа взаимодействия менеджеров с карточками статей. "
   ]
  },
  {
   "cell_type": "markdown",
   "id": "90ef392a-714d-4dae-a655-d2abe22f9dfb",
   "metadata": {},
   "source": [
    "Дашборд будет основываться на пайплайне, который будет брать данные из таблицы, в которых хранятся сырые данные, трансформировать данные и укладывать их в агрегирующую таблицу."
   ]
  },
  {
   "cell_type": "markdown",
   "id": "fb235f90-cec1-40f4-b168-c0e03d3ca828",
   "metadata": {},
   "source": [
    "Состав данных для дашборда:\n",
    "* История событий по темам карточек (два графика - абсолютные числа и процентное соотношение);\n",
    "* Разбивка событий по темам источников;\n",
    "* Таблица соответствия тем источников темам карточек;"
   ]
  },
  {
   "cell_type": "markdown",
   "id": "d35d3567-1827-47fd-8093-3d10a0b454ea",
   "metadata": {},
   "source": [
    "Параметры группировки данных:\n",
    "* Дата и время;\n",
    "* Тема карточки;\n",
    "* Тема источника;\n",
    "* Возрастная группа;"
   ]
  },
  {
   "cell_type": "markdown",
   "id": "eec78755-e7b1-456e-8d34-323853500c96",
   "metadata": {},
   "source": [
    "Характер данных:\n",
    "* История событий по темам карточек — абсолютные величины с разбивкой по минутам;\n",
    "* Разбивка событий по темам источников — относительные величины (% событий);\n",
    "* Соответствия тем источников темам карточек - абсолютные величины;"
   ]
  },
  {
   "cell_type": "markdown",
   "id": "a14d56df-9211-4410-aa37-f7cc69674b5b",
   "metadata": {},
   "source": [
    "## Подготовка данных"
   ]
  },
  {
   "cell_type": "code",
   "execution_count": 4,
   "id": "d3228551-267f-4ae6-b863-7737e7be921e",
   "metadata": {},
   "outputs": [
    {
     "data": {
      "text/html": [
       "<div>\n",
       "<style scoped>\n",
       "    .dataframe tbody tr th:only-of-type {\n",
       "        vertical-align: middle;\n",
       "    }\n",
       "\n",
       "    .dataframe tbody tr th {\n",
       "        vertical-align: top;\n",
       "    }\n",
       "\n",
       "    .dataframe thead th {\n",
       "        text-align: right;\n",
       "    }\n",
       "</style>\n",
       "<table border=\"1\" class=\"dataframe\">\n",
       "  <thead>\n",
       "    <tr style=\"text-align: right;\">\n",
       "      <th></th>\n",
       "      <th>record_id</th>\n",
       "      <th>item_topic</th>\n",
       "      <th>source_topic</th>\n",
       "      <th>age_segment</th>\n",
       "      <th>dt</th>\n",
       "      <th>visits</th>\n",
       "    </tr>\n",
       "  </thead>\n",
       "  <tbody>\n",
       "    <tr>\n",
       "      <th>0</th>\n",
       "      <td>1040597</td>\n",
       "      <td>Деньги</td>\n",
       "      <td>Авто</td>\n",
       "      <td>18-25</td>\n",
       "      <td>2019-09-24 18:32:00</td>\n",
       "      <td>3</td>\n",
       "    </tr>\n",
       "    <tr>\n",
       "      <th>1</th>\n",
       "      <td>1040598</td>\n",
       "      <td>Деньги</td>\n",
       "      <td>Авто</td>\n",
       "      <td>18-25</td>\n",
       "      <td>2019-09-24 18:35:00</td>\n",
       "      <td>1</td>\n",
       "    </tr>\n",
       "    <tr>\n",
       "      <th>2</th>\n",
       "      <td>1040599</td>\n",
       "      <td>Деньги</td>\n",
       "      <td>Авто</td>\n",
       "      <td>18-25</td>\n",
       "      <td>2019-09-24 18:54:00</td>\n",
       "      <td>4</td>\n",
       "    </tr>\n",
       "    <tr>\n",
       "      <th>3</th>\n",
       "      <td>1040600</td>\n",
       "      <td>Деньги</td>\n",
       "      <td>Авто</td>\n",
       "      <td>18-25</td>\n",
       "      <td>2019-09-24 18:55:00</td>\n",
       "      <td>17</td>\n",
       "    </tr>\n",
       "    <tr>\n",
       "      <th>4</th>\n",
       "      <td>1040601</td>\n",
       "      <td>Деньги</td>\n",
       "      <td>Авто</td>\n",
       "      <td>18-25</td>\n",
       "      <td>2019-09-24 18:56:00</td>\n",
       "      <td>27</td>\n",
       "    </tr>\n",
       "    <tr>\n",
       "      <th>...</th>\n",
       "      <td>...</td>\n",
       "      <td>...</td>\n",
       "      <td>...</td>\n",
       "      <td>...</td>\n",
       "      <td>...</td>\n",
       "      <td>...</td>\n",
       "    </tr>\n",
       "    <tr>\n",
       "      <th>30740</th>\n",
       "      <td>1071337</td>\n",
       "      <td>Юмор</td>\n",
       "      <td>Финансы</td>\n",
       "      <td>36-40</td>\n",
       "      <td>2019-09-24 18:57:00</td>\n",
       "      <td>2</td>\n",
       "    </tr>\n",
       "    <tr>\n",
       "      <th>30741</th>\n",
       "      <td>1071338</td>\n",
       "      <td>Юмор</td>\n",
       "      <td>Финансы</td>\n",
       "      <td>36-40</td>\n",
       "      <td>2019-09-24 19:00:00</td>\n",
       "      <td>1</td>\n",
       "    </tr>\n",
       "    <tr>\n",
       "      <th>30742</th>\n",
       "      <td>1071339</td>\n",
       "      <td>Юмор</td>\n",
       "      <td>Финансы</td>\n",
       "      <td>41-45</td>\n",
       "      <td>2019-09-24 18:54:00</td>\n",
       "      <td>1</td>\n",
       "    </tr>\n",
       "    <tr>\n",
       "      <th>30743</th>\n",
       "      <td>1071340</td>\n",
       "      <td>Юмор</td>\n",
       "      <td>Финансы</td>\n",
       "      <td>41-45</td>\n",
       "      <td>2019-09-24 18:56:00</td>\n",
       "      <td>1</td>\n",
       "    </tr>\n",
       "    <tr>\n",
       "      <th>30744</th>\n",
       "      <td>1071341</td>\n",
       "      <td>Юмор</td>\n",
       "      <td>Финансы</td>\n",
       "      <td>41-45</td>\n",
       "      <td>2019-09-24 19:00:00</td>\n",
       "      <td>1</td>\n",
       "    </tr>\n",
       "  </tbody>\n",
       "</table>\n",
       "<p>30745 rows × 6 columns</p>\n",
       "</div>"
      ],
      "text/plain": [
       "       record_id item_topic source_topic age_segment                  dt  \\\n",
       "0        1040597     Деньги         Авто       18-25 2019-09-24 18:32:00   \n",
       "1        1040598     Деньги         Авто       18-25 2019-09-24 18:35:00   \n",
       "2        1040599     Деньги         Авто       18-25 2019-09-24 18:54:00   \n",
       "3        1040600     Деньги         Авто       18-25 2019-09-24 18:55:00   \n",
       "4        1040601     Деньги         Авто       18-25 2019-09-24 18:56:00   \n",
       "...          ...        ...          ...         ...                 ...   \n",
       "30740    1071337       Юмор      Финансы       36-40 2019-09-24 18:57:00   \n",
       "30741    1071338       Юмор      Финансы       36-40 2019-09-24 19:00:00   \n",
       "30742    1071339       Юмор      Финансы       41-45 2019-09-24 18:54:00   \n",
       "30743    1071340       Юмор      Финансы       41-45 2019-09-24 18:56:00   \n",
       "30744    1071341       Юмор      Финансы       41-45 2019-09-24 19:00:00   \n",
       "\n",
       "       visits  \n",
       "0           3  \n",
       "1           1  \n",
       "2           4  \n",
       "3          17  \n",
       "4          27  \n",
       "...       ...  \n",
       "30740       2  \n",
       "30741       1  \n",
       "30742       1  \n",
       "30743       1  \n",
       "30744       1  \n",
       "\n",
       "[30745 rows x 6 columns]"
      ]
     },
     "execution_count": 4,
     "metadata": {},
     "output_type": "execute_result"
    }
   ],
   "source": [
    "import pandas as pd\n",
    "from sqlalchemy import create_engine\n",
    "db_config = {'user': 'praktikum_student', # имя пользователя\n",
    "            'pwd': 'Sdf4$2;d-d30pp', # пароль\n",
    "            'host': 'rc1b-wcoijxj3yxfsf3fs.mdb.yandexcloud.net',\n",
    "            'port': 6432, # порт подключения\n",
    "            'db': 'data-analyst-zen-project-db'} # название базы данных\n",
    "connection_string = 'postgresql://{}:{}@{}:{}/{}'.format(db_config['user'],\n",
    "                                                db_config['pwd'], db_config['host'], db_config['port'],\n",
    "                                                db_config['db'])\n",
    "engine = create_engine(connection_string) \n",
    "query = ''' SELECT *\n",
    "            FROM dash_visits\n",
    "        '''\n",
    "dash_visits = pd.io.sql.read_sql(query, con = engine) \n",
    "dash_visits"
   ]
  },
  {
   "cell_type": "code",
   "execution_count": 13,
   "id": "9dc7fa5c-c8dc-4b4b-bc40-febfd4d837a0",
   "metadata": {},
   "outputs": [],
   "source": [
    "#запись данных в таблицу\n",
    "dash_visits.to_csv(\"~/cert/dash_visits.csv\")"
   ]
  },
  {
   "cell_type": "markdown",
   "id": "0c65f4bf-708d-4ab0-9be4-b08a86eb2107",
   "metadata": {},
   "source": [
    "## Дашборд"
   ]
  },
  {
   "cell_type": "markdown",
   "id": "4ed93e24-62d8-4d0d-9b56-d766ce10088d",
   "metadata": {},
   "source": [
    "https://public.tableau.com/app/profile/veniamin.shendogan/viz/ProjectYa_Dzen/Dashboard1?publish=yes"
   ]
  },
  {
   "cell_type": "markdown",
   "id": "9fdf6c0a-ecfc-4eed-b52e-c362f1983c51",
   "metadata": {},
   "source": [
    "## Презентация"
   ]
  },
  {
   "cell_type": "markdown",
   "id": "d3642b3d-d91e-47b1-b95c-1f6cde19a5e4",
   "metadata": {},
   "source": [
    "https://disk.yandex.ru/i/LVj7oDE3IiuclA"
   ]
  },
  {
   "cell_type": "markdown",
   "id": "8fd0afbe-3ced-49a9-8472-67cb5533ab17",
   "metadata": {},
   "source": [
    "## Вывод:\n",
    "* Cколько взаимодействий пользователей с карточками происходит в системе с разбивкой по темам карточек?\n",
    "\n",
    "Выделим ТОП5 популярных топиков - Наука 21 736 пользователей, Отношения 20 666 пользователей, Интересные факты 19 942, Общество 19 640, Подборки 17 772.\n",
    "\n",
    "Менее поплярные являются топики - Знаменитости 7 394, Шоу 7 551, Женская психология 7 737\n",
    "\n",
    "\n",
    "* Как много карточек генерируют источники с разными темами?\n",
    "\n",
    "Топик \"Семейные отношения\" генерит 33 309 карточек\n",
    "Топик \"Россия\" генерит 29 831 карточек\n",
    "Топик \"ПОлезные советы\" 27 412 карточек\n",
    "\n",
    "* Как соотносятся темы карточек и темы источников?\n",
    "\n",
    "Больше всего карточек сгенерировано на топик Путешествия тема Рассказы 4 587.\n",
    "На втором месте идет топик Россия с темой Общество 3 471.\n",
    "На третьем месте топик Кино с темой Наука 3 279."
   ]
  },
  {
   "cell_type": "markdown",
   "id": "8080ee26-b01f-44dc-b0c9-ac871b9d4470",
   "metadata": {},
   "source": [
    "*Контакты:*\n",
    "\n",
    "**ТГ** - @Veniamin_Al\n",
    "\n",
    "**Mail** - v.shendogan@gmail.com"
   ]
  }
 ],
 "metadata": {
  "kernelspec": {
   "display_name": "Python 3 (ipykernel)",
   "language": "python",
   "name": "python3"
  },
  "language_info": {
   "codemirror_mode": {
    "name": "ipython",
    "version": 3
   },
   "file_extension": ".py",
   "mimetype": "text/x-python",
   "name": "python",
   "nbconvert_exporter": "python",
   "pygments_lexer": "ipython3",
   "version": "3.10.9"
  }
 },
 "nbformat": 4,
 "nbformat_minor": 5
}
