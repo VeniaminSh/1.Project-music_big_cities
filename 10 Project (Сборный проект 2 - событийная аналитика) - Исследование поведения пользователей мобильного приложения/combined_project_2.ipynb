{
 "cells": [
  {
   "cell_type": "markdown",
   "id": "d780563f",
   "metadata": {
    "toc": true
   },
   "source": [
    "<h1>Сборный проект 2 - событийная аналитика<span class=\"tocSkip\"></span></h1>\n",
    "<div class=\"toc\"><ul class=\"toc-item\"><li><span><a href=\"#Шаг.-Изучение-общей-информации\" data-toc-modified-id=\"Шаг.-Изучение-общей-информации-1\"><span class=\"toc-item-num\">1&nbsp;&nbsp;</span>Шаг. Изучение общей информации</a></span><ul class=\"toc-item\"><li><span><a href=\"#Рассмотрим-примечательные-характеристики-каждого-столбца\" data-toc-modified-id=\"Рассмотрим-примечательные-характеристики-каждого-столбца-1.1\"><span class=\"toc-item-num\">1.1&nbsp;&nbsp;</span>Рассмотрим примечательные характеристики каждого столбца</a></span></li></ul></li><li><span><a href=\"#Шаг.-Подготовка-данных\" data-toc-modified-id=\"Шаг.-Подготовка-данных-2\"><span class=\"toc-item-num\">2&nbsp;&nbsp;</span>Шаг. Подготовка данных</a></span></li><li><span><a href=\"#Шаг.-Изучение-и-проверка-данных\" data-toc-modified-id=\"Шаг.-Изучение-и-проверка-данных-3\"><span class=\"toc-item-num\">3&nbsp;&nbsp;</span>Шаг. Изучение и проверка данных</a></span><ul class=\"toc-item\"><li><span><a href=\"#Сколько-всего-событий-в-логе?\" data-toc-modified-id=\"Сколько-всего-событий-в-логе?-3.1\"><span class=\"toc-item-num\">3.1&nbsp;&nbsp;</span>Сколько всего событий в логе?</a></span></li><li><span><a href=\"#Сколько-всего-пользователей-в-логе?\" data-toc-modified-id=\"Сколько-всего-пользователей-в-логе?-3.2\"><span class=\"toc-item-num\">3.2&nbsp;&nbsp;</span>Сколько всего пользователей в логе?</a></span></li><li><span><a href=\"#Сколько-в-среднем-событий-приходится-на-пользователя?\" data-toc-modified-id=\"Сколько-в-среднем-событий-приходится-на-пользователя?-3.3\"><span class=\"toc-item-num\">3.3&nbsp;&nbsp;</span>Сколько в среднем событий приходится на пользователя?</a></span></li><li><span><a href=\"#Данными-за-какой-период-вы-располагаете?-Найдите-максимальную-и-минимальную-дату.-Постройте-гистограмму-по-дате-и-времени.-Можно-ли-быть-уверенным,-что-у-вас-одинаково-полные-данные-за-весь-период?-Данными-за-какой-период-времени-вы-располагаете-на-самом-деле?\" data-toc-modified-id=\"Данными-за-какой-период-вы-располагаете?-Найдите-максимальную-и-минимальную-дату.-Постройте-гистограмму-по-дате-и-времени.-Можно-ли-быть-уверенным,-что-у-вас-одинаково-полные-данные-за-весь-период?-Данными-за-какой-период-времени-вы-располагаете-на-самом-деле?-3.4\"><span class=\"toc-item-num\">3.4&nbsp;&nbsp;</span>Данными за какой период вы располагаете? Найдите максимальную и минимальную дату. Постройте гистограмму по дате и времени. Можно ли быть уверенным, что у вас одинаково полные данные за весь период? Данными за какой период времени вы располагаете на самом деле?</a></span></li><li><span><a href=\"#Посчитаем-кол-во-событий-и-пользователей,-которых-мы-потеряли,-отбросив-старые-данные.\" data-toc-modified-id=\"Посчитаем-кол-во-событий-и-пользователей,-которых-мы-потеряли,-отбросив-старые-данные.-3.5\"><span class=\"toc-item-num\">3.5&nbsp;&nbsp;</span>Посчитаем кол-во событий и пользователей, которых мы потеряли, отбросив старые данные.</a></span><ul class=\"toc-item\"><li><span><a href=\"#Потерянные-события\" data-toc-modified-id=\"Потерянные-события-3.5.1\"><span class=\"toc-item-num\">3.5.1&nbsp;&nbsp;</span>Потерянные события</a></span></li><li><span><a href=\"#Потерянные-пользователи\" data-toc-modified-id=\"Потерянные-пользователи-3.5.2\"><span class=\"toc-item-num\">3.5.2&nbsp;&nbsp;</span>Потерянные пользователи</a></span></li><li><span><a href=\"#Проверим,-есть-ли-пользователи-из-всех-трёх-экспериментальных-групп.\" data-toc-modified-id=\"Проверим,-есть-ли-пользователи-из-всех-трёх-экспериментальных-групп.-3.5.3\"><span class=\"toc-item-num\">3.5.3&nbsp;&nbsp;</span>Проверим, есть ли пользователи из всех трёх экспериментальных групп.</a></span></li></ul></li></ul></li><li><span><a href=\"#Шаг.-Изучим-воронку-событий\" data-toc-modified-id=\"Шаг.-Изучим-воронку-событий-4\"><span class=\"toc-item-num\">4&nbsp;&nbsp;</span>Шаг. Изучим воронку событий</a></span><ul class=\"toc-item\"><li><span><a href=\"#Посмотрите,-какие-события-есть-в-логах,-как-часто-они-встречаются.-Отсортируйте-события-по-частоте.\" data-toc-modified-id=\"Посмотрите,-какие-события-есть-в-логах,-как-часто-они-встречаются.-Отсортируйте-события-по-частоте.-4.1\"><span class=\"toc-item-num\">4.1&nbsp;&nbsp;</span>Посмотрите, какие события есть в логах, как часто они встречаются. Отсортируйте события по частоте.</a></span></li><li><span><a href=\"#Посчитаем,-сколько-пользователей-совершали-каждое-из-этих-событий.-Отсортируем-события-по-числу-пользователей.-Посчитаем-долю-пользователей,-которые-хоть-раз-совершали-событие.\" data-toc-modified-id=\"Посчитаем,-сколько-пользователей-совершали-каждое-из-этих-событий.-Отсортируем-события-по-числу-пользователей.-Посчитаем-долю-пользователей,-которые-хоть-раз-совершали-событие.-4.2\"><span class=\"toc-item-num\">4.2&nbsp;&nbsp;</span>Посчитаем, сколько пользователей совершали каждое из этих событий. Отсортируем события по числу пользователей. Посчитаем долю пользователей, которые хоть раз совершали событие.</a></span></li><li><span><a href=\"#Предположим,-в-каком-порядке-происходят-события.-Все-ли-они-выстраиваются-в-последовательную-цепочку?-Их-не-нужно-учитывать-при-расчёте-воронки.\" data-toc-modified-id=\"Предположим,-в-каком-порядке-происходят-события.-Все-ли-они-выстраиваются-в-последовательную-цепочку?-Их-не-нужно-учитывать-при-расчёте-воронки.-4.3\"><span class=\"toc-item-num\">4.3&nbsp;&nbsp;</span>Предположим, в каком порядке происходят события. Все ли они выстраиваются в последовательную цепочку? Их не нужно учитывать при расчёте воронки.</a></span></li><li><span><a href=\"#По-воронке-событий-посчитаем,-какая-доля-пользователей-проходит-на-следующий-шаг-воронки-(от-числа-пользователей-на-предыдущем).-То-есть-для-последовательности-событий-A-→-B-→-C-посчитайте-отношение-числа-пользователей-с-событием-B-к-количеству-пользователей-с-событием-A,-а-также-отношение-числа-пользователей-с-событием-C-к-количеству-пользователей-с-событием-B.\" data-toc-modified-id=\"По-воронке-событий-посчитаем,-какая-доля-пользователей-проходит-на-следующий-шаг-воронки-(от-числа-пользователей-на-предыдущем).-То-есть-для-последовательности-событий-A-→-B-→-C-посчитайте-отношение-числа-пользователей-с-событием-B-к-количеству-пользователей-с-событием-A,-а-также-отношение-числа-пользователей-с-событием-C-к-количеству-пользователей-с-событием-B.-4.4\"><span class=\"toc-item-num\">4.4&nbsp;&nbsp;</span>По воронке событий посчитаем, какая доля пользователей проходит на следующий шаг воронки (от числа пользователей на предыдущем). То есть для последовательности событий A → B → C посчитайте отношение числа пользователей с событием B к количеству пользователей с событием A, а также отношение числа пользователей с событием C к количеству пользователей с событием B.</a></span></li><li><span><a href=\"#Какая-доля-пользователей-доходит-от-первого-события-до-оплаты?\" data-toc-modified-id=\"Какая-доля-пользователей-доходит-от-первого-события-до-оплаты?-4.5\"><span class=\"toc-item-num\">4.5&nbsp;&nbsp;</span>Какая доля пользователей доходит от первого события до оплаты?</a></span></li></ul></li><li><span><a href=\"#Шаг.-Изучим-результаты-эксперимента\" data-toc-modified-id=\"Шаг.-Изучим-результаты-эксперимента-5\"><span class=\"toc-item-num\">5&nbsp;&nbsp;</span>Шаг. Изучим результаты эксперимента</a></span><ul class=\"toc-item\"><li><span><a href=\"#Сколько-пользователей-в-каждой-экспериментальной-группе?\" data-toc-modified-id=\"Сколько-пользователей-в-каждой-экспериментальной-группе?-5.1\"><span class=\"toc-item-num\">5.1&nbsp;&nbsp;</span>Сколько пользователей в каждой экспериментальной группе?</a></span></li><li><span><a href=\"#Есть-2-контрольные-группы-для-А/А-эксперимента,-чтобы-проверить-корректность-всех-механизмов-и-расчётов.-Проверьте,-находят-ли-статистические-критерии-разницу-между-выборками-246-и-247.\" data-toc-modified-id=\"Есть-2-контрольные-группы-для-А/А-эксперимента,-чтобы-проверить-корректность-всех-механизмов-и-расчётов.-Проверьте,-находят-ли-статистические-критерии-разницу-между-выборками-246-и-247.-5.2\"><span class=\"toc-item-num\">5.2&nbsp;&nbsp;</span>Есть 2 контрольные группы для А/А-эксперимента, чтобы проверить корректность всех механизмов и расчётов. Проверьте, находят ли статистические критерии разницу между выборками 246 и 247.</a></span></li></ul></li><li><span><a href=\"#Шаг.-Результаты-эксперимента\" data-toc-modified-id=\"Шаг.-Результаты-эксперимента-6\"><span class=\"toc-item-num\">6&nbsp;&nbsp;</span>Шаг. Результаты эксперимента</a></span></li></ul></div>"
   ]
  },
  {
   "cell_type": "markdown",
   "id": "9caceb9a",
   "metadata": {},
   "source": [
    "**Описание проекта**\n",
    "Представленны данные компании, которая продаёт продукты питания через мобильное приложение. Нужно разобраться, как ведут себя пользователи мобильного приложения. \n",
    "\n",
    "**Цели проекта:**\n",
    "* 1. Изучить воронку продаж. Узнать, как пользователи доходят до покупки. \n",
    "* 2. Выяснить, какой шрифт лучше - по результатам проведения АВ теста.\n",
    "\n",
    "Задачи, которые будут рассмотрены в рамках первой цели:\n",
    "* Сколько пользователей доходит до покупки.\n",
    "* Сколько пользователей «застревает» на предыдущих шагах, обозначить на каких именно.\n",
    "\n",
    "Задачи, которые будут рассмотрены в рамках первой цели:\n",
    "* Исследование результатов A/A/B-эксперимента    \n",
    "\n",
    "Описание второй цели: \n",
    "\n",
    "*Дизайнеры захотели поменять шрифты во всём приложении, а менеджеры испугались, что пользователям будет непривычно. Договорились принять решение по результатам A/A/B-теста. Пользователей разбили на 3 группы: 2 контрольные со старыми шрифтами и одну экспериментальную — с новыми.*"
   ]
  },
  {
   "cell_type": "markdown",
   "id": "642e2838",
   "metadata": {},
   "source": [
    "**Весь проект разбит на 5 шагов:**\n",
    "* Шаг 1. Изучение общей информации\n",
    "* Шаг 2. Подготовка данных\n",
    "* Шаг 3. Изучение и проверка данных\n",
    "* Шаг 4. Изучение воронки событий\n",
    "* Шаг 5. Изучение результатов эксперимента"
   ]
  },
  {
   "cell_type": "markdown",
   "id": "fd5c6cb8",
   "metadata": {},
   "source": [
    "**Описание данных**"
   ]
  },
  {
   "cell_type": "markdown",
   "id": "e290963a",
   "metadata": {},
   "source": [
    "Представлен датассет `logs_exp.csv` с данными:\n",
    "* `EventName`— название события;\n",
    "\n",
    "* `DeviceIDHash` — уникальный идентификатор пользователя;\n",
    "* `EventTimestamp` — время события;\n",
    "* `ExpId` — номер эксперимента: 246 и 247 — контрольные группы, а 248 — экспериментальная.    "
   ]
  },
  {
   "cell_type": "code",
   "execution_count": 38,
   "id": "cc6fd78d",
   "metadata": {},
   "outputs": [],
   "source": [
    "#импортируем все библиотеки для работы с данными\n",
    "import pandas as pd\n",
    "import matplotlib.pyplot as plt\n",
    "import seaborn as sns\n",
    "import datetime as dt\n",
    "import numpy as np\n",
    "import scipy.stats as st\n",
    "import requests\n",
    "from urllib.parse import urlencode\n",
    "from pandas.plotting import register_matplotlib_converters\n",
    "import warnings\n",
    "from plotly import graph_objects as go\n",
    "# конвертеры, которые позволяют использовать типы pandas в matplotlib  \n",
    "register_matplotlib_converters()"
   ]
  },
  {
   "cell_type": "markdown",
   "id": "437f8da0",
   "metadata": {},
   "source": [
    "## Шаг. Изучение общей информации"
   ]
  },
  {
   "cell_type": "markdown",
   "id": "a7417059",
   "metadata": {},
   "source": [
    "Откроем датассет `logs_exp` для предварителього ознакомления. "
   ]
  },
  {
   "cell_type": "code",
   "execution_count": 39,
   "id": "8436f72c",
   "metadata": {},
   "outputs": [
    {
     "data": {
      "text/html": [
       "<div>\n",
       "<style scoped>\n",
       "    .dataframe tbody tr th:only-of-type {\n",
       "        vertical-align: middle;\n",
       "    }\n",
       "\n",
       "    .dataframe tbody tr th {\n",
       "        vertical-align: top;\n",
       "    }\n",
       "\n",
       "    .dataframe thead th {\n",
       "        text-align: right;\n",
       "    }\n",
       "</style>\n",
       "<table border=\"1\" class=\"dataframe\">\n",
       "  <thead>\n",
       "    <tr style=\"text-align: right;\">\n",
       "      <th></th>\n",
       "      <th>EventName</th>\n",
       "      <th>DeviceIDHash</th>\n",
       "      <th>EventTimestamp</th>\n",
       "      <th>ExpId</th>\n",
       "    </tr>\n",
       "  </thead>\n",
       "  <tbody>\n",
       "    <tr>\n",
       "      <th>0</th>\n",
       "      <td>MainScreenAppear</td>\n",
       "      <td>4575588528974610257</td>\n",
       "      <td>1564029816</td>\n",
       "      <td>246</td>\n",
       "    </tr>\n",
       "    <tr>\n",
       "      <th>1</th>\n",
       "      <td>MainScreenAppear</td>\n",
       "      <td>7416695313311560658</td>\n",
       "      <td>1564053102</td>\n",
       "      <td>246</td>\n",
       "    </tr>\n",
       "    <tr>\n",
       "      <th>2</th>\n",
       "      <td>PaymentScreenSuccessful</td>\n",
       "      <td>3518123091307005509</td>\n",
       "      <td>1564054127</td>\n",
       "      <td>248</td>\n",
       "    </tr>\n",
       "    <tr>\n",
       "      <th>3</th>\n",
       "      <td>CartScreenAppear</td>\n",
       "      <td>3518123091307005509</td>\n",
       "      <td>1564054127</td>\n",
       "      <td>248</td>\n",
       "    </tr>\n",
       "    <tr>\n",
       "      <th>4</th>\n",
       "      <td>PaymentScreenSuccessful</td>\n",
       "      <td>6217807653094995999</td>\n",
       "      <td>1564055322</td>\n",
       "      <td>248</td>\n",
       "    </tr>\n",
       "    <tr>\n",
       "      <th>...</th>\n",
       "      <td>...</td>\n",
       "      <td>...</td>\n",
       "      <td>...</td>\n",
       "      <td>...</td>\n",
       "    </tr>\n",
       "    <tr>\n",
       "      <th>244121</th>\n",
       "      <td>MainScreenAppear</td>\n",
       "      <td>4599628364049201812</td>\n",
       "      <td>1565212345</td>\n",
       "      <td>247</td>\n",
       "    </tr>\n",
       "    <tr>\n",
       "      <th>244122</th>\n",
       "      <td>MainScreenAppear</td>\n",
       "      <td>5849806612437486590</td>\n",
       "      <td>1565212439</td>\n",
       "      <td>246</td>\n",
       "    </tr>\n",
       "    <tr>\n",
       "      <th>244123</th>\n",
       "      <td>MainScreenAppear</td>\n",
       "      <td>5746969938801999050</td>\n",
       "      <td>1565212483</td>\n",
       "      <td>246</td>\n",
       "    </tr>\n",
       "    <tr>\n",
       "      <th>244124</th>\n",
       "      <td>MainScreenAppear</td>\n",
       "      <td>5746969938801999050</td>\n",
       "      <td>1565212498</td>\n",
       "      <td>246</td>\n",
       "    </tr>\n",
       "    <tr>\n",
       "      <th>244125</th>\n",
       "      <td>OffersScreenAppear</td>\n",
       "      <td>5746969938801999050</td>\n",
       "      <td>1565212517</td>\n",
       "      <td>246</td>\n",
       "    </tr>\n",
       "  </tbody>\n",
       "</table>\n",
       "<p>244126 rows × 4 columns</p>\n",
       "</div>"
      ],
      "text/plain": [
       "                      EventName         DeviceIDHash  EventTimestamp  ExpId\n",
       "0              MainScreenAppear  4575588528974610257      1564029816    246\n",
       "1              MainScreenAppear  7416695313311560658      1564053102    246\n",
       "2       PaymentScreenSuccessful  3518123091307005509      1564054127    248\n",
       "3              CartScreenAppear  3518123091307005509      1564054127    248\n",
       "4       PaymentScreenSuccessful  6217807653094995999      1564055322    248\n",
       "...                         ...                  ...             ...    ...\n",
       "244121         MainScreenAppear  4599628364049201812      1565212345    247\n",
       "244122         MainScreenAppear  5849806612437486590      1565212439    246\n",
       "244123         MainScreenAppear  5746969938801999050      1565212483    246\n",
       "244124         MainScreenAppear  5746969938801999050      1565212498    246\n",
       "244125       OffersScreenAppear  5746969938801999050      1565212517    246\n",
       "\n",
       "[244126 rows x 4 columns]"
      ]
     },
     "execution_count": 39,
     "metadata": {},
     "output_type": "execute_result"
    }
   ],
   "source": [
    "# используем api \n",
    "base_url = 'https://cloud-api.yandex.net/v1/disk/public/resources/download?' \n",
    "public_key = 'https://disk.yandex.ru/d/HBLIeWc-2y5Nxg' \n",
    " \n",
    "# получаем url \n",
    "final_url = base_url + urlencode(dict(public_key=public_key)) \n",
    "response = requests.get(final_url) \n",
    "download_url = response.json()['href'] \n",
    "\n",
    "# загружаем файл в hypothesis \n",
    "download_response = requests.get(download_url) \n",
    "logs = pd.read_csv(download_url, sep='\\t')\n",
    "\n",
    "#заранее расширим вывод содержимого ячеек\n",
    "pd.set_option('display.max_colwidth', 130)\n",
    "logs"
   ]
  },
  {
   "cell_type": "code",
   "execution_count": 40,
   "id": "44eee0b9",
   "metadata": {},
   "outputs": [
    {
     "name": "stdout",
     "output_type": "stream",
     "text": [
      "<class 'pandas.core.frame.DataFrame'>\n",
      "RangeIndex: 244126 entries, 0 to 244125\n",
      "Data columns (total 4 columns):\n",
      " #   Column          Non-Null Count   Dtype \n",
      "---  ------          --------------   ----- \n",
      " 0   EventName       244126 non-null  object\n",
      " 1   DeviceIDHash    244126 non-null  int64 \n",
      " 2   EventTimestamp  244126 non-null  int64 \n",
      " 3   ExpId           244126 non-null  int64 \n",
      "dtypes: int64(3), object(1)\n",
      "memory usage: 7.5+ MB\n"
     ]
    }
   ],
   "source": [
    "# Выведем основную информацию о датафрейме с помощью метода info()\n",
    "logs.info()"
   ]
  },
  {
   "cell_type": "code",
   "execution_count": 41,
   "id": "2705adc1",
   "metadata": {},
   "outputs": [
    {
     "data": {
      "text/plain": [
       "413"
      ]
     },
     "metadata": {},
     "output_type": "display_data"
    },
    {
     "data": {
      "text/plain": [
       "0"
      ]
     },
     "execution_count": 41,
     "metadata": {},
     "output_type": "execute_result"
    }
   ],
   "source": [
    "# Поиск полных дубликатов\n",
    "display(logs.duplicated().sum())\n",
    "\n",
    "#сразу удалим \n",
    "logs = logs.drop_duplicates().reset_index(drop=True)\n",
    "logs.duplicated().sum()"
   ]
  },
  {
   "cell_type": "markdown",
   "id": "ca119d4c",
   "metadata": {},
   "source": [
    "### Рассмотрим примечательные характеристики каждого столбца"
   ]
  },
  {
   "cell_type": "markdown",
   "id": "6d21a3a7",
   "metadata": {},
   "source": [
    "`EventName` <a id='section_id'></a>"
   ]
  },
  {
   "cell_type": "code",
   "execution_count": 42,
   "id": "f338ab01",
   "metadata": {},
   "outputs": [
    {
     "data": {
      "text/html": [
       "<div>\n",
       "<style scoped>\n",
       "    .dataframe tbody tr th:only-of-type {\n",
       "        vertical-align: middle;\n",
       "    }\n",
       "\n",
       "    .dataframe tbody tr th {\n",
       "        vertical-align: top;\n",
       "    }\n",
       "\n",
       "    .dataframe thead th {\n",
       "        text-align: right;\n",
       "    }\n",
       "</style>\n",
       "<table border=\"1\" class=\"dataframe\">\n",
       "  <thead>\n",
       "    <tr style=\"text-align: right;\">\n",
       "      <th></th>\n",
       "      <th>EventName</th>\n",
       "    </tr>\n",
       "  </thead>\n",
       "  <tbody>\n",
       "    <tr>\n",
       "      <th>count</th>\n",
       "      <td>243713</td>\n",
       "    </tr>\n",
       "    <tr>\n",
       "      <th>unique</th>\n",
       "      <td>5</td>\n",
       "    </tr>\n",
       "    <tr>\n",
       "      <th>top</th>\n",
       "      <td>MainScreenAppear</td>\n",
       "    </tr>\n",
       "    <tr>\n",
       "      <th>freq</th>\n",
       "      <td>119101</td>\n",
       "    </tr>\n",
       "  </tbody>\n",
       "</table>\n",
       "</div>"
      ],
      "text/plain": [
       "               EventName\n",
       "count             243713\n",
       "unique                 5\n",
       "top     MainScreenAppear\n",
       "freq              119101"
      ]
     },
     "execution_count": 42,
     "metadata": {},
     "output_type": "execute_result"
    }
   ],
   "source": [
    "# Cмотрим описание статистику к нечисловым столбцам (категориальному типу данных): \n",
    "# количество, уникальные, самые частые, их частота\n",
    "logs.describe(include=['O'])"
   ]
  },
  {
   "cell_type": "code",
   "execution_count": 43,
   "id": "ae79f337",
   "metadata": {},
   "outputs": [
    {
     "data": {
      "text/plain": [
       "array(['MainScreenAppear', 'PaymentScreenSuccessful', 'CartScreenAppear',\n",
       "       'OffersScreenAppear', 'Tutorial'], dtype=object)"
      ]
     },
     "metadata": {},
     "output_type": "display_data"
    }
   ],
   "source": [
    "#выведем уникальные значения названий событий\n",
    "display(logs['EventName'].unique())"
   ]
  },
  {
   "cell_type": "code",
   "execution_count": 44,
   "id": "2cda2cc1",
   "metadata": {},
   "outputs": [
    {
     "data": {
      "image/png": "[encoded data removed]",
      "text/plain": [
       "<Figure size 1080x504 with 1 Axes>"
      ]
     },
     "metadata": {
      "needs_background": "light"
     },
     "output_type": "display_data"
    }
   ],
   "source": [
    "#посмотрим количественные данные названий событий\n",
    "logs['EventName'].value_counts().plot(kind = 'bar',\n",
    "                                      grid= True, \n",
    "                                      figsize=(15,7), \n",
    "                                      title = 'Количественные данные названий событий',\n",
    "                                      ylabel = 'Частота повторений');"
   ]
  },
  {
   "cell_type": "markdown",
   "id": "4c498604",
   "metadata": {},
   "source": [
    "**Вывод:**\n",
    "\n",
    "Столбец `EventName` состоит из 5 уникальных названий событий.\n",
    "\n",
    "* MainScreenAppear - Главная страница.\n",
    "* OffersScreenAppear - Предложение\n",
    "* CartScreenAppear - Корзина\n",
    "* PaymentScreenSuccessful - Успешная оплата\n",
    "* Tutorial - Руководство\n",
    "\n",
    "Чаще всего повторяющеся `MainScreenAppear` - 119101."
   ]
  },
  {
   "cell_type": "markdown",
   "id": "182fca6f",
   "metadata": {},
   "source": [
    "`DeviceIDHash` <a id='section_id_2'></a>"
   ]
  },
  {
   "cell_type": "code",
   "execution_count": 45,
   "id": "562baa4b",
   "metadata": {},
   "outputs": [
    {
     "data": {
      "text/plain": [
       "243713"
      ]
     },
     "execution_count": 45,
     "metadata": {},
     "output_type": "execute_result"
    }
   ],
   "source": [
    "#Посмотрим общее количество пользователей\n",
    "logs['DeviceIDHash'].count()"
   ]
  },
  {
   "cell_type": "code",
   "execution_count": 46,
   "id": "5242dff2",
   "metadata": {},
   "outputs": [
    {
     "data": {
      "text/plain": [
       "7551"
      ]
     },
     "execution_count": 46,
     "metadata": {},
     "output_type": "execute_result"
    }
   ],
   "source": [
    "#Посмотрим количество уникальных пользователей\n",
    "logs['DeviceIDHash'].nunique()"
   ]
  },
  {
   "cell_type": "code",
   "execution_count": 47,
   "id": "f15beadf",
   "metadata": {},
   "outputs": [
    {
     "data": {
      "text/html": [
       "<div>\n",
       "<style scoped>\n",
       "    .dataframe tbody tr th:only-of-type {\n",
       "        vertical-align: middle;\n",
       "    }\n",
       "\n",
       "    .dataframe tbody tr th {\n",
       "        vertical-align: top;\n",
       "    }\n",
       "\n",
       "    .dataframe thead th {\n",
       "        text-align: right;\n",
       "    }\n",
       "</style>\n",
       "<table border=\"1\" class=\"dataframe\">\n",
       "  <thead>\n",
       "    <tr style=\"text-align: right;\">\n",
       "      <th></th>\n",
       "      <th>EventName</th>\n",
       "    </tr>\n",
       "    <tr>\n",
       "      <th>DeviceIDHash</th>\n",
       "      <th></th>\n",
       "    </tr>\n",
       "  </thead>\n",
       "  <tbody>\n",
       "    <tr>\n",
       "      <th>6304868067479728361</th>\n",
       "      <td>2307</td>\n",
       "    </tr>\n",
       "    <tr>\n",
       "      <th>197027893265565660</th>\n",
       "      <td>1998</td>\n",
       "    </tr>\n",
       "    <tr>\n",
       "      <th>4623191541214045580</th>\n",
       "      <td>1768</td>\n",
       "    </tr>\n",
       "    <tr>\n",
       "      <th>6932517045703054087</th>\n",
       "      <td>1439</td>\n",
       "    </tr>\n",
       "    <tr>\n",
       "      <th>1754140665440434215</th>\n",
       "      <td>1221</td>\n",
       "    </tr>\n",
       "    <tr>\n",
       "      <th>3337471580007169353</th>\n",
       "      <td>1186</td>\n",
       "    </tr>\n",
       "    <tr>\n",
       "      <th>7738058666231999878</th>\n",
       "      <td>888</td>\n",
       "    </tr>\n",
       "    <tr>\n",
       "      <th>1055544042902443290</th>\n",
       "      <td>854</td>\n",
       "    </tr>\n",
       "    <tr>\n",
       "      <th>4713748699910253089</th>\n",
       "      <td>824</td>\n",
       "    </tr>\n",
       "    <tr>\n",
       "      <th>8118046800480174342</th>\n",
       "      <td>755</td>\n",
       "    </tr>\n",
       "  </tbody>\n",
       "</table>\n",
       "</div>"
      ],
      "text/plain": [
       "                     EventName\n",
       "DeviceIDHash                  \n",
       "6304868067479728361       2307\n",
       "197027893265565660        1998\n",
       "4623191541214045580       1768\n",
       "6932517045703054087       1439\n",
       "1754140665440434215       1221\n",
       "3337471580007169353       1186\n",
       "7738058666231999878        888\n",
       "1055544042902443290        854\n",
       "4713748699910253089        824\n",
       "8118046800480174342        755"
      ]
     },
     "execution_count": 47,
     "metadata": {},
     "output_type": "execute_result"
    }
   ],
   "source": [
    "#Выведем 10 самых активных пользователей\n",
    "logs.groupby('DeviceIDHash').agg({'EventName':'count'}).sort_values(by = 'EventName',\n",
    "                                                                    ascending = False).head(10)"
   ]
  },
  {
   "cell_type": "markdown",
   "id": "02a52d65",
   "metadata": {},
   "source": [
    "**Вывод:**\n",
    "\n",
    "Столбец `DeviceIDHash` состоит из 7551 уникального пользователя. Самый активный польователь - \"6304868067479728361\" выполнил 2307 действий в приложении."
   ]
  },
  {
   "cell_type": "markdown",
   "id": "84ca9165",
   "metadata": {},
   "source": [
    "`EventTimestamp`"
   ]
  },
  {
   "cell_type": "code",
   "execution_count": 48,
   "id": "c0e12472",
   "metadata": {},
   "outputs": [
    {
     "data": {
      "text/html": [
       "<div>\n",
       "<style scoped>\n",
       "    .dataframe tbody tr th:only-of-type {\n",
       "        vertical-align: middle;\n",
       "    }\n",
       "\n",
       "    .dataframe tbody tr th {\n",
       "        vertical-align: top;\n",
       "    }\n",
       "\n",
       "    .dataframe thead th {\n",
       "        text-align: right;\n",
       "    }\n",
       "</style>\n",
       "<table border=\"1\" class=\"dataframe\">\n",
       "  <thead>\n",
       "    <tr style=\"text-align: right;\">\n",
       "      <th></th>\n",
       "      <th>EventName</th>\n",
       "      <th>DeviceIDHash</th>\n",
       "      <th>EventTimestamp</th>\n",
       "      <th>ExpId</th>\n",
       "    </tr>\n",
       "  </thead>\n",
       "  <tbody>\n",
       "    <tr>\n",
       "      <th>0</th>\n",
       "      <td>MainScreenAppear</td>\n",
       "      <td>4575588528974610257</td>\n",
       "      <td>2019-07-25 04:43:36</td>\n",
       "      <td>246</td>\n",
       "    </tr>\n",
       "    <tr>\n",
       "      <th>1</th>\n",
       "      <td>MainScreenAppear</td>\n",
       "      <td>7416695313311560658</td>\n",
       "      <td>2019-07-25 11:11:42</td>\n",
       "      <td>246</td>\n",
       "    </tr>\n",
       "    <tr>\n",
       "      <th>2</th>\n",
       "      <td>PaymentScreenSuccessful</td>\n",
       "      <td>3518123091307005509</td>\n",
       "      <td>2019-07-25 11:28:47</td>\n",
       "      <td>248</td>\n",
       "    </tr>\n",
       "    <tr>\n",
       "      <th>3</th>\n",
       "      <td>CartScreenAppear</td>\n",
       "      <td>3518123091307005509</td>\n",
       "      <td>2019-07-25 11:28:47</td>\n",
       "      <td>248</td>\n",
       "    </tr>\n",
       "    <tr>\n",
       "      <th>4</th>\n",
       "      <td>PaymentScreenSuccessful</td>\n",
       "      <td>6217807653094995999</td>\n",
       "      <td>2019-07-25 11:48:42</td>\n",
       "      <td>248</td>\n",
       "    </tr>\n",
       "    <tr>\n",
       "      <th>...</th>\n",
       "      <td>...</td>\n",
       "      <td>...</td>\n",
       "      <td>...</td>\n",
       "      <td>...</td>\n",
       "    </tr>\n",
       "    <tr>\n",
       "      <th>243708</th>\n",
       "      <td>MainScreenAppear</td>\n",
       "      <td>4599628364049201812</td>\n",
       "      <td>2019-08-07 21:12:25</td>\n",
       "      <td>247</td>\n",
       "    </tr>\n",
       "    <tr>\n",
       "      <th>243709</th>\n",
       "      <td>MainScreenAppear</td>\n",
       "      <td>5849806612437486590</td>\n",
       "      <td>2019-08-07 21:13:59</td>\n",
       "      <td>246</td>\n",
       "    </tr>\n",
       "    <tr>\n",
       "      <th>243710</th>\n",
       "      <td>MainScreenAppear</td>\n",
       "      <td>5746969938801999050</td>\n",
       "      <td>2019-08-07 21:14:43</td>\n",
       "      <td>246</td>\n",
       "    </tr>\n",
       "    <tr>\n",
       "      <th>243711</th>\n",
       "      <td>MainScreenAppear</td>\n",
       "      <td>5746969938801999050</td>\n",
       "      <td>2019-08-07 21:14:58</td>\n",
       "      <td>246</td>\n",
       "    </tr>\n",
       "    <tr>\n",
       "      <th>243712</th>\n",
       "      <td>OffersScreenAppear</td>\n",
       "      <td>5746969938801999050</td>\n",
       "      <td>2019-08-07 21:15:17</td>\n",
       "      <td>246</td>\n",
       "    </tr>\n",
       "  </tbody>\n",
       "</table>\n",
       "<p>243713 rows × 4 columns</p>\n",
       "</div>"
      ],
      "text/plain": [
       "                      EventName         DeviceIDHash      EventTimestamp  \\\n",
       "0              MainScreenAppear  4575588528974610257 2019-07-25 04:43:36   \n",
       "1              MainScreenAppear  7416695313311560658 2019-07-25 11:11:42   \n",
       "2       PaymentScreenSuccessful  3518123091307005509 2019-07-25 11:28:47   \n",
       "3              CartScreenAppear  3518123091307005509 2019-07-25 11:28:47   \n",
       "4       PaymentScreenSuccessful  6217807653094995999 2019-07-25 11:48:42   \n",
       "...                         ...                  ...                 ...   \n",
       "243708         MainScreenAppear  4599628364049201812 2019-08-07 21:12:25   \n",
       "243709         MainScreenAppear  5849806612437486590 2019-08-07 21:13:59   \n",
       "243710         MainScreenAppear  5746969938801999050 2019-08-07 21:14:43   \n",
       "243711         MainScreenAppear  5746969938801999050 2019-08-07 21:14:58   \n",
       "243712       OffersScreenAppear  5746969938801999050 2019-08-07 21:15:17   \n",
       "\n",
       "        ExpId  \n",
       "0         246  \n",
       "1         246  \n",
       "2         248  \n",
       "3         248  \n",
       "4         248  \n",
       "...       ...  \n",
       "243708    247  \n",
       "243709    246  \n",
       "243710    246  \n",
       "243711    246  \n",
       "243712    246  \n",
       "\n",
       "[243713 rows x 4 columns]"
      ]
     },
     "execution_count": 48,
     "metadata": {},
     "output_type": "execute_result"
    }
   ],
   "source": [
    "#для того, чтобы получить хоть какую -либо информацию по этому столбцу, нам необходимо перевести его в читабельный формат\n",
    "logs['EventTimestamp'] = pd.to_datetime(logs['EventTimestamp'], unit = 's')\n",
    "logs"
   ]
  },
  {
   "cell_type": "code",
   "execution_count": 49,
   "id": "45c6a8be",
   "metadata": {},
   "outputs": [
    {
     "data": {
      "text/html": [
       "<div>\n",
       "<style scoped>\n",
       "    .dataframe tbody tr th:only-of-type {\n",
       "        vertical-align: middle;\n",
       "    }\n",
       "\n",
       "    .dataframe tbody tr th {\n",
       "        vertical-align: top;\n",
       "    }\n",
       "\n",
       "    .dataframe thead th {\n",
       "        text-align: right;\n",
       "    }\n",
       "</style>\n",
       "<table border=\"1\" class=\"dataframe\">\n",
       "  <thead>\n",
       "    <tr style=\"text-align: right;\">\n",
       "      <th></th>\n",
       "      <th>EventName</th>\n",
       "      <th>DeviceIDHash</th>\n",
       "      <th>EventTimestamp</th>\n",
       "      <th>ExpId</th>\n",
       "    </tr>\n",
       "  </thead>\n",
       "  <tbody>\n",
       "    <tr>\n",
       "      <th>243712</th>\n",
       "      <td>OffersScreenAppear</td>\n",
       "      <td>5746969938801999050</td>\n",
       "      <td>2019-08-07 21:15:17</td>\n",
       "      <td>246</td>\n",
       "    </tr>\n",
       "    <tr>\n",
       "      <th>243711</th>\n",
       "      <td>MainScreenAppear</td>\n",
       "      <td>5746969938801999050</td>\n",
       "      <td>2019-08-07 21:14:58</td>\n",
       "      <td>246</td>\n",
       "    </tr>\n",
       "    <tr>\n",
       "      <th>243710</th>\n",
       "      <td>MainScreenAppear</td>\n",
       "      <td>5746969938801999050</td>\n",
       "      <td>2019-08-07 21:14:43</td>\n",
       "      <td>246</td>\n",
       "    </tr>\n",
       "    <tr>\n",
       "      <th>243709</th>\n",
       "      <td>MainScreenAppear</td>\n",
       "      <td>5849806612437486590</td>\n",
       "      <td>2019-08-07 21:13:59</td>\n",
       "      <td>246</td>\n",
       "    </tr>\n",
       "    <tr>\n",
       "      <th>243708</th>\n",
       "      <td>MainScreenAppear</td>\n",
       "      <td>4599628364049201812</td>\n",
       "      <td>2019-08-07 21:12:25</td>\n",
       "      <td>247</td>\n",
       "    </tr>\n",
       "    <tr>\n",
       "      <th>...</th>\n",
       "      <td>...</td>\n",
       "      <td>...</td>\n",
       "      <td>...</td>\n",
       "      <td>...</td>\n",
       "    </tr>\n",
       "    <tr>\n",
       "      <th>4</th>\n",
       "      <td>PaymentScreenSuccessful</td>\n",
       "      <td>6217807653094995999</td>\n",
       "      <td>2019-07-25 11:48:42</td>\n",
       "      <td>248</td>\n",
       "    </tr>\n",
       "    <tr>\n",
       "      <th>2</th>\n",
       "      <td>PaymentScreenSuccessful</td>\n",
       "      <td>3518123091307005509</td>\n",
       "      <td>2019-07-25 11:28:47</td>\n",
       "      <td>248</td>\n",
       "    </tr>\n",
       "    <tr>\n",
       "      <th>3</th>\n",
       "      <td>CartScreenAppear</td>\n",
       "      <td>3518123091307005509</td>\n",
       "      <td>2019-07-25 11:28:47</td>\n",
       "      <td>248</td>\n",
       "    </tr>\n",
       "    <tr>\n",
       "      <th>1</th>\n",
       "      <td>MainScreenAppear</td>\n",
       "      <td>7416695313311560658</td>\n",
       "      <td>2019-07-25 11:11:42</td>\n",
       "      <td>246</td>\n",
       "    </tr>\n",
       "    <tr>\n",
       "      <th>0</th>\n",
       "      <td>MainScreenAppear</td>\n",
       "      <td>4575588528974610257</td>\n",
       "      <td>2019-07-25 04:43:36</td>\n",
       "      <td>246</td>\n",
       "    </tr>\n",
       "  </tbody>\n",
       "</table>\n",
       "<p>243713 rows × 4 columns</p>\n",
       "</div>"
      ],
      "text/plain": [
       "                      EventName         DeviceIDHash      EventTimestamp  \\\n",
       "243712       OffersScreenAppear  5746969938801999050 2019-08-07 21:15:17   \n",
       "243711         MainScreenAppear  5746969938801999050 2019-08-07 21:14:58   \n",
       "243710         MainScreenAppear  5746969938801999050 2019-08-07 21:14:43   \n",
       "243709         MainScreenAppear  5849806612437486590 2019-08-07 21:13:59   \n",
       "243708         MainScreenAppear  4599628364049201812 2019-08-07 21:12:25   \n",
       "...                         ...                  ...                 ...   \n",
       "4       PaymentScreenSuccessful  6217807653094995999 2019-07-25 11:48:42   \n",
       "2       PaymentScreenSuccessful  3518123091307005509 2019-07-25 11:28:47   \n",
       "3              CartScreenAppear  3518123091307005509 2019-07-25 11:28:47   \n",
       "1              MainScreenAppear  7416695313311560658 2019-07-25 11:11:42   \n",
       "0              MainScreenAppear  4575588528974610257 2019-07-25 04:43:36   \n",
       "\n",
       "        ExpId  \n",
       "243712    246  \n",
       "243711    246  \n",
       "243710    246  \n",
       "243709    246  \n",
       "243708    247  \n",
       "...       ...  \n",
       "4         248  \n",
       "2         248  \n",
       "3         248  \n",
       "1         246  \n",
       "0         246  \n",
       "\n",
       "[243713 rows x 4 columns]"
      ]
     },
     "metadata": {},
     "output_type": "display_data"
    },
    {
     "data": {
      "text/plain": [
       "Timestamp('2019-07-25 04:43:36')"
      ]
     },
     "metadata": {},
     "output_type": "display_data"
    },
    {
     "data": {
      "text/plain": [
       "Timestamp('2019-08-07 21:15:17')"
      ]
     },
     "metadata": {},
     "output_type": "display_data"
    }
   ],
   "source": [
    "#Изучим временной интервал, узнав даты начала и окончания\n",
    "display(logs.sort_values(by = 'EventTimestamp', ascending = False))\n",
    "display(logs['EventTimestamp'].min())\n",
    "display(logs['EventTimestamp'].max())"
   ]
  },
  {
   "cell_type": "markdown",
   "id": "a2755006",
   "metadata": {},
   "source": [
    "**Вывод:**\n",
    "\n",
    "Итак нам представленны данные с `2019-07-25 04:43:36` по `2019-08-07 21:15:17`."
   ]
  },
  {
   "cell_type": "markdown",
   "id": "517df26d",
   "metadata": {},
   "source": [
    "`ExpId`"
   ]
  },
  {
   "cell_type": "code",
   "execution_count": 50,
   "id": "f58d43bd",
   "metadata": {},
   "outputs": [
    {
     "data": {
      "text/plain": [
       "248    85582\n",
       "246    80181\n",
       "247    77950\n",
       "Name: ExpId, dtype: int64"
      ]
     },
     "execution_count": 50,
     "metadata": {},
     "output_type": "execute_result"
    }
   ],
   "source": [
    "#Посмотрим общее количество логов по группам \n",
    "logs['ExpId'].value_counts()"
   ]
  },
  {
   "cell_type": "code",
   "execution_count": 51,
   "id": "c4730a86",
   "metadata": {},
   "outputs": [
    {
     "data": {
      "text/html": [
       "<div>\n",
       "<style scoped>\n",
       "    .dataframe tbody tr th:only-of-type {\n",
       "        vertical-align: middle;\n",
       "    }\n",
       "\n",
       "    .dataframe tbody tr th {\n",
       "        vertical-align: top;\n",
       "    }\n",
       "\n",
       "    .dataframe thead th {\n",
       "        text-align: right;\n",
       "    }\n",
       "</style>\n",
       "<table border=\"1\" class=\"dataframe\">\n",
       "  <thead>\n",
       "    <tr style=\"text-align: right;\">\n",
       "      <th></th>\n",
       "      <th>DeviceIDHash</th>\n",
       "    </tr>\n",
       "    <tr>\n",
       "      <th>ExpId</th>\n",
       "      <th></th>\n",
       "    </tr>\n",
       "  </thead>\n",
       "  <tbody>\n",
       "    <tr>\n",
       "      <th>246</th>\n",
       "      <td>2489</td>\n",
       "    </tr>\n",
       "    <tr>\n",
       "      <th>247</th>\n",
       "      <td>2520</td>\n",
       "    </tr>\n",
       "    <tr>\n",
       "      <th>248</th>\n",
       "      <td>2542</td>\n",
       "    </tr>\n",
       "  </tbody>\n",
       "</table>\n",
       "</div>"
      ],
      "text/plain": [
       "       DeviceIDHash\n",
       "ExpId              \n",
       "246            2489\n",
       "247            2520\n",
       "248            2542"
      ]
     },
     "execution_count": 51,
     "metadata": {},
     "output_type": "execute_result"
    }
   ],
   "source": [
    "#Посмотрим общее количество испытуемых \n",
    "logs.groupby('ExpId').agg({'DeviceIDHash':'nunique'})"
   ]
  },
  {
   "cell_type": "markdown",
   "id": "375b581b",
   "metadata": {},
   "source": [
    "**Вывод:** <a id='selection_one'></a>\n",
    "\n",
    "Всего пользователей у контрольных групп:\n",
    "\n",
    "* 246 контрольная группа - 85582\n",
    "* 247 — контрольные группы - 77950\n",
    "* 248 — экспериментальная - 85582\n",
    "\n",
    "Уникальных пользователей:\n",
    "* 246 -\t2489\n",
    "* 247 -\t2520\n",
    "* 248 -\t2542"
   ]
  },
  {
   "cell_type": "markdown",
   "id": "d83862c3",
   "metadata": {},
   "source": [
    "## Шаг. Подготовка данных"
   ]
  },
  {
   "cell_type": "code",
   "execution_count": 52,
   "id": "48463f28",
   "metadata": {},
   "outputs": [
    {
     "data": {
      "text/html": [
       "<div>\n",
       "<style scoped>\n",
       "    .dataframe tbody tr th:only-of-type {\n",
       "        vertical-align: middle;\n",
       "    }\n",
       "\n",
       "    .dataframe tbody tr th {\n",
       "        vertical-align: top;\n",
       "    }\n",
       "\n",
       "    .dataframe thead th {\n",
       "        text-align: right;\n",
       "    }\n",
       "</style>\n",
       "<table border=\"1\" class=\"dataframe\">\n",
       "  <thead>\n",
       "    <tr style=\"text-align: right;\">\n",
       "      <th></th>\n",
       "      <th>event_name</th>\n",
       "      <th>user_id</th>\n",
       "      <th>date_time</th>\n",
       "      <th>exp</th>\n",
       "      <th>date</th>\n",
       "    </tr>\n",
       "  </thead>\n",
       "  <tbody>\n",
       "    <tr>\n",
       "      <th>0</th>\n",
       "      <td>MainScreenAppear</td>\n",
       "      <td>4575588528974610257</td>\n",
       "      <td>2019-07-25 04:43:36</td>\n",
       "      <td>246</td>\n",
       "      <td>2019-07-25</td>\n",
       "    </tr>\n",
       "    <tr>\n",
       "      <th>1</th>\n",
       "      <td>MainScreenAppear</td>\n",
       "      <td>7416695313311560658</td>\n",
       "      <td>2019-07-25 11:11:42</td>\n",
       "      <td>246</td>\n",
       "      <td>2019-07-25</td>\n",
       "    </tr>\n",
       "    <tr>\n",
       "      <th>2</th>\n",
       "      <td>PaymentScreenSuccessful</td>\n",
       "      <td>3518123091307005509</td>\n",
       "      <td>2019-07-25 11:28:47</td>\n",
       "      <td>248</td>\n",
       "      <td>2019-07-25</td>\n",
       "    </tr>\n",
       "    <tr>\n",
       "      <th>3</th>\n",
       "      <td>CartScreenAppear</td>\n",
       "      <td>3518123091307005509</td>\n",
       "      <td>2019-07-25 11:28:47</td>\n",
       "      <td>248</td>\n",
       "      <td>2019-07-25</td>\n",
       "    </tr>\n",
       "    <tr>\n",
       "      <th>4</th>\n",
       "      <td>PaymentScreenSuccessful</td>\n",
       "      <td>6217807653094995999</td>\n",
       "      <td>2019-07-25 11:48:42</td>\n",
       "      <td>248</td>\n",
       "      <td>2019-07-25</td>\n",
       "    </tr>\n",
       "    <tr>\n",
       "      <th>...</th>\n",
       "      <td>...</td>\n",
       "      <td>...</td>\n",
       "      <td>...</td>\n",
       "      <td>...</td>\n",
       "      <td>...</td>\n",
       "    </tr>\n",
       "    <tr>\n",
       "      <th>243708</th>\n",
       "      <td>MainScreenAppear</td>\n",
       "      <td>4599628364049201812</td>\n",
       "      <td>2019-08-07 21:12:25</td>\n",
       "      <td>247</td>\n",
       "      <td>2019-08-07</td>\n",
       "    </tr>\n",
       "    <tr>\n",
       "      <th>243709</th>\n",
       "      <td>MainScreenAppear</td>\n",
       "      <td>5849806612437486590</td>\n",
       "      <td>2019-08-07 21:13:59</td>\n",
       "      <td>246</td>\n",
       "      <td>2019-08-07</td>\n",
       "    </tr>\n",
       "    <tr>\n",
       "      <th>243710</th>\n",
       "      <td>MainScreenAppear</td>\n",
       "      <td>5746969938801999050</td>\n",
       "      <td>2019-08-07 21:14:43</td>\n",
       "      <td>246</td>\n",
       "      <td>2019-08-07</td>\n",
       "    </tr>\n",
       "    <tr>\n",
       "      <th>243711</th>\n",
       "      <td>MainScreenAppear</td>\n",
       "      <td>5746969938801999050</td>\n",
       "      <td>2019-08-07 21:14:58</td>\n",
       "      <td>246</td>\n",
       "      <td>2019-08-07</td>\n",
       "    </tr>\n",
       "    <tr>\n",
       "      <th>243712</th>\n",
       "      <td>OffersScreenAppear</td>\n",
       "      <td>5746969938801999050</td>\n",
       "      <td>2019-08-07 21:15:17</td>\n",
       "      <td>246</td>\n",
       "      <td>2019-08-07</td>\n",
       "    </tr>\n",
       "  </tbody>\n",
       "</table>\n",
       "<p>243713 rows × 5 columns</p>\n",
       "</div>"
      ],
      "text/plain": [
       "                     event_name              user_id           date_time  exp  \\\n",
       "0              MainScreenAppear  4575588528974610257 2019-07-25 04:43:36  246   \n",
       "1              MainScreenAppear  7416695313311560658 2019-07-25 11:11:42  246   \n",
       "2       PaymentScreenSuccessful  3518123091307005509 2019-07-25 11:28:47  248   \n",
       "3              CartScreenAppear  3518123091307005509 2019-07-25 11:28:47  248   \n",
       "4       PaymentScreenSuccessful  6217807653094995999 2019-07-25 11:48:42  248   \n",
       "...                         ...                  ...                 ...  ...   \n",
       "243708         MainScreenAppear  4599628364049201812 2019-08-07 21:12:25  247   \n",
       "243709         MainScreenAppear  5849806612437486590 2019-08-07 21:13:59  246   \n",
       "243710         MainScreenAppear  5746969938801999050 2019-08-07 21:14:43  246   \n",
       "243711         MainScreenAppear  5746969938801999050 2019-08-07 21:14:58  246   \n",
       "243712       OffersScreenAppear  5746969938801999050 2019-08-07 21:15:17  246   \n",
       "\n",
       "              date  \n",
       "0       2019-07-25  \n",
       "1       2019-07-25  \n",
       "2       2019-07-25  \n",
       "3       2019-07-25  \n",
       "4       2019-07-25  \n",
       "...            ...  \n",
       "243708  2019-08-07  \n",
       "243709  2019-08-07  \n",
       "243710  2019-08-07  \n",
       "243711  2019-08-07  \n",
       "243712  2019-08-07  \n",
       "\n",
       "[243713 rows x 5 columns]"
      ]
     },
     "execution_count": 52,
     "metadata": {},
     "output_type": "execute_result"
    }
   ],
   "source": [
    "#переведем названия столбцов в нижний регистр\n",
    "logs.columns = logs.columns.str.lower()\n",
    "\n",
    "#переименуем столбцы\n",
    "logs.columns = ['event_name', 'user_id', 'date_time', 'exp']\n",
    "\n",
    "#явные дубликаты были удалены ранее\n",
    "\n",
    "#Найдем все пропуски в таблице и посчитаем их:\n",
    "logs.isna().sum()\n",
    "\n",
    "#Добавим столбец даты:\n",
    "logs['date'] = pd.to_datetime(logs['date_time']).dt.date\n",
    "logs"
   ]
  },
  {
   "cell_type": "markdown",
   "id": "b7d01900",
   "metadata": {},
   "source": [
    "**Вывод:**\n",
    "\n",
    "В данном шаге мы перевели названия столбцов в нижний регистр и переименовали их. Удалили явные дубликаты. УСтановили что пропусков в таблице нет. И добавили столбец с датой (без времени)."
   ]
  },
  {
   "cell_type": "markdown",
   "id": "73277fec",
   "metadata": {},
   "source": [
    "## Шаг. Изучение и проверка данных"
   ]
  },
  {
   "cell_type": "markdown",
   "id": "effbe0e1",
   "metadata": {},
   "source": [
    "### Сколько всего событий в логе?"
   ]
  },
  {
   "cell_type": "markdown",
   "id": "ac9fccb1",
   "metadata": {},
   "source": [
    "[данный вопрос рассмотрен в п. 1.1](#section_id)"
   ]
  },
  {
   "cell_type": "markdown",
   "id": "20ad0707",
   "metadata": {},
   "source": [
    "### Сколько всего пользователей в логе?"
   ]
  },
  {
   "cell_type": "markdown",
   "id": "774ca55e",
   "metadata": {},
   "source": [
    "[данный вопрос рассмотрен в п. 1.1](#section_id_2)"
   ]
  },
  {
   "cell_type": "markdown",
   "id": "5d45932b",
   "metadata": {},
   "source": [
    "### Сколько в среднем событий приходится на пользователя?"
   ]
  },
  {
   "cell_type": "code",
   "execution_count": 53,
   "id": "46641019",
   "metadata": {},
   "outputs": [
    {
     "data": {
      "text/plain": [
       "count    7551.000000\n",
       "mean       32.275593\n",
       "std        65.154219\n",
       "min         1.000000\n",
       "25%         9.000000\n",
       "50%        20.000000\n",
       "75%        37.000000\n",
       "max      2307.000000\n",
       "Name: event_name, dtype: float64"
      ]
     },
     "execution_count": 53,
     "metadata": {},
     "output_type": "execute_result"
    }
   ],
   "source": [
    "#Создадим таблицу с количеством событий на одного пользователя\n",
    "d = logs.groupby('user_id').agg({'event_name':'count'})\n",
    "#Посмотрим на числовые характеристики \n",
    "d['event_name'].describe()"
   ]
  },
  {
   "cell_type": "markdown",
   "id": "6cd97251",
   "metadata": {},
   "source": [
    "Среднее количество событий на пользователя 32, медиана 20. Кто-то из пользователей проявлял значительную активность свыше 2307 логов, это сокрее выбросы, которые могут немного испортить анализ. "
   ]
  },
  {
   "cell_type": "code",
   "execution_count": 73,
   "id": "b4c04947",
   "metadata": {},
   "outputs": [
    {
     "data": {
      "image/png": "[encoded data removed]",
      "text/plain": [
       "<Figure size 432x288 with 1 Axes>"
      ]
     },
     "metadata": {
      "needs_background": "light"
     },
     "output_type": "display_data"
    }
   ],
   "source": [
    "#Построим диаграмму рассеяния\n",
    "#выберем ось Х\n",
    "x_values = pd.Series(range(0, len(d)))\n",
    "\n",
    "#Построим график\n",
    "plt.title('График количества событий на пользователя', alpha=0.5, color=\"b\", fontsize=15,)\n",
    "\n",
    "plt.ylabel('Количество логов')\n",
    "plt.xlabel('Пользователи')\n",
    "\n",
    "plt.ylim(0, 2500)\n",
    "plt.grid()\n",
    "\n",
    "plt.scatter(x_values, d['event_name'],alpha=0.5);"
   ]
  },
  {
   "cell_type": "markdown",
   "id": "36b3663d",
   "metadata": {},
   "source": [
    "Так как у нас имеется большое количество выбросов по количеству логов на пользователя (максимальное значение 2307), сделаем вывод, что нам необходимо брать медианное значение, а не среднее. "
   ]
  },
  {
   "cell_type": "code",
   "execution_count": 55,
   "id": "f5a320d9",
   "metadata": {},
   "outputs": [
    {
     "data": {
      "text/plain": [
       "event_name    20.0\n",
       "dtype: float64"
      ]
     },
     "execution_count": 55,
     "metadata": {},
     "output_type": "execute_result"
    }
   ],
   "source": [
    "logs.groupby('user_id').agg({'event_name':'count'}).median()"
   ]
  },
  {
   "cell_type": "markdown",
   "id": "7854b04a",
   "metadata": {},
   "source": [
    "### Данными за какой период вы располагаете? Найдите максимальную и минимальную дату. Постройте гистограмму по дате и времени. Можно ли быть уверенным, что у вас одинаково полные данные за весь период? Данными за какой период времени вы располагаете на самом деле?"
   ]
  },
  {
   "cell_type": "code",
   "execution_count": 56,
   "id": "82b658a4",
   "metadata": {},
   "outputs": [
    {
     "name": "stdout",
     "output_type": "stream",
     "text": [
      "Мы располагаем данными по логам с 2019-07-25 04:43:36 по 2019-08-07 21:15:17\n",
      "Длина временного ряда равна 13 days 16:31:41\n"
     ]
    },
    {
     "data": {
      "image/png": "[encoded data removed]",
      "text/plain": [
       "<Figure size 1152x576 with 1 Axes>"
      ]
     },
     "metadata": {
      "needs_background": "light"
     },
     "output_type": "display_data"
    }
   ],
   "source": [
    "#Найдем максимальную и минимальную дату\n",
    "print('Мы располагаем данными по логам с {} по {}'.format(logs['date_time'].min(), logs['date_time'].max()))\n",
    "print('Длина временного ряда равна {}'.format(logs['date_time'].max() - logs['date_time'].min()))\n",
    "      \n",
    "#построим гистограмму по дате и времени\n",
    "plt.figure(figsize = (16,8))\n",
    "plt.hist(logs['date_time'], color = 'blue', edgecolor = 'black', bins = 200)\n",
    "plt.title('Гистограмма по дате и времени')\n",
    "plt.xlabel('Датa');"
   ]
  },
  {
   "cell_type": "markdown",
   "id": "96d768a2",
   "metadata": {},
   "source": [
    "**Вывод:**\n",
    "\n",
    "Технически в логи новых дней по некоторым пользователям могут «доезжать» события из прошлого — это может «перекашивать данные». Определим, момент когда данные полные с 1 августа по 8 августа (не включая) и отбросим более старые. "
   ]
  },
  {
   "cell_type": "code",
   "execution_count": 57,
   "id": "5505f49f",
   "metadata": {},
   "outputs": [
    {
     "data": {
      "text/html": [
       "<div>\n",
       "<style scoped>\n",
       "    .dataframe tbody tr th:only-of-type {\n",
       "        vertical-align: middle;\n",
       "    }\n",
       "\n",
       "    .dataframe tbody tr th {\n",
       "        vertical-align: top;\n",
       "    }\n",
       "\n",
       "    .dataframe thead th {\n",
       "        text-align: right;\n",
       "    }\n",
       "</style>\n",
       "<table border=\"1\" class=\"dataframe\">\n",
       "  <thead>\n",
       "    <tr style=\"text-align: right;\">\n",
       "      <th></th>\n",
       "      <th>event_name</th>\n",
       "      <th>user_id</th>\n",
       "      <th>date_time</th>\n",
       "      <th>exp</th>\n",
       "      <th>date</th>\n",
       "    </tr>\n",
       "  </thead>\n",
       "  <tbody>\n",
       "    <tr>\n",
       "      <th>2826</th>\n",
       "      <td>Tutorial</td>\n",
       "      <td>3737462046622621720</td>\n",
       "      <td>2019-08-01 00:07:28</td>\n",
       "      <td>246</td>\n",
       "      <td>2019-08-01</td>\n",
       "    </tr>\n",
       "    <tr>\n",
       "      <th>2827</th>\n",
       "      <td>MainScreenAppear</td>\n",
       "      <td>3737462046622621720</td>\n",
       "      <td>2019-08-01 00:08:00</td>\n",
       "      <td>246</td>\n",
       "      <td>2019-08-01</td>\n",
       "    </tr>\n",
       "    <tr>\n",
       "      <th>2828</th>\n",
       "      <td>MainScreenAppear</td>\n",
       "      <td>3737462046622621720</td>\n",
       "      <td>2019-08-01 00:08:55</td>\n",
       "      <td>246</td>\n",
       "      <td>2019-08-01</td>\n",
       "    </tr>\n",
       "    <tr>\n",
       "      <th>2829</th>\n",
       "      <td>OffersScreenAppear</td>\n",
       "      <td>3737462046622621720</td>\n",
       "      <td>2019-08-01 00:08:58</td>\n",
       "      <td>246</td>\n",
       "      <td>2019-08-01</td>\n",
       "    </tr>\n",
       "    <tr>\n",
       "      <th>2830</th>\n",
       "      <td>MainScreenAppear</td>\n",
       "      <td>1433840883824088890</td>\n",
       "      <td>2019-08-01 00:08:59</td>\n",
       "      <td>247</td>\n",
       "      <td>2019-08-01</td>\n",
       "    </tr>\n",
       "    <tr>\n",
       "      <th>...</th>\n",
       "      <td>...</td>\n",
       "      <td>...</td>\n",
       "      <td>...</td>\n",
       "      <td>...</td>\n",
       "      <td>...</td>\n",
       "    </tr>\n",
       "    <tr>\n",
       "      <th>243708</th>\n",
       "      <td>MainScreenAppear</td>\n",
       "      <td>4599628364049201812</td>\n",
       "      <td>2019-08-07 21:12:25</td>\n",
       "      <td>247</td>\n",
       "      <td>2019-08-07</td>\n",
       "    </tr>\n",
       "    <tr>\n",
       "      <th>243709</th>\n",
       "      <td>MainScreenAppear</td>\n",
       "      <td>5849806612437486590</td>\n",
       "      <td>2019-08-07 21:13:59</td>\n",
       "      <td>246</td>\n",
       "      <td>2019-08-07</td>\n",
       "    </tr>\n",
       "    <tr>\n",
       "      <th>243710</th>\n",
       "      <td>MainScreenAppear</td>\n",
       "      <td>5746969938801999050</td>\n",
       "      <td>2019-08-07 21:14:43</td>\n",
       "      <td>246</td>\n",
       "      <td>2019-08-07</td>\n",
       "    </tr>\n",
       "    <tr>\n",
       "      <th>243711</th>\n",
       "      <td>MainScreenAppear</td>\n",
       "      <td>5746969938801999050</td>\n",
       "      <td>2019-08-07 21:14:58</td>\n",
       "      <td>246</td>\n",
       "      <td>2019-08-07</td>\n",
       "    </tr>\n",
       "    <tr>\n",
       "      <th>243712</th>\n",
       "      <td>OffersScreenAppear</td>\n",
       "      <td>5746969938801999050</td>\n",
       "      <td>2019-08-07 21:15:17</td>\n",
       "      <td>246</td>\n",
       "      <td>2019-08-07</td>\n",
       "    </tr>\n",
       "  </tbody>\n",
       "</table>\n",
       "<p>240887 rows × 5 columns</p>\n",
       "</div>"
      ],
      "text/plain": [
       "                event_name              user_id           date_time  exp  \\\n",
       "2826              Tutorial  3737462046622621720 2019-08-01 00:07:28  246   \n",
       "2827      MainScreenAppear  3737462046622621720 2019-08-01 00:08:00  246   \n",
       "2828      MainScreenAppear  3737462046622621720 2019-08-01 00:08:55  246   \n",
       "2829    OffersScreenAppear  3737462046622621720 2019-08-01 00:08:58  246   \n",
       "2830      MainScreenAppear  1433840883824088890 2019-08-01 00:08:59  247   \n",
       "...                    ...                  ...                 ...  ...   \n",
       "243708    MainScreenAppear  4599628364049201812 2019-08-07 21:12:25  247   \n",
       "243709    MainScreenAppear  5849806612437486590 2019-08-07 21:13:59  246   \n",
       "243710    MainScreenAppear  5746969938801999050 2019-08-07 21:14:43  246   \n",
       "243711    MainScreenAppear  5746969938801999050 2019-08-07 21:14:58  246   \n",
       "243712  OffersScreenAppear  5746969938801999050 2019-08-07 21:15:17  246   \n",
       "\n",
       "              date  \n",
       "2826    2019-08-01  \n",
       "2827    2019-08-01  \n",
       "2828    2019-08-01  \n",
       "2829    2019-08-01  \n",
       "2830    2019-08-01  \n",
       "...            ...  \n",
       "243708  2019-08-07  \n",
       "243709  2019-08-07  \n",
       "243710  2019-08-07  \n",
       "243711  2019-08-07  \n",
       "243712  2019-08-07  \n",
       "\n",
       "[240887 rows x 5 columns]"
      ]
     },
     "execution_count": 57,
     "metadata": {},
     "output_type": "execute_result"
    }
   ],
   "source": [
    "#сделаем срез по дате\n",
    "logs_new = logs[logs['date_time'] > '2019-07-31 23:59:59']\n",
    "logs_new"
   ]
  },
  {
   "cell_type": "markdown",
   "id": "ab074460",
   "metadata": {},
   "source": [
    "### Посчитаем кол-во событий и пользователей, которых мы потеряли, отбросив старые данные."
   ]
  },
  {
   "cell_type": "markdown",
   "id": "5d8a4c29",
   "metadata": {},
   "source": [
    "#### Потерянные события"
   ]
  },
  {
   "cell_type": "code",
   "execution_count": 58,
   "id": "e953811a",
   "metadata": {},
   "outputs": [
    {
     "name": "stdout",
     "output_type": "stream",
     "text": [
      "Количество потеряных событий: 2826\n",
      "Процент потеряных событий: 1.2%\n"
     ]
    }
   ],
   "source": [
    "#События\n",
    "print('Количество потеряных событий: {}'.format(\n",
    "    logs['event_name'].count() - logs_new['event_name'].count()))\n",
    "\n",
    "#Процентное соотношение потеряных событий к общей массе\n",
    "print('Процент потеряных событий: {0:.1f}%'.format(((logs['event_name'].count() - logs_new['event_name'].count())/logs['event_name'].count())*100))"
   ]
  },
  {
   "cell_type": "markdown",
   "id": "b048046e",
   "metadata": {},
   "source": [
    "#### Потерянные пользователи"
   ]
  },
  {
   "cell_type": "code",
   "execution_count": 59,
   "id": "2e6897c5",
   "metadata": {},
   "outputs": [
    {
     "name": "stdout",
     "output_type": "stream",
     "text": [
      "Количество потеряных пользователей: 17\n",
      "Процент потеряных пользователей: 0.2%\n"
     ]
    }
   ],
   "source": [
    "#Пользователи\n",
    "print('Количество потеряных пользователей: {}'.format(\n",
    "    logs['user_id'].nunique() - logs_new['user_id'].nunique()))\n",
    "\n",
    "#Процентное соотношение потеряных событий к общей массе\n",
    "print('Процент потеряных пользователей: {0:.1f}%'.format(((logs['user_id'].nunique() - logs_new['user_id'].nunique())/logs['user_id'].nunique())*100))"
   ]
  },
  {
   "cell_type": "markdown",
   "id": "8300e4c5",
   "metadata": {},
   "source": [
    "#### Проверим, есть ли пользователи из всех трёх экспериментальных групп."
   ]
  },
  {
   "cell_type": "code",
   "execution_count": 60,
   "id": "09a5b9f9",
   "metadata": {},
   "outputs": [
    {
     "data": {
      "text/html": [
       "<div>\n",
       "<style scoped>\n",
       "    .dataframe tbody tr th:only-of-type {\n",
       "        vertical-align: middle;\n",
       "    }\n",
       "\n",
       "    .dataframe tbody tr th {\n",
       "        vertical-align: top;\n",
       "    }\n",
       "\n",
       "    .dataframe thead th {\n",
       "        text-align: right;\n",
       "    }\n",
       "</style>\n",
       "<table border=\"1\" class=\"dataframe\">\n",
       "  <thead>\n",
       "    <tr style=\"text-align: right;\">\n",
       "      <th></th>\n",
       "      <th>user_id</th>\n",
       "    </tr>\n",
       "    <tr>\n",
       "      <th>exp</th>\n",
       "      <th></th>\n",
       "    </tr>\n",
       "  </thead>\n",
       "  <tbody>\n",
       "    <tr>\n",
       "      <th>246</th>\n",
       "      <td>2484</td>\n",
       "    </tr>\n",
       "    <tr>\n",
       "      <th>247</th>\n",
       "      <td>2513</td>\n",
       "    </tr>\n",
       "    <tr>\n",
       "      <th>248</th>\n",
       "      <td>2537</td>\n",
       "    </tr>\n",
       "  </tbody>\n",
       "</table>\n",
       "</div>"
      ],
      "text/plain": [
       "     user_id\n",
       "exp         \n",
       "246     2484\n",
       "247     2513\n",
       "248     2537"
      ]
     },
     "execution_count": 60,
     "metadata": {},
     "output_type": "execute_result"
    }
   ],
   "source": [
    "logs_new.groupby('exp').agg({'user_id':'nunique'})"
   ]
  },
  {
   "cell_type": "markdown",
   "id": "533701e0",
   "metadata": {},
   "source": [
    "**Вывод:**\n",
    "\n",
    "На данном шаге мы нашли количество событий в логе - 243713, общее количество пользователей 243713 и 7551 - уникальные. Установили среднее коичество событий на пользователя 20. \n",
    "\n",
    "Нашли максимальные и минимальные даты периода: с 2019-07-25 по 2019-08-07, длина временного ряда равна 13.\n",
    "\n",
    "Установили момент, когда данные стали полными с 1 по 8 августа и взяли этот срез за основу анализа.\n",
    "\n",
    "Определили количество потеряных событий: 2826 и процент потеряных событий: 1.2%. Также нашли количество потеряных пользователей: 17 и процент потеряных пользователей: 0.2%"
   ]
  },
  {
   "cell_type": "markdown",
   "id": "f8bbb583",
   "metadata": {},
   "source": [
    "## Шаг. Изучим воронку событий"
   ]
  },
  {
   "cell_type": "markdown",
   "id": "39ef04ac",
   "metadata": {},
   "source": [
    "### Посмотрите, какие события есть в логах, как часто они встречаются. Отсортируйте события по частоте."
   ]
  },
  {
   "cell_type": "code",
   "execution_count": 61,
   "id": "e1765f6f",
   "metadata": {},
   "outputs": [
    {
     "data": {
      "image/png": "[encoded data removed]",
      "text/plain": [
       "<Figure size 864x504 with 1 Axes>"
      ]
     },
     "metadata": {
      "needs_background": "light"
     },
     "output_type": "display_data"
    }
   ],
   "source": [
    "a = logs_new.groupby('event_name').agg(\n",
    "                                   {'user_id':'count'}).sort_values(by = 'user_id').reset_index()\n",
    "\n",
    "plt.figure(figsize=(12,7))\n",
    "ax = sns.barplot(x='event_name', y='user_id', data=a)\n",
    "plt.xlabel('События')\n",
    "plt.title('Количественные данные по событиям', alpha=0.5, color=\"b\", fontsize=15)\n",
    "plt.grid()\n",
    "\n",
    "rects = ax.patches\n",
    "labels = [f\"{i}\"for i in a['user_id'].unique()]\n",
    "\n",
    "\n",
    "for rect, label in zip(rects, labels):\n",
    "    height = rect.get_height()\n",
    "    ax.text(\n",
    "        rect.get_x() + rect.get_width() / 2, height + 5, label, ha=\"center\", va=\"bottom\"\n",
    "    )\n",
    "\n",
    "plt.show();"
   ]
  },
  {
   "cell_type": "markdown",
   "id": "fe34929c",
   "metadata": {},
   "source": [
    "**Вывод:**\n",
    "\n",
    "* MainScreenAppear - Главная страница `117328`\n",
    "* OffersScreenAppear - Предложение `46333`\n",
    "* CartScreenAppear - Корзина `42303`\n",
    "* PaymentScreenSuccessful - Успешная оплата `33918`\n",
    "* Tutorial - Руководство `1005`\n",
    "\n"
   ]
  },
  {
   "cell_type": "markdown",
   "id": "06299003",
   "metadata": {},
   "source": [
    "### Посчитаем, сколько пользователей совершали каждое из этих событий. Отсортируем события по числу пользователей. Посчитаем долю пользователей, которые хоть раз совершали событие."
   ]
  },
  {
   "cell_type": "code",
   "execution_count": 62,
   "id": "0a954891",
   "metadata": {},
   "outputs": [
    {
     "name": "stdout",
     "output_type": "stream",
     "text": [
      "Requirement already satisfied: matplotlib in /opt/conda/lib/python3.9/site-packages (3.7.1)\n",
      "Requirement already satisfied: python-dateutil>=2.7 in /opt/conda/lib/python3.9/site-packages (from matplotlib) (2.8.1)\n",
      "Requirement already satisfied: importlib-resources>=3.2.0 in /opt/conda/lib/python3.9/site-packages (from matplotlib) (5.12.0)\n",
      "Requirement already satisfied: fonttools>=4.22.0 in /opt/conda/lib/python3.9/site-packages (from matplotlib) (4.39.4)\n",
      "Requirement already satisfied: cycler>=0.10 in /opt/conda/lib/python3.9/site-packages (from matplotlib) (0.11.0)\n",
      "Requirement already satisfied: pyparsing>=2.3.1 in /opt/conda/lib/python3.9/site-packages (from matplotlib) (2.4.7)\n",
      "Requirement already satisfied: contourpy>=1.0.1 in /opt/conda/lib/python3.9/site-packages (from matplotlib) (1.0.7)\n",
      "Requirement already satisfied: kiwisolver>=1.0.1 in /opt/conda/lib/python3.9/site-packages (from matplotlib) (1.4.4)\n",
      "Requirement already satisfied: numpy>=1.20 in /opt/conda/lib/python3.9/site-packages (from matplotlib) (1.21.1)\n",
      "Requirement already satisfied: pillow>=6.2.0 in /opt/conda/lib/python3.9/site-packages (from matplotlib) (8.4.0)\n",
      "Requirement already satisfied: packaging>=20.0 in /opt/conda/lib/python3.9/site-packages (from matplotlib) (21.3)\n",
      "Requirement already satisfied: zipp>=3.1.0 in /opt/conda/lib/python3.9/site-packages (from importlib-resources>=3.2.0->matplotlib) (3.5.0)\n",
      "Requirement already satisfied: six>=1.5 in /opt/conda/lib/python3.9/site-packages (from python-dateutil>=2.7->matplotlib) (1.16.0)\n"
     ]
    }
   ],
   "source": [
    "!pip install --upgrade matplotlib"
   ]
  },
  {
   "cell_type": "code",
   "execution_count": 63,
   "id": "b07d1ed3",
   "metadata": {
    "scrolled": true
   },
   "outputs": [
    {
     "data": {
      "image/png": "[encoded data removed]",
      "text/plain": [
       "<Figure size 864x504 with 1 Axes>"
      ]
     },
     "metadata": {
      "needs_background": "light"
     },
     "output_type": "display_data"
    }
   ],
   "source": [
    "#Постороим график с частотой событий\n",
    "b = logs_new.groupby('event_name').agg(\n",
    "                                   {'user_id':'nunique'}).sort_values(by = 'user_id').reset_index()\n",
    "plt.figure(figsize=(12,7))\n",
    "b_g = sns.barplot(x='event_name', y='user_id', data=b)\n",
    "plt.xlabel('События')\n",
    "plt.title('Количественные данные по пользователям', alpha=0.5, color=\"b\", fontsize=15)\n",
    "plt.grid()"
   ]
  },
  {
   "cell_type": "markdown",
   "id": "d9917ce6",
   "metadata": {},
   "source": [
    "**Вывод:**\n",
    "\n",
    "Количественные показатели по пользователям\n",
    "* MainScreenAppear - Главная страница `7419`\n",
    "* OffersScreenAppear - Предложение `4593`\n",
    "* CartScreenAppear - Корзина `3734`\n",
    "* PaymentScreenSuccessful - Успешная оплата `3539`\n",
    "* Tutorial - Руководство `840`"
   ]
  },
  {
   "cell_type": "code",
   "execution_count": 74,
   "id": "3b6f1d2c",
   "metadata": {},
   "outputs": [
    {
     "data": {
      "text/html": [
       "<style  type=\"text/css\" >\n",
       "</style><table id=\"T_9d7bf_\" ><thead>    <tr>        <th class=\"blank level0\" ></th>        <th class=\"col_heading level0 col0\" >event_name</th>        <th class=\"col_heading level0 col1\" >user_id</th>        <th class=\"col_heading level0 col2\" >ratio</th>    </tr></thead><tbody>\n",
       "                <tr>\n",
       "                        <th id=\"T_9d7bf_level0_row0\" class=\"row_heading level0 row0\" >0</th>\n",
       "                        <td id=\"T_9d7bf_row0_col0\" class=\"data row0 col0\" >MainScreenAppear</td>\n",
       "                        <td id=\"T_9d7bf_row0_col1\" class=\"data row0 col1\" >7419</td>\n",
       "                        <td id=\"T_9d7bf_row0_col2\" class=\"data row0 col2\" >98.47%</td>\n",
       "            </tr>\n",
       "            <tr>\n",
       "                        <th id=\"T_9d7bf_level0_row1\" class=\"row_heading level0 row1\" >1</th>\n",
       "                        <td id=\"T_9d7bf_row1_col0\" class=\"data row1 col0\" >OffersScreenAppear</td>\n",
       "                        <td id=\"T_9d7bf_row1_col1\" class=\"data row1 col1\" >4593</td>\n",
       "                        <td id=\"T_9d7bf_row1_col2\" class=\"data row1 col2\" >60.96%</td>\n",
       "            </tr>\n",
       "            <tr>\n",
       "                        <th id=\"T_9d7bf_level0_row2\" class=\"row_heading level0 row2\" >2</th>\n",
       "                        <td id=\"T_9d7bf_row2_col0\" class=\"data row2 col0\" >CartScreenAppear</td>\n",
       "                        <td id=\"T_9d7bf_row2_col1\" class=\"data row2 col1\" >3734</td>\n",
       "                        <td id=\"T_9d7bf_row2_col2\" class=\"data row2 col2\" >49.56%</td>\n",
       "            </tr>\n",
       "            <tr>\n",
       "                        <th id=\"T_9d7bf_level0_row3\" class=\"row_heading level0 row3\" >3</th>\n",
       "                        <td id=\"T_9d7bf_row3_col0\" class=\"data row3 col0\" >PaymentScreenSuccessful</td>\n",
       "                        <td id=\"T_9d7bf_row3_col1\" class=\"data row3 col1\" >3539</td>\n",
       "                        <td id=\"T_9d7bf_row3_col2\" class=\"data row3 col2\" >46.97%</td>\n",
       "            </tr>\n",
       "            <tr>\n",
       "                        <th id=\"T_9d7bf_level0_row4\" class=\"row_heading level0 row4\" >4</th>\n",
       "                        <td id=\"T_9d7bf_row4_col0\" class=\"data row4 col0\" >Tutorial</td>\n",
       "                        <td id=\"T_9d7bf_row4_col1\" class=\"data row4 col1\" >840</td>\n",
       "                        <td id=\"T_9d7bf_row4_col2\" class=\"data row4 col2\" >11.15%</td>\n",
       "            </tr>\n",
       "    </tbody></table>"
      ],
      "text/plain": [
       "<pandas.io.formats.style.Styler at 0x7f9a098743a0>"
      ]
     },
     "execution_count": 74,
     "metadata": {},
     "output_type": "execute_result"
    }
   ],
   "source": [
    "#Посчитаем долю пользователей, которые хоть раз совершали событие.\n",
    "logs_new['user_id'].nunique()#найдем количество пользователей кто хотя бы раз совершал событие\n",
    "\n",
    "#Возьмем ранее составленую таблицу по колличественным данным\n",
    "b = logs_new.groupby('event_name').agg(\n",
    "                                   {'user_id':'nunique'}).sort_values(by = 'user_id', ascending = False).reset_index()\n",
    "\n",
    "\n",
    "b['ratio'] = b['user_id'] / logs_new['user_id'].nunique()\n",
    "b_b = b.style.format({'user_id': \"{:.0f}\",'ratio': \"{:.2%}\"})\n",
    "b_b"
   ]
  },
  {
   "cell_type": "markdown",
   "id": "9bd9b5dd",
   "metadata": {},
   "source": [
    "**Вывод:**\n",
    "\n",
    "* MainScreenAppear - Доля пользователей, которые хоть раз совершали событие посещение главной страницы `98%` \n",
    "* OffersScreenAppear - Доля пользователей, которые хоть раз совершали событие посещение страницы c предложением `61%`\n",
    "* CartScreenAppear - Доля пользователей, которые хоть раз совершали событие посещение страницы c корзиной `61%`\n",
    "* PaymentScreenSuccessful - Доля пользователей, которые хоть раз совершали событие посещение страницы c успешной оплатой `47%`  \n",
    "* Tutorial - Доля пользователей, которые хоть раз совершали событие посещение страницы c руководством `11%`    "
   ]
  },
  {
   "cell_type": "markdown",
   "id": "2abf1bf6",
   "metadata": {},
   "source": [
    "### Предположим, в каком порядке происходят события. Все ли они выстраиваются в последовательную цепочку? Их не нужно учитывать при расчёте воронки."
   ]
  },
  {
   "cell_type": "markdown",
   "id": "2c62ae45",
   "metadata": {},
   "source": [
    "Исходя из вышеуказанного вывода можно построить цепочку событий (указаны последовательно): MainScreenAppear (главный экран), OffersScreenAppear (страница с предложением), CartScreenAppear (страница с корзиной), PaymentScreenSuccessful (страница с успешной оплатой). \n",
    "\n",
    "Последнее событие (Tutorial) редко используется пользователями. Тем более, мне кажется, что это событие не относится к воронке, так как его можно посмотреть на любом этапе."
   ]
  },
  {
   "cell_type": "markdown",
   "id": "80734e32",
   "metadata": {},
   "source": [
    "### По воронке событий посчитаем, какая доля пользователей проходит на следующий шаг воронки (от числа пользователей на предыдущем). То есть для последовательности событий A → B → C посчитайте отношение числа пользователей с событием B к количеству пользователей с событием A, а также отношение числа пользователей с событием C к количеству пользователей с событием B."
   ]
  },
  {
   "cell_type": "code",
   "execution_count": 65,
   "id": "55f2b597",
   "metadata": {},
   "outputs": [
    {
     "name": "stderr",
     "output_type": "stream",
     "text": [
      "/tmp/ipykernel_47/325412921.py:4: SettingWithCopyWarning:\n",
      "\n",
      "\n",
      "A value is trying to be set on a copy of a slice from a DataFrame.\n",
      "Try using .loc[row_indexer,col_indexer] = value instead\n",
      "\n",
      "See the caveats in the documentation: https://pandas.pydata.org/pandas-docs/stable/user_guide/indexing.html#returning-a-view-versus-a-copy\n",
      "\n",
      "/tmp/ipykernel_47/325412921.py:5: SettingWithCopyWarning:\n",
      "\n",
      "\n",
      "A value is trying to be set on a copy of a slice from a DataFrame.\n",
      "Try using .loc[row_indexer,col_indexer] = value instead\n",
      "\n",
      "See the caveats in the documentation: https://pandas.pydata.org/pandas-docs/stable/user_guide/indexing.html#returning-a-view-versus-a-copy\n",
      "\n",
      "/tmp/ipykernel_47/325412921.py:6: SettingWithCopyWarning:\n",
      "\n",
      "\n",
      "A value is trying to be set on a copy of a slice from a DataFrame.\n",
      "Try using .loc[row_indexer,col_indexer] = value instead\n",
      "\n",
      "See the caveats in the documentation: https://pandas.pydata.org/pandas-docs/stable/user_guide/indexing.html#returning-a-view-versus-a-copy\n",
      "\n",
      "/tmp/ipykernel_47/325412921.py:7: SettingWithCopyWarning:\n",
      "\n",
      "\n",
      "A value is trying to be set on a copy of a slice from a DataFrame.\n",
      "Try using .loc[row_indexer,col_indexer] = value instead\n",
      "\n",
      "See the caveats in the documentation: https://pandas.pydata.org/pandas-docs/stable/user_guide/indexing.html#returning-a-view-versus-a-copy\n",
      "\n",
      "/tmp/ipykernel_47/325412921.py:8: SettingWithCopyWarning:\n",
      "\n",
      "\n",
      "A value is trying to be set on a copy of a slice from a DataFrame.\n",
      "Try using .loc[row_indexer,col_indexer] = value instead\n",
      "\n",
      "See the caveats in the documentation: https://pandas.pydata.org/pandas-docs/stable/user_guide/indexing.html#returning-a-view-versus-a-copy\n",
      "\n"
     ]
    },
    {
     "data": {
      "text/html": [
       "<div>\n",
       "<style scoped>\n",
       "    .dataframe tbody tr th:only-of-type {\n",
       "        vertical-align: middle;\n",
       "    }\n",
       "\n",
       "    .dataframe tbody tr th {\n",
       "        vertical-align: top;\n",
       "    }\n",
       "\n",
       "    .dataframe thead th {\n",
       "        text-align: right;\n",
       "    }\n",
       "</style>\n",
       "<table border=\"1\" class=\"dataframe\">\n",
       "  <thead>\n",
       "    <tr style=\"text-align: right;\">\n",
       "      <th></th>\n",
       "      <th>event_name</th>\n",
       "      <th>user_id</th>\n",
       "      <th>ratio</th>\n",
       "      <th>difference_of_shares</th>\n",
       "      <th>difference</th>\n",
       "    </tr>\n",
       "  </thead>\n",
       "  <tbody>\n",
       "    <tr>\n",
       "      <th>0</th>\n",
       "      <td>MainScreenAppear</td>\n",
       "      <td>7419</td>\n",
       "      <td>0.984736</td>\n",
       "      <td>100.00</td>\n",
       "      <td>7419.0</td>\n",
       "    </tr>\n",
       "    <tr>\n",
       "      <th>1</th>\n",
       "      <td>OffersScreenAppear</td>\n",
       "      <td>4593</td>\n",
       "      <td>0.609636</td>\n",
       "      <td>61.91</td>\n",
       "      <td>2826.0</td>\n",
       "    </tr>\n",
       "    <tr>\n",
       "      <th>2</th>\n",
       "      <td>CartScreenAppear</td>\n",
       "      <td>3734</td>\n",
       "      <td>0.495620</td>\n",
       "      <td>81.30</td>\n",
       "      <td>859.0</td>\n",
       "    </tr>\n",
       "    <tr>\n",
       "      <th>3</th>\n",
       "      <td>PaymentScreenSuccessful</td>\n",
       "      <td>3539</td>\n",
       "      <td>0.469737</td>\n",
       "      <td>94.78</td>\n",
       "      <td>195.0</td>\n",
       "    </tr>\n",
       "  </tbody>\n",
       "</table>\n",
       "</div>"
      ],
      "text/plain": [
       "                event_name  user_id     ratio  difference_of_shares  \\\n",
       "0         MainScreenAppear     7419  0.984736                100.00   \n",
       "1       OffersScreenAppear     4593  0.609636                 61.91   \n",
       "2         CartScreenAppear     3734  0.495620                 81.30   \n",
       "3  PaymentScreenSuccessful     3539  0.469737                 94.78   \n",
       "\n",
       "   difference  \n",
       "0      7419.0  \n",
       "1      2826.0  \n",
       "2       859.0  \n",
       "3       195.0  "
      ]
     },
     "execution_count": 65,
     "metadata": {},
     "output_type": "execute_result"
    }
   ],
   "source": [
    "#Посчитаем отношение пользователей\n",
    "b = b[b['event_name'] != 'Tutorial']\n",
    "\n",
    "b['difference_of_shares'] = b['user_id'] / b['user_id'].shift()\n",
    "b['difference_of_shares'] = b['difference_of_shares'].fillna(1)\n",
    "b['difference'] = abs(b['user_id'] - b['user_id'].shift())\n",
    "b['difference'] = b['difference'].fillna(b['user_id'][0])\n",
    "b['difference_of_shares'] = round(b['difference_of_shares'] * 100, 2)\n",
    "b"
   ]
  },
  {
   "cell_type": "code",
   "execution_count": 66,
   "id": "0ab76311",
   "metadata": {},
   "outputs": [
    {
     "data": {
      "application/vnd.plotly.v1+json": {
       "config": {
        "plotlyServerURL": "https://plot.ly"
       },
       "data": [
        {
         "type": "funnel",
         "x": [
          7419,
          4593,
          3734,
          3539
         ],
         "y": [
          "MainScreenAppear",
          "OffersScreenAppear",
          "CartScreenAppear",
          "PaymentScreenSuccessful"
         ]
        }
       ],
       "layout": {
        "template": {
         "data": {
          "bar": [
           {
            "error_x": {
             "color": "#2a3f5f"
            },
            "error_y": {
             "color": "#2a3f5f"
            },
            "marker": {
             "line": {
              "color": "#E5ECF6",
              "width": 0.5
             },
             "pattern": {
              "fillmode": "overlay",
              "size": 10,
              "solidity": 0.2
             }
            },
            "type": "bar"
           }
          ],
          "barpolar": [
           {
            "marker": {
             "line": {
              "color": "#E5ECF6",
              "width": 0.5
             },
             "pattern": {
              "fillmode": "overlay",
              "size": 10,
              "solidity": 0.2
             }
            },
            "type": "barpolar"
           }
          ],
          "carpet": [
           {
            "aaxis": {
             "endlinecolor": "#2a3f5f",
             "gridcolor": "white",
             "linecolor": "white",
             "minorgridcolor": "white",
             "startlinecolor": "#2a3f5f"
            },
            "baxis": {
             "endlinecolor": "#2a3f5f",
             "gridcolor": "white",
             "linecolor": "white",
             "minorgridcolor": "white",
             "startlinecolor": "#2a3f5f"
            },
            "type": "carpet"
           }
          ],
          "choropleth": [
           {
            "colorbar": {
             "outlinewidth": 0,
             "ticks": ""
            },
            "type": "choropleth"
           }
          ],
          "contour": [
           {
            "colorbar": {
             "outlinewidth": 0,
             "ticks": ""
            },
            "colorscale": [
             [
              0,
              "#0d0887"
             ],
             [
              0.1111111111111111,
              "#46039f"
             ],
             [
              0.2222222222222222,
              "#7201a8"
             ],
             [
              0.3333333333333333,
              "#9c179e"
             ],
             [
              0.4444444444444444,
              "#bd3786"
             ],
             [
              0.5555555555555556,
              "#d8576b"
             ],
             [
              0.6666666666666666,
              "#ed7953"
             ],
             [
              0.7777777777777778,
              "#fb9f3a"
             ],
             [
              0.8888888888888888,
              "#fdca26"
             ],
             [
              1,
              "#f0f921"
             ]
            ],
            "type": "contour"
           }
          ],
          "contourcarpet": [
           {
            "colorbar": {
             "outlinewidth": 0,
             "ticks": ""
            },
            "type": "contourcarpet"
           }
          ],
          "heatmap": [
           {
            "colorbar": {
             "outlinewidth": 0,
             "ticks": ""
            },
            "colorscale": [
             [
              0,
              "#0d0887"
             ],
             [
              0.1111111111111111,
              "#46039f"
             ],
             [
              0.2222222222222222,
              "#7201a8"
             ],
             [
              0.3333333333333333,
              "#9c179e"
             ],
             [
              0.4444444444444444,
              "#bd3786"
             ],
             [
              0.5555555555555556,
              "#d8576b"
             ],
             [
              0.6666666666666666,
              "#ed7953"
             ],
             [
              0.7777777777777778,
              "#fb9f3a"
             ],
             [
              0.8888888888888888,
              "#fdca26"
             ],
             [
              1,
              "#f0f921"
             ]
            ],
            "type": "heatmap"
           }
          ],
          "heatmapgl": [
           {
            "colorbar": {
             "outlinewidth": 0,
             "ticks": ""
            },
            "colorscale": [
             [
              0,
              "#0d0887"
             ],
             [
              0.1111111111111111,
              "#46039f"
             ],
             [
              0.2222222222222222,
              "#7201a8"
             ],
             [
              0.3333333333333333,
              "#9c179e"
             ],
             [
              0.4444444444444444,
              "#bd3786"
             ],
             [
              0.5555555555555556,
              "#d8576b"
             ],
             [
              0.6666666666666666,
              "#ed7953"
             ],
             [
              0.7777777777777778,
              "#fb9f3a"
             ],
             [
              0.8888888888888888,
              "#fdca26"
             ],
             [
              1,
              "#f0f921"
             ]
            ],
            "type": "heatmapgl"
           }
          ],
          "histogram": [
           {
            "marker": {
             "pattern": {
              "fillmode": "overlay",
              "size": 10,
              "solidity": 0.2
             }
            },
            "type": "histogram"
           }
          ],
          "histogram2d": [
           {
            "colorbar": {
             "outlinewidth": 0,
             "ticks": ""
            },
            "colorscale": [
             [
              0,
              "#0d0887"
             ],
             [
              0.1111111111111111,
              "#46039f"
             ],
             [
              0.2222222222222222,
              "#7201a8"
             ],
             [
              0.3333333333333333,
              "#9c179e"
             ],
             [
              0.4444444444444444,
              "#bd3786"
             ],
             [
              0.5555555555555556,
              "#d8576b"
             ],
             [
              0.6666666666666666,
              "#ed7953"
             ],
             [
              0.7777777777777778,
              "#fb9f3a"
             ],
             [
              0.8888888888888888,
              "#fdca26"
             ],
             [
              1,
              "#f0f921"
             ]
            ],
            "type": "histogram2d"
           }
          ],
          "histogram2dcontour": [
           {
            "colorbar": {
             "outlinewidth": 0,
             "ticks": ""
            },
            "colorscale": [
             [
              0,
              "#0d0887"
             ],
             [
              0.1111111111111111,
              "#46039f"
             ],
             [
              0.2222222222222222,
              "#7201a8"
             ],
             [
              0.3333333333333333,
              "#9c179e"
             ],
             [
              0.4444444444444444,
              "#bd3786"
             ],
             [
              0.5555555555555556,
              "#d8576b"
             ],
             [
              0.6666666666666666,
              "#ed7953"
             ],
             [
              0.7777777777777778,
              "#fb9f3a"
             ],
             [
              0.8888888888888888,
              "#fdca26"
             ],
             [
              1,
              "#f0f921"
             ]
            ],
            "type": "histogram2dcontour"
           }
          ],
          "mesh3d": [
           {
            "colorbar": {
             "outlinewidth": 0,
             "ticks": ""
            },
            "type": "mesh3d"
           }
          ],
          "parcoords": [
           {
            "line": {
             "colorbar": {
              "outlinewidth": 0,
              "ticks": ""
             }
            },
            "type": "parcoords"
           }
          ],
          "pie": [
           {
            "automargin": true,
            "type": "pie"
           }
          ],
          "scatter": [
           {
            "marker": {
             "colorbar": {
              "outlinewidth": 0,
              "ticks": ""
             }
            },
            "type": "scatter"
           }
          ],
          "scatter3d": [
           {
            "line": {
             "colorbar": {
              "outlinewidth": 0,
              "ticks": ""
             }
            },
            "marker": {
             "colorbar": {
              "outlinewidth": 0,
              "ticks": ""
             }
            },
            "type": "scatter3d"
           }
          ],
          "scattercarpet": [
           {
            "marker": {
             "colorbar": {
              "outlinewidth": 0,
              "ticks": ""
             }
            },
            "type": "scattercarpet"
           }
          ],
          "scattergeo": [
           {
            "marker": {
             "colorbar": {
              "outlinewidth": 0,
              "ticks": ""
             }
            },
            "type": "scattergeo"
           }
          ],
          "scattergl": [
           {
            "marker": {
             "colorbar": {
              "outlinewidth": 0,
              "ticks": ""
             }
            },
            "type": "scattergl"
           }
          ],
          "scattermapbox": [
           {
            "marker": {
             "colorbar": {
              "outlinewidth": 0,
              "ticks": ""
             }
            },
            "type": "scattermapbox"
           }
          ],
          "scatterpolar": [
           {
            "marker": {
             "colorbar": {
              "outlinewidth": 0,
              "ticks": ""
             }
            },
            "type": "scatterpolar"
           }
          ],
          "scatterpolargl": [
           {
            "marker": {
             "colorbar": {
              "outlinewidth": 0,
              "ticks": ""
             }
            },
            "type": "scatterpolargl"
           }
          ],
          "scatterternary": [
           {
            "marker": {
             "colorbar": {
              "outlinewidth": 0,
              "ticks": ""
             }
            },
            "type": "scatterternary"
           }
          ],
          "surface": [
           {
            "colorbar": {
             "outlinewidth": 0,
             "ticks": ""
            },
            "colorscale": [
             [
              0,
              "#0d0887"
             ],
             [
              0.1111111111111111,
              "#46039f"
             ],
             [
              0.2222222222222222,
              "#7201a8"
             ],
             [
              0.3333333333333333,
              "#9c179e"
             ],
             [
              0.4444444444444444,
              "#bd3786"
             ],
             [
              0.5555555555555556,
              "#d8576b"
             ],
             [
              0.6666666666666666,
              "#ed7953"
             ],
             [
              0.7777777777777778,
              "#fb9f3a"
             ],
             [
              0.8888888888888888,
              "#fdca26"
             ],
             [
              1,
              "#f0f921"
             ]
            ],
            "type": "surface"
           }
          ],
          "table": [
           {
            "cells": {
             "fill": {
              "color": "#EBF0F8"
             },
             "line": {
              "color": "white"
             }
            },
            "header": {
             "fill": {
              "color": "#C8D4E3"
             },
             "line": {
              "color": "white"
             }
            },
            "type": "table"
           }
          ]
         },
         "layout": {
          "annotationdefaults": {
           "arrowcolor": "#2a3f5f",
           "arrowhead": 0,
           "arrowwidth": 1
          },
          "autotypenumbers": "strict",
          "coloraxis": {
           "colorbar": {
            "outlinewidth": 0,
            "ticks": ""
           }
          },
          "colorscale": {
           "diverging": [
            [
             0,
             "#8e0152"
            ],
            [
             0.1,
             "#c51b7d"
            ],
            [
             0.2,
             "#de77ae"
            ],
            [
             0.3,
             "#f1b6da"
            ],
            [
             0.4,
             "#fde0ef"
            ],
            [
             0.5,
             "#f7f7f7"
            ],
            [
             0.6,
             "#e6f5d0"
            ],
            [
             0.7,
             "#b8e186"
            ],
            [
             0.8,
             "#7fbc41"
            ],
            [
             0.9,
             "#4d9221"
            ],
            [
             1,
             "#276419"
            ]
           ],
           "sequential": [
            [
             0,
             "#0d0887"
            ],
            [
             0.1111111111111111,
             "#46039f"
            ],
            [
             0.2222222222222222,
             "#7201a8"
            ],
            [
             0.3333333333333333,
             "#9c179e"
            ],
            [
             0.4444444444444444,
             "#bd3786"
            ],
            [
             0.5555555555555556,
             "#d8576b"
            ],
            [
             0.6666666666666666,
             "#ed7953"
            ],
            [
             0.7777777777777778,
             "#fb9f3a"
            ],
            [
             0.8888888888888888,
             "#fdca26"
            ],
            [
             1,
             "#f0f921"
            ]
           ],
           "sequentialminus": [
            [
             0,
             "#0d0887"
            ],
            [
             0.1111111111111111,
             "#46039f"
            ],
            [
             0.2222222222222222,
             "#7201a8"
            ],
            [
             0.3333333333333333,
             "#9c179e"
            ],
            [
             0.4444444444444444,
             "#bd3786"
            ],
            [
             0.5555555555555556,
             "#d8576b"
            ],
            [
             0.6666666666666666,
             "#ed7953"
            ],
            [
             0.7777777777777778,
             "#fb9f3a"
            ],
            [
             0.8888888888888888,
             "#fdca26"
            ],
            [
             1,
             "#f0f921"
            ]
           ]
          },
          "colorway": [
           "#636efa",
           "#EF553B",
           "#00cc96",
           "#ab63fa",
           "#FFA15A",
           "#19d3f3",
           "#FF6692",
           "#B6E880",
           "#FF97FF",
           "#FECB52"
          ],
          "font": {
           "color": "#2a3f5f"
          },
          "geo": {
           "bgcolor": "white",
           "lakecolor": "white",
           "landcolor": "#E5ECF6",
           "showlakes": true,
           "showland": true,
           "subunitcolor": "white"
          },
          "hoverlabel": {
           "align": "left"
          },
          "hovermode": "closest",
          "mapbox": {
           "style": "light"
          },
          "paper_bgcolor": "white",
          "plot_bgcolor": "#E5ECF6",
          "polar": {
           "angularaxis": {
            "gridcolor": "white",
            "linecolor": "white",
            "ticks": ""
           },
           "bgcolor": "#E5ECF6",
           "radialaxis": {
            "gridcolor": "white",
            "linecolor": "white",
            "ticks": ""
           }
          },
          "scene": {
           "xaxis": {
            "backgroundcolor": "#E5ECF6",
            "gridcolor": "white",
            "gridwidth": 2,
            "linecolor": "white",
            "showbackground": true,
            "ticks": "",
            "zerolinecolor": "white"
           },
           "yaxis": {
            "backgroundcolor": "#E5ECF6",
            "gridcolor": "white",
            "gridwidth": 2,
            "linecolor": "white",
            "showbackground": true,
            "ticks": "",
            "zerolinecolor": "white"
           },
           "zaxis": {
            "backgroundcolor": "#E5ECF6",
            "gridcolor": "white",
            "gridwidth": 2,
            "linecolor": "white",
            "showbackground": true,
            "ticks": "",
            "zerolinecolor": "white"
           }
          },
          "shapedefaults": {
           "line": {
            "color": "#2a3f5f"
           }
          },
          "ternary": {
           "aaxis": {
            "gridcolor": "white",
            "linecolor": "white",
            "ticks": ""
           },
           "baxis": {
            "gridcolor": "white",
            "linecolor": "white",
            "ticks": ""
           },
           "bgcolor": "#E5ECF6",
           "caxis": {
            "gridcolor": "white",
            "linecolor": "white",
            "ticks": ""
           }
          },
          "title": {
           "x": 0.05
          },
          "xaxis": {
           "automargin": true,
           "gridcolor": "white",
           "linecolor": "white",
           "ticks": "",
           "title": {
            "standoff": 15
           },
           "zerolinecolor": "white",
           "zerolinewidth": 2
          },
          "yaxis": {
           "automargin": true,
           "gridcolor": "white",
           "linecolor": "white",
           "ticks": "",
           "title": {
            "standoff": 15
           },
           "zerolinecolor": "white",
           "zerolinewidth": 2
          }
         }
        }
       }
      },
      "text/html": [
       "<div>                            <div id=\"8ad469a0-2e76-43fe-b3a9-b13a773b0c2a\" class=\"plotly-graph-div\" style=\"height:525px; width:100%;\"></div>            <script type=\"text/javascript\">                require([\"plotly\"], function(Plotly) {                    window.PLOTLYENV=window.PLOTLYENV || {};                                    if (document.getElementById(\"8ad469a0-2e76-43fe-b3a9-b13a773b0c2a\")) {                    Plotly.newPlot(                        \"8ad469a0-2e76-43fe-b3a9-b13a773b0c2a\",                        [{\"x\":[7419,4593,3734,3539],\"y\":[\"MainScreenAppear\",\"OffersScreenAppear\",\"CartScreenAppear\",\"PaymentScreenSuccessful\"],\"type\":\"funnel\"}],                        {\"template\":{\"data\":{\"bar\":[{\"error_x\":{\"color\":\"#2a3f5f\"},\"error_y\":{\"color\":\"#2a3f5f\"},\"marker\":{\"line\":{\"color\":\"#E5ECF6\",\"width\":0.5},\"pattern\":{\"fillmode\":\"overlay\",\"size\":10,\"solidity\":0.2}},\"type\":\"bar\"}],\"barpolar\":[{\"marker\":{\"line\":{\"color\":\"#E5ECF6\",\"width\":0.5},\"pattern\":{\"fillmode\":\"overlay\",\"size\":10,\"solidity\":0.2}},\"type\":\"barpolar\"}],\"carpet\":[{\"aaxis\":{\"endlinecolor\":\"#2a3f5f\",\"gridcolor\":\"white\",\"linecolor\":\"white\",\"minorgridcolor\":\"white\",\"startlinecolor\":\"#2a3f5f\"},\"baxis\":{\"endlinecolor\":\"#2a3f5f\",\"gridcolor\":\"white\",\"linecolor\":\"white\",\"minorgridcolor\":\"white\",\"startlinecolor\":\"#2a3f5f\"},\"type\":\"carpet\"}],\"choropleth\":[{\"colorbar\":{\"outlinewidth\":0,\"ticks\":\"\"},\"type\":\"choropleth\"}],\"contour\":[{\"colorbar\":{\"outlinewidth\":0,\"ticks\":\"\"},\"colorscale\":[[0.0,\"#0d0887\"],[0.1111111111111111,\"#46039f\"],[0.2222222222222222,\"#7201a8\"],[0.3333333333333333,\"#9c179e\"],[0.4444444444444444,\"#bd3786\"],[0.5555555555555556,\"#d8576b\"],[0.6666666666666666,\"#ed7953\"],[0.7777777777777778,\"#fb9f3a\"],[0.8888888888888888,\"#fdca26\"],[1.0,\"#f0f921\"]],\"type\":\"contour\"}],\"contourcarpet\":[{\"colorbar\":{\"outlinewidth\":0,\"ticks\":\"\"},\"type\":\"contourcarpet\"}],\"heatmap\":[{\"colorbar\":{\"outlinewidth\":0,\"ticks\":\"\"},\"colorscale\":[[0.0,\"#0d0887\"],[0.1111111111111111,\"#46039f\"],[0.2222222222222222,\"#7201a8\"],[0.3333333333333333,\"#9c179e\"],[0.4444444444444444,\"#bd3786\"],[0.5555555555555556,\"#d8576b\"],[0.6666666666666666,\"#ed7953\"],[0.7777777777777778,\"#fb9f3a\"],[0.8888888888888888,\"#fdca26\"],[1.0,\"#f0f921\"]],\"type\":\"heatmap\"}],\"heatmapgl\":[{\"colorbar\":{\"outlinewidth\":0,\"ticks\":\"\"},\"colorscale\":[[0.0,\"#0d0887\"],[0.1111111111111111,\"#46039f\"],[0.2222222222222222,\"#7201a8\"],[0.3333333333333333,\"#9c179e\"],[0.4444444444444444,\"#bd3786\"],[0.5555555555555556,\"#d8576b\"],[0.6666666666666666,\"#ed7953\"],[0.7777777777777778,\"#fb9f3a\"],[0.8888888888888888,\"#fdca26\"],[1.0,\"#f0f921\"]],\"type\":\"heatmapgl\"}],\"histogram\":[{\"marker\":{\"pattern\":{\"fillmode\":\"overlay\",\"size\":10,\"solidity\":0.2}},\"type\":\"histogram\"}],\"histogram2d\":[{\"colorbar\":{\"outlinewidth\":0,\"ticks\":\"\"},\"colorscale\":[[0.0,\"#0d0887\"],[0.1111111111111111,\"#46039f\"],[0.2222222222222222,\"#7201a8\"],[0.3333333333333333,\"#9c179e\"],[0.4444444444444444,\"#bd3786\"],[0.5555555555555556,\"#d8576b\"],[0.6666666666666666,\"#ed7953\"],[0.7777777777777778,\"#fb9f3a\"],[0.8888888888888888,\"#fdca26\"],[1.0,\"#f0f921\"]],\"type\":\"histogram2d\"}],\"histogram2dcontour\":[{\"colorbar\":{\"outlinewidth\":0,\"ticks\":\"\"},\"colorscale\":[[0.0,\"#0d0887\"],[0.1111111111111111,\"#46039f\"],[0.2222222222222222,\"#7201a8\"],[0.3333333333333333,\"#9c179e\"],[0.4444444444444444,\"#bd3786\"],[0.5555555555555556,\"#d8576b\"],[0.6666666666666666,\"#ed7953\"],[0.7777777777777778,\"#fb9f3a\"],[0.8888888888888888,\"#fdca26\"],[1.0,\"#f0f921\"]],\"type\":\"histogram2dcontour\"}],\"mesh3d\":[{\"colorbar\":{\"outlinewidth\":0,\"ticks\":\"\"},\"type\":\"mesh3d\"}],\"parcoords\":[{\"line\":{\"colorbar\":{\"outlinewidth\":0,\"ticks\":\"\"}},\"type\":\"parcoords\"}],\"pie\":[{\"automargin\":true,\"type\":\"pie\"}],\"scatter\":[{\"marker\":{\"colorbar\":{\"outlinewidth\":0,\"ticks\":\"\"}},\"type\":\"scatter\"}],\"scatter3d\":[{\"line\":{\"colorbar\":{\"outlinewidth\":0,\"ticks\":\"\"}},\"marker\":{\"colorbar\":{\"outlinewidth\":0,\"ticks\":\"\"}},\"type\":\"scatter3d\"}],\"scattercarpet\":[{\"marker\":{\"colorbar\":{\"outlinewidth\":0,\"ticks\":\"\"}},\"type\":\"scattercarpet\"}],\"scattergeo\":[{\"marker\":{\"colorbar\":{\"outlinewidth\":0,\"ticks\":\"\"}},\"type\":\"scattergeo\"}],\"scattergl\":[{\"marker\":{\"colorbar\":{\"outlinewidth\":0,\"ticks\":\"\"}},\"type\":\"scattergl\"}],\"scattermapbox\":[{\"marker\":{\"colorbar\":{\"outlinewidth\":0,\"ticks\":\"\"}},\"type\":\"scattermapbox\"}],\"scatterpolar\":[{\"marker\":{\"colorbar\":{\"outlinewidth\":0,\"ticks\":\"\"}},\"type\":\"scatterpolar\"}],\"scatterpolargl\":[{\"marker\":{\"colorbar\":{\"outlinewidth\":0,\"ticks\":\"\"}},\"type\":\"scatterpolargl\"}],\"scatterternary\":[{\"marker\":{\"colorbar\":{\"outlinewidth\":0,\"ticks\":\"\"}},\"type\":\"scatterternary\"}],\"surface\":[{\"colorbar\":{\"outlinewidth\":0,\"ticks\":\"\"},\"colorscale\":[[0.0,\"#0d0887\"],[0.1111111111111111,\"#46039f\"],[0.2222222222222222,\"#7201a8\"],[0.3333333333333333,\"#9c179e\"],[0.4444444444444444,\"#bd3786\"],[0.5555555555555556,\"#d8576b\"],[0.6666666666666666,\"#ed7953\"],[0.7777777777777778,\"#fb9f3a\"],[0.8888888888888888,\"#fdca26\"],[1.0,\"#f0f921\"]],\"type\":\"surface\"}],\"table\":[{\"cells\":{\"fill\":{\"color\":\"#EBF0F8\"},\"line\":{\"color\":\"white\"}},\"header\":{\"fill\":{\"color\":\"#C8D4E3\"},\"line\":{\"color\":\"white\"}},\"type\":\"table\"}]},\"layout\":{\"annotationdefaults\":{\"arrowcolor\":\"#2a3f5f\",\"arrowhead\":0,\"arrowwidth\":1},\"autotypenumbers\":\"strict\",\"coloraxis\":{\"colorbar\":{\"outlinewidth\":0,\"ticks\":\"\"}},\"colorscale\":{\"diverging\":[[0,\"#8e0152\"],[0.1,\"#c51b7d\"],[0.2,\"#de77ae\"],[0.3,\"#f1b6da\"],[0.4,\"#fde0ef\"],[0.5,\"#f7f7f7\"],[0.6,\"#e6f5d0\"],[0.7,\"#b8e186\"],[0.8,\"#7fbc41\"],[0.9,\"#4d9221\"],[1,\"#276419\"]],\"sequential\":[[0.0,\"#0d0887\"],[0.1111111111111111,\"#46039f\"],[0.2222222222222222,\"#7201a8\"],[0.3333333333333333,\"#9c179e\"],[0.4444444444444444,\"#bd3786\"],[0.5555555555555556,\"#d8576b\"],[0.6666666666666666,\"#ed7953\"],[0.7777777777777778,\"#fb9f3a\"],[0.8888888888888888,\"#fdca26\"],[1.0,\"#f0f921\"]],\"sequentialminus\":[[0.0,\"#0d0887\"],[0.1111111111111111,\"#46039f\"],[0.2222222222222222,\"#7201a8\"],[0.3333333333333333,\"#9c179e\"],[0.4444444444444444,\"#bd3786\"],[0.5555555555555556,\"#d8576b\"],[0.6666666666666666,\"#ed7953\"],[0.7777777777777778,\"#fb9f3a\"],[0.8888888888888888,\"#fdca26\"],[1.0,\"#f0f921\"]]},\"colorway\":[\"#636efa\",\"#EF553B\",\"#00cc96\",\"#ab63fa\",\"#FFA15A\",\"#19d3f3\",\"#FF6692\",\"#B6E880\",\"#FF97FF\",\"#FECB52\"],\"font\":{\"color\":\"#2a3f5f\"},\"geo\":{\"bgcolor\":\"white\",\"lakecolor\":\"white\",\"landcolor\":\"#E5ECF6\",\"showlakes\":true,\"showland\":true,\"subunitcolor\":\"white\"},\"hoverlabel\":{\"align\":\"left\"},\"hovermode\":\"closest\",\"mapbox\":{\"style\":\"light\"},\"paper_bgcolor\":\"white\",\"plot_bgcolor\":\"#E5ECF6\",\"polar\":{\"angularaxis\":{\"gridcolor\":\"white\",\"linecolor\":\"white\",\"ticks\":\"\"},\"bgcolor\":\"#E5ECF6\",\"radialaxis\":{\"gridcolor\":\"white\",\"linecolor\":\"white\",\"ticks\":\"\"}},\"scene\":{\"xaxis\":{\"backgroundcolor\":\"#E5ECF6\",\"gridcolor\":\"white\",\"gridwidth\":2,\"linecolor\":\"white\",\"showbackground\":true,\"ticks\":\"\",\"zerolinecolor\":\"white\"},\"yaxis\":{\"backgroundcolor\":\"#E5ECF6\",\"gridcolor\":\"white\",\"gridwidth\":2,\"linecolor\":\"white\",\"showbackground\":true,\"ticks\":\"\",\"zerolinecolor\":\"white\"},\"zaxis\":{\"backgroundcolor\":\"#E5ECF6\",\"gridcolor\":\"white\",\"gridwidth\":2,\"linecolor\":\"white\",\"showbackground\":true,\"ticks\":\"\",\"zerolinecolor\":\"white\"}},\"shapedefaults\":{\"line\":{\"color\":\"#2a3f5f\"}},\"ternary\":{\"aaxis\":{\"gridcolor\":\"white\",\"linecolor\":\"white\",\"ticks\":\"\"},\"baxis\":{\"gridcolor\":\"white\",\"linecolor\":\"white\",\"ticks\":\"\"},\"bgcolor\":\"#E5ECF6\",\"caxis\":{\"gridcolor\":\"white\",\"linecolor\":\"white\",\"ticks\":\"\"}},\"title\":{\"x\":0.05},\"xaxis\":{\"automargin\":true,\"gridcolor\":\"white\",\"linecolor\":\"white\",\"ticks\":\"\",\"title\":{\"standoff\":15},\"zerolinecolor\":\"white\",\"zerolinewidth\":2},\"yaxis\":{\"automargin\":true,\"gridcolor\":\"white\",\"linecolor\":\"white\",\"ticks\":\"\",\"title\":{\"standoff\":15},\"zerolinecolor\":\"white\",\"zerolinewidth\":2}}}},                        {\"responsive\": true}                    ).then(function(){\n",
       "                            \n",
       "var gd = document.getElementById('8ad469a0-2e76-43fe-b3a9-b13a773b0c2a');\n",
       "var x = new MutationObserver(function (mutations, observer) {{\n",
       "        var display = window.getComputedStyle(gd).display;\n",
       "        if (!display || display === 'none') {{\n",
       "            console.log([gd, 'removed!']);\n",
       "            Plotly.purge(gd);\n",
       "            observer.disconnect();\n",
       "        }}\n",
       "}});\n",
       "\n",
       "// Listen for the removal of the full notebook cells\n",
       "var notebookContainer = gd.closest('#notebook-container');\n",
       "if (notebookContainer) {{\n",
       "    x.observe(notebookContainer, {childList: true});\n",
       "}}\n",
       "\n",
       "// Listen for the clearing of the current output cell\n",
       "var outputEl = gd.closest('.output');\n",
       "if (outputEl) {{\n",
       "    x.observe(outputEl, {childList: true});\n",
       "}}\n",
       "\n",
       "                        })                };                });            </script>        </div>"
      ]
     },
     "metadata": {},
     "output_type": "display_data"
    }
   ],
   "source": [
    "#Для наглядности посмотрим на воронку переходов\n",
    "fig = go.Figure(go.Funnel(x=b['user_id'], y=b['event_name']))\n",
    "fig.show();"
   ]
  },
  {
   "cell_type": "markdown",
   "id": "b9933a46",
   "metadata": {},
   "source": [
    " **Вывод:**\n",
    "\n",
    "Исходя из вышеописанного можно сделать вывод. Меньше всего конверируются пользователи, которые переходят с главного экрана на страницу с предложением. "
   ]
  },
  {
   "cell_type": "markdown",
   "id": "ce63f37c",
   "metadata": {},
   "source": [
    "### Какая доля пользователей доходит от первого события до оплаты?"
   ]
  },
  {
   "cell_type": "code",
   "execution_count": 67,
   "id": "3abf2350",
   "metadata": {},
   "outputs": [
    {
     "name": "stdout",
     "output_type": "stream",
     "text": [
      "Доля пользователей прошедшая от первого события до оплаты: 47.7%\n"
     ]
    }
   ],
   "source": [
    "#Вычленим из таблицы значения MainScreenAppear и PaymentScreenSuccessful\n",
    "print('Доля пользователей прошедшая от первого события до оплаты: {0:.1%}'.format(b['user_id'].loc[b.index[3]] \n",
    "                                                                 / b['user_id'].loc[b.index[0]]))\n"
   ]
  },
  {
   "cell_type": "markdown",
   "id": "3934a057",
   "metadata": {},
   "source": [
    " **Вывод:**\n",
    " \n",
    "По итогам анализа, мы установили - какие события есть в логах и как часто они встречаются.\n",
    "* MainScreenAppear - Главная страница 117328\n",
    "* OffersScreenAppear - Предложение 46333\n",
    "* CartScreenAppear - Корзина 42303\n",
    "* PaymentScreenSuccessful - Успешная оплата 33918\n",
    "* Tutorial - Руководство 1005\n",
    "\n",
    "Посчитали количество пользователей, которые совершали каждое из вышеописанных событий.\n",
    "\n",
    "* MainScreenAppear - Главная страница 7419\n",
    "* OffersScreenAppear - Предложение 4593\n",
    "* CartScreenAppear - Корзина 3734\n",
    "* PaymentScreenSuccessful - Успешная оплата 3539\n",
    "* Tutorial - Руководство 840\n",
    "\n",
    "Выявили долю пользователей, которые хоть раз совершали событие.\n",
    "\n",
    "* MainScreenAppear - Доля пользователей, которые хоть раз совершали событие посещение главной страницы 98%\n",
    "* OffersScreenAppear - Доля пользователей, которые хоть раз совершали событие посещение страницы c предложением 61%\n",
    "* CartScreenAppear - Доля пользователей, которые хоть раз совершали событие посещение страницы c корзиной 61%\n",
    "* PaymentScreenSuccessful - Доля пользователей, которые хоть раз совершали событие посещение страницы c успешной оплатой 47%\n",
    "* Tutorial - Доля пользователей, которые хоть раз совершали событие посещение страницы c руководством 11%\n",
    "\n",
    "Установили цепочку, в которой происходят события в виде воронки -  MainScreenAppear (главный экран), OffersScreenAppear (страница с предложением), CartScreenAppear (страница с корзиной), PaymentScreenSuccessful (страница с успешной оплатой).\n",
    " \n",
    "Последнее событие (Tutorial) редко используется пользователями. Тем более, мне кажется, что это событие не относится к воронке, так как его можно посмотреть на любом этапе.\n",
    "\n",
    "Посчитали какая доля пользоваетелей переходит на следующий шаг:\n",
    "\n",
    "* MainScreenAppear 100.00%\n",
    "* OffersScreenAppear 61.91%\n",
    "* CartScreenAppear 81.30%\n",
    "* PaymentScreenSuccessful 94.78%\n",
    "\n",
    "Нашли долю пользователей, которая доходит от первого события до оплаты - 47.7%"
   ]
  },
  {
   "cell_type": "markdown",
   "id": "a25d0a82",
   "metadata": {},
   "source": [
    "## Шаг. Изучим результаты эксперимента"
   ]
  },
  {
   "cell_type": "markdown",
   "id": "a6c5d7ba",
   "metadata": {},
   "source": [
    "### Сколько пользователей в каждой экспериментальной группе?"
   ]
  },
  {
   "cell_type": "markdown",
   "id": "808cf55b",
   "metadata": {},
   "source": [
    "[Уникальные пользователи](#selection_one)"
   ]
  },
  {
   "cell_type": "markdown",
   "id": "d5c4a153",
   "metadata": {},
   "source": [
    "### Есть 2 контрольные группы для А/А-эксперимента, чтобы проверить корректность всех механизмов и расчётов. Проверьте, находят ли статистические критерии разницу между выборками 246 и 247."
   ]
  },
  {
   "cell_type": "markdown",
   "id": "a6cbdea5",
   "metadata": {},
   "source": [
    "**Нулевая гипотеза** - статистической разницы между долями (общим числом пользователей и числом пользователей совершивших определенное событие ) выборки 246 и 247 нет \n",
    "\n",
    "**Альтернативная гипотеза** - статистическая разница между долями (общим числом пользователей и числом пользователей совершивших определенное событие) выборки 246 и 247 имеет место быть"
   ]
  },
  {
   "cell_type": "code",
   "execution_count": 68,
   "id": "69772550",
   "metadata": {},
   "outputs": [],
   "source": [
    "#Создадим функцию, которая принимает на вход два датафрейма с логами и по заданному событию\n",
    "#и попарно проверяет есть ли статистически значимая разница между долями пользователей,совершивших его в группе 1 и группе 2\n",
    "#входные параметры:\n",
    "#    ex1, ex2 - датассеты с логами\n",
    "#    event - событие\n",
    "#    alpha - критический уровень статистической значимости\n",
    "\n",
    "def testt(ex1, ex2, event, alpha):\n",
    "\n",
    "    # число пользователей в группе 1 и группе 2:\n",
    "    n_users = np.array([ex1['user_id'].nunique(), ex2['user_id'].nunique()])\n",
    "\n",
    "    # число пользователей, совершивших событие в группе 1 и группе 2\n",
    "    success = np.array([ex1[ex1['event_name'] == event]['user_id'].nunique(), \n",
    "                        ex2[ex2['event_name'] == event]['user_id'].nunique()])\n",
    "\n",
    "    # пропорции успехов в группах:\n",
    "    p1 = success[0]/n_users[0]\n",
    "    p2 = success[1]/n_users[1] \n",
    "    # пропорция успехов в комбинированном датасете:\n",
    "    p_combined = (success[0] + success[1]) / (n_users[0] + n_users[1])\n",
    "\n",
    "    alpha = alpha\n",
    "    \n",
    "    # разница пропорций в датасетах\n",
    "    difference = p1 - p2 \n",
    "\n",
    "    z_value = difference / np.sqrt(p_combined * (1 - p_combined) * (1/n_users[0] + 1/n_users[1]))\n",
    "\n",
    "    # задаем стандартное нормальное распределение (среднее 0, ст.отклонение 1)\n",
    "    distr = st.norm(0, 1)  \n",
    "\n",
    "    p_value = (1 - distr.cdf(abs(z_value))) * 2\n",
    "\n",
    "    print('\\n'+'\\033[1m' + event + ':' + '\\033[0m')\n",
    "    print('p-значение: ', p_value)\n",
    "\n",
    "    if (p_value < alpha):\n",
    "        print(\"Отвергаем нулевую гипотезу: между долями есть значимая разница\")\n",
    "    else:\n",
    "        print(\"Не получилось отвергнуть нулевую гипотезу, нет оснований считать доли разными\")"
   ]
  },
  {
   "cell_type": "code",
   "execution_count": 69,
   "id": "55cea02d",
   "metadata": {},
   "outputs": [
    {
     "name": "stdout",
     "output_type": "stream",
     "text": [
      "\n",
      "\u001b[1mTutorial:\u001b[0m\n",
      "p-значение:  0.9376996189257114\n",
      "Не получилось отвергнуть нулевую гипотезу, нет оснований считать доли разными\n",
      "None\n",
      "\n",
      "\u001b[1mMainScreenAppear:\u001b[0m\n",
      "p-значение:  0.7570597232046099\n",
      "Не получилось отвергнуть нулевую гипотезу, нет оснований считать доли разными\n",
      "None\n",
      "\n",
      "\u001b[1mOffersScreenAppear:\u001b[0m\n",
      "p-значение:  0.2480954578522181\n",
      "Не получилось отвергнуть нулевую гипотезу, нет оснований считать доли разными\n",
      "None\n",
      "\n",
      "\u001b[1mCartScreenAppear:\u001b[0m\n",
      "p-значение:  0.22883372237997213\n",
      "Не получилось отвергнуть нулевую гипотезу, нет оснований считать доли разными\n",
      "None\n",
      "\n",
      "\u001b[1mPaymentScreenSuccessful:\u001b[0m\n",
      "p-значение:  0.11456679313141849\n",
      "Не получилось отвергнуть нулевую гипотезу, нет оснований считать доли разными\n",
      "None\n"
     ]
    }
   ],
   "source": [
    "#Создадим датафреймы с контрольными группами 246 и 247\n",
    "gr_246 = logs_new[logs_new['exp'] == 246]\n",
    "gr_247 = logs_new[logs_new['exp'] == 247]\n",
    "\n",
    "#Зададим значение альфа\n",
    "alpha = .05\n",
    "\n",
    "#Найдем уникальные значения столбца event_name\n",
    "for x in logs_new['event_name'].unique():\n",
    "    print(testt(gr_246, gr_247, x, alpha))"
   ]
  },
  {
   "cell_type": "markdown",
   "id": "ec5cfb74",
   "metadata": {},
   "source": [
    " **Вывод:**\n",
    "\n",
    "При уровне значимости в 0.05 у нас нет оснований полагать, что группы разные, как в рамках самого популярного события `MainScreenAppear`, так и всех остальных событий."
   ]
  },
  {
   "cell_type": "markdown",
   "id": "921b220b",
   "metadata": {},
   "source": [
    "***"
   ]
  },
  {
   "cell_type": "markdown",
   "id": "9ee80152",
   "metadata": {},
   "source": [
    "Сравним результаты с каждой из контрольных групп в отдельности с группой с изменённым шрифтом по каждому событию."
   ]
  },
  {
   "cell_type": "markdown",
   "id": "b3047546",
   "metadata": {},
   "source": [
    "**Нулевая гипотеза** - статистической разницы между долями (общим числом пользователей и числом пользователей совершивших определенное событие ) выборки 246 и 248 нет \n",
    "\n",
    "**Альтернативная гипотеза** - статистическая разница между долями (общим числом пользователей и числом пользователей совершивших определенное событие) выборки 246 и 248 имеет место быть"
   ]
  },
  {
   "cell_type": "code",
   "execution_count": 70,
   "id": "03a88389",
   "metadata": {},
   "outputs": [
    {
     "name": "stdout",
     "output_type": "stream",
     "text": [
      "\n",
      "\u001b[1mTutorial:\u001b[0m\n",
      "p-значение:  0.8264294010087645\n",
      "Не получилось отвергнуть нулевую гипотезу, нет оснований считать доли разными\n",
      "None\n",
      "\n",
      "\u001b[1mMainScreenAppear:\u001b[0m\n",
      "p-значение:  0.2949721933554552\n",
      "Не получилось отвергнуть нулевую гипотезу, нет оснований считать доли разными\n",
      "None\n",
      "\n",
      "\u001b[1mOffersScreenAppear:\u001b[0m\n",
      "p-значение:  0.20836205402738917\n",
      "Не получилось отвергнуть нулевую гипотезу, нет оснований считать доли разными\n",
      "None\n",
      "\n",
      "\u001b[1mCartScreenAppear:\u001b[0m\n",
      "p-значение:  0.07842923237520116\n",
      "Не получилось отвергнуть нулевую гипотезу, нет оснований считать доли разными\n",
      "None\n",
      "\n",
      "\u001b[1mPaymentScreenSuccessful:\u001b[0m\n",
      "p-значение:  0.2122553275697796\n",
      "Не получилось отвергнуть нулевую гипотезу, нет оснований считать доли разными\n",
      "None\n"
     ]
    }
   ],
   "source": [
    "#Создадим датафреймы с контрольными группами 246 и 248\n",
    "gr_246 = logs_new[logs_new['exp'] == 246]\n",
    "gr_248 = logs_new[logs_new['exp'] == 248]\n",
    "\n",
    "#Зададим значение альфа\n",
    "alpha = .05\n",
    "\n",
    "#Найдем уникальные значения столбца event_name\n",
    "for x in logs_new['event_name'].unique():\n",
    "    print(testt(gr_246, gr_248, x, alpha))"
   ]
  },
  {
   "cell_type": "markdown",
   "id": "faca3672",
   "metadata": {},
   "source": [
    "**Вывод:**\n",
    "\n",
    "При уровне значимости в 0.05 у нас нет оснований полагать, что группы разные `MainScreenAppear` \\ `OffersScreenAppear` \\ `PaymentScreenSuccessful` довольно высокий % у событий, что группы одинаковые."
   ]
  },
  {
   "cell_type": "markdown",
   "id": "1d006d4a",
   "metadata": {},
   "source": [
    "***"
   ]
  },
  {
   "cell_type": "markdown",
   "id": "490dd76a",
   "metadata": {},
   "source": [
    "**Нулевая гипотеза** - статистической разницы между долями (общим числом пользователей и числом пользователей совершивших определенное событие ) выборки 247 и 248 нет \n",
    "\n",
    "**Альтернативная гипотеза** - статистическая разница между долями (общим числом пользователей и числом пользователей совершивших определенное событие) выборки 247 и 248 имеет место быть"
   ]
  },
  {
   "cell_type": "code",
   "execution_count": 71,
   "id": "01247901",
   "metadata": {},
   "outputs": [
    {
     "name": "stdout",
     "output_type": "stream",
     "text": [
      "\n",
      "\u001b[1mTutorial:\u001b[0m\n",
      "p-значение:  0.765323922474501\n",
      "Не получилось отвергнуть нулевую гипотезу, нет оснований считать доли разными\n",
      "None\n",
      "\n",
      "\u001b[1mMainScreenAppear:\u001b[0m\n",
      "p-значение:  0.4587053616621515\n",
      "Не получилось отвергнуть нулевую гипотезу, нет оснований считать доли разными\n",
      "None\n",
      "\n",
      "\u001b[1mOffersScreenAppear:\u001b[0m\n",
      "p-значение:  0.9197817830592261\n",
      "Не получилось отвергнуть нулевую гипотезу, нет оснований считать доли разными\n",
      "None\n",
      "\n",
      "\u001b[1mCartScreenAppear:\u001b[0m\n",
      "p-значение:  0.5786197879539783\n",
      "Не получилось отвергнуть нулевую гипотезу, нет оснований считать доли разными\n",
      "None\n",
      "\n",
      "\u001b[1mPaymentScreenSuccessful:\u001b[0m\n",
      "p-значение:  0.7373415053803964\n",
      "Не получилось отвергнуть нулевую гипотезу, нет оснований считать доли разными\n",
      "None\n"
     ]
    }
   ],
   "source": [
    "#Создадим датафреймы с контрольными группами 247 и 248\n",
    "gr_247 = logs_new[logs_new['exp'] == 247]\n",
    "gr_248 = logs_new[logs_new['exp'] == 248]\n",
    "\n",
    "#Зададим значение альфа\n",
    "alpha = .05\n",
    "\n",
    "#Найдем уникальные значения столбца event_name\n",
    "for x in logs_new['event_name'].unique():\n",
    "    print(testt(gr_247, gr_248, x, alpha))"
   ]
  },
  {
   "cell_type": "markdown",
   "id": "4a2bbf76",
   "metadata": {},
   "source": [
    "**Вывод:**\n",
    "\n",
    "При уровне значимости в 0.05 у нас нет оснований полагать, что группы разные у всех событий довольно высокий процент, что говорит нам о максимальной схожести исследуемых групп. "
   ]
  },
  {
   "cell_type": "markdown",
   "id": "a1d29006",
   "metadata": {},
   "source": [
    "***"
   ]
  },
  {
   "cell_type": "markdown",
   "id": "6d166dee",
   "metadata": {},
   "source": [
    "**Нулевая гипотеза** - статистической разницы между долями (общим числом пользователей и числом пользователей совершивших определенное событие ) между выборками (247 + 246) и 248 нет\n",
    "\n",
    "**Альтернативная гипотеза** - статистическая разница между долями (общим числом пользователей и числом пользователей совершивших определенное событие) между выборки 247 и 248 имеет место быть"
   ]
  },
  {
   "cell_type": "code",
   "execution_count": 72,
   "id": "7510a017",
   "metadata": {},
   "outputs": [
    {
     "name": "stdout",
     "output_type": "stream",
     "text": [
      "\n",
      "\u001b[1mTutorial:\u001b[0m\n",
      "p-значение:  0.764862472531507\n",
      "Не получилось отвергнуть нулевую гипотезу, нет оснований считать доли разными\n",
      "None\n",
      "\n",
      "\u001b[1mMainScreenAppear:\u001b[0m\n",
      "p-значение:  0.29424526837179577\n",
      "Не получилось отвергнуть нулевую гипотезу, нет оснований считать доли разными\n",
      "None\n",
      "\n",
      "\u001b[1mOffersScreenAppear:\u001b[0m\n",
      "p-значение:  0.43425549655188256\n",
      "Не получилось отвергнуть нулевую гипотезу, нет оснований считать доли разными\n",
      "None\n",
      "\n",
      "\u001b[1mCartScreenAppear:\u001b[0m\n",
      "p-значение:  0.18175875284404386\n",
      "Не получилось отвергнуть нулевую гипотезу, нет оснований считать доли разными\n",
      "None\n",
      "\n",
      "\u001b[1mPaymentScreenSuccessful:\u001b[0m\n",
      "p-значение:  0.6004294282308704\n",
      "Не получилось отвергнуть нулевую гипотезу, нет оснований считать доли разными\n",
      "None\n"
     ]
    }
   ],
   "source": [
    "#Создадим датафреймы с контрольными группами (247+246) и 248\n",
    "gr_246_247 = pd.concat([logs_new[logs_new['exp'] == 247], logs_new[logs_new['exp'] == 246]])\n",
    "gr_248 = logs_new[logs_new['exp'] == 248]\n",
    "\n",
    "#Зададим значение альфа\n",
    "alpha = .05\n",
    "\n",
    "#Найдем уникальные значения столбца event_name\n",
    "for x in logs_new['event_name'].unique():\n",
    "    print(testt(gr_246_247, gr_248, x, alpha))"
   ]
  },
  {
   "cell_type": "markdown",
   "id": "b31503ff",
   "metadata": {},
   "source": [
    "**Вывод:**\n",
    "\n",
    "При уровне значимости в 0.05 у нас нет оснований полагать, что группы разные у всех событий довольно высокий процент. Изменение шрифтов во всём приложении на поведение пользователей не повлияло."
   ]
  },
  {
   "cell_type": "markdown",
   "id": "3aba4cce",
   "metadata": {},
   "source": [
    "## Шаг. Результаты эксперимента"
   ]
  },
  {
   "cell_type": "markdown",
   "id": "00a8e333",
   "metadata": {},
   "source": [
    "**Анализ исследуемых данных:** в нашем распоряжении было 243713 логов. И 5 событий('MainScreenAppear'- Главная страница, 'PaymentScreenSuccessful' - Предложение, 'CartScreenAppear' - Корзина, 'OffersScreenAppear'- Успешная оплата, 'Tutorial'- Руководство)\n",
    "\n",
    "Количество уникальных пользователей - 7551.\n",
    "Самый активный польователь - \"6304868067479728361\" выполнил 2307 действий в приложении.\n",
    "\n",
    "Изучили временной интервал, узнав даты начала и окончания: 2019-07-25 04:43:36, 2019-08-07 21:15:17.\n",
    "\n",
    "Выявили общее количество логов по группам\n",
    "* 248    85582\n",
    "* 246    80181\n",
    "* 247    77950\n",
    "\n",
    "и нашли количество человек в группах\n",
    "* 246\t2489\n",
    "* 247\t2520\n",
    "* 248\t2542\n",
    "\n",
    "В среднем на одного пользователя приходится около 20 событий. Так же определили интервал наиболее наполненый данными с 1 августа по 8 августа (не включая) и отбросили более старые. Количество потеряных событий: 2826. Количество потеряных пользователей: 17. \n",
    "\n",
    "Нашли количество событий в логах:\n",
    "* MainScreenAppear - Главная страница 117328\n",
    "* OffersScreenAppear - Предложение 46333\n",
    "* CartScreenAppear - Корзина 42303\n",
    "* PaymentScreenSuccessful - Успешная оплата 33918\n",
    "* Tutorial - Руководство 1005\n",
    "\n",
    "Посчитали, сколько пользователей совершали каждое из этих событий.\n",
    "* MainScreenAppear - Главная страница 7419\n",
    "* OffersScreenAppear - Предложение 4593\n",
    "* CartScreenAppear - Корзина 3734\n",
    "* PaymentScreenSuccessful - Успешная оплата 3539\n",
    "* Tutorial - Руководство 840\n",
    "\n",
    "\n",
    "Нашли долю пользователей, которые хоть раз совершали событие.\n",
    "* MainScreenAppear 98.47%\n",
    "* OffersScreenAppear 60.96%\n",
    "* CartScreenAppear 49.56%\n",
    "* PaymentScreenSuccessful 46.97%\n",
    "* Tutorial 11.15%\n",
    "\n",
    "Определили последовательный порядок событий: MainScreenAppear (главный экран), OffersScreenAppear (страница с предложением), CartScreenAppear (страница с корзиной), PaymentScreenSuccessful (страница с успешной оплатой).\n",
    "\n",
    "Нашли долю пользователей проходящих на следующий шаг воронки:\n",
    "* MainScreenAppear 100.00\n",
    "* OffersScreenAppear 61.91\n",
    "* CartScreenAppear 81.30\n",
    "* PaymentScreenSuccessful 94.78\n",
    "* Tutorial 23.74\n",
    "\n",
    "Доля пользователей дошедшая от первого события до оплаты равна 47.7%.\n",
    "\n",
    "Больше всего пользователей теряется при переходе с первого шага `MainScreenAppear` на второй `OffersScreenAppear`.\n",
    "\n",
    "**Результаты А/А/В - эксперимента**\n",
    "\n",
    "Размеры тестовых груп разные. Как и кол-во уникальных пользователей в группах. \n",
    "\n",
    "Нами было проведено 16 тестов на выявления статистической разницы между исследуемыми группами, выводы следующие:\n",
    "* 246 и 247 при уровне значимости в 0.05 у нас нет оснований полагать, что группы разные, как в рамках самого популярного события MainScreenAppear, так и всех остальных событий.\n",
    "* 246 и 248 при уровне значимости в 0.05 у нас нет оснований полагать, что группы разные MainScreenAppear \\ OffersScreenAppear \\ PaymentScreenSuccessful довольно высокий % у событий, что группы одинаковые.\n",
    "* 247 и 248 при уровне значимости в 0.05 у нас нет оснований полагать, что группы разные у всех событий довольно высокий процент, что говорит нам о максимальной схожести исследуемых групп.\n",
    "* (247 + 246) и 248 при уровне значимости в 0.05 у нас нет оснований полагать, что группы разные у всех событий довольно высокий процент. Изменение шрифтов во всём приложении на поведение пользователей не повлияло.\n",
    "\n",
    "В основной своей массе результаты А/В тестов не дали ожидаемых результатов - \"Изменение шрифтов во всем приложении повлиет на поведение пользователей\". Иными словами изменение шрифтов никак не влияет на поведение пользователей."
   ]
  }
 ],
 "metadata": {
  "ExecuteTimeLog": [
   {
    "duration": 1104,
    "start_time": "2023-03-06T07:17:13.278Z"
   },
   {
    "duration": 1848,
    "start_time": "2023-03-06T07:17:14.384Z"
   },
   {
    "duration": 22,
    "start_time": "2023-03-06T07:17:16.234Z"
   },
   {
    "duration": 172,
    "start_time": "2023-03-06T07:17:16.257Z"
   },
   {
    "duration": 39,
    "start_time": "2023-03-06T07:17:16.431Z"
   },
   {
    "duration": 17,
    "start_time": "2023-03-06T07:17:16.472Z"
   },
   {
    "duration": 193,
    "start_time": "2023-03-06T07:17:16.490Z"
   },
   {
    "duration": 4,
    "start_time": "2023-03-06T07:17:16.685Z"
   },
   {
    "duration": 11,
    "start_time": "2023-03-06T07:17:16.690Z"
   },
   {
    "duration": 21,
    "start_time": "2023-03-06T07:17:16.703Z"
   },
   {
    "duration": 17,
    "start_time": "2023-03-06T07:17:16.749Z"
   },
   {
    "duration": 29,
    "start_time": "2023-03-06T07:17:16.767Z"
   },
   {
    "duration": 5,
    "start_time": "2023-03-06T07:17:16.798Z"
   },
   {
    "duration": 60,
    "start_time": "2023-03-06T07:17:16.804Z"
   },
   {
    "duration": 98,
    "start_time": "2023-03-06T07:17:16.866Z"
   },
   {
    "duration": 17,
    "start_time": "2023-03-06T07:17:16.966Z"
   },
   {
    "duration": 482,
    "start_time": "2023-03-06T07:17:16.984Z"
   },
   {
    "duration": 29,
    "start_time": "2023-03-06T07:17:17.468Z"
   },
   {
    "duration": 49,
    "start_time": "2023-03-06T07:17:17.499Z"
   },
   {
    "duration": 20,
    "start_time": "2023-03-06T07:17:17.550Z"
   },
   {
    "duration": 34,
    "start_time": "2023-03-06T07:17:17.571Z"
   },
   {
    "duration": 289,
    "start_time": "2023-03-06T07:17:17.606Z"
   },
   {
    "duration": 0,
    "start_time": "2023-03-06T07:17:17.897Z"
   },
   {
    "duration": 0,
    "start_time": "2023-03-06T07:17:17.899Z"
   },
   {
    "duration": 0,
    "start_time": "2023-03-06T07:17:17.900Z"
   },
   {
    "duration": 0,
    "start_time": "2023-03-06T07:17:17.901Z"
   },
   {
    "duration": 0,
    "start_time": "2023-03-06T07:17:17.902Z"
   },
   {
    "duration": 0,
    "start_time": "2023-03-06T07:17:17.903Z"
   },
   {
    "duration": 0,
    "start_time": "2023-03-06T07:17:17.904Z"
   },
   {
    "duration": 0,
    "start_time": "2023-03-06T07:17:17.905Z"
   },
   {
    "duration": 0,
    "start_time": "2023-03-06T07:17:17.906Z"
   },
   {
    "duration": 0,
    "start_time": "2023-03-06T07:17:17.907Z"
   },
   {
    "duration": 0,
    "start_time": "2023-03-06T07:17:17.909Z"
   },
   {
    "duration": 283,
    "start_time": "2023-03-06T07:21:19.265Z"
   },
   {
    "duration": 101,
    "start_time": "2023-03-06T07:21:44.992Z"
   },
   {
    "duration": 12,
    "start_time": "2023-03-06T07:22:00.296Z"
   },
   {
    "duration": 12,
    "start_time": "2023-03-06T07:22:04.087Z"
   },
   {
    "duration": 173,
    "start_time": "2023-03-06T07:22:06.329Z"
   },
   {
    "duration": 4,
    "start_time": "2023-03-06T07:22:30.239Z"
   },
   {
    "duration": 6,
    "start_time": "2023-03-06T07:24:20.158Z"
   },
   {
    "duration": 129,
    "start_time": "2023-03-06T07:25:15.751Z"
   },
   {
    "duration": 141,
    "start_time": "2023-03-06T07:25:55.674Z"
   },
   {
    "duration": 114,
    "start_time": "2023-03-06T07:26:01.742Z"
   },
   {
    "duration": 118,
    "start_time": "2023-03-06T07:26:12.519Z"
   },
   {
    "duration": 162,
    "start_time": "2023-03-06T07:26:25.763Z"
   },
   {
    "duration": 167,
    "start_time": "2023-03-06T07:26:32.863Z"
   },
   {
    "duration": 101,
    "start_time": "2023-03-06T10:25:54.903Z"
   },
   {
    "duration": 103,
    "start_time": "2023-03-06T10:26:06.646Z"
   },
   {
    "duration": 118,
    "start_time": "2023-03-06T10:27:48.309Z"
   },
   {
    "duration": 1292,
    "start_time": "2023-03-06T10:28:00.808Z"
   },
   {
    "duration": 1802,
    "start_time": "2023-03-06T10:28:02.102Z"
   },
   {
    "duration": 21,
    "start_time": "2023-03-06T10:28:03.956Z"
   },
   {
    "duration": 378,
    "start_time": "2023-03-06T10:28:03.978Z"
   },
   {
    "duration": 33,
    "start_time": "2023-03-06T10:28:04.358Z"
   },
   {
    "duration": 66,
    "start_time": "2023-03-06T10:28:04.393Z"
   },
   {
    "duration": 289,
    "start_time": "2023-03-06T10:28:04.461Z"
   },
   {
    "duration": 4,
    "start_time": "2023-03-06T10:28:04.754Z"
   },
   {
    "duration": 10,
    "start_time": "2023-03-06T10:28:04.759Z"
   },
   {
    "duration": 19,
    "start_time": "2023-03-06T10:28:04.771Z"
   },
   {
    "duration": 14,
    "start_time": "2023-03-06T10:28:04.791Z"
   },
   {
    "duration": 63,
    "start_time": "2023-03-06T10:28:04.806Z"
   },
   {
    "duration": 6,
    "start_time": "2023-03-06T10:28:04.870Z"
   },
   {
    "duration": 31,
    "start_time": "2023-03-06T10:28:04.879Z"
   },
   {
    "duration": 117,
    "start_time": "2023-03-06T10:28:04.911Z"
   },
   {
    "duration": 29,
    "start_time": "2023-03-06T10:28:05.030Z"
   },
   {
    "duration": 535,
    "start_time": "2023-03-06T10:28:05.061Z"
   },
   {
    "duration": 32,
    "start_time": "2023-03-06T10:28:05.598Z"
   },
   {
    "duration": 57,
    "start_time": "2023-03-06T10:28:05.632Z"
   },
   {
    "duration": 19,
    "start_time": "2023-03-06T10:28:05.691Z"
   },
   {
    "duration": 52,
    "start_time": "2023-03-06T10:28:05.711Z"
   },
   {
    "duration": 346,
    "start_time": "2023-03-06T10:28:05.764Z"
   },
   {
    "duration": 0,
    "start_time": "2023-03-06T10:28:06.111Z"
   },
   {
    "duration": 0,
    "start_time": "2023-03-06T10:28:06.112Z"
   },
   {
    "duration": 0,
    "start_time": "2023-03-06T10:28:06.113Z"
   },
   {
    "duration": 0,
    "start_time": "2023-03-06T10:28:06.114Z"
   },
   {
    "duration": 0,
    "start_time": "2023-03-06T10:28:06.115Z"
   },
   {
    "duration": 0,
    "start_time": "2023-03-06T10:28:06.116Z"
   },
   {
    "duration": 0,
    "start_time": "2023-03-06T10:28:06.117Z"
   },
   {
    "duration": 0,
    "start_time": "2023-03-06T10:28:06.117Z"
   },
   {
    "duration": 0,
    "start_time": "2023-03-06T10:28:06.118Z"
   },
   {
    "duration": 0,
    "start_time": "2023-03-06T10:28:06.119Z"
   },
   {
    "duration": 0,
    "start_time": "2023-03-06T10:28:06.120Z"
   },
   {
    "duration": 9,
    "start_time": "2023-03-06T10:30:31.013Z"
   },
   {
    "duration": 10,
    "start_time": "2023-03-06T10:30:42.007Z"
   },
   {
    "duration": 101,
    "start_time": "2023-03-06T10:31:36.864Z"
   },
   {
    "duration": 10,
    "start_time": "2023-03-06T10:31:40.159Z"
   },
   {
    "duration": 10,
    "start_time": "2023-03-06T10:32:06.718Z"
   },
   {
    "duration": 13,
    "start_time": "2023-03-06T10:32:26.072Z"
   },
   {
    "duration": 8,
    "start_time": "2023-03-06T10:32:36.607Z"
   },
   {
    "duration": 9,
    "start_time": "2023-03-06T10:35:57.143Z"
   },
   {
    "duration": 138,
    "start_time": "2023-03-06T10:36:11.540Z"
   },
   {
    "duration": 124,
    "start_time": "2023-03-06T10:36:29.799Z"
   },
   {
    "duration": 127,
    "start_time": "2023-03-06T10:36:59.222Z"
   },
   {
    "duration": 108,
    "start_time": "2023-03-06T10:37:14.365Z"
   },
   {
    "duration": 110,
    "start_time": "2023-03-06T10:37:17.047Z"
   },
   {
    "duration": 126,
    "start_time": "2023-03-06T10:40:13.015Z"
   },
   {
    "duration": 139,
    "start_time": "2023-03-06T10:40:49.110Z"
   },
   {
    "duration": 105,
    "start_time": "2023-03-06T10:41:20.328Z"
   },
   {
    "duration": 110,
    "start_time": "2023-03-06T10:41:26.746Z"
   },
   {
    "duration": 9,
    "start_time": "2023-03-06T10:42:00.611Z"
   },
   {
    "duration": 143,
    "start_time": "2023-03-06T10:42:30.803Z"
   },
   {
    "duration": 175,
    "start_time": "2023-03-06T10:46:25.476Z"
   },
   {
    "duration": 1685,
    "start_time": "2023-03-06T10:46:39.003Z"
   },
   {
    "duration": 1866,
    "start_time": "2023-03-06T10:46:58.150Z"
   },
   {
    "duration": 138,
    "start_time": "2023-03-06T10:49:46.806Z"
   },
   {
    "duration": 126,
    "start_time": "2023-03-06T10:50:06.803Z"
   },
   {
    "duration": 142,
    "start_time": "2023-03-06T10:50:17.303Z"
   },
   {
    "duration": 273,
    "start_time": "2023-03-06T10:50:56.349Z"
   },
   {
    "duration": 143,
    "start_time": "2023-03-06T10:51:03.637Z"
   },
   {
    "duration": 121,
    "start_time": "2023-03-06T10:52:51.150Z"
   },
   {
    "duration": 130,
    "start_time": "2023-03-06T10:54:58.655Z"
   },
   {
    "duration": 186,
    "start_time": "2023-03-06T10:55:05.605Z"
   },
   {
    "duration": 155,
    "start_time": "2023-03-06T10:55:10.910Z"
   },
   {
    "duration": 144,
    "start_time": "2023-03-06T10:55:16.005Z"
   },
   {
    "duration": 139,
    "start_time": "2023-03-06T10:55:27.322Z"
   },
   {
    "duration": 19,
    "start_time": "2023-03-06T10:57:29.103Z"
   },
   {
    "duration": 20,
    "start_time": "2023-03-06T10:57:55.910Z"
   },
   {
    "duration": 174,
    "start_time": "2023-03-06T15:57:15.841Z"
   },
   {
    "duration": 21,
    "start_time": "2023-03-06T15:59:44.252Z"
   },
   {
    "duration": 204,
    "start_time": "2023-03-06T16:01:34.537Z"
   },
   {
    "duration": 4,
    "start_time": "2023-03-06T16:01:53.113Z"
   },
   {
    "duration": 1170,
    "start_time": "2023-03-06T16:01:53.123Z"
   },
   {
    "duration": 17,
    "start_time": "2023-03-06T16:01:54.295Z"
   },
   {
    "duration": 159,
    "start_time": "2023-03-06T16:01:54.314Z"
   },
   {
    "duration": 36,
    "start_time": "2023-03-06T16:01:54.476Z"
   },
   {
    "duration": 39,
    "start_time": "2023-03-06T16:01:54.514Z"
   },
   {
    "duration": 189,
    "start_time": "2023-03-06T16:01:54.555Z"
   },
   {
    "duration": 10,
    "start_time": "2023-03-06T16:01:54.746Z"
   },
   {
    "duration": 13,
    "start_time": "2023-03-06T16:01:54.758Z"
   },
   {
    "duration": 21,
    "start_time": "2023-03-06T16:01:54.773Z"
   },
   {
    "duration": 15,
    "start_time": "2023-03-06T16:01:54.797Z"
   },
   {
    "duration": 61,
    "start_time": "2023-03-06T16:01:54.813Z"
   },
   {
    "duration": 6,
    "start_time": "2023-03-06T16:01:54.876Z"
   },
   {
    "duration": 36,
    "start_time": "2023-03-06T16:01:54.883Z"
   },
   {
    "duration": 244,
    "start_time": "2023-03-06T16:01:54.920Z"
   },
   {
    "duration": 32,
    "start_time": "2023-03-06T16:01:55.166Z"
   },
   {
    "duration": 167,
    "start_time": "2023-03-06T16:01:55.201Z"
   },
   {
    "duration": 35,
    "start_time": "2023-03-06T16:01:55.370Z"
   },
   {
    "duration": 602,
    "start_time": "2023-03-06T16:01:55.407Z"
   },
   {
    "duration": 29,
    "start_time": "2023-03-06T16:01:56.011Z"
   },
   {
    "duration": 44,
    "start_time": "2023-03-06T16:01:56.056Z"
   },
   {
    "duration": 26,
    "start_time": "2023-03-06T16:01:56.102Z"
   },
   {
    "duration": 52,
    "start_time": "2023-03-06T16:01:56.130Z"
   },
   {
    "duration": 184,
    "start_time": "2023-03-06T16:01:56.183Z"
   },
   {
    "duration": 0,
    "start_time": "2023-03-06T16:01:56.368Z"
   },
   {
    "duration": 0,
    "start_time": "2023-03-06T16:01:56.371Z"
   },
   {
    "duration": 0,
    "start_time": "2023-03-06T16:01:56.372Z"
   },
   {
    "duration": 0,
    "start_time": "2023-03-06T16:01:56.373Z"
   },
   {
    "duration": 0,
    "start_time": "2023-03-06T16:01:56.374Z"
   },
   {
    "duration": 1,
    "start_time": "2023-03-06T16:01:56.375Z"
   },
   {
    "duration": 0,
    "start_time": "2023-03-06T16:01:56.377Z"
   },
   {
    "duration": 0,
    "start_time": "2023-03-06T16:01:56.378Z"
   },
   {
    "duration": 0,
    "start_time": "2023-03-06T16:01:56.379Z"
   },
   {
    "duration": 0,
    "start_time": "2023-03-06T16:01:56.380Z"
   },
   {
    "duration": 0,
    "start_time": "2023-03-06T16:01:56.381Z"
   },
   {
    "duration": 188,
    "start_time": "2023-03-06T16:06:43.834Z"
   },
   {
    "duration": 146,
    "start_time": "2023-03-06T16:21:55.705Z"
   },
   {
    "duration": 127,
    "start_time": "2023-03-06T16:22:20.194Z"
   },
   {
    "duration": 143,
    "start_time": "2023-03-06T16:22:58.248Z"
   },
   {
    "duration": 140,
    "start_time": "2023-03-06T16:24:56.117Z"
   },
   {
    "duration": 22,
    "start_time": "2023-03-06T16:26:33.440Z"
   },
   {
    "duration": 109,
    "start_time": "2023-03-06T16:27:01.721Z"
   },
   {
    "duration": 104,
    "start_time": "2023-03-06T16:27:18.534Z"
   },
   {
    "duration": 99,
    "start_time": "2023-03-06T16:27:29.158Z"
   },
   {
    "duration": 180,
    "start_time": "2023-03-06T16:28:14.677Z"
   },
   {
    "duration": 233,
    "start_time": "2023-03-06T16:28:23.287Z"
   },
   {
    "duration": 146,
    "start_time": "2023-03-06T16:28:57.109Z"
   },
   {
    "duration": 234,
    "start_time": "2023-03-06T16:29:15.780Z"
   },
   {
    "duration": 158,
    "start_time": "2023-03-06T16:29:26.310Z"
   },
   {
    "duration": 178,
    "start_time": "2023-03-06T16:30:20.000Z"
   },
   {
    "duration": 47,
    "start_time": "2023-03-07T04:45:57.817Z"
   },
   {
    "duration": 1357,
    "start_time": "2023-03-07T04:47:36.411Z"
   },
   {
    "duration": 1144,
    "start_time": "2023-03-07T04:47:37.770Z"
   },
   {
    "duration": 23,
    "start_time": "2023-03-07T04:47:38.916Z"
   },
   {
    "duration": 175,
    "start_time": "2023-03-07T04:47:38.941Z"
   },
   {
    "duration": 38,
    "start_time": "2023-03-07T04:47:39.117Z"
   },
   {
    "duration": 17,
    "start_time": "2023-03-07T04:47:39.156Z"
   },
   {
    "duration": 202,
    "start_time": "2023-03-07T04:47:39.174Z"
   },
   {
    "duration": 4,
    "start_time": "2023-03-07T04:47:39.377Z"
   },
   {
    "duration": 9,
    "start_time": "2023-03-07T04:47:39.383Z"
   },
   {
    "duration": 27,
    "start_time": "2023-03-07T04:47:39.394Z"
   },
   {
    "duration": 16,
    "start_time": "2023-03-07T04:47:39.432Z"
   },
   {
    "duration": 29,
    "start_time": "2023-03-07T04:47:39.449Z"
   },
   {
    "duration": 6,
    "start_time": "2023-03-07T04:47:39.479Z"
   },
   {
    "duration": 58,
    "start_time": "2023-03-07T04:47:39.486Z"
   },
   {
    "duration": 89,
    "start_time": "2023-03-07T04:47:39.546Z"
   },
   {
    "duration": 19,
    "start_time": "2023-03-07T04:47:39.637Z"
   },
   {
    "duration": 147,
    "start_time": "2023-03-07T04:47:39.658Z"
   },
   {
    "duration": 25,
    "start_time": "2023-03-07T04:47:39.807Z"
   },
   {
    "duration": 457,
    "start_time": "2023-03-07T04:47:39.833Z"
   },
   {
    "duration": 25,
    "start_time": "2023-03-07T04:47:40.292Z"
   },
   {
    "duration": 42,
    "start_time": "2023-03-07T04:47:40.319Z"
   },
   {
    "duration": 19,
    "start_time": "2023-03-07T04:47:40.363Z"
   },
   {
    "duration": 50,
    "start_time": "2023-03-07T04:47:40.383Z"
   },
   {
    "duration": 322,
    "start_time": "2023-03-07T04:47:40.435Z"
   },
   {
    "duration": 0,
    "start_time": "2023-03-07T04:47:40.760Z"
   },
   {
    "duration": 0,
    "start_time": "2023-03-07T04:47:40.762Z"
   },
   {
    "duration": 0,
    "start_time": "2023-03-07T04:47:40.763Z"
   },
   {
    "duration": 0,
    "start_time": "2023-03-07T04:47:40.765Z"
   },
   {
    "duration": 0,
    "start_time": "2023-03-07T04:47:40.766Z"
   },
   {
    "duration": 0,
    "start_time": "2023-03-07T04:47:40.767Z"
   },
   {
    "duration": 0,
    "start_time": "2023-03-07T04:47:40.769Z"
   },
   {
    "duration": 0,
    "start_time": "2023-03-07T04:47:40.770Z"
   },
   {
    "duration": 0,
    "start_time": "2023-03-07T04:47:40.771Z"
   },
   {
    "duration": 0,
    "start_time": "2023-03-07T04:47:40.772Z"
   },
   {
    "duration": 0,
    "start_time": "2023-03-07T04:47:40.773Z"
   },
   {
    "duration": 161,
    "start_time": "2023-03-07T04:49:02.950Z"
   },
   {
    "duration": 181,
    "start_time": "2023-03-07T04:50:54.852Z"
   },
   {
    "duration": 219,
    "start_time": "2023-03-07T04:51:15.212Z"
   },
   {
    "duration": 164,
    "start_time": "2023-03-07T04:54:58.380Z"
   },
   {
    "duration": 236,
    "start_time": "2023-03-07T04:55:34.895Z"
   },
   {
    "duration": 3,
    "start_time": "2023-03-07T04:55:50.308Z"
   },
   {
    "duration": 1170,
    "start_time": "2023-03-07T04:55:50.318Z"
   },
   {
    "duration": 16,
    "start_time": "2023-03-07T04:55:51.490Z"
   },
   {
    "duration": 154,
    "start_time": "2023-03-07T04:55:51.508Z"
   },
   {
    "duration": 29,
    "start_time": "2023-03-07T04:55:51.664Z"
   },
   {
    "duration": 16,
    "start_time": "2023-03-07T04:55:51.695Z"
   },
   {
    "duration": 198,
    "start_time": "2023-03-07T04:55:51.712Z"
   },
   {
    "duration": 5,
    "start_time": "2023-03-07T04:55:51.912Z"
   },
   {
    "duration": 18,
    "start_time": "2023-03-07T04:55:51.931Z"
   },
   {
    "duration": 27,
    "start_time": "2023-03-07T04:55:51.950Z"
   },
   {
    "duration": 18,
    "start_time": "2023-03-07T04:55:51.979Z"
   },
   {
    "duration": 45,
    "start_time": "2023-03-07T04:55:51.999Z"
   },
   {
    "duration": 6,
    "start_time": "2023-03-07T04:55:52.045Z"
   },
   {
    "duration": 49,
    "start_time": "2023-03-07T04:55:52.052Z"
   },
   {
    "duration": 120,
    "start_time": "2023-03-07T04:55:52.102Z"
   },
   {
    "duration": 23,
    "start_time": "2023-03-07T04:55:52.224Z"
   },
   {
    "duration": 152,
    "start_time": "2023-03-07T04:55:52.249Z"
   },
   {
    "duration": 29,
    "start_time": "2023-03-07T04:55:52.403Z"
   },
   {
    "duration": 511,
    "start_time": "2023-03-07T04:55:52.433Z"
   },
   {
    "duration": 28,
    "start_time": "2023-03-07T04:55:52.946Z"
   },
   {
    "duration": 36,
    "start_time": "2023-03-07T04:55:52.976Z"
   },
   {
    "duration": 24,
    "start_time": "2023-03-07T04:55:53.030Z"
   },
   {
    "duration": 33,
    "start_time": "2023-03-07T04:55:53.056Z"
   },
   {
    "duration": 201,
    "start_time": "2023-03-07T04:55:53.091Z"
   },
   {
    "duration": 0,
    "start_time": "2023-03-07T04:55:53.294Z"
   },
   {
    "duration": 0,
    "start_time": "2023-03-07T04:55:53.295Z"
   },
   {
    "duration": 0,
    "start_time": "2023-03-07T04:55:53.296Z"
   },
   {
    "duration": 0,
    "start_time": "2023-03-07T04:55:53.298Z"
   },
   {
    "duration": 0,
    "start_time": "2023-03-07T04:55:53.299Z"
   },
   {
    "duration": 0,
    "start_time": "2023-03-07T04:55:53.300Z"
   },
   {
    "duration": 0,
    "start_time": "2023-03-07T04:55:53.302Z"
   },
   {
    "duration": 0,
    "start_time": "2023-03-07T04:55:53.303Z"
   },
   {
    "duration": 0,
    "start_time": "2023-03-07T04:55:53.304Z"
   },
   {
    "duration": 0,
    "start_time": "2023-03-07T04:55:53.306Z"
   },
   {
    "duration": 0,
    "start_time": "2023-03-07T04:55:53.307Z"
   },
   {
    "duration": 4,
    "start_time": "2023-03-07T04:57:32.695Z"
   },
   {
    "duration": 177,
    "start_time": "2023-03-07T04:57:43.329Z"
   },
   {
    "duration": 182,
    "start_time": "2023-03-07T04:58:35.248Z"
   },
   {
    "duration": 7913,
    "start_time": "2023-03-07T04:59:43.796Z"
   },
   {
    "duration": 229,
    "start_time": "2023-03-07T04:59:52.823Z"
   },
   {
    "duration": 4,
    "start_time": "2023-03-07T05:00:05.953Z"
   },
   {
    "duration": 1443,
    "start_time": "2023-03-07T05:00:05.961Z"
   },
   {
    "duration": 16,
    "start_time": "2023-03-07T05:00:07.406Z"
   },
   {
    "duration": 149,
    "start_time": "2023-03-07T05:00:07.431Z"
   },
   {
    "duration": 31,
    "start_time": "2023-03-07T05:00:07.583Z"
   },
   {
    "duration": 34,
    "start_time": "2023-03-07T05:00:07.615Z"
   },
   {
    "duration": 167,
    "start_time": "2023-03-07T05:00:07.651Z"
   },
   {
    "duration": 12,
    "start_time": "2023-03-07T05:00:07.820Z"
   },
   {
    "duration": 31,
    "start_time": "2023-03-07T05:00:07.834Z"
   },
   {
    "duration": 29,
    "start_time": "2023-03-07T05:00:07.867Z"
   },
   {
    "duration": 30,
    "start_time": "2023-03-07T05:00:07.899Z"
   },
   {
    "duration": 48,
    "start_time": "2023-03-07T05:00:07.931Z"
   },
   {
    "duration": 6,
    "start_time": "2023-03-07T05:00:07.980Z"
   },
   {
    "duration": 75,
    "start_time": "2023-03-07T05:00:07.987Z"
   },
   {
    "duration": 93,
    "start_time": "2023-03-07T05:00:08.064Z"
   },
   {
    "duration": 19,
    "start_time": "2023-03-07T05:00:08.159Z"
   },
   {
    "duration": 153,
    "start_time": "2023-03-07T05:00:08.180Z"
   },
   {
    "duration": 18,
    "start_time": "2023-03-07T05:00:08.335Z"
   },
   {
    "duration": 405,
    "start_time": "2023-03-07T05:00:08.355Z"
   },
   {
    "duration": 31,
    "start_time": "2023-03-07T05:00:08.762Z"
   },
   {
    "duration": 56,
    "start_time": "2023-03-07T05:00:08.794Z"
   },
   {
    "duration": 20,
    "start_time": "2023-03-07T05:00:08.851Z"
   },
   {
    "duration": 38,
    "start_time": "2023-03-07T05:00:08.873Z"
   },
   {
    "duration": 305,
    "start_time": "2023-03-07T05:00:08.913Z"
   },
   {
    "duration": 2480,
    "start_time": "2023-03-07T05:00:09.219Z"
   },
   {
    "duration": 226,
    "start_time": "2023-03-07T05:00:11.701Z"
   },
   {
    "duration": 0,
    "start_time": "2023-03-07T05:00:11.932Z"
   },
   {
    "duration": 0,
    "start_time": "2023-03-07T05:00:11.934Z"
   },
   {
    "duration": 0,
    "start_time": "2023-03-07T05:00:11.936Z"
   },
   {
    "duration": 0,
    "start_time": "2023-03-07T05:00:11.937Z"
   },
   {
    "duration": 0,
    "start_time": "2023-03-07T05:00:11.938Z"
   },
   {
    "duration": 0,
    "start_time": "2023-03-07T05:00:11.940Z"
   },
   {
    "duration": 0,
    "start_time": "2023-03-07T05:00:11.941Z"
   },
   {
    "duration": 0,
    "start_time": "2023-03-07T05:00:11.942Z"
   },
   {
    "duration": 0,
    "start_time": "2023-03-07T05:00:11.944Z"
   },
   {
    "duration": 0,
    "start_time": "2023-03-07T05:00:11.945Z"
   },
   {
    "duration": 2536,
    "start_time": "2023-03-07T05:00:58.352Z"
   },
   {
    "duration": 220,
    "start_time": "2023-03-07T05:01:01.190Z"
   },
   {
    "duration": 92,
    "start_time": "2023-03-07T05:07:21.795Z"
   },
   {
    "duration": 11,
    "start_time": "2023-03-07T05:07:28.479Z"
   },
   {
    "duration": 11,
    "start_time": "2023-03-07T05:07:29.254Z"
   },
   {
    "duration": 146,
    "start_time": "2023-03-07T05:07:32.494Z"
   },
   {
    "duration": 1352,
    "start_time": "2023-03-07T05:08:36.575Z"
   },
   {
    "duration": 1606,
    "start_time": "2023-03-07T05:08:37.929Z"
   },
   {
    "duration": 19,
    "start_time": "2023-03-07T05:08:39.539Z"
   },
   {
    "duration": 187,
    "start_time": "2023-03-07T05:08:39.560Z"
   },
   {
    "duration": 32,
    "start_time": "2023-03-07T05:08:39.749Z"
   },
   {
    "duration": 15,
    "start_time": "2023-03-07T05:08:39.783Z"
   },
   {
    "duration": 392,
    "start_time": "2023-03-07T05:08:39.799Z"
   },
   {
    "duration": 4,
    "start_time": "2023-03-07T05:08:40.193Z"
   },
   {
    "duration": 8,
    "start_time": "2023-03-07T05:08:40.199Z"
   },
   {
    "duration": 41,
    "start_time": "2023-03-07T05:08:40.209Z"
   },
   {
    "duration": 16,
    "start_time": "2023-03-07T05:08:40.251Z"
   },
   {
    "duration": 29,
    "start_time": "2023-03-07T05:08:40.269Z"
   },
   {
    "duration": 34,
    "start_time": "2023-03-07T05:08:40.299Z"
   },
   {
    "duration": 36,
    "start_time": "2023-03-07T05:08:40.335Z"
   },
   {
    "duration": 110,
    "start_time": "2023-03-07T05:08:40.373Z"
   },
   {
    "duration": 22,
    "start_time": "2023-03-07T05:08:40.484Z"
   },
   {
    "duration": 367,
    "start_time": "2023-03-07T05:08:40.508Z"
   },
   {
    "duration": 25,
    "start_time": "2023-03-07T05:08:40.877Z"
   },
   {
    "duration": 662,
    "start_time": "2023-03-07T05:08:40.904Z"
   },
   {
    "duration": 28,
    "start_time": "2023-03-07T05:08:41.568Z"
   },
   {
    "duration": 56,
    "start_time": "2023-03-07T05:08:41.598Z"
   },
   {
    "duration": 20,
    "start_time": "2023-03-07T05:08:41.656Z"
   },
   {
    "duration": 33,
    "start_time": "2023-03-07T05:08:41.678Z"
   },
   {
    "duration": 322,
    "start_time": "2023-03-07T05:08:41.731Z"
   },
   {
    "duration": 2559,
    "start_time": "2023-03-07T05:08:42.054Z"
   },
   {
    "duration": 399,
    "start_time": "2023-03-07T05:08:44.615Z"
   },
   {
    "duration": 105,
    "start_time": "2023-03-07T05:08:45.017Z"
   },
   {
    "duration": 15,
    "start_time": "2023-03-07T05:08:45.124Z"
   },
   {
    "duration": 18,
    "start_time": "2023-03-07T05:08:45.141Z"
   },
   {
    "duration": 234,
    "start_time": "2023-03-07T05:08:45.161Z"
   },
   {
    "duration": 4,
    "start_time": "2023-03-07T05:08:45.397Z"
   },
   {
    "duration": 10,
    "start_time": "2023-03-07T05:08:45.402Z"
   },
   {
    "duration": 176,
    "start_time": "2023-03-07T05:08:45.414Z"
   },
   {
    "duration": 113,
    "start_time": "2023-03-07T05:08:45.592Z"
   },
   {
    "duration": 141,
    "start_time": "2023-03-07T05:08:45.706Z"
   },
   {
    "duration": 202,
    "start_time": "2023-03-07T05:08:45.849Z"
   },
   {
    "duration": 95,
    "start_time": "2023-03-07T05:09:48.504Z"
   },
   {
    "duration": 14,
    "start_time": "2023-03-07T05:12:54.793Z"
   },
   {
    "duration": 4,
    "start_time": "2023-03-07T05:13:06.456Z"
   },
   {
    "duration": 966,
    "start_time": "2023-03-07T05:13:06.473Z"
   },
   {
    "duration": 16,
    "start_time": "2023-03-07T05:13:07.441Z"
   },
   {
    "duration": 163,
    "start_time": "2023-03-07T05:13:07.459Z"
   },
   {
    "duration": 36,
    "start_time": "2023-03-07T05:13:07.625Z"
   },
   {
    "duration": 18,
    "start_time": "2023-03-07T05:13:07.663Z"
   },
   {
    "duration": 389,
    "start_time": "2023-03-07T05:13:07.683Z"
   },
   {
    "duration": 5,
    "start_time": "2023-03-07T05:13:08.073Z"
   },
   {
    "duration": 13,
    "start_time": "2023-03-07T05:13:08.079Z"
   },
   {
    "duration": 22,
    "start_time": "2023-03-07T05:13:08.094Z"
   },
   {
    "duration": 17,
    "start_time": "2023-03-07T05:13:08.133Z"
   },
   {
    "duration": 29,
    "start_time": "2023-03-07T05:13:08.152Z"
   },
   {
    "duration": 5,
    "start_time": "2023-03-07T05:13:08.183Z"
   },
   {
    "duration": 62,
    "start_time": "2023-03-07T05:13:08.190Z"
   },
   {
    "duration": 98,
    "start_time": "2023-03-07T05:13:08.254Z"
   },
   {
    "duration": 20,
    "start_time": "2023-03-07T05:13:08.354Z"
   },
   {
    "duration": 309,
    "start_time": "2023-03-07T05:13:08.376Z"
   },
   {
    "duration": 19,
    "start_time": "2023-03-07T05:13:08.686Z"
   },
   {
    "duration": 590,
    "start_time": "2023-03-07T05:13:08.707Z"
   },
   {
    "duration": 33,
    "start_time": "2023-03-07T05:13:09.299Z"
   },
   {
    "duration": 35,
    "start_time": "2023-03-07T05:13:09.333Z"
   },
   {
    "duration": 18,
    "start_time": "2023-03-07T05:13:09.370Z"
   },
   {
    "duration": 51,
    "start_time": "2023-03-07T05:13:09.389Z"
   },
   {
    "duration": 292,
    "start_time": "2023-03-07T05:13:09.442Z"
   },
   {
    "duration": 2441,
    "start_time": "2023-03-07T05:13:09.736Z"
   },
   {
    "duration": 433,
    "start_time": "2023-03-07T05:13:12.179Z"
   },
   {
    "duration": 69,
    "start_time": "2023-03-07T05:13:12.614Z"
   },
   {
    "duration": 13,
    "start_time": "2023-03-07T05:13:12.685Z"
   },
   {
    "duration": 13,
    "start_time": "2023-03-07T05:13:12.701Z"
   },
   {
    "duration": 10,
    "start_time": "2023-03-07T05:13:12.731Z"
   },
   {
    "duration": 5,
    "start_time": "2023-03-07T05:13:12.742Z"
   },
   {
    "duration": 11,
    "start_time": "2023-03-07T05:13:12.748Z"
   },
   {
    "duration": 131,
    "start_time": "2023-03-07T05:13:12.761Z"
   },
   {
    "duration": 128,
    "start_time": "2023-03-07T05:13:12.894Z"
   },
   {
    "duration": 126,
    "start_time": "2023-03-07T05:13:13.023Z"
   },
   {
    "duration": 189,
    "start_time": "2023-03-07T05:13:13.152Z"
   },
   {
    "duration": 10,
    "start_time": "2023-03-07T05:13:44.202Z"
   },
   {
    "duration": 3,
    "start_time": "2023-03-07T05:13:52.384Z"
   },
   {
    "duration": 1198,
    "start_time": "2023-03-07T05:13:52.397Z"
   },
   {
    "duration": 18,
    "start_time": "2023-03-07T05:13:53.597Z"
   },
   {
    "duration": 177,
    "start_time": "2023-03-07T05:13:53.617Z"
   },
   {
    "duration": 46,
    "start_time": "2023-03-07T05:13:53.796Z"
   },
   {
    "duration": 17,
    "start_time": "2023-03-07T05:13:53.844Z"
   },
   {
    "duration": 333,
    "start_time": "2023-03-07T05:13:53.863Z"
   },
   {
    "duration": 5,
    "start_time": "2023-03-07T05:13:54.198Z"
   },
   {
    "duration": 27,
    "start_time": "2023-03-07T05:13:54.204Z"
   },
   {
    "duration": 21,
    "start_time": "2023-03-07T05:13:54.233Z"
   },
   {
    "duration": 15,
    "start_time": "2023-03-07T05:13:54.256Z"
   },
   {
    "duration": 93,
    "start_time": "2023-03-07T05:13:54.272Z"
   },
   {
    "duration": 8,
    "start_time": "2023-03-07T05:13:54.367Z"
   },
   {
    "duration": 90,
    "start_time": "2023-03-07T05:13:54.377Z"
   },
   {
    "duration": 192,
    "start_time": "2023-03-07T05:13:54.469Z"
   },
   {
    "duration": 74,
    "start_time": "2023-03-07T05:13:54.663Z"
   },
   {
    "duration": 520,
    "start_time": "2023-03-07T05:13:54.738Z"
   },
   {
    "duration": 71,
    "start_time": "2023-03-07T05:13:55.260Z"
   },
   {
    "duration": 1110,
    "start_time": "2023-03-07T05:13:55.333Z"
   },
   {
    "duration": 29,
    "start_time": "2023-03-07T05:13:56.444Z"
   },
   {
    "duration": 35,
    "start_time": "2023-03-07T05:13:56.474Z"
   },
   {
    "duration": 36,
    "start_time": "2023-03-07T05:13:56.511Z"
   },
   {
    "duration": 30,
    "start_time": "2023-03-07T05:13:56.549Z"
   },
   {
    "duration": 339,
    "start_time": "2023-03-07T05:13:56.580Z"
   },
   {
    "duration": 2473,
    "start_time": "2023-03-07T05:13:56.931Z"
   },
   {
    "duration": 401,
    "start_time": "2023-03-07T05:13:59.406Z"
   },
   {
    "duration": 72,
    "start_time": "2023-03-07T05:13:59.809Z"
   },
   {
    "duration": 9,
    "start_time": "2023-03-07T05:13:59.883Z"
   },
   {
    "duration": 15,
    "start_time": "2023-03-07T05:13:59.893Z"
   },
   {
    "duration": 1674,
    "start_time": "2023-03-07T05:13:59.909Z"
   },
   {
    "duration": 0,
    "start_time": "2023-03-07T05:14:01.584Z"
   },
   {
    "duration": 0,
    "start_time": "2023-03-07T05:14:01.586Z"
   },
   {
    "duration": 0,
    "start_time": "2023-03-07T05:14:01.587Z"
   },
   {
    "duration": 0,
    "start_time": "2023-03-07T05:14:01.589Z"
   },
   {
    "duration": 0,
    "start_time": "2023-03-07T05:14:01.591Z"
   },
   {
    "duration": 0,
    "start_time": "2023-03-07T05:14:01.592Z"
   },
   {
    "duration": 8,
    "start_time": "2023-03-07T05:14:12.010Z"
   },
   {
    "duration": 4,
    "start_time": "2023-03-07T05:14:18.057Z"
   },
   {
    "duration": 1055,
    "start_time": "2023-03-07T05:14:18.094Z"
   },
   {
    "duration": 15,
    "start_time": "2023-03-07T05:14:19.151Z"
   },
   {
    "duration": 147,
    "start_time": "2023-03-07T05:14:19.168Z"
   },
   {
    "duration": 36,
    "start_time": "2023-03-07T05:14:19.317Z"
   },
   {
    "duration": 16,
    "start_time": "2023-03-07T05:14:19.354Z"
   },
   {
    "duration": 383,
    "start_time": "2023-03-07T05:14:19.372Z"
   },
   {
    "duration": 5,
    "start_time": "2023-03-07T05:14:19.756Z"
   },
   {
    "duration": 9,
    "start_time": "2023-03-07T05:14:19.762Z"
   },
   {
    "duration": 20,
    "start_time": "2023-03-07T05:14:19.773Z"
   },
   {
    "duration": 37,
    "start_time": "2023-03-07T05:14:19.795Z"
   },
   {
    "duration": 30,
    "start_time": "2023-03-07T05:14:19.834Z"
   },
   {
    "duration": 6,
    "start_time": "2023-03-07T05:14:19.865Z"
   },
   {
    "duration": 36,
    "start_time": "2023-03-07T05:14:19.873Z"
   },
   {
    "duration": 102,
    "start_time": "2023-03-07T05:14:19.931Z"
   },
   {
    "duration": 22,
    "start_time": "2023-03-07T05:14:20.034Z"
   },
   {
    "duration": 322,
    "start_time": "2023-03-07T05:14:20.057Z"
   },
   {
    "duration": 25,
    "start_time": "2023-03-07T05:14:20.381Z"
   },
   {
    "duration": 601,
    "start_time": "2023-03-07T05:14:20.408Z"
   },
   {
    "duration": 35,
    "start_time": "2023-03-07T05:14:21.010Z"
   },
   {
    "duration": 36,
    "start_time": "2023-03-07T05:14:21.047Z"
   },
   {
    "duration": 19,
    "start_time": "2023-03-07T05:14:21.085Z"
   },
   {
    "duration": 56,
    "start_time": "2023-03-07T05:14:21.105Z"
   },
   {
    "duration": 340,
    "start_time": "2023-03-07T05:14:21.163Z"
   },
   {
    "duration": 2420,
    "start_time": "2023-03-07T05:14:21.504Z"
   },
   {
    "duration": 478,
    "start_time": "2023-03-07T05:14:23.926Z"
   },
   {
    "duration": 67,
    "start_time": "2023-03-07T05:14:24.405Z"
   },
   {
    "duration": 8,
    "start_time": "2023-03-07T05:14:24.473Z"
   },
   {
    "duration": 10,
    "start_time": "2023-03-07T05:14:24.484Z"
   },
   {
    "duration": 1295,
    "start_time": "2023-03-07T05:14:24.496Z"
   },
   {
    "duration": 0,
    "start_time": "2023-03-07T05:14:25.793Z"
   },
   {
    "duration": 0,
    "start_time": "2023-03-07T05:14:25.795Z"
   },
   {
    "duration": 0,
    "start_time": "2023-03-07T05:14:25.796Z"
   },
   {
    "duration": 0,
    "start_time": "2023-03-07T05:14:25.798Z"
   },
   {
    "duration": 0,
    "start_time": "2023-03-07T05:14:25.800Z"
   },
   {
    "duration": 0,
    "start_time": "2023-03-07T05:14:25.801Z"
   },
   {
    "duration": 12,
    "start_time": "2023-03-07T05:14:51.722Z"
   },
   {
    "duration": 10,
    "start_time": "2023-03-07T05:14:55.172Z"
   },
   {
    "duration": 9,
    "start_time": "2023-03-07T05:14:57.605Z"
   },
   {
    "duration": 14,
    "start_time": "2023-03-07T05:17:43.733Z"
   },
   {
    "duration": 16,
    "start_time": "2023-03-07T05:18:42.878Z"
   },
   {
    "duration": 10,
    "start_time": "2023-03-07T05:20:48.149Z"
   },
   {
    "duration": 9,
    "start_time": "2023-03-07T05:20:59.483Z"
   },
   {
    "duration": 15,
    "start_time": "2023-03-07T05:21:03.779Z"
   },
   {
    "duration": 8,
    "start_time": "2023-03-07T05:21:46.598Z"
   },
   {
    "duration": 15,
    "start_time": "2023-03-07T05:23:43.194Z"
   },
   {
    "duration": 17,
    "start_time": "2023-03-07T05:23:50.711Z"
   },
   {
    "duration": 8,
    "start_time": "2023-03-07T05:24:09.298Z"
   },
   {
    "duration": 5,
    "start_time": "2023-03-07T05:47:41.368Z"
   },
   {
    "duration": 129,
    "start_time": "2023-03-07T05:47:42.828Z"
   },
   {
    "duration": 125,
    "start_time": "2023-03-07T06:03:35.477Z"
   },
   {
    "duration": 5,
    "start_time": "2023-03-07T06:28:23.320Z"
   },
   {
    "duration": 1612,
    "start_time": "2023-03-07T06:28:23.331Z"
   },
   {
    "duration": 18,
    "start_time": "2023-03-07T06:28:24.946Z"
   },
   {
    "duration": 186,
    "start_time": "2023-03-07T06:28:24.966Z"
   },
   {
    "duration": 35,
    "start_time": "2023-03-07T06:28:25.154Z"
   },
   {
    "duration": 18,
    "start_time": "2023-03-07T06:28:25.191Z"
   },
   {
    "duration": 449,
    "start_time": "2023-03-07T06:28:25.230Z"
   },
   {
    "duration": 5,
    "start_time": "2023-03-07T06:28:25.681Z"
   },
   {
    "duration": 11,
    "start_time": "2023-03-07T06:28:25.688Z"
   },
   {
    "duration": 56,
    "start_time": "2023-03-07T06:28:25.701Z"
   },
   {
    "duration": 22,
    "start_time": "2023-03-07T06:28:25.761Z"
   },
   {
    "duration": 64,
    "start_time": "2023-03-07T06:28:25.786Z"
   },
   {
    "duration": 6,
    "start_time": "2023-03-07T06:28:25.852Z"
   },
   {
    "duration": 60,
    "start_time": "2023-03-07T06:28:25.860Z"
   },
   {
    "duration": 268,
    "start_time": "2023-03-07T06:28:25.930Z"
   },
   {
    "duration": 33,
    "start_time": "2023-03-07T06:28:26.200Z"
   },
   {
    "duration": 342,
    "start_time": "2023-03-07T06:28:26.235Z"
   },
   {
    "duration": 21,
    "start_time": "2023-03-07T06:28:26.579Z"
   },
   {
    "duration": 726,
    "start_time": "2023-03-07T06:28:26.602Z"
   },
   {
    "duration": 31,
    "start_time": "2023-03-07T06:28:27.330Z"
   },
   {
    "duration": 37,
    "start_time": "2023-03-07T06:28:27.363Z"
   },
   {
    "duration": 45,
    "start_time": "2023-03-07T06:28:27.401Z"
   },
   {
    "duration": 35,
    "start_time": "2023-03-07T06:28:27.448Z"
   },
   {
    "duration": 351,
    "start_time": "2023-03-07T06:28:27.485Z"
   },
   {
    "duration": 2555,
    "start_time": "2023-03-07T06:28:27.838Z"
   },
   {
    "duration": 489,
    "start_time": "2023-03-07T06:28:30.396Z"
   },
   {
    "duration": 81,
    "start_time": "2023-03-07T06:28:30.888Z"
   },
   {
    "duration": 18,
    "start_time": "2023-03-07T06:28:30.971Z"
   },
   {
    "duration": 49,
    "start_time": "2023-03-07T06:28:30.992Z"
   },
   {
    "duration": 45,
    "start_time": "2023-03-07T06:28:31.044Z"
   },
   {
    "duration": 39,
    "start_time": "2023-03-07T06:28:31.092Z"
   },
   {
    "duration": 168,
    "start_time": "2023-03-07T06:28:31.133Z"
   },
   {
    "duration": 128,
    "start_time": "2023-03-07T06:28:31.303Z"
   },
   {
    "duration": 130,
    "start_time": "2023-03-07T06:28:31.433Z"
   },
   {
    "duration": 195,
    "start_time": "2023-03-07T06:28:31.565Z"
   },
   {
    "duration": 104,
    "start_time": "2023-03-07T06:43:02.745Z"
   },
   {
    "duration": 1354,
    "start_time": "2023-03-07T18:34:54.874Z"
   },
   {
    "duration": 2101,
    "start_time": "2023-03-07T18:34:56.229Z"
   },
   {
    "duration": 27,
    "start_time": "2023-03-07T18:34:58.332Z"
   },
   {
    "duration": 168,
    "start_time": "2023-03-07T18:34:58.361Z"
   },
   {
    "duration": 51,
    "start_time": "2023-03-07T18:34:58.531Z"
   },
   {
    "duration": 16,
    "start_time": "2023-03-07T18:34:58.584Z"
   },
   {
    "duration": 204,
    "start_time": "2023-03-07T18:34:58.601Z"
   },
   {
    "duration": 4,
    "start_time": "2023-03-07T18:34:58.807Z"
   },
   {
    "duration": 9,
    "start_time": "2023-03-07T18:34:58.812Z"
   },
   {
    "duration": 34,
    "start_time": "2023-03-07T18:34:58.822Z"
   },
   {
    "duration": 33,
    "start_time": "2023-03-07T18:34:58.860Z"
   },
   {
    "duration": 27,
    "start_time": "2023-03-07T18:34:58.894Z"
   },
   {
    "duration": 5,
    "start_time": "2023-03-07T18:34:58.922Z"
   },
   {
    "duration": 44,
    "start_time": "2023-03-07T18:34:58.930Z"
   },
   {
    "duration": 122,
    "start_time": "2023-03-07T18:34:58.975Z"
   },
   {
    "duration": 19,
    "start_time": "2023-03-07T18:34:59.099Z"
   },
   {
    "duration": 179,
    "start_time": "2023-03-07T18:34:59.119Z"
   },
   {
    "duration": 19,
    "start_time": "2023-03-07T18:34:59.299Z"
   },
   {
    "duration": 533,
    "start_time": "2023-03-07T18:34:59.320Z"
   },
   {
    "duration": 33,
    "start_time": "2023-03-07T18:34:59.855Z"
   },
   {
    "duration": 39,
    "start_time": "2023-03-07T18:34:59.889Z"
   },
   {
    "duration": 25,
    "start_time": "2023-03-07T18:34:59.930Z"
   },
   {
    "duration": 38,
    "start_time": "2023-03-07T18:34:59.965Z"
   },
   {
    "duration": 270,
    "start_time": "2023-03-07T18:35:00.005Z"
   },
   {
    "duration": 16928,
    "start_time": "2023-03-07T18:35:00.277Z"
   },
   {
    "duration": 353,
    "start_time": "2023-03-07T18:35:17.208Z"
   },
   {
    "duration": 0,
    "start_time": "2023-03-07T18:35:17.563Z"
   },
   {
    "duration": 0,
    "start_time": "2023-03-07T18:35:17.564Z"
   },
   {
    "duration": 0,
    "start_time": "2023-03-07T18:35:17.565Z"
   },
   {
    "duration": 0,
    "start_time": "2023-03-07T18:35:17.567Z"
   },
   {
    "duration": 0,
    "start_time": "2023-03-07T18:35:17.568Z"
   },
   {
    "duration": 0,
    "start_time": "2023-03-07T18:35:17.570Z"
   },
   {
    "duration": 0,
    "start_time": "2023-03-07T18:35:17.572Z"
   },
   {
    "duration": 0,
    "start_time": "2023-03-07T18:35:17.573Z"
   },
   {
    "duration": 0,
    "start_time": "2023-03-07T18:35:17.574Z"
   },
   {
    "duration": 229,
    "start_time": "2023-03-07T18:38:28.672Z"
   },
   {
    "duration": 1347,
    "start_time": "2023-03-07T18:38:50.250Z"
   },
   {
    "duration": 1872,
    "start_time": "2023-03-07T18:38:51.599Z"
   },
   {
    "duration": 19,
    "start_time": "2023-03-07T18:38:53.474Z"
   },
   {
    "duration": 177,
    "start_time": "2023-03-07T18:38:53.495Z"
   },
   {
    "duration": 34,
    "start_time": "2023-03-07T18:38:53.676Z"
   },
   {
    "duration": 16,
    "start_time": "2023-03-07T18:38:53.712Z"
   },
   {
    "duration": 383,
    "start_time": "2023-03-07T18:38:53.730Z"
   },
   {
    "duration": 4,
    "start_time": "2023-03-07T18:38:54.114Z"
   },
   {
    "duration": 12,
    "start_time": "2023-03-07T18:38:54.120Z"
   },
   {
    "duration": 37,
    "start_time": "2023-03-07T18:38:54.133Z"
   },
   {
    "duration": 16,
    "start_time": "2023-03-07T18:38:54.175Z"
   },
   {
    "duration": 28,
    "start_time": "2023-03-07T18:38:54.193Z"
   },
   {
    "duration": 21,
    "start_time": "2023-03-07T18:38:54.223Z"
   },
   {
    "duration": 36,
    "start_time": "2023-03-07T18:38:54.247Z"
   },
   {
    "duration": 115,
    "start_time": "2023-03-07T18:38:54.284Z"
   },
   {
    "duration": 30,
    "start_time": "2023-03-07T18:38:54.401Z"
   },
   {
    "duration": 359,
    "start_time": "2023-03-07T18:38:54.440Z"
   },
   {
    "duration": 30,
    "start_time": "2023-03-07T18:38:54.801Z"
   },
   {
    "duration": 753,
    "start_time": "2023-03-07T18:38:54.843Z"
   },
   {
    "duration": 26,
    "start_time": "2023-03-07T18:38:55.598Z"
   },
   {
    "duration": 61,
    "start_time": "2023-03-07T18:38:55.626Z"
   },
   {
    "duration": 17,
    "start_time": "2023-03-07T18:38:55.689Z"
   },
   {
    "duration": 59,
    "start_time": "2023-03-07T18:38:55.708Z"
   },
   {
    "duration": 307,
    "start_time": "2023-03-07T18:38:55.768Z"
   },
   {
    "duration": 2726,
    "start_time": "2023-03-07T18:38:56.077Z"
   },
   {
    "duration": 446,
    "start_time": "2023-03-07T18:38:58.805Z"
   },
   {
    "duration": 125,
    "start_time": "2023-03-07T18:38:59.257Z"
   },
   {
    "duration": 15,
    "start_time": "2023-03-07T18:38:59.383Z"
   },
   {
    "duration": 247,
    "start_time": "2023-03-07T18:38:59.400Z"
   },
   {
    "duration": 4,
    "start_time": "2023-03-07T18:38:59.649Z"
   },
   {
    "duration": 21,
    "start_time": "2023-03-07T18:38:59.655Z"
   },
   {
    "duration": 179,
    "start_time": "2023-03-07T18:38:59.678Z"
   },
   {
    "duration": 110,
    "start_time": "2023-03-07T18:38:59.865Z"
   },
   {
    "duration": 133,
    "start_time": "2023-03-07T18:38:59.977Z"
   },
   {
    "duration": 188,
    "start_time": "2023-03-07T18:39:00.112Z"
   },
   {
    "duration": 1420,
    "start_time": "2023-03-07T18:47:01.972Z"
   },
   {
    "duration": 1583,
    "start_time": "2023-03-07T18:47:03.394Z"
   },
   {
    "duration": 22,
    "start_time": "2023-03-07T18:47:04.981Z"
   },
   {
    "duration": 193,
    "start_time": "2023-03-07T18:47:05.005Z"
   },
   {
    "duration": 64,
    "start_time": "2023-03-07T18:47:05.200Z"
   },
   {
    "duration": 25,
    "start_time": "2023-03-07T18:47:05.271Z"
   },
   {
    "duration": 393,
    "start_time": "2023-03-07T18:47:05.298Z"
   },
   {
    "duration": 5,
    "start_time": "2023-03-07T18:47:05.694Z"
   },
   {
    "duration": 16,
    "start_time": "2023-03-07T18:47:05.700Z"
   },
   {
    "duration": 29,
    "start_time": "2023-03-07T18:47:05.718Z"
   },
   {
    "duration": 32,
    "start_time": "2023-03-07T18:47:05.748Z"
   },
   {
    "duration": 42,
    "start_time": "2023-03-07T18:47:05.788Z"
   },
   {
    "duration": 5,
    "start_time": "2023-03-07T18:47:05.832Z"
   },
   {
    "duration": 58,
    "start_time": "2023-03-07T18:47:05.842Z"
   },
   {
    "duration": 109,
    "start_time": "2023-03-07T18:47:05.901Z"
   },
   {
    "duration": 21,
    "start_time": "2023-03-07T18:47:06.012Z"
   },
   {
    "duration": 384,
    "start_time": "2023-03-07T18:47:06.040Z"
   },
   {
    "duration": 29,
    "start_time": "2023-03-07T18:47:06.425Z"
   },
   {
    "duration": 874,
    "start_time": "2023-03-07T18:47:06.460Z"
   },
   {
    "duration": 48,
    "start_time": "2023-03-07T18:47:07.341Z"
   },
   {
    "duration": 90,
    "start_time": "2023-03-07T18:47:07.392Z"
   },
   {
    "duration": 41,
    "start_time": "2023-03-07T18:47:07.486Z"
   },
   {
    "duration": 44,
    "start_time": "2023-03-07T18:47:07.529Z"
   },
   {
    "duration": 326,
    "start_time": "2023-03-07T18:47:07.576Z"
   },
   {
    "duration": 3114,
    "start_time": "2023-03-07T18:47:07.903Z"
   },
   {
    "duration": 480,
    "start_time": "2023-03-07T18:47:11.019Z"
   },
   {
    "duration": 111,
    "start_time": "2023-03-07T18:47:11.500Z"
   },
   {
    "duration": 15,
    "start_time": "2023-03-07T18:47:11.613Z"
   },
   {
    "duration": 309,
    "start_time": "2023-03-07T18:47:11.629Z"
   },
   {
    "duration": 9,
    "start_time": "2023-03-07T18:47:11.940Z"
   },
   {
    "duration": 54,
    "start_time": "2023-03-07T18:47:11.951Z"
   },
   {
    "duration": 135,
    "start_time": "2023-03-07T18:47:12.006Z"
   },
   {
    "duration": 131,
    "start_time": "2023-03-07T18:47:12.149Z"
   },
   {
    "duration": 120,
    "start_time": "2023-03-07T18:47:12.284Z"
   },
   {
    "duration": 207,
    "start_time": "2023-03-07T18:47:12.406Z"
   },
   {
    "duration": 1357,
    "start_time": "2023-03-07T18:47:59.370Z"
   },
   {
    "duration": 1144,
    "start_time": "2023-03-07T18:48:00.730Z"
   },
   {
    "duration": 30,
    "start_time": "2023-03-07T18:48:01.876Z"
   },
   {
    "duration": 281,
    "start_time": "2023-03-07T18:48:01.909Z"
   },
   {
    "duration": 53,
    "start_time": "2023-03-07T18:48:02.192Z"
   },
   {
    "duration": 39,
    "start_time": "2023-03-07T18:48:02.250Z"
   },
   {
    "duration": 420,
    "start_time": "2023-03-07T18:48:02.291Z"
   },
   {
    "duration": 5,
    "start_time": "2023-03-07T18:48:02.713Z"
   },
   {
    "duration": 49,
    "start_time": "2023-03-07T18:48:02.720Z"
   },
   {
    "duration": 52,
    "start_time": "2023-03-07T18:48:02.777Z"
   },
   {
    "duration": 24,
    "start_time": "2023-03-07T18:48:02.831Z"
   },
   {
    "duration": 67,
    "start_time": "2023-03-07T18:48:02.857Z"
   },
   {
    "duration": 8,
    "start_time": "2023-03-07T18:48:02.926Z"
   },
   {
    "duration": 44,
    "start_time": "2023-03-07T18:48:02.935Z"
   },
   {
    "duration": 152,
    "start_time": "2023-03-07T18:48:02.981Z"
   },
   {
    "duration": 46,
    "start_time": "2023-03-07T18:48:03.134Z"
   },
   {
    "duration": 330,
    "start_time": "2023-03-07T18:48:03.181Z"
   },
   {
    "duration": 61,
    "start_time": "2023-03-07T18:48:03.513Z"
   },
   {
    "duration": 821,
    "start_time": "2023-03-07T18:48:03.580Z"
   },
   {
    "duration": 27,
    "start_time": "2023-03-07T18:48:04.403Z"
   },
   {
    "duration": 63,
    "start_time": "2023-03-07T18:48:04.432Z"
   },
   {
    "duration": 23,
    "start_time": "2023-03-07T18:48:04.497Z"
   },
   {
    "duration": 52,
    "start_time": "2023-03-07T18:48:04.522Z"
   },
   {
    "duration": 380,
    "start_time": "2023-03-07T18:48:04.575Z"
   },
   {
    "duration": 3108,
    "start_time": "2023-03-07T18:48:04.958Z"
   },
   {
    "duration": 439,
    "start_time": "2023-03-07T18:48:08.069Z"
   },
   {
    "duration": 109,
    "start_time": "2023-03-07T18:48:08.511Z"
   },
   {
    "duration": 30,
    "start_time": "2023-03-07T18:48:08.623Z"
   },
   {
    "duration": 315,
    "start_time": "2023-03-07T18:48:08.656Z"
   },
   {
    "duration": 4,
    "start_time": "2023-03-07T18:48:08.977Z"
   },
   {
    "duration": 9,
    "start_time": "2023-03-07T18:48:08.983Z"
   },
   {
    "duration": 213,
    "start_time": "2023-03-07T18:48:08.993Z"
   },
   {
    "duration": 152,
    "start_time": "2023-03-07T18:48:09.207Z"
   },
   {
    "duration": 126,
    "start_time": "2023-03-07T18:48:09.365Z"
   },
   {
    "duration": 195,
    "start_time": "2023-03-07T18:48:09.493Z"
   },
   {
    "duration": 1655,
    "start_time": "2023-03-09T04:57:54.120Z"
   },
   {
    "duration": 1416,
    "start_time": "2023-03-09T04:57:55.777Z"
   },
   {
    "duration": 29,
    "start_time": "2023-03-09T04:57:57.197Z"
   },
   {
    "duration": 202,
    "start_time": "2023-03-09T04:57:57.229Z"
   },
   {
    "duration": 61,
    "start_time": "2023-03-09T04:57:57.433Z"
   },
   {
    "duration": 20,
    "start_time": "2023-03-09T04:57:57.496Z"
   },
   {
    "duration": 268,
    "start_time": "2023-03-09T04:57:57.518Z"
   },
   {
    "duration": 7,
    "start_time": "2023-03-09T04:57:57.788Z"
   },
   {
    "duration": 14,
    "start_time": "2023-03-09T04:57:57.797Z"
   },
   {
    "duration": 51,
    "start_time": "2023-03-09T04:57:57.814Z"
   },
   {
    "duration": 21,
    "start_time": "2023-03-09T04:57:57.867Z"
   },
   {
    "duration": 40,
    "start_time": "2023-03-09T04:57:57.890Z"
   },
   {
    "duration": 30,
    "start_time": "2023-03-09T04:57:57.932Z"
   },
   {
    "duration": 51,
    "start_time": "2023-03-09T04:57:57.964Z"
   },
   {
    "duration": 141,
    "start_time": "2023-03-09T04:57:58.018Z"
   },
   {
    "duration": 28,
    "start_time": "2023-03-09T04:57:58.163Z"
   },
   {
    "duration": 196,
    "start_time": "2023-03-09T04:57:58.193Z"
   },
   {
    "duration": 37,
    "start_time": "2023-03-09T04:57:58.391Z"
   },
   {
    "duration": 644,
    "start_time": "2023-03-09T04:57:58.430Z"
   },
   {
    "duration": 29,
    "start_time": "2023-03-09T04:57:59.076Z"
   },
   {
    "duration": 66,
    "start_time": "2023-03-09T04:57:59.107Z"
   },
   {
    "duration": 26,
    "start_time": "2023-03-09T04:57:59.175Z"
   },
   {
    "duration": 56,
    "start_time": "2023-03-09T04:57:59.203Z"
   },
   {
    "duration": 292,
    "start_time": "2023-03-09T04:57:59.261Z"
   },
   {
    "duration": 9134,
    "start_time": "2023-03-09T04:57:59.558Z"
   },
   {
    "duration": 218,
    "start_time": "2023-03-09T04:58:08.694Z"
   },
   {
    "duration": 111,
    "start_time": "2023-03-09T04:58:08.914Z"
   },
   {
    "duration": 28,
    "start_time": "2023-03-09T04:58:09.030Z"
   },
   {
    "duration": 139,
    "start_time": "2023-03-09T04:58:09.060Z"
   },
   {
    "duration": 5,
    "start_time": "2023-03-09T04:58:09.201Z"
   },
   {
    "duration": 50,
    "start_time": "2023-03-09T04:58:09.208Z"
   },
   {
    "duration": 207,
    "start_time": "2023-03-09T04:58:09.261Z"
   },
   {
    "duration": 161,
    "start_time": "2023-03-09T04:58:09.470Z"
   },
   {
    "duration": 140,
    "start_time": "2023-03-09T04:58:09.633Z"
   },
   {
    "duration": 199,
    "start_time": "2023-03-09T04:58:09.775Z"
   },
   {
    "duration": 9,
    "start_time": "2023-03-09T04:58:32.622Z"
   },
   {
    "duration": 15,
    "start_time": "2023-03-09T04:58:42.988Z"
   },
   {
    "duration": 17,
    "start_time": "2023-03-09T04:59:36.806Z"
   },
   {
    "duration": 11,
    "start_time": "2023-03-09T05:00:20.790Z"
   },
   {
    "duration": 12,
    "start_time": "2023-03-09T05:00:30.493Z"
   },
   {
    "duration": 1512,
    "start_time": "2023-03-09T18:38:27.744Z"
   },
   {
    "duration": 1510,
    "start_time": "2023-03-09T18:38:29.259Z"
   },
   {
    "duration": 22,
    "start_time": "2023-03-09T18:38:30.771Z"
   },
   {
    "duration": 205,
    "start_time": "2023-03-09T18:38:30.796Z"
   },
   {
    "duration": 52,
    "start_time": "2023-03-09T18:38:31.002Z"
   },
   {
    "duration": 33,
    "start_time": "2023-03-09T18:38:31.056Z"
   },
   {
    "duration": 232,
    "start_time": "2023-03-09T18:38:31.091Z"
   },
   {
    "duration": 5,
    "start_time": "2023-03-09T18:38:31.325Z"
   },
   {
    "duration": 34,
    "start_time": "2023-03-09T18:38:31.331Z"
   },
   {
    "duration": 36,
    "start_time": "2023-03-09T18:38:31.368Z"
   },
   {
    "duration": 24,
    "start_time": "2023-03-09T18:38:31.406Z"
   },
   {
    "duration": 70,
    "start_time": "2023-03-09T18:38:31.432Z"
   },
   {
    "duration": 9,
    "start_time": "2023-03-09T18:38:31.504Z"
   },
   {
    "duration": 49,
    "start_time": "2023-03-09T18:38:31.516Z"
   },
   {
    "duration": 108,
    "start_time": "2023-03-09T18:38:31.567Z"
   },
   {
    "duration": 50,
    "start_time": "2023-03-09T18:38:31.677Z"
   },
   {
    "duration": 171,
    "start_time": "2023-03-09T18:38:31.728Z"
   },
   {
    "duration": 32,
    "start_time": "2023-03-09T18:38:31.901Z"
   },
   {
    "duration": 536,
    "start_time": "2023-03-09T18:38:31.935Z"
   },
   {
    "duration": 31,
    "start_time": "2023-03-09T18:38:32.473Z"
   },
   {
    "duration": 59,
    "start_time": "2023-03-09T18:38:32.505Z"
   },
   {
    "duration": 23,
    "start_time": "2023-03-09T18:38:32.566Z"
   },
   {
    "duration": 63,
    "start_time": "2023-03-09T18:38:32.591Z"
   },
   {
    "duration": 287,
    "start_time": "2023-03-09T18:38:32.656Z"
   },
   {
    "duration": 8075,
    "start_time": "2023-03-09T18:38:32.944Z"
   },
   {
    "duration": 228,
    "start_time": "2023-03-09T18:38:41.021Z"
   },
   {
    "duration": 114,
    "start_time": "2023-03-09T18:38:41.251Z"
   },
   {
    "duration": 18,
    "start_time": "2023-03-09T18:38:41.368Z"
   },
   {
    "duration": 229,
    "start_time": "2023-03-09T18:38:41.387Z"
   },
   {
    "duration": 4,
    "start_time": "2023-03-09T18:38:41.618Z"
   },
   {
    "duration": 16,
    "start_time": "2023-03-09T18:38:41.624Z"
   },
   {
    "duration": 222,
    "start_time": "2023-03-09T18:38:41.642Z"
   },
   {
    "duration": 138,
    "start_time": "2023-03-09T18:38:41.866Z"
   },
   {
    "duration": 152,
    "start_time": "2023-03-09T18:38:42.007Z"
   },
   {
    "duration": 200,
    "start_time": "2023-03-09T18:38:42.161Z"
   },
   {
    "duration": 1364,
    "start_time": "2023-05-18T05:44:28.751Z"
   },
   {
    "duration": 1361,
    "start_time": "2023-05-18T05:44:30.117Z"
   },
   {
    "duration": 25,
    "start_time": "2023-05-18T05:44:31.480Z"
   },
   {
    "duration": 215,
    "start_time": "2023-05-18T05:44:31.507Z"
   },
   {
    "duration": 54,
    "start_time": "2023-05-18T05:44:31.724Z"
   },
   {
    "duration": 31,
    "start_time": "2023-05-18T05:44:31.779Z"
   },
   {
    "duration": 257,
    "start_time": "2023-05-18T05:44:31.812Z"
   },
   {
    "duration": 4,
    "start_time": "2023-05-18T05:44:32.071Z"
   },
   {
    "duration": 22,
    "start_time": "2023-05-18T05:44:32.076Z"
   },
   {
    "duration": 31,
    "start_time": "2023-05-18T05:44:32.100Z"
   },
   {
    "duration": 26,
    "start_time": "2023-05-18T05:44:32.133Z"
   },
   {
    "duration": 31,
    "start_time": "2023-05-18T05:44:32.161Z"
   },
   {
    "duration": 6,
    "start_time": "2023-05-18T05:44:32.193Z"
   },
   {
    "duration": 89,
    "start_time": "2023-05-18T05:44:32.204Z"
   },
   {
    "duration": 130,
    "start_time": "2023-05-18T05:44:32.295Z"
   },
   {
    "duration": 34,
    "start_time": "2023-05-18T05:44:32.427Z"
   },
   {
    "duration": 171,
    "start_time": "2023-05-18T05:44:32.463Z"
   },
   {
    "duration": 31,
    "start_time": "2023-05-18T05:44:32.635Z"
   },
   {
    "duration": 503,
    "start_time": "2023-05-18T05:44:32.668Z"
   },
   {
    "duration": 28,
    "start_time": "2023-05-18T05:44:33.173Z"
   },
   {
    "duration": 54,
    "start_time": "2023-05-18T05:44:33.203Z"
   },
   {
    "duration": 22,
    "start_time": "2023-05-18T05:44:33.259Z"
   },
   {
    "duration": 34,
    "start_time": "2023-05-18T05:44:33.283Z"
   },
   {
    "duration": 297,
    "start_time": "2023-05-18T05:44:33.318Z"
   },
   {
    "duration": 8369,
    "start_time": "2023-05-18T05:44:33.616Z"
   },
   {
    "duration": 250,
    "start_time": "2023-05-18T05:44:41.988Z"
   },
   {
    "duration": 108,
    "start_time": "2023-05-18T05:44:42.240Z"
   },
   {
    "duration": 22,
    "start_time": "2023-05-18T05:44:42.350Z"
   },
   {
    "duration": 152,
    "start_time": "2023-05-18T05:44:42.374Z"
   },
   {
    "duration": 5,
    "start_time": "2023-05-18T05:44:42.527Z"
   },
   {
    "duration": 25,
    "start_time": "2023-05-18T05:44:42.534Z"
   },
   {
    "duration": 214,
    "start_time": "2023-05-18T05:44:42.561Z"
   },
   {
    "duration": 161,
    "start_time": "2023-05-18T05:44:42.778Z"
   },
   {
    "duration": 143,
    "start_time": "2023-05-18T05:44:42.941Z"
   },
   {
    "duration": 227,
    "start_time": "2023-05-18T05:44:43.087Z"
   },
   {
    "duration": 312,
    "start_time": "2023-05-18T05:46:07.268Z"
   },
   {
    "duration": 207,
    "start_time": "2023-05-18T05:46:21.849Z"
   },
   {
    "duration": 5,
    "start_time": "2023-05-18T05:46:29.548Z"
   },
   {
    "duration": 862,
    "start_time": "2023-05-18T05:46:29.561Z"
   },
   {
    "duration": 31,
    "start_time": "2023-05-18T05:46:30.426Z"
   },
   {
    "duration": 167,
    "start_time": "2023-05-18T05:46:30.459Z"
   },
   {
    "duration": 45,
    "start_time": "2023-05-18T05:46:30.628Z"
   },
   {
    "duration": 30,
    "start_time": "2023-05-18T05:46:30.675Z"
   },
   {
    "duration": 266,
    "start_time": "2023-05-18T05:46:30.707Z"
   },
   {
    "duration": 5,
    "start_time": "2023-05-18T05:46:30.974Z"
   },
   {
    "duration": 41,
    "start_time": "2023-05-18T05:46:30.981Z"
   },
   {
    "duration": 75,
    "start_time": "2023-05-18T05:46:31.025Z"
   },
   {
    "duration": 38,
    "start_time": "2023-05-18T05:46:31.103Z"
   },
   {
    "duration": 65,
    "start_time": "2023-05-18T05:46:31.144Z"
   },
   {
    "duration": 6,
    "start_time": "2023-05-18T05:46:31.211Z"
   },
   {
    "duration": 69,
    "start_time": "2023-05-18T05:46:31.218Z"
   },
   {
    "duration": 115,
    "start_time": "2023-05-18T05:46:31.291Z"
   },
   {
    "duration": 24,
    "start_time": "2023-05-18T05:46:31.407Z"
   },
   {
    "duration": 181,
    "start_time": "2023-05-18T05:46:31.433Z"
   },
   {
    "duration": 20,
    "start_time": "2023-05-18T05:46:31.616Z"
   },
   {
    "duration": 475,
    "start_time": "2023-05-18T05:46:31.639Z"
   },
   {
    "duration": 28,
    "start_time": "2023-05-18T05:46:32.116Z"
   },
   {
    "duration": 48,
    "start_time": "2023-05-18T05:46:32.157Z"
   },
   {
    "duration": 22,
    "start_time": "2023-05-18T05:46:32.206Z"
   },
   {
    "duration": 59,
    "start_time": "2023-05-18T05:46:32.230Z"
   },
   {
    "duration": 295,
    "start_time": "2023-05-18T05:46:32.290Z"
   },
   {
    "duration": 2712,
    "start_time": "2023-05-18T05:46:32.587Z"
   },
   {
    "duration": 227,
    "start_time": "2023-05-18T05:46:35.301Z"
   },
   {
    "duration": 71,
    "start_time": "2023-05-18T05:46:35.530Z"
   },
   {
    "duration": 21,
    "start_time": "2023-05-18T05:46:35.602Z"
   },
   {
    "duration": 9,
    "start_time": "2023-05-18T05:46:35.625Z"
   },
   {
    "duration": 7,
    "start_time": "2023-05-18T05:46:35.656Z"
   },
   {
    "duration": 18,
    "start_time": "2023-05-18T05:46:35.665Z"
   },
   {
    "duration": 136,
    "start_time": "2023-05-18T05:46:35.685Z"
   },
   {
    "duration": 136,
    "start_time": "2023-05-18T05:46:35.823Z"
   },
   {
    "duration": 124,
    "start_time": "2023-05-18T05:46:35.961Z"
   },
   {
    "duration": 229,
    "start_time": "2023-05-18T05:46:36.088Z"
   },
   {
    "duration": 165,
    "start_time": "2023-05-18T05:48:48.554Z"
   },
   {
    "duration": 84,
    "start_time": "2023-05-18T05:52:02.012Z"
   }
  ],
  "kernelspec": {
   "display_name": "Python 3 (ipykernel)",
   "language": "python",
   "name": "python3"
  },
  "language_info": {
   "codemirror_mode": {
    "name": "ipython",
    "version": 3
   },
   "file_extension": ".py",
   "mimetype": "text/x-python",
   "name": "python",
   "nbconvert_exporter": "python",
   "pygments_lexer": "ipython3",
   "version": "3.9.5"
  },
  "toc": {
   "base_numbering": 1,
   "nav_menu": {},
   "number_sections": true,
   "sideBar": true,
   "skip_h1_title": true,
   "title_cell": "Сборный проект 2 - событийная аналитика",
   "title_sidebar": "Contents",
   "toc_cell": true,
   "toc_position": {
    "height": "calc(100% - 180px)",
    "left": "10px",
    "top": "150px",
    "width": "165px"
   },
   "toc_section_display": true,
   "toc_window_display": true
  }
 },
 "nbformat": 4,
 "nbformat_minor": 5
}
