{
 "cells": [
  {
   "cell_type": "markdown",
   "id": "6fb6c97c",
   "metadata": {},
   "source": [
    "# <div align=\"center\"><b> Сборный проект - выявление определяющих успешности игры закономерностей </b></div> "
   ]
  },
  {
   "cell_type": "markdown",
   "id": "92960647",
   "metadata": {},
   "source": [
    "**Описание проекта**"
   ]
  },
  {
   "cell_type": "markdown",
   "id": "c72148ad",
   "metadata": {},
   "source": [
    "В проекте зайдествован магазин \"Стримчик\". Из открытых источников представлены исторические данные: о продажах игр, оценки пользователей и экспертов, жанры и платформы до 2016 года. "
   ]
  },
  {
   "cell_type": "markdown",
   "id": "97a129c9",
   "metadata": {},
   "source": [
    "***"
   ]
  },
  {
   "cell_type": "markdown",
   "id": "7e2b2c12",
   "metadata": {},
   "source": [
    "**Цель проекта** \n",
    "\n",
    "Выявление определяющих успешности игры закономерностей. Что позволит сделать прогноз на развитие продуктов в следующем году. "
   ]
  },
  {
   "cell_type": "markdown",
   "id": "15ddf197",
   "metadata": {},
   "source": [
    "***"
   ]
  },
  {
   "cell_type": "markdown",
   "id": "a4340786",
   "metadata": {},
   "source": [
    "**Описание данных**\n",
    "\n",
    "- Name — название игры\n",
    "- Platform — платформа\n",
    "- Year_of_Release — год выпуска\n",
    "- Genre — жанр игры\n",
    "- NA_sales — продажи в Северной Америке (миллионы проданных копий)\n",
    "- EU_sales — продажи в Европе (миллионы проданных копий)\n",
    "- JP_sales — продажи в Японии (миллионы проданных копий)\n",
    "- Other_sales — продажи в других странах (миллионы проданных копий)\n",
    "- Critic_Score — оценка критиков (максимум 100)\n",
    "- User_Score — оценка пользователей (максимум 10)\n",
    "- Rating — рейтинг от организации ESRB (англ. Entertainment Software Rating Board). Эта ассоциация определяет рейтинг компьютерных игр и присваивает им подходящую возрастную категорию."
   ]
  },
  {
   "cell_type": "markdown",
   "id": "0180f7bc",
   "metadata": {},
   "source": [
    "<blockquote>Весь проект поделен на 6 шагов:<ol>\n",
    "    \n",
    "<li>Изучение общей информации</li> \n",
    "<li>Подгатовка данных</li>\n",
    "<li>Исследовательский анализ данных</li>\n",
    "<li>Составление портрета пользователя каждого региона</li>\n",
    "<li>Проверка гипотезы</li>\n",
    "<li>Общий вывод</li>    \n",
    "</ol>\n",
    "</blockquote> "
   ]
  },
  {
   "cell_type": "markdown",
   "id": "c5c28e29",
   "metadata": {},
   "source": [
    "---"
   ]
  },
  {
   "cell_type": "markdown",
   "id": "f6014e47",
   "metadata": {},
   "source": [
    "# Шаг 1. Изучение общей информации."
   ]
  },
  {
   "cell_type": "code",
   "execution_count": 3,
   "id": "59ef6348",
   "metadata": {},
   "outputs": [],
   "source": [
    "import pandas as pd #импортируем библиотеку пандас\n",
    "import matplotlib.pyplot as plt #и графики заодно\n",
    "import numpy as np #импортируем библиотеку нампи\n",
    "from scipy import stats as st\n",
    "import seaborn as sns"
   ]
  },
  {
   "cell_type": "code",
   "execution_count": 4,
   "id": "3522d809",
   "metadata": {},
   "outputs": [],
   "source": [
    "#прочитаем файл\n",
    "try:\n",
    "    data = pd.read_csv('C:\\\\Users\\\\Вениамин\\\\Desktop\\\\Аналитик Данных\\\\проекты\\\\games.csv')\n",
    "except:\n",
    "    data = pd.read_csv('https://code.s3.yandex.net/datasets/games.csv')"
   ]
  },
  {
   "cell_type": "code",
   "execution_count": 5,
   "id": "f795d175",
   "metadata": {
    "scrolled": true
   },
   "outputs": [
    {
     "name": "stdout",
     "output_type": "stream",
     "text": [
      "(16715, 11)\n"
     ]
    },
    {
     "data": {
      "text/html": [
       "<div>\n",
       "<style scoped>\n",
       "    .dataframe tbody tr th:only-of-type {\n",
       "        vertical-align: middle;\n",
       "    }\n",
       "\n",
       "    .dataframe tbody tr th {\n",
       "        vertical-align: top;\n",
       "    }\n",
       "\n",
       "    .dataframe thead th {\n",
       "        text-align: right;\n",
       "    }\n",
       "</style>\n",
       "<table border=\"1\" class=\"dataframe\">\n",
       "  <thead>\n",
       "    <tr style=\"text-align: right;\">\n",
       "      <th></th>\n",
       "      <th>Name</th>\n",
       "      <th>Platform</th>\n",
       "      <th>Year_of_Release</th>\n",
       "      <th>Genre</th>\n",
       "      <th>NA_sales</th>\n",
       "      <th>EU_sales</th>\n",
       "      <th>JP_sales</th>\n",
       "      <th>Other_sales</th>\n",
       "      <th>Critic_Score</th>\n",
       "      <th>User_Score</th>\n",
       "      <th>Rating</th>\n",
       "    </tr>\n",
       "  </thead>\n",
       "  <tbody>\n",
       "    <tr>\n",
       "      <th>0</th>\n",
       "      <td>Wii Sports</td>\n",
       "      <td>Wii</td>\n",
       "      <td>2006.0</td>\n",
       "      <td>Sports</td>\n",
       "      <td>41.36</td>\n",
       "      <td>28.96</td>\n",
       "      <td>3.77</td>\n",
       "      <td>8.45</td>\n",
       "      <td>76.0</td>\n",
       "      <td>8</td>\n",
       "      <td>E</td>\n",
       "    </tr>\n",
       "    <tr>\n",
       "      <th>1</th>\n",
       "      <td>Super Mario Bros.</td>\n",
       "      <td>NES</td>\n",
       "      <td>1985.0</td>\n",
       "      <td>Platform</td>\n",
       "      <td>29.08</td>\n",
       "      <td>3.58</td>\n",
       "      <td>6.81</td>\n",
       "      <td>0.77</td>\n",
       "      <td>NaN</td>\n",
       "      <td>NaN</td>\n",
       "      <td>NaN</td>\n",
       "    </tr>\n",
       "    <tr>\n",
       "      <th>2</th>\n",
       "      <td>Mario Kart Wii</td>\n",
       "      <td>Wii</td>\n",
       "      <td>2008.0</td>\n",
       "      <td>Racing</td>\n",
       "      <td>15.68</td>\n",
       "      <td>12.76</td>\n",
       "      <td>3.79</td>\n",
       "      <td>3.29</td>\n",
       "      <td>82.0</td>\n",
       "      <td>8.3</td>\n",
       "      <td>E</td>\n",
       "    </tr>\n",
       "    <tr>\n",
       "      <th>3</th>\n",
       "      <td>Wii Sports Resort</td>\n",
       "      <td>Wii</td>\n",
       "      <td>2009.0</td>\n",
       "      <td>Sports</td>\n",
       "      <td>15.61</td>\n",
       "      <td>10.93</td>\n",
       "      <td>3.28</td>\n",
       "      <td>2.95</td>\n",
       "      <td>80.0</td>\n",
       "      <td>8</td>\n",
       "      <td>E</td>\n",
       "    </tr>\n",
       "    <tr>\n",
       "      <th>4</th>\n",
       "      <td>Pokemon Red/Pokemon Blue</td>\n",
       "      <td>GB</td>\n",
       "      <td>1996.0</td>\n",
       "      <td>Role-Playing</td>\n",
       "      <td>11.27</td>\n",
       "      <td>8.89</td>\n",
       "      <td>10.22</td>\n",
       "      <td>1.00</td>\n",
       "      <td>NaN</td>\n",
       "      <td>NaN</td>\n",
       "      <td>NaN</td>\n",
       "    </tr>\n",
       "  </tbody>\n",
       "</table>\n",
       "</div>"
      ],
      "text/plain": [
       "                       Name Platform  Year_of_Release         Genre  NA_sales  \\\n",
       "0                Wii Sports      Wii           2006.0        Sports     41.36   \n",
       "1         Super Mario Bros.      NES           1985.0      Platform     29.08   \n",
       "2            Mario Kart Wii      Wii           2008.0        Racing     15.68   \n",
       "3         Wii Sports Resort      Wii           2009.0        Sports     15.61   \n",
       "4  Pokemon Red/Pokemon Blue       GB           1996.0  Role-Playing     11.27   \n",
       "\n",
       "   EU_sales  JP_sales  Other_sales  Critic_Score User_Score Rating  \n",
       "0     28.96      3.77         8.45          76.0          8      E  \n",
       "1      3.58      6.81         0.77           NaN        NaN    NaN  \n",
       "2     12.76      3.79         3.29          82.0        8.3      E  \n",
       "3     10.93      3.28         2.95          80.0          8      E  \n",
       "4      8.89     10.22         1.00           NaN        NaN    NaN  "
      ]
     },
     "execution_count": 5,
     "metadata": {},
     "output_type": "execute_result"
    }
   ],
   "source": [
    "#знакомимся с данными \n",
    "print(data.shape)\n",
    "data.head()"
   ]
  },
  {
   "cell_type": "markdown",
   "id": "368f6d8b",
   "metadata": {},
   "source": [
    "Общее количество строк - `16 715`, столбцов - `11`."
   ]
  },
  {
   "cell_type": "code",
   "execution_count": 6,
   "id": "583147bc",
   "metadata": {
    "scrolled": false
   },
   "outputs": [
    {
     "name": "stdout",
     "output_type": "stream",
     "text": [
      "<class 'pandas.core.frame.DataFrame'>\n",
      "RangeIndex: 16715 entries, 0 to 16714\n",
      "Data columns (total 11 columns):\n",
      " #   Column           Non-Null Count  Dtype  \n",
      "---  ------           --------------  -----  \n",
      " 0   Name             16713 non-null  object \n",
      " 1   Platform         16715 non-null  object \n",
      " 2   Year_of_Release  16446 non-null  float64\n",
      " 3   Genre            16713 non-null  object \n",
      " 4   NA_sales         16715 non-null  float64\n",
      " 5   EU_sales         16715 non-null  float64\n",
      " 6   JP_sales         16715 non-null  float64\n",
      " 7   Other_sales      16715 non-null  float64\n",
      " 8   Critic_Score     8137 non-null   float64\n",
      " 9   User_Score       10014 non-null  object \n",
      " 10  Rating           9949 non-null   object \n",
      "dtypes: float64(6), object(5)\n",
      "memory usage: 1.4+ MB\n"
     ]
    }
   ],
   "source": [
    "#посмотрим на данные в полном объеме\n",
    "data.info()"
   ]
  },
  {
   "cell_type": "markdown",
   "id": "c5687aa8",
   "metadata": {},
   "source": [
    "Основные типы колонок: `float` и `object`. "
   ]
  },
  {
   "cell_type": "code",
   "execution_count": 7,
   "id": "64d38586",
   "metadata": {
    "scrolled": true
   },
   "outputs": [
    {
     "data": {
      "text/html": [
       "<style  type=\"text/css\" >\n",
       "#T_eccd6_row0_col0,#T_eccd6_row1_col0,#T_eccd6_row3_col0,#T_eccd6_row4_col0,#T_eccd6_row5_col0,#T_eccd6_row6_col0,#T_eccd6_row7_col0{\n",
       "            background-color:  #3b4cc0;\n",
       "            color:  #f1f1f1;\n",
       "        }#T_eccd6_row2_col0{\n",
       "            background-color:  #4358cb;\n",
       "            color:  #f1f1f1;\n",
       "        }#T_eccd6_row8_col0{\n",
       "            background-color:  #b40426;\n",
       "            color:  #f1f1f1;\n",
       "        }#T_eccd6_row9_col0{\n",
       "            background-color:  #f08b6e;\n",
       "            color:  #000000;\n",
       "        }#T_eccd6_row10_col0{\n",
       "            background-color:  #ef886b;\n",
       "            color:  #000000;\n",
       "        }</style><table id=\"T_eccd6_\" ><thead>    <tr>        <th class=\"blank level0\" ></th>        <th class=\"col_heading level0 col0\" >0</th>    </tr></thead><tbody>\n",
       "                <tr>\n",
       "                        <th id=\"T_eccd6_level0_row0\" class=\"row_heading level0 row0\" >Name</th>\n",
       "                        <td id=\"T_eccd6_row0_col0\" class=\"data row0 col0\" >0.000000</td>\n",
       "            </tr>\n",
       "            <tr>\n",
       "                        <th id=\"T_eccd6_level0_row1\" class=\"row_heading level0 row1\" >Platform</th>\n",
       "                        <td id=\"T_eccd6_row1_col0\" class=\"data row1 col0\" >0.000000</td>\n",
       "            </tr>\n",
       "            <tr>\n",
       "                        <th id=\"T_eccd6_level0_row2\" class=\"row_heading level0 row2\" >Year_of_Release</th>\n",
       "                        <td id=\"T_eccd6_row2_col0\" class=\"data row2 col0\" >1.600000</td>\n",
       "            </tr>\n",
       "            <tr>\n",
       "                        <th id=\"T_eccd6_level0_row3\" class=\"row_heading level0 row3\" >Genre</th>\n",
       "                        <td id=\"T_eccd6_row3_col0\" class=\"data row3 col0\" >0.000000</td>\n",
       "            </tr>\n",
       "            <tr>\n",
       "                        <th id=\"T_eccd6_level0_row4\" class=\"row_heading level0 row4\" >NA_sales</th>\n",
       "                        <td id=\"T_eccd6_row4_col0\" class=\"data row4 col0\" >0.000000</td>\n",
       "            </tr>\n",
       "            <tr>\n",
       "                        <th id=\"T_eccd6_level0_row5\" class=\"row_heading level0 row5\" >EU_sales</th>\n",
       "                        <td id=\"T_eccd6_row5_col0\" class=\"data row5 col0\" >0.000000</td>\n",
       "            </tr>\n",
       "            <tr>\n",
       "                        <th id=\"T_eccd6_level0_row6\" class=\"row_heading level0 row6\" >JP_sales</th>\n",
       "                        <td id=\"T_eccd6_row6_col0\" class=\"data row6 col0\" >0.000000</td>\n",
       "            </tr>\n",
       "            <tr>\n",
       "                        <th id=\"T_eccd6_level0_row7\" class=\"row_heading level0 row7\" >Other_sales</th>\n",
       "                        <td id=\"T_eccd6_row7_col0\" class=\"data row7 col0\" >0.000000</td>\n",
       "            </tr>\n",
       "            <tr>\n",
       "                        <th id=\"T_eccd6_level0_row8\" class=\"row_heading level0 row8\" >Critic_Score</th>\n",
       "                        <td id=\"T_eccd6_row8_col0\" class=\"data row8 col0\" >51.300000</td>\n",
       "            </tr>\n",
       "            <tr>\n",
       "                        <th id=\"T_eccd6_level0_row9\" class=\"row_heading level0 row9\" >User_Score</th>\n",
       "                        <td id=\"T_eccd6_row9_col0\" class=\"data row9 col0\" >40.100000</td>\n",
       "            </tr>\n",
       "            <tr>\n",
       "                        <th id=\"T_eccd6_level0_row10\" class=\"row_heading level0 row10\" >Rating</th>\n",
       "                        <td id=\"T_eccd6_row10_col0\" class=\"data row10 col0\" >40.500000</td>\n",
       "            </tr>\n",
       "    </tbody></table>"
      ],
      "text/plain": [
       "<pandas.io.formats.style.Styler at 0x7fa780199b80>"
      ]
     },
     "execution_count": 7,
     "metadata": {},
     "output_type": "execute_result"
    }
   ],
   "source": [
    "#пропуски в процентном соотношении\n",
    "isna_in_data = pd.DataFrame(round(data.isna().mean()*100,1)).style.background_gradient('coolwarm')\n",
    "isna_in_data"
   ]
  },
  {
   "cell_type": "markdown",
   "id": "fe77145d",
   "metadata": {},
   "source": [
    "Столбец `Critic_Score` имеет больше `51%` пропусков - больше половины. `User_Score` и `Rating` имеют по `40%`."
   ]
  },
  {
   "cell_type": "code",
   "execution_count": 67,
   "id": "8925c5e4",
   "metadata": {},
   "outputs": [
    {
     "data": {
      "text/html": [
       "<div>\n",
       "<style scoped>\n",
       "    .dataframe tbody tr th:only-of-type {\n",
       "        vertical-align: middle;\n",
       "    }\n",
       "\n",
       "    .dataframe tbody tr th {\n",
       "        vertical-align: top;\n",
       "    }\n",
       "\n",
       "    .dataframe thead th {\n",
       "        text-align: right;\n",
       "    }\n",
       "</style>\n",
       "<table border=\"1\" class=\"dataframe\">\n",
       "  <thead>\n",
       "    <tr style=\"text-align: right;\">\n",
       "      <th></th>\n",
       "      <th>year_of_release</th>\n",
       "      <th>na_sales</th>\n",
       "      <th>eu_sales</th>\n",
       "      <th>jp_sales</th>\n",
       "      <th>other_sales</th>\n",
       "      <th>amount_region</th>\n",
       "      <th>critic_score</th>\n",
       "      <th>user_score</th>\n",
       "    </tr>\n",
       "  </thead>\n",
       "  <tbody>\n",
       "    <tr>\n",
       "      <th>count</th>\n",
       "      <td>16444.00</td>\n",
       "      <td>16444.00</td>\n",
       "      <td>16444.00</td>\n",
       "      <td>16444.00</td>\n",
       "      <td>16444.00</td>\n",
       "      <td>16444.00</td>\n",
       "      <td>16444.00</td>\n",
       "      <td>16444.00</td>\n",
       "    </tr>\n",
       "    <tr>\n",
       "      <th>mean</th>\n",
       "      <td>2006.49</td>\n",
       "      <td>0.26</td>\n",
       "      <td>0.15</td>\n",
       "      <td>0.08</td>\n",
       "      <td>0.05</td>\n",
       "      <td>0.54</td>\n",
       "      <td>32.98</td>\n",
       "      <td>2.69</td>\n",
       "    </tr>\n",
       "    <tr>\n",
       "      <th>std</th>\n",
       "      <td>5.88</td>\n",
       "      <td>0.82</td>\n",
       "      <td>0.51</td>\n",
       "      <td>0.31</td>\n",
       "      <td>0.19</td>\n",
       "      <td>1.56</td>\n",
       "      <td>36.30</td>\n",
       "      <td>4.17</td>\n",
       "    </tr>\n",
       "    <tr>\n",
       "      <th>min</th>\n",
       "      <td>1980.00</td>\n",
       "      <td>0.00</td>\n",
       "      <td>0.00</td>\n",
       "      <td>0.00</td>\n",
       "      <td>0.00</td>\n",
       "      <td>0.00</td>\n",
       "      <td>-1.00</td>\n",
       "      <td>-1.00</td>\n",
       "    </tr>\n",
       "    <tr>\n",
       "      <th>25%</th>\n",
       "      <td>2003.00</td>\n",
       "      <td>0.00</td>\n",
       "      <td>0.00</td>\n",
       "      <td>0.00</td>\n",
       "      <td>0.00</td>\n",
       "      <td>0.06</td>\n",
       "      <td>-1.00</td>\n",
       "      <td>-1.00</td>\n",
       "    </tr>\n",
       "    <tr>\n",
       "      <th>50%</th>\n",
       "      <td>2007.00</td>\n",
       "      <td>0.08</td>\n",
       "      <td>0.02</td>\n",
       "      <td>0.00</td>\n",
       "      <td>0.01</td>\n",
       "      <td>0.17</td>\n",
       "      <td>-1.00</td>\n",
       "      <td>-1.00</td>\n",
       "    </tr>\n",
       "    <tr>\n",
       "      <th>75%</th>\n",
       "      <td>2010.00</td>\n",
       "      <td>0.24</td>\n",
       "      <td>0.11</td>\n",
       "      <td>0.04</td>\n",
       "      <td>0.03</td>\n",
       "      <td>0.47</td>\n",
       "      <td>70.00</td>\n",
       "      <td>7.30</td>\n",
       "    </tr>\n",
       "    <tr>\n",
       "      <th>max</th>\n",
       "      <td>2016.00</td>\n",
       "      <td>41.36</td>\n",
       "      <td>28.96</td>\n",
       "      <td>10.22</td>\n",
       "      <td>10.57</td>\n",
       "      <td>82.54</td>\n",
       "      <td>98.00</td>\n",
       "      <td>9.70</td>\n",
       "    </tr>\n",
       "  </tbody>\n",
       "</table>\n",
       "</div>"
      ],
      "text/plain": [
       "       year_of_release  na_sales  eu_sales  jp_sales  other_sales  \\\n",
       "count         16444.00  16444.00  16444.00  16444.00     16444.00   \n",
       "mean           2006.49      0.26      0.15      0.08         0.05   \n",
       "std               5.88      0.82      0.51      0.31         0.19   \n",
       "min            1980.00      0.00      0.00      0.00         0.00   \n",
       "25%            2003.00      0.00      0.00      0.00         0.00   \n",
       "50%            2007.00      0.08      0.02      0.00         0.01   \n",
       "75%            2010.00      0.24      0.11      0.04         0.03   \n",
       "max            2016.00     41.36     28.96     10.22        10.57   \n",
       "\n",
       "       amount_region  critic_score  user_score  \n",
       "count       16444.00      16444.00    16444.00  \n",
       "mean            0.54         32.98        2.69  \n",
       "std             1.56         36.30        4.17  \n",
       "min             0.00         -1.00       -1.00  \n",
       "25%             0.06         -1.00       -1.00  \n",
       "50%             0.17         -1.00       -1.00  \n",
       "75%             0.47         70.00        7.30  \n",
       "max            82.54         98.00        9.70  "
      ]
     },
     "execution_count": 67,
     "metadata": {},
     "output_type": "execute_result"
    }
   ],
   "source": [
    "# Описание величин для всех числовых типов данных: количество, среднее арифметическое, стандартное отклонение и тд.\n",
    "data.describe().round(2)"
   ]
  },
  {
   "cell_type": "code",
   "execution_count": 9,
   "id": "d8871df8",
   "metadata": {},
   "outputs": [
    {
     "data": {
      "text/html": [
       "<div>\n",
       "<style scoped>\n",
       "    .dataframe tbody tr th:only-of-type {\n",
       "        vertical-align: middle;\n",
       "    }\n",
       "\n",
       "    .dataframe tbody tr th {\n",
       "        vertical-align: top;\n",
       "    }\n",
       "\n",
       "    .dataframe thead th {\n",
       "        text-align: right;\n",
       "    }\n",
       "</style>\n",
       "<table border=\"1\" class=\"dataframe\">\n",
       "  <thead>\n",
       "    <tr style=\"text-align: right;\">\n",
       "      <th></th>\n",
       "      <th>Name</th>\n",
       "      <th>Platform</th>\n",
       "      <th>Genre</th>\n",
       "      <th>User_Score</th>\n",
       "      <th>Rating</th>\n",
       "    </tr>\n",
       "  </thead>\n",
       "  <tbody>\n",
       "    <tr>\n",
       "      <th>count</th>\n",
       "      <td>16713</td>\n",
       "      <td>16715</td>\n",
       "      <td>16713</td>\n",
       "      <td>10014</td>\n",
       "      <td>9949</td>\n",
       "    </tr>\n",
       "    <tr>\n",
       "      <th>unique</th>\n",
       "      <td>11559</td>\n",
       "      <td>31</td>\n",
       "      <td>12</td>\n",
       "      <td>96</td>\n",
       "      <td>8</td>\n",
       "    </tr>\n",
       "    <tr>\n",
       "      <th>top</th>\n",
       "      <td>Need for Speed: Most Wanted</td>\n",
       "      <td>PS2</td>\n",
       "      <td>Action</td>\n",
       "      <td>tbd</td>\n",
       "      <td>E</td>\n",
       "    </tr>\n",
       "    <tr>\n",
       "      <th>freq</th>\n",
       "      <td>12</td>\n",
       "      <td>2161</td>\n",
       "      <td>3369</td>\n",
       "      <td>2424</td>\n",
       "      <td>3990</td>\n",
       "    </tr>\n",
       "  </tbody>\n",
       "</table>\n",
       "</div>"
      ],
      "text/plain": [
       "                               Name Platform   Genre User_Score Rating\n",
       "count                         16713    16715   16713      10014   9949\n",
       "unique                        11559       31      12         96      8\n",
       "top     Need for Speed: Most Wanted      PS2  Action        tbd      E\n",
       "freq                             12     2161    3369       2424   3990"
      ]
     },
     "execution_count": 9,
     "metadata": {},
     "output_type": "execute_result"
    }
   ],
   "source": [
    "# Cмотрим описательную статистику к нечисловым столбцам (категориальному типу данных): \n",
    "# количество, уникальные, самые частые, их частота\n",
    "data.describe(include=['O'])"
   ]
  },
  {
   "cell_type": "code",
   "execution_count": 10,
   "id": "7e4c52d6",
   "metadata": {
    "scrolled": true
   },
   "outputs": [
    {
     "data": {
      "image/png": "[encoded data removed]",
      "text/plain": [
       "<Figure size 1080x1080 with 6 Axes>"
      ]
     },
     "metadata": {
      "needs_background": "light"
     },
     "output_type": "display_data"
    }
   ],
   "source": [
    "#Построим общую гистограмму для всех числовых столбцов таблицы.\n",
    "data.hist(bins = 100, figsize= (15, 15));"
   ]
  },
  {
   "cell_type": "markdown",
   "id": "7b14539f",
   "metadata": {},
   "source": [
    "**Вывод:**\n",
    "\n",
    "Итого мы имеем `16 715` строк и 11 столбцов с типами object и float64. В 45% столбцов мы имеем пропуски, самое большее количество пропусков в `Critic_Score` - больше `50%` самое меньшее в `Year_of_Release` менее 2% еще меньше данных в столбцах 'name' и 'genre'."
   ]
  },
  {
   "cell_type": "markdown",
   "id": "7f3818aa",
   "metadata": {},
   "source": [
    "---"
   ]
  },
  {
   "cell_type": "markdown",
   "id": "d0e97e97",
   "metadata": {},
   "source": [
    "# Шаг 2. Подготовка данных."
   ]
  },
  {
   "cell_type": "markdown",
   "id": "d4f0ff22",
   "metadata": {},
   "source": [
    "## Исправление названий столбцов"
   ]
  },
  {
   "cell_type": "code",
   "execution_count": 68,
   "id": "9b10562f",
   "metadata": {
    "scrolled": true
   },
   "outputs": [
    {
     "data": {
      "text/html": [
       "<div>\n",
       "<style scoped>\n",
       "    .dataframe tbody tr th:only-of-type {\n",
       "        vertical-align: middle;\n",
       "    }\n",
       "\n",
       "    .dataframe tbody tr th {\n",
       "        vertical-align: top;\n",
       "    }\n",
       "\n",
       "    .dataframe thead th {\n",
       "        text-align: right;\n",
       "    }\n",
       "</style>\n",
       "<table border=\"1\" class=\"dataframe\">\n",
       "  <thead>\n",
       "    <tr style=\"text-align: right;\">\n",
       "      <th></th>\n",
       "      <th>name</th>\n",
       "      <th>platform</th>\n",
       "      <th>year_of_release</th>\n",
       "      <th>genre</th>\n",
       "      <th>na_sales</th>\n",
       "      <th>eu_sales</th>\n",
       "      <th>jp_sales</th>\n",
       "      <th>other_sales</th>\n",
       "      <th>amount_region</th>\n",
       "      <th>critic_score</th>\n",
       "      <th>user_score</th>\n",
       "      <th>rating</th>\n",
       "    </tr>\n",
       "  </thead>\n",
       "  <tbody>\n",
       "    <tr>\n",
       "      <th>0</th>\n",
       "      <td>Wii Sports</td>\n",
       "      <td>Wii</td>\n",
       "      <td>2006</td>\n",
       "      <td>Sports</td>\n",
       "      <td>41.36</td>\n",
       "      <td>28.96</td>\n",
       "      <td>3.77</td>\n",
       "      <td>8.45</td>\n",
       "      <td>82.54</td>\n",
       "      <td>76</td>\n",
       "      <td>8.0</td>\n",
       "      <td>E</td>\n",
       "    </tr>\n",
       "    <tr>\n",
       "      <th>1</th>\n",
       "      <td>Super Mario Bros.</td>\n",
       "      <td>NES</td>\n",
       "      <td>1985</td>\n",
       "      <td>Platform</td>\n",
       "      <td>29.08</td>\n",
       "      <td>3.58</td>\n",
       "      <td>6.81</td>\n",
       "      <td>0.77</td>\n",
       "      <td>40.24</td>\n",
       "      <td>-1</td>\n",
       "      <td>-1.0</td>\n",
       "      <td>no name</td>\n",
       "    </tr>\n",
       "    <tr>\n",
       "      <th>2</th>\n",
       "      <td>Mario Kart Wii</td>\n",
       "      <td>Wii</td>\n",
       "      <td>2008</td>\n",
       "      <td>Racing</td>\n",
       "      <td>15.68</td>\n",
       "      <td>12.76</td>\n",
       "      <td>3.79</td>\n",
       "      <td>3.29</td>\n",
       "      <td>35.52</td>\n",
       "      <td>82</td>\n",
       "      <td>8.3</td>\n",
       "      <td>E</td>\n",
       "    </tr>\n",
       "    <tr>\n",
       "      <th>3</th>\n",
       "      <td>Wii Sports Resort</td>\n",
       "      <td>Wii</td>\n",
       "      <td>2009</td>\n",
       "      <td>Sports</td>\n",
       "      <td>15.61</td>\n",
       "      <td>10.93</td>\n",
       "      <td>3.28</td>\n",
       "      <td>2.95</td>\n",
       "      <td>32.77</td>\n",
       "      <td>80</td>\n",
       "      <td>8.0</td>\n",
       "      <td>E</td>\n",
       "    </tr>\n",
       "    <tr>\n",
       "      <th>4</th>\n",
       "      <td>Pokemon Red/Pokemon Blue</td>\n",
       "      <td>GB</td>\n",
       "      <td>1996</td>\n",
       "      <td>Role-Playing</td>\n",
       "      <td>11.27</td>\n",
       "      <td>8.89</td>\n",
       "      <td>10.22</td>\n",
       "      <td>1.00</td>\n",
       "      <td>31.38</td>\n",
       "      <td>-1</td>\n",
       "      <td>-1.0</td>\n",
       "      <td>no name</td>\n",
       "    </tr>\n",
       "    <tr>\n",
       "      <th>5</th>\n",
       "      <td>Tetris</td>\n",
       "      <td>GB</td>\n",
       "      <td>1989</td>\n",
       "      <td>Puzzle</td>\n",
       "      <td>23.20</td>\n",
       "      <td>2.26</td>\n",
       "      <td>4.22</td>\n",
       "      <td>0.58</td>\n",
       "      <td>30.26</td>\n",
       "      <td>-1</td>\n",
       "      <td>-1.0</td>\n",
       "      <td>no name</td>\n",
       "    </tr>\n",
       "    <tr>\n",
       "      <th>6</th>\n",
       "      <td>New Super Mario Bros.</td>\n",
       "      <td>DS</td>\n",
       "      <td>2006</td>\n",
       "      <td>Platform</td>\n",
       "      <td>11.28</td>\n",
       "      <td>9.14</td>\n",
       "      <td>6.50</td>\n",
       "      <td>2.88</td>\n",
       "      <td>29.80</td>\n",
       "      <td>89</td>\n",
       "      <td>8.5</td>\n",
       "      <td>E</td>\n",
       "    </tr>\n",
       "    <tr>\n",
       "      <th>7</th>\n",
       "      <td>Wii Play</td>\n",
       "      <td>Wii</td>\n",
       "      <td>2006</td>\n",
       "      <td>Misc</td>\n",
       "      <td>13.96</td>\n",
       "      <td>9.18</td>\n",
       "      <td>2.93</td>\n",
       "      <td>2.84</td>\n",
       "      <td>28.91</td>\n",
       "      <td>58</td>\n",
       "      <td>6.6</td>\n",
       "      <td>E</td>\n",
       "    </tr>\n",
       "    <tr>\n",
       "      <th>8</th>\n",
       "      <td>New Super Mario Bros. Wii</td>\n",
       "      <td>Wii</td>\n",
       "      <td>2009</td>\n",
       "      <td>Platform</td>\n",
       "      <td>14.44</td>\n",
       "      <td>6.94</td>\n",
       "      <td>4.70</td>\n",
       "      <td>2.24</td>\n",
       "      <td>28.32</td>\n",
       "      <td>87</td>\n",
       "      <td>8.4</td>\n",
       "      <td>E</td>\n",
       "    </tr>\n",
       "    <tr>\n",
       "      <th>9</th>\n",
       "      <td>Duck Hunt</td>\n",
       "      <td>NES</td>\n",
       "      <td>1984</td>\n",
       "      <td>Shooter</td>\n",
       "      <td>26.93</td>\n",
       "      <td>0.63</td>\n",
       "      <td>0.28</td>\n",
       "      <td>0.47</td>\n",
       "      <td>28.31</td>\n",
       "      <td>-1</td>\n",
       "      <td>-1.0</td>\n",
       "      <td>no name</td>\n",
       "    </tr>\n",
       "    <tr>\n",
       "      <th>10</th>\n",
       "      <td>Nintendogs</td>\n",
       "      <td>DS</td>\n",
       "      <td>2005</td>\n",
       "      <td>Simulation</td>\n",
       "      <td>9.05</td>\n",
       "      <td>10.95</td>\n",
       "      <td>1.93</td>\n",
       "      <td>2.74</td>\n",
       "      <td>24.67</td>\n",
       "      <td>-1</td>\n",
       "      <td>-1.0</td>\n",
       "      <td>no name</td>\n",
       "    </tr>\n",
       "    <tr>\n",
       "      <th>11</th>\n",
       "      <td>Mario Kart DS</td>\n",
       "      <td>DS</td>\n",
       "      <td>2005</td>\n",
       "      <td>Racing</td>\n",
       "      <td>9.71</td>\n",
       "      <td>7.47</td>\n",
       "      <td>4.13</td>\n",
       "      <td>1.90</td>\n",
       "      <td>23.21</td>\n",
       "      <td>91</td>\n",
       "      <td>8.6</td>\n",
       "      <td>E</td>\n",
       "    </tr>\n",
       "    <tr>\n",
       "      <th>12</th>\n",
       "      <td>Pokemon Gold/Pokemon Silver</td>\n",
       "      <td>GB</td>\n",
       "      <td>1999</td>\n",
       "      <td>Role-Playing</td>\n",
       "      <td>9.00</td>\n",
       "      <td>6.18</td>\n",
       "      <td>7.20</td>\n",
       "      <td>0.71</td>\n",
       "      <td>23.09</td>\n",
       "      <td>-1</td>\n",
       "      <td>-1.0</td>\n",
       "      <td>no name</td>\n",
       "    </tr>\n",
       "    <tr>\n",
       "      <th>13</th>\n",
       "      <td>Wii Fit</td>\n",
       "      <td>Wii</td>\n",
       "      <td>2007</td>\n",
       "      <td>Sports</td>\n",
       "      <td>8.92</td>\n",
       "      <td>8.03</td>\n",
       "      <td>3.60</td>\n",
       "      <td>2.15</td>\n",
       "      <td>22.70</td>\n",
       "      <td>80</td>\n",
       "      <td>7.7</td>\n",
       "      <td>E</td>\n",
       "    </tr>\n",
       "    <tr>\n",
       "      <th>14</th>\n",
       "      <td>Kinect Adventures!</td>\n",
       "      <td>X360</td>\n",
       "      <td>2010</td>\n",
       "      <td>Misc</td>\n",
       "      <td>15.00</td>\n",
       "      <td>4.89</td>\n",
       "      <td>0.24</td>\n",
       "      <td>1.69</td>\n",
       "      <td>21.82</td>\n",
       "      <td>61</td>\n",
       "      <td>6.3</td>\n",
       "      <td>E</td>\n",
       "    </tr>\n",
       "  </tbody>\n",
       "</table>\n",
       "</div>"
      ],
      "text/plain": [
       "                           name platform  year_of_release         genre  \\\n",
       "0                    Wii Sports      Wii             2006        Sports   \n",
       "1             Super Mario Bros.      NES             1985      Platform   \n",
       "2                Mario Kart Wii      Wii             2008        Racing   \n",
       "3             Wii Sports Resort      Wii             2009        Sports   \n",
       "4      Pokemon Red/Pokemon Blue       GB             1996  Role-Playing   \n",
       "5                        Tetris       GB             1989        Puzzle   \n",
       "6         New Super Mario Bros.       DS             2006      Platform   \n",
       "7                      Wii Play      Wii             2006          Misc   \n",
       "8     New Super Mario Bros. Wii      Wii             2009      Platform   \n",
       "9                     Duck Hunt      NES             1984       Shooter   \n",
       "10                   Nintendogs       DS             2005    Simulation   \n",
       "11                Mario Kart DS       DS             2005        Racing   \n",
       "12  Pokemon Gold/Pokemon Silver       GB             1999  Role-Playing   \n",
       "13                      Wii Fit      Wii             2007        Sports   \n",
       "14           Kinect Adventures!     X360             2010          Misc   \n",
       "\n",
       "    na_sales  eu_sales  jp_sales  other_sales  amount_region  critic_score  \\\n",
       "0      41.36     28.96      3.77         8.45          82.54            76   \n",
       "1      29.08      3.58      6.81         0.77          40.24            -1   \n",
       "2      15.68     12.76      3.79         3.29          35.52            82   \n",
       "3      15.61     10.93      3.28         2.95          32.77            80   \n",
       "4      11.27      8.89     10.22         1.00          31.38            -1   \n",
       "5      23.20      2.26      4.22         0.58          30.26            -1   \n",
       "6      11.28      9.14      6.50         2.88          29.80            89   \n",
       "7      13.96      9.18      2.93         2.84          28.91            58   \n",
       "8      14.44      6.94      4.70         2.24          28.32            87   \n",
       "9      26.93      0.63      0.28         0.47          28.31            -1   \n",
       "10      9.05     10.95      1.93         2.74          24.67            -1   \n",
       "11      9.71      7.47      4.13         1.90          23.21            91   \n",
       "12      9.00      6.18      7.20         0.71          23.09            -1   \n",
       "13      8.92      8.03      3.60         2.15          22.70            80   \n",
       "14     15.00      4.89      0.24         1.69          21.82            61   \n",
       "\n",
       "    user_score   rating  \n",
       "0          8.0        E  \n",
       "1         -1.0  no name  \n",
       "2          8.3        E  \n",
       "3          8.0        E  \n",
       "4         -1.0  no name  \n",
       "5         -1.0  no name  \n",
       "6          8.5        E  \n",
       "7          6.6        E  \n",
       "8          8.4        E  \n",
       "9         -1.0  no name  \n",
       "10        -1.0  no name  \n",
       "11         8.6        E  \n",
       "12        -1.0  no name  \n",
       "13         7.7        E  \n",
       "14         6.3        E  "
      ]
     },
     "execution_count": 68,
     "metadata": {},
     "output_type": "execute_result"
    }
   ],
   "source": [
    "#исправляем название столбцов (проводим к нижнему регистру)\n",
    "data.columns = data.columns.str.lower()\n",
    "data.head(15)#проверим"
   ]
  },
  {
   "cell_type": "markdown",
   "id": "61769fcb",
   "metadata": {},
   "source": [
    "## Изменение типов столбцов"
   ]
  },
  {
   "cell_type": "code",
   "execution_count": 12,
   "id": "b44ec91e",
   "metadata": {},
   "outputs": [],
   "source": [
    "#Изменим типы данных в столбцах\n",
    "data['user_score'] = pd.to_numeric(data['user_score'],errors='coerce')"
   ]
  },
  {
   "cell_type": "markdown",
   "id": "df508b55",
   "metadata": {},
   "source": [
    "В столбце `user_score` мы столкнулись с значением TBD (11 строк) которое обозначает To Be Discussed - подлежит обсуждению. Переведем его в float и все значения TBD перейдут в Nan."
   ]
  },
  {
   "cell_type": "markdown",
   "id": "9d12d64d",
   "metadata": {},
   "source": [
    "В столбце `critic_score` мы столкнулись с значением NAN, которое нам мешало перевести столбец в тип `int`, поэтому заменим его [тут](#intro) "
   ]
  },
  {
   "cell_type": "code",
   "execution_count": 13,
   "id": "cea31c68",
   "metadata": {},
   "outputs": [],
   "source": [
    "data['year_of_release'] = data['year_of_release'].astype('Int64')"
   ]
  },
  {
   "cell_type": "markdown",
   "id": "0a1f1785",
   "metadata": {},
   "source": [
    "В столбце `year_of_release` мы поменяли тип на `Int64`."
   ]
  },
  {
   "cell_type": "code",
   "execution_count": 14,
   "id": "1f64033c",
   "metadata": {},
   "outputs": [
    {
     "name": "stdout",
     "output_type": "stream",
     "text": [
      "<class 'pandas.core.frame.DataFrame'>\n",
      "RangeIndex: 16715 entries, 0 to 16714\n",
      "Data columns (total 11 columns):\n",
      " #   Column           Non-Null Count  Dtype  \n",
      "---  ------           --------------  -----  \n",
      " 0   name             16713 non-null  object \n",
      " 1   platform         16715 non-null  object \n",
      " 2   year_of_release  16446 non-null  Int64  \n",
      " 3   genre            16713 non-null  object \n",
      " 4   na_sales         16715 non-null  float64\n",
      " 5   eu_sales         16715 non-null  float64\n",
      " 6   jp_sales         16715 non-null  float64\n",
      " 7   other_sales      16715 non-null  float64\n",
      " 8   critic_score     8137 non-null   float64\n",
      " 9   user_score       7590 non-null   float64\n",
      " 10  rating           9949 non-null   object \n",
      "dtypes: Int64(1), float64(6), object(4)\n",
      "memory usage: 1.4+ MB\n"
     ]
    }
   ],
   "source": [
    "#проверяем\n",
    "data.info()"
   ]
  },
  {
   "cell_type": "markdown",
   "id": "22ccd94e",
   "metadata": {},
   "source": [
    "**Вывод**:\n",
    "\n",
    "В трех столбцах мы изменили тип данных, `user_score` сменили на float, `critic_score` изменили на Int, `year_of_release` изменили на Int для возможности удобства корректного анализа данных и выявления закономерности."
   ]
  },
  {
   "cell_type": "markdown",
   "id": "7c2dc6e4",
   "metadata": {},
   "source": [
    "## Обработка пропусков"
   ]
  },
  {
   "cell_type": "markdown",
   "id": "b16dde1f",
   "metadata": {},
   "source": [
    "Прежде чем обрабатывать пропуски, посмотрим явные дубликаты."
   ]
  },
  {
   "cell_type": "code",
   "execution_count": 15,
   "id": "1306c43c",
   "metadata": {},
   "outputs": [
    {
     "data": {
      "text/plain": [
       "0"
      ]
     },
     "execution_count": 15,
     "metadata": {},
     "output_type": "execute_result"
    }
   ],
   "source": [
    "data.duplicated().sum()#их нет "
   ]
  },
  {
   "cell_type": "code",
   "execution_count": 16,
   "id": "06fb590e",
   "metadata": {},
   "outputs": [
    {
     "data": {
      "text/plain": [
       "name                  2\n",
       "platform              0\n",
       "year_of_release     269\n",
       "genre                 2\n",
       "na_sales              0\n",
       "eu_sales              0\n",
       "jp_sales              0\n",
       "other_sales           0\n",
       "critic_score       8578\n",
       "user_score         9125\n",
       "rating             6766\n",
       "dtype: int64"
      ]
     },
     "execution_count": 16,
     "metadata": {},
     "output_type": "execute_result"
    }
   ],
   "source": [
    "data.isna().sum()"
   ]
  },
  {
   "cell_type": "markdown",
   "id": "0a6261c2",
   "metadata": {},
   "source": [
    "### Начнем с столбца `name`, найдем строки с пропусками и уникальными значениями."
   ]
  },
  {
   "cell_type": "code",
   "execution_count": 17,
   "id": "376c3558",
   "metadata": {},
   "outputs": [
    {
     "data": {
      "text/html": [
       "<div>\n",
       "<style scoped>\n",
       "    .dataframe tbody tr th:only-of-type {\n",
       "        vertical-align: middle;\n",
       "    }\n",
       "\n",
       "    .dataframe tbody tr th {\n",
       "        vertical-align: top;\n",
       "    }\n",
       "\n",
       "    .dataframe thead th {\n",
       "        text-align: right;\n",
       "    }\n",
       "</style>\n",
       "<table border=\"1\" class=\"dataframe\">\n",
       "  <thead>\n",
       "    <tr style=\"text-align: right;\">\n",
       "      <th></th>\n",
       "      <th>name</th>\n",
       "      <th>platform</th>\n",
       "      <th>year_of_release</th>\n",
       "      <th>genre</th>\n",
       "      <th>na_sales</th>\n",
       "      <th>eu_sales</th>\n",
       "      <th>jp_sales</th>\n",
       "      <th>other_sales</th>\n",
       "      <th>critic_score</th>\n",
       "      <th>user_score</th>\n",
       "      <th>rating</th>\n",
       "    </tr>\n",
       "  </thead>\n",
       "  <tbody>\n",
       "    <tr>\n",
       "      <th>659</th>\n",
       "      <td>NaN</td>\n",
       "      <td>GEN</td>\n",
       "      <td>1993</td>\n",
       "      <td>NaN</td>\n",
       "      <td>1.78</td>\n",
       "      <td>0.53</td>\n",
       "      <td>0.00</td>\n",
       "      <td>0.08</td>\n",
       "      <td>NaN</td>\n",
       "      <td>NaN</td>\n",
       "      <td>NaN</td>\n",
       "    </tr>\n",
       "    <tr>\n",
       "      <th>14244</th>\n",
       "      <td>NaN</td>\n",
       "      <td>GEN</td>\n",
       "      <td>1993</td>\n",
       "      <td>NaN</td>\n",
       "      <td>0.00</td>\n",
       "      <td>0.00</td>\n",
       "      <td>0.03</td>\n",
       "      <td>0.00</td>\n",
       "      <td>NaN</td>\n",
       "      <td>NaN</td>\n",
       "      <td>NaN</td>\n",
       "    </tr>\n",
       "  </tbody>\n",
       "</table>\n",
       "</div>"
      ],
      "text/plain": [
       "      name platform  year_of_release genre  na_sales  eu_sales  jp_sales  \\\n",
       "659    NaN      GEN             1993   NaN      1.78      0.53      0.00   \n",
       "14244  NaN      GEN             1993   NaN      0.00      0.00      0.03   \n",
       "\n",
       "       other_sales  critic_score  user_score rating  \n",
       "659           0.08           NaN         NaN    NaN  \n",
       "14244         0.00           NaN         NaN    NaN  "
      ]
     },
     "execution_count": 17,
     "metadata": {},
     "output_type": "execute_result"
    }
   ],
   "source": [
    "#найдем пустые значения в столбце \n",
    "data[data['name'].isna()]"
   ]
  },
  {
   "cell_type": "code",
   "execution_count": 18,
   "id": "f13eb38d",
   "metadata": {},
   "outputs": [],
   "source": [
    "#удалим пустые строки с пустыми значениями в name.\n",
    "data = data.dropna(subset = ['name'])"
   ]
  },
  {
   "cell_type": "markdown",
   "id": "ba88cd32",
   "metadata": {},
   "source": [
    "В столбце name нашли два пропуска, было принято решение их удалить. Так как это строковые данные и заменить их нечем."
   ]
  },
  {
   "cell_type": "markdown",
   "id": "8a7c96a5",
   "metadata": {},
   "source": [
    "###  Столбец `year_of_release`, найдем строки с пропусками и уникальными значениями."
   ]
  },
  {
   "cell_type": "code",
   "execution_count": 19,
   "id": "17467f7f",
   "metadata": {},
   "outputs": [
    {
     "data": {
      "text/html": [
       "<div>\n",
       "<style scoped>\n",
       "    .dataframe tbody tr th:only-of-type {\n",
       "        vertical-align: middle;\n",
       "    }\n",
       "\n",
       "    .dataframe tbody tr th {\n",
       "        vertical-align: top;\n",
       "    }\n",
       "\n",
       "    .dataframe thead th {\n",
       "        text-align: right;\n",
       "    }\n",
       "</style>\n",
       "<table border=\"1\" class=\"dataframe\">\n",
       "  <thead>\n",
       "    <tr style=\"text-align: right;\">\n",
       "      <th></th>\n",
       "      <th>name</th>\n",
       "      <th>platform</th>\n",
       "      <th>year_of_release</th>\n",
       "      <th>genre</th>\n",
       "      <th>na_sales</th>\n",
       "      <th>eu_sales</th>\n",
       "      <th>jp_sales</th>\n",
       "      <th>other_sales</th>\n",
       "      <th>critic_score</th>\n",
       "      <th>user_score</th>\n",
       "      <th>rating</th>\n",
       "    </tr>\n",
       "  </thead>\n",
       "  <tbody>\n",
       "    <tr>\n",
       "      <th>183</th>\n",
       "      <td>Madden NFL 2004</td>\n",
       "      <td>PS2</td>\n",
       "      <td>&lt;NA&gt;</td>\n",
       "      <td>Sports</td>\n",
       "      <td>4.26</td>\n",
       "      <td>0.26</td>\n",
       "      <td>0.01</td>\n",
       "      <td>0.71</td>\n",
       "      <td>94.0</td>\n",
       "      <td>8.5</td>\n",
       "      <td>E</td>\n",
       "    </tr>\n",
       "    <tr>\n",
       "      <th>377</th>\n",
       "      <td>FIFA Soccer 2004</td>\n",
       "      <td>PS2</td>\n",
       "      <td>&lt;NA&gt;</td>\n",
       "      <td>Sports</td>\n",
       "      <td>0.59</td>\n",
       "      <td>2.36</td>\n",
       "      <td>0.04</td>\n",
       "      <td>0.51</td>\n",
       "      <td>84.0</td>\n",
       "      <td>6.4</td>\n",
       "      <td>E</td>\n",
       "    </tr>\n",
       "    <tr>\n",
       "      <th>456</th>\n",
       "      <td>LEGO Batman: The Videogame</td>\n",
       "      <td>Wii</td>\n",
       "      <td>&lt;NA&gt;</td>\n",
       "      <td>Action</td>\n",
       "      <td>1.80</td>\n",
       "      <td>0.97</td>\n",
       "      <td>0.00</td>\n",
       "      <td>0.29</td>\n",
       "      <td>74.0</td>\n",
       "      <td>7.9</td>\n",
       "      <td>E10+</td>\n",
       "    </tr>\n",
       "    <tr>\n",
       "      <th>475</th>\n",
       "      <td>wwe Smackdown vs. Raw 2006</td>\n",
       "      <td>PS2</td>\n",
       "      <td>&lt;NA&gt;</td>\n",
       "      <td>Fighting</td>\n",
       "      <td>1.57</td>\n",
       "      <td>1.02</td>\n",
       "      <td>0.00</td>\n",
       "      <td>0.41</td>\n",
       "      <td>NaN</td>\n",
       "      <td>NaN</td>\n",
       "      <td>NaN</td>\n",
       "    </tr>\n",
       "    <tr>\n",
       "      <th>609</th>\n",
       "      <td>Space Invaders</td>\n",
       "      <td>2600</td>\n",
       "      <td>&lt;NA&gt;</td>\n",
       "      <td>Shooter</td>\n",
       "      <td>2.36</td>\n",
       "      <td>0.14</td>\n",
       "      <td>0.00</td>\n",
       "      <td>0.03</td>\n",
       "      <td>NaN</td>\n",
       "      <td>NaN</td>\n",
       "      <td>NaN</td>\n",
       "    </tr>\n",
       "    <tr>\n",
       "      <th>...</th>\n",
       "      <td>...</td>\n",
       "      <td>...</td>\n",
       "      <td>...</td>\n",
       "      <td>...</td>\n",
       "      <td>...</td>\n",
       "      <td>...</td>\n",
       "      <td>...</td>\n",
       "      <td>...</td>\n",
       "      <td>...</td>\n",
       "      <td>...</td>\n",
       "      <td>...</td>\n",
       "    </tr>\n",
       "    <tr>\n",
       "      <th>16373</th>\n",
       "      <td>PDC World Championship Darts 2008</td>\n",
       "      <td>PSP</td>\n",
       "      <td>&lt;NA&gt;</td>\n",
       "      <td>Sports</td>\n",
       "      <td>0.01</td>\n",
       "      <td>0.00</td>\n",
       "      <td>0.00</td>\n",
       "      <td>0.00</td>\n",
       "      <td>43.0</td>\n",
       "      <td>NaN</td>\n",
       "      <td>E10+</td>\n",
       "    </tr>\n",
       "    <tr>\n",
       "      <th>16405</th>\n",
       "      <td>Freaky Flyers</td>\n",
       "      <td>GC</td>\n",
       "      <td>&lt;NA&gt;</td>\n",
       "      <td>Racing</td>\n",
       "      <td>0.01</td>\n",
       "      <td>0.00</td>\n",
       "      <td>0.00</td>\n",
       "      <td>0.00</td>\n",
       "      <td>69.0</td>\n",
       "      <td>6.5</td>\n",
       "      <td>T</td>\n",
       "    </tr>\n",
       "    <tr>\n",
       "      <th>16448</th>\n",
       "      <td>Inversion</td>\n",
       "      <td>PC</td>\n",
       "      <td>&lt;NA&gt;</td>\n",
       "      <td>Shooter</td>\n",
       "      <td>0.01</td>\n",
       "      <td>0.00</td>\n",
       "      <td>0.00</td>\n",
       "      <td>0.00</td>\n",
       "      <td>59.0</td>\n",
       "      <td>6.7</td>\n",
       "      <td>M</td>\n",
       "    </tr>\n",
       "    <tr>\n",
       "      <th>16458</th>\n",
       "      <td>Hakuouki: Shinsengumi Kitan</td>\n",
       "      <td>PS3</td>\n",
       "      <td>&lt;NA&gt;</td>\n",
       "      <td>Adventure</td>\n",
       "      <td>0.01</td>\n",
       "      <td>0.00</td>\n",
       "      <td>0.00</td>\n",
       "      <td>0.00</td>\n",
       "      <td>NaN</td>\n",
       "      <td>NaN</td>\n",
       "      <td>NaN</td>\n",
       "    </tr>\n",
       "    <tr>\n",
       "      <th>16522</th>\n",
       "      <td>Virtua Quest</td>\n",
       "      <td>GC</td>\n",
       "      <td>&lt;NA&gt;</td>\n",
       "      <td>Role-Playing</td>\n",
       "      <td>0.01</td>\n",
       "      <td>0.00</td>\n",
       "      <td>0.00</td>\n",
       "      <td>0.00</td>\n",
       "      <td>55.0</td>\n",
       "      <td>5.5</td>\n",
       "      <td>T</td>\n",
       "    </tr>\n",
       "  </tbody>\n",
       "</table>\n",
       "<p>269 rows × 11 columns</p>\n",
       "</div>"
      ],
      "text/plain": [
       "                                    name platform  year_of_release  \\\n",
       "183                      Madden NFL 2004      PS2             <NA>   \n",
       "377                     FIFA Soccer 2004      PS2             <NA>   \n",
       "456           LEGO Batman: The Videogame      Wii             <NA>   \n",
       "475           wwe Smackdown vs. Raw 2006      PS2             <NA>   \n",
       "609                       Space Invaders     2600             <NA>   \n",
       "...                                  ...      ...              ...   \n",
       "16373  PDC World Championship Darts 2008      PSP             <NA>   \n",
       "16405                      Freaky Flyers       GC             <NA>   \n",
       "16448                          Inversion       PC             <NA>   \n",
       "16458        Hakuouki: Shinsengumi Kitan      PS3             <NA>   \n",
       "16522                       Virtua Quest       GC             <NA>   \n",
       "\n",
       "              genre  na_sales  eu_sales  jp_sales  other_sales  critic_score  \\\n",
       "183          Sports      4.26      0.26      0.01         0.71          94.0   \n",
       "377          Sports      0.59      2.36      0.04         0.51          84.0   \n",
       "456          Action      1.80      0.97      0.00         0.29          74.0   \n",
       "475        Fighting      1.57      1.02      0.00         0.41           NaN   \n",
       "609         Shooter      2.36      0.14      0.00         0.03           NaN   \n",
       "...             ...       ...       ...       ...          ...           ...   \n",
       "16373        Sports      0.01      0.00      0.00         0.00          43.0   \n",
       "16405        Racing      0.01      0.00      0.00         0.00          69.0   \n",
       "16448       Shooter      0.01      0.00      0.00         0.00          59.0   \n",
       "16458     Adventure      0.01      0.00      0.00         0.00           NaN   \n",
       "16522  Role-Playing      0.01      0.00      0.00         0.00          55.0   \n",
       "\n",
       "       user_score rating  \n",
       "183           8.5      E  \n",
       "377           6.4      E  \n",
       "456           7.9   E10+  \n",
       "475           NaN    NaN  \n",
       "609           NaN    NaN  \n",
       "...           ...    ...  \n",
       "16373         NaN   E10+  \n",
       "16405         6.5      T  \n",
       "16448         6.7      M  \n",
       "16458         NaN    NaN  \n",
       "16522         5.5      T  \n",
       "\n",
       "[269 rows x 11 columns]"
      ]
     },
     "execution_count": 19,
     "metadata": {},
     "output_type": "execute_result"
    }
   ],
   "source": [
    "#найдем пустые значения в столбце \n",
    "data[data['year_of_release'].isna()]"
   ]
  },
  {
   "cell_type": "markdown",
   "id": "d38ef976",
   "metadata": {},
   "source": [
    "Всего пропущенных значений `269`"
   ]
  },
  {
   "cell_type": "code",
   "execution_count": 20,
   "id": "a30745f2",
   "metadata": {},
   "outputs": [],
   "source": [
    "#удалим эти значения так как нецелосообразно будет заменять года выпуска,\n",
    "data = data.dropna(subset = ['year_of_release'])"
   ]
  },
  {
   "cell_type": "markdown",
   "id": "16273f64",
   "metadata": {},
   "source": [
    "В столбце year_of_release нашли 269 пропусков, было принято решение их удалить. Предположу, что пропуски это человеческий фактор."
   ]
  },
  {
   "cell_type": "markdown",
   "id": "96e4aefe",
   "metadata": {},
   "source": [
    "###  Столбец `genre`, найдем строки с пропусками и уникальными значениями."
   ]
  },
  {
   "cell_type": "code",
   "execution_count": 21,
   "id": "c9648e7d",
   "metadata": {},
   "outputs": [
    {
     "data": {
      "text/html": [
       "<div>\n",
       "<style scoped>\n",
       "    .dataframe tbody tr th:only-of-type {\n",
       "        vertical-align: middle;\n",
       "    }\n",
       "\n",
       "    .dataframe tbody tr th {\n",
       "        vertical-align: top;\n",
       "    }\n",
       "\n",
       "    .dataframe thead th {\n",
       "        text-align: right;\n",
       "    }\n",
       "</style>\n",
       "<table border=\"1\" class=\"dataframe\">\n",
       "  <thead>\n",
       "    <tr style=\"text-align: right;\">\n",
       "      <th></th>\n",
       "      <th>name</th>\n",
       "      <th>platform</th>\n",
       "      <th>year_of_release</th>\n",
       "      <th>genre</th>\n",
       "      <th>na_sales</th>\n",
       "      <th>eu_sales</th>\n",
       "      <th>jp_sales</th>\n",
       "      <th>other_sales</th>\n",
       "      <th>critic_score</th>\n",
       "      <th>user_score</th>\n",
       "      <th>rating</th>\n",
       "    </tr>\n",
       "  </thead>\n",
       "  <tbody>\n",
       "  </tbody>\n",
       "</table>\n",
       "</div>"
      ],
      "text/plain": [
       "Empty DataFrame\n",
       "Columns: [name, platform, year_of_release, genre, na_sales, eu_sales, jp_sales, other_sales, critic_score, user_score, rating]\n",
       "Index: []"
      ]
     },
     "execution_count": 21,
     "metadata": {},
     "output_type": "execute_result"
    }
   ],
   "source": [
    "#найдем пустые значения в столбце т.к. их всего 2, удалим \n",
    "data[data['genre'].isna()] #они удалились вместе с year_of_release"
   ]
  },
  {
   "cell_type": "markdown",
   "id": "226dc318",
   "metadata": {},
   "source": [
    "###  Столбец `user_score`, найдем строки с пропусками и уникальными значениями."
   ]
  },
  {
   "cell_type": "markdown",
   "id": "46e4d2a1",
   "metadata": {},
   "source": [
    "Ранее к уникальным значениям в столбце `user_score` относилось значение 'tbd', но мы его заменили на 'Nan' "
   ]
  },
  {
   "cell_type": "code",
   "execution_count": 22,
   "id": "656edd4b",
   "metadata": {},
   "outputs": [
    {
     "data": {
      "text/plain": [
       "8981"
      ]
     },
     "execution_count": 22,
     "metadata": {},
     "output_type": "execute_result"
    }
   ],
   "source": [
    "data['user_score'].isna().sum() #найдем количество пустых значений"
   ]
  },
  {
   "cell_type": "code",
   "execution_count": 23,
   "id": "d5fb7996",
   "metadata": {},
   "outputs": [],
   "source": [
    "#заменим пустые значения по столбцу genre на загушку\n",
    "data.loc[data['user_score'].isna(), 'user_score'] = -1"
   ]
  },
  {
   "cell_type": "code",
   "execution_count": 24,
   "id": "258449bf",
   "metadata": {},
   "outputs": [
    {
     "data": {
      "text/plain": [
       "0"
      ]
     },
     "execution_count": 24,
     "metadata": {},
     "output_type": "execute_result"
    }
   ],
   "source": [
    "data['user_score'].isna().sum() #проверим"
   ]
  },
  {
   "cell_type": "markdown",
   "id": "61bb7992",
   "metadata": {},
   "source": [
    "В связи с большим количеством пропусков `user_score - 40.1%` было принято решение заменить все пропуски на -1."
   ]
  },
  {
   "cell_type": "markdown",
   "id": "58223b72",
   "metadata": {},
   "source": [
    "### Столбец `critic_score`, найдем строки с пропусками и уникальными значениями."
   ]
  },
  {
   "cell_type": "markdown",
   "id": "ed1cc6a0",
   "metadata": {},
   "source": [
    "Ранее в столбце `critic_score` пустые значения были заменены на 0(так как уникальных значений со значением 0 в столбце `critic_score` не было выявлено), для возможности изменения типа столбца, заменим 0 на заглушку -1."
   ]
  },
  {
   "cell_type": "code",
   "execution_count": 25,
   "id": "c5a770ad",
   "metadata": {},
   "outputs": [],
   "source": [
    "#заменим пустые значения на -1\n",
    "data.loc[data['critic_score'].isna(), 'critic_score'] = -1\n"
   ]
  },
  {
   "cell_type": "code",
   "execution_count": 26,
   "id": "1896135c",
   "metadata": {},
   "outputs": [
    {
     "data": {
      "text/html": [
       "<div>\n",
       "<style scoped>\n",
       "    .dataframe tbody tr th:only-of-type {\n",
       "        vertical-align: middle;\n",
       "    }\n",
       "\n",
       "    .dataframe tbody tr th {\n",
       "        vertical-align: top;\n",
       "    }\n",
       "\n",
       "    .dataframe thead th {\n",
       "        text-align: right;\n",
       "    }\n",
       "</style>\n",
       "<table border=\"1\" class=\"dataframe\">\n",
       "  <thead>\n",
       "    <tr style=\"text-align: right;\">\n",
       "      <th></th>\n",
       "      <th>name</th>\n",
       "      <th>platform</th>\n",
       "      <th>year_of_release</th>\n",
       "      <th>genre</th>\n",
       "      <th>na_sales</th>\n",
       "      <th>eu_sales</th>\n",
       "      <th>jp_sales</th>\n",
       "      <th>other_sales</th>\n",
       "      <th>critic_score</th>\n",
       "      <th>user_score</th>\n",
       "      <th>rating</th>\n",
       "    </tr>\n",
       "  </thead>\n",
       "  <tbody>\n",
       "  </tbody>\n",
       "</table>\n",
       "</div>"
      ],
      "text/plain": [
       "Empty DataFrame\n",
       "Columns: [name, platform, year_of_release, genre, na_sales, eu_sales, jp_sales, other_sales, critic_score, user_score, rating]\n",
       "Index: []"
      ]
     },
     "execution_count": 26,
     "metadata": {},
     "output_type": "execute_result"
    }
   ],
   "source": [
    "data[data['critic_score'].isna()] #проверим"
   ]
  },
  {
   "cell_type": "markdown",
   "id": "6f97db52",
   "metadata": {},
   "source": [
    "<a id='intro'></a> Здесь мы меняем тип данных столбца `critic_score` на Int."
   ]
  },
  {
   "cell_type": "code",
   "execution_count": 27,
   "id": "2225612b",
   "metadata": {
    "scrolled": true
   },
   "outputs": [],
   "source": [
    "data = data.astype({'critic_score': np.int64}) "
   ]
  },
  {
   "cell_type": "code",
   "execution_count": 28,
   "id": "0e768fab",
   "metadata": {
    "scrolled": true
   },
   "outputs": [
    {
     "name": "stdout",
     "output_type": "stream",
     "text": [
      "<class 'pandas.core.frame.DataFrame'>\n",
      "Int64Index: 16444 entries, 0 to 16714\n",
      "Data columns (total 11 columns):\n",
      " #   Column           Non-Null Count  Dtype  \n",
      "---  ------           --------------  -----  \n",
      " 0   name             16444 non-null  object \n",
      " 1   platform         16444 non-null  object \n",
      " 2   year_of_release  16444 non-null  Int64  \n",
      " 3   genre            16444 non-null  object \n",
      " 4   na_sales         16444 non-null  float64\n",
      " 5   eu_sales         16444 non-null  float64\n",
      " 6   jp_sales         16444 non-null  float64\n",
      " 7   other_sales      16444 non-null  float64\n",
      " 8   critic_score     16444 non-null  int64  \n",
      " 9   user_score       16444 non-null  float64\n",
      " 10  rating           9768 non-null   object \n",
      "dtypes: Int64(1), float64(5), int64(1), object(4)\n",
      "memory usage: 1.5+ MB\n"
     ]
    }
   ],
   "source": [
    "data.info() #проверим"
   ]
  },
  {
   "cell_type": "markdown",
   "id": "d03df548",
   "metadata": {},
   "source": [
    "Итак, что бы не потерять данные мы закрыли `51%` пропусков заглушками."
   ]
  },
  {
   "cell_type": "markdown",
   "id": "cadc10ca",
   "metadata": {},
   "source": [
    "### Столбец `rating`, найдем строки с пропусками и уникальными значениями."
   ]
  },
  {
   "cell_type": "markdown",
   "id": "f6a5a6c5",
   "metadata": {},
   "source": [
    "В столбце `rating` мы имеем 40% пропусков, удалять такой большой массив данных неразумно , на мой взгляд, поэтому переведем пустые значения в 'no name'"
   ]
  },
  {
   "cell_type": "code",
   "execution_count": 29,
   "id": "6e4abb45",
   "metadata": {},
   "outputs": [],
   "source": [
    "data.loc[data['rating'].isna(), 'rating'] = 'no name'"
   ]
  },
  {
   "cell_type": "code",
   "execution_count": 30,
   "id": "73b36c72",
   "metadata": {},
   "outputs": [
    {
     "data": {
      "text/html": [
       "<div>\n",
       "<style scoped>\n",
       "    .dataframe tbody tr th:only-of-type {\n",
       "        vertical-align: middle;\n",
       "    }\n",
       "\n",
       "    .dataframe tbody tr th {\n",
       "        vertical-align: top;\n",
       "    }\n",
       "\n",
       "    .dataframe thead th {\n",
       "        text-align: right;\n",
       "    }\n",
       "</style>\n",
       "<table border=\"1\" class=\"dataframe\">\n",
       "  <thead>\n",
       "    <tr style=\"text-align: right;\">\n",
       "      <th></th>\n",
       "      <th>name</th>\n",
       "      <th>platform</th>\n",
       "      <th>year_of_release</th>\n",
       "      <th>genre</th>\n",
       "      <th>na_sales</th>\n",
       "      <th>eu_sales</th>\n",
       "      <th>jp_sales</th>\n",
       "      <th>other_sales</th>\n",
       "      <th>critic_score</th>\n",
       "      <th>user_score</th>\n",
       "      <th>rating</th>\n",
       "    </tr>\n",
       "  </thead>\n",
       "  <tbody>\n",
       "    <tr>\n",
       "      <th>1</th>\n",
       "      <td>Super Mario Bros.</td>\n",
       "      <td>NES</td>\n",
       "      <td>1985</td>\n",
       "      <td>Platform</td>\n",
       "      <td>29.08</td>\n",
       "      <td>3.58</td>\n",
       "      <td>6.81</td>\n",
       "      <td>0.77</td>\n",
       "      <td>-1</td>\n",
       "      <td>-1.0</td>\n",
       "      <td>no name</td>\n",
       "    </tr>\n",
       "    <tr>\n",
       "      <th>4</th>\n",
       "      <td>Pokemon Red/Pokemon Blue</td>\n",
       "      <td>GB</td>\n",
       "      <td>1996</td>\n",
       "      <td>Role-Playing</td>\n",
       "      <td>11.27</td>\n",
       "      <td>8.89</td>\n",
       "      <td>10.22</td>\n",
       "      <td>1.00</td>\n",
       "      <td>-1</td>\n",
       "      <td>-1.0</td>\n",
       "      <td>no name</td>\n",
       "    </tr>\n",
       "    <tr>\n",
       "      <th>5</th>\n",
       "      <td>Tetris</td>\n",
       "      <td>GB</td>\n",
       "      <td>1989</td>\n",
       "      <td>Puzzle</td>\n",
       "      <td>23.20</td>\n",
       "      <td>2.26</td>\n",
       "      <td>4.22</td>\n",
       "      <td>0.58</td>\n",
       "      <td>-1</td>\n",
       "      <td>-1.0</td>\n",
       "      <td>no name</td>\n",
       "    </tr>\n",
       "    <tr>\n",
       "      <th>9</th>\n",
       "      <td>Duck Hunt</td>\n",
       "      <td>NES</td>\n",
       "      <td>1984</td>\n",
       "      <td>Shooter</td>\n",
       "      <td>26.93</td>\n",
       "      <td>0.63</td>\n",
       "      <td>0.28</td>\n",
       "      <td>0.47</td>\n",
       "      <td>-1</td>\n",
       "      <td>-1.0</td>\n",
       "      <td>no name</td>\n",
       "    </tr>\n",
       "    <tr>\n",
       "      <th>10</th>\n",
       "      <td>Nintendogs</td>\n",
       "      <td>DS</td>\n",
       "      <td>2005</td>\n",
       "      <td>Simulation</td>\n",
       "      <td>9.05</td>\n",
       "      <td>10.95</td>\n",
       "      <td>1.93</td>\n",
       "      <td>2.74</td>\n",
       "      <td>-1</td>\n",
       "      <td>-1.0</td>\n",
       "      <td>no name</td>\n",
       "    </tr>\n",
       "    <tr>\n",
       "      <th>...</th>\n",
       "      <td>...</td>\n",
       "      <td>...</td>\n",
       "      <td>...</td>\n",
       "      <td>...</td>\n",
       "      <td>...</td>\n",
       "      <td>...</td>\n",
       "      <td>...</td>\n",
       "      <td>...</td>\n",
       "      <td>...</td>\n",
       "      <td>...</td>\n",
       "      <td>...</td>\n",
       "    </tr>\n",
       "    <tr>\n",
       "      <th>16710</th>\n",
       "      <td>Samurai Warriors: Sanada Maru</td>\n",
       "      <td>PS3</td>\n",
       "      <td>2016</td>\n",
       "      <td>Action</td>\n",
       "      <td>0.00</td>\n",
       "      <td>0.00</td>\n",
       "      <td>0.01</td>\n",
       "      <td>0.00</td>\n",
       "      <td>-1</td>\n",
       "      <td>-1.0</td>\n",
       "      <td>no name</td>\n",
       "    </tr>\n",
       "    <tr>\n",
       "      <th>16711</th>\n",
       "      <td>LMA Manager 2007</td>\n",
       "      <td>X360</td>\n",
       "      <td>2006</td>\n",
       "      <td>Sports</td>\n",
       "      <td>0.00</td>\n",
       "      <td>0.01</td>\n",
       "      <td>0.00</td>\n",
       "      <td>0.00</td>\n",
       "      <td>-1</td>\n",
       "      <td>-1.0</td>\n",
       "      <td>no name</td>\n",
       "    </tr>\n",
       "    <tr>\n",
       "      <th>16712</th>\n",
       "      <td>Haitaka no Psychedelica</td>\n",
       "      <td>PSV</td>\n",
       "      <td>2016</td>\n",
       "      <td>Adventure</td>\n",
       "      <td>0.00</td>\n",
       "      <td>0.00</td>\n",
       "      <td>0.01</td>\n",
       "      <td>0.00</td>\n",
       "      <td>-1</td>\n",
       "      <td>-1.0</td>\n",
       "      <td>no name</td>\n",
       "    </tr>\n",
       "    <tr>\n",
       "      <th>16713</th>\n",
       "      <td>Spirits &amp; Spells</td>\n",
       "      <td>GBA</td>\n",
       "      <td>2003</td>\n",
       "      <td>Platform</td>\n",
       "      <td>0.01</td>\n",
       "      <td>0.00</td>\n",
       "      <td>0.00</td>\n",
       "      <td>0.00</td>\n",
       "      <td>-1</td>\n",
       "      <td>-1.0</td>\n",
       "      <td>no name</td>\n",
       "    </tr>\n",
       "    <tr>\n",
       "      <th>16714</th>\n",
       "      <td>Winning Post 8 2016</td>\n",
       "      <td>PSV</td>\n",
       "      <td>2016</td>\n",
       "      <td>Simulation</td>\n",
       "      <td>0.00</td>\n",
       "      <td>0.00</td>\n",
       "      <td>0.01</td>\n",
       "      <td>0.00</td>\n",
       "      <td>-1</td>\n",
       "      <td>-1.0</td>\n",
       "      <td>no name</td>\n",
       "    </tr>\n",
       "  </tbody>\n",
       "</table>\n",
       "<p>6676 rows × 11 columns</p>\n",
       "</div>"
      ],
      "text/plain": [
       "                                name platform  year_of_release         genre  \\\n",
       "1                  Super Mario Bros.      NES             1985      Platform   \n",
       "4           Pokemon Red/Pokemon Blue       GB             1996  Role-Playing   \n",
       "5                             Tetris       GB             1989        Puzzle   \n",
       "9                          Duck Hunt      NES             1984       Shooter   \n",
       "10                        Nintendogs       DS             2005    Simulation   \n",
       "...                              ...      ...              ...           ...   \n",
       "16710  Samurai Warriors: Sanada Maru      PS3             2016        Action   \n",
       "16711               LMA Manager 2007     X360             2006        Sports   \n",
       "16712        Haitaka no Psychedelica      PSV             2016     Adventure   \n",
       "16713               Spirits & Spells      GBA             2003      Platform   \n",
       "16714            Winning Post 8 2016      PSV             2016    Simulation   \n",
       "\n",
       "       na_sales  eu_sales  jp_sales  other_sales  critic_score  user_score  \\\n",
       "1         29.08      3.58      6.81         0.77            -1        -1.0   \n",
       "4         11.27      8.89     10.22         1.00            -1        -1.0   \n",
       "5         23.20      2.26      4.22         0.58            -1        -1.0   \n",
       "9         26.93      0.63      0.28         0.47            -1        -1.0   \n",
       "10         9.05     10.95      1.93         2.74            -1        -1.0   \n",
       "...         ...       ...       ...          ...           ...         ...   \n",
       "16710      0.00      0.00      0.01         0.00            -1        -1.0   \n",
       "16711      0.00      0.01      0.00         0.00            -1        -1.0   \n",
       "16712      0.00      0.00      0.01         0.00            -1        -1.0   \n",
       "16713      0.01      0.00      0.00         0.00            -1        -1.0   \n",
       "16714      0.00      0.00      0.01         0.00            -1        -1.0   \n",
       "\n",
       "        rating  \n",
       "1      no name  \n",
       "4      no name  \n",
       "5      no name  \n",
       "9      no name  \n",
       "10     no name  \n",
       "...        ...  \n",
       "16710  no name  \n",
       "16711  no name  \n",
       "16712  no name  \n",
       "16713  no name  \n",
       "16714  no name  \n",
       "\n",
       "[6676 rows x 11 columns]"
      ]
     },
     "execution_count": 30,
     "metadata": {},
     "output_type": "execute_result"
    }
   ],
   "source": [
    "data[data['rating'] == 'no name'] "
   ]
  },
  {
   "cell_type": "markdown",
   "id": "ca2b795c",
   "metadata": {},
   "source": [
    "Все пустые значения в столбце `rating` мы заменили на `no name`, потому что терять более 40% данных не очень разумно , на мой взгляд."
   ]
  },
  {
   "cell_type": "markdown",
   "id": "ae5b21ca",
   "metadata": {},
   "source": [
    "### Посчитаем суммарные продажи во всех регионах и запишем их в отдельный столбец."
   ]
  },
  {
   "cell_type": "code",
   "execution_count": 31,
   "id": "00b8d880",
   "metadata": {},
   "outputs": [],
   "source": [
    "#создадим новый столбец с суммой (na_sales + eu_sales ...) по регонам\n",
    "data.insert(loc=8, column='amount_region', value=data[['na_sales','eu_sales','jp_sales','other_sales']].sum(axis=1))"
   ]
  },
  {
   "cell_type": "code",
   "execution_count": 32,
   "id": "a8e7c047",
   "metadata": {},
   "outputs": [
    {
     "data": {
      "text/html": [
       "<div>\n",
       "<style scoped>\n",
       "    .dataframe tbody tr th:only-of-type {\n",
       "        vertical-align: middle;\n",
       "    }\n",
       "\n",
       "    .dataframe tbody tr th {\n",
       "        vertical-align: top;\n",
       "    }\n",
       "\n",
       "    .dataframe thead th {\n",
       "        text-align: right;\n",
       "    }\n",
       "</style>\n",
       "<table border=\"1\" class=\"dataframe\">\n",
       "  <thead>\n",
       "    <tr style=\"text-align: right;\">\n",
       "      <th></th>\n",
       "      <th>name</th>\n",
       "      <th>platform</th>\n",
       "      <th>year_of_release</th>\n",
       "      <th>genre</th>\n",
       "      <th>na_sales</th>\n",
       "      <th>eu_sales</th>\n",
       "      <th>jp_sales</th>\n",
       "      <th>other_sales</th>\n",
       "      <th>amount_region</th>\n",
       "      <th>critic_score</th>\n",
       "      <th>user_score</th>\n",
       "      <th>rating</th>\n",
       "    </tr>\n",
       "  </thead>\n",
       "  <tbody>\n",
       "    <tr>\n",
       "      <th>0</th>\n",
       "      <td>Wii Sports</td>\n",
       "      <td>Wii</td>\n",
       "      <td>2006</td>\n",
       "      <td>Sports</td>\n",
       "      <td>41.36</td>\n",
       "      <td>28.96</td>\n",
       "      <td>3.77</td>\n",
       "      <td>8.45</td>\n",
       "      <td>82.54</td>\n",
       "      <td>76</td>\n",
       "      <td>8.0</td>\n",
       "      <td>E</td>\n",
       "    </tr>\n",
       "    <tr>\n",
       "      <th>1</th>\n",
       "      <td>Super Mario Bros.</td>\n",
       "      <td>NES</td>\n",
       "      <td>1985</td>\n",
       "      <td>Platform</td>\n",
       "      <td>29.08</td>\n",
       "      <td>3.58</td>\n",
       "      <td>6.81</td>\n",
       "      <td>0.77</td>\n",
       "      <td>40.24</td>\n",
       "      <td>-1</td>\n",
       "      <td>-1.0</td>\n",
       "      <td>no name</td>\n",
       "    </tr>\n",
       "    <tr>\n",
       "      <th>2</th>\n",
       "      <td>Mario Kart Wii</td>\n",
       "      <td>Wii</td>\n",
       "      <td>2008</td>\n",
       "      <td>Racing</td>\n",
       "      <td>15.68</td>\n",
       "      <td>12.76</td>\n",
       "      <td>3.79</td>\n",
       "      <td>3.29</td>\n",
       "      <td>35.52</td>\n",
       "      <td>82</td>\n",
       "      <td>8.3</td>\n",
       "      <td>E</td>\n",
       "    </tr>\n",
       "    <tr>\n",
       "      <th>3</th>\n",
       "      <td>Wii Sports Resort</td>\n",
       "      <td>Wii</td>\n",
       "      <td>2009</td>\n",
       "      <td>Sports</td>\n",
       "      <td>15.61</td>\n",
       "      <td>10.93</td>\n",
       "      <td>3.28</td>\n",
       "      <td>2.95</td>\n",
       "      <td>32.77</td>\n",
       "      <td>80</td>\n",
       "      <td>8.0</td>\n",
       "      <td>E</td>\n",
       "    </tr>\n",
       "    <tr>\n",
       "      <th>4</th>\n",
       "      <td>Pokemon Red/Pokemon Blue</td>\n",
       "      <td>GB</td>\n",
       "      <td>1996</td>\n",
       "      <td>Role-Playing</td>\n",
       "      <td>11.27</td>\n",
       "      <td>8.89</td>\n",
       "      <td>10.22</td>\n",
       "      <td>1.00</td>\n",
       "      <td>31.38</td>\n",
       "      <td>-1</td>\n",
       "      <td>-1.0</td>\n",
       "      <td>no name</td>\n",
       "    </tr>\n",
       "  </tbody>\n",
       "</table>\n",
       "</div>"
      ],
      "text/plain": [
       "                       name platform  year_of_release         genre  na_sales  \\\n",
       "0                Wii Sports      Wii             2006        Sports     41.36   \n",
       "1         Super Mario Bros.      NES             1985      Platform     29.08   \n",
       "2            Mario Kart Wii      Wii             2008        Racing     15.68   \n",
       "3         Wii Sports Resort      Wii             2009        Sports     15.61   \n",
       "4  Pokemon Red/Pokemon Blue       GB             1996  Role-Playing     11.27   \n",
       "\n",
       "   eu_sales  jp_sales  other_sales  amount_region  critic_score  user_score  \\\n",
       "0     28.96      3.77         8.45          82.54            76         8.0   \n",
       "1      3.58      6.81         0.77          40.24            -1        -1.0   \n",
       "2     12.76      3.79         3.29          35.52            82         8.3   \n",
       "3     10.93      3.28         2.95          32.77            80         8.0   \n",
       "4      8.89     10.22         1.00          31.38            -1        -1.0   \n",
       "\n",
       "    rating  \n",
       "0        E  \n",
       "1  no name  \n",
       "2        E  \n",
       "3        E  \n",
       "4  no name  "
      ]
     },
     "execution_count": 32,
     "metadata": {},
     "output_type": "execute_result"
    }
   ],
   "source": [
    "#проверим\n",
    "data.head()"
   ]
  },
  {
   "cell_type": "markdown",
   "id": "8ca95228",
   "metadata": {},
   "source": [
    "**Вывод:** \n",
    "\n",
    "*Самое первое, что мы сделали - привели названия столбцов к нижнему регистру, захватили сразу все стоблцы.*\n",
    "\n",
    "*Следующим шагом было изменение типов столбцов, изменению подверглись:*\n",
    "- user_score - перевели из object в float (сразу перевели значения TBD в Nan)\n",
    "- critic_score - перевели из float в int.\n",
    "- year_of_release - поменяли тип на int.\n",
    "\n",
    "*Третим этапом обработали пропуски, посмотрели явные и неявные дубликаты, таковых обнаружено не было. \n",
    "Прпуски были заменены:*\n",
    "- name, genre, year_of_release - сумарное количество удаленных строк с пропусками менее 2% - 273 строки, принятие решение,\n",
    "- user_score, critic_score - пропуски в этих столбцах мы заменили на заглушку -1,\n",
    "- rating - заменили пустые значения на \"no name\".\n",
    "\n",
    "*Четвертым шагом было добавление нового столбца \"amount_region\" суммарные продажи во всех регионах.*"
   ]
  },
  {
   "cell_type": "markdown",
   "id": "7344ec44",
   "metadata": {},
   "source": [
    "---"
   ]
  },
  {
   "cell_type": "markdown",
   "id": "a2251fe9",
   "metadata": {},
   "source": [
    "# Шаг 3. Исследовательский анализ данных."
   ]
  },
  {
   "cell_type": "markdown",
   "id": "15ec9910",
   "metadata": {},
   "source": [
    "## Посмотрим, сколько игр выпускалось в разные годы."
   ]
  },
  {
   "cell_type": "code",
   "execution_count": 69,
   "id": "fe7efb79",
   "metadata": {},
   "outputs": [
    {
     "data": {
      "image/png": "[encoded data removed]",
      "text/plain": [
       "<Figure size 432x288 with 1 Axes>"
      ]
     },
     "metadata": {
      "needs_background": "light"
     },
     "output_type": "display_data"
    }
   ],
   "source": [
    "#построим таблицу и график\n",
    "data.pivot_table(index = 'year_of_release', values = 'name', aggfunc = 'count')\\\n",
    ".plot(kind = 'bar',grid = True).set_title('Распределение игр по годам');\n",
    "\n",
    "plt.xlabel('Год выпуска')\n",
    "plt.ylabel('Количество игр')\n",
    "plt.show()"
   ]
  },
  {
   "cell_type": "code",
   "execution_count": 72,
   "id": "6d4c6f15",
   "metadata": {
    "scrolled": true
   },
   "outputs": [
    {
     "data": {
      "image/png": "[encoded data removed]",
      "text/plain": [
       "<Figure size 432x288 with 1 Axes>"
      ]
     },
     "metadata": {
      "needs_background": "light"
     },
     "output_type": "display_data"
    }
   ],
   "source": [
    "#посмотрим более точные результаты (сгруппируем значения по названию игр)\n",
    "count_by_year = data.groupby(by = ['name']).agg({'platform': 'first', 'genre': 'first','amount_region': 'first','year_of_release': 'first'})\\\n",
    ".reset_index()\n",
    "\n",
    "count_by_year.pivot_table(index = 'year_of_release', values = 'name', aggfunc = 'count')\\\n",
    ".plot(kind = 'bar',grid = True).set_title('Распределение игр по годам')\n",
    "\n",
    "plt.xlabel('Год выпуска')\n",
    "plt.ylabel('Количество игр')\n",
    "plt.show()"
   ]
  },
  {
   "cell_type": "markdown",
   "id": "cfd9b9a4",
   "metadata": {},
   "source": [
    "По графику видно, до 2000 года игр выпускалось мало до 400 шт. в год. Расцвет игровой индустрии пришелся на 2008 (987) и 2009 (957) выпускалось более 1400 шт. в год."
   ]
  },
  {
   "cell_type": "markdown",
   "id": "1fb9792e",
   "metadata": {},
   "source": [
    "## Посмотрим, как менялись продажи по платформам."
   ]
  },
  {
   "cell_type": "code",
   "execution_count": 73,
   "id": "db70ed55",
   "metadata": {
    "scrolled": true
   },
   "outputs": [
    {
     "data": {
      "image/png": "[encoded data removed]",
      "text/plain": [
       "<Figure size 432x288 with 1 Axes>"
      ]
     },
     "metadata": {
      "needs_background": "light"
     },
     "output_type": "display_data"
    }
   ],
   "source": [
    "#построим таблицу и график\n",
    "data.pivot_table(index = 'platform', values = 'amount_region', aggfunc = 'sum')\\\n",
    ".sort_values(by = 'amount_region', ascending = False)\\\n",
    ".plot(kind = 'bar',grid = True).set_title('Продажи по платформам');\n",
    "\n",
    "plt.xlabel('Наименование платформ')\n",
    "plt.ylabel('Суммарные продажи')\n",
    "plt.show()"
   ]
  },
  {
   "cell_type": "markdown",
   "id": "5276a3e0",
   "metadata": {},
   "source": [
    "Ведущей платформой по продажам игр является PS2 более 1200 млн. После идет x360, wii, ps3 - больше 800 продаж. Менее популярные платформы WS, TG16, PCFX, SCD, NG, GG, 3DO."
   ]
  },
  {
   "cell_type": "markdown",
   "id": "2d09325c",
   "metadata": {},
   "source": [
    "## Выберем платформы с наибольшими суммарными продажами и постройте распределение по годам."
   ]
  },
  {
   "cell_type": "code",
   "execution_count": 76,
   "id": "3d09473f",
   "metadata": {},
   "outputs": [
    {
     "data": {
      "image/png": "[encoded data removed]",
      "text/plain": [
       "<Figure size 432x288 with 1 Axes>"
      ]
     },
     "metadata": {
      "needs_background": "light"
     },
     "output_type": "display_data"
    }
   ],
   "source": [
    "#сделали срез по платформам\n",
    "top_platfom = data.query('platform == \"PS2\" or platform == \"X360\" or platform == \"Wii\" or platform == \"PS3\"') \n",
    "#построим график по сумарной прибыли платформ\n",
    "top_platfom = top_platfom.pivot_table(index = 'year_of_release', columns = 'platform', values = 'amount_region', aggfunc = 'sum')\\\n",
    ".plot(kind = 'bar',grid = True).set_title('Продажи по платформам');\n",
    "plt.xlabel('Год выпуска')\n",
    "plt.ylabel('Количество игр')\n",
    "plt.show()"
   ]
  },
  {
   "cell_type": "markdown",
   "id": "223a8491",
   "metadata": {},
   "source": [
    "Самая старшая из игровых платформ - PS2 с 2000 по 2005 игры продавали только на нее. В 2005 впервые появился конкурент X360, в 2006 на рынок вышли топ 4 игровых игровых платформ. И первые 4 года с 2006 по 2010 новая платформа Wii была в топе по продажам. После взлета Wii в 2010г борьбу начали PS3 и X360. По Графику можно судить, в среднем цикл жизни игровой платформы от 10-11 лет."
   ]
  },
  {
   "cell_type": "markdown",
   "id": "3b398272",
   "metadata": {},
   "source": [
    "## Возьмем данные за актуальный период (актуальным период с 2013 по 2016) "
   ]
  },
  {
   "cell_type": "code",
   "execution_count": 37,
   "id": "72f03b3e",
   "metadata": {},
   "outputs": [
    {
     "data": {
      "text/html": [
       "<div>\n",
       "<style scoped>\n",
       "    .dataframe tbody tr th:only-of-type {\n",
       "        vertical-align: middle;\n",
       "    }\n",
       "\n",
       "    .dataframe tbody tr th {\n",
       "        vertical-align: top;\n",
       "    }\n",
       "\n",
       "    .dataframe thead th {\n",
       "        text-align: right;\n",
       "    }\n",
       "</style>\n",
       "<table border=\"1\" class=\"dataframe\">\n",
       "  <thead>\n",
       "    <tr style=\"text-align: right;\">\n",
       "      <th></th>\n",
       "      <th>name</th>\n",
       "      <th>platform</th>\n",
       "      <th>year_of_release</th>\n",
       "      <th>genre</th>\n",
       "      <th>na_sales</th>\n",
       "      <th>eu_sales</th>\n",
       "      <th>jp_sales</th>\n",
       "      <th>other_sales</th>\n",
       "      <th>amount_region</th>\n",
       "      <th>critic_score</th>\n",
       "      <th>user_score</th>\n",
       "      <th>rating</th>\n",
       "    </tr>\n",
       "  </thead>\n",
       "  <tbody>\n",
       "    <tr>\n",
       "      <th>31</th>\n",
       "      <td>Call of Duty: Black Ops 3</td>\n",
       "      <td>PS4</td>\n",
       "      <td>2015</td>\n",
       "      <td>Shooter</td>\n",
       "      <td>6.03</td>\n",
       "      <td>5.86</td>\n",
       "      <td>0.36</td>\n",
       "      <td>2.38</td>\n",
       "      <td>14.63</td>\n",
       "      <td>-1</td>\n",
       "      <td>-1.0</td>\n",
       "      <td>no name</td>\n",
       "    </tr>\n",
       "    <tr>\n",
       "      <th>77</th>\n",
       "      <td>FIFA 16</td>\n",
       "      <td>PS4</td>\n",
       "      <td>2015</td>\n",
       "      <td>Sports</td>\n",
       "      <td>1.12</td>\n",
       "      <td>6.12</td>\n",
       "      <td>0.06</td>\n",
       "      <td>1.28</td>\n",
       "      <td>8.58</td>\n",
       "      <td>82</td>\n",
       "      <td>4.3</td>\n",
       "      <td>E</td>\n",
       "    </tr>\n",
       "    <tr>\n",
       "      <th>87</th>\n",
       "      <td>Star Wars Battlefront (2015)</td>\n",
       "      <td>PS4</td>\n",
       "      <td>2015</td>\n",
       "      <td>Shooter</td>\n",
       "      <td>2.99</td>\n",
       "      <td>3.49</td>\n",
       "      <td>0.22</td>\n",
       "      <td>1.28</td>\n",
       "      <td>7.98</td>\n",
       "      <td>-1</td>\n",
       "      <td>-1.0</td>\n",
       "      <td>no name</td>\n",
       "    </tr>\n",
       "    <tr>\n",
       "      <th>94</th>\n",
       "      <td>FIFA 17</td>\n",
       "      <td>PS4</td>\n",
       "      <td>2016</td>\n",
       "      <td>Sports</td>\n",
       "      <td>0.66</td>\n",
       "      <td>5.75</td>\n",
       "      <td>0.08</td>\n",
       "      <td>1.11</td>\n",
       "      <td>7.60</td>\n",
       "      <td>85</td>\n",
       "      <td>5.0</td>\n",
       "      <td>E</td>\n",
       "    </tr>\n",
       "    <tr>\n",
       "      <th>99</th>\n",
       "      <td>Call of Duty: Black Ops 3</td>\n",
       "      <td>XOne</td>\n",
       "      <td>2015</td>\n",
       "      <td>Shooter</td>\n",
       "      <td>4.59</td>\n",
       "      <td>2.11</td>\n",
       "      <td>0.01</td>\n",
       "      <td>0.68</td>\n",
       "      <td>7.39</td>\n",
       "      <td>-1</td>\n",
       "      <td>-1.0</td>\n",
       "      <td>no name</td>\n",
       "    </tr>\n",
       "  </tbody>\n",
       "</table>\n",
       "</div>"
      ],
      "text/plain": [
       "                            name platform  year_of_release    genre  na_sales  \\\n",
       "31     Call of Duty: Black Ops 3      PS4             2015  Shooter      6.03   \n",
       "77                       FIFA 16      PS4             2015   Sports      1.12   \n",
       "87  Star Wars Battlefront (2015)      PS4             2015  Shooter      2.99   \n",
       "94                       FIFA 17      PS4             2016   Sports      0.66   \n",
       "99     Call of Duty: Black Ops 3     XOne             2015  Shooter      4.59   \n",
       "\n",
       "    eu_sales  jp_sales  other_sales  amount_region  critic_score  user_score  \\\n",
       "31      5.86      0.36         2.38          14.63            -1        -1.0   \n",
       "77      6.12      0.06         1.28           8.58            82         4.3   \n",
       "87      3.49      0.22         1.28           7.98            -1        -1.0   \n",
       "94      5.75      0.08         1.11           7.60            85         5.0   \n",
       "99      2.11      0.01         0.68           7.39            -1        -1.0   \n",
       "\n",
       "     rating  \n",
       "31  no name  \n",
       "77        E  \n",
       "87  no name  \n",
       "94        E  \n",
       "99  no name  "
      ]
     },
     "execution_count": 37,
     "metadata": {},
     "output_type": "execute_result"
    }
   ],
   "source": [
    "#сделаем срез в новой переменной\n",
    "data_actual = data.loc[(data['year_of_release'] > 2014) & (data['year_of_release'] <= 2016)]\n",
    "data_actual.head() #проверим"
   ]
  },
  {
   "cell_type": "markdown",
   "id": "d06323f4",
   "metadata": {},
   "source": [
    "## Определим платформы, которые лидируют по продажам, растут или падают? И отметим потенциально прибыльные из них."
   ]
  },
  {
   "cell_type": "code",
   "execution_count": 38,
   "id": "110b5925",
   "metadata": {},
   "outputs": [
    {
     "data": {
      "image/png": "[encoded data removed]",
      "text/plain": [
       "<Figure size 432x288 with 1 Axes>"
      ]
     },
     "metadata": {
      "needs_background": "light"
     },
     "output_type": "display_data"
    }
   ],
   "source": [
    "#создадим датафрейм и сгруппируем его по платформам\n",
    "data_actual.pivot_table(index = 'platform', values = 'amount_region', aggfunc = 'sum')\\\n",
    ".sort_values(by = 'amount_region', ascending = False)\\\n",
    ".plot(kind = 'bar',grid = True).set_title('Продажи по платформам');\n",
    "plt.xlabel('Платформы')\n",
    "plt.ylabel('Количество проданных игр млн.шт')\n",
    "plt.show()"
   ]
  },
  {
   "cell_type": "markdown",
   "id": "3cfe22ed",
   "metadata": {},
   "source": [
    "Из актуального периода можно определить, что топ по количеству проданных игр занимает 3 платформы PS4 (188 млн. покупок), XOne (86 млн. покупок) и 3DS (42 млн. покупок) . PS3 теряет свою некогда приобретенную славу, в связи с выходом новой платформы, которая заняла ее место. Так же и Wii уступает свое место новой версии 3DS."
   ]
  },
  {
   "cell_type": "markdown",
   "id": "3c8a86dc",
   "metadata": {},
   "source": [
    "По графику можно увидеть, что платформы PS4/XOne/3DS и WiiU показывают рост по нормативам продаж в актуальный период относительно остальных платформ."
   ]
  },
  {
   "cell_type": "code",
   "execution_count": 39,
   "id": "4c00fcfd",
   "metadata": {},
   "outputs": [
    {
     "data": {
      "image/png": "[encoded data removed]",
      "text/plain": [
       "<Figure size 1080x576 with 1 Axes>"
      ]
     },
     "metadata": {
      "needs_background": "light"
     },
     "output_type": "display_data"
    }
   ],
   "source": [
    "#сгруппируем датафейм по годам для просмотра платформ, которые лидируют по продажам, растут или падают\n",
    "data_actual.pivot_table(index = 'year_of_release', columns = 'platform', values = 'amount_region', aggfunc = 'sum')\\\n",
    ".plot(title = 'A', figsize=(15,8), grid = True);"
   ]
  },
  {
   "cell_type": "markdown",
   "id": "99d7b070",
   "metadata": {},
   "source": [
    "**Вывод:** \n",
    "\n",
    "По графику мы можем наблюдать о спаде продаж за год почти у всех платформ."
   ]
  },
  {
   "cell_type": "markdown",
   "id": "31be542c",
   "metadata": {},
   "source": [
    "## Построим график «ящик с усами» по глобальным продажам игр в разбивке по платформам. "
   ]
  },
  {
   "cell_type": "code",
   "execution_count": 84,
   "id": "fdfa76e4",
   "metadata": {
    "scrolled": false
   },
   "outputs": [
    {
     "data": {
      "text/html": [
       "<div>\n",
       "<style scoped>\n",
       "    .dataframe tbody tr th:only-of-type {\n",
       "        vertical-align: middle;\n",
       "    }\n",
       "\n",
       "    .dataframe tbody tr th {\n",
       "        vertical-align: top;\n",
       "    }\n",
       "\n",
       "    .dataframe thead th {\n",
       "        text-align: right;\n",
       "    }\n",
       "</style>\n",
       "<table border=\"1\" class=\"dataframe\">\n",
       "  <thead>\n",
       "    <tr style=\"text-align: right;\">\n",
       "      <th></th>\n",
       "      <th>count</th>\n",
       "      <th>mean</th>\n",
       "      <th>std</th>\n",
       "      <th>min</th>\n",
       "      <th>25%</th>\n",
       "      <th>50%</th>\n",
       "      <th>75%</th>\n",
       "      <th>max</th>\n",
       "    </tr>\n",
       "    <tr>\n",
       "      <th>platform</th>\n",
       "      <th></th>\n",
       "      <th></th>\n",
       "      <th></th>\n",
       "      <th></th>\n",
       "      <th></th>\n",
       "      <th></th>\n",
       "      <th></th>\n",
       "      <th></th>\n",
       "    </tr>\n",
       "  </thead>\n",
       "  <tbody>\n",
       "    <tr>\n",
       "      <th>3DS</th>\n",
       "      <td>132.0</td>\n",
       "      <td>0.325152</td>\n",
       "      <td>0.798620</td>\n",
       "      <td>0.01</td>\n",
       "      <td>0.030</td>\n",
       "      <td>0.09</td>\n",
       "      <td>0.2325</td>\n",
       "      <td>7.14</td>\n",
       "    </tr>\n",
       "    <tr>\n",
       "      <th>PS4</th>\n",
       "      <td>301.0</td>\n",
       "      <td>0.625083</td>\n",
       "      <td>1.457063</td>\n",
       "      <td>0.01</td>\n",
       "      <td>0.050</td>\n",
       "      <td>0.12</td>\n",
       "      <td>0.4200</td>\n",
       "      <td>14.63</td>\n",
       "    </tr>\n",
       "    <tr>\n",
       "      <th>XOne</th>\n",
       "      <td>167.0</td>\n",
       "      <td>0.516707</td>\n",
       "      <td>0.965940</td>\n",
       "      <td>0.01</td>\n",
       "      <td>0.035</td>\n",
       "      <td>0.13</td>\n",
       "      <td>0.5550</td>\n",
       "      <td>7.39</td>\n",
       "    </tr>\n",
       "  </tbody>\n",
       "</table>\n",
       "</div>"
      ],
      "text/plain": [
       "          count      mean       std   min    25%   50%     75%    max\n",
       "platform                                                             \n",
       "3DS       132.0  0.325152  0.798620  0.01  0.030  0.09  0.2325   7.14\n",
       "PS4       301.0  0.625083  1.457063  0.01  0.050  0.12  0.4200  14.63\n",
       "XOne      167.0  0.516707  0.965940  0.01  0.035  0.13  0.5550   7.39"
      ]
     },
     "metadata": {},
     "output_type": "display_data"
    },
    {
     "data": {
      "image/png": "[encoded data removed]",
      "text/plain": [
       "<Figure size 1080x720 with 1 Axes>"
      ]
     },
     "metadata": {
      "needs_background": "light"
     },
     "output_type": "display_data"
    }
   ],
   "source": [
    "#оставим топ 3 платформ PS4, 3DS, XOne.\n",
    "data_3top = data_actual.query('platform == [\"PS4\",\"3DS\",\"XOne\"]')\n",
    "\n",
    "\n",
    "display(data_3top.groupby('platform')['amount_region'].describe())\n",
    "\n",
    "#построим диаграмму размаха\n",
    "data_3top.boxplot(figsize=(15,10),column='amount_region', by='platform',vert=False);\n",
    "plt.xlabel('')\n",
    "plt.show();"
   ]
  },
  {
   "cell_type": "code",
   "execution_count": 41,
   "id": "b1925c4d",
   "metadata": {
    "scrolled": true
   },
   "outputs": [
    {
     "data": {
      "text/html": [
       "<div>\n",
       "<style scoped>\n",
       "    .dataframe tbody tr th:only-of-type {\n",
       "        vertical-align: middle;\n",
       "    }\n",
       "\n",
       "    .dataframe tbody tr th {\n",
       "        vertical-align: top;\n",
       "    }\n",
       "\n",
       "    .dataframe thead th {\n",
       "        text-align: right;\n",
       "    }\n",
       "</style>\n",
       "<table border=\"1\" class=\"dataframe\">\n",
       "  <thead>\n",
       "    <tr style=\"text-align: right;\">\n",
       "      <th></th>\n",
       "      <th>name</th>\n",
       "      <th>platform</th>\n",
       "      <th>year_of_release</th>\n",
       "      <th>genre</th>\n",
       "      <th>na_sales</th>\n",
       "      <th>eu_sales</th>\n",
       "      <th>jp_sales</th>\n",
       "      <th>other_sales</th>\n",
       "      <th>amount_region</th>\n",
       "      <th>critic_score</th>\n",
       "      <th>user_score</th>\n",
       "      <th>rating</th>\n",
       "    </tr>\n",
       "  </thead>\n",
       "  <tbody>\n",
       "    <tr>\n",
       "      <th>31</th>\n",
       "      <td>Call of Duty: Black Ops 3</td>\n",
       "      <td>PS4</td>\n",
       "      <td>2015</td>\n",
       "      <td>Shooter</td>\n",
       "      <td>6.03</td>\n",
       "      <td>5.86</td>\n",
       "      <td>0.36</td>\n",
       "      <td>2.38</td>\n",
       "      <td>14.63</td>\n",
       "      <td>-1</td>\n",
       "      <td>-1.0</td>\n",
       "      <td>no name</td>\n",
       "    </tr>\n",
       "  </tbody>\n",
       "</table>\n",
       "</div>"
      ],
      "text/plain": [
       "                         name platform  year_of_release    genre  na_sales  \\\n",
       "31  Call of Duty: Black Ops 3      PS4             2015  Shooter      6.03   \n",
       "\n",
       "    eu_sales  jp_sales  other_sales  amount_region  critic_score  user_score  \\\n",
       "31      5.86      0.36         2.38          14.63            -1        -1.0   \n",
       "\n",
       "     rating  \n",
       "31  no name  "
      ]
     },
     "execution_count": 41,
     "metadata": {},
     "output_type": "execute_result"
    }
   ],
   "source": [
    "data_3top.loc[data_3top['amount_region'] > 14] #Call of Duty: Black Ops 3 "
   ]
  },
  {
   "cell_type": "markdown",
   "id": "3936132a",
   "metadata": {},
   "source": [
    "Самой покупаемой игрой оказалась \"Call of Duty: Black Ops 3\"."
   ]
  },
  {
   "cell_type": "markdown",
   "id": "23f2fcdd",
   "metadata": {},
   "source": [
    "Исходя из диаграммы размаха можно сделать вывод - то выбросы имеют место быть и их достаточно, на мой взгляд их убирать не стоит, так как есть игры , которые могли стать очень популярными. Лидер по выбросам PS4. Но что касается медиан? наглядно не видно, сделаем чуть крупнее и посмотрим."
   ]
  },
  {
   "cell_type": "code",
   "execution_count": 42,
   "id": "b5385595",
   "metadata": {},
   "outputs": [
    {
     "data": {
      "image/png": "[encoded data removed]",
      "text/plain": [
       "<Figure size 1080x576 with 1 Axes>"
      ]
     },
     "metadata": {
      "needs_background": "light"
     },
     "output_type": "display_data"
    }
   ],
   "source": [
    "data_3top = data_actual.query('platform == [\"PS4\",\"3DS\",\"XOne\"]')\n",
    "\n",
    "data_3top.boxplot(figsize=(15,8), column='amount_region', by='platform', vert=False);\n",
    "plt.xlim(0, 1.5)\n",
    "plt.show()"
   ]
  },
  {
   "cell_type": "markdown",
   "id": "df9eba6d",
   "metadata": {},
   "source": [
    "**Вывод:** \n",
    "\n",
    "Хоть и PS4 имеет больше выбросов,что говорит о большей популярности, XOne может похвастаться своей стибльностью в плане успешных игр так как медианное значение больше, чем у PS4 и 3DS."
   ]
  },
  {
   "cell_type": "markdown",
   "id": "5e9886a6",
   "metadata": {},
   "source": [
    "## Влияние на продажи внутри одной популярной платформы отзывы пользователей и критиков - PS4"
   ]
  },
  {
   "cell_type": "markdown",
   "id": "4d5ab794",
   "metadata": {},
   "source": [
    "### Зависимость продаж от отзывов пользователей"
   ]
  },
  {
   "cell_type": "code",
   "execution_count": 43,
   "id": "498e1973",
   "metadata": {},
   "outputs": [
    {
     "data": {
      "text/html": [
       "<div>\n",
       "<style scoped>\n",
       "    .dataframe tbody tr th:only-of-type {\n",
       "        vertical-align: middle;\n",
       "    }\n",
       "\n",
       "    .dataframe tbody tr th {\n",
       "        vertical-align: top;\n",
       "    }\n",
       "\n",
       "    .dataframe thead th {\n",
       "        text-align: right;\n",
       "    }\n",
       "</style>\n",
       "<table border=\"1\" class=\"dataframe\">\n",
       "  <thead>\n",
       "    <tr style=\"text-align: right;\">\n",
       "      <th></th>\n",
       "      <th>year_of_release</th>\n",
       "      <th>na_sales</th>\n",
       "      <th>eu_sales</th>\n",
       "      <th>jp_sales</th>\n",
       "      <th>other_sales</th>\n",
       "      <th>amount_region</th>\n",
       "      <th>critic_score</th>\n",
       "      <th>user_score</th>\n",
       "    </tr>\n",
       "  </thead>\n",
       "  <tbody>\n",
       "    <tr>\n",
       "      <th>year_of_release</th>\n",
       "      <td>1.000000</td>\n",
       "      <td>-0.152276</td>\n",
       "      <td>-0.082329</td>\n",
       "      <td>-0.142387</td>\n",
       "      <td>-0.126992</td>\n",
       "      <td>-0.124932</td>\n",
       "      <td>-0.042474</td>\n",
       "      <td>0.016125</td>\n",
       "    </tr>\n",
       "    <tr>\n",
       "      <th>na_sales</th>\n",
       "      <td>-0.152276</td>\n",
       "      <td>1.000000</td>\n",
       "      <td>0.615644</td>\n",
       "      <td>0.500853</td>\n",
       "      <td>0.881468</td>\n",
       "      <td>0.849793</td>\n",
       "      <td>0.337184</td>\n",
       "      <td>-0.026921</td>\n",
       "    </tr>\n",
       "    <tr>\n",
       "      <th>eu_sales</th>\n",
       "      <td>-0.082329</td>\n",
       "      <td>0.615644</td>\n",
       "      <td>1.000000</td>\n",
       "      <td>0.460083</td>\n",
       "      <td>0.914657</td>\n",
       "      <td>0.937389</td>\n",
       "      <td>0.260775</td>\n",
       "      <td>-0.086974</td>\n",
       "    </tr>\n",
       "    <tr>\n",
       "      <th>jp_sales</th>\n",
       "      <td>-0.142387</td>\n",
       "      <td>0.500853</td>\n",
       "      <td>0.460083</td>\n",
       "      <td>1.000000</td>\n",
       "      <td>0.532674</td>\n",
       "      <td>0.560029</td>\n",
       "      <td>0.315100</td>\n",
       "      <td>0.185471</td>\n",
       "    </tr>\n",
       "    <tr>\n",
       "      <th>other_sales</th>\n",
       "      <td>-0.126992</td>\n",
       "      <td>0.881468</td>\n",
       "      <td>0.914657</td>\n",
       "      <td>0.532674</td>\n",
       "      <td>1.000000</td>\n",
       "      <td>0.997237</td>\n",
       "      <td>0.330034</td>\n",
       "      <td>-0.065671</td>\n",
       "    </tr>\n",
       "    <tr>\n",
       "      <th>amount_region</th>\n",
       "      <td>-0.124932</td>\n",
       "      <td>0.849793</td>\n",
       "      <td>0.937389</td>\n",
       "      <td>0.560029</td>\n",
       "      <td>0.997237</td>\n",
       "      <td>1.000000</td>\n",
       "      <td>0.328367</td>\n",
       "      <td>-0.059738</td>\n",
       "    </tr>\n",
       "    <tr>\n",
       "      <th>critic_score</th>\n",
       "      <td>-0.042474</td>\n",
       "      <td>0.337184</td>\n",
       "      <td>0.260775</td>\n",
       "      <td>0.315100</td>\n",
       "      <td>0.330034</td>\n",
       "      <td>0.328367</td>\n",
       "      <td>1.000000</td>\n",
       "      <td>0.352373</td>\n",
       "    </tr>\n",
       "    <tr>\n",
       "      <th>user_score</th>\n",
       "      <td>0.016125</td>\n",
       "      <td>-0.026921</td>\n",
       "      <td>-0.086974</td>\n",
       "      <td>0.185471</td>\n",
       "      <td>-0.065671</td>\n",
       "      <td>-0.059738</td>\n",
       "      <td>0.352373</td>\n",
       "      <td>1.000000</td>\n",
       "    </tr>\n",
       "  </tbody>\n",
       "</table>\n",
       "</div>"
      ],
      "text/plain": [
       "                 year_of_release  na_sales  eu_sales  jp_sales  other_sales  \\\n",
       "year_of_release         1.000000 -0.152276 -0.082329 -0.142387    -0.126992   \n",
       "na_sales               -0.152276  1.000000  0.615644  0.500853     0.881468   \n",
       "eu_sales               -0.082329  0.615644  1.000000  0.460083     0.914657   \n",
       "jp_sales               -0.142387  0.500853  0.460083  1.000000     0.532674   \n",
       "other_sales            -0.126992  0.881468  0.914657  0.532674     1.000000   \n",
       "amount_region          -0.124932  0.849793  0.937389  0.560029     0.997237   \n",
       "critic_score           -0.042474  0.337184  0.260775  0.315100     0.330034   \n",
       "user_score              0.016125 -0.026921 -0.086974  0.185471    -0.065671   \n",
       "\n",
       "                 amount_region  critic_score  user_score  \n",
       "year_of_release      -0.124932     -0.042474    0.016125  \n",
       "na_sales              0.849793      0.337184   -0.026921  \n",
       "eu_sales              0.937389      0.260775   -0.086974  \n",
       "jp_sales              0.560029      0.315100    0.185471  \n",
       "other_sales           0.997237      0.330034   -0.065671  \n",
       "amount_region         1.000000      0.328367   -0.059738  \n",
       "critic_score          0.328367      1.000000    0.352373  \n",
       "user_score           -0.059738      0.352373    1.000000  "
      ]
     },
     "metadata": {},
     "output_type": "display_data"
    },
    {
     "data": {
      "image/png": "[encoded data removed]",
      "text/plain": [
       "<Figure size 432x288 with 1 Axes>"
      ]
     },
     "metadata": {
      "needs_background": "light"
     },
     "output_type": "display_data"
    }
   ],
   "source": [
    "#создадим датафрейм с одним типом платформы\n",
    "data_ps4_user = data_actual.query('platform == \"PS4\" & user_score != -1')\n",
    "#построим корреляцию\n",
    "display(data_ps4_user.corr())\n",
    "#посмотрим зависимость\n",
    "data_ps4_user.plot(title = 'Зависимость продаж от отзывов пользователей',x = 'user_score', y = 'amount_region', xlim=(0,9), kind = 'scatter', grid = True);"
   ]
  },
  {
   "cell_type": "markdown",
   "id": "3c3c0b46",
   "metadata": {},
   "source": [
    "### Зависимость продаж от отзывов критиков"
   ]
  },
  {
   "cell_type": "code",
   "execution_count": 86,
   "id": "abe6df00",
   "metadata": {},
   "outputs": [
    {
     "data": {
      "text/html": [
       "<div>\n",
       "<style scoped>\n",
       "    .dataframe tbody tr th:only-of-type {\n",
       "        vertical-align: middle;\n",
       "    }\n",
       "\n",
       "    .dataframe tbody tr th {\n",
       "        vertical-align: top;\n",
       "    }\n",
       "\n",
       "    .dataframe thead th {\n",
       "        text-align: right;\n",
       "    }\n",
       "</style>\n",
       "<table border=\"1\" class=\"dataframe\">\n",
       "  <thead>\n",
       "    <tr style=\"text-align: right;\">\n",
       "      <th></th>\n",
       "      <th>year_of_release</th>\n",
       "      <th>na_sales</th>\n",
       "      <th>eu_sales</th>\n",
       "      <th>jp_sales</th>\n",
       "      <th>other_sales</th>\n",
       "      <th>amount_region</th>\n",
       "      <th>critic_score</th>\n",
       "      <th>user_score</th>\n",
       "    </tr>\n",
       "  </thead>\n",
       "  <tbody>\n",
       "    <tr>\n",
       "      <th>year_of_release</th>\n",
       "      <td>1.00</td>\n",
       "      <td>-0.15</td>\n",
       "      <td>-0.08</td>\n",
       "      <td>-0.15</td>\n",
       "      <td>-0.13</td>\n",
       "      <td>-0.13</td>\n",
       "      <td>-0.02</td>\n",
       "      <td>-0.02</td>\n",
       "    </tr>\n",
       "    <tr>\n",
       "      <th>na_sales</th>\n",
       "      <td>-0.15</td>\n",
       "      <td>1.00</td>\n",
       "      <td>0.61</td>\n",
       "      <td>0.50</td>\n",
       "      <td>0.88</td>\n",
       "      <td>0.85</td>\n",
       "      <td>0.41</td>\n",
       "      <td>0.01</td>\n",
       "    </tr>\n",
       "    <tr>\n",
       "      <th>eu_sales</th>\n",
       "      <td>-0.08</td>\n",
       "      <td>0.61</td>\n",
       "      <td>1.00</td>\n",
       "      <td>0.46</td>\n",
       "      <td>0.91</td>\n",
       "      <td>0.94</td>\n",
       "      <td>0.31</td>\n",
       "      <td>-0.05</td>\n",
       "    </tr>\n",
       "    <tr>\n",
       "      <th>jp_sales</th>\n",
       "      <td>-0.15</td>\n",
       "      <td>0.50</td>\n",
       "      <td>0.46</td>\n",
       "      <td>1.00</td>\n",
       "      <td>0.53</td>\n",
       "      <td>0.56</td>\n",
       "      <td>0.37</td>\n",
       "      <td>0.18</td>\n",
       "    </tr>\n",
       "    <tr>\n",
       "      <th>other_sales</th>\n",
       "      <td>-0.13</td>\n",
       "      <td>0.88</td>\n",
       "      <td>0.91</td>\n",
       "      <td>0.53</td>\n",
       "      <td>1.00</td>\n",
       "      <td>1.00</td>\n",
       "      <td>0.39</td>\n",
       "      <td>-0.02</td>\n",
       "    </tr>\n",
       "    <tr>\n",
       "      <th>amount_region</th>\n",
       "      <td>-0.13</td>\n",
       "      <td>0.85</td>\n",
       "      <td>0.94</td>\n",
       "      <td>0.56</td>\n",
       "      <td>1.00</td>\n",
       "      <td>1.00</td>\n",
       "      <td>0.39</td>\n",
       "      <td>-0.02</td>\n",
       "    </tr>\n",
       "    <tr>\n",
       "      <th>critic_score</th>\n",
       "      <td>-0.02</td>\n",
       "      <td>0.41</td>\n",
       "      <td>0.31</td>\n",
       "      <td>0.37</td>\n",
       "      <td>0.39</td>\n",
       "      <td>0.39</td>\n",
       "      <td>1.00</td>\n",
       "      <td>0.46</td>\n",
       "    </tr>\n",
       "    <tr>\n",
       "      <th>user_score</th>\n",
       "      <td>-0.02</td>\n",
       "      <td>0.01</td>\n",
       "      <td>-0.05</td>\n",
       "      <td>0.18</td>\n",
       "      <td>-0.02</td>\n",
       "      <td>-0.02</td>\n",
       "      <td>0.46</td>\n",
       "      <td>1.00</td>\n",
       "    </tr>\n",
       "  </tbody>\n",
       "</table>\n",
       "</div>"
      ],
      "text/plain": [
       "                 year_of_release  na_sales  eu_sales  jp_sales  other_sales  \\\n",
       "year_of_release             1.00     -0.15     -0.08     -0.15        -0.13   \n",
       "na_sales                   -0.15      1.00      0.61      0.50         0.88   \n",
       "eu_sales                   -0.08      0.61      1.00      0.46         0.91   \n",
       "jp_sales                   -0.15      0.50      0.46      1.00         0.53   \n",
       "other_sales                -0.13      0.88      0.91      0.53         1.00   \n",
       "amount_region              -0.13      0.85      0.94      0.56         1.00   \n",
       "critic_score               -0.02      0.41      0.31      0.37         0.39   \n",
       "user_score                 -0.02      0.01     -0.05      0.18        -0.02   \n",
       "\n",
       "                 amount_region  critic_score  user_score  \n",
       "year_of_release          -0.13         -0.02       -0.02  \n",
       "na_sales                  0.85          0.41        0.01  \n",
       "eu_sales                  0.94          0.31       -0.05  \n",
       "jp_sales                  0.56          0.37        0.18  \n",
       "other_sales               1.00          0.39       -0.02  \n",
       "amount_region             1.00          0.39       -0.02  \n",
       "critic_score              0.39          1.00        0.46  \n",
       "user_score               -0.02          0.46        1.00  "
      ]
     },
     "metadata": {},
     "output_type": "display_data"
    },
    {
     "data": {
      "image/png": "[encoded data removed]",
      "text/plain": [
       "<Figure size 432x288 with 1 Axes>"
      ]
     },
     "metadata": {
      "needs_background": "light"
     },
     "output_type": "display_data"
    }
   ],
   "source": [
    "#создадим датафрейм с одним типом платформы\n",
    "data_ps4_critic = data_actual.query('platform == \"PS4\" & critic_score != -1')\n",
    "#построим корреляцию\n",
    "display(data_ps4_critic.corr().round(2))\n",
    "#посмотрим зависимость\n",
    "data_ps4_critic.plot(title = 'Зависимость продаж от отзывов критиков',x = 'critic_score', y = 'amount_region', xlim=(0,90), kind = 'scatter', grid = True);"
   ]
  },
  {
   "cell_type": "markdown",
   "id": "7e947e34",
   "metadata": {},
   "source": [
    "**Вывод по платформе - PS4**\n",
    "- Зависимость между величинами оценка пользователя и общими продажами отсутствует (-0.06)\n",
    "- Зависимость между величинами оценка критика и общими продажами достаточно выражена (0.4)"
   ]
  },
  {
   "cell_type": "markdown",
   "id": "ade8bad3",
   "metadata": {},
   "source": [
    "## Соотнесем выводы с продажами игр на других платформах - XOne, "
   ]
  },
  {
   "cell_type": "markdown",
   "id": "8e8e8ac8",
   "metadata": {},
   "source": [
    "### Зависимость продаж от отзывов пользователей"
   ]
  },
  {
   "cell_type": "code",
   "execution_count": 45,
   "id": "3ec690d4",
   "metadata": {},
   "outputs": [
    {
     "data": {
      "text/html": [
       "<div>\n",
       "<style scoped>\n",
       "    .dataframe tbody tr th:only-of-type {\n",
       "        vertical-align: middle;\n",
       "    }\n",
       "\n",
       "    .dataframe tbody tr th {\n",
       "        vertical-align: top;\n",
       "    }\n",
       "\n",
       "    .dataframe thead th {\n",
       "        text-align: right;\n",
       "    }\n",
       "</style>\n",
       "<table border=\"1\" class=\"dataframe\">\n",
       "  <thead>\n",
       "    <tr style=\"text-align: right;\">\n",
       "      <th></th>\n",
       "      <th>year_of_release</th>\n",
       "      <th>na_sales</th>\n",
       "      <th>eu_sales</th>\n",
       "      <th>jp_sales</th>\n",
       "      <th>other_sales</th>\n",
       "      <th>amount_region</th>\n",
       "      <th>critic_score</th>\n",
       "      <th>user_score</th>\n",
       "    </tr>\n",
       "  </thead>\n",
       "  <tbody>\n",
       "    <tr>\n",
       "      <th>year_of_release</th>\n",
       "      <td>1.000000</td>\n",
       "      <td>-0.274899</td>\n",
       "      <td>-0.164398</td>\n",
       "      <td>-0.235902</td>\n",
       "      <td>-0.277096</td>\n",
       "      <td>-0.262500</td>\n",
       "      <td>-0.043796</td>\n",
       "      <td>0.042503</td>\n",
       "    </tr>\n",
       "    <tr>\n",
       "      <th>na_sales</th>\n",
       "      <td>-0.274899</td>\n",
       "      <td>1.000000</td>\n",
       "      <td>0.568948</td>\n",
       "      <td>0.406383</td>\n",
       "      <td>0.976354</td>\n",
       "      <td>0.938035</td>\n",
       "      <td>0.359189</td>\n",
       "      <td>-0.018911</td>\n",
       "    </tr>\n",
       "    <tr>\n",
       "      <th>eu_sales</th>\n",
       "      <td>-0.164398</td>\n",
       "      <td>0.568948</td>\n",
       "      <td>1.000000</td>\n",
       "      <td>0.414526</td>\n",
       "      <td>0.730755</td>\n",
       "      <td>0.818643</td>\n",
       "      <td>0.310354</td>\n",
       "      <td>-0.068619</td>\n",
       "    </tr>\n",
       "    <tr>\n",
       "      <th>jp_sales</th>\n",
       "      <td>-0.235902</td>\n",
       "      <td>0.406383</td>\n",
       "      <td>0.414526</td>\n",
       "      <td>1.000000</td>\n",
       "      <td>0.441061</td>\n",
       "      <td>0.462400</td>\n",
       "      <td>0.169217</td>\n",
       "      <td>0.100080</td>\n",
       "    </tr>\n",
       "    <tr>\n",
       "      <th>other_sales</th>\n",
       "      <td>-0.277096</td>\n",
       "      <td>0.976354</td>\n",
       "      <td>0.730755</td>\n",
       "      <td>0.441061</td>\n",
       "      <td>1.000000</td>\n",
       "      <td>0.989800</td>\n",
       "      <td>0.380934</td>\n",
       "      <td>-0.033664</td>\n",
       "    </tr>\n",
       "    <tr>\n",
       "      <th>amount_region</th>\n",
       "      <td>-0.262500</td>\n",
       "      <td>0.938035</td>\n",
       "      <td>0.818643</td>\n",
       "      <td>0.462400</td>\n",
       "      <td>0.989800</td>\n",
       "      <td>1.000000</td>\n",
       "      <td>0.381815</td>\n",
       "      <td>-0.041467</td>\n",
       "    </tr>\n",
       "    <tr>\n",
       "      <th>critic_score</th>\n",
       "      <td>-0.043796</td>\n",
       "      <td>0.359189</td>\n",
       "      <td>0.310354</td>\n",
       "      <td>0.169217</td>\n",
       "      <td>0.380934</td>\n",
       "      <td>0.381815</td>\n",
       "      <td>1.000000</td>\n",
       "      <td>0.275021</td>\n",
       "    </tr>\n",
       "    <tr>\n",
       "      <th>user_score</th>\n",
       "      <td>0.042503</td>\n",
       "      <td>-0.018911</td>\n",
       "      <td>-0.068619</td>\n",
       "      <td>0.100080</td>\n",
       "      <td>-0.033664</td>\n",
       "      <td>-0.041467</td>\n",
       "      <td>0.275021</td>\n",
       "      <td>1.000000</td>\n",
       "    </tr>\n",
       "  </tbody>\n",
       "</table>\n",
       "</div>"
      ],
      "text/plain": [
       "                 year_of_release  na_sales  eu_sales  jp_sales  other_sales  \\\n",
       "year_of_release         1.000000 -0.274899 -0.164398 -0.235902    -0.277096   \n",
       "na_sales               -0.274899  1.000000  0.568948  0.406383     0.976354   \n",
       "eu_sales               -0.164398  0.568948  1.000000  0.414526     0.730755   \n",
       "jp_sales               -0.235902  0.406383  0.414526  1.000000     0.441061   \n",
       "other_sales            -0.277096  0.976354  0.730755  0.441061     1.000000   \n",
       "amount_region          -0.262500  0.938035  0.818643  0.462400     0.989800   \n",
       "critic_score           -0.043796  0.359189  0.310354  0.169217     0.380934   \n",
       "user_score              0.042503 -0.018911 -0.068619  0.100080    -0.033664   \n",
       "\n",
       "                 amount_region  critic_score  user_score  \n",
       "year_of_release      -0.262500     -0.043796    0.042503  \n",
       "na_sales              0.938035      0.359189   -0.018911  \n",
       "eu_sales              0.818643      0.310354   -0.068619  \n",
       "jp_sales              0.462400      0.169217    0.100080  \n",
       "other_sales           0.989800      0.380934   -0.033664  \n",
       "amount_region         1.000000      0.381815   -0.041467  \n",
       "critic_score          0.381815      1.000000    0.275021  \n",
       "user_score           -0.041467      0.275021    1.000000  "
      ]
     },
     "metadata": {},
     "output_type": "display_data"
    },
    {
     "data": {
      "image/png": "[encoded data removed]",
      "text/plain": [
       "<Figure size 432x288 with 1 Axes>"
      ]
     },
     "metadata": {
      "needs_background": "light"
     },
     "output_type": "display_data"
    }
   ],
   "source": [
    "#создадим датафрейм с одним типом платформы\n",
    "data_XOne_user = data_actual.query('platform == \"XOne\" & user_score != -1')\n",
    "#построим корреляцию\n",
    "display(data_XOne_user.corr())\n",
    "#посмотрим зависимость\n",
    "data_XOne_user.plot(title = 'Зависимость продаж от отзывов пользователей',x = 'user_score', y = 'amount_region', xlim=(0,9), kind = 'scatter', grid = True);"
   ]
  },
  {
   "cell_type": "markdown",
   "id": "b101150e",
   "metadata": {},
   "source": [
    "### Зависимость продаж от отзывов критиков "
   ]
  },
  {
   "cell_type": "code",
   "execution_count": 46,
   "id": "4ec38ae4",
   "metadata": {},
   "outputs": [
    {
     "data": {
      "text/html": [
       "<div>\n",
       "<style scoped>\n",
       "    .dataframe tbody tr th:only-of-type {\n",
       "        vertical-align: middle;\n",
       "    }\n",
       "\n",
       "    .dataframe tbody tr th {\n",
       "        vertical-align: top;\n",
       "    }\n",
       "\n",
       "    .dataframe thead th {\n",
       "        text-align: right;\n",
       "    }\n",
       "</style>\n",
       "<table border=\"1\" class=\"dataframe\">\n",
       "  <thead>\n",
       "    <tr style=\"text-align: right;\">\n",
       "      <th></th>\n",
       "      <th>year_of_release</th>\n",
       "      <th>na_sales</th>\n",
       "      <th>eu_sales</th>\n",
       "      <th>jp_sales</th>\n",
       "      <th>other_sales</th>\n",
       "      <th>amount_region</th>\n",
       "      <th>critic_score</th>\n",
       "      <th>user_score</th>\n",
       "    </tr>\n",
       "  </thead>\n",
       "  <tbody>\n",
       "    <tr>\n",
       "      <th>year_of_release</th>\n",
       "      <td>1.000000</td>\n",
       "      <td>-0.274848</td>\n",
       "      <td>-0.159089</td>\n",
       "      <td>-0.240370</td>\n",
       "      <td>-0.275568</td>\n",
       "      <td>-0.260988</td>\n",
       "      <td>0.018976</td>\n",
       "      <td>0.047167</td>\n",
       "    </tr>\n",
       "    <tr>\n",
       "      <th>na_sales</th>\n",
       "      <td>-0.274848</td>\n",
       "      <td>1.000000</td>\n",
       "      <td>0.557889</td>\n",
       "      <td>0.401310</td>\n",
       "      <td>0.975696</td>\n",
       "      <td>0.936175</td>\n",
       "      <td>0.405857</td>\n",
       "      <td>0.056277</td>\n",
       "    </tr>\n",
       "    <tr>\n",
       "      <th>eu_sales</th>\n",
       "      <td>-0.159089</td>\n",
       "      <td>0.557889</td>\n",
       "      <td>1.000000</td>\n",
       "      <td>0.409566</td>\n",
       "      <td>0.723668</td>\n",
       "      <td>0.813988</td>\n",
       "      <td>0.345921</td>\n",
       "      <td>0.002222</td>\n",
       "    </tr>\n",
       "    <tr>\n",
       "      <th>jp_sales</th>\n",
       "      <td>-0.240370</td>\n",
       "      <td>0.401310</td>\n",
       "      <td>0.409566</td>\n",
       "      <td>1.000000</td>\n",
       "      <td>0.436622</td>\n",
       "      <td>0.458372</td>\n",
       "      <td>0.206701</td>\n",
       "      <td>0.106450</td>\n",
       "    </tr>\n",
       "    <tr>\n",
       "      <th>other_sales</th>\n",
       "      <td>-0.275568</td>\n",
       "      <td>0.975696</td>\n",
       "      <td>0.723668</td>\n",
       "      <td>0.436622</td>\n",
       "      <td>1.000000</td>\n",
       "      <td>0.989479</td>\n",
       "      <td>0.429969</td>\n",
       "      <td>0.047296</td>\n",
       "    </tr>\n",
       "    <tr>\n",
       "      <th>amount_region</th>\n",
       "      <td>-0.260988</td>\n",
       "      <td>0.936175</td>\n",
       "      <td>0.813988</td>\n",
       "      <td>0.458372</td>\n",
       "      <td>0.989479</td>\n",
       "      <td>1.000000</td>\n",
       "      <td>0.430889</td>\n",
       "      <td>0.040832</td>\n",
       "    </tr>\n",
       "    <tr>\n",
       "      <th>critic_score</th>\n",
       "      <td>0.018976</td>\n",
       "      <td>0.405857</td>\n",
       "      <td>0.345921</td>\n",
       "      <td>0.206701</td>\n",
       "      <td>0.429969</td>\n",
       "      <td>0.430889</td>\n",
       "      <td>1.000000</td>\n",
       "      <td>0.444560</td>\n",
       "    </tr>\n",
       "    <tr>\n",
       "      <th>user_score</th>\n",
       "      <td>0.047167</td>\n",
       "      <td>0.056277</td>\n",
       "      <td>0.002222</td>\n",
       "      <td>0.106450</td>\n",
       "      <td>0.047296</td>\n",
       "      <td>0.040832</td>\n",
       "      <td>0.444560</td>\n",
       "      <td>1.000000</td>\n",
       "    </tr>\n",
       "  </tbody>\n",
       "</table>\n",
       "</div>"
      ],
      "text/plain": [
       "                 year_of_release  na_sales  eu_sales  jp_sales  other_sales  \\\n",
       "year_of_release         1.000000 -0.274848 -0.159089 -0.240370    -0.275568   \n",
       "na_sales               -0.274848  1.000000  0.557889  0.401310     0.975696   \n",
       "eu_sales               -0.159089  0.557889  1.000000  0.409566     0.723668   \n",
       "jp_sales               -0.240370  0.401310  0.409566  1.000000     0.436622   \n",
       "other_sales            -0.275568  0.975696  0.723668  0.436622     1.000000   \n",
       "amount_region          -0.260988  0.936175  0.813988  0.458372     0.989479   \n",
       "critic_score            0.018976  0.405857  0.345921  0.206701     0.429969   \n",
       "user_score              0.047167  0.056277  0.002222  0.106450     0.047296   \n",
       "\n",
       "                 amount_region  critic_score  user_score  \n",
       "year_of_release      -0.260988      0.018976    0.047167  \n",
       "na_sales              0.936175      0.405857    0.056277  \n",
       "eu_sales              0.813988      0.345921    0.002222  \n",
       "jp_sales              0.458372      0.206701    0.106450  \n",
       "other_sales           0.989479      0.429969    0.047296  \n",
       "amount_region         1.000000      0.430889    0.040832  \n",
       "critic_score          0.430889      1.000000    0.444560  \n",
       "user_score            0.040832      0.444560    1.000000  "
      ]
     },
     "metadata": {},
     "output_type": "display_data"
    },
    {
     "data": {
      "image/png": "[encoded data removed]",
      "text/plain": [
       "<Figure size 432x288 with 1 Axes>"
      ]
     },
     "metadata": {
      "needs_background": "light"
     },
     "output_type": "display_data"
    }
   ],
   "source": [
    "#создадим датафрейм с одним типом платформы\n",
    "data_XOne_critic = data_actual.query('platform == \"XOne\" & critic_score != -1')\n",
    "#построим корреляцию\n",
    "display(data_XOne_critic.corr())\n",
    "#посмотрим зависимость\n",
    "data_XOne_critic.plot(title = 'Зависимость продаж от отзывов критиков',x = 'critic_score', y = 'amount_region', xlim=(0,90), kind = 'scatter', grid = True);"
   ]
  },
  {
   "cell_type": "markdown",
   "id": "535d260b",
   "metadata": {},
   "source": [
    "**XOne**\n",
    "- Зависимость между величинами оценка пользователя и общими продажами отсутствует (-0.04)\n",
    "- Зависимость между величинами оценка критика и общими продажами не сильно выражена, но все же есть (0.4)"
   ]
  },
  {
   "cell_type": "markdown",
   "id": "509a7b73",
   "metadata": {},
   "source": [
    "## Соотнесем выводы с продажами игр на других платформах - 3DS, "
   ]
  },
  {
   "cell_type": "markdown",
   "id": "70480364",
   "metadata": {},
   "source": [
    "### Зависимость продаж от отзывов пользователей"
   ]
  },
  {
   "cell_type": "code",
   "execution_count": 47,
   "id": "adfb2aef",
   "metadata": {},
   "outputs": [
    {
     "data": {
      "text/html": [
       "<div>\n",
       "<style scoped>\n",
       "    .dataframe tbody tr th:only-of-type {\n",
       "        vertical-align: middle;\n",
       "    }\n",
       "\n",
       "    .dataframe tbody tr th {\n",
       "        vertical-align: top;\n",
       "    }\n",
       "\n",
       "    .dataframe thead th {\n",
       "        text-align: right;\n",
       "    }\n",
       "</style>\n",
       "<table border=\"1\" class=\"dataframe\">\n",
       "  <thead>\n",
       "    <tr style=\"text-align: right;\">\n",
       "      <th></th>\n",
       "      <th>year_of_release</th>\n",
       "      <th>na_sales</th>\n",
       "      <th>eu_sales</th>\n",
       "      <th>jp_sales</th>\n",
       "      <th>other_sales</th>\n",
       "      <th>amount_region</th>\n",
       "      <th>critic_score</th>\n",
       "      <th>user_score</th>\n",
       "    </tr>\n",
       "  </thead>\n",
       "  <tbody>\n",
       "    <tr>\n",
       "      <th>year_of_release</th>\n",
       "      <td>1.000000</td>\n",
       "      <td>-0.287917</td>\n",
       "      <td>-0.219799</td>\n",
       "      <td>-0.167585</td>\n",
       "      <td>-0.285183</td>\n",
       "      <td>-0.248435</td>\n",
       "      <td>-0.084349</td>\n",
       "      <td>-0.107276</td>\n",
       "    </tr>\n",
       "    <tr>\n",
       "      <th>na_sales</th>\n",
       "      <td>-0.287917</td>\n",
       "      <td>1.000000</td>\n",
       "      <td>0.766272</td>\n",
       "      <td>0.579709</td>\n",
       "      <td>0.977915</td>\n",
       "      <td>0.862132</td>\n",
       "      <td>0.204420</td>\n",
       "      <td>0.329967</td>\n",
       "    </tr>\n",
       "    <tr>\n",
       "      <th>eu_sales</th>\n",
       "      <td>-0.219799</td>\n",
       "      <td>0.766272</td>\n",
       "      <td>1.000000</td>\n",
       "      <td>0.899172</td>\n",
       "      <td>0.876042</td>\n",
       "      <td>0.970442</td>\n",
       "      <td>0.060218</td>\n",
       "      <td>0.111276</td>\n",
       "    </tr>\n",
       "    <tr>\n",
       "      <th>jp_sales</th>\n",
       "      <td>-0.167585</td>\n",
       "      <td>0.579709</td>\n",
       "      <td>0.899172</td>\n",
       "      <td>1.000000</td>\n",
       "      <td>0.710151</td>\n",
       "      <td>0.903945</td>\n",
       "      <td>0.199926</td>\n",
       "      <td>0.088339</td>\n",
       "    </tr>\n",
       "    <tr>\n",
       "      <th>other_sales</th>\n",
       "      <td>-0.285183</td>\n",
       "      <td>0.977915</td>\n",
       "      <td>0.876042</td>\n",
       "      <td>0.710151</td>\n",
       "      <td>1.000000</td>\n",
       "      <td>0.939839</td>\n",
       "      <td>0.177606</td>\n",
       "      <td>0.281898</td>\n",
       "    </tr>\n",
       "    <tr>\n",
       "      <th>amount_region</th>\n",
       "      <td>-0.248435</td>\n",
       "      <td>0.862132</td>\n",
       "      <td>0.970442</td>\n",
       "      <td>0.903945</td>\n",
       "      <td>0.939839</td>\n",
       "      <td>1.000000</td>\n",
       "      <td>0.176479</td>\n",
       "      <td>0.198796</td>\n",
       "    </tr>\n",
       "    <tr>\n",
       "      <th>critic_score</th>\n",
       "      <td>-0.084349</td>\n",
       "      <td>0.204420</td>\n",
       "      <td>0.060218</td>\n",
       "      <td>0.199926</td>\n",
       "      <td>0.177606</td>\n",
       "      <td>0.176479</td>\n",
       "      <td>1.000000</td>\n",
       "      <td>0.189173</td>\n",
       "    </tr>\n",
       "    <tr>\n",
       "      <th>user_score</th>\n",
       "      <td>-0.107276</td>\n",
       "      <td>0.329967</td>\n",
       "      <td>0.111276</td>\n",
       "      <td>0.088339</td>\n",
       "      <td>0.281898</td>\n",
       "      <td>0.198796</td>\n",
       "      <td>0.189173</td>\n",
       "      <td>1.000000</td>\n",
       "    </tr>\n",
       "  </tbody>\n",
       "</table>\n",
       "</div>"
      ],
      "text/plain": [
       "                 year_of_release  na_sales  eu_sales  jp_sales  other_sales  \\\n",
       "year_of_release         1.000000 -0.287917 -0.219799 -0.167585    -0.285183   \n",
       "na_sales               -0.287917  1.000000  0.766272  0.579709     0.977915   \n",
       "eu_sales               -0.219799  0.766272  1.000000  0.899172     0.876042   \n",
       "jp_sales               -0.167585  0.579709  0.899172  1.000000     0.710151   \n",
       "other_sales            -0.285183  0.977915  0.876042  0.710151     1.000000   \n",
       "amount_region          -0.248435  0.862132  0.970442  0.903945     0.939839   \n",
       "critic_score           -0.084349  0.204420  0.060218  0.199926     0.177606   \n",
       "user_score             -0.107276  0.329967  0.111276  0.088339     0.281898   \n",
       "\n",
       "                 amount_region  critic_score  user_score  \n",
       "year_of_release      -0.248435     -0.084349   -0.107276  \n",
       "na_sales              0.862132      0.204420    0.329967  \n",
       "eu_sales              0.970442      0.060218    0.111276  \n",
       "jp_sales              0.903945      0.199926    0.088339  \n",
       "other_sales           0.939839      0.177606    0.281898  \n",
       "amount_region         1.000000      0.176479    0.198796  \n",
       "critic_score          0.176479      1.000000    0.189173  \n",
       "user_score            0.198796      0.189173    1.000000  "
      ]
     },
     "metadata": {},
     "output_type": "display_data"
    },
    {
     "data": {
      "image/png": "[encoded data removed]",
      "text/plain": [
       "<Figure size 432x288 with 1 Axes>"
      ]
     },
     "metadata": {
      "needs_background": "light"
     },
     "output_type": "display_data"
    }
   ],
   "source": [
    "#Проверим зависимость у 3DS\n",
    "data_3DS_user = data_actual.query('platform == \"3DS\" & user_score != -1') #[\"3DS\",\"XOne\"]\n",
    "#построим корреляцию\n",
    "display(data_3DS_user.corr())\n",
    "#посмотрим зависимость\n",
    "data_3DS_user.plot(title = 'Зависимость продаж от отзывов пользователей',x = 'user_score', y = 'amount_region', xlim=(0,9), kind = 'scatter', grid = True);"
   ]
  },
  {
   "cell_type": "markdown",
   "id": "99a8d830",
   "metadata": {},
   "source": [
    "### Зависимость продаж от отзывов критиков"
   ]
  },
  {
   "cell_type": "code",
   "execution_count": 48,
   "id": "fbcff667",
   "metadata": {},
   "outputs": [
    {
     "data": {
      "text/html": [
       "<div>\n",
       "<style scoped>\n",
       "    .dataframe tbody tr th:only-of-type {\n",
       "        vertical-align: middle;\n",
       "    }\n",
       "\n",
       "    .dataframe tbody tr th {\n",
       "        vertical-align: top;\n",
       "    }\n",
       "\n",
       "    .dataframe thead th {\n",
       "        text-align: right;\n",
       "    }\n",
       "</style>\n",
       "<table border=\"1\" class=\"dataframe\">\n",
       "  <thead>\n",
       "    <tr style=\"text-align: right;\">\n",
       "      <th></th>\n",
       "      <th>year_of_release</th>\n",
       "      <th>na_sales</th>\n",
       "      <th>eu_sales</th>\n",
       "      <th>jp_sales</th>\n",
       "      <th>other_sales</th>\n",
       "      <th>amount_region</th>\n",
       "      <th>critic_score</th>\n",
       "      <th>user_score</th>\n",
       "    </tr>\n",
       "  </thead>\n",
       "  <tbody>\n",
       "    <tr>\n",
       "      <th>year_of_release</th>\n",
       "      <td>1.000000</td>\n",
       "      <td>-0.274848</td>\n",
       "      <td>-0.159089</td>\n",
       "      <td>-0.240370</td>\n",
       "      <td>-0.275568</td>\n",
       "      <td>-0.260988</td>\n",
       "      <td>0.018976</td>\n",
       "      <td>0.047167</td>\n",
       "    </tr>\n",
       "    <tr>\n",
       "      <th>na_sales</th>\n",
       "      <td>-0.274848</td>\n",
       "      <td>1.000000</td>\n",
       "      <td>0.557889</td>\n",
       "      <td>0.401310</td>\n",
       "      <td>0.975696</td>\n",
       "      <td>0.936175</td>\n",
       "      <td>0.405857</td>\n",
       "      <td>0.056277</td>\n",
       "    </tr>\n",
       "    <tr>\n",
       "      <th>eu_sales</th>\n",
       "      <td>-0.159089</td>\n",
       "      <td>0.557889</td>\n",
       "      <td>1.000000</td>\n",
       "      <td>0.409566</td>\n",
       "      <td>0.723668</td>\n",
       "      <td>0.813988</td>\n",
       "      <td>0.345921</td>\n",
       "      <td>0.002222</td>\n",
       "    </tr>\n",
       "    <tr>\n",
       "      <th>jp_sales</th>\n",
       "      <td>-0.240370</td>\n",
       "      <td>0.401310</td>\n",
       "      <td>0.409566</td>\n",
       "      <td>1.000000</td>\n",
       "      <td>0.436622</td>\n",
       "      <td>0.458372</td>\n",
       "      <td>0.206701</td>\n",
       "      <td>0.106450</td>\n",
       "    </tr>\n",
       "    <tr>\n",
       "      <th>other_sales</th>\n",
       "      <td>-0.275568</td>\n",
       "      <td>0.975696</td>\n",
       "      <td>0.723668</td>\n",
       "      <td>0.436622</td>\n",
       "      <td>1.000000</td>\n",
       "      <td>0.989479</td>\n",
       "      <td>0.429969</td>\n",
       "      <td>0.047296</td>\n",
       "    </tr>\n",
       "    <tr>\n",
       "      <th>amount_region</th>\n",
       "      <td>-0.260988</td>\n",
       "      <td>0.936175</td>\n",
       "      <td>0.813988</td>\n",
       "      <td>0.458372</td>\n",
       "      <td>0.989479</td>\n",
       "      <td>1.000000</td>\n",
       "      <td>0.430889</td>\n",
       "      <td>0.040832</td>\n",
       "    </tr>\n",
       "    <tr>\n",
       "      <th>critic_score</th>\n",
       "      <td>0.018976</td>\n",
       "      <td>0.405857</td>\n",
       "      <td>0.345921</td>\n",
       "      <td>0.206701</td>\n",
       "      <td>0.429969</td>\n",
       "      <td>0.430889</td>\n",
       "      <td>1.000000</td>\n",
       "      <td>0.444560</td>\n",
       "    </tr>\n",
       "    <tr>\n",
       "      <th>user_score</th>\n",
       "      <td>0.047167</td>\n",
       "      <td>0.056277</td>\n",
       "      <td>0.002222</td>\n",
       "      <td>0.106450</td>\n",
       "      <td>0.047296</td>\n",
       "      <td>0.040832</td>\n",
       "      <td>0.444560</td>\n",
       "      <td>1.000000</td>\n",
       "    </tr>\n",
       "  </tbody>\n",
       "</table>\n",
       "</div>"
      ],
      "text/plain": [
       "                 year_of_release  na_sales  eu_sales  jp_sales  other_sales  \\\n",
       "year_of_release         1.000000 -0.274848 -0.159089 -0.240370    -0.275568   \n",
       "na_sales               -0.274848  1.000000  0.557889  0.401310     0.975696   \n",
       "eu_sales               -0.159089  0.557889  1.000000  0.409566     0.723668   \n",
       "jp_sales               -0.240370  0.401310  0.409566  1.000000     0.436622   \n",
       "other_sales            -0.275568  0.975696  0.723668  0.436622     1.000000   \n",
       "amount_region          -0.260988  0.936175  0.813988  0.458372     0.989479   \n",
       "critic_score            0.018976  0.405857  0.345921  0.206701     0.429969   \n",
       "user_score              0.047167  0.056277  0.002222  0.106450     0.047296   \n",
       "\n",
       "                 amount_region  critic_score  user_score  \n",
       "year_of_release      -0.260988      0.018976    0.047167  \n",
       "na_sales              0.936175      0.405857    0.056277  \n",
       "eu_sales              0.813988      0.345921    0.002222  \n",
       "jp_sales              0.458372      0.206701    0.106450  \n",
       "other_sales           0.989479      0.429969    0.047296  \n",
       "amount_region         1.000000      0.430889    0.040832  \n",
       "critic_score          0.430889      1.000000    0.444560  \n",
       "user_score            0.040832      0.444560    1.000000  "
      ]
     },
     "metadata": {},
     "output_type": "display_data"
    },
    {
     "data": {
      "image/png": "[encoded data removed]",
      "text/plain": [
       "<Figure size 432x288 with 1 Axes>"
      ]
     },
     "metadata": {
      "needs_background": "light"
     },
     "output_type": "display_data"
    }
   ],
   "source": [
    "#создадим датафрейм с одним типом платформы\n",
    "data_3DS_critic = data_actual.query('platform == \"XOne\" & critic_score != -1')\n",
    "#построим корреляцию\n",
    "display(data_3DS_critic.corr())\n",
    "#посмотрим зависимость\n",
    "data_3DS_critic.plot(title = 'Зависимость продаж от отзывов критиков',x = 'critic_score', y = 'amount_region', xlim=(0,90), kind = 'scatter', grid = True);"
   ]
  },
  {
   "cell_type": "markdown",
   "id": "20b2f684",
   "metadata": {},
   "source": [
    "**3DS**\n",
    "- Зависимость между величинами оценка пользователя и общими продажами отсутствует (0.3)\n",
    "- Зависимость между величинами оценка критика и общими продажами отсутствует (0.4)"
   ]
  },
  {
   "cell_type": "markdown",
   "id": "27d8be2c",
   "metadata": {},
   "source": [
    "**Вывод:**\n",
    "\n",
    "* PS4 в большей стпени зависит от оценки критиков (0.4), чем от оценки пользователей (-0.06) \n",
    "* XOne в большей стпени зависит от оценки критиков (0.4), чем от оценки пользователей (-0.04)\n",
    "* 3DS в большей стпени зависит от оценки критиков (0.4), чем от оценки пользователей (0.3)\n",
    "\n",
    "Корреляция по платформам PS4 и XOne почти одинаковая.У платформы 3DS нет зависимости от величин."
   ]
  },
  {
   "cell_type": "markdown",
   "id": "3584f331",
   "metadata": {},
   "source": [
    "## Распределение игр по жанрам"
   ]
  },
  {
   "cell_type": "code",
   "execution_count": 49,
   "id": "4536b994",
   "metadata": {},
   "outputs": [
    {
     "data": {
      "text/html": [
       "<div>\n",
       "<style scoped>\n",
       "    .dataframe tbody tr th:only-of-type {\n",
       "        vertical-align: middle;\n",
       "    }\n",
       "\n",
       "    .dataframe tbody tr th {\n",
       "        vertical-align: top;\n",
       "    }\n",
       "\n",
       "    .dataframe thead th {\n",
       "        text-align: right;\n",
       "    }\n",
       "</style>\n",
       "<table border=\"1\" class=\"dataframe\">\n",
       "  <thead>\n",
       "    <tr style=\"text-align: right;\">\n",
       "      <th></th>\n",
       "      <th>name</th>\n",
       "    </tr>\n",
       "    <tr>\n",
       "      <th>genre</th>\n",
       "      <th></th>\n",
       "    </tr>\n",
       "  </thead>\n",
       "  <tbody>\n",
       "    <tr>\n",
       "      <th>Action</th>\n",
       "      <td>431</td>\n",
       "    </tr>\n",
       "    <tr>\n",
       "      <th>Role-Playing</th>\n",
       "      <td>132</td>\n",
       "    </tr>\n",
       "    <tr>\n",
       "      <th>Adventure</th>\n",
       "      <td>110</td>\n",
       "    </tr>\n",
       "    <tr>\n",
       "      <th>Sports</th>\n",
       "      <td>107</td>\n",
       "    </tr>\n",
       "    <tr>\n",
       "      <th>Shooter</th>\n",
       "      <td>81</td>\n",
       "    </tr>\n",
       "    <tr>\n",
       "      <th>Misc</th>\n",
       "      <td>71</td>\n",
       "    </tr>\n",
       "    <tr>\n",
       "      <th>Racing</th>\n",
       "      <td>42</td>\n",
       "    </tr>\n",
       "    <tr>\n",
       "      <th>Fighting</th>\n",
       "      <td>37</td>\n",
       "    </tr>\n",
       "    <tr>\n",
       "      <th>Simulation</th>\n",
       "      <td>33</td>\n",
       "    </tr>\n",
       "    <tr>\n",
       "      <th>Strategy</th>\n",
       "      <td>29</td>\n",
       "    </tr>\n",
       "    <tr>\n",
       "      <th>Platform</th>\n",
       "      <td>28</td>\n",
       "    </tr>\n",
       "    <tr>\n",
       "      <th>Puzzle</th>\n",
       "      <td>7</td>\n",
       "    </tr>\n",
       "  </tbody>\n",
       "</table>\n",
       "</div>"
      ],
      "text/plain": [
       "              name\n",
       "genre             \n",
       "Action         431\n",
       "Role-Playing   132\n",
       "Adventure      110\n",
       "Sports         107\n",
       "Shooter         81\n",
       "Misc            71\n",
       "Racing          42\n",
       "Fighting        37\n",
       "Simulation      33\n",
       "Strategy        29\n",
       "Platform        28\n",
       "Puzzle           7"
      ]
     },
     "execution_count": 49,
     "metadata": {},
     "output_type": "execute_result"
    }
   ],
   "source": [
    "#сгруппируем актульный датафрейм по жанру\n",
    "data_genre = data_actual.pivot_table(index = 'genre', values = 'name', aggfunc= 'count')\\\n",
    ".sort_values(by = 'name', ascending = False)\n",
    "data_genre"
   ]
  },
  {
   "cell_type": "markdown",
   "id": "74cbda14",
   "metadata": {},
   "source": [
    "Вывод: мы наблюдаем, что самой большой популярностью (если рассматривать с позиции - спрос рождает предложение) пользуются игры с жанром \n",
    "- `Action` экшн (жанр компьютерных игр, в котором делается упор на эксплуатацию физических возможностей игрока) - 431.\n",
    "- `Role-Playing` игра развлекательного назначения, в которой участник берет какую-то определенную роль и в воображаемой ситуации действует соответственно этой роли - 132.\n",
    "- `Adventure` приключения - 110.\n",
    "- `Sports` спорт - 107."
   ]
  },
  {
   "cell_type": "markdown",
   "id": "3dc0f1d1",
   "metadata": {},
   "source": [
    "### Прибыльность жанров"
   ]
  },
  {
   "cell_type": "code",
   "execution_count": 50,
   "id": "bf9f90da",
   "metadata": {
    "scrolled": false
   },
   "outputs": [
    {
     "data": {
      "text/html": [
       "<div>\n",
       "<style scoped>\n",
       "    .dataframe tbody tr th:only-of-type {\n",
       "        vertical-align: middle;\n",
       "    }\n",
       "\n",
       "    .dataframe tbody tr th {\n",
       "        vertical-align: top;\n",
       "    }\n",
       "\n",
       "    .dataframe thead th {\n",
       "        text-align: right;\n",
       "    }\n",
       "</style>\n",
       "<table border=\"1\" class=\"dataframe\">\n",
       "  <thead>\n",
       "    <tr style=\"text-align: right;\">\n",
       "      <th></th>\n",
       "      <th>count</th>\n",
       "      <th>mean</th>\n",
       "      <th>std</th>\n",
       "      <th>min</th>\n",
       "      <th>25%</th>\n",
       "      <th>50%</th>\n",
       "      <th>75%</th>\n",
       "      <th>max</th>\n",
       "    </tr>\n",
       "    <tr>\n",
       "      <th>genre</th>\n",
       "      <th></th>\n",
       "      <th></th>\n",
       "      <th></th>\n",
       "      <th></th>\n",
       "      <th></th>\n",
       "      <th></th>\n",
       "      <th></th>\n",
       "      <th></th>\n",
       "    </tr>\n",
       "  </thead>\n",
       "  <tbody>\n",
       "    <tr>\n",
       "      <th>Adventure</th>\n",
       "      <td>110.0</td>\n",
       "      <td>0.108909</td>\n",
       "      <td>0.254260</td>\n",
       "      <td>0.01</td>\n",
       "      <td>0.0200</td>\n",
       "      <td>0.030</td>\n",
       "      <td>0.060</td>\n",
       "      <td>1.66</td>\n",
       "    </tr>\n",
       "    <tr>\n",
       "      <th>Puzzle</th>\n",
       "      <td>7.0</td>\n",
       "      <td>0.102857</td>\n",
       "      <td>0.170070</td>\n",
       "      <td>0.01</td>\n",
       "      <td>0.0150</td>\n",
       "      <td>0.030</td>\n",
       "      <td>0.085</td>\n",
       "      <td>0.48</td>\n",
       "    </tr>\n",
       "    <tr>\n",
       "      <th>Strategy</th>\n",
       "      <td>29.0</td>\n",
       "      <td>0.102759</td>\n",
       "      <td>0.115539</td>\n",
       "      <td>0.01</td>\n",
       "      <td>0.0200</td>\n",
       "      <td>0.050</td>\n",
       "      <td>0.140</td>\n",
       "      <td>0.52</td>\n",
       "    </tr>\n",
       "    <tr>\n",
       "      <th>Racing</th>\n",
       "      <td>42.0</td>\n",
       "      <td>0.258571</td>\n",
       "      <td>0.497342</td>\n",
       "      <td>0.01</td>\n",
       "      <td>0.0300</td>\n",
       "      <td>0.055</td>\n",
       "      <td>0.215</td>\n",
       "      <td>2.42</td>\n",
       "    </tr>\n",
       "    <tr>\n",
       "      <th>Misc</th>\n",
       "      <td>71.0</td>\n",
       "      <td>0.199577</td>\n",
       "      <td>0.286718</td>\n",
       "      <td>0.01</td>\n",
       "      <td>0.0300</td>\n",
       "      <td>0.060</td>\n",
       "      <td>0.290</td>\n",
       "      <td>1.58</td>\n",
       "    </tr>\n",
       "    <tr>\n",
       "      <th>Action</th>\n",
       "      <td>431.0</td>\n",
       "      <td>0.236961</td>\n",
       "      <td>0.525858</td>\n",
       "      <td>0.01</td>\n",
       "      <td>0.0200</td>\n",
       "      <td>0.060</td>\n",
       "      <td>0.190</td>\n",
       "      <td>4.62</td>\n",
       "    </tr>\n",
       "    <tr>\n",
       "      <th>Fighting</th>\n",
       "      <td>37.0</td>\n",
       "      <td>0.334324</td>\n",
       "      <td>0.549695</td>\n",
       "      <td>0.01</td>\n",
       "      <td>0.0400</td>\n",
       "      <td>0.090</td>\n",
       "      <td>0.330</td>\n",
       "      <td>2.78</td>\n",
       "    </tr>\n",
       "    <tr>\n",
       "      <th>Platform</th>\n",
       "      <td>28.0</td>\n",
       "      <td>0.331429</td>\n",
       "      <td>0.667387</td>\n",
       "      <td>0.01</td>\n",
       "      <td>0.0575</td>\n",
       "      <td>0.100</td>\n",
       "      <td>0.220</td>\n",
       "      <td>3.21</td>\n",
       "    </tr>\n",
       "    <tr>\n",
       "      <th>Simulation</th>\n",
       "      <td>33.0</td>\n",
       "      <td>0.228788</td>\n",
       "      <td>0.531018</td>\n",
       "      <td>0.01</td>\n",
       "      <td>0.0200</td>\n",
       "      <td>0.100</td>\n",
       "      <td>0.220</td>\n",
       "      <td>3.05</td>\n",
       "    </tr>\n",
       "    <tr>\n",
       "      <th>Role-Playing</th>\n",
       "      <td>132.0</td>\n",
       "      <td>0.422879</td>\n",
       "      <td>1.028082</td>\n",
       "      <td>0.01</td>\n",
       "      <td>0.0400</td>\n",
       "      <td>0.115</td>\n",
       "      <td>0.340</td>\n",
       "      <td>7.17</td>\n",
       "    </tr>\n",
       "    <tr>\n",
       "      <th>Sports</th>\n",
       "      <td>107.0</td>\n",
       "      <td>0.601215</td>\n",
       "      <td>1.292693</td>\n",
       "      <td>0.01</td>\n",
       "      <td>0.0450</td>\n",
       "      <td>0.120</td>\n",
       "      <td>0.495</td>\n",
       "      <td>8.58</td>\n",
       "    </tr>\n",
       "    <tr>\n",
       "      <th>Shooter</th>\n",
       "      <td>81.0</td>\n",
       "      <td>1.305309</td>\n",
       "      <td>2.227297</td>\n",
       "      <td>0.01</td>\n",
       "      <td>0.1300</td>\n",
       "      <td>0.380</td>\n",
       "      <td>1.690</td>\n",
       "      <td>14.63</td>\n",
       "    </tr>\n",
       "  </tbody>\n",
       "</table>\n",
       "</div>"
      ],
      "text/plain": [
       "              count      mean       std   min     25%    50%    75%    max\n",
       "genre                                                                     \n",
       "Adventure     110.0  0.108909  0.254260  0.01  0.0200  0.030  0.060   1.66\n",
       "Puzzle          7.0  0.102857  0.170070  0.01  0.0150  0.030  0.085   0.48\n",
       "Strategy       29.0  0.102759  0.115539  0.01  0.0200  0.050  0.140   0.52\n",
       "Racing         42.0  0.258571  0.497342  0.01  0.0300  0.055  0.215   2.42\n",
       "Misc           71.0  0.199577  0.286718  0.01  0.0300  0.060  0.290   1.58\n",
       "Action        431.0  0.236961  0.525858  0.01  0.0200  0.060  0.190   4.62\n",
       "Fighting       37.0  0.334324  0.549695  0.01  0.0400  0.090  0.330   2.78\n",
       "Platform       28.0  0.331429  0.667387  0.01  0.0575  0.100  0.220   3.21\n",
       "Simulation     33.0  0.228788  0.531018  0.01  0.0200  0.100  0.220   3.05\n",
       "Role-Playing  132.0  0.422879  1.028082  0.01  0.0400  0.115  0.340   7.17\n",
       "Sports        107.0  0.601215  1.292693  0.01  0.0450  0.120  0.495   8.58\n",
       "Shooter        81.0  1.305309  2.227297  0.01  0.1300  0.380  1.690  14.63"
      ]
     },
     "metadata": {},
     "output_type": "display_data"
    },
    {
     "data": {
      "image/png": "[encoded data removed]",
      "text/plain": [
       "<Figure size 1080x576 with 1 Axes>"
      ]
     },
     "metadata": {
      "needs_background": "light"
     },
     "output_type": "display_data"
    }
   ],
   "source": [
    "#посмотрим на стат. показатели\n",
    "display(data_actual.groupby('genre')['amount_region'].describe().sort_values(by='50%'))\n",
    "#построи даграммы размаха для жанров\n",
    "data_actual.boxplot(column='amount_region', by='genre', figsize=(15,8));\n",
    "plt.ylim(0,4 )\n",
    "plt.show()"
   ]
  },
  {
   "cell_type": "markdown",
   "id": "7bdc77ce",
   "metadata": {},
   "source": [
    "**Вывод:**\n",
    "\n",
    "о прибыльности жанров, можно сообщить следующее:\n",
    "- Самым окупаемым жанром (с позиции - спрос рождает предложение) является - Shooter.\n",
    "- Второе место занимает Sports экшен. \n",
    "- Третье место Role - Playing.\n",
    "\n",
    "Следующие позици почти упали вдвое. \n",
    "Как следствие можно судить, что два жанра Shooter и Sports выделяются и стабильно приносят больше прибыли, чем остальные."
   ]
  },
  {
   "cell_type": "markdown",
   "id": "4eb380d3",
   "metadata": {},
   "source": [
    "---"
   ]
  },
  {
   "cell_type": "markdown",
   "id": "b247e608",
   "metadata": {},
   "source": [
    "# Шаг 4. Портрет пользователя каждого региона"
   ]
  },
  {
   "cell_type": "markdown",
   "id": "fbfb2884",
   "metadata": {},
   "source": [
    "## Самые популярные платформы и жанры в Северной Америке."
   ]
  },
  {
   "cell_type": "markdown",
   "id": "d3afc6cb",
   "metadata": {},
   "source": [
    "<div align=\"center\"><b> жанры </b></div> "
   ]
  },
  {
   "cell_type": "code",
   "execution_count": 51,
   "id": "acaaa3bc",
   "metadata": {
    "scrolled": false
   },
   "outputs": [
    {
     "data": {
      "image/png": "[encoded data removed]",
      "text/plain": [
       "<Figure size 432x288 with 1 Axes>"
      ]
     },
     "metadata": {
      "needs_background": "light"
     },
     "output_type": "display_data"
    }
   ],
   "source": [
    "#посторим столбчатую диаграмму\n",
    "data_actual.pivot_table(index= 'genre', values = 'na_sales', aggfunc= 'sum')\\\n",
    ".sort_values(by='na_sales', ascending = False)\\\n",
    ".head(5)\\\n",
    ".plot(kind = 'bar', grid = True);"
   ]
  },
  {
   "cell_type": "markdown",
   "id": "7cb530ae",
   "metadata": {},
   "source": [
    "<div align=\"center\"><b> доля продаж от жанров</b></div> "
   ]
  },
  {
   "cell_type": "code",
   "execution_count": 52,
   "id": "966e4f3e",
   "metadata": {},
   "outputs": [
    {
     "data": {
      "text/plain": [
       "genre\n",
       "Shooter         45.568902\n",
       "Fighting        44.785772\n",
       "Sports          40.898492\n",
       "Platform        40.732759\n",
       "Misc            39.378970\n",
       "Role-Playing    35.506987\n",
       "Action          32.977578\n",
       "Adventure       32.053422\n",
       "Strategy        27.516779\n",
       "Racing          25.966851\n",
       "Simulation      18.013245\n",
       "Puzzle           8.333333\n",
       "dtype: float64"
      ]
     },
     "execution_count": 52,
     "metadata": {},
     "output_type": "execute_result"
    }
   ],
   "source": [
    "na_sales_genre = data_actual.groupby('genre')['na_sales'].sum()\n",
    "\n",
    "#сгруппируем данные полной таблицы и поделим ее на данные актуальной таблицы \n",
    "full_genre = data_actual.groupby('genre')['amount_region'].sum() #.sort_values(ascending=False)\n",
    "#вычислим процентное соотношение\n",
    "share_genreNA = na_sales_genre / full_genre * 100\n",
    "\n",
    "share_genreNA.sort_values(ascending=False)"
   ]
  },
  {
   "cell_type": "markdown",
   "id": "7b308121",
   "metadata": {},
   "source": [
    "Вывод: в данном случае, мы видим , что в Северной Америке прогрессируют жанры \n",
    "- Шутер (48), \n",
    "- Экшн (33) , \n",
    "- Спорт (26),\n",
    "- Role-Playing (19),\n",
    "- Misc (5)"
   ]
  },
  {
   "cell_type": "markdown",
   "id": "28c6ef02",
   "metadata": {},
   "source": [
    "<div align=\"center\"><b> платформы </b></div> "
   ]
  },
  {
   "cell_type": "code",
   "execution_count": 53,
   "id": "e710067c",
   "metadata": {},
   "outputs": [
    {
     "data": {
      "image/png": "[encoded data removed]",
      "text/plain": [
       "<Figure size 432x288 with 1 Axes>"
      ]
     },
     "metadata": {
      "needs_background": "light"
     },
     "output_type": "display_data"
    }
   ],
   "source": [
    "#посторим столбчатую диаграмму\n",
    "data_actual.pivot_table(index= 'platform', values = 'na_sales', aggfunc= 'sum')\\\n",
    ".sort_values(by='na_sales', ascending = False)\\\n",
    ".head(5)\\\n",
    ".plot(kind = 'bar', grid = True);"
   ]
  },
  {
   "cell_type": "markdown",
   "id": "0fdb6457",
   "metadata": {},
   "source": [
    "<div align=\"center\"><b> доля продаж от платформ</b></div> "
   ]
  },
  {
   "cell_type": "code",
   "execution_count": 54,
   "id": "f62b903b",
   "metadata": {},
   "outputs": [
    {
     "data": {
      "text/plain": [
       "platform\n",
       "X360    59.718101\n",
       "XOne    58.291807\n",
       "WiiU    42.291169\n",
       "Wii     37.121212\n",
       "PS4     33.941005\n",
       "PS3     27.717924\n",
       "PC      27.015251\n",
       "3DS     24.021435\n",
       "PSV      5.142857\n",
       "PSP      0.000000\n",
       "dtype: float64"
      ]
     },
     "execution_count": 54,
     "metadata": {},
     "output_type": "execute_result"
    }
   ],
   "source": [
    "na_sales_platform = data_actual.groupby('platform')['na_sales'].sum()\n",
    "\n",
    "#сгруппируем данные полной таблицы и поделим ее на данные актуальной таблицы \n",
    "full_platform = data_actual.groupby('platform')['amount_region'].sum() #.sort_values(ascending=False)\n",
    "#вычислим процентное соотношение\n",
    "share_platformNA = na_sales_platform / full_platform * 100\n",
    "\n",
    "share_platformNA.sort_values(ascending=False)"
   ]
  },
  {
   "cell_type": "markdown",
   "id": "0881d86a",
   "metadata": {},
   "source": [
    "Вывод: в данном случае, мы видим , что в Северной Америке прогрессируют платформы:\n",
    "- PS4 (63), \n",
    "- XOne (50) , \n",
    "- 3DS (10),\n",
    "- WiiU (8),\n",
    "- X360 (8)"
   ]
  },
  {
   "cell_type": "markdown",
   "id": "e06234d7",
   "metadata": {},
   "source": [
    "## Самые популярные платформы и жанры в Европе."
   ]
  },
  {
   "cell_type": "markdown",
   "id": "84eb2df8",
   "metadata": {},
   "source": [
    "<div align=\"center\"><b> жанры </b></div> "
   ]
  },
  {
   "cell_type": "code",
   "execution_count": 55,
   "id": "69eed1e9",
   "metadata": {},
   "outputs": [
    {
     "data": {
      "image/png": "[encoded data removed]",
      "text/plain": [
       "<Figure size 432x288 with 1 Axes>"
      ]
     },
     "metadata": {
      "needs_background": "light"
     },
     "output_type": "display_data"
    }
   ],
   "source": [
    "data_actual.pivot_table(index= 'genre', values = 'eu_sales', aggfunc= 'sum')\\\n",
    ".sort_values(by='eu_sales', ascending = False)\\\n",
    ".head(5)\\\n",
    ".plot(kind = 'bar', grid = True);"
   ]
  },
  {
   "cell_type": "markdown",
   "id": "9c078c0e",
   "metadata": {},
   "source": [
    "<div align=\"center\"><b> доля продаж от жанров</b></div> "
   ]
  },
  {
   "cell_type": "code",
   "execution_count": 56,
   "id": "ac9ecae3",
   "metadata": {},
   "outputs": [
    {
     "data": {
      "text/plain": [
       "genre\n",
       "Action          34.093802\n",
       "Adventure       38.981636\n",
       "Fighting        30.072757\n",
       "Misc            30.063514\n",
       "Platform        34.482759\n",
       "Puzzle          18.055556\n",
       "Racing          60.036832\n",
       "Role-Playing    30.831243\n",
       "Shooter         38.097040\n",
       "Simulation      49.536424\n",
       "Sports          43.245764\n",
       "Strategy        52.684564\n",
       "dtype: float64"
      ]
     },
     "execution_count": 56,
     "metadata": {},
     "output_type": "execute_result"
    }
   ],
   "source": [
    "eu_sales_genre = data_actual.groupby('genre')['eu_sales'].sum()\n",
    "\n",
    "#сгруппируем данные полной таблицы и поделим ее на данные актуальной таблицы \n",
    "full_genre = data_actual.groupby('genre')['amount_region'].sum()\n",
    "#вычислим процентное соотношение\n",
    "share_genreEU = eu_sales_genre / full_genre * 100\n",
    "\n",
    "share_genreEU"
   ]
  },
  {
   "cell_type": "markdown",
   "id": "4c87a7b4",
   "metadata": {},
   "source": [
    "Вывод: в данном случае, мы видим , что в Северной Америке прогрессируют жанры \n",
    "- Шутер (40), \n",
    "- Экшн (34) , \n",
    "- Спорт (27),\n",
    "- Role-Playing (17),\n",
    "- Racing (6)"
   ]
  },
  {
   "cell_type": "markdown",
   "id": "9bbb63fb",
   "metadata": {},
   "source": [
    "<div align=\"center\"><b> платформы </b></div> "
   ]
  },
  {
   "cell_type": "code",
   "execution_count": 57,
   "id": "66796f6b",
   "metadata": {},
   "outputs": [
    {
     "data": {
      "image/png": "[encoded data removed]",
      "text/plain": [
       "<Figure size 432x288 with 1 Axes>"
      ]
     },
     "metadata": {
      "needs_background": "light"
     },
     "output_type": "display_data"
    }
   ],
   "source": [
    "data_actual.pivot_table(index= 'platform', values = 'eu_sales', aggfunc= 'sum')\\\n",
    ".sort_values(by='eu_sales', ascending = False)\\\n",
    ".head(5)\\\n",
    ".plot(kind = 'bar', grid = True);"
   ]
  },
  {
   "cell_type": "markdown",
   "id": "df7b8084",
   "metadata": {},
   "source": [
    "<div align=\"center\"><b> доля продаж от платформ</b></div> "
   ]
  },
  {
   "cell_type": "code",
   "execution_count": 58,
   "id": "28ca6990",
   "metadata": {},
   "outputs": [
    {
     "data": {
      "text/plain": [
       "platform\n",
       "PC      66.085694\n",
       "Wii     55.303030\n",
       "PS4     44.400744\n",
       "PS3     35.749265\n",
       "XOne    32.564608\n",
       "X360    31.231454\n",
       "WiiU    30.978520\n",
       "3DS     17.218080\n",
       "PSV     10.285714\n",
       "PSP      0.000000\n",
       "dtype: float64"
      ]
     },
     "execution_count": 58,
     "metadata": {},
     "output_type": "execute_result"
    }
   ],
   "source": [
    "eu_sales_platform = data_actual.groupby('platform')['eu_sales'].sum()\n",
    "\n",
    "#сгруппируем данные полной таблицы и поделим ее на данные актуальной таблицы \n",
    "full_platform = data_actual.groupby('platform')['amount_region'].sum() #.sort_values(ascending=False)\n",
    "#вычислим процентное соотношение\n",
    "share_platformEU = eu_sales_platform / full_platform * 100\n",
    "\n",
    "share_platformEU.sort_values(ascending=False)"
   ]
  },
  {
   "cell_type": "markdown",
   "id": "1f51bcc8",
   "metadata": {},
   "source": [
    "Вывод: в данном случае, мы видим , что в Северной Америке прогрессируют платформы:\n",
    "- PS4 (83), \n",
    "- XOne (28) , \n",
    "- PC (9),\n",
    "- 3DS (7),\n",
    "- PS3 (7)"
   ]
  },
  {
   "cell_type": "markdown",
   "id": "f49a32c9",
   "metadata": {},
   "source": [
    "## Самые популярные платформы и жанры в Японии."
   ]
  },
  {
   "cell_type": "markdown",
   "id": "5244e335",
   "metadata": {},
   "source": [
    "<div align=\"center\"><b> жанры </b></div> "
   ]
  },
  {
   "cell_type": "code",
   "execution_count": 59,
   "id": "6fc6fd44",
   "metadata": {},
   "outputs": [
    {
     "data": {
      "image/png": "[encoded data removed]",
      "text/plain": [
       "<Figure size 432x288 with 1 Axes>"
      ]
     },
     "metadata": {
      "needs_background": "light"
     },
     "output_type": "display_data"
    }
   ],
   "source": [
    "data_actual.pivot_table(index= 'genre', values = 'jp_sales', aggfunc= 'sum')\\\n",
    ".sort_values(by='jp_sales', ascending = False)\\\n",
    ".head(5)\\\n",
    ".plot(kind = 'bar', grid = True);"
   ]
  },
  {
   "cell_type": "markdown",
   "id": "ae8567a4",
   "metadata": {},
   "source": [
    "<div align=\"center\"><b> доля продаж от жанров</b></div> "
   ]
  },
  {
   "cell_type": "code",
   "execution_count": 60,
   "id": "5914949a",
   "metadata": {},
   "outputs": [
    {
     "data": {
      "text/plain": [
       "genre\n",
       "Action          22.569274\n",
       "Adventure       18.530885\n",
       "Fighting        12.449475\n",
       "Misc            22.512350\n",
       "Platform        15.301724\n",
       "Puzzle          72.222222\n",
       "Racing           2.670350\n",
       "Role-Playing    24.023647\n",
       "Shooter          3.584602\n",
       "Simulation      25.562914\n",
       "Sports           2.564900\n",
       "Strategy        13.087248\n",
       "dtype: float64"
      ]
     },
     "execution_count": 60,
     "metadata": {},
     "output_type": "execute_result"
    }
   ],
   "source": [
    "jp_sales_genre = data_actual.groupby('genre')['jp_sales'].sum()\n",
    "#сгруппируем данные полной таблицы и поделим ее на данные актуальной таблицы \n",
    "full_genre = data_actual.groupby('genre')['amount_region'].sum()\n",
    "#вычислим процентное соотношение\n",
    "share_genreJP = jp_sales_genre / full_genre * 100\n",
    "\n",
    "share_genreJP"
   ]
  },
  {
   "cell_type": "markdown",
   "id": "baaf9888",
   "metadata": {},
   "source": [
    "Вывод: в данном случае, мы видим , что в Северной Америке прогрессируют жанры \n",
    "- Экшн (23), \n",
    "- Role-Playing (13) , \n",
    "- Шутер (3),\n",
    "- Misc (3),\n",
    "- Adventure (2)"
   ]
  },
  {
   "cell_type": "markdown",
   "id": "8bce618b",
   "metadata": {},
   "source": [
    "<div align=\"center\"><b> платформы </b></div> "
   ]
  },
  {
   "cell_type": "code",
   "execution_count": 61,
   "id": "9aeb9a42",
   "metadata": {},
   "outputs": [
    {
     "data": {
      "image/png": "[encoded data removed]",
      "text/plain": [
       "<Figure size 432x288 with 1 Axes>"
      ]
     },
     "metadata": {
      "needs_background": "light"
     },
     "output_type": "display_data"
    }
   ],
   "source": [
    "data_actual.pivot_table(index= 'platform', values = 'jp_sales', aggfunc= 'sum')\\\n",
    ".sort_values(by='jp_sales', ascending = False)\\\n",
    ".head(5)\\\n",
    ".plot(kind = 'bar', grid = True);"
   ]
  },
  {
   "cell_type": "markdown",
   "id": "2393db5b",
   "metadata": {},
   "source": [
    "<div align=\"center\"><b> доля продаж от платформ</b></div> "
   ]
  },
  {
   "cell_type": "code",
   "execution_count": 62,
   "id": "006e0cb4",
   "metadata": {},
   "outputs": [
    {
     "data": {
      "text/plain": [
       "platform\n",
       "PSP     100.000000\n",
       "PSV      80.095238\n",
       "3DS      54.869525\n",
       "PS3      24.338883\n",
       "WiiU     19.665871\n",
       "PS4       6.404465\n",
       "XOne      0.208599\n",
       "PC        0.000000\n",
       "Wii       0.000000\n",
       "X360      0.000000\n",
       "dtype: float64"
      ]
     },
     "execution_count": 62,
     "metadata": {},
     "output_type": "execute_result"
    }
   ],
   "source": [
    "jp_sales_platform = data_actual.groupby('platform')['jp_sales'].sum()\n",
    "\n",
    "#сгруппируем данные полной таблицы и поделим ее на данные актуальной таблицы \n",
    "full_platform = data_actual.groupby('platform')['amount_region'].sum() #.sort_values(ascending=False)\n",
    "#вычислим процентное соотношение\n",
    "share_platformJP = jp_sales_platform / full_platform * 100\n",
    "\n",
    "share_platformJP.sort_values(ascending=False)"
   ]
  },
  {
   "cell_type": "markdown",
   "id": "a1f03be4",
   "metadata": {},
   "source": [
    "Вывод: в данном случае, мы видим , что в Северной Америке прогрессируют платформы:\n",
    "- 3DS (23),\n",
    "- PS4 (12), \n",
    "- PSV (8) , \n",
    "- PS3 (4),\n",
    "- WiiU (2)"
   ]
  },
  {
   "cell_type": "markdown",
   "id": "ae4c1e55",
   "metadata": {},
   "source": [
    "## Влияет ли рейтинг ESRB на продажи в отдельном регионе"
   ]
  },
  {
   "cell_type": "code",
   "execution_count": 63,
   "id": "f7d40ccf",
   "metadata": {},
   "outputs": [
    {
     "data": {
      "image/png": "[encoded data removed]",
      "text/plain": [
       "<Figure size 432x288 with 1 Axes>"
      ]
     },
     "metadata": {
      "needs_background": "light"
     },
     "output_type": "display_data"
    }
   ],
   "source": [
    "#Построим график с показателями продаж по регионам в зависимости от рейтинга  \n",
    "data_actual.pivot_table(index = 'rating', values= ['na_sales','eu_sales','jp_sales'], aggfunc = 'sum')\\\n",
    ".plot(kind ='bar', title = 'Продажи игр по рейтингу ESRB', grid = True);"
   ]
  },
  {
   "cell_type": "markdown",
   "id": "a6eb66c0",
   "metadata": {},
   "source": [
    "**Вывод:**\n",
    "- E - для всех - В Японии (5.2) данный показатель рейтинга пользуется меньшей популярностью, чем в Северной Америке (26.5), а тем более Европе (34.8). \n",
    "- E10+ - для всех от 10 лет и старше - В Северной Америке (17.8) данный показатель рейтинга пользуется большой популярностью, Европе (11.5) и Японии (4.2).\n",
    "- T — «Подросткам»: Игра подходит для лиц от 13 лет, В Северной Америке (22.8) данный показатель рейтинга пользуется большой популярностью, Европе (20.3) и Японии (7.7).\n",
    "- M — «Для взрослых», В Северной Америке (47) данный показатель рейтинга пользуется большой популярностью, Европе (45.5) и Японии (4.2).\n",
    "\n",
    "Что касается Японии, почему такое большое количество игр с неопределенным жанром? почему количество игр с неопределенным жанром в целом такое большое? Я рискну предположить, что для японского рынка видеоигр используют другую систему оценок - (СERO) Computer Entertainment Rating Organization , как может и использовать компанию при выходе на определенный рынок. В нашем датасете есть система оценок только от ESRB Entertainment Software Rating Board (ESRB).  "
   ]
  },
  {
   "cell_type": "markdown",
   "id": "0fca3861",
   "metadata": {},
   "source": [
    "---"
   ]
  },
  {
   "cell_type": "markdown",
   "id": "60990fce",
   "metadata": {},
   "source": [
    "# Шаг 5. Проверка гипотезы"
   ]
  },
  {
   "cell_type": "markdown",
   "id": "f52d4b6b",
   "metadata": {},
   "source": [
    "## Гипотеза № 1. Средние пользовательские рейтинги платформ Xbox One и PC одинаковые за актуальный период."
   ]
  },
  {
   "cell_type": "markdown",
   "id": "25892621",
   "metadata": {},
   "source": [
    "- Нулевая гипотеза - Средние пользовательские рейтинги платформ Xbox One и PC одинаковые.\n",
    "\n",
    "- Альтернативная гипотеза - Средние пользовательские рейтинги платформ Xbox One и PC не одинаковые."
   ]
  },
  {
   "cell_type": "code",
   "execution_count": 64,
   "id": "69095f45",
   "metadata": {
    "scrolled": false
   },
   "outputs": [
    {
     "name": "stdout",
     "output_type": "stream",
     "text": [
      "p-значение: 0.2946308864003345\n",
      "Не получилось отвергнуть нулевую гипотезу\n"
     ]
    }
   ],
   "source": [
    "# гипотеза о равенстве средних двух совокупностей (независимых)\n",
    "PC_1 = data_actual.loc[(data['platform'] == 'PC') & (data['user_score'] != -1)]\n",
    "XOne_1 = data_actual.loc[(data['platform'] == 'XOne') & (data['user_score'] != -1)] #_actual\n",
    "\n",
    "alpha = .05\n",
    "\n",
    "#т.к. выборки разного размера призовем параметр equal_var\n",
    "results = st.ttest_ind(PC_1['user_score'], XOne_1['user_score'], equal_var = False)\n",
    "\n",
    "print('p-значение:', results.pvalue)\n",
    "\n",
    "if results.pvalue < alpha:\n",
    "    print('Отвергаем нулевую гипотезу')\n",
    "else:\n",
    "    print('Не получилось отвергнуть нулевую гипотезу')"
   ]
  },
  {
   "cell_type": "markdown",
   "id": "6623af63",
   "metadata": {},
   "source": [
    "## Гипотеза № 2. Средние пользовательские рейтинги жанров Action (англ. «действие», экшен-игры) и Sports (англ. «спортивные соревнования») разные за актуальный период."
   ]
  },
  {
   "cell_type": "markdown",
   "id": "89e86f95",
   "metadata": {},
   "source": [
    "- Нулевая гипотеза - Средние пользовательские рейтинги платформ Xbox One и PC одинаковые.\n",
    "\n",
    "- Альтернативная гипотеза - Средние пользовательские рейтинги платформ Xbox One и PC не одинаковые."
   ]
  },
  {
   "cell_type": "code",
   "execution_count": 65,
   "id": "49f60000",
   "metadata": {
    "scrolled": true
   },
   "outputs": [
    {
     "name": "stdout",
     "output_type": "stream",
     "text": [
      "p-значение: 5.97163549920592e-10\n",
      "Отвергаем нулевую гипотезу\n"
     ]
    }
   ],
   "source": [
    "# гипотеза о равенстве средних двух совокупностей (независимых)\n",
    "Action_2 = data_actual.loc[(data['genre'] == 'Action') & (data['user_score'] != -1)]\n",
    "Sports_2 = data_actual.loc[(data['genre'] == 'Sports') & (data['user_score'] != -1)] \n",
    "\n",
    "alpha = .05\n",
    "\n",
    "#т.к. выборки разного размера призовем параметр equal_var\n",
    "results = st.ttest_ind(Action_2['user_score'], Sports_2['user_score'], equal_var = False)\n",
    "\n",
    "print('p-значение:', results.pvalue)\n",
    "\n",
    "if results.pvalue < alpha:\n",
    "    print('Отвергаем нулевую гипотезу')\n",
    "else:\n",
    "    print('Не получилось отвергнуть нулевую гипотезу')"
   ]
  },
  {
   "cell_type": "markdown",
   "id": "785922d2",
   "metadata": {},
   "source": [
    "**Вывод:**\n",
    "\n",
    "Исходя их проверки двух гипотез, выдвенем утверждения: \n",
    "- Гипотеза №1. В данном случае нулевая гипотеза является верной (т.е. cредние пользовательские рейтинги платформ Xbox One и PC одинаковые).\n",
    "- Гипотеза №2. В данном случае нулевая гипотеза является  неверной (т.е. средние пользовательские рейтинги платформ Xbox One и PC разные)."
   ]
  },
  {
   "cell_type": "markdown",
   "id": "9fd165cc",
   "metadata": {},
   "source": [
    "---"
   ]
  },
  {
   "cell_type": "markdown",
   "id": "c96a360b",
   "metadata": {},
   "source": [
    "# Шаг 6.Общий вывод"
   ]
  },
  {
   "cell_type": "markdown",
   "id": "07134ce5",
   "metadata": {},
   "source": [
    "В первом шаге. Мы открыли таблицу и познакомились с данными,  мы имеем 16 715 строк и 11 столбцов, следом определили, что типа данных всего 2: `object ` и `float`. \n",
    "\n",
    "В `45%` столбцах есть пропущенные значения.\n",
    "<blockquote><ol>   \n",
    "<li>`Critic_Score` имеет больше `51%` пропусков - больше половины. </li>\n",
    "<li>`User_Score` и `Rating` имеют по `40%` пропусков.</li>\n",
    "</ol>\n",
    "</blockquote>\n",
    "\n",
    "Следующий шаг - подготовка данных. Первым делом мы изменили наименование столбцов на нижний регистр. Следом изменили тип данных в столбцах.\n",
    "\n",
    "Изменению подверглись: \n",
    "* user_score тип `object` заменен на `float`\n",
    "* critic_score заменен на `int`\n",
    "* year_of_release тип `float` заменен на `Int`\n",
    "\n",
    "Мы пытались найти дубликаты, но их не было. \n",
    "И мы приступили к пропускам. \n",
    "\n",
    "- столбец `name` (2 пропуска удалены);\n",
    "- столбец `year_of_release` (269 пропусков удалены);\n",
    "- столбец `genre` (2 пропуска удалены);\n",
    "- столбец `user_score` (пустые значения заменены на заглушку -1);\n",
    "- столбец `critic_score` (пустые значения заменены на заглушку -1);\n",
    "- столбец `rating` (пустые значения заменены на 'no name')\n",
    "\n",
    "Далее мы создали столбец с суммой продаж по регионам \"amount_region\". \n",
    "\n",
    "Третий шаг - исследовательский анализ данных. Мы посторили график \"Распределние игр по годам\" и определили, что больше всего игр было выпущено в `2008 г.` Посмотрели изменение продаж по платформам и выявили , что больше всего игр продали на платформу `PS2`. Также мы определили актуальный период (для прогнозирования) `с 2013 по 2016г.` \n",
    "\n",
    "Из актуального периода можно определить, что топ по количеству проданных игр занимает 3 платформы:\n",
    "\n",
    "- PS4 (188 млн. покупок), \n",
    "- XOne(86 млн. покупок), \n",
    "- 3DS (42 млн. покупок).\n",
    "\n",
    "Определили победителя, платформу, по которой приобрели больше всего игр за актуальный период - `PS4.` Хоть и PS4 имеет больше выбросов,что говорит о большей популярности, XOne может похвастаться своей стибльностью в плане успешных игр. \n",
    "\n",
    "Проверили влияние на продажи оценки пользователей и критиков внутри одной популярной платформы PS4 и выявили, что оценка пользователей не влияет на продажи , а оценка критика влияет - чем больше оценка критика, тем выше цена. В платформе 3DS  как оценка киртиков так и пользователей прямо влияют на количество продаж.\n",
    "\n",
    "Сделали распеределение по жанрам и жанр - \"Action\", оказался с самым большим по количесту игр. Менее - \"Puzzle\".\n",
    "Следом посмотрели на прибыльность жанров, самый прибыльный - `Shooter`, менее прибыльный `Puzzle`и `Stranegy`. \n",
    "\n",
    "В 4 шаге, мы рассматривали популярность платаформ:\n",
    "\n",
    "* В Северной Америке\n",
    "    * PS4 (63),\n",
    "    * XOne (50),\n",
    "    * 3DS (10),\n",
    "    * WiiU (8),\n",
    "    * X360 (8)\n",
    "* В Европе\n",
    "    * PS4 (83),\n",
    "    * XOne (28),\n",
    "    * PC (9),\n",
    "    * 3DS (7),\n",
    "    * PS3 (7)\n",
    "* В Японии\n",
    "    * 3DS (23),\n",
    "    * PS4 (12),\n",
    "    * PSV (8),\n",
    "    * PS3 (4),\n",
    "    * WiiU (2) \n",
    "\n",
    "Популярность жанров:\n",
    "\n",
    "* В Северной Америке\n",
    "     * Шутер (48),\n",
    "     * Экшн (33) ,\n",
    "     * Спорт (26),\n",
    "     * Role-Playing (19),\n",
    "     * Misc (5)\n",
    "* В Европе\n",
    "     * Шутер (40),\n",
    "     * Экшн (34) ,\n",
    "     * Спорт (27),\n",
    "     * Role-Playing (17),\n",
    "     * Racing (6)\n",
    "* В Японии\n",
    "    * Экшн (23),\n",
    "    * Role-Playing (13) ,\n",
    "    * Шутер (3),\n",
    "    * Misc (3),\n",
    "    * Adventure (2)\n",
    "\n",
    "Посчитали влияние ESRB (возрастной рейтинг) на продажи. Самым популярным рейтингом можно считать М - для взрослых. И определили, что столбец 'no name' оценка неопределена относится к играм, которым проставляла оценку другая организация, например в Японии, оценкой игр занимается - СERO.\n",
    "\n",
    "В 5 шаге проверили две гипотезы. \n",
    "<blockquote><ol>   \n",
    "<li>Гипотеза № 1. Средние пользовательские рейтинги платформ Xbox One и PC одинаковые за весь период. - ПОДТВЕРДИЛАСЬ </li>\n",
    "<li>Гипотеза № 2. Средние пользовательские рейтинги жанров Action (англ. «действие», экшен-игры) и Sports (англ. «спортивные соревнования») разные за весь период. - ПОДТВЕРДИЛАСЬ</li>\n",
    "</ol>\n",
    "</blockquote>\n",
    "\n",
    "**Прогноз на 2017: основной упор во всех регионах можно делать на платформу PS4 она самая популярная, а для Японии 3DS. По жанрам - Шутер и Экшн, для Японии еще Role-Playing. Наибольшей популярность пользуется рейтинг М - для взрослых, в Японии Т - тинейджеры.**\n"
   ]
  }
 ],
 "metadata": {
  "ExecuteTimeLog": [
   {
    "duration": 1173,
    "start_time": "2022-12-18T19:47:02.423Z"
   },
   {
    "duration": 317,
    "start_time": "2022-12-18T19:47:03.598Z"
   },
   {
    "duration": 10,
    "start_time": "2022-12-18T19:47:03.916Z"
   },
   {
    "duration": 11,
    "start_time": "2022-12-18T19:47:03.928Z"
   },
   {
    "duration": 14,
    "start_time": "2022-12-18T19:47:03.941Z"
   },
   {
    "duration": 64,
    "start_time": "2022-12-18T19:47:03.956Z"
   },
   {
    "duration": 130,
    "start_time": "2022-12-18T19:47:04.021Z"
   },
   {
    "duration": 0,
    "start_time": "2022-12-18T19:47:04.153Z"
   },
   {
    "duration": 0,
    "start_time": "2022-12-18T19:47:04.154Z"
   },
   {
    "duration": 0,
    "start_time": "2022-12-18T19:47:04.155Z"
   },
   {
    "duration": 0,
    "start_time": "2022-12-18T19:47:04.156Z"
   },
   {
    "duration": 0,
    "start_time": "2022-12-18T19:47:04.157Z"
   },
   {
    "duration": 0,
    "start_time": "2022-12-18T19:47:04.158Z"
   },
   {
    "duration": 0,
    "start_time": "2022-12-18T19:47:04.159Z"
   },
   {
    "duration": 0,
    "start_time": "2022-12-18T19:47:04.160Z"
   },
   {
    "duration": 0,
    "start_time": "2022-12-18T19:47:04.161Z"
   },
   {
    "duration": 0,
    "start_time": "2022-12-18T19:47:04.162Z"
   },
   {
    "duration": 0,
    "start_time": "2022-12-18T19:47:04.163Z"
   },
   {
    "duration": 0,
    "start_time": "2022-12-18T19:47:04.164Z"
   },
   {
    "duration": 89,
    "start_time": "2022-12-18T19:48:24.828Z"
   },
   {
    "duration": 7,
    "start_time": "2022-12-18T19:48:27.509Z"
   },
   {
    "duration": 98,
    "start_time": "2022-12-18T19:48:59.601Z"
   },
   {
    "duration": 14,
    "start_time": "2022-12-18T19:49:03.285Z"
   },
   {
    "duration": 49,
    "start_time": "2022-12-18T19:49:29.431Z"
   },
   {
    "duration": 92,
    "start_time": "2022-12-18T19:49:36.189Z"
   },
   {
    "duration": 7,
    "start_time": "2022-12-18T19:49:39.854Z"
   },
   {
    "duration": 48,
    "start_time": "2022-12-18T19:49:42.981Z"
   },
   {
    "duration": 54,
    "start_time": "2022-12-18T19:51:49.006Z"
   },
   {
    "duration": 13,
    "start_time": "2022-12-18T19:51:49.063Z"
   },
   {
    "duration": 21,
    "start_time": "2022-12-18T19:51:49.078Z"
   },
   {
    "duration": 9,
    "start_time": "2022-12-18T19:51:49.100Z"
   },
   {
    "duration": 15,
    "start_time": "2022-12-18T19:51:49.111Z"
   },
   {
    "duration": 1493,
    "start_time": "2022-12-18T19:51:49.128Z"
   },
   {
    "duration": 28,
    "start_time": "2022-12-18T19:51:50.624Z"
   },
   {
    "duration": 24,
    "start_time": "2022-12-18T19:51:50.653Z"
   },
   {
    "duration": 8,
    "start_time": "2022-12-18T19:51:50.679Z"
   },
   {
    "duration": 16,
    "start_time": "2022-12-18T19:51:50.690Z"
   },
   {
    "duration": 19,
    "start_time": "2022-12-18T19:51:50.715Z"
   },
   {
    "duration": 13,
    "start_time": "2022-12-18T19:51:50.735Z"
   },
   {
    "duration": 20,
    "start_time": "2022-12-18T19:51:50.749Z"
   },
   {
    "duration": 8,
    "start_time": "2022-12-18T19:51:50.771Z"
   },
   {
    "duration": 57,
    "start_time": "2022-12-18T19:51:50.781Z"
   },
   {
    "duration": 7,
    "start_time": "2022-12-18T19:51:50.840Z"
   },
   {
    "duration": 11,
    "start_time": "2022-12-18T19:51:50.848Z"
   },
   {
    "duration": 7,
    "start_time": "2022-12-18T19:51:50.861Z"
   },
   {
    "duration": 11,
    "start_time": "2022-12-18T20:00:43.733Z"
   },
   {
    "duration": 8,
    "start_time": "2022-12-18T20:00:43.749Z"
   },
   {
    "duration": 13,
    "start_time": "2022-12-18T20:00:43.760Z"
   },
   {
    "duration": 1689,
    "start_time": "2022-12-18T20:00:43.781Z"
   },
   {
    "duration": 19,
    "start_time": "2022-12-18T20:00:45.472Z"
   },
   {
    "duration": 9,
    "start_time": "2022-12-18T20:00:45.492Z"
   },
   {
    "duration": 13,
    "start_time": "2022-12-18T20:00:45.503Z"
   },
   {
    "duration": 12,
    "start_time": "2022-12-18T20:00:45.518Z"
   },
   {
    "duration": 15,
    "start_time": "2022-12-18T20:00:45.532Z"
   },
   {
    "duration": 8,
    "start_time": "2022-12-18T20:00:45.549Z"
   },
   {
    "duration": 15,
    "start_time": "2022-12-18T20:00:45.558Z"
   },
   {
    "duration": 7,
    "start_time": "2022-12-18T20:00:45.575Z"
   },
   {
    "duration": 7,
    "start_time": "2022-12-18T20:00:45.584Z"
   },
   {
    "duration": 7,
    "start_time": "2022-12-18T20:00:45.616Z"
   },
   {
    "duration": 17,
    "start_time": "2022-12-18T20:00:45.624Z"
   },
   {
    "duration": 7,
    "start_time": "2022-12-18T20:00:45.643Z"
   },
   {
    "duration": 39,
    "start_time": "2022-12-18T20:00:45.651Z"
   },
   {
    "duration": 23,
    "start_time": "2022-12-18T20:00:45.692Z"
   },
   {
    "duration": 40,
    "start_time": "2022-12-18T20:00:45.717Z"
   },
   {
    "duration": 9,
    "start_time": "2022-12-18T20:00:45.758Z"
   },
   {
    "duration": 12,
    "start_time": "2022-12-18T20:00:45.768Z"
   },
   {
    "duration": 15,
    "start_time": "2022-12-18T20:00:45.781Z"
   },
   {
    "duration": 21,
    "start_time": "2022-12-18T20:00:45.798Z"
   },
   {
    "duration": 22,
    "start_time": "2022-12-18T20:00:45.821Z"
   },
   {
    "duration": 5,
    "start_time": "2022-12-18T20:00:45.845Z"
   },
   {
    "duration": 23,
    "start_time": "2022-12-18T20:00:45.852Z"
   },
   {
    "duration": 332,
    "start_time": "2022-12-18T20:00:45.876Z"
   },
   {
    "duration": 330,
    "start_time": "2022-12-18T20:00:46.210Z"
   },
   {
    "duration": 317,
    "start_time": "2022-12-18T20:00:46.542Z"
   },
   {
    "duration": 16,
    "start_time": "2022-12-18T20:00:46.860Z"
   },
   {
    "duration": 176,
    "start_time": "2022-12-18T20:00:46.880Z"
   },
   {
    "duration": 11,
    "start_time": "2022-12-18T20:00:47.058Z"
   },
   {
    "duration": 159,
    "start_time": "2022-12-18T20:00:47.071Z"
   },
   {
    "duration": 14,
    "start_time": "2022-12-18T20:00:47.231Z"
   },
   {
    "duration": 9,
    "start_time": "2022-12-18T20:00:47.247Z"
   },
   {
    "duration": 11,
    "start_time": "2022-12-18T20:00:47.258Z"
   },
   {
    "duration": 155,
    "start_time": "2022-12-18T20:00:47.271Z"
   },
   {
    "duration": 284,
    "start_time": "2022-12-18T20:00:47.429Z"
   },
   {
    "duration": 366,
    "start_time": "2022-12-18T20:00:47.715Z"
   },
   {
    "duration": 16,
    "start_time": "2022-12-18T20:00:48.083Z"
   },
   {
    "duration": 27,
    "start_time": "2022-12-18T20:00:48.100Z"
   },
   {
    "duration": 18,
    "start_time": "2022-12-18T20:01:26.608Z"
   },
   {
    "duration": 15,
    "start_time": "2022-12-18T20:01:50.072Z"
   },
   {
    "duration": 1065,
    "start_time": "2022-12-18T20:06:56.967Z"
   },
   {
    "duration": 91,
    "start_time": "2022-12-18T20:06:58.033Z"
   },
   {
    "duration": 11,
    "start_time": "2022-12-18T20:06:58.125Z"
   },
   {
    "duration": 12,
    "start_time": "2022-12-18T20:06:58.138Z"
   },
   {
    "duration": 9,
    "start_time": "2022-12-18T20:06:58.152Z"
   },
   {
    "duration": 69,
    "start_time": "2022-12-18T20:06:58.163Z"
   },
   {
    "duration": 112,
    "start_time": "2022-12-18T20:06:58.233Z"
   },
   {
    "duration": 0,
    "start_time": "2022-12-18T20:06:58.348Z"
   },
   {
    "duration": 0,
    "start_time": "2022-12-18T20:06:58.349Z"
   },
   {
    "duration": 0,
    "start_time": "2022-12-18T20:06:58.351Z"
   },
   {
    "duration": 0,
    "start_time": "2022-12-18T20:06:58.352Z"
   },
   {
    "duration": 0,
    "start_time": "2022-12-18T20:06:58.353Z"
   },
   {
    "duration": 0,
    "start_time": "2022-12-18T20:06:58.355Z"
   },
   {
    "duration": 0,
    "start_time": "2022-12-18T20:06:58.356Z"
   },
   {
    "duration": 0,
    "start_time": "2022-12-18T20:06:58.357Z"
   },
   {
    "duration": 0,
    "start_time": "2022-12-18T20:06:58.358Z"
   },
   {
    "duration": 0,
    "start_time": "2022-12-18T20:06:58.359Z"
   },
   {
    "duration": 0,
    "start_time": "2022-12-18T20:06:58.360Z"
   },
   {
    "duration": 0,
    "start_time": "2022-12-18T20:06:58.361Z"
   },
   {
    "duration": 0,
    "start_time": "2022-12-18T20:06:58.362Z"
   },
   {
    "duration": 0,
    "start_time": "2022-12-18T20:06:58.363Z"
   },
   {
    "duration": 0,
    "start_time": "2022-12-18T20:06:58.364Z"
   },
   {
    "duration": 0,
    "start_time": "2022-12-18T20:06:58.365Z"
   },
   {
    "duration": 0,
    "start_time": "2022-12-18T20:06:58.366Z"
   },
   {
    "duration": 0,
    "start_time": "2022-12-18T20:06:58.367Z"
   },
   {
    "duration": 0,
    "start_time": "2022-12-18T20:06:58.368Z"
   },
   {
    "duration": 0,
    "start_time": "2022-12-18T20:06:58.369Z"
   },
   {
    "duration": 0,
    "start_time": "2022-12-18T20:06:58.371Z"
   },
   {
    "duration": 0,
    "start_time": "2022-12-18T20:06:58.371Z"
   },
   {
    "duration": 0,
    "start_time": "2022-12-18T20:06:58.373Z"
   },
   {
    "duration": 0,
    "start_time": "2022-12-18T20:06:58.374Z"
   },
   {
    "duration": 0,
    "start_time": "2022-12-18T20:06:58.375Z"
   },
   {
    "duration": 0,
    "start_time": "2022-12-18T20:06:58.376Z"
   },
   {
    "duration": 0,
    "start_time": "2022-12-18T20:06:58.377Z"
   },
   {
    "duration": 0,
    "start_time": "2022-12-18T20:06:58.415Z"
   },
   {
    "duration": 0,
    "start_time": "2022-12-18T20:06:58.416Z"
   },
   {
    "duration": 0,
    "start_time": "2022-12-18T20:06:58.417Z"
   },
   {
    "duration": 0,
    "start_time": "2022-12-18T20:06:58.418Z"
   },
   {
    "duration": 0,
    "start_time": "2022-12-18T20:06:58.420Z"
   },
   {
    "duration": 0,
    "start_time": "2022-12-18T20:06:58.421Z"
   },
   {
    "duration": 0,
    "start_time": "2022-12-18T20:06:58.422Z"
   },
   {
    "duration": 0,
    "start_time": "2022-12-18T20:06:58.423Z"
   },
   {
    "duration": 0,
    "start_time": "2022-12-18T20:06:58.424Z"
   },
   {
    "duration": 0,
    "start_time": "2022-12-18T20:06:58.425Z"
   },
   {
    "duration": 0,
    "start_time": "2022-12-18T20:06:58.426Z"
   },
   {
    "duration": 0,
    "start_time": "2022-12-18T20:06:58.427Z"
   },
   {
    "duration": 0,
    "start_time": "2022-12-18T20:06:58.428Z"
   },
   {
    "duration": 0,
    "start_time": "2022-12-18T20:06:58.429Z"
   },
   {
    "duration": 0,
    "start_time": "2022-12-18T20:06:58.430Z"
   },
   {
    "duration": 0,
    "start_time": "2022-12-18T20:06:58.431Z"
   },
   {
    "duration": 0,
    "start_time": "2022-12-18T20:06:58.432Z"
   },
   {
    "duration": 0,
    "start_time": "2022-12-18T20:06:58.433Z"
   },
   {
    "duration": 0,
    "start_time": "2022-12-18T20:06:58.434Z"
   },
   {
    "duration": 0,
    "start_time": "2022-12-18T20:06:58.436Z"
   },
   {
    "duration": 0,
    "start_time": "2022-12-18T20:06:58.436Z"
   },
   {
    "duration": 0,
    "start_time": "2022-12-18T20:06:58.437Z"
   },
   {
    "duration": 0,
    "start_time": "2022-12-18T20:06:58.438Z"
   },
   {
    "duration": 0,
    "start_time": "2022-12-18T20:06:58.439Z"
   },
   {
    "duration": 0,
    "start_time": "2022-12-18T20:06:58.440Z"
   },
   {
    "duration": 46,
    "start_time": "2022-12-19T05:01:56.736Z"
   },
   {
    "duration": 1308,
    "start_time": "2022-12-19T05:02:04.322Z"
   },
   {
    "duration": 176,
    "start_time": "2022-12-19T05:02:05.632Z"
   },
   {
    "duration": 19,
    "start_time": "2022-12-19T05:02:08.170Z"
   },
   {
    "duration": 70,
    "start_time": "2022-12-19T05:04:36.276Z"
   },
   {
    "duration": 14,
    "start_time": "2022-12-19T05:05:58.702Z"
   },
   {
    "duration": 16,
    "start_time": "2022-12-19T05:06:01.095Z"
   },
   {
    "duration": 9,
    "start_time": "2022-12-19T05:06:06.405Z"
   },
   {
    "duration": 50,
    "start_time": "2022-12-19T05:06:09.366Z"
   },
   {
    "duration": 1356,
    "start_time": "2022-12-19T05:06:17.409Z"
   },
   {
    "duration": 19,
    "start_time": "2022-12-19T05:06:24.372Z"
   },
   {
    "duration": 8,
    "start_time": "2022-12-19T05:06:26.636Z"
   },
   {
    "duration": 5,
    "start_time": "2022-12-19T05:06:29.178Z"
   },
   {
    "duration": 13,
    "start_time": "2022-12-19T05:06:30.236Z"
   },
   {
    "duration": 16,
    "start_time": "2022-12-19T05:06:33.977Z"
   },
   {
    "duration": 3,
    "start_time": "2022-12-19T05:06:39.867Z"
   },
   {
    "duration": 195,
    "start_time": "2022-12-19T05:06:39.881Z"
   },
   {
    "duration": 15,
    "start_time": "2022-12-19T05:06:40.078Z"
   },
   {
    "duration": 18,
    "start_time": "2022-12-19T05:06:40.094Z"
   },
   {
    "duration": 10,
    "start_time": "2022-12-19T05:06:40.115Z"
   },
   {
    "duration": 22,
    "start_time": "2022-12-19T05:06:40.126Z"
   },
   {
    "duration": 1412,
    "start_time": "2022-12-19T05:06:40.150Z"
   },
   {
    "duration": 19,
    "start_time": "2022-12-19T05:06:41.564Z"
   },
   {
    "duration": 11,
    "start_time": "2022-12-19T05:06:41.585Z"
   },
   {
    "duration": 7,
    "start_time": "2022-12-19T05:06:41.597Z"
   },
   {
    "duration": 13,
    "start_time": "2022-12-19T05:06:41.621Z"
   },
   {
    "duration": 16,
    "start_time": "2022-12-19T05:06:41.636Z"
   },
   {
    "duration": 9,
    "start_time": "2022-12-19T05:06:41.654Z"
   },
   {
    "duration": 17,
    "start_time": "2022-12-19T05:06:41.665Z"
   },
   {
    "duration": 39,
    "start_time": "2022-12-19T05:06:41.683Z"
   },
   {
    "duration": 188,
    "start_time": "2022-12-19T05:06:41.724Z"
   },
   {
    "duration": 12,
    "start_time": "2022-12-19T05:06:41.913Z"
   },
   {
    "duration": 9,
    "start_time": "2022-12-19T05:06:41.927Z"
   },
   {
    "duration": 5,
    "start_time": "2022-12-19T05:06:41.938Z"
   },
   {
    "duration": 36,
    "start_time": "2022-12-19T05:06:41.945Z"
   },
   {
    "duration": 6,
    "start_time": "2022-12-19T05:06:41.983Z"
   },
   {
    "duration": 65,
    "start_time": "2022-12-19T05:06:41.991Z"
   },
   {
    "duration": 8,
    "start_time": "2022-12-19T05:06:42.058Z"
   },
   {
    "duration": 8,
    "start_time": "2022-12-19T05:06:42.067Z"
   },
   {
    "duration": 12,
    "start_time": "2022-12-19T05:06:42.077Z"
   },
   {
    "duration": 32,
    "start_time": "2022-12-19T05:06:42.091Z"
   },
   {
    "duration": 26,
    "start_time": "2022-12-19T05:06:42.125Z"
   },
   {
    "duration": 7,
    "start_time": "2022-12-19T05:06:42.152Z"
   },
   {
    "duration": 13,
    "start_time": "2022-12-19T05:06:42.163Z"
   },
   {
    "duration": 335,
    "start_time": "2022-12-19T05:06:42.178Z"
   },
   {
    "duration": 298,
    "start_time": "2022-12-19T05:06:42.514Z"
   },
   {
    "duration": 320,
    "start_time": "2022-12-19T05:06:42.814Z"
   },
   {
    "duration": 17,
    "start_time": "2022-12-19T05:06:43.136Z"
   },
   {
    "duration": 193,
    "start_time": "2022-12-19T05:06:43.154Z"
   },
   {
    "duration": 12,
    "start_time": "2022-12-19T05:06:43.348Z"
   },
   {
    "duration": 164,
    "start_time": "2022-12-19T05:06:43.362Z"
   },
   {
    "duration": 13,
    "start_time": "2022-12-19T05:06:43.527Z"
   },
   {
    "duration": 8,
    "start_time": "2022-12-19T05:06:43.541Z"
   },
   {
    "duration": 12,
    "start_time": "2022-12-19T05:06:43.551Z"
   },
   {
    "duration": 154,
    "start_time": "2022-12-19T05:06:43.565Z"
   },
   {
    "duration": 156,
    "start_time": "2022-12-19T05:06:43.721Z"
   },
   {
    "duration": 559,
    "start_time": "2022-12-19T05:06:43.879Z"
   },
   {
    "duration": 11,
    "start_time": "2022-12-19T05:06:44.440Z"
   },
   {
    "duration": 38,
    "start_time": "2022-12-19T05:06:44.452Z"
   },
   {
    "duration": 149,
    "start_time": "2022-12-19T05:06:44.492Z"
   },
   {
    "duration": 8,
    "start_time": "2022-12-19T05:06:44.643Z"
   },
   {
    "duration": 144,
    "start_time": "2022-12-19T05:06:44.653Z"
   },
   {
    "duration": 9,
    "start_time": "2022-12-19T05:06:44.798Z"
   },
   {
    "duration": 152,
    "start_time": "2022-12-19T05:06:44.809Z"
   },
   {
    "duration": 9,
    "start_time": "2022-12-19T05:06:44.962Z"
   },
   {
    "duration": 152,
    "start_time": "2022-12-19T05:06:44.972Z"
   },
   {
    "duration": 9,
    "start_time": "2022-12-19T05:06:45.125Z"
   },
   {
    "duration": 143,
    "start_time": "2022-12-19T05:06:45.136Z"
   },
   {
    "duration": 10,
    "start_time": "2022-12-19T05:06:45.280Z"
   },
   {
    "duration": 131,
    "start_time": "2022-12-19T05:06:45.291Z"
   },
   {
    "duration": 8,
    "start_time": "2022-12-19T05:06:45.423Z"
   },
   {
    "duration": 169,
    "start_time": "2022-12-19T05:06:45.432Z"
   },
   {
    "duration": 78,
    "start_time": "2022-12-19T05:06:45.603Z"
   },
   {
    "duration": 0,
    "start_time": "2022-12-19T05:06:45.683Z"
   },
   {
    "duration": 4,
    "start_time": "2022-12-19T05:08:18.530Z"
   },
   {
    "duration": 5,
    "start_time": "2022-12-19T05:08:19.175Z"
   },
   {
    "duration": 4,
    "start_time": "2022-12-19T05:08:31.019Z"
   },
   {
    "duration": 5,
    "start_time": "2022-12-19T05:08:31.642Z"
   },
   {
    "duration": 4,
    "start_time": "2022-12-19T05:10:04.528Z"
   },
   {
    "duration": 3,
    "start_time": "2022-12-19T05:10:16.030Z"
   },
   {
    "duration": 185,
    "start_time": "2022-12-19T05:10:16.037Z"
   },
   {
    "duration": 13,
    "start_time": "2022-12-19T05:10:16.223Z"
   },
   {
    "duration": 15,
    "start_time": "2022-12-19T05:10:16.238Z"
   },
   {
    "duration": 9,
    "start_time": "2022-12-19T05:10:16.255Z"
   },
   {
    "duration": 15,
    "start_time": "2022-12-19T05:10:16.266Z"
   },
   {
    "duration": 1407,
    "start_time": "2022-12-19T05:10:16.283Z"
   },
   {
    "duration": 18,
    "start_time": "2022-12-19T05:10:17.692Z"
   },
   {
    "duration": 8,
    "start_time": "2022-12-19T05:10:17.722Z"
   },
   {
    "duration": 8,
    "start_time": "2022-12-19T05:10:17.731Z"
   },
   {
    "duration": 14,
    "start_time": "2022-12-19T05:10:17.742Z"
   },
   {
    "duration": 14,
    "start_time": "2022-12-19T05:10:17.758Z"
   },
   {
    "duration": 9,
    "start_time": "2022-12-19T05:10:17.773Z"
   },
   {
    "duration": 47,
    "start_time": "2022-12-19T05:10:17.783Z"
   },
   {
    "duration": 12,
    "start_time": "2022-12-19T05:10:17.831Z"
   },
   {
    "duration": 25,
    "start_time": "2022-12-19T05:10:17.845Z"
   },
   {
    "duration": 7,
    "start_time": "2022-12-19T05:10:17.872Z"
   },
   {
    "duration": 23,
    "start_time": "2022-12-19T05:10:17.880Z"
   },
   {
    "duration": 18,
    "start_time": "2022-12-19T05:10:17.904Z"
   },
   {
    "duration": 4,
    "start_time": "2022-12-19T05:10:17.924Z"
   },
   {
    "duration": 7,
    "start_time": "2022-12-19T05:10:17.929Z"
   },
   {
    "duration": 13,
    "start_time": "2022-12-19T05:10:17.937Z"
   },
   {
    "duration": 10,
    "start_time": "2022-12-19T05:10:17.952Z"
   },
   {
    "duration": 5,
    "start_time": "2022-12-19T05:10:44.114Z"
   },
   {
    "duration": 11,
    "start_time": "2022-12-19T05:10:46.455Z"
   },
   {
    "duration": 8,
    "start_time": "2022-12-19T05:11:01.086Z"
   },
   {
    "duration": 15,
    "start_time": "2022-12-19T05:11:03.188Z"
   },
   {
    "duration": 9,
    "start_time": "2022-12-19T05:13:41.138Z"
   },
   {
    "duration": 7,
    "start_time": "2022-12-19T05:13:43.912Z"
   },
   {
    "duration": 14,
    "start_time": "2022-12-19T05:13:44.826Z"
   },
   {
    "duration": 5,
    "start_time": "2022-12-19T05:13:53.968Z"
   },
   {
    "duration": 23,
    "start_time": "2022-12-19T05:13:55.106Z"
   },
   {
    "duration": 7,
    "start_time": "2022-12-19T05:14:04.150Z"
   },
   {
    "duration": 14,
    "start_time": "2022-12-19T05:14:09.334Z"
   },
   {
    "duration": 333,
    "start_time": "2022-12-19T05:14:18.432Z"
   },
   {
    "duration": 6,
    "start_time": "2022-12-19T05:15:15.568Z"
   },
   {
    "duration": 25,
    "start_time": "2022-12-19T05:20:31.203Z"
   },
   {
    "duration": 5,
    "start_time": "2022-12-19T05:20:47.069Z"
   },
   {
    "duration": 137,
    "start_time": "2022-12-19T05:20:47.078Z"
   },
   {
    "duration": 16,
    "start_time": "2022-12-19T05:20:47.217Z"
   },
   {
    "duration": 15,
    "start_time": "2022-12-19T05:20:47.234Z"
   },
   {
    "duration": 9,
    "start_time": "2022-12-19T05:20:47.251Z"
   },
   {
    "duration": 15,
    "start_time": "2022-12-19T05:20:47.261Z"
   },
   {
    "duration": 1490,
    "start_time": "2022-12-19T05:20:47.277Z"
   },
   {
    "duration": 18,
    "start_time": "2022-12-19T05:20:48.769Z"
   },
   {
    "duration": 14,
    "start_time": "2022-12-19T05:20:48.788Z"
   },
   {
    "duration": 13,
    "start_time": "2022-12-19T05:20:48.803Z"
   },
   {
    "duration": 21,
    "start_time": "2022-12-19T05:20:48.817Z"
   },
   {
    "duration": 14,
    "start_time": "2022-12-19T05:20:48.840Z"
   },
   {
    "duration": 9,
    "start_time": "2022-12-19T05:20:48.856Z"
   },
   {
    "duration": 16,
    "start_time": "2022-12-19T05:20:48.866Z"
   },
   {
    "duration": 9,
    "start_time": "2022-12-19T05:20:48.883Z"
   },
   {
    "duration": 49,
    "start_time": "2022-12-19T05:20:48.895Z"
   },
   {
    "duration": 8,
    "start_time": "2022-12-19T05:20:48.947Z"
   },
   {
    "duration": 11,
    "start_time": "2022-12-19T05:20:48.957Z"
   },
   {
    "duration": 7,
    "start_time": "2022-12-19T05:20:48.970Z"
   },
   {
    "duration": 5,
    "start_time": "2022-12-19T05:20:48.978Z"
   },
   {
    "duration": 8,
    "start_time": "2022-12-19T05:20:48.985Z"
   },
   {
    "duration": 30,
    "start_time": "2022-12-19T05:20:48.995Z"
   },
   {
    "duration": 9,
    "start_time": "2022-12-19T05:20:49.027Z"
   },
   {
    "duration": 9,
    "start_time": "2022-12-19T05:20:49.037Z"
   },
   {
    "duration": 15,
    "start_time": "2022-12-19T05:20:49.048Z"
   },
   {
    "duration": 5,
    "start_time": "2022-12-19T05:20:49.064Z"
   },
   {
    "duration": 62,
    "start_time": "2022-12-19T05:20:49.071Z"
   },
   {
    "duration": 6,
    "start_time": "2022-12-19T05:20:49.134Z"
   },
   {
    "duration": 20,
    "start_time": "2022-12-19T05:20:49.142Z"
   },
   {
    "duration": 25,
    "start_time": "2022-12-19T05:20:49.164Z"
   },
   {
    "duration": 321,
    "start_time": "2022-12-19T05:21:29.251Z"
   },
   {
    "duration": 22,
    "start_time": "2022-12-19T05:21:37.861Z"
   },
   {
    "duration": 19,
    "start_time": "2022-12-19T05:22:09.969Z"
   },
   {
    "duration": 287,
    "start_time": "2022-12-19T05:34:41.736Z"
   },
   {
    "duration": 19,
    "start_time": "2022-12-19T05:45:25.271Z"
   },
   {
    "duration": 179,
    "start_time": "2022-12-19T05:45:34.947Z"
   },
   {
    "duration": 16,
    "start_time": "2022-12-19T05:45:57.437Z"
   },
   {
    "duration": 18,
    "start_time": "2022-12-19T05:46:07.210Z"
   },
   {
    "duration": 18,
    "start_time": "2022-12-19T05:53:17.835Z"
   },
   {
    "duration": 28,
    "start_time": "2022-12-19T05:57:19.173Z"
   },
   {
    "duration": 19,
    "start_time": "2022-12-19T05:58:32.120Z"
   },
   {
    "duration": 78,
    "start_time": "2022-12-19T05:59:00.237Z"
   },
   {
    "duration": 415,
    "start_time": "2022-12-19T05:59:09.733Z"
   },
   {
    "duration": 300,
    "start_time": "2022-12-19T05:59:32.682Z"
   },
   {
    "duration": 25,
    "start_time": "2022-12-19T06:00:20.715Z"
   },
   {
    "duration": 277,
    "start_time": "2022-12-19T06:01:03.095Z"
   },
   {
    "duration": 279,
    "start_time": "2022-12-19T06:42:04.014Z"
   },
   {
    "duration": 85,
    "start_time": "2022-12-19T06:47:06.092Z"
   },
   {
    "duration": 19,
    "start_time": "2022-12-19T06:48:04.522Z"
   },
   {
    "duration": 21,
    "start_time": "2022-12-19T06:48:42.297Z"
   },
   {
    "duration": 28,
    "start_time": "2022-12-19T06:48:47.215Z"
   },
   {
    "duration": 32,
    "start_time": "2022-12-19T06:49:44.875Z"
   },
   {
    "duration": 36,
    "start_time": "2022-12-19T06:52:39.606Z"
   },
   {
    "duration": 320,
    "start_time": "2022-12-19T06:53:10.530Z"
   },
   {
    "duration": 15,
    "start_time": "2022-12-19T06:54:20.618Z"
   },
   {
    "duration": 76,
    "start_time": "2022-12-19T06:56:57.680Z"
   },
   {
    "duration": 228,
    "start_time": "2022-12-19T07:08:37.232Z"
   },
   {
    "duration": 119,
    "start_time": "2022-12-19T07:10:59.542Z"
   },
   {
    "duration": 183,
    "start_time": "2022-12-19T07:11:09.053Z"
   },
   {
    "duration": 25,
    "start_time": "2022-12-19T07:11:28.067Z"
   },
   {
    "duration": 238,
    "start_time": "2022-12-19T07:11:43.867Z"
   },
   {
    "duration": 85,
    "start_time": "2022-12-19T07:14:22.244Z"
   },
   {
    "duration": 23,
    "start_time": "2022-12-19T07:14:29.415Z"
   },
   {
    "duration": 308,
    "start_time": "2022-12-19T07:14:46.098Z"
   },
   {
    "duration": 23,
    "start_time": "2022-12-19T07:14:54.717Z"
   },
   {
    "duration": 12,
    "start_time": "2022-12-19T07:16:23.630Z"
   },
   {
    "duration": 14,
    "start_time": "2022-12-19T07:16:43.417Z"
   },
   {
    "duration": 163,
    "start_time": "2022-12-19T07:16:54.803Z"
   },
   {
    "duration": 232,
    "start_time": "2022-12-19T07:19:43.761Z"
   },
   {
    "duration": 227,
    "start_time": "2022-12-19T07:20:22.684Z"
   },
   {
    "duration": 215,
    "start_time": "2022-12-19T07:28:52.471Z"
   },
   {
    "duration": 112,
    "start_time": "2022-12-19T07:33:58.498Z"
   },
   {
    "duration": 117,
    "start_time": "2022-12-19T08:17:08.559Z"
   },
   {
    "duration": 266,
    "start_time": "2022-12-19T08:17:19.711Z"
   },
   {
    "duration": 159,
    "start_time": "2022-12-19T08:17:28.873Z"
   },
   {
    "duration": 174,
    "start_time": "2022-12-19T08:26:03.308Z"
   },
   {
    "duration": 172,
    "start_time": "2022-12-19T08:26:16.139Z"
   },
   {
    "duration": 208,
    "start_time": "2022-12-19T08:26:53.918Z"
   },
   {
    "duration": 169,
    "start_time": "2022-12-19T08:27:12.519Z"
   },
   {
    "duration": 34,
    "start_time": "2022-12-19T08:33:30.724Z"
   },
   {
    "duration": 10,
    "start_time": "2022-12-19T08:33:51.898Z"
   },
   {
    "duration": 87,
    "start_time": "2022-12-19T08:37:16.541Z"
   },
   {
    "duration": 5,
    "start_time": "2022-12-19T08:38:17.652Z"
   },
   {
    "duration": 14,
    "start_time": "2022-12-19T08:38:22.368Z"
   },
   {
    "duration": 147,
    "start_time": "2022-12-19T08:38:26.751Z"
   },
   {
    "duration": 156,
    "start_time": "2022-12-19T08:38:29.937Z"
   },
   {
    "duration": 4,
    "start_time": "2022-12-19T08:38:45.137Z"
   },
   {
    "duration": 254,
    "start_time": "2022-12-19T08:38:45.147Z"
   },
   {
    "duration": 15,
    "start_time": "2022-12-19T08:38:45.403Z"
   },
   {
    "duration": 17,
    "start_time": "2022-12-19T08:38:45.419Z"
   },
   {
    "duration": 8,
    "start_time": "2022-12-19T08:38:45.438Z"
   },
   {
    "duration": 15,
    "start_time": "2022-12-19T08:38:45.448Z"
   },
   {
    "duration": 1501,
    "start_time": "2022-12-19T08:38:45.465Z"
   },
   {
    "duration": 19,
    "start_time": "2022-12-19T08:38:46.967Z"
   },
   {
    "duration": 9,
    "start_time": "2022-12-19T08:38:46.988Z"
   },
   {
    "duration": 6,
    "start_time": "2022-12-19T08:38:46.999Z"
   },
   {
    "duration": 28,
    "start_time": "2022-12-19T08:38:47.007Z"
   },
   {
    "duration": 15,
    "start_time": "2022-12-19T08:38:47.036Z"
   },
   {
    "duration": 9,
    "start_time": "2022-12-19T08:38:47.052Z"
   },
   {
    "duration": 16,
    "start_time": "2022-12-19T08:38:47.063Z"
   },
   {
    "duration": 7,
    "start_time": "2022-12-19T08:38:47.081Z"
   },
   {
    "duration": 54,
    "start_time": "2022-12-19T08:38:47.089Z"
   },
   {
    "duration": 11,
    "start_time": "2022-12-19T08:38:47.145Z"
   },
   {
    "duration": 10,
    "start_time": "2022-12-19T08:38:47.158Z"
   },
   {
    "duration": 8,
    "start_time": "2022-12-19T08:38:47.169Z"
   },
   {
    "duration": 6,
    "start_time": "2022-12-19T08:38:47.179Z"
   },
   {
    "duration": 6,
    "start_time": "2022-12-19T08:38:47.186Z"
   },
   {
    "duration": 30,
    "start_time": "2022-12-19T08:38:47.194Z"
   },
   {
    "duration": 12,
    "start_time": "2022-12-19T08:38:47.226Z"
   },
   {
    "duration": 11,
    "start_time": "2022-12-19T08:38:47.239Z"
   },
   {
    "duration": 13,
    "start_time": "2022-12-19T08:38:47.251Z"
   },
   {
    "duration": 5,
    "start_time": "2022-12-19T08:38:47.265Z"
   },
   {
    "duration": 25,
    "start_time": "2022-12-19T08:38:47.271Z"
   },
   {
    "duration": 28,
    "start_time": "2022-12-19T08:38:47.297Z"
   },
   {
    "duration": 15,
    "start_time": "2022-12-19T08:38:47.328Z"
   },
   {
    "duration": 361,
    "start_time": "2022-12-19T08:38:47.345Z"
   },
   {
    "duration": 362,
    "start_time": "2022-12-19T08:38:47.708Z"
   },
   {
    "duration": 308,
    "start_time": "2022-12-19T08:38:48.072Z"
   },
   {
    "duration": 465,
    "start_time": "2022-12-19T08:38:48.382Z"
   },
   {
    "duration": 17,
    "start_time": "2022-12-19T08:38:48.849Z"
   },
   {
    "duration": 202,
    "start_time": "2022-12-19T08:38:48.867Z"
   },
   {
    "duration": 253,
    "start_time": "2022-12-19T08:38:49.071Z"
   },
   {
    "duration": 168,
    "start_time": "2022-12-19T08:38:49.326Z"
   },
   {
    "duration": 167,
    "start_time": "2022-12-19T08:38:49.496Z"
   },
   {
    "duration": 9,
    "start_time": "2022-12-19T08:38:49.665Z"
   },
   {
    "duration": 7,
    "start_time": "2022-12-19T08:38:49.676Z"
   },
   {
    "duration": 14,
    "start_time": "2022-12-19T08:38:49.685Z"
   },
   {
    "duration": 162,
    "start_time": "2022-12-19T08:38:49.701Z"
   },
   {
    "duration": 139,
    "start_time": "2022-12-19T08:38:49.865Z"
   },
   {
    "duration": 158,
    "start_time": "2022-12-19T08:39:38.903Z"
   },
   {
    "duration": 155,
    "start_time": "2022-12-19T08:39:48.016Z"
   },
   {
    "duration": 239,
    "start_time": "2022-12-19T08:39:54.621Z"
   },
   {
    "duration": 153,
    "start_time": "2022-12-19T08:40:02.846Z"
   },
   {
    "duration": 149,
    "start_time": "2022-12-19T08:40:15.608Z"
   },
   {
    "duration": 161,
    "start_time": "2022-12-19T08:40:20.518Z"
   },
   {
    "duration": 151,
    "start_time": "2022-12-19T08:40:22.625Z"
   },
   {
    "duration": 167,
    "start_time": "2022-12-19T08:40:39.726Z"
   },
   {
    "duration": 165,
    "start_time": "2022-12-19T08:40:51.120Z"
   },
   {
    "duration": 166,
    "start_time": "2022-12-19T08:40:58.641Z"
   },
   {
    "duration": 159,
    "start_time": "2022-12-19T08:41:05.228Z"
   },
   {
    "duration": 5,
    "start_time": "2022-12-19T08:41:12.465Z"
   },
   {
    "duration": 18,
    "start_time": "2022-12-19T08:41:14.105Z"
   },
   {
    "duration": 148,
    "start_time": "2022-12-19T08:41:15.334Z"
   },
   {
    "duration": 151,
    "start_time": "2022-12-19T08:41:17.214Z"
   },
   {
    "duration": 92,
    "start_time": "2022-12-19T08:42:02.939Z"
   },
   {
    "duration": 5,
    "start_time": "2022-12-19T10:28:38.719Z"
   },
   {
    "duration": 16,
    "start_time": "2022-12-19T10:29:16.597Z"
   },
   {
    "duration": 177,
    "start_time": "2022-12-19T10:32:14.728Z"
   },
   {
    "duration": 271,
    "start_time": "2022-12-19T10:32:26.311Z"
   },
   {
    "duration": 197,
    "start_time": "2022-12-19T10:32:54.053Z"
   },
   {
    "duration": 226,
    "start_time": "2022-12-19T10:34:19.671Z"
   },
   {
    "duration": 79,
    "start_time": "2022-12-19T10:36:13.095Z"
   },
   {
    "duration": 197,
    "start_time": "2022-12-19T10:36:35.740Z"
   },
   {
    "duration": 17,
    "start_time": "2022-12-19T10:38:07.841Z"
   },
   {
    "duration": 17,
    "start_time": "2022-12-19T10:38:18.561Z"
   },
   {
    "duration": 176,
    "start_time": "2022-12-19T10:39:45.336Z"
   },
   {
    "duration": 354,
    "start_time": "2022-12-19T10:41:09.018Z"
   },
   {
    "duration": 72,
    "start_time": "2022-12-19T10:41:27.479Z"
   },
   {
    "duration": 359,
    "start_time": "2022-12-19T10:41:45.381Z"
   },
   {
    "duration": 81,
    "start_time": "2022-12-19T10:43:24.180Z"
   },
   {
    "duration": 359,
    "start_time": "2022-12-19T10:43:31.010Z"
   },
   {
    "duration": 350,
    "start_time": "2022-12-19T10:43:34.667Z"
   },
   {
    "duration": 345,
    "start_time": "2022-12-19T10:50:31.024Z"
   },
   {
    "duration": 190,
    "start_time": "2022-12-19T10:55:12.895Z"
   },
   {
    "duration": 342,
    "start_time": "2022-12-19T10:55:25.383Z"
   },
   {
    "duration": 67,
    "start_time": "2022-12-19T10:58:16.260Z"
   },
   {
    "duration": 316,
    "start_time": "2022-12-19T11:14:35.530Z"
   },
   {
    "duration": 26,
    "start_time": "2022-12-19T15:21:32.514Z"
   },
   {
    "duration": 17,
    "start_time": "2022-12-19T15:21:55.005Z"
   },
   {
    "duration": 249,
    "start_time": "2022-12-19T15:23:23.598Z"
   },
   {
    "duration": 263,
    "start_time": "2022-12-19T15:23:46.857Z"
   },
   {
    "duration": 418,
    "start_time": "2022-12-19T15:32:19.046Z"
   },
   {
    "duration": 289,
    "start_time": "2022-12-19T15:32:27.196Z"
   },
   {
    "duration": 294,
    "start_time": "2022-12-19T15:32:39.645Z"
   },
   {
    "duration": 316,
    "start_time": "2022-12-19T15:32:51.383Z"
   },
   {
    "duration": 165,
    "start_time": "2022-12-19T15:36:50.173Z"
   },
   {
    "duration": 10,
    "start_time": "2022-12-19T15:37:54.501Z"
   },
   {
    "duration": 312,
    "start_time": "2022-12-19T15:38:00.147Z"
   },
   {
    "duration": 385,
    "start_time": "2022-12-19T15:38:15.396Z"
   },
   {
    "duration": 336,
    "start_time": "2022-12-19T15:38:35.728Z"
   },
   {
    "duration": 304,
    "start_time": "2022-12-19T15:38:46.639Z"
   },
   {
    "duration": 342,
    "start_time": "2022-12-19T15:39:04.262Z"
   },
   {
    "duration": 109,
    "start_time": "2022-12-19T15:50:11.479Z"
   },
   {
    "duration": 26,
    "start_time": "2022-12-19T15:50:32.036Z"
   },
   {
    "duration": 8,
    "start_time": "2022-12-19T15:50:59.583Z"
   },
   {
    "duration": 368,
    "start_time": "2022-12-19T15:51:33.535Z"
   },
   {
    "duration": 309,
    "start_time": "2022-12-19T15:53:07.052Z"
   },
   {
    "duration": 433,
    "start_time": "2022-12-19T15:53:14.805Z"
   },
   {
    "duration": 356,
    "start_time": "2022-12-19T15:53:29.499Z"
   },
   {
    "duration": 311,
    "start_time": "2022-12-19T15:53:41.649Z"
   },
   {
    "duration": 105,
    "start_time": "2022-12-19T15:56:59.267Z"
   },
   {
    "duration": 14,
    "start_time": "2022-12-19T16:11:28.657Z"
   },
   {
    "duration": 121,
    "start_time": "2022-12-19T16:15:57.280Z"
   },
   {
    "duration": 19,
    "start_time": "2022-12-19T16:17:05.428Z"
   },
   {
    "duration": 72,
    "start_time": "2022-12-19T16:17:57.347Z"
   },
   {
    "duration": 353,
    "start_time": "2022-12-19T16:18:09.547Z"
   },
   {
    "duration": 417,
    "start_time": "2022-12-19T16:18:36.640Z"
   },
   {
    "duration": 289,
    "start_time": "2022-12-19T16:18:56.552Z"
   },
   {
    "duration": 314,
    "start_time": "2022-12-19T16:19:07.332Z"
   },
   {
    "duration": 369,
    "start_time": "2022-12-19T16:19:13.910Z"
   },
   {
    "duration": 350,
    "start_time": "2022-12-19T16:19:21.119Z"
   },
   {
    "duration": 310,
    "start_time": "2022-12-19T16:19:28.605Z"
   },
   {
    "duration": 297,
    "start_time": "2022-12-19T16:21:45.551Z"
   },
   {
    "duration": 292,
    "start_time": "2022-12-19T16:22:00.600Z"
   },
   {
    "duration": 84,
    "start_time": "2022-12-19T16:27:14.601Z"
   },
   {
    "duration": 94,
    "start_time": "2022-12-19T16:59:49.362Z"
   },
   {
    "duration": 20,
    "start_time": "2022-12-19T17:01:04.086Z"
   },
   {
    "duration": 7,
    "start_time": "2022-12-19T17:02:20.298Z"
   },
   {
    "duration": 3,
    "start_time": "2022-12-19T17:02:32.870Z"
   },
   {
    "duration": 206,
    "start_time": "2022-12-19T17:02:32.878Z"
   },
   {
    "duration": 14,
    "start_time": "2022-12-19T17:02:33.086Z"
   },
   {
    "duration": 17,
    "start_time": "2022-12-19T17:02:33.102Z"
   },
   {
    "duration": 10,
    "start_time": "2022-12-19T17:02:33.121Z"
   },
   {
    "duration": 20,
    "start_time": "2022-12-19T17:02:33.133Z"
   },
   {
    "duration": 1617,
    "start_time": "2022-12-19T17:02:33.155Z"
   },
   {
    "duration": 19,
    "start_time": "2022-12-19T17:02:34.774Z"
   },
   {
    "duration": 32,
    "start_time": "2022-12-19T17:02:34.794Z"
   },
   {
    "duration": 24,
    "start_time": "2022-12-19T17:02:34.827Z"
   },
   {
    "duration": 21,
    "start_time": "2022-12-19T17:02:34.854Z"
   },
   {
    "duration": 18,
    "start_time": "2022-12-19T17:02:34.877Z"
   },
   {
    "duration": 9,
    "start_time": "2022-12-19T17:02:34.896Z"
   },
   {
    "duration": 26,
    "start_time": "2022-12-19T17:02:34.907Z"
   },
   {
    "duration": 10,
    "start_time": "2022-12-19T17:02:34.934Z"
   },
   {
    "duration": 41,
    "start_time": "2022-12-19T17:02:34.946Z"
   },
   {
    "duration": 30,
    "start_time": "2022-12-19T17:02:34.988Z"
   },
   {
    "duration": 48,
    "start_time": "2022-12-19T17:02:35.020Z"
   },
   {
    "duration": 42,
    "start_time": "2022-12-19T17:02:35.070Z"
   },
   {
    "duration": 51,
    "start_time": "2022-12-19T17:02:35.113Z"
   },
   {
    "duration": 24,
    "start_time": "2022-12-19T17:02:35.166Z"
   },
   {
    "duration": 40,
    "start_time": "2022-12-19T17:02:35.191Z"
   },
   {
    "duration": 68,
    "start_time": "2022-12-19T17:02:35.232Z"
   },
   {
    "duration": 37,
    "start_time": "2022-12-19T17:02:35.302Z"
   },
   {
    "duration": 26,
    "start_time": "2022-12-19T17:02:35.340Z"
   },
   {
    "duration": 27,
    "start_time": "2022-12-19T17:02:35.367Z"
   },
   {
    "duration": 78,
    "start_time": "2022-12-19T17:02:35.398Z"
   },
   {
    "duration": 7,
    "start_time": "2022-12-19T17:02:35.479Z"
   },
   {
    "duration": 54,
    "start_time": "2022-12-19T17:02:35.491Z"
   },
   {
    "duration": 385,
    "start_time": "2022-12-19T17:02:35.547Z"
   },
   {
    "duration": 350,
    "start_time": "2022-12-19T17:02:35.934Z"
   },
   {
    "duration": 295,
    "start_time": "2022-12-19T17:02:36.286Z"
   },
   {
    "duration": 343,
    "start_time": "2022-12-19T17:02:36.583Z"
   },
   {
    "duration": 9,
    "start_time": "2022-12-19T17:02:36.928Z"
   },
   {
    "duration": 235,
    "start_time": "2022-12-19T17:02:36.939Z"
   },
   {
    "duration": 414,
    "start_time": "2022-12-19T17:02:37.176Z"
   },
   {
    "duration": 155,
    "start_time": "2022-12-19T17:02:37.592Z"
   },
   {
    "duration": 14,
    "start_time": "2022-12-19T17:02:37.749Z"
   },
   {
    "duration": 165,
    "start_time": "2022-12-19T17:02:37.764Z"
   },
   {
    "duration": 6,
    "start_time": "2022-12-19T17:02:37.931Z"
   },
   {
    "duration": 17,
    "start_time": "2022-12-19T17:02:37.939Z"
   },
   {
    "duration": 158,
    "start_time": "2022-12-19T17:02:37.958Z"
   },
   {
    "duration": 163,
    "start_time": "2022-12-19T17:02:38.118Z"
   },
   {
    "duration": 341,
    "start_time": "2022-12-19T17:02:38.283Z"
   },
   {
    "duration": 324,
    "start_time": "2022-12-19T17:02:38.626Z"
   },
   {
    "duration": 13,
    "start_time": "2022-12-19T17:02:38.952Z"
   },
   {
    "duration": 276,
    "start_time": "2022-12-19T17:02:38.966Z"
   },
   {
    "duration": 138,
    "start_time": "2022-12-19T17:02:39.244Z"
   },
   {
    "duration": 9,
    "start_time": "2022-12-19T17:02:39.384Z"
   },
   {
    "duration": 160,
    "start_time": "2022-12-19T17:02:39.395Z"
   },
   {
    "duration": 9,
    "start_time": "2022-12-19T17:02:39.558Z"
   },
   {
    "duration": 270,
    "start_time": "2022-12-19T17:02:39.568Z"
   },
   {
    "duration": 9,
    "start_time": "2022-12-19T17:02:39.840Z"
   },
   {
    "duration": 171,
    "start_time": "2022-12-19T17:02:39.850Z"
   },
   {
    "duration": 11,
    "start_time": "2022-12-19T17:02:40.023Z"
   },
   {
    "duration": 161,
    "start_time": "2022-12-19T17:02:40.036Z"
   },
   {
    "duration": 8,
    "start_time": "2022-12-19T17:02:40.200Z"
   },
   {
    "duration": 135,
    "start_time": "2022-12-19T17:02:40.210Z"
   },
   {
    "duration": 8,
    "start_time": "2022-12-19T17:02:40.346Z"
   },
   {
    "duration": 177,
    "start_time": "2022-12-19T17:02:40.356Z"
   },
   {
    "duration": 14,
    "start_time": "2022-12-19T17:02:40.535Z"
   },
   {
    "duration": 0,
    "start_time": "2022-12-19T17:02:40.551Z"
   },
   {
    "duration": 21,
    "start_time": "2022-12-19T17:03:54.218Z"
   },
   {
    "duration": 10,
    "start_time": "2022-12-19T17:06:23.258Z"
   },
   {
    "duration": 11,
    "start_time": "2022-12-19T17:06:58.663Z"
   },
   {
    "duration": 71,
    "start_time": "2022-12-19T17:09:17.588Z"
   },
   {
    "duration": 1168,
    "start_time": "2022-12-19T17:10:46.282Z"
   },
   {
    "duration": 311,
    "start_time": "2022-12-19T17:10:47.453Z"
   },
   {
    "duration": 19,
    "start_time": "2022-12-19T17:10:47.765Z"
   },
   {
    "duration": 18,
    "start_time": "2022-12-19T17:10:47.786Z"
   },
   {
    "duration": 17,
    "start_time": "2022-12-19T17:10:47.805Z"
   },
   {
    "duration": 53,
    "start_time": "2022-12-19T17:10:47.823Z"
   },
   {
    "duration": 1459,
    "start_time": "2022-12-19T17:10:47.878Z"
   },
   {
    "duration": 18,
    "start_time": "2022-12-19T17:10:49.339Z"
   },
   {
    "duration": 11,
    "start_time": "2022-12-19T17:10:49.361Z"
   },
   {
    "duration": 5,
    "start_time": "2022-12-19T17:10:49.375Z"
   },
   {
    "duration": 15,
    "start_time": "2022-12-19T17:10:49.382Z"
   },
   {
    "duration": 37,
    "start_time": "2022-12-19T17:10:49.399Z"
   },
   {
    "duration": 9,
    "start_time": "2022-12-19T17:10:49.437Z"
   },
   {
    "duration": 15,
    "start_time": "2022-12-19T17:10:49.448Z"
   },
   {
    "duration": 8,
    "start_time": "2022-12-19T17:10:49.465Z"
   },
   {
    "duration": 56,
    "start_time": "2022-12-19T17:10:49.475Z"
   },
   {
    "duration": 8,
    "start_time": "2022-12-19T17:10:49.533Z"
   },
   {
    "duration": 11,
    "start_time": "2022-12-19T17:10:49.542Z"
   },
   {
    "duration": 7,
    "start_time": "2022-12-19T17:10:49.554Z"
   },
   {
    "duration": 10,
    "start_time": "2022-12-19T17:10:49.562Z"
   },
   {
    "duration": 6,
    "start_time": "2022-12-19T17:10:49.574Z"
   },
   {
    "duration": 10,
    "start_time": "2022-12-19T17:10:49.582Z"
   },
   {
    "duration": 37,
    "start_time": "2022-12-19T17:10:49.593Z"
   },
   {
    "duration": 9,
    "start_time": "2022-12-19T17:10:49.631Z"
   },
   {
    "duration": 13,
    "start_time": "2022-12-19T17:10:49.641Z"
   },
   {
    "duration": 4,
    "start_time": "2022-12-19T17:10:49.656Z"
   },
   {
    "duration": 23,
    "start_time": "2022-12-19T17:10:49.661Z"
   },
   {
    "duration": 34,
    "start_time": "2022-12-19T17:10:49.688Z"
   },
   {
    "duration": 16,
    "start_time": "2022-12-19T17:10:49.724Z"
   },
   {
    "duration": 398,
    "start_time": "2022-12-19T17:10:49.742Z"
   },
   {
    "duration": 345,
    "start_time": "2022-12-19T17:10:50.142Z"
   },
   {
    "duration": 311,
    "start_time": "2022-12-19T17:10:50.488Z"
   },
   {
    "duration": 333,
    "start_time": "2022-12-19T17:10:50.801Z"
   },
   {
    "duration": 17,
    "start_time": "2022-12-19T17:10:51.136Z"
   },
   {
    "duration": 207,
    "start_time": "2022-12-19T17:10:51.154Z"
   },
   {
    "duration": 399,
    "start_time": "2022-12-19T17:10:51.363Z"
   },
   {
    "duration": 178,
    "start_time": "2022-12-19T17:10:51.763Z"
   },
   {
    "duration": 14,
    "start_time": "2022-12-19T17:10:51.943Z"
   },
   {
    "duration": 166,
    "start_time": "2022-12-19T17:10:51.959Z"
   },
   {
    "duration": 5,
    "start_time": "2022-12-19T17:10:52.127Z"
   },
   {
    "duration": 21,
    "start_time": "2022-12-19T17:10:52.134Z"
   },
   {
    "duration": 165,
    "start_time": "2022-12-19T17:10:52.157Z"
   },
   {
    "duration": 162,
    "start_time": "2022-12-19T17:10:52.324Z"
   },
   {
    "duration": 338,
    "start_time": "2022-12-19T17:10:52.488Z"
   },
   {
    "duration": 328,
    "start_time": "2022-12-19T17:10:52.828Z"
   },
   {
    "duration": 13,
    "start_time": "2022-12-19T17:10:53.158Z"
   },
   {
    "duration": 283,
    "start_time": "2022-12-19T17:10:53.173Z"
   },
   {
    "duration": 228,
    "start_time": "2022-12-19T17:10:53.458Z"
   },
   {
    "duration": 10,
    "start_time": "2022-12-19T17:10:53.688Z"
   },
   {
    "duration": 170,
    "start_time": "2022-12-19T17:10:53.700Z"
   },
   {
    "duration": 11,
    "start_time": "2022-12-19T17:10:53.872Z"
   },
   {
    "duration": 177,
    "start_time": "2022-12-19T17:10:53.885Z"
   },
   {
    "duration": 12,
    "start_time": "2022-12-19T17:10:54.064Z"
   },
   {
    "duration": 210,
    "start_time": "2022-12-19T17:10:54.078Z"
   },
   {
    "duration": 13,
    "start_time": "2022-12-19T17:10:54.291Z"
   },
   {
    "duration": 139,
    "start_time": "2022-12-19T17:10:54.321Z"
   },
   {
    "duration": 9,
    "start_time": "2022-12-19T17:10:54.461Z"
   },
   {
    "duration": 134,
    "start_time": "2022-12-19T17:10:54.471Z"
   },
   {
    "duration": 20,
    "start_time": "2022-12-19T17:10:54.607Z"
   },
   {
    "duration": 172,
    "start_time": "2022-12-19T17:10:54.629Z"
   },
   {
    "duration": 19,
    "start_time": "2022-12-19T17:10:54.803Z"
   },
   {
    "duration": 10,
    "start_time": "2022-12-19T17:10:54.824Z"
   },
   {
    "duration": 16,
    "start_time": "2022-12-19T17:14:59.841Z"
   },
   {
    "duration": 11,
    "start_time": "2022-12-19T17:15:57.761Z"
   },
   {
    "duration": 1088,
    "start_time": "2022-12-19T18:18:42.425Z"
   },
   {
    "duration": 123,
    "start_time": "2022-12-19T18:18:43.515Z"
   },
   {
    "duration": 18,
    "start_time": "2022-12-19T18:18:46.699Z"
   },
   {
    "duration": 3,
    "start_time": "2022-12-19T18:23:48.521Z"
   },
   {
    "duration": 174,
    "start_time": "2022-12-19T18:23:48.530Z"
   },
   {
    "duration": 13,
    "start_time": "2022-12-19T18:23:48.706Z"
   },
   {
    "duration": 15,
    "start_time": "2022-12-19T18:23:48.721Z"
   },
   {
    "duration": 8,
    "start_time": "2022-12-19T18:23:48.737Z"
   },
   {
    "duration": 57,
    "start_time": "2022-12-19T18:23:48.747Z"
   },
   {
    "duration": 1419,
    "start_time": "2022-12-19T18:23:48.805Z"
   },
   {
    "duration": 18,
    "start_time": "2022-12-19T18:23:50.225Z"
   },
   {
    "duration": 14,
    "start_time": "2022-12-19T18:23:50.244Z"
   },
   {
    "duration": 17,
    "start_time": "2022-12-19T18:23:50.259Z"
   },
   {
    "duration": 13,
    "start_time": "2022-12-19T18:23:50.279Z"
   },
   {
    "duration": 16,
    "start_time": "2022-12-19T18:23:50.293Z"
   },
   {
    "duration": 8,
    "start_time": "2022-12-19T18:23:50.321Z"
   },
   {
    "duration": 15,
    "start_time": "2022-12-19T18:23:50.330Z"
   },
   {
    "duration": 6,
    "start_time": "2022-12-19T18:23:50.347Z"
   },
   {
    "duration": 24,
    "start_time": "2022-12-19T18:23:50.354Z"
   },
   {
    "duration": 10,
    "start_time": "2022-12-19T18:23:50.379Z"
   },
   {
    "duration": 17,
    "start_time": "2022-12-19T18:23:50.390Z"
   },
   {
    "duration": 8,
    "start_time": "2022-12-19T18:23:50.421Z"
   },
   {
    "duration": 6,
    "start_time": "2022-12-19T18:23:50.430Z"
   },
   {
    "duration": 9,
    "start_time": "2022-12-19T18:23:50.437Z"
   },
   {
    "duration": 6,
    "start_time": "2022-12-19T18:23:50.447Z"
   },
   {
    "duration": 10,
    "start_time": "2022-12-19T18:23:50.454Z"
   },
   {
    "duration": 8,
    "start_time": "2022-12-19T18:23:50.465Z"
   },
   {
    "duration": 11,
    "start_time": "2022-12-19T18:23:50.475Z"
   },
   {
    "duration": 3,
    "start_time": "2022-12-19T18:23:50.488Z"
   },
   {
    "duration": 43,
    "start_time": "2022-12-19T18:23:50.493Z"
   },
   {
    "duration": 4,
    "start_time": "2022-12-19T18:23:50.538Z"
   },
   {
    "duration": 13,
    "start_time": "2022-12-19T18:23:50.545Z"
   },
   {
    "duration": 344,
    "start_time": "2022-12-19T18:23:50.560Z"
   },
   {
    "duration": 322,
    "start_time": "2022-12-19T18:23:50.906Z"
   },
   {
    "duration": 282,
    "start_time": "2022-12-19T18:23:51.229Z"
   },
   {
    "duration": 323,
    "start_time": "2022-12-19T18:23:51.513Z"
   },
   {
    "duration": 15,
    "start_time": "2022-12-19T18:23:51.837Z"
   },
   {
    "duration": 176,
    "start_time": "2022-12-19T18:23:51.854Z"
   },
   {
    "duration": 332,
    "start_time": "2022-12-19T18:23:52.032Z"
   },
   {
    "duration": 148,
    "start_time": "2022-12-19T18:23:52.366Z"
   },
   {
    "duration": 14,
    "start_time": "2022-12-19T18:23:52.516Z"
   },
   {
    "duration": 145,
    "start_time": "2022-12-19T18:23:52.532Z"
   },
   {
    "duration": 5,
    "start_time": "2022-12-19T18:23:52.678Z"
   },
   {
    "duration": 15,
    "start_time": "2022-12-19T18:23:52.685Z"
   },
   {
    "duration": 168,
    "start_time": "2022-12-19T18:23:52.702Z"
   },
   {
    "duration": 142,
    "start_time": "2022-12-19T18:23:52.872Z"
   },
   {
    "duration": 116,
    "start_time": "2022-12-19T18:26:14.198Z"
   },
   {
    "duration": 135,
    "start_time": "2022-12-19T18:26:17.555Z"
   },
   {
    "duration": 1112,
    "start_time": "2022-12-19T18:32:40.499Z"
   },
   {
    "duration": 114,
    "start_time": "2022-12-19T18:32:41.613Z"
   },
   {
    "duration": 17,
    "start_time": "2022-12-19T18:32:41.728Z"
   },
   {
    "duration": 14,
    "start_time": "2022-12-19T18:32:41.747Z"
   },
   {
    "duration": 13,
    "start_time": "2022-12-19T18:32:41.762Z"
   },
   {
    "duration": 70,
    "start_time": "2022-12-19T18:32:41.777Z"
   },
   {
    "duration": 1368,
    "start_time": "2022-12-19T18:32:41.849Z"
   },
   {
    "duration": 17,
    "start_time": "2022-12-19T18:32:43.221Z"
   },
   {
    "duration": 15,
    "start_time": "2022-12-19T18:32:43.239Z"
   },
   {
    "duration": 10,
    "start_time": "2022-12-19T18:32:43.257Z"
   },
   {
    "duration": 17,
    "start_time": "2022-12-19T18:32:43.268Z"
   },
   {
    "duration": 14,
    "start_time": "2022-12-19T18:32:43.286Z"
   },
   {
    "duration": 8,
    "start_time": "2022-12-19T18:32:43.301Z"
   },
   {
    "duration": 17,
    "start_time": "2022-12-19T18:32:43.310Z"
   },
   {
    "duration": 7,
    "start_time": "2022-12-19T18:32:43.328Z"
   },
   {
    "duration": 20,
    "start_time": "2022-12-19T18:32:43.336Z"
   },
   {
    "duration": 8,
    "start_time": "2022-12-19T18:32:43.358Z"
   },
   {
    "duration": 11,
    "start_time": "2022-12-19T18:32:43.368Z"
   },
   {
    "duration": 7,
    "start_time": "2022-12-19T18:32:43.380Z"
   },
   {
    "duration": 33,
    "start_time": "2022-12-19T18:32:43.388Z"
   },
   {
    "duration": 15,
    "start_time": "2022-12-19T18:32:43.423Z"
   },
   {
    "duration": 9,
    "start_time": "2022-12-19T18:32:43.440Z"
   },
   {
    "duration": 12,
    "start_time": "2022-12-19T18:32:43.451Z"
   },
   {
    "duration": 8,
    "start_time": "2022-12-19T18:32:43.464Z"
   },
   {
    "duration": 11,
    "start_time": "2022-12-19T18:32:43.473Z"
   },
   {
    "duration": 4,
    "start_time": "2022-12-19T18:32:43.486Z"
   },
   {
    "duration": 31,
    "start_time": "2022-12-19T18:32:43.491Z"
   },
   {
    "duration": 5,
    "start_time": "2022-12-19T18:32:43.525Z"
   },
   {
    "duration": 15,
    "start_time": "2022-12-19T18:32:43.532Z"
   },
   {
    "duration": 316,
    "start_time": "2022-12-19T18:32:43.549Z"
   },
   {
    "duration": 324,
    "start_time": "2022-12-19T18:32:43.867Z"
   },
   {
    "duration": 277,
    "start_time": "2022-12-19T18:32:44.193Z"
   },
   {
    "duration": 318,
    "start_time": "2022-12-19T18:32:44.472Z"
   },
   {
    "duration": 16,
    "start_time": "2022-12-19T18:32:44.792Z"
   },
   {
    "duration": 194,
    "start_time": "2022-12-19T18:32:44.809Z"
   },
   {
    "duration": 370,
    "start_time": "2022-12-19T18:32:45.005Z"
   },
   {
    "duration": 167,
    "start_time": "2022-12-19T18:32:45.378Z"
   },
   {
    "duration": 14,
    "start_time": "2022-12-19T18:32:45.546Z"
   },
   {
    "duration": 146,
    "start_time": "2022-12-19T18:32:45.562Z"
   },
   {
    "duration": 5,
    "start_time": "2022-12-19T18:32:45.710Z"
   },
   {
    "duration": 12,
    "start_time": "2022-12-19T18:32:45.721Z"
   },
   {
    "duration": 143,
    "start_time": "2022-12-19T18:32:45.734Z"
   },
   {
    "duration": 148,
    "start_time": "2022-12-19T18:32:45.879Z"
   },
   {
    "duration": 284,
    "start_time": "2022-12-19T18:32:46.029Z"
   },
   {
    "duration": 297,
    "start_time": "2022-12-19T18:32:46.315Z"
   },
   {
    "duration": 13,
    "start_time": "2022-12-19T18:32:46.614Z"
   },
   {
    "duration": 261,
    "start_time": "2022-12-19T18:32:46.629Z"
   },
   {
    "duration": 206,
    "start_time": "2022-12-19T18:32:46.892Z"
   },
   {
    "duration": 8,
    "start_time": "2022-12-19T18:32:47.100Z"
   },
   {
    "duration": 130,
    "start_time": "2022-12-19T18:32:47.109Z"
   },
   {
    "duration": 8,
    "start_time": "2022-12-19T18:32:47.240Z"
   },
   {
    "duration": 148,
    "start_time": "2022-12-19T18:32:47.249Z"
   },
   {
    "duration": 9,
    "start_time": "2022-12-19T18:32:47.399Z"
   },
   {
    "duration": 131,
    "start_time": "2022-12-19T18:32:47.410Z"
   },
   {
    "duration": 8,
    "start_time": "2022-12-19T18:32:47.543Z"
   },
   {
    "duration": 137,
    "start_time": "2022-12-19T18:32:47.553Z"
   },
   {
    "duration": 8,
    "start_time": "2022-12-19T18:32:47.692Z"
   },
   {
    "duration": 119,
    "start_time": "2022-12-19T18:32:47.702Z"
   },
   {
    "duration": 9,
    "start_time": "2022-12-19T18:32:47.823Z"
   },
   {
    "duration": 161,
    "start_time": "2022-12-19T18:32:47.833Z"
   },
   {
    "duration": 11,
    "start_time": "2022-12-19T18:32:47.995Z"
   },
   {
    "duration": 17,
    "start_time": "2022-12-19T18:32:48.007Z"
   },
   {
    "duration": 52,
    "start_time": "2022-12-20T05:15:43.480Z"
   },
   {
    "duration": 1349,
    "start_time": "2022-12-20T05:16:07.477Z"
   },
   {
    "duration": 189,
    "start_time": "2022-12-20T05:16:08.828Z"
   },
   {
    "duration": 19,
    "start_time": "2022-12-20T05:16:09.019Z"
   },
   {
    "duration": 22,
    "start_time": "2022-12-20T05:16:09.041Z"
   },
   {
    "duration": 38,
    "start_time": "2022-12-20T05:16:09.065Z"
   },
   {
    "duration": 75,
    "start_time": "2022-12-20T05:16:09.105Z"
   },
   {
    "duration": 1552,
    "start_time": "2022-12-20T05:16:09.181Z"
   },
   {
    "duration": 21,
    "start_time": "2022-12-20T05:16:10.735Z"
   },
   {
    "duration": 44,
    "start_time": "2022-12-20T05:16:10.758Z"
   },
   {
    "duration": 40,
    "start_time": "2022-12-20T05:16:10.805Z"
   },
   {
    "duration": 27,
    "start_time": "2022-12-20T05:16:10.847Z"
   },
   {
    "duration": 30,
    "start_time": "2022-12-20T05:16:10.876Z"
   },
   {
    "duration": 9,
    "start_time": "2022-12-20T05:16:10.908Z"
   },
   {
    "duration": 31,
    "start_time": "2022-12-20T05:16:10.920Z"
   },
   {
    "duration": 28,
    "start_time": "2022-12-20T05:16:10.953Z"
   },
   {
    "duration": 37,
    "start_time": "2022-12-20T05:16:10.983Z"
   },
   {
    "duration": 40,
    "start_time": "2022-12-20T05:16:11.022Z"
   },
   {
    "duration": 46,
    "start_time": "2022-12-20T05:16:11.064Z"
   },
   {
    "duration": 27,
    "start_time": "2022-12-20T05:16:11.111Z"
   },
   {
    "duration": 37,
    "start_time": "2022-12-20T05:16:11.140Z"
   },
   {
    "duration": 32,
    "start_time": "2022-12-20T05:16:11.179Z"
   },
   {
    "duration": 18,
    "start_time": "2022-12-20T05:16:11.213Z"
   },
   {
    "duration": 36,
    "start_time": "2022-12-20T05:16:11.232Z"
   },
   {
    "duration": 21,
    "start_time": "2022-12-20T05:16:11.270Z"
   },
   {
    "duration": 37,
    "start_time": "2022-12-20T05:16:11.292Z"
   },
   {
    "duration": 25,
    "start_time": "2022-12-20T05:16:11.330Z"
   },
   {
    "duration": 32,
    "start_time": "2022-12-20T05:16:11.356Z"
   },
   {
    "duration": 19,
    "start_time": "2022-12-20T05:16:11.391Z"
   },
   {
    "duration": 25,
    "start_time": "2022-12-20T05:16:11.412Z"
   },
   {
    "duration": 356,
    "start_time": "2022-12-20T05:16:11.439Z"
   },
   {
    "duration": 320,
    "start_time": "2022-12-20T05:16:11.797Z"
   },
   {
    "duration": 288,
    "start_time": "2022-12-20T05:16:12.118Z"
   },
   {
    "duration": 311,
    "start_time": "2022-12-20T05:16:12.407Z"
   },
   {
    "duration": 16,
    "start_time": "2022-12-20T05:16:12.720Z"
   },
   {
    "duration": 187,
    "start_time": "2022-12-20T05:16:12.737Z"
   },
   {
    "duration": 348,
    "start_time": "2022-12-20T05:16:12.926Z"
   },
   {
    "duration": 91,
    "start_time": "2022-12-20T05:16:13.277Z"
   },
   {
    "duration": 0,
    "start_time": "2022-12-20T05:16:13.370Z"
   },
   {
    "duration": 0,
    "start_time": "2022-12-20T05:16:13.378Z"
   },
   {
    "duration": 0,
    "start_time": "2022-12-20T05:16:13.380Z"
   },
   {
    "duration": 0,
    "start_time": "2022-12-20T05:16:13.380Z"
   },
   {
    "duration": 0,
    "start_time": "2022-12-20T05:16:13.381Z"
   },
   {
    "duration": 0,
    "start_time": "2022-12-20T05:16:13.383Z"
   },
   {
    "duration": 0,
    "start_time": "2022-12-20T05:16:13.384Z"
   },
   {
    "duration": 0,
    "start_time": "2022-12-20T05:16:13.385Z"
   },
   {
    "duration": 0,
    "start_time": "2022-12-20T05:16:13.386Z"
   },
   {
    "duration": 0,
    "start_time": "2022-12-20T05:16:13.387Z"
   },
   {
    "duration": 0,
    "start_time": "2022-12-20T05:16:13.388Z"
   },
   {
    "duration": 0,
    "start_time": "2022-12-20T05:16:13.389Z"
   },
   {
    "duration": 0,
    "start_time": "2022-12-20T05:16:13.390Z"
   },
   {
    "duration": 0,
    "start_time": "2022-12-20T05:16:13.391Z"
   },
   {
    "duration": 0,
    "start_time": "2022-12-20T05:16:13.392Z"
   },
   {
    "duration": 0,
    "start_time": "2022-12-20T05:16:13.393Z"
   },
   {
    "duration": 0,
    "start_time": "2022-12-20T05:16:13.394Z"
   },
   {
    "duration": 0,
    "start_time": "2022-12-20T05:16:13.395Z"
   },
   {
    "duration": 0,
    "start_time": "2022-12-20T05:16:13.396Z"
   },
   {
    "duration": 0,
    "start_time": "2022-12-20T05:16:13.397Z"
   },
   {
    "duration": 0,
    "start_time": "2022-12-20T05:16:13.398Z"
   },
   {
    "duration": 0,
    "start_time": "2022-12-20T05:16:13.399Z"
   },
   {
    "duration": 0,
    "start_time": "2022-12-20T05:16:13.400Z"
   },
   {
    "duration": 0,
    "start_time": "2022-12-20T05:16:13.401Z"
   },
   {
    "duration": 0,
    "start_time": "2022-12-20T05:16:13.402Z"
   },
   {
    "duration": 0,
    "start_time": "2022-12-20T05:16:13.403Z"
   },
   {
    "duration": 214,
    "start_time": "2022-12-20T05:16:45.036Z"
   },
   {
    "duration": 247,
    "start_time": "2022-12-20T05:18:36.859Z"
   },
   {
    "duration": 247,
    "start_time": "2022-12-20T05:21:23.477Z"
   },
   {
    "duration": 298,
    "start_time": "2022-12-20T05:25:42.238Z"
   },
   {
    "duration": 78,
    "start_time": "2022-12-20T05:25:58.477Z"
   },
   {
    "duration": 5,
    "start_time": "2022-12-20T05:27:18.860Z"
   },
   {
    "duration": 12,
    "start_time": "2022-12-20T05:27:21.003Z"
   },
   {
    "duration": 145,
    "start_time": "2022-12-20T05:27:22.820Z"
   },
   {
    "duration": 154,
    "start_time": "2022-12-20T05:27:23.317Z"
   },
   {
    "duration": 6,
    "start_time": "2022-12-20T05:28:44.761Z"
   },
   {
    "duration": 12,
    "start_time": "2022-12-20T05:28:52.245Z"
   },
   {
    "duration": 76,
    "start_time": "2022-12-20T05:28:54.718Z"
   },
   {
    "duration": 131,
    "start_time": "2022-12-20T05:28:56.222Z"
   },
   {
    "duration": 152,
    "start_time": "2022-12-20T05:29:05.944Z"
   },
   {
    "duration": 130,
    "start_time": "2022-12-20T05:29:07.489Z"
   },
   {
    "duration": 6,
    "start_time": "2022-12-20T05:29:14.898Z"
   },
   {
    "duration": 13,
    "start_time": "2022-12-20T05:29:17.849Z"
   },
   {
    "duration": 102,
    "start_time": "2022-12-20T05:31:28.266Z"
   },
   {
    "duration": 233,
    "start_time": "2022-12-20T05:31:42.289Z"
   },
   {
    "duration": 157,
    "start_time": "2022-12-20T05:31:43.564Z"
   },
   {
    "duration": 308,
    "start_time": "2022-12-20T05:31:50.311Z"
   },
   {
    "duration": 297,
    "start_time": "2022-12-20T05:32:30.641Z"
   },
   {
    "duration": 367,
    "start_time": "2022-12-20T05:32:40.836Z"
   },
   {
    "duration": 317,
    "start_time": "2022-12-20T05:33:46.010Z"
   },
   {
    "duration": 330,
    "start_time": "2022-12-20T05:35:53.400Z"
   },
   {
    "duration": 3,
    "start_time": "2022-12-20T05:44:08.428Z"
   },
   {
    "duration": 239,
    "start_time": "2022-12-20T05:44:08.439Z"
   },
   {
    "duration": 20,
    "start_time": "2022-12-20T05:44:08.681Z"
   },
   {
    "duration": 14,
    "start_time": "2022-12-20T05:44:08.703Z"
   },
   {
    "duration": 16,
    "start_time": "2022-12-20T05:44:08.719Z"
   },
   {
    "duration": 44,
    "start_time": "2022-12-20T05:44:08.737Z"
   },
   {
    "duration": 1730,
    "start_time": "2022-12-20T05:44:08.783Z"
   },
   {
    "duration": 21,
    "start_time": "2022-12-20T05:44:10.516Z"
   },
   {
    "duration": 29,
    "start_time": "2022-12-20T05:44:10.539Z"
   },
   {
    "duration": 39,
    "start_time": "2022-12-20T05:44:10.571Z"
   },
   {
    "duration": 32,
    "start_time": "2022-12-20T05:44:10.613Z"
   },
   {
    "duration": 29,
    "start_time": "2022-12-20T05:44:10.647Z"
   },
   {
    "duration": 21,
    "start_time": "2022-12-20T05:44:10.678Z"
   },
   {
    "duration": 43,
    "start_time": "2022-12-20T05:44:10.701Z"
   },
   {
    "duration": 19,
    "start_time": "2022-12-20T05:44:10.745Z"
   },
   {
    "duration": 48,
    "start_time": "2022-12-20T05:44:10.766Z"
   },
   {
    "duration": 25,
    "start_time": "2022-12-20T05:44:10.816Z"
   },
   {
    "duration": 24,
    "start_time": "2022-12-20T05:44:10.842Z"
   },
   {
    "duration": 41,
    "start_time": "2022-12-20T05:44:10.868Z"
   },
   {
    "duration": 22,
    "start_time": "2022-12-20T05:44:10.911Z"
   },
   {
    "duration": 31,
    "start_time": "2022-12-20T05:44:10.935Z"
   },
   {
    "duration": 33,
    "start_time": "2022-12-20T05:44:10.969Z"
   },
   {
    "duration": 15,
    "start_time": "2022-12-20T05:44:11.004Z"
   },
   {
    "duration": 35,
    "start_time": "2022-12-20T05:44:11.021Z"
   },
   {
    "duration": 25,
    "start_time": "2022-12-20T05:44:11.058Z"
   },
   {
    "duration": 32,
    "start_time": "2022-12-20T05:44:11.085Z"
   },
   {
    "duration": 52,
    "start_time": "2022-12-20T05:44:11.119Z"
   },
   {
    "duration": 10,
    "start_time": "2022-12-20T05:44:11.173Z"
   },
   {
    "duration": 42,
    "start_time": "2022-12-20T05:44:11.189Z"
   },
   {
    "duration": 378,
    "start_time": "2022-12-20T05:44:11.232Z"
   },
   {
    "duration": 352,
    "start_time": "2022-12-20T05:44:11.612Z"
   },
   {
    "duration": 299,
    "start_time": "2022-12-20T05:44:11.966Z"
   },
   {
    "duration": 487,
    "start_time": "2022-12-20T05:44:12.267Z"
   },
   {
    "duration": 25,
    "start_time": "2022-12-20T05:44:12.756Z"
   },
   {
    "duration": 186,
    "start_time": "2022-12-20T05:44:12.783Z"
   },
   {
    "duration": 257,
    "start_time": "2022-12-20T05:44:12.971Z"
   },
   {
    "duration": 155,
    "start_time": "2022-12-20T05:44:13.230Z"
   },
   {
    "duration": 15,
    "start_time": "2022-12-20T05:44:13.387Z"
   },
   {
    "duration": 174,
    "start_time": "2022-12-20T05:44:13.403Z"
   },
   {
    "duration": 6,
    "start_time": "2022-12-20T05:44:13.580Z"
   },
   {
    "duration": 43,
    "start_time": "2022-12-20T05:44:13.588Z"
   },
   {
    "duration": 151,
    "start_time": "2022-12-20T05:44:13.633Z"
   },
   {
    "duration": 138,
    "start_time": "2022-12-20T05:44:13.786Z"
   },
   {
    "duration": 352,
    "start_time": "2022-12-20T05:44:13.926Z"
   },
   {
    "duration": 364,
    "start_time": "2022-12-20T05:44:14.280Z"
   },
   {
    "duration": 13,
    "start_time": "2022-12-20T05:44:14.646Z"
   },
   {
    "duration": 382,
    "start_time": "2022-12-20T05:44:14.661Z"
   },
   {
    "duration": 137,
    "start_time": "2022-12-20T05:44:15.045Z"
   },
   {
    "duration": 13,
    "start_time": "2022-12-20T05:44:15.183Z"
   },
   {
    "duration": 144,
    "start_time": "2022-12-20T05:44:15.198Z"
   },
   {
    "duration": 9,
    "start_time": "2022-12-20T05:44:15.343Z"
   },
   {
    "duration": 159,
    "start_time": "2022-12-20T05:44:15.353Z"
   },
   {
    "duration": 8,
    "start_time": "2022-12-20T05:44:15.514Z"
   },
   {
    "duration": 156,
    "start_time": "2022-12-20T05:44:15.523Z"
   },
   {
    "duration": 11,
    "start_time": "2022-12-20T05:44:15.681Z"
   },
   {
    "duration": 153,
    "start_time": "2022-12-20T05:44:15.693Z"
   },
   {
    "duration": 7,
    "start_time": "2022-12-20T05:44:15.848Z"
   },
   {
    "duration": 134,
    "start_time": "2022-12-20T05:44:15.857Z"
   },
   {
    "duration": 9,
    "start_time": "2022-12-20T05:44:15.993Z"
   },
   {
    "duration": 169,
    "start_time": "2022-12-20T05:44:16.003Z"
   },
   {
    "duration": 17,
    "start_time": "2022-12-20T05:44:16.173Z"
   },
   {
    "duration": 17,
    "start_time": "2022-12-20T05:44:16.192Z"
   },
   {
    "duration": 303,
    "start_time": "2022-12-20T05:46:45.314Z"
   },
   {
    "duration": 367,
    "start_time": "2022-12-20T05:47:03.255Z"
   },
   {
    "duration": 285,
    "start_time": "2022-12-20T05:49:28.026Z"
   },
   {
    "duration": 324,
    "start_time": "2022-12-20T05:50:09.350Z"
   },
   {
    "duration": 302,
    "start_time": "2022-12-20T05:52:34.198Z"
   },
   {
    "duration": 299,
    "start_time": "2022-12-20T05:52:42.016Z"
   },
   {
    "duration": 279,
    "start_time": "2022-12-20T05:52:52.629Z"
   },
   {
    "duration": 70,
    "start_time": "2022-12-20T05:54:35.347Z"
   },
   {
    "duration": 11,
    "start_time": "2022-12-20T05:56:39.874Z"
   },
   {
    "duration": 1158,
    "start_time": "2022-12-20T05:59:11.370Z"
   },
   {
    "duration": 166,
    "start_time": "2022-12-20T05:59:12.530Z"
   },
   {
    "duration": 21,
    "start_time": "2022-12-20T05:59:12.698Z"
   },
   {
    "duration": 35,
    "start_time": "2022-12-20T05:59:12.721Z"
   },
   {
    "duration": 43,
    "start_time": "2022-12-20T05:59:12.758Z"
   },
   {
    "duration": 76,
    "start_time": "2022-12-20T05:59:12.803Z"
   },
   {
    "duration": 1520,
    "start_time": "2022-12-20T05:59:12.880Z"
   },
   {
    "duration": 22,
    "start_time": "2022-12-20T05:59:14.402Z"
   },
   {
    "duration": 37,
    "start_time": "2022-12-20T05:59:14.426Z"
   },
   {
    "duration": 27,
    "start_time": "2022-12-20T05:59:14.467Z"
   },
   {
    "duration": 51,
    "start_time": "2022-12-20T05:59:14.496Z"
   },
   {
    "duration": 23,
    "start_time": "2022-12-20T05:59:14.549Z"
   },
   {
    "duration": 27,
    "start_time": "2022-12-20T05:59:14.574Z"
   },
   {
    "duration": 24,
    "start_time": "2022-12-20T05:59:14.602Z"
   },
   {
    "duration": 19,
    "start_time": "2022-12-20T05:59:14.628Z"
   },
   {
    "duration": 60,
    "start_time": "2022-12-20T05:59:14.649Z"
   },
   {
    "duration": 23,
    "start_time": "2022-12-20T05:59:14.711Z"
   },
   {
    "duration": 48,
    "start_time": "2022-12-20T05:59:14.736Z"
   },
   {
    "duration": 15,
    "start_time": "2022-12-20T05:59:14.785Z"
   },
   {
    "duration": 34,
    "start_time": "2022-12-20T05:59:14.802Z"
   },
   {
    "duration": 18,
    "start_time": "2022-12-20T05:59:14.838Z"
   },
   {
    "duration": 12,
    "start_time": "2022-12-20T05:59:14.858Z"
   },
   {
    "duration": 12,
    "start_time": "2022-12-20T05:59:14.872Z"
   },
   {
    "duration": 11,
    "start_time": "2022-12-20T05:59:14.885Z"
   },
   {
    "duration": 13,
    "start_time": "2022-12-20T05:59:14.898Z"
   },
   {
    "duration": 4,
    "start_time": "2022-12-20T05:59:14.912Z"
   },
   {
    "duration": 35,
    "start_time": "2022-12-20T05:59:14.918Z"
   },
   {
    "duration": 25,
    "start_time": "2022-12-20T05:59:14.957Z"
   },
   {
    "duration": 16,
    "start_time": "2022-12-20T05:59:14.983Z"
   },
   {
    "duration": 375,
    "start_time": "2022-12-20T05:59:15.001Z"
   },
   {
    "duration": 413,
    "start_time": "2022-12-20T05:59:15.378Z"
   },
   {
    "duration": 348,
    "start_time": "2022-12-20T05:59:15.793Z"
   },
   {
    "duration": 338,
    "start_time": "2022-12-20T05:59:16.142Z"
   },
   {
    "duration": 22,
    "start_time": "2022-12-20T05:59:16.482Z"
   },
   {
    "duration": 221,
    "start_time": "2022-12-20T05:59:16.506Z"
   },
   {
    "duration": 480,
    "start_time": "2022-12-20T05:59:16.728Z"
   },
   {
    "duration": 143,
    "start_time": "2022-12-20T05:59:17.210Z"
   },
   {
    "duration": 14,
    "start_time": "2022-12-20T05:59:17.355Z"
   },
   {
    "duration": 165,
    "start_time": "2022-12-20T05:59:17.377Z"
   },
   {
    "duration": 9,
    "start_time": "2022-12-20T05:59:17.544Z"
   },
   {
    "duration": 30,
    "start_time": "2022-12-20T05:59:17.554Z"
   },
   {
    "duration": 136,
    "start_time": "2022-12-20T05:59:17.586Z"
   },
   {
    "duration": 145,
    "start_time": "2022-12-20T05:59:17.724Z"
   },
   {
    "duration": 292,
    "start_time": "2022-12-20T05:59:17.870Z"
   },
   {
    "duration": 321,
    "start_time": "2022-12-20T05:59:18.164Z"
   },
   {
    "duration": 12,
    "start_time": "2022-12-20T05:59:18.487Z"
   },
   {
    "duration": 290,
    "start_time": "2022-12-20T05:59:18.500Z"
   },
   {
    "duration": 147,
    "start_time": "2022-12-20T05:59:18.792Z"
   },
   {
    "duration": 12,
    "start_time": "2022-12-20T05:59:18.941Z"
   },
   {
    "duration": 210,
    "start_time": "2022-12-20T05:59:18.955Z"
   },
   {
    "duration": 15,
    "start_time": "2022-12-20T05:59:19.167Z"
   },
   {
    "duration": 321,
    "start_time": "2022-12-20T05:59:19.184Z"
   },
   {
    "duration": 11,
    "start_time": "2022-12-20T05:59:19.507Z"
   },
   {
    "duration": 213,
    "start_time": "2022-12-20T05:59:19.520Z"
   },
   {
    "duration": 9,
    "start_time": "2022-12-20T05:59:19.735Z"
   },
   {
    "duration": 162,
    "start_time": "2022-12-20T05:59:19.746Z"
   },
   {
    "duration": 9,
    "start_time": "2022-12-20T05:59:19.910Z"
   },
   {
    "duration": 177,
    "start_time": "2022-12-20T05:59:19.920Z"
   },
   {
    "duration": 9,
    "start_time": "2022-12-20T05:59:20.099Z"
   },
   {
    "duration": 198,
    "start_time": "2022-12-20T05:59:20.110Z"
   },
   {
    "duration": 19,
    "start_time": "2022-12-20T05:59:20.310Z"
   },
   {
    "duration": 55,
    "start_time": "2022-12-20T05:59:20.331Z"
   },
   {
    "duration": 1466,
    "start_time": "2022-12-20T15:24:34.630Z"
   },
   {
    "duration": 194,
    "start_time": "2022-12-20T15:24:36.098Z"
   },
   {
    "duration": 20,
    "start_time": "2022-12-20T15:24:36.294Z"
   },
   {
    "duration": 51,
    "start_time": "2022-12-20T15:24:36.316Z"
   },
   {
    "duration": 10,
    "start_time": "2022-12-20T15:24:36.369Z"
   },
   {
    "duration": 70,
    "start_time": "2022-12-20T15:24:36.381Z"
   },
   {
    "duration": 1575,
    "start_time": "2022-12-20T15:24:36.453Z"
   },
   {
    "duration": 28,
    "start_time": "2022-12-20T15:24:38.030Z"
   },
   {
    "duration": 12,
    "start_time": "2022-12-20T15:24:38.060Z"
   },
   {
    "duration": 8,
    "start_time": "2022-12-20T15:24:38.075Z"
   },
   {
    "duration": 16,
    "start_time": "2022-12-20T15:24:38.084Z"
   },
   {
    "duration": 15,
    "start_time": "2022-12-20T15:24:38.102Z"
   },
   {
    "duration": 36,
    "start_time": "2022-12-20T15:24:38.119Z"
   },
   {
    "duration": 18,
    "start_time": "2022-12-20T15:24:38.157Z"
   },
   {
    "duration": 16,
    "start_time": "2022-12-20T15:24:38.177Z"
   },
   {
    "duration": 45,
    "start_time": "2022-12-20T15:24:38.195Z"
   },
   {
    "duration": 18,
    "start_time": "2022-12-20T15:24:38.241Z"
   },
   {
    "duration": 14,
    "start_time": "2022-12-20T15:24:38.261Z"
   },
   {
    "duration": 8,
    "start_time": "2022-12-20T15:24:38.277Z"
   },
   {
    "duration": 5,
    "start_time": "2022-12-20T15:24:38.286Z"
   },
   {
    "duration": 7,
    "start_time": "2022-12-20T15:24:38.293Z"
   },
   {
    "duration": 5,
    "start_time": "2022-12-20T15:24:38.302Z"
   },
   {
    "duration": 12,
    "start_time": "2022-12-20T15:24:38.308Z"
   },
   {
    "duration": 29,
    "start_time": "2022-12-20T15:24:38.322Z"
   },
   {
    "duration": 15,
    "start_time": "2022-12-20T15:24:38.353Z"
   },
   {
    "duration": 6,
    "start_time": "2022-12-20T15:24:38.370Z"
   },
   {
    "duration": 27,
    "start_time": "2022-12-20T15:24:38.378Z"
   },
   {
    "duration": 6,
    "start_time": "2022-12-20T15:24:38.409Z"
   },
   {
    "duration": 44,
    "start_time": "2022-12-20T15:24:38.416Z"
   },
   {
    "duration": 357,
    "start_time": "2022-12-20T15:24:38.461Z"
   },
   {
    "duration": 395,
    "start_time": "2022-12-20T15:24:38.820Z"
   },
   {
    "duration": 345,
    "start_time": "2022-12-20T15:24:39.217Z"
   },
   {
    "duration": 443,
    "start_time": "2022-12-20T15:24:39.564Z"
   },
   {
    "duration": 19,
    "start_time": "2022-12-20T15:24:40.009Z"
   },
   {
    "duration": 212,
    "start_time": "2022-12-20T15:24:40.029Z"
   },
   {
    "duration": 488,
    "start_time": "2022-12-20T15:24:40.243Z"
   },
   {
    "duration": 273,
    "start_time": "2022-12-20T15:25:03.217Z"
   },
   {
    "duration": 73,
    "start_time": "2022-12-20T18:03:00.947Z"
   },
   {
    "duration": 1653,
    "start_time": "2022-12-20T18:03:27.792Z"
   },
   {
    "duration": 160,
    "start_time": "2022-12-20T18:03:29.447Z"
   },
   {
    "duration": 36,
    "start_time": "2022-12-20T18:03:29.609Z"
   },
   {
    "duration": 28,
    "start_time": "2022-12-20T18:03:29.650Z"
   },
   {
    "duration": 14,
    "start_time": "2022-12-20T18:03:29.682Z"
   },
   {
    "duration": 79,
    "start_time": "2022-12-20T18:03:29.698Z"
   },
   {
    "duration": 1880,
    "start_time": "2022-12-20T18:03:29.779Z"
   },
   {
    "duration": 26,
    "start_time": "2022-12-20T18:03:31.661Z"
   },
   {
    "duration": 25,
    "start_time": "2022-12-20T18:03:31.689Z"
   },
   {
    "duration": 34,
    "start_time": "2022-12-20T18:03:31.717Z"
   },
   {
    "duration": 32,
    "start_time": "2022-12-20T18:03:31.752Z"
   },
   {
    "duration": 17,
    "start_time": "2022-12-20T18:03:31.787Z"
   },
   {
    "duration": 37,
    "start_time": "2022-12-20T18:03:31.805Z"
   },
   {
    "duration": 21,
    "start_time": "2022-12-20T18:03:31.854Z"
   },
   {
    "duration": 8,
    "start_time": "2022-12-20T18:03:31.877Z"
   },
   {
    "duration": 37,
    "start_time": "2022-12-20T18:03:31.887Z"
   },
   {
    "duration": 44,
    "start_time": "2022-12-20T18:03:31.926Z"
   },
   {
    "duration": 19,
    "start_time": "2022-12-20T18:03:31.972Z"
   },
   {
    "duration": 14,
    "start_time": "2022-12-20T18:03:31.994Z"
   },
   {
    "duration": 46,
    "start_time": "2022-12-20T18:03:32.011Z"
   },
   {
    "duration": 22,
    "start_time": "2022-12-20T18:03:32.059Z"
   },
   {
    "duration": 11,
    "start_time": "2022-12-20T18:03:32.083Z"
   },
   {
    "duration": 15,
    "start_time": "2022-12-20T18:03:32.096Z"
   },
   {
    "duration": 50,
    "start_time": "2022-12-20T18:03:32.115Z"
   },
   {
    "duration": 19,
    "start_time": "2022-12-20T18:03:32.168Z"
   },
   {
    "duration": 9,
    "start_time": "2022-12-20T18:03:32.189Z"
   },
   {
    "duration": 85,
    "start_time": "2022-12-20T18:03:32.201Z"
   },
   {
    "duration": 7,
    "start_time": "2022-12-20T18:03:32.290Z"
   },
   {
    "duration": 31,
    "start_time": "2022-12-20T18:03:32.299Z"
   },
   {
    "duration": 455,
    "start_time": "2022-12-20T18:03:32.332Z"
   },
   {
    "duration": 435,
    "start_time": "2022-12-20T18:03:32.789Z"
   },
   {
    "duration": 372,
    "start_time": "2022-12-20T18:03:33.226Z"
   },
   {
    "duration": 473,
    "start_time": "2022-12-20T18:03:33.599Z"
   },
   {
    "duration": 21,
    "start_time": "2022-12-20T18:03:34.075Z"
   },
   {
    "duration": 279,
    "start_time": "2022-12-20T18:03:34.115Z"
   },
   {
    "duration": 524,
    "start_time": "2022-12-20T18:03:34.397Z"
   },
   {
    "duration": 247,
    "start_time": "2022-12-20T18:03:34.924Z"
   },
   {
    "duration": 23,
    "start_time": "2022-12-20T18:03:35.174Z"
   },
   {
    "duration": 273,
    "start_time": "2022-12-20T18:03:35.198Z"
   },
   {
    "duration": 8,
    "start_time": "2022-12-20T18:03:35.472Z"
   },
   {
    "duration": 83,
    "start_time": "2022-12-20T18:03:35.482Z"
   },
   {
    "duration": 220,
    "start_time": "2022-12-20T18:03:35.567Z"
   },
   {
    "duration": 240,
    "start_time": "2022-12-20T18:03:35.790Z"
   },
   {
    "duration": 460,
    "start_time": "2022-12-20T18:03:36.036Z"
   },
   {
    "duration": 481,
    "start_time": "2022-12-20T18:03:36.498Z"
   },
   {
    "duration": 18,
    "start_time": "2022-12-20T18:03:36.981Z"
   },
   {
    "duration": 462,
    "start_time": "2022-12-20T18:03:37.016Z"
   },
   {
    "duration": 218,
    "start_time": "2022-12-20T18:03:37.480Z"
   },
   {
    "duration": 23,
    "start_time": "2022-12-20T18:03:37.701Z"
   },
   {
    "duration": 230,
    "start_time": "2022-12-20T18:03:37.726Z"
   },
   {
    "duration": 10,
    "start_time": "2022-12-20T18:03:37.958Z"
   },
   {
    "duration": 317,
    "start_time": "2022-12-20T18:03:37.970Z"
   },
   {
    "duration": 10,
    "start_time": "2022-12-20T18:03:38.288Z"
   },
   {
    "duration": 203,
    "start_time": "2022-12-20T18:03:38.313Z"
   },
   {
    "duration": 11,
    "start_time": "2022-12-20T18:03:38.517Z"
   },
   {
    "duration": 193,
    "start_time": "2022-12-20T18:03:38.530Z"
   },
   {
    "duration": 13,
    "start_time": "2022-12-20T18:03:38.728Z"
   },
   {
    "duration": 160,
    "start_time": "2022-12-20T18:03:38.744Z"
   },
   {
    "duration": 16,
    "start_time": "2022-12-20T18:03:38.906Z"
   },
   {
    "duration": 259,
    "start_time": "2022-12-20T18:03:38.925Z"
   },
   {
    "duration": 14,
    "start_time": "2022-12-20T18:03:39.185Z"
   },
   {
    "duration": 77,
    "start_time": "2022-12-20T18:03:39.201Z"
   },
   {
    "duration": 337,
    "start_time": "2022-12-20T18:06:56.693Z"
   },
   {
    "duration": 405,
    "start_time": "2022-12-20T18:07:04.667Z"
   },
   {
    "duration": 337,
    "start_time": "2022-12-20T18:08:33.153Z"
   },
   {
    "duration": 164,
    "start_time": "2022-12-20T18:38:56.073Z"
   },
   {
    "duration": 192,
    "start_time": "2022-12-20T18:39:05.951Z"
   },
   {
    "duration": 173,
    "start_time": "2022-12-20T18:39:12.135Z"
   },
   {
    "duration": 300,
    "start_time": "2022-12-20T18:39:18.954Z"
   },
   {
    "duration": 165,
    "start_time": "2022-12-20T18:40:22.865Z"
   },
   {
    "duration": 207,
    "start_time": "2022-12-20T18:40:34.043Z"
   },
   {
    "duration": 183,
    "start_time": "2022-12-20T18:40:48.950Z"
   },
   {
    "duration": 257,
    "start_time": "2022-12-20T18:45:38.678Z"
   },
   {
    "duration": 196,
    "start_time": "2022-12-20T18:46:37.360Z"
   },
   {
    "duration": 162,
    "start_time": "2022-12-20T18:49:20.641Z"
   },
   {
    "duration": 209,
    "start_time": "2022-12-20T18:51:41.595Z"
   },
   {
    "duration": 218,
    "start_time": "2022-12-20T18:52:07.364Z"
   },
   {
    "duration": 6,
    "start_time": "2022-12-20T18:52:16.232Z"
   },
   {
    "duration": 202,
    "start_time": "2022-12-20T18:59:09.091Z"
   },
   {
    "duration": 197,
    "start_time": "2022-12-20T18:59:54.001Z"
   },
   {
    "duration": 3,
    "start_time": "2022-12-20T19:00:22.179Z"
   },
   {
    "duration": 344,
    "start_time": "2022-12-20T19:05:38.376Z"
   },
   {
    "duration": 3,
    "start_time": "2022-12-20T19:07:13.478Z"
   },
   {
    "duration": 5,
    "start_time": "2022-12-20T19:07:51.665Z"
   },
   {
    "duration": 221,
    "start_time": "2022-12-20T19:07:52.344Z"
   },
   {
    "duration": 276,
    "start_time": "2022-12-20T19:07:58.996Z"
   },
   {
    "duration": 207,
    "start_time": "2022-12-20T19:11:26.085Z"
   },
   {
    "duration": 191,
    "start_time": "2022-12-21T04:54:52.655Z"
   },
   {
    "duration": 2,
    "start_time": "2022-12-21T04:55:37.871Z"
   },
   {
    "duration": 175,
    "start_time": "2022-12-21T04:56:50.628Z"
   },
   {
    "duration": 165,
    "start_time": "2022-12-21T05:02:32.308Z"
   },
   {
    "duration": 2,
    "start_time": "2022-12-21T05:03:27.935Z"
   },
   {
    "duration": 269,
    "start_time": "2022-12-21T05:03:27.944Z"
   },
   {
    "duration": 18,
    "start_time": "2022-12-21T05:03:28.215Z"
   },
   {
    "duration": 38,
    "start_time": "2022-12-21T05:03:28.235Z"
   },
   {
    "duration": 10,
    "start_time": "2022-12-21T05:03:28.275Z"
   },
   {
    "duration": 27,
    "start_time": "2022-12-21T05:03:28.286Z"
   },
   {
    "duration": 1549,
    "start_time": "2022-12-21T05:03:28.315Z"
   },
   {
    "duration": 19,
    "start_time": "2022-12-21T05:03:29.867Z"
   },
   {
    "duration": 29,
    "start_time": "2022-12-21T05:03:29.888Z"
   },
   {
    "duration": 14,
    "start_time": "2022-12-21T05:03:29.919Z"
   },
   {
    "duration": 27,
    "start_time": "2022-12-21T05:03:29.937Z"
   },
   {
    "duration": 40,
    "start_time": "2022-12-21T05:03:29.966Z"
   },
   {
    "duration": 15,
    "start_time": "2022-12-21T05:03:30.007Z"
   },
   {
    "duration": 34,
    "start_time": "2022-12-21T05:03:30.024Z"
   },
   {
    "duration": 20,
    "start_time": "2022-12-21T05:03:30.060Z"
   },
   {
    "duration": 45,
    "start_time": "2022-12-21T05:03:30.082Z"
   },
   {
    "duration": 46,
    "start_time": "2022-12-21T05:03:30.129Z"
   },
   {
    "duration": 51,
    "start_time": "2022-12-21T05:03:30.177Z"
   },
   {
    "duration": 8,
    "start_time": "2022-12-21T05:03:30.230Z"
   },
   {
    "duration": 35,
    "start_time": "2022-12-21T05:03:30.240Z"
   },
   {
    "duration": 34,
    "start_time": "2022-12-21T05:03:30.277Z"
   },
   {
    "duration": 10,
    "start_time": "2022-12-21T05:03:30.313Z"
   },
   {
    "duration": 36,
    "start_time": "2022-12-21T05:03:30.325Z"
   },
   {
    "duration": 24,
    "start_time": "2022-12-21T05:03:30.363Z"
   },
   {
    "duration": 23,
    "start_time": "2022-12-21T05:03:30.388Z"
   },
   {
    "duration": 13,
    "start_time": "2022-12-21T05:03:30.413Z"
   },
   {
    "duration": 45,
    "start_time": "2022-12-21T05:03:30.427Z"
   },
   {
    "duration": 19,
    "start_time": "2022-12-21T05:03:30.474Z"
   },
   {
    "duration": 32,
    "start_time": "2022-12-21T05:03:30.498Z"
   },
   {
    "duration": 381,
    "start_time": "2022-12-21T05:03:30.532Z"
   },
   {
    "duration": 354,
    "start_time": "2022-12-21T05:03:30.915Z"
   },
   {
    "duration": 294,
    "start_time": "2022-12-21T05:03:31.270Z"
   },
   {
    "duration": 475,
    "start_time": "2022-12-21T05:03:31.565Z"
   },
   {
    "duration": 19,
    "start_time": "2022-12-21T05:03:32.042Z"
   },
   {
    "duration": 197,
    "start_time": "2022-12-21T05:03:32.063Z"
   },
   {
    "duration": 271,
    "start_time": "2022-12-21T05:03:32.263Z"
   },
   {
    "duration": 154,
    "start_time": "2022-12-21T05:03:32.536Z"
   },
   {
    "duration": 14,
    "start_time": "2022-12-21T05:03:32.691Z"
   },
   {
    "duration": 147,
    "start_time": "2022-12-21T05:03:32.712Z"
   },
   {
    "duration": 189,
    "start_time": "2022-12-21T05:03:32.861Z"
   },
   {
    "duration": 175,
    "start_time": "2022-12-21T05:03:33.052Z"
   },
   {
    "duration": 176,
    "start_time": "2022-12-21T05:03:33.229Z"
   },
   {
    "duration": 169,
    "start_time": "2022-12-21T05:03:33.412Z"
   },
   {
    "duration": 176,
    "start_time": "2022-12-21T05:03:33.584Z"
   },
   {
    "duration": 267,
    "start_time": "2022-12-21T05:03:33.762Z"
   },
   {
    "duration": 174,
    "start_time": "2022-12-21T05:04:24.779Z"
   },
   {
    "duration": 159,
    "start_time": "2022-12-21T05:04:26.574Z"
   },
   {
    "duration": 44,
    "start_time": "2022-12-21T05:14:27.823Z"
   },
   {
    "duration": 1195,
    "start_time": "2022-12-21T05:21:14.836Z"
   },
   {
    "duration": 203,
    "start_time": "2022-12-21T05:21:16.033Z"
   },
   {
    "duration": 20,
    "start_time": "2022-12-21T05:21:16.238Z"
   },
   {
    "duration": 15,
    "start_time": "2022-12-21T05:21:16.261Z"
   },
   {
    "duration": 9,
    "start_time": "2022-12-21T05:21:16.278Z"
   },
   {
    "duration": 89,
    "start_time": "2022-12-21T05:21:16.289Z"
   },
   {
    "duration": 1587,
    "start_time": "2022-12-21T05:21:16.380Z"
   },
   {
    "duration": 19,
    "start_time": "2022-12-21T05:21:17.969Z"
   },
   {
    "duration": 24,
    "start_time": "2022-12-21T05:21:17.990Z"
   },
   {
    "duration": 8,
    "start_time": "2022-12-21T05:21:18.017Z"
   },
   {
    "duration": 17,
    "start_time": "2022-12-21T05:21:18.026Z"
   },
   {
    "duration": 16,
    "start_time": "2022-12-21T05:21:18.045Z"
   },
   {
    "duration": 9,
    "start_time": "2022-12-21T05:21:18.063Z"
   },
   {
    "duration": 41,
    "start_time": "2022-12-21T05:21:18.074Z"
   },
   {
    "duration": 7,
    "start_time": "2022-12-21T05:21:18.117Z"
   },
   {
    "duration": 32,
    "start_time": "2022-12-21T05:21:18.126Z"
   },
   {
    "duration": 10,
    "start_time": "2022-12-21T05:21:18.159Z"
   },
   {
    "duration": 12,
    "start_time": "2022-12-21T05:21:18.170Z"
   },
   {
    "duration": 36,
    "start_time": "2022-12-21T05:21:18.183Z"
   },
   {
    "duration": 11,
    "start_time": "2022-12-21T05:21:18.221Z"
   },
   {
    "duration": 11,
    "start_time": "2022-12-21T05:21:18.234Z"
   },
   {
    "duration": 7,
    "start_time": "2022-12-21T05:21:18.247Z"
   },
   {
    "duration": 11,
    "start_time": "2022-12-21T05:21:18.255Z"
   },
   {
    "duration": 10,
    "start_time": "2022-12-21T05:21:18.268Z"
   },
   {
    "duration": 13,
    "start_time": "2022-12-21T05:21:18.280Z"
   },
   {
    "duration": 5,
    "start_time": "2022-12-21T05:21:18.312Z"
   },
   {
    "duration": 25,
    "start_time": "2022-12-21T05:21:18.319Z"
   },
   {
    "duration": 5,
    "start_time": "2022-12-21T05:21:18.348Z"
   },
   {
    "duration": 16,
    "start_time": "2022-12-21T05:21:18.354Z"
   },
   {
    "duration": 353,
    "start_time": "2022-12-21T05:21:18.371Z"
   },
   {
    "duration": 342,
    "start_time": "2022-12-21T05:21:18.725Z"
   },
   {
    "duration": 348,
    "start_time": "2022-12-21T05:21:19.069Z"
   },
   {
    "duration": 342,
    "start_time": "2022-12-21T05:21:19.419Z"
   },
   {
    "duration": 18,
    "start_time": "2022-12-21T05:21:19.763Z"
   },
   {
    "duration": 198,
    "start_time": "2022-12-21T05:21:19.783Z"
   },
   {
    "duration": 435,
    "start_time": "2022-12-21T05:21:19.983Z"
   },
   {
    "duration": 174,
    "start_time": "2022-12-21T05:21:20.420Z"
   },
   {
    "duration": 17,
    "start_time": "2022-12-21T05:21:20.596Z"
   },
   {
    "duration": 161,
    "start_time": "2022-12-21T05:21:20.615Z"
   },
   {
    "duration": 157,
    "start_time": "2022-12-21T05:21:20.778Z"
   },
   {
    "duration": 168,
    "start_time": "2022-12-21T05:21:20.937Z"
   },
   {
    "duration": 168,
    "start_time": "2022-12-21T05:21:21.107Z"
   },
   {
    "duration": 173,
    "start_time": "2022-12-21T05:21:21.277Z"
   },
   {
    "duration": 182,
    "start_time": "2022-12-21T05:21:21.452Z"
   },
   {
    "duration": 171,
    "start_time": "2022-12-21T05:21:21.636Z"
   },
   {
    "duration": 14,
    "start_time": "2022-12-21T05:21:21.812Z"
   },
   {
    "duration": 307,
    "start_time": "2022-12-21T05:21:21.828Z"
   },
   {
    "duration": 239,
    "start_time": "2022-12-21T05:21:22.137Z"
   },
   {
    "duration": 10,
    "start_time": "2022-12-21T05:21:22.377Z"
   },
   {
    "duration": 152,
    "start_time": "2022-12-21T05:21:22.389Z"
   },
   {
    "duration": 9,
    "start_time": "2022-12-21T05:21:22.543Z"
   },
   {
    "duration": 151,
    "start_time": "2022-12-21T05:21:22.554Z"
   },
   {
    "duration": 9,
    "start_time": "2022-12-21T05:21:22.712Z"
   },
   {
    "duration": 153,
    "start_time": "2022-12-21T05:21:22.723Z"
   },
   {
    "duration": 10,
    "start_time": "2022-12-21T05:21:22.877Z"
   },
   {
    "duration": 143,
    "start_time": "2022-12-21T05:21:22.889Z"
   },
   {
    "duration": 9,
    "start_time": "2022-12-21T05:21:23.034Z"
   },
   {
    "duration": 145,
    "start_time": "2022-12-21T05:21:23.045Z"
   },
   {
    "duration": 9,
    "start_time": "2022-12-21T05:21:23.192Z"
   },
   {
    "duration": 180,
    "start_time": "2022-12-21T05:21:23.213Z"
   },
   {
    "duration": 21,
    "start_time": "2022-12-21T05:21:23.395Z"
   },
   {
    "duration": 10,
    "start_time": "2022-12-21T05:21:23.418Z"
   },
   {
    "duration": 47,
    "start_time": "2022-12-21T05:24:18.301Z"
   },
   {
    "duration": 44,
    "start_time": "2022-12-21T05:24:25.438Z"
   },
   {
    "duration": 51,
    "start_time": "2022-12-21T05:24:30.779Z"
   },
   {
    "duration": 65,
    "start_time": "2022-12-21T05:25:08.297Z"
   },
   {
    "duration": 43,
    "start_time": "2022-12-21T05:25:59.043Z"
   },
   {
    "duration": 17,
    "start_time": "2022-12-21T05:26:02.498Z"
   },
   {
    "duration": 2,
    "start_time": "2022-12-21T05:26:30.908Z"
   },
   {
    "duration": 18,
    "start_time": "2022-12-21T05:26:30.918Z"
   },
   {
    "duration": 176,
    "start_time": "2022-12-21T05:26:30.939Z"
   },
   {
    "duration": 20,
    "start_time": "2022-12-21T05:26:31.117Z"
   },
   {
    "duration": 30,
    "start_time": "2022-12-21T05:26:31.140Z"
   },
   {
    "duration": 54,
    "start_time": "2022-12-21T05:26:39.989Z"
   },
   {
    "duration": 16,
    "start_time": "2022-12-21T05:26:40.941Z"
   },
   {
    "duration": 4,
    "start_time": "2022-12-21T05:27:01.930Z"
   },
   {
    "duration": 5,
    "start_time": "2022-12-21T05:27:01.939Z"
   },
   {
    "duration": 45,
    "start_time": "2022-12-21T05:27:01.948Z"
   },
   {
    "duration": 42,
    "start_time": "2022-12-21T05:27:01.995Z"
   },
   {
    "duration": 0,
    "start_time": "2022-12-21T05:27:02.038Z"
   },
   {
    "duration": 0,
    "start_time": "2022-12-21T05:27:02.040Z"
   },
   {
    "duration": 0,
    "start_time": "2022-12-21T05:27:02.041Z"
   },
   {
    "duration": 0,
    "start_time": "2022-12-21T05:27:02.042Z"
   },
   {
    "duration": 6,
    "start_time": "2022-12-21T05:27:02.050Z"
   },
   {
    "duration": 38,
    "start_time": "2022-12-21T05:27:02.060Z"
   },
   {
    "duration": 0,
    "start_time": "2022-12-21T05:27:02.100Z"
   },
   {
    "duration": 0,
    "start_time": "2022-12-21T05:27:02.101Z"
   },
   {
    "duration": 20,
    "start_time": "2022-12-21T05:27:02.109Z"
   },
   {
    "duration": 0,
    "start_time": "2022-12-21T05:27:02.131Z"
   },
   {
    "duration": 36,
    "start_time": "2022-12-21T05:27:02.137Z"
   },
   {
    "duration": 0,
    "start_time": "2022-12-21T05:27:02.175Z"
   },
   {
    "duration": 0,
    "start_time": "2022-12-21T05:27:02.176Z"
   },
   {
    "duration": 42,
    "start_time": "2022-12-21T05:27:02.178Z"
   },
   {
    "duration": 0,
    "start_time": "2022-12-21T05:27:02.222Z"
   },
   {
    "duration": 0,
    "start_time": "2022-12-21T05:27:02.223Z"
   },
   {
    "duration": 0,
    "start_time": "2022-12-21T05:27:02.225Z"
   },
   {
    "duration": 22,
    "start_time": "2022-12-21T05:27:02.231Z"
   },
   {
    "duration": 30,
    "start_time": "2022-12-21T05:27:02.256Z"
   },
   {
    "duration": 0,
    "start_time": "2022-12-21T05:27:02.287Z"
   },
   {
    "duration": 0,
    "start_time": "2022-12-21T05:27:02.289Z"
   },
   {
    "duration": 24,
    "start_time": "2022-12-21T05:27:02.293Z"
   },
   {
    "duration": 0,
    "start_time": "2022-12-21T05:27:02.319Z"
   },
   {
    "duration": 22,
    "start_time": "2022-12-21T05:27:02.321Z"
   },
   {
    "duration": 0,
    "start_time": "2022-12-21T05:27:02.345Z"
   },
   {
    "duration": 28,
    "start_time": "2022-12-21T05:27:02.349Z"
   },
   {
    "duration": 0,
    "start_time": "2022-12-21T05:27:02.378Z"
   },
   {
    "duration": 25,
    "start_time": "2022-12-21T05:27:02.380Z"
   },
   {
    "duration": 0,
    "start_time": "2022-12-21T05:27:02.407Z"
   },
   {
    "duration": 10,
    "start_time": "2022-12-21T05:27:02.428Z"
   },
   {
    "duration": 18,
    "start_time": "2022-12-21T05:27:02.444Z"
   },
   {
    "duration": 0,
    "start_time": "2022-12-21T05:27:02.464Z"
   },
   {
    "duration": 7,
    "start_time": "2022-12-21T05:27:02.473Z"
   },
   {
    "duration": 7,
    "start_time": "2022-12-21T05:27:02.500Z"
   },
   {
    "duration": 16,
    "start_time": "2022-12-21T05:27:02.512Z"
   },
   {
    "duration": 35,
    "start_time": "2022-12-21T05:27:02.531Z"
   },
   {
    "duration": 0,
    "start_time": "2022-12-21T05:27:02.567Z"
   },
   {
    "duration": 20,
    "start_time": "2022-12-21T05:27:02.572Z"
   },
   {
    "duration": 0,
    "start_time": "2022-12-21T05:27:02.594Z"
   },
   {
    "duration": 7,
    "start_time": "2022-12-21T05:27:02.603Z"
   },
   {
    "duration": 10,
    "start_time": "2022-12-21T05:27:02.619Z"
   },
   {
    "duration": 13,
    "start_time": "2022-12-21T05:27:02.633Z"
   },
   {
    "duration": 21,
    "start_time": "2022-12-21T05:27:02.655Z"
   },
   {
    "duration": 0,
    "start_time": "2022-12-21T05:27:02.678Z"
   },
   {
    "duration": 13,
    "start_time": "2022-12-21T05:27:02.695Z"
   },
   {
    "duration": 0,
    "start_time": "2022-12-21T05:27:02.710Z"
   },
   {
    "duration": 9,
    "start_time": "2022-12-21T05:27:02.726Z"
   },
   {
    "duration": 19,
    "start_time": "2022-12-21T05:27:02.739Z"
   },
   {
    "duration": 0,
    "start_time": "2022-12-21T05:27:02.760Z"
   },
   {
    "duration": 11,
    "start_time": "2022-12-21T05:27:02.776Z"
   },
   {
    "duration": 0,
    "start_time": "2022-12-21T05:27:02.788Z"
   },
   {
    "duration": 25,
    "start_time": "2022-12-21T05:27:02.800Z"
   },
   {
    "duration": 0,
    "start_time": "2022-12-21T05:27:02.828Z"
   },
   {
    "duration": 24,
    "start_time": "2022-12-21T05:27:02.833Z"
   },
   {
    "duration": 0,
    "start_time": "2022-12-21T05:27:02.859Z"
   },
   {
    "duration": 46,
    "start_time": "2022-12-21T05:27:02.862Z"
   },
   {
    "duration": 0,
    "start_time": "2022-12-21T05:27:02.910Z"
   },
   {
    "duration": 0,
    "start_time": "2022-12-21T05:27:02.911Z"
   },
   {
    "duration": 36,
    "start_time": "2022-12-21T05:27:02.914Z"
   },
   {
    "duration": 1250,
    "start_time": "2022-12-21T05:31:01.793Z"
   },
   {
    "duration": 186,
    "start_time": "2022-12-21T05:31:03.045Z"
   },
   {
    "duration": 3,
    "start_time": "2022-12-21T05:31:03.233Z"
   },
   {
    "duration": 23,
    "start_time": "2022-12-21T05:31:03.237Z"
   },
   {
    "duration": 16,
    "start_time": "2022-12-21T05:31:03.262Z"
   },
   {
    "duration": 10,
    "start_time": "2022-12-21T05:31:03.280Z"
   },
   {
    "duration": 54,
    "start_time": "2022-12-21T05:31:03.312Z"
   },
   {
    "duration": 1512,
    "start_time": "2022-12-21T05:31:03.368Z"
   },
   {
    "duration": 31,
    "start_time": "2022-12-21T05:31:04.883Z"
   },
   {
    "duration": 29,
    "start_time": "2022-12-21T05:31:04.917Z"
   },
   {
    "duration": 15,
    "start_time": "2022-12-21T05:31:04.948Z"
   },
   {
    "duration": 28,
    "start_time": "2022-12-21T05:31:04.964Z"
   },
   {
    "duration": 29,
    "start_time": "2022-12-21T05:31:04.994Z"
   },
   {
    "duration": 23,
    "start_time": "2022-12-21T05:31:05.025Z"
   },
   {
    "duration": 24,
    "start_time": "2022-12-21T05:31:05.051Z"
   },
   {
    "duration": 9,
    "start_time": "2022-12-21T05:31:05.077Z"
   },
   {
    "duration": 30,
    "start_time": "2022-12-21T05:31:05.088Z"
   },
   {
    "duration": 18,
    "start_time": "2022-12-21T05:31:05.119Z"
   },
   {
    "duration": 18,
    "start_time": "2022-12-21T05:31:05.139Z"
   },
   {
    "duration": 9,
    "start_time": "2022-12-21T05:31:05.158Z"
   },
   {
    "duration": 14,
    "start_time": "2022-12-21T05:31:05.169Z"
   },
   {
    "duration": 14,
    "start_time": "2022-12-21T05:31:05.185Z"
   },
   {
    "duration": 9,
    "start_time": "2022-12-21T05:31:05.201Z"
   },
   {
    "duration": 17,
    "start_time": "2022-12-21T05:31:05.212Z"
   },
   {
    "duration": 23,
    "start_time": "2022-12-21T05:31:05.230Z"
   },
   {
    "duration": 18,
    "start_time": "2022-12-21T05:31:05.254Z"
   },
   {
    "duration": 11,
    "start_time": "2022-12-21T05:31:05.274Z"
   },
   {
    "duration": 24,
    "start_time": "2022-12-21T05:31:05.289Z"
   },
   {
    "duration": 6,
    "start_time": "2022-12-21T05:31:05.315Z"
   },
   {
    "duration": 23,
    "start_time": "2022-12-21T05:31:05.322Z"
   },
   {
    "duration": 371,
    "start_time": "2022-12-21T05:31:05.347Z"
   },
   {
    "duration": 376,
    "start_time": "2022-12-21T05:31:05.720Z"
   },
   {
    "duration": 372,
    "start_time": "2022-12-21T05:31:06.099Z"
   },
   {
    "duration": 360,
    "start_time": "2022-12-21T05:31:06.473Z"
   },
   {
    "duration": 18,
    "start_time": "2022-12-21T05:31:06.835Z"
   },
   {
    "duration": 215,
    "start_time": "2022-12-21T05:31:06.856Z"
   },
   {
    "duration": 450,
    "start_time": "2022-12-21T05:31:07.073Z"
   },
   {
    "duration": 165,
    "start_time": "2022-12-21T05:31:07.525Z"
   },
   {
    "duration": 22,
    "start_time": "2022-12-21T05:31:07.691Z"
   },
   {
    "duration": 153,
    "start_time": "2022-12-21T05:31:07.714Z"
   },
   {
    "duration": 182,
    "start_time": "2022-12-21T05:31:07.869Z"
   },
   {
    "duration": 172,
    "start_time": "2022-12-21T05:31:08.054Z"
   },
   {
    "duration": 170,
    "start_time": "2022-12-21T05:31:08.228Z"
   },
   {
    "duration": 175,
    "start_time": "2022-12-21T05:31:08.400Z"
   },
   {
    "duration": 180,
    "start_time": "2022-12-21T05:31:08.577Z"
   },
   {
    "duration": 175,
    "start_time": "2022-12-21T05:31:08.758Z"
   },
   {
    "duration": 13,
    "start_time": "2022-12-21T05:31:08.935Z"
   },
   {
    "duration": 308,
    "start_time": "2022-12-21T05:31:08.949Z"
   },
   {
    "duration": 255,
    "start_time": "2022-12-21T05:31:09.259Z"
   },
   {
    "duration": 13,
    "start_time": "2022-12-21T05:31:09.516Z"
   },
   {
    "duration": 149,
    "start_time": "2022-12-21T05:31:09.531Z"
   },
   {
    "duration": 10,
    "start_time": "2022-12-21T05:31:09.682Z"
   },
   {
    "duration": 183,
    "start_time": "2022-12-21T05:31:09.694Z"
   },
   {
    "duration": 10,
    "start_time": "2022-12-21T05:31:09.879Z"
   },
   {
    "duration": 168,
    "start_time": "2022-12-21T05:31:09.890Z"
   },
   {
    "duration": 13,
    "start_time": "2022-12-21T05:31:10.060Z"
   },
   {
    "duration": 170,
    "start_time": "2022-12-21T05:31:10.076Z"
   },
   {
    "duration": 10,
    "start_time": "2022-12-21T05:31:10.248Z"
   },
   {
    "duration": 151,
    "start_time": "2022-12-21T05:31:10.261Z"
   },
   {
    "duration": 10,
    "start_time": "2022-12-21T05:31:10.414Z"
   },
   {
    "duration": 189,
    "start_time": "2022-12-21T05:31:10.425Z"
   },
   {
    "duration": 12,
    "start_time": "2022-12-21T05:31:10.616Z"
   },
   {
    "duration": 21,
    "start_time": "2022-12-21T05:31:10.630Z"
   },
   {
    "duration": 54,
    "start_time": "2022-12-21T05:33:48.938Z"
   },
   {
    "duration": 36,
    "start_time": "2022-12-21T05:34:58.285Z"
   },
   {
    "duration": 1883,
    "start_time": "2022-12-21T05:36:48.507Z"
   },
   {
    "duration": 4,
    "start_time": "2022-12-21T05:41:28.540Z"
   },
   {
    "duration": 15,
    "start_time": "2022-12-21T05:41:42.244Z"
   },
   {
    "duration": 113,
    "start_time": "2022-12-21T05:48:58.798Z"
   },
   {
    "duration": 418,
    "start_time": "2022-12-21T05:50:46.619Z"
   },
   {
    "duration": 586,
    "start_time": "2022-12-21T05:51:06.162Z"
   },
   {
    "duration": 403,
    "start_time": "2022-12-21T05:52:59.752Z"
   },
   {
    "duration": 19,
    "start_time": "2022-12-21T05:55:39.689Z"
   },
   {
    "duration": 197,
    "start_time": "2022-12-21T06:00:01.474Z"
   },
   {
    "duration": 205,
    "start_time": "2022-12-21T10:00:02.167Z"
   },
   {
    "duration": 176,
    "start_time": "2022-12-21T10:00:09.448Z"
   },
   {
    "duration": 251,
    "start_time": "2022-12-21T10:01:26.231Z"
   },
   {
    "duration": 261,
    "start_time": "2022-12-21T10:01:42.198Z"
   },
   {
    "duration": 214,
    "start_time": "2022-12-21T10:01:47.956Z"
   },
   {
    "duration": 225,
    "start_time": "2022-12-21T10:01:53.733Z"
   },
   {
    "duration": 355,
    "start_time": "2022-12-21T10:01:58.779Z"
   },
   {
    "duration": 260,
    "start_time": "2022-12-21T10:02:03.347Z"
   },
   {
    "duration": 248,
    "start_time": "2022-12-21T10:02:08.192Z"
   },
   {
    "duration": 198,
    "start_time": "2022-12-21T10:02:37.376Z"
   },
   {
    "duration": 230,
    "start_time": "2022-12-21T10:03:45.762Z"
   },
   {
    "duration": 264,
    "start_time": "2022-12-21T10:04:47.250Z"
   },
   {
    "duration": 228,
    "start_time": "2022-12-21T10:05:07.393Z"
   },
   {
    "duration": 198,
    "start_time": "2022-12-21T10:05:54.198Z"
   },
   {
    "duration": 270,
    "start_time": "2022-12-21T10:06:00.997Z"
   },
   {
    "duration": 257,
    "start_time": "2022-12-21T10:06:08.447Z"
   },
   {
    "duration": 271,
    "start_time": "2022-12-21T10:06:43.887Z"
   },
   {
    "duration": 340,
    "start_time": "2022-12-21T10:07:11.442Z"
   },
   {
    "duration": 179,
    "start_time": "2022-12-21T10:18:43.823Z"
   },
   {
    "duration": 385,
    "start_time": "2022-12-21T11:23:34.315Z"
   },
   {
    "duration": 4,
    "start_time": "2022-12-21T11:24:31.261Z"
   },
   {
    "duration": 89,
    "start_time": "2022-12-21T11:24:38.285Z"
   },
   {
    "duration": 377,
    "start_time": "2022-12-21T11:34:40.971Z"
   },
   {
    "duration": 407,
    "start_time": "2022-12-21T11:34:54.646Z"
   },
   {
    "duration": 531,
    "start_time": "2022-12-21T12:08:32.196Z"
   },
   {
    "duration": 4,
    "start_time": "2022-12-21T12:22:56.793Z"
   },
   {
    "duration": 47,
    "start_time": "2022-12-21T12:22:56.803Z"
   },
   {
    "duration": 65,
    "start_time": "2022-12-21T12:22:56.852Z"
   },
   {
    "duration": 26,
    "start_time": "2022-12-21T12:22:56.919Z"
   },
   {
    "duration": 1291,
    "start_time": "2022-12-21T12:23:24.551Z"
   },
   {
    "duration": 5,
    "start_time": "2022-12-21T12:23:25.850Z"
   },
   {
    "duration": 87,
    "start_time": "2022-12-21T12:23:25.857Z"
   },
   {
    "duration": 118,
    "start_time": "2022-12-21T12:23:25.948Z"
   },
   {
    "duration": 0,
    "start_time": "2022-12-21T12:23:26.069Z"
   },
   {
    "duration": 0,
    "start_time": "2022-12-21T12:23:26.071Z"
   },
   {
    "duration": 0,
    "start_time": "2022-12-21T12:23:26.073Z"
   },
   {
    "duration": 0,
    "start_time": "2022-12-21T12:23:26.074Z"
   },
   {
    "duration": 0,
    "start_time": "2022-12-21T12:23:26.076Z"
   },
   {
    "duration": 0,
    "start_time": "2022-12-21T12:23:26.077Z"
   },
   {
    "duration": 0,
    "start_time": "2022-12-21T12:23:26.079Z"
   },
   {
    "duration": 0,
    "start_time": "2022-12-21T12:23:26.081Z"
   },
   {
    "duration": 0,
    "start_time": "2022-12-21T12:23:26.082Z"
   },
   {
    "duration": 0,
    "start_time": "2022-12-21T12:23:26.083Z"
   },
   {
    "duration": 0,
    "start_time": "2022-12-21T12:23:26.085Z"
   },
   {
    "duration": 0,
    "start_time": "2022-12-21T12:23:26.085Z"
   },
   {
    "duration": 0,
    "start_time": "2022-12-21T12:23:26.129Z"
   },
   {
    "duration": 0,
    "start_time": "2022-12-21T12:23:26.138Z"
   },
   {
    "duration": 0,
    "start_time": "2022-12-21T12:23:26.139Z"
   },
   {
    "duration": 0,
    "start_time": "2022-12-21T12:23:26.140Z"
   },
   {
    "duration": 0,
    "start_time": "2022-12-21T12:23:26.141Z"
   },
   {
    "duration": 0,
    "start_time": "2022-12-21T12:23:26.144Z"
   },
   {
    "duration": 0,
    "start_time": "2022-12-21T12:23:26.146Z"
   },
   {
    "duration": 0,
    "start_time": "2022-12-21T12:23:26.147Z"
   },
   {
    "duration": 0,
    "start_time": "2022-12-21T12:23:26.149Z"
   },
   {
    "duration": 0,
    "start_time": "2022-12-21T12:23:26.150Z"
   },
   {
    "duration": 0,
    "start_time": "2022-12-21T12:23:26.152Z"
   },
   {
    "duration": 1,
    "start_time": "2022-12-21T12:23:26.155Z"
   },
   {
    "duration": 0,
    "start_time": "2022-12-21T12:23:26.156Z"
   },
   {
    "duration": 0,
    "start_time": "2022-12-21T12:23:26.158Z"
   },
   {
    "duration": 0,
    "start_time": "2022-12-21T12:23:26.159Z"
   },
   {
    "duration": 0,
    "start_time": "2022-12-21T12:23:26.160Z"
   },
   {
    "duration": 0,
    "start_time": "2022-12-21T12:23:26.162Z"
   },
   {
    "duration": 0,
    "start_time": "2022-12-21T12:23:26.163Z"
   },
   {
    "duration": 0,
    "start_time": "2022-12-21T12:23:26.164Z"
   },
   {
    "duration": 0,
    "start_time": "2022-12-21T12:23:26.166Z"
   },
   {
    "duration": 0,
    "start_time": "2022-12-21T12:23:26.167Z"
   },
   {
    "duration": 0,
    "start_time": "2022-12-21T12:23:26.169Z"
   },
   {
    "duration": 0,
    "start_time": "2022-12-21T12:23:26.170Z"
   },
   {
    "duration": 0,
    "start_time": "2022-12-21T12:23:26.172Z"
   },
   {
    "duration": 0,
    "start_time": "2022-12-21T12:23:26.174Z"
   },
   {
    "duration": 0,
    "start_time": "2022-12-21T12:23:26.216Z"
   },
   {
    "duration": 0,
    "start_time": "2022-12-21T12:23:26.218Z"
   },
   {
    "duration": 0,
    "start_time": "2022-12-21T12:23:26.219Z"
   },
   {
    "duration": 0,
    "start_time": "2022-12-21T12:23:26.221Z"
   },
   {
    "duration": 0,
    "start_time": "2022-12-21T12:23:26.222Z"
   },
   {
    "duration": 0,
    "start_time": "2022-12-21T12:23:26.225Z"
   },
   {
    "duration": 0,
    "start_time": "2022-12-21T12:23:26.228Z"
   },
   {
    "duration": 0,
    "start_time": "2022-12-21T12:23:26.231Z"
   },
   {
    "duration": 0,
    "start_time": "2022-12-21T12:23:26.235Z"
   },
   {
    "duration": 0,
    "start_time": "2022-12-21T12:23:26.238Z"
   },
   {
    "duration": 0,
    "start_time": "2022-12-21T12:23:26.242Z"
   },
   {
    "duration": 0,
    "start_time": "2022-12-21T12:23:26.252Z"
   },
   {
    "duration": 0,
    "start_time": "2022-12-21T12:23:26.254Z"
   },
   {
    "duration": 0,
    "start_time": "2022-12-21T12:23:26.256Z"
   },
   {
    "duration": 0,
    "start_time": "2022-12-21T12:23:26.258Z"
   },
   {
    "duration": 0,
    "start_time": "2022-12-21T12:23:26.259Z"
   },
   {
    "duration": 0,
    "start_time": "2022-12-21T12:23:26.261Z"
   },
   {
    "duration": 0,
    "start_time": "2022-12-21T12:23:26.262Z"
   },
   {
    "duration": 0,
    "start_time": "2022-12-21T12:23:26.264Z"
   },
   {
    "duration": 0,
    "start_time": "2022-12-21T12:23:26.266Z"
   },
   {
    "duration": 1,
    "start_time": "2022-12-21T12:23:26.267Z"
   },
   {
    "duration": 0,
    "start_time": "2022-12-21T12:23:26.269Z"
   },
   {
    "duration": 0,
    "start_time": "2022-12-21T12:23:26.271Z"
   },
   {
    "duration": 0,
    "start_time": "2022-12-21T12:23:26.272Z"
   },
   {
    "duration": 1405,
    "start_time": "2022-12-21T12:25:16.946Z"
   },
   {
    "duration": 180,
    "start_time": "2022-12-21T12:25:18.358Z"
   },
   {
    "duration": 5,
    "start_time": "2022-12-21T12:25:18.539Z"
   },
   {
    "duration": 25,
    "start_time": "2022-12-21T12:25:18.547Z"
   },
   {
    "duration": 22,
    "start_time": "2022-12-21T12:25:18.575Z"
   },
   {
    "duration": 14,
    "start_time": "2022-12-21T12:25:18.599Z"
   },
   {
    "duration": 92,
    "start_time": "2022-12-21T12:25:18.615Z"
   },
   {
    "duration": 64,
    "start_time": "2022-12-21T12:25:18.709Z"
   },
   {
    "duration": 50,
    "start_time": "2022-12-21T12:25:18.776Z"
   },
   {
    "duration": 1798,
    "start_time": "2022-12-21T12:25:18.829Z"
   },
   {
    "duration": 25,
    "start_time": "2022-12-21T12:25:20.630Z"
   },
   {
    "duration": 12,
    "start_time": "2022-12-21T12:25:20.657Z"
   },
   {
    "duration": 13,
    "start_time": "2022-12-21T12:25:20.671Z"
   },
   {
    "duration": 51,
    "start_time": "2022-12-21T12:25:20.686Z"
   },
   {
    "duration": 53,
    "start_time": "2022-12-21T12:25:20.740Z"
   },
   {
    "duration": 10,
    "start_time": "2022-12-21T12:25:20.795Z"
   },
   {
    "duration": 57,
    "start_time": "2022-12-21T12:25:20.807Z"
   },
   {
    "duration": 11,
    "start_time": "2022-12-21T12:25:20.866Z"
   },
   {
    "duration": 62,
    "start_time": "2022-12-21T12:25:20.880Z"
   },
   {
    "duration": 51,
    "start_time": "2022-12-21T12:25:20.944Z"
   },
   {
    "duration": 63,
    "start_time": "2022-12-21T12:25:20.997Z"
   },
   {
    "duration": 13,
    "start_time": "2022-12-21T12:25:21.063Z"
   },
   {
    "duration": 19,
    "start_time": "2022-12-21T12:25:21.078Z"
   },
   {
    "duration": 19,
    "start_time": "2022-12-21T12:25:21.099Z"
   },
   {
    "duration": 46,
    "start_time": "2022-12-21T12:25:21.123Z"
   },
   {
    "duration": 29,
    "start_time": "2022-12-21T12:25:21.171Z"
   },
   {
    "duration": 46,
    "start_time": "2022-12-21T12:25:21.202Z"
   },
   {
    "duration": 30,
    "start_time": "2022-12-21T12:25:21.252Z"
   },
   {
    "duration": 19,
    "start_time": "2022-12-21T12:25:21.283Z"
   },
   {
    "duration": 73,
    "start_time": "2022-12-21T12:25:21.304Z"
   },
   {
    "duration": 6,
    "start_time": "2022-12-21T12:25:21.379Z"
   },
   {
    "duration": 30,
    "start_time": "2022-12-21T12:25:21.387Z"
   },
   {
    "duration": 438,
    "start_time": "2022-12-21T12:25:21.419Z"
   },
   {
    "duration": 423,
    "start_time": "2022-12-21T12:25:21.860Z"
   },
   {
    "duration": 377,
    "start_time": "2022-12-21T12:25:22.284Z"
   },
   {
    "duration": 420,
    "start_time": "2022-12-21T12:25:22.663Z"
   },
   {
    "duration": 29,
    "start_time": "2022-12-21T12:25:23.085Z"
   },
   {
    "duration": 216,
    "start_time": "2022-12-21T12:25:23.116Z"
   },
   {
    "duration": 462,
    "start_time": "2022-12-21T12:25:23.334Z"
   },
   {
    "duration": 244,
    "start_time": "2022-12-21T12:25:23.798Z"
   },
   {
    "duration": 18,
    "start_time": "2022-12-21T12:25:24.044Z"
   },
   {
    "duration": 297,
    "start_time": "2022-12-21T12:25:24.064Z"
   },
   {
    "duration": 207,
    "start_time": "2022-12-21T12:25:24.363Z"
   },
   {
    "duration": 202,
    "start_time": "2022-12-21T12:25:24.572Z"
   },
   {
    "duration": 232,
    "start_time": "2022-12-21T12:25:24.776Z"
   },
   {
    "duration": 231,
    "start_time": "2022-12-21T12:25:25.011Z"
   },
   {
    "duration": 208,
    "start_time": "2022-12-21T12:25:25.245Z"
   },
   {
    "duration": 218,
    "start_time": "2022-12-21T12:25:25.455Z"
   },
   {
    "duration": 23,
    "start_time": "2022-12-21T12:25:25.675Z"
   },
   {
    "duration": 436,
    "start_time": "2022-12-21T12:25:25.714Z"
   },
   {
    "duration": 338,
    "start_time": "2022-12-21T12:25:26.152Z"
   },
   {
    "duration": 35,
    "start_time": "2022-12-21T12:25:26.492Z"
   },
   {
    "duration": 256,
    "start_time": "2022-12-21T12:25:26.531Z"
   },
   {
    "duration": 25,
    "start_time": "2022-12-21T12:25:26.789Z"
   },
   {
    "duration": 247,
    "start_time": "2022-12-21T12:25:26.821Z"
   },
   {
    "duration": 10,
    "start_time": "2022-12-21T12:25:27.071Z"
   },
   {
    "duration": 191,
    "start_time": "2022-12-21T12:25:27.082Z"
   },
   {
    "duration": 11,
    "start_time": "2022-12-21T12:25:27.275Z"
   },
   {
    "duration": 198,
    "start_time": "2022-12-21T12:25:27.289Z"
   },
   {
    "duration": 28,
    "start_time": "2022-12-21T12:25:27.490Z"
   },
   {
    "duration": 174,
    "start_time": "2022-12-21T12:25:27.522Z"
   },
   {
    "duration": 12,
    "start_time": "2022-12-21T12:25:27.698Z"
   },
   {
    "duration": 281,
    "start_time": "2022-12-21T12:25:27.713Z"
   },
   {
    "duration": 30,
    "start_time": "2022-12-21T12:25:27.996Z"
   },
   {
    "duration": 27,
    "start_time": "2022-12-21T12:25:28.036Z"
   },
   {
    "duration": 313,
    "start_time": "2022-12-21T13:00:09.049Z"
   },
   {
    "duration": 211,
    "start_time": "2022-12-21T13:01:28.800Z"
   },
   {
    "duration": 104,
    "start_time": "2023-05-11T05:31:15.175Z"
   },
   {
    "duration": 39,
    "start_time": "2023-05-11T05:34:27.829Z"
   },
   {
    "duration": 1405,
    "start_time": "2023-05-11T05:34:35.873Z"
   },
   {
    "duration": 300,
    "start_time": "2023-05-11T05:34:37.280Z"
   },
   {
    "duration": 27,
    "start_time": "2023-05-11T05:34:37.581Z"
   },
   {
    "duration": 30,
    "start_time": "2023-05-11T05:34:37.611Z"
   },
   {
    "duration": 52,
    "start_time": "2023-05-11T05:34:37.643Z"
   },
   {
    "duration": 34,
    "start_time": "2023-05-11T05:34:37.698Z"
   },
   {
    "duration": 30,
    "start_time": "2023-05-11T05:34:37.734Z"
   },
   {
    "duration": 1499,
    "start_time": "2023-05-11T05:34:37.766Z"
   },
   {
    "duration": 27,
    "start_time": "2023-05-11T05:34:39.267Z"
   },
   {
    "duration": 17,
    "start_time": "2023-05-11T05:34:39.296Z"
   },
   {
    "duration": 15,
    "start_time": "2023-05-11T05:34:39.317Z"
   },
   {
    "duration": 17,
    "start_time": "2023-05-11T05:34:39.334Z"
   },
   {
    "duration": 14,
    "start_time": "2023-05-11T05:34:39.353Z"
   },
   {
    "duration": 8,
    "start_time": "2023-05-11T05:34:39.371Z"
   },
   {
    "duration": 21,
    "start_time": "2023-05-11T05:34:39.395Z"
   },
   {
    "duration": 7,
    "start_time": "2023-05-11T05:34:39.418Z"
   },
   {
    "duration": 20,
    "start_time": "2023-05-11T05:34:39.426Z"
   },
   {
    "duration": 7,
    "start_time": "2023-05-11T05:34:39.448Z"
   },
   {
    "duration": 11,
    "start_time": "2023-05-11T05:34:39.456Z"
   },
   {
    "duration": 26,
    "start_time": "2023-05-11T05:34:39.469Z"
   },
   {
    "duration": 5,
    "start_time": "2023-05-11T05:34:39.497Z"
   },
   {
    "duration": 13,
    "start_time": "2023-05-11T05:34:39.505Z"
   },
   {
    "duration": 6,
    "start_time": "2023-05-11T05:34:39.519Z"
   },
   {
    "duration": 9,
    "start_time": "2023-05-11T05:34:39.526Z"
   },
   {
    "duration": 9,
    "start_time": "2023-05-11T05:34:39.537Z"
   },
   {
    "duration": 15,
    "start_time": "2023-05-11T05:34:39.547Z"
   },
   {
    "duration": 4,
    "start_time": "2023-05-11T05:34:39.564Z"
   },
   {
    "duration": 29,
    "start_time": "2023-05-11T05:34:39.594Z"
   },
   {
    "duration": 5,
    "start_time": "2023-05-11T05:34:39.625Z"
   },
   {
    "duration": 15,
    "start_time": "2023-05-11T05:34:39.631Z"
   },
   {
    "duration": 374,
    "start_time": "2023-05-11T05:34:39.648Z"
   },
   {
    "duration": 335,
    "start_time": "2023-05-11T05:34:40.024Z"
   },
   {
    "duration": 313,
    "start_time": "2023-05-11T05:34:40.361Z"
   },
   {
    "duration": 338,
    "start_time": "2023-05-11T05:34:40.676Z"
   },
   {
    "duration": 17,
    "start_time": "2023-05-11T05:34:41.015Z"
   },
   {
    "duration": 192,
    "start_time": "2023-05-11T05:34:41.033Z"
   },
   {
    "duration": 390,
    "start_time": "2023-05-11T05:34:41.227Z"
   },
   {
    "duration": 195,
    "start_time": "2023-05-11T05:34:41.619Z"
   },
   {
    "duration": 16,
    "start_time": "2023-05-11T05:34:41.816Z"
   },
   {
    "duration": 188,
    "start_time": "2023-05-11T05:34:41.833Z"
   },
   {
    "duration": 185,
    "start_time": "2023-05-11T05:34:42.024Z"
   },
   {
    "duration": 169,
    "start_time": "2023-05-11T05:34:42.212Z"
   },
   {
    "duration": 166,
    "start_time": "2023-05-11T05:34:42.383Z"
   },
   {
    "duration": 165,
    "start_time": "2023-05-11T05:34:42.551Z"
   },
   {
    "duration": 169,
    "start_time": "2023-05-11T05:34:42.718Z"
   },
   {
    "duration": 177,
    "start_time": "2023-05-11T05:34:42.888Z"
   },
   {
    "duration": 12,
    "start_time": "2023-05-11T05:34:43.067Z"
   },
   {
    "duration": 342,
    "start_time": "2023-05-11T05:34:43.081Z"
   },
   {
    "duration": 227,
    "start_time": "2023-05-11T05:34:43.425Z"
   },
   {
    "duration": 8,
    "start_time": "2023-05-11T05:34:43.654Z"
   },
   {
    "duration": 152,
    "start_time": "2023-05-11T05:34:43.663Z"
   },
   {
    "duration": 8,
    "start_time": "2023-05-11T05:34:43.817Z"
   },
   {
    "duration": 161,
    "start_time": "2023-05-11T05:34:43.827Z"
   },
   {
    "duration": 18,
    "start_time": "2023-05-11T05:34:43.989Z"
   },
   {
    "duration": 144,
    "start_time": "2023-05-11T05:34:44.010Z"
   },
   {
    "duration": 9,
    "start_time": "2023-05-11T05:34:44.155Z"
   },
   {
    "duration": 150,
    "start_time": "2023-05-11T05:34:44.166Z"
   },
   {
    "duration": 8,
    "start_time": "2023-05-11T05:34:44.317Z"
   },
   {
    "duration": 135,
    "start_time": "2023-05-11T05:34:44.327Z"
   },
   {
    "duration": 8,
    "start_time": "2023-05-11T05:34:44.465Z"
   },
   {
    "duration": 189,
    "start_time": "2023-05-11T05:34:44.475Z"
   },
   {
    "duration": 13,
    "start_time": "2023-05-11T05:34:44.666Z"
   },
   {
    "duration": 22,
    "start_time": "2023-05-11T05:34:44.681Z"
   },
   {
    "duration": 48,
    "start_time": "2023-05-11T05:34:59.092Z"
   },
   {
    "duration": 42,
    "start_time": "2023-05-11T05:35:03.812Z"
   },
   {
    "duration": 21,
    "start_time": "2023-05-11T05:36:31.849Z"
   },
   {
    "duration": 352,
    "start_time": "2023-05-11T05:40:15.082Z"
   },
   {
    "duration": 375,
    "start_time": "2023-05-11T05:41:35.354Z"
   },
   {
    "duration": 492,
    "start_time": "2023-05-11T05:42:33.269Z"
   },
   {
    "duration": 344,
    "start_time": "2023-05-11T05:42:43.914Z"
   },
   {
    "duration": 305,
    "start_time": "2023-05-11T05:43:09.629Z"
   },
   {
    "duration": 372,
    "start_time": "2023-05-11T05:44:54.348Z"
   },
   {
    "duration": 121,
    "start_time": "2023-05-11T05:45:09.125Z"
   },
   {
    "duration": 388,
    "start_time": "2023-05-11T05:45:24.472Z"
   },
   {
    "duration": 296,
    "start_time": "2023-05-11T05:47:45.817Z"
   },
   {
    "duration": 185,
    "start_time": "2023-05-11T05:47:52.261Z"
   },
   {
    "duration": 195,
    "start_time": "2023-05-11T05:47:57.164Z"
   },
   {
    "duration": 202,
    "start_time": "2023-05-11T05:48:16.521Z"
   },
   {
    "duration": 184,
    "start_time": "2023-05-11T05:48:29.743Z"
   },
   {
    "duration": 279,
    "start_time": "2023-05-11T05:48:32.541Z"
   },
   {
    "duration": 193,
    "start_time": "2023-05-11T05:51:09.685Z"
   },
   {
    "duration": 192,
    "start_time": "2023-05-11T05:51:40.221Z"
   },
   {
    "duration": 167,
    "start_time": "2023-05-11T05:53:14.222Z"
   },
   {
    "duration": 240,
    "start_time": "2023-05-11T05:53:18.175Z"
   }
  ],
  "kernelspec": {
   "display_name": "Python 3 (ipykernel)",
   "language": "python",
   "name": "python3"
  },
  "language_info": {
   "codemirror_mode": {
    "name": "ipython",
    "version": 3
   },
   "file_extension": ".py",
   "mimetype": "text/x-python",
   "name": "python",
   "nbconvert_exporter": "python",
   "pygments_lexer": "ipython3",
   "version": "3.9.5"
  },
  "toc": {
   "base_numbering": 1,
   "nav_menu": {},
   "number_sections": true,
   "sideBar": true,
   "skip_h1_title": true,
   "title_cell": "Table of Contents",
   "title_sidebar": "Contents",
   "toc_cell": false,
   "toc_position": {},
   "toc_section_display": true,
   "toc_window_display": false
  }
 },
 "nbformat": 4,
 "nbformat_minor": 5
}
