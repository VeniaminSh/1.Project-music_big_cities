{
 "cells": [
  {
   "cell_type": "markdown",
   "id": "2f6a223c-1c92-4a84-8054-a7b777603d54",
   "metadata": {},
   "source": [
    "# Выпускной проект. Оценка результатов A/B-теста."
   ]
  },
  {
   "cell_type": "markdown",
   "id": "8d9d8636-0606-4910-88ea-1e9259eb7546",
   "metadata": {},
   "source": [
    "**Структура проекта:**\n",
    "\n",
    "1. Вводная часть\n",
    "    - Цель исследования\n",
    "    - Техническое задание \n",
    "    - Описание данных\n",
    "---\n",
    "2. Исследование данных/Предобработка\n",
    "    - Загрузка данных/изучение\n",
    "    - Преобразование типов данных\n",
    "    - Пропуски дубликаты\n",
    "---\n",
    "3. Оценка корректности проведения теста\n",
    "    - Соответствие данных требованиям технического задания. Проверьте корректность всех пунктов технического задания.\n",
    "    - Время проведения теста. Убедитесь, что оно не совпадает с маркетинговыми и другими активностями.\n",
    "    - Аудитория теста. Удостоверьтесь, что нет пересечений с конкурирующим тестом и нет пользователей, участвующих в двух группах теста одновременно. Проверьте равномерность распределения пользователей по тестовым группам и правильность их формирования.\n",
    "---\n",
    "4. Проведите исследовательский анализ данных\n",
    "    - Количество событий на пользователя одинаково распределены в выборках?\n",
    "    - Как число событий в выборках распределено по дням?\n",
    "    - Как меняется конверсия в воронке в выборках на разных этапах?\n",
    "    - Какие особенности данных нужно учесть, прежде чем приступать к A/B-тестированию?\n",
    "---\n",
    "5. Проведите оценку результатов A/B-тестирования:\n",
    "    - Что можно сказать про результаты A/B-тестирования?\n",
    "    - Проверьте статистическую разницу долей z-критерием.\n",
    "---\n",
    "6. Общий вывод"
   ]
  },
  {
   "cell_type": "markdown",
   "id": "d831806b-fced-4277-a335-3154cdbcf7dc",
   "metadata": {},
   "source": [
    "## Вводная часть"
   ]
  },
  {
   "cell_type": "markdown",
   "id": "b155a20f-7c31-4514-bbd8-4c9be53f09ab",
   "metadata": {},
   "source": [
    "**Цель исследования:**\n",
    "\n",
    "Оценить корректность проведения теста и проанализировать его результаты.  \n",
    "\n",
    "Чтобы оценить корректность проведения теста:\n",
    "- *необходимо удостовериться, что нет пересечений с конкурирующим тестом и нет пользователей, участвующих в двух группах теста одновременно;*\n",
    "- *необходимо проверить равномерность распределения пользователей по тестовым группам и правильность их формирования.*\n",
    "\n",
    "В арсенале есть датасет с действиями пользователей, техническое задание и несколько вспомогательных датасетов.\n",
    "\n"
   ]
  },
  {
   "cell_type": "markdown",
   "id": "5e6cd4ed-0334-4e6d-b328-f68b8398efaf",
   "metadata": {},
   "source": [
    "**Техническое задание:**\n",
    "- Название теста: `recommender_system_test`;\n",
    "\n",
    "- Группы: `А (контрольная), B (новая платёжная воронка)`;\n",
    "\n",
    "- Дата запуска: `2020-12-07`;\n",
    "\n",
    "- Дата остановки набора новых пользователей: `2020-12-21`;\n",
    "\n",
    "- Дата остановки: `2021-01-04`;\n",
    "\n",
    "- Аудитория: `15% новых пользователей из региона EU`;\n",
    "\n",
    "- Назначение теста: `тестирование изменений, связанных с внедрением улучшенной рекомендательной системы`;\n",
    "\n",
    "- Ожидаемое количество участников теста: `6000`.\n",
    "\n",
    "- Ожидаемый эффект: `за 14 дней с момента регистрации в системе пользователи покажут улучшение каждой метрики не менее, чем на 10%`;\n",
    "\n",
    "    - Kонверсии в просмотр карточек товаров — `событие product_page`\n",
    "\n",
    "    - просмотры корзины — `product_cart`\n",
    "\n",
    "    - покупки — `purchase`.\n"
   ]
  },
  {
   "cell_type": "markdown",
   "id": "ff741e12-a7f2-4789-908a-645473460f3c",
   "metadata": {},
   "source": [
    "**Описание данных:**\n",
    "\n",
    "`/datasets/ab_project_marketing_events.csv` — календарь маркетинговых событий на 2020 год;\n",
    "\n",
    "Структура файла:\n",
    "- name — название маркетингового события;\n",
    "- regions — регионы, в которых будет проводиться рекламная кампания;\n",
    "- start_dt — дата начала кампании;\n",
    "- finish_dt — дата завершения кампании.\n",
    "\n",
    "---\n",
    "\n",
    "`/datasets/final_ab_new_users.csv` — все пользователи, зарегистрировавшиеся в интернет-магазине в период с 7 по 21 декабря 2020 года;\n",
    "\n",
    "Структура файла:\n",
    "- user_id — идентификатор пользователя;\n",
    "- first_date — дата регистрации;\n",
    "- region — регион пользователя;\n",
    "- device — устройство, с которого происходила регистрация.\n",
    "\n",
    "---\n",
    "\n",
    "`/datasets/final_ab_events.csv` — все события новых пользователей в период с 7 декабря 2020 по 4 января 2021 года;\n",
    "\n",
    "Структура файла:\n",
    "- user_id — идентификатор пользователя;\n",
    "- event_dt — дата и время события;\n",
    "- event_name — тип события;\n",
    "- details — дополнительные данные о событии. Например, для покупок, purchase, в этом поле хранится стоимость покупки в долларах.\n",
    "\n",
    "---\n",
    "\n",
    "`/datasets/final_ab_participants.csv` — таблица участников тестов.\n",
    "\n",
    "Структура файла:\n",
    "- user_id — идентификатор пользователя;\n",
    "- ab_test — название теста;\n",
    "- group — группа пользователя."
   ]
  },
  {
   "cell_type": "markdown",
   "id": "86e3b114-ba79-4121-afd5-250b51040ec4",
   "metadata": {},
   "source": [
    "## Исследование данных/Предобработка"
   ]
  },
  {
   "cell_type": "markdown",
   "id": "56103db0-11a9-4781-9eeb-f35920b35a25",
   "metadata": {},
   "source": [
    "### Загрузка данных/изучение"
   ]
  },
  {
   "cell_type": "code",
   "execution_count": 37,
   "id": "0a3f0752-409e-445c-9ac3-7a61b9a35a8c",
   "metadata": {},
   "outputs": [],
   "source": [
    "#Загрузим все необходимые библиотеки\n",
    "import pandas as pd\n",
    "import numpy as np\n",
    "import datetime\n",
    "from datetime import date, datetime, timedelta\n",
    "\n",
    "import plotly.express as px\n",
    "from plotly.subplots import make_subplots\n",
    "from plotly import graph_objects as go\n",
    "from statsmodels.stats.weightstats import ztest as ztest"
   ]
  },
  {
   "cell_type": "code",
   "execution_count": 38,
   "id": "44adaef4-4ad2-4796-8ed7-a4221c26c9d9",
   "metadata": {},
   "outputs": [],
   "source": [
    "#Сохраним таблицы в переменные\n",
    "marketing_events = pd.read_csv('https://code.s3.yandex.net/datasets/ab_project_marketing_events.csv')\n",
    "new_users = pd.read_csv('https://code.s3.yandex.net/datasets/final_ab_new_users.csv')\n",
    "events = pd.read_csv('https://code.s3.yandex.net/datasets/final_ab_events.csv')\n",
    "participants = pd.read_csv('https://code.s3.yandex.net/datasets/final_ab_participants.csv')"
   ]
  },
  {
   "cell_type": "code",
   "execution_count": 39,
   "id": "3eaa5a9a-96dc-4f53-813c-7da4f77215ca",
   "metadata": {},
   "outputs": [
    {
     "name": "stdout",
     "output_type": "stream",
     "text": [
      "<class 'pandas.core.frame.DataFrame'>\n",
      "RangeIndex: 14 entries, 0 to 13\n",
      "Data columns (total 4 columns):\n",
      " #   Column     Non-Null Count  Dtype \n",
      "---  ------     --------------  ----- \n",
      " 0   name       14 non-null     object\n",
      " 1   regions    14 non-null     object\n",
      " 2   start_dt   14 non-null     object\n",
      " 3   finish_dt  14 non-null     object\n",
      "dtypes: object(4)\n",
      "memory usage: 576.0+ bytes\n"
     ]
    },
    {
     "data": {
      "text/plain": [
       "None"
      ]
     },
     "metadata": {},
     "output_type": "display_data"
    },
    {
     "data": {
      "text/html": [
       "<div>\n",
       "<style scoped>\n",
       "    .dataframe tbody tr th:only-of-type {\n",
       "        vertical-align: middle;\n",
       "    }\n",
       "\n",
       "    .dataframe tbody tr th {\n",
       "        vertical-align: top;\n",
       "    }\n",
       "\n",
       "    .dataframe thead th {\n",
       "        text-align: right;\n",
       "    }\n",
       "</style>\n",
       "<table border=\"1\" class=\"dataframe\">\n",
       "  <thead>\n",
       "    <tr style=\"text-align: right;\">\n",
       "      <th></th>\n",
       "      <th>name</th>\n",
       "      <th>regions</th>\n",
       "      <th>start_dt</th>\n",
       "      <th>finish_dt</th>\n",
       "    </tr>\n",
       "  </thead>\n",
       "  <tbody>\n",
       "    <tr>\n",
       "      <th>0</th>\n",
       "      <td>Christmas&amp;New Year Promo</td>\n",
       "      <td>EU, N.America</td>\n",
       "      <td>2020-12-25</td>\n",
       "      <td>2021-01-03</td>\n",
       "    </tr>\n",
       "    <tr>\n",
       "      <th>1</th>\n",
       "      <td>St. Valentine's Day Giveaway</td>\n",
       "      <td>EU, CIS, APAC, N.America</td>\n",
       "      <td>2020-02-14</td>\n",
       "      <td>2020-02-16</td>\n",
       "    </tr>\n",
       "    <tr>\n",
       "      <th>2</th>\n",
       "      <td>St. Patric's Day Promo</td>\n",
       "      <td>EU, N.America</td>\n",
       "      <td>2020-03-17</td>\n",
       "      <td>2020-03-19</td>\n",
       "    </tr>\n",
       "    <tr>\n",
       "      <th>3</th>\n",
       "      <td>Easter Promo</td>\n",
       "      <td>EU, CIS, APAC, N.America</td>\n",
       "      <td>2020-04-12</td>\n",
       "      <td>2020-04-19</td>\n",
       "    </tr>\n",
       "    <tr>\n",
       "      <th>4</th>\n",
       "      <td>4th of July Promo</td>\n",
       "      <td>N.America</td>\n",
       "      <td>2020-07-04</td>\n",
       "      <td>2020-07-11</td>\n",
       "    </tr>\n",
       "  </tbody>\n",
       "</table>\n",
       "</div>"
      ],
      "text/plain": [
       "                           name                   regions    start_dt  \\\n",
       "0      Christmas&New Year Promo             EU, N.America  2020-12-25   \n",
       "1  St. Valentine's Day Giveaway  EU, CIS, APAC, N.America  2020-02-14   \n",
       "2        St. Patric's Day Promo             EU, N.America  2020-03-17   \n",
       "3                  Easter Promo  EU, CIS, APAC, N.America  2020-04-12   \n",
       "4             4th of July Promo                 N.America  2020-07-04   \n",
       "\n",
       "    finish_dt  \n",
       "0  2021-01-03  \n",
       "1  2020-02-16  \n",
       "2  2020-03-19  \n",
       "3  2020-04-19  \n",
       "4  2020-07-11  "
      ]
     },
     "metadata": {},
     "output_type": "display_data"
    },
    {
     "data": {
      "text/plain": [
       "None"
      ]
     },
     "metadata": {},
     "output_type": "display_data"
    },
    {
     "name": "stdout",
     "output_type": "stream",
     "text": [
      "None\n",
      "####################################################################################################\n",
      "<class 'pandas.core.frame.DataFrame'>\n",
      "RangeIndex: 61733 entries, 0 to 61732\n",
      "Data columns (total 4 columns):\n",
      " #   Column      Non-Null Count  Dtype \n",
      "---  ------      --------------  ----- \n",
      " 0   user_id     61733 non-null  object\n",
      " 1   first_date  61733 non-null  object\n",
      " 2   region      61733 non-null  object\n",
      " 3   device      61733 non-null  object\n",
      "dtypes: object(4)\n",
      "memory usage: 1.9+ MB\n"
     ]
    },
    {
     "data": {
      "text/plain": [
       "None"
      ]
     },
     "metadata": {},
     "output_type": "display_data"
    },
    {
     "data": {
      "text/html": [
       "<div>\n",
       "<style scoped>\n",
       "    .dataframe tbody tr th:only-of-type {\n",
       "        vertical-align: middle;\n",
       "    }\n",
       "\n",
       "    .dataframe tbody tr th {\n",
       "        vertical-align: top;\n",
       "    }\n",
       "\n",
       "    .dataframe thead th {\n",
       "        text-align: right;\n",
       "    }\n",
       "</style>\n",
       "<table border=\"1\" class=\"dataframe\">\n",
       "  <thead>\n",
       "    <tr style=\"text-align: right;\">\n",
       "      <th></th>\n",
       "      <th>user_id</th>\n",
       "      <th>first_date</th>\n",
       "      <th>region</th>\n",
       "      <th>device</th>\n",
       "    </tr>\n",
       "  </thead>\n",
       "  <tbody>\n",
       "    <tr>\n",
       "      <th>0</th>\n",
       "      <td>D72A72121175D8BE</td>\n",
       "      <td>2020-12-07</td>\n",
       "      <td>EU</td>\n",
       "      <td>PC</td>\n",
       "    </tr>\n",
       "    <tr>\n",
       "      <th>1</th>\n",
       "      <td>F1C668619DFE6E65</td>\n",
       "      <td>2020-12-07</td>\n",
       "      <td>N.America</td>\n",
       "      <td>Android</td>\n",
       "    </tr>\n",
       "    <tr>\n",
       "      <th>2</th>\n",
       "      <td>2E1BF1D4C37EA01F</td>\n",
       "      <td>2020-12-07</td>\n",
       "      <td>EU</td>\n",
       "      <td>PC</td>\n",
       "    </tr>\n",
       "    <tr>\n",
       "      <th>3</th>\n",
       "      <td>50734A22C0C63768</td>\n",
       "      <td>2020-12-07</td>\n",
       "      <td>EU</td>\n",
       "      <td>iPhone</td>\n",
       "    </tr>\n",
       "    <tr>\n",
       "      <th>4</th>\n",
       "      <td>E1BDDCE0DAFA2679</td>\n",
       "      <td>2020-12-07</td>\n",
       "      <td>N.America</td>\n",
       "      <td>iPhone</td>\n",
       "    </tr>\n",
       "  </tbody>\n",
       "</table>\n",
       "</div>"
      ],
      "text/plain": [
       "            user_id  first_date     region   device\n",
       "0  D72A72121175D8BE  2020-12-07         EU       PC\n",
       "1  F1C668619DFE6E65  2020-12-07  N.America  Android\n",
       "2  2E1BF1D4C37EA01F  2020-12-07         EU       PC\n",
       "3  50734A22C0C63768  2020-12-07         EU   iPhone\n",
       "4  E1BDDCE0DAFA2679  2020-12-07  N.America   iPhone"
      ]
     },
     "metadata": {},
     "output_type": "display_data"
    },
    {
     "data": {
      "text/plain": [
       "None"
      ]
     },
     "metadata": {},
     "output_type": "display_data"
    },
    {
     "name": "stdout",
     "output_type": "stream",
     "text": [
      "None\n",
      "####################################################################################################\n",
      "<class 'pandas.core.frame.DataFrame'>\n",
      "RangeIndex: 440317 entries, 0 to 440316\n",
      "Data columns (total 4 columns):\n",
      " #   Column      Non-Null Count   Dtype  \n",
      "---  ------      --------------   -----  \n",
      " 0   user_id     440317 non-null  object \n",
      " 1   event_dt    440317 non-null  object \n",
      " 2   event_name  440317 non-null  object \n",
      " 3   details     62740 non-null   float64\n",
      "dtypes: float64(1), object(3)\n",
      "memory usage: 13.4+ MB\n"
     ]
    },
    {
     "data": {
      "text/plain": [
       "None"
      ]
     },
     "metadata": {},
     "output_type": "display_data"
    },
    {
     "data": {
      "text/html": [
       "<div>\n",
       "<style scoped>\n",
       "    .dataframe tbody tr th:only-of-type {\n",
       "        vertical-align: middle;\n",
       "    }\n",
       "\n",
       "    .dataframe tbody tr th {\n",
       "        vertical-align: top;\n",
       "    }\n",
       "\n",
       "    .dataframe thead th {\n",
       "        text-align: right;\n",
       "    }\n",
       "</style>\n",
       "<table border=\"1\" class=\"dataframe\">\n",
       "  <thead>\n",
       "    <tr style=\"text-align: right;\">\n",
       "      <th></th>\n",
       "      <th>user_id</th>\n",
       "      <th>event_dt</th>\n",
       "      <th>event_name</th>\n",
       "      <th>details</th>\n",
       "    </tr>\n",
       "  </thead>\n",
       "  <tbody>\n",
       "    <tr>\n",
       "      <th>0</th>\n",
       "      <td>E1BDDCE0DAFA2679</td>\n",
       "      <td>2020-12-07 20:22:03</td>\n",
       "      <td>purchase</td>\n",
       "      <td>99.99</td>\n",
       "    </tr>\n",
       "    <tr>\n",
       "      <th>1</th>\n",
       "      <td>7B6452F081F49504</td>\n",
       "      <td>2020-12-07 09:22:53</td>\n",
       "      <td>purchase</td>\n",
       "      <td>9.99</td>\n",
       "    </tr>\n",
       "    <tr>\n",
       "      <th>2</th>\n",
       "      <td>9CD9F34546DF254C</td>\n",
       "      <td>2020-12-07 12:59:29</td>\n",
       "      <td>purchase</td>\n",
       "      <td>4.99</td>\n",
       "    </tr>\n",
       "    <tr>\n",
       "      <th>3</th>\n",
       "      <td>96F27A054B191457</td>\n",
       "      <td>2020-12-07 04:02:40</td>\n",
       "      <td>purchase</td>\n",
       "      <td>4.99</td>\n",
       "    </tr>\n",
       "    <tr>\n",
       "      <th>4</th>\n",
       "      <td>1FD7660FDF94CA1F</td>\n",
       "      <td>2020-12-07 10:15:09</td>\n",
       "      <td>purchase</td>\n",
       "      <td>4.99</td>\n",
       "    </tr>\n",
       "  </tbody>\n",
       "</table>\n",
       "</div>"
      ],
      "text/plain": [
       "            user_id             event_dt event_name  details\n",
       "0  E1BDDCE0DAFA2679  2020-12-07 20:22:03   purchase    99.99\n",
       "1  7B6452F081F49504  2020-12-07 09:22:53   purchase     9.99\n",
       "2  9CD9F34546DF254C  2020-12-07 12:59:29   purchase     4.99\n",
       "3  96F27A054B191457  2020-12-07 04:02:40   purchase     4.99\n",
       "4  1FD7660FDF94CA1F  2020-12-07 10:15:09   purchase     4.99"
      ]
     },
     "metadata": {},
     "output_type": "display_data"
    },
    {
     "data": {
      "text/plain": [
       "None"
      ]
     },
     "metadata": {},
     "output_type": "display_data"
    },
    {
     "name": "stdout",
     "output_type": "stream",
     "text": [
      "None\n",
      "####################################################################################################\n",
      "<class 'pandas.core.frame.DataFrame'>\n",
      "RangeIndex: 18268 entries, 0 to 18267\n",
      "Data columns (total 3 columns):\n",
      " #   Column   Non-Null Count  Dtype \n",
      "---  ------   --------------  ----- \n",
      " 0   user_id  18268 non-null  object\n",
      " 1   group    18268 non-null  object\n",
      " 2   ab_test  18268 non-null  object\n",
      "dtypes: object(3)\n",
      "memory usage: 428.3+ KB\n"
     ]
    },
    {
     "data": {
      "text/plain": [
       "None"
      ]
     },
     "metadata": {},
     "output_type": "display_data"
    },
    {
     "data": {
      "text/html": [
       "<div>\n",
       "<style scoped>\n",
       "    .dataframe tbody tr th:only-of-type {\n",
       "        vertical-align: middle;\n",
       "    }\n",
       "\n",
       "    .dataframe tbody tr th {\n",
       "        vertical-align: top;\n",
       "    }\n",
       "\n",
       "    .dataframe thead th {\n",
       "        text-align: right;\n",
       "    }\n",
       "</style>\n",
       "<table border=\"1\" class=\"dataframe\">\n",
       "  <thead>\n",
       "    <tr style=\"text-align: right;\">\n",
       "      <th></th>\n",
       "      <th>user_id</th>\n",
       "      <th>group</th>\n",
       "      <th>ab_test</th>\n",
       "    </tr>\n",
       "  </thead>\n",
       "  <tbody>\n",
       "    <tr>\n",
       "      <th>0</th>\n",
       "      <td>D1ABA3E2887B6A73</td>\n",
       "      <td>A</td>\n",
       "      <td>recommender_system_test</td>\n",
       "    </tr>\n",
       "    <tr>\n",
       "      <th>1</th>\n",
       "      <td>A7A3664BD6242119</td>\n",
       "      <td>A</td>\n",
       "      <td>recommender_system_test</td>\n",
       "    </tr>\n",
       "    <tr>\n",
       "      <th>2</th>\n",
       "      <td>DABC14FDDFADD29E</td>\n",
       "      <td>A</td>\n",
       "      <td>recommender_system_test</td>\n",
       "    </tr>\n",
       "    <tr>\n",
       "      <th>3</th>\n",
       "      <td>04988C5DF189632E</td>\n",
       "      <td>A</td>\n",
       "      <td>recommender_system_test</td>\n",
       "    </tr>\n",
       "    <tr>\n",
       "      <th>4</th>\n",
       "      <td>482F14783456D21B</td>\n",
       "      <td>B</td>\n",
       "      <td>recommender_system_test</td>\n",
       "    </tr>\n",
       "  </tbody>\n",
       "</table>\n",
       "</div>"
      ],
      "text/plain": [
       "            user_id group                  ab_test\n",
       "0  D1ABA3E2887B6A73     A  recommender_system_test\n",
       "1  A7A3664BD6242119     A  recommender_system_test\n",
       "2  DABC14FDDFADD29E     A  recommender_system_test\n",
       "3  04988C5DF189632E     A  recommender_system_test\n",
       "4  482F14783456D21B     B  recommender_system_test"
      ]
     },
     "metadata": {},
     "output_type": "display_data"
    },
    {
     "data": {
      "text/plain": [
       "None"
      ]
     },
     "metadata": {},
     "output_type": "display_data"
    },
    {
     "name": "stdout",
     "output_type": "stream",
     "text": [
      "None\n",
      "####################################################################################################\n"
     ]
    }
   ],
   "source": [
    "#Изучение общей информации\n",
    "def research_source(table):\n",
    "    display(table.head(), display(table.info()))\n",
    "\n",
    "scours = [marketing_events, new_users, events, participants]\n",
    "    \n",
    "for x in scours:\n",
    "    print(research_source(x))\n",
    "    print('#'*100)"
   ]
  },
  {
   "cell_type": "markdown",
   "id": "1aa384ff-ed0e-4532-ae60-187f39bcbe56",
   "metadata": {},
   "source": [
    "### Преобразование типов данных"
   ]
  },
  {
   "cell_type": "markdown",
   "id": "d837447d-4654-4e66-aa19-7dea75c6068d",
   "metadata": {},
   "source": [
    "`marketing_events` - календарь маркетинговых событий на 2020 год"
   ]
  },
  {
   "cell_type": "code",
   "execution_count": 40,
   "id": "6fcd21de-f574-4d3c-aaaf-8fa11b2a9afe",
   "metadata": {},
   "outputs": [],
   "source": [
    "#Преобразуем start_dt и finish_dt в формат дат\n",
    "marketing_events['start_dt'] = pd.to_datetime(marketing_events['start_dt'])\n",
    "marketing_events['finish_dt'] = pd.to_datetime(marketing_events['finish_dt'])"
   ]
  },
  {
   "cell_type": "markdown",
   "id": "e9329ac8-3f98-430d-a2f0-ab5d1da7a642",
   "metadata": {},
   "source": [
    "---"
   ]
  },
  {
   "cell_type": "markdown",
   "id": "6b2046dd-dd75-4092-ac15-547990804a57",
   "metadata": {},
   "source": [
    "`new_users` - все пользователи, зарегистрировавшиеся в интернет-магазине в период с 7 по 21 декабря 2020 года"
   ]
  },
  {
   "cell_type": "code",
   "execution_count": 41,
   "id": "2d3c8279-14f1-4fd4-86a3-0207be1983ae",
   "metadata": {},
   "outputs": [],
   "source": [
    "#Преобразуем first_date в формат дат\n",
    "new_users['first_date'] = pd.to_datetime(new_users['first_date'])"
   ]
  },
  {
   "cell_type": "markdown",
   "id": "ec2dc506-05e0-496d-b837-d6d33644f980",
   "metadata": {},
   "source": [
    "---"
   ]
  },
  {
   "cell_type": "markdown",
   "id": "2eb0de7c-b258-465f-bdf8-daf1620467a2",
   "metadata": {},
   "source": [
    "`events` - все события новых пользователей в период с 7 декабря 2020 по 4 января 2021 года"
   ]
  },
  {
   "cell_type": "code",
   "execution_count": 42,
   "id": "52cbcca2-b2d4-4560-aa5c-9d4ec6deedd8",
   "metadata": {},
   "outputs": [],
   "source": [
    "#Преобразуем first_date в формат дат\n",
    "events['event_dt'] = pd.to_datetime(events['event_dt'])"
   ]
  },
  {
   "cell_type": "markdown",
   "id": "65546c1c-b113-456f-9242-dfc74d76137d",
   "metadata": {},
   "source": [
    "---"
   ]
  },
  {
   "cell_type": "markdown",
   "id": "dfa5dc7f-d13c-48a0-8f87-00d7bab3b52f",
   "metadata": {},
   "source": [
    "### Пропуски дубликаты"
   ]
  },
  {
   "cell_type": "code",
   "execution_count": 43,
   "id": "859840e5-2034-4179-9c13-fcf65be1c2da",
   "metadata": {},
   "outputs": [
    {
     "name": "stdout",
     "output_type": "stream",
     "text": [
      "Название датассета marketing_events\n",
      "В датассете 0 дубликатов\n",
      "\n",
      "В датассете представлены пропуски\n",
      "name         0\n",
      "regions      0\n",
      "start_dt     0\n",
      "finish_dt    0\n",
      "dtype: int64\n",
      "None\n",
      "##################################################\n",
      "Название датассета new_users\n",
      "В датассете 0 дубликатов\n",
      "\n",
      "В датассете представлены пропуски\n",
      "user_id       0\n",
      "first_date    0\n",
      "region        0\n",
      "device        0\n",
      "dtype: int64\n",
      "None\n",
      "##################################################\n",
      "Название датассета events\n",
      "В датассете 0 дубликатов\n",
      "\n",
      "В датассете представлены пропуски\n",
      "user_id            0\n",
      "event_dt           0\n",
      "event_name         0\n",
      "details       377577\n",
      "dtype: int64\n",
      "None\n",
      "##################################################\n",
      "Название датассета participants\n",
      "В датассете 0 дубликатов\n",
      "\n",
      "В датассете представлены пропуски\n",
      "user_id    0\n",
      "group      0\n",
      "ab_test    0\n",
      "dtype: int64\n",
      "None\n",
      "##################################################\n"
     ]
    }
   ],
   "source": [
    "#Напишем функцию на проверку дублей и пропусков\n",
    "def dubl_miss(df):\n",
    "    print(('В датассете {} дубликатов').format(df.duplicated().sum()))\n",
    "    print('')\n",
    "    print(('В датассете представлены пропуски'))\n",
    "    print(df.isna().sum())\n",
    "\n",
    "scours = ['marketing_events', 'new_users', 'events', 'participants']\n",
    "scours_2 = [marketing_events, new_users, events, participants]\n",
    "\n",
    "for x, y in zip(scours, scours_2):\n",
    "    print('Название датассета', x)\n",
    "    print(dubl_miss(y))\n",
    "    print('#'*50)\n"
   ]
  },
  {
   "cell_type": "code",
   "execution_count": 44,
   "id": "1963854f-29f7-4842-8d5c-08b8705dd0a8",
   "metadata": {},
   "outputs": [
    {
     "data": {
      "text/plain": [
       "user_id       62740\n",
       "event_dt      62740\n",
       "event_name    62740\n",
       "details       62740\n",
       "dtype: int64"
      ]
     },
     "execution_count": 44,
     "metadata": {},
     "output_type": "execute_result"
    }
   ],
   "source": [
    "#Проверим природу пропусков в датассете final_ab_events найдем колличество строк с типом собития purchase\n",
    "events[events['event_name'] == 'purchase'].count()"
   ]
  },
  {
   "cell_type": "code",
   "execution_count": 45,
   "id": "176d62ca-6c75-4c73-9c3d-def1eddcf075",
   "metadata": {},
   "outputs": [
    {
     "data": {
      "text/plain": [
       "user_id       440317\n",
       "event_dt      440317\n",
       "event_name    440317\n",
       "details        62740\n",
       "dtype: int64"
      ]
     },
     "execution_count": 45,
     "metadata": {},
     "output_type": "execute_result"
    }
   ],
   "source": [
    "#Найдем количество не пустых срок в стоблце с пропусками \n",
    "events[events['details'] != events['details'].isna()].count()"
   ]
  },
  {
   "cell_type": "markdown",
   "id": "31968c13-fe59-4f00-aae1-56bf8f5f0f61",
   "metadata": {},
   "source": [
    "Количество строк соответсвует, а значит мы можем сделать вывод, что наличие заполненых строк в `details` обосновано тем, что там помечается сумма покупки в долларах."
   ]
  },
  {
   "cell_type": "markdown",
   "id": "3324aa24-9ee2-45ef-ae4c-96d4f95d7452",
   "metadata": {},
   "source": [
    "**Вывод:**\n",
    "\n",
    "- Загрузка данных/изучение, мы подгрузили 4 датассета и ознакомились с ними (просмотрели типы и природу самих таблиц)\n",
    "\n",
    "- Преобразование типов данных, в 3 из 4 датассетов мы заменили типы столбцов с датой, на datetime.\n",
    "\n",
    "- Пропуски и дубликаты, посмотрели природу пропусков и дубликатов, нашли обоснование пропускам в таблице final_ab_events."
   ]
  },
  {
   "cell_type": "markdown",
   "id": "7fe3aa71-08b9-493c-ad7f-a373bd50d1cd",
   "metadata": {},
   "source": [
    "## Оценка корректности проведения теста"
   ]
  },
  {
   "cell_type": "markdown",
   "id": "c6e2e522-fefe-427c-80e1-adde209b7a49",
   "metadata": {
    "tags": []
   },
   "source": [
    "### Соответствие данных требованиям технического задания. Проверьте корректность всех пунктов технического задания."
   ]
  },
  {
   "cell_type": "code",
   "execution_count": 46,
   "id": "771555bc-576e-4070-a785-d3de6fd6d972",
   "metadata": {},
   "outputs": [
    {
     "data": {
      "text/html": [
       "<div>\n",
       "<style scoped>\n",
       "    .dataframe tbody tr th:only-of-type {\n",
       "        vertical-align: middle;\n",
       "    }\n",
       "\n",
       "    .dataframe tbody tr th {\n",
       "        vertical-align: top;\n",
       "    }\n",
       "\n",
       "    .dataframe thead th {\n",
       "        text-align: right;\n",
       "    }\n",
       "</style>\n",
       "<table border=\"1\" class=\"dataframe\">\n",
       "  <thead>\n",
       "    <tr style=\"text-align: right;\">\n",
       "      <th></th>\n",
       "      <th></th>\n",
       "      <th>count</th>\n",
       "    </tr>\n",
       "    <tr>\n",
       "      <th>ab_test</th>\n",
       "      <th>group</th>\n",
       "      <th></th>\n",
       "    </tr>\n",
       "  </thead>\n",
       "  <tbody>\n",
       "    <tr>\n",
       "      <th rowspan=\"2\" valign=\"top\">interface_eu_test</th>\n",
       "      <th>A</th>\n",
       "      <td>5831</td>\n",
       "    </tr>\n",
       "    <tr>\n",
       "      <th>B</th>\n",
       "      <td>5736</td>\n",
       "    </tr>\n",
       "    <tr>\n",
       "      <th rowspan=\"2\" valign=\"top\">recommender_system_test</th>\n",
       "      <th>A</th>\n",
       "      <td>3824</td>\n",
       "    </tr>\n",
       "    <tr>\n",
       "      <th>B</th>\n",
       "      <td>2877</td>\n",
       "    </tr>\n",
       "  </tbody>\n",
       "</table>\n",
       "</div>"
      ],
      "text/plain": [
       "                               count\n",
       "ab_test                 group       \n",
       "interface_eu_test       A       5831\n",
       "                        B       5736\n",
       "recommender_system_test A       3824\n",
       "                        B       2877"
      ]
     },
     "execution_count": 46,
     "metadata": {},
     "output_type": "execute_result"
    }
   ],
   "source": [
    "#Посмотрим на уникальные значения столбца с названием теста\n",
    "participants.groupby(['ab_test','group']).agg(count = ('user_id','count'))"
   ]
  },
  {
   "cell_type": "markdown",
   "id": "50b4570a-7355-4ea7-9af9-8718e376c664",
   "metadata": {},
   "source": [
    "Представлено два теста: `recommender_system_test` и `interface_eu_test`, нужно узнать, сколько пользователей вошло в оба теста и убрать их."
   ]
  },
  {
   "cell_type": "code",
   "execution_count": 47,
   "id": "d2350d5f-b69f-429a-8fdb-c19d4f6a04ab",
   "metadata": {},
   "outputs": [
    {
     "name": "stdout",
     "output_type": "stream",
     "text": [
      "Количество пользователей принимавших участие в двух тестах: 1602\n"
     ]
    }
   ],
   "source": [
    "#Найдем количество пользователей, которые участвовали в двух тестах сразу\n",
    "tests = participants.groupby('user_id').agg({'ab_test': 'nunique'}).sort_values(by = 'ab_test', ascending = False).reset_index()\n",
    "print('Количество пользователей принимавших участие в двух тестах:', tests[tests['ab_test'] == 2]['user_id'].nunique())\n",
    "\n",
    "#выведем отдельно этот список пользователей \n",
    "users_intwo_test = tests[tests['ab_test'] == 2]['user_id']"
   ]
  },
  {
   "cell_type": "code",
   "execution_count": 48,
   "id": "8af0b987-90cb-49f1-be52-5c4eb7ee4970",
   "metadata": {},
   "outputs": [],
   "source": [
    "#По ТЗ необходимый нам тест recommender_system_test - оставим его\n",
    "participants = participants[participants['ab_test'] == 'recommender_system_test']"
   ]
  },
  {
   "cell_type": "code",
   "execution_count": 49,
   "id": "8dbe9d7a-ba5a-433f-9c50-9a4baebfd9a2",
   "metadata": {},
   "outputs": [
    {
     "data": {
      "text/plain": [
       "Timestamp('2020-12-07 00:00:00')"
      ]
     },
     "execution_count": 49,
     "metadata": {},
     "output_type": "execute_result"
    }
   ],
   "source": [
    "#Дата запуска: 2020-12-07\n",
    "new_users['first_date'].min()"
   ]
  },
  {
   "cell_type": "markdown",
   "id": "65220fcb-cab0-4016-9b44-add6853a7d74",
   "metadata": {},
   "source": [
    "Ничего менять не надо"
   ]
  },
  {
   "cell_type": "code",
   "execution_count": 50,
   "id": "ca548282-3f25-4e5b-8b23-c3c3a3d28933",
   "metadata": {},
   "outputs": [
    {
     "data": {
      "text/plain": [
       "Timestamp('2020-12-21 00:00:00')"
      ]
     },
     "execution_count": 50,
     "metadata": {},
     "output_type": "execute_result"
    }
   ],
   "source": [
    "#Дата остановки набора новых пользователей: 2020-12-21\n",
    "new_usersss = new_users[new_users['first_date'] <= '2020-12-21']\n",
    "new_usersss['first_date'].max()"
   ]
  },
  {
   "cell_type": "markdown",
   "id": "9ddc12fa-9e5a-4b09-8450-a5f2ec27ea6b",
   "metadata": {},
   "source": [
    "Урезали дату остановки набора. Итого получаем дата запуска теста: `2020-12-07`, а дата остановки набора пользователей `2020-12-21`."
   ]
  },
  {
   "cell_type": "code",
   "execution_count": 51,
   "id": "fb8828ff-9a72-4f38-a013-8324e7c0149c",
   "metadata": {},
   "outputs": [],
   "source": [
    "# сделаем фильтр по нужному нам тесту\n",
    "fun_test = new_usersss[new_usersss['user_id'].isin(participants[participants['ab_test'] == 'recommender_system_test']['user_id'])]"
   ]
  },
  {
   "cell_type": "code",
   "execution_count": 52,
   "id": "d8572f2c-c354-4b6b-8b7c-ec78d311c5a1",
   "metadata": {},
   "outputs": [
    {
     "data": {
      "text/plain": [
       "Timestamp('2020-12-30 23:36:33')"
      ]
     },
     "execution_count": 52,
     "metadata": {},
     "output_type": "execute_result"
    }
   ],
   "source": [
    "#смотрим дату последнего события\n",
    "events['event_dt'].max()"
   ]
  },
  {
   "cell_type": "markdown",
   "id": "e4d10fa9-d99c-476d-b819-b4b135b591d1",
   "metadata": {},
   "source": [
    "*Дата последнего события - 30 декабря 2020, по ТЗ тест должен длится до 4 января 2021.*"
   ]
  },
  {
   "cell_type": "code",
   "execution_count": 53,
   "id": "813c0778-f2b9-4809-83aa-ef3f3d26aed1",
   "metadata": {},
   "outputs": [
    {
     "data": {
      "text/plain": [
       "15.0"
      ]
     },
     "execution_count": 53,
     "metadata": {},
     "output_type": "execute_result"
    }
   ],
   "source": [
    "#Посмотрим % аудитории из региона EU\n",
    "fun_test[fun_test['region'] == 'EU']['user_id'].count()/new_usersss[new_usersss['region'] == 'EU']['user_id'].count()*100"
   ]
  },
  {
   "cell_type": "code",
   "execution_count": 54,
   "id": "8d05c209-9eaa-4832-bb0b-ab6c74fab893",
   "metadata": {},
   "outputs": [
    {
     "data": {
      "text/plain": [
       "6701"
      ]
     },
     "execution_count": 54,
     "metadata": {},
     "output_type": "execute_result"
    }
   ],
   "source": [
    "#количество участников по ТЗ 6000\n",
    "participants['user_id'].nunique()"
   ]
  },
  {
   "cell_type": "markdown",
   "id": "7e9fea51-3779-42b7-b6dc-fca6471cedb5",
   "metadata": {},
   "source": [
    "**Вывод**\n",
    "\n",
    "По итогам проработки пункта \"Оценка корректности проведения теста\" отметим:\n",
    "- Всего проводилось два теста `interface_eu_test` и `recommender_system_test` \n",
    "- Количсетво пользователей, которые участвовали в двух тестах равно 1602\n",
    "- Группа А — контрольная, B — новая платёжная воронка\n",
    "- Даты запуска теста - 2021.01.04 и дата окончания набора новых пользователей 2020.12.21 верны\n",
    "- Аудитория теста у новых пользователей с Европы равна 15%, что соответствует ТЗ\n",
    "- Ожидаемое количество участников теста: 6000. У нас количество участиков 6701."
   ]
  },
  {
   "cell_type": "markdown",
   "id": "ef3bb71c-69a2-44e2-bf18-cb477720346e",
   "metadata": {},
   "source": [
    "### Время проведения теста. Убедитесь, что оно не совпадает с маркетинговыми и другими активностями."
   ]
  },
  {
   "cell_type": "code",
   "execution_count": 55,
   "id": "b4a70cc0-620e-4c34-82a4-0ad2dca0e87d",
   "metadata": {},
   "outputs": [
    {
     "data": {
      "text/html": [
       "<div>\n",
       "<style scoped>\n",
       "    .dataframe tbody tr th:only-of-type {\n",
       "        vertical-align: middle;\n",
       "    }\n",
       "\n",
       "    .dataframe tbody tr th {\n",
       "        vertical-align: top;\n",
       "    }\n",
       "\n",
       "    .dataframe thead th {\n",
       "        text-align: right;\n",
       "    }\n",
       "</style>\n",
       "<table border=\"1\" class=\"dataframe\">\n",
       "  <thead>\n",
       "    <tr style=\"text-align: right;\">\n",
       "      <th></th>\n",
       "      <th>name</th>\n",
       "      <th>regions</th>\n",
       "      <th>start_dt</th>\n",
       "      <th>finish_dt</th>\n",
       "    </tr>\n",
       "  </thead>\n",
       "  <tbody>\n",
       "    <tr>\n",
       "      <th>0</th>\n",
       "      <td>Christmas&amp;New Year Promo</td>\n",
       "      <td>EU, N.America</td>\n",
       "      <td>2020-12-25</td>\n",
       "      <td>2021-01-03</td>\n",
       "    </tr>\n",
       "    <tr>\n",
       "      <th>10</th>\n",
       "      <td>CIS New Year Gift Lottery</td>\n",
       "      <td>CIS</td>\n",
       "      <td>2020-12-30</td>\n",
       "      <td>2021-01-07</td>\n",
       "    </tr>\n",
       "  </tbody>\n",
       "</table>\n",
       "</div>"
      ],
      "text/plain": [
       "                         name        regions   start_dt  finish_dt\n",
       "0    Christmas&New Year Promo  EU, N.America 2020-12-25 2021-01-03\n",
       "10  CIS New Year Gift Lottery            CIS 2020-12-30 2021-01-07"
      ]
     },
     "execution_count": 55,
     "metadata": {},
     "output_type": "execute_result"
    }
   ],
   "source": [
    "#построим таблицу\n",
    "marketing_events.query('finish_dt >= \"2020-12-07\" and start_dt <= \"2021-01-04\"')"
   ]
  },
  {
   "cell_type": "markdown",
   "id": "f81ab633-2716-4388-b663-37ed631427ee",
   "metadata": {},
   "source": [
    "**Вывод:**\n",
    "\n",
    "В временной интервал проведения теста попали две акции `Christmas&New Year Promo` и `CIS New Year Gift Lottery`. Но первая акция окажет большее влиияние, нежели чем вторая, потому что данная акция проводилась именно в Европе."
   ]
  },
  {
   "cell_type": "markdown",
   "id": "17fb7677-ed1d-4a69-9d43-599bb72f1531",
   "metadata": {},
   "source": [
    "### Аудитория теста. Удостоверьтесь, что нет пересечений с конкурирующим тестом и нет пользователей, участвующих в двух группах теста одновременно. Проверьте равномерность распределения пользователей по тестовым группам и правильность их формирования."
   ]
  },
  {
   "cell_type": "markdown",
   "id": "87d273f0-7195-4339-81fc-6237b85368a1",
   "metadata": {},
   "source": [
    "Ранее мы выяснили, что 1602 пользователя участвуют в двух тестах одновременно."
   ]
  },
  {
   "cell_type": "code",
   "execution_count": 56,
   "id": "a5ce84ad-5ed1-4f34-8f69-d81cab7a56b5",
   "metadata": {},
   "outputs": [
    {
     "data": {
      "text/html": [
       "<div>\n",
       "<style scoped>\n",
       "    .dataframe tbody tr th:only-of-type {\n",
       "        vertical-align: middle;\n",
       "    }\n",
       "\n",
       "    .dataframe tbody tr th {\n",
       "        vertical-align: top;\n",
       "    }\n",
       "\n",
       "    .dataframe thead th {\n",
       "        text-align: right;\n",
       "    }\n",
       "</style>\n",
       "<table border=\"1\" class=\"dataframe\">\n",
       "  <thead>\n",
       "    <tr style=\"text-align: right;\">\n",
       "      <th></th>\n",
       "      <th>user_id</th>\n",
       "      <th>group</th>\n",
       "      <th>ab_test</th>\n",
       "    </tr>\n",
       "  </thead>\n",
       "  <tbody>\n",
       "  </tbody>\n",
       "</table>\n",
       "</div>"
      ],
      "text/plain": [
       "Empty DataFrame\n",
       "Columns: [user_id, group, ab_test]\n",
       "Index: []"
      ]
     },
     "execution_count": 56,
     "metadata": {},
     "output_type": "execute_result"
    }
   ],
   "source": [
    "#проверим присутствуют ли пользователи которыe, входящят в обе группы А и В теста recommender_system_test\n",
    "a = participants[participants['group'] == 'A']\n",
    "b = participants[participants['group'] == 'B']\n",
    "\n",
    "a[a['user_id'].isin(b['user_id'])]"
   ]
  },
  {
   "cell_type": "markdown",
   "id": "a3ec4da7-ba80-4f89-9de1-42c06ef1abc4",
   "metadata": {},
   "source": [
    "Пользователей не обнаружено"
   ]
  },
  {
   "cell_type": "code",
   "execution_count": 57,
   "id": "08c9afc1-57ac-4af6-88b4-292e6ce375e6",
   "metadata": {},
   "outputs": [
    {
     "data": {
      "text/html": [
       "<div>\n",
       "<style scoped>\n",
       "    .dataframe tbody tr th:only-of-type {\n",
       "        vertical-align: middle;\n",
       "    }\n",
       "\n",
       "    .dataframe tbody tr th {\n",
       "        vertical-align: top;\n",
       "    }\n",
       "\n",
       "    .dataframe thead th {\n",
       "        text-align: right;\n",
       "    }\n",
       "</style>\n",
       "<table border=\"1\" class=\"dataframe\">\n",
       "  <thead>\n",
       "    <tr style=\"text-align: right;\">\n",
       "      <th></th>\n",
       "      <th>user_id_cnt</th>\n",
       "      <th>cnt_</th>\n",
       "    </tr>\n",
       "    <tr>\n",
       "      <th>group</th>\n",
       "      <th></th>\n",
       "      <th></th>\n",
       "    </tr>\n",
       "  </thead>\n",
       "  <tbody>\n",
       "    <tr>\n",
       "      <th>A</th>\n",
       "      <td>3824</td>\n",
       "      <td>57%</td>\n",
       "    </tr>\n",
       "    <tr>\n",
       "      <th>B</th>\n",
       "      <td>2877</td>\n",
       "      <td>43%</td>\n",
       "    </tr>\n",
       "  </tbody>\n",
       "</table>\n",
       "</div>"
      ],
      "text/plain": [
       "       user_id_cnt cnt_\n",
       "group                  \n",
       "A             3824  57%\n",
       "B             2877  43%"
      ]
     },
     "execution_count": 57,
     "metadata": {},
     "output_type": "execute_result"
    }
   ],
   "source": [
    "group = participants.groupby('group').agg(\n",
    "    user_id_cnt = ('user_id','nunique'),\n",
    "    cnt_=('user_id', lambda x: \"{0:.0%}\".format(x.count() / participants['user_id'].count()))\n",
    ")\n",
    "group"
   ]
  },
  {
   "cell_type": "markdown",
   "id": "b8c83c6d-20ae-49b6-89a4-e0a060782d8d",
   "metadata": {},
   "source": [
    "В группе А `3824` пользователя - 57% от общего количества, \n",
    "а в группе В `2877` - 43% от общего количества. Пользователи в группах распределены неравномерно."
   ]
  },
  {
   "cell_type": "code",
   "execution_count": 58,
   "id": "225bedeb-a38e-4590-8d32-20f2d250a606",
   "metadata": {},
   "outputs": [
    {
     "data": {
      "text/plain": [
       "6701"
      ]
     },
     "execution_count": 58,
     "metadata": {},
     "output_type": "execute_result"
    }
   ],
   "source": [
    "#объединим все таблицы (по необходимому тесту)\n",
    "fin = fun_test.merge(participants.query('ab_test == \"recommender_system_test\"'), on='user_id')\n",
    "fin = fin.merge(events, how='left', on='user_id')\n",
    "fin['user_id'].nunique()"
   ]
  },
  {
   "cell_type": "code",
   "execution_count": 59,
   "id": "74f7e64b-5728-428f-9815-504ef8ed2c50",
   "metadata": {},
   "outputs": [
    {
     "name": "stderr",
     "output_type": "stream",
     "text": [
      "/tmp/ipykernel_48/4199740187.py:11: SettingWithCopyWarning:\n",
      "\n",
      "\n",
      "A value is trying to be set on a copy of a slice from a DataFrame.\n",
      "Try using .loc[row_indexer,col_indexer] = value instead\n",
      "\n",
      "See the caveats in the documentation: https://pandas.pydata.org/pandas-docs/stable/user_guide/indexing.html#returning-a-view-versus-a-copy\n",
      "\n"
     ]
    },
    {
     "data": {
      "text/plain": [
       "3675"
      ]
     },
     "execution_count": 59,
     "metadata": {},
     "output_type": "execute_result"
    }
   ],
   "source": [
    "#Подготовим фильтр в 14 дней\n",
    "\n",
    "horizon_days = 14 #горизонт\n",
    "observation_date = datetime(2021, 1, 4).date() #последняя дата наблюдения\n",
    "last_suitable_acquisition_date = observation_date - timedelta(days = horizon_days - 1) #последняя дата анализа\n",
    "\n",
    "\n",
    "fourteen_days = fin.query('event_dt <= @last_suitable_acquisition_date')\n",
    "\n",
    "#Лайфтайм\n",
    "fourteen_days['lifetime'] = (fourteen_days['event_dt'] - fourteen_days['first_date']).dt.days\n",
    "fourteen_days = fourteen_days.query('lifetime < 14')\n",
    "fourteen_days['user_id'].nunique()"
   ]
  },
  {
   "cell_type": "markdown",
   "id": "a88e94c8-76cc-4214-ab58-bfe90975c931",
   "metadata": {},
   "source": [
    "## Исследовательский анализ данных"
   ]
  },
  {
   "cell_type": "markdown",
   "id": "06f43e7e-96b0-4c09-bcbe-f37863791962",
   "metadata": {},
   "source": [
    "### Количество событий на пользователя одинаково распределены в выборках?"
   ]
  },
  {
   "cell_type": "code",
   "execution_count": 60,
   "id": "5eea8c38-c34e-406d-9aef-0e936fd1c3af",
   "metadata": {},
   "outputs": [
    {
     "data": {
      "text/html": [
       "<div>\n",
       "<style scoped>\n",
       "    .dataframe tbody tr th:only-of-type {\n",
       "        vertical-align: middle;\n",
       "    }\n",
       "\n",
       "    .dataframe tbody tr th {\n",
       "        vertical-align: top;\n",
       "    }\n",
       "\n",
       "    .dataframe thead th {\n",
       "        text-align: right;\n",
       "    }\n",
       "</style>\n",
       "<table border=\"1\" class=\"dataframe\">\n",
       "  <thead>\n",
       "    <tr style=\"text-align: right;\">\n",
       "      <th></th>\n",
       "      <th>user_id</th>\n",
       "      <th>first_date</th>\n",
       "      <th>region</th>\n",
       "      <th>device</th>\n",
       "      <th>group</th>\n",
       "      <th>ab_test</th>\n",
       "      <th>event_dt</th>\n",
       "      <th>event_name</th>\n",
       "      <th>details</th>\n",
       "      <th>lifetime</th>\n",
       "    </tr>\n",
       "  </thead>\n",
       "  <tbody>\n",
       "    <tr>\n",
       "      <th>0</th>\n",
       "      <td>D72A72121175D8BE</td>\n",
       "      <td>2020-12-07</td>\n",
       "      <td>EU</td>\n",
       "      <td>PC</td>\n",
       "      <td>A</td>\n",
       "      <td>recommender_system_test</td>\n",
       "      <td>2020-12-07 21:52:10</td>\n",
       "      <td>product_page</td>\n",
       "      <td>NaN</td>\n",
       "      <td>0</td>\n",
       "    </tr>\n",
       "    <tr>\n",
       "      <th>1</th>\n",
       "      <td>D72A72121175D8BE</td>\n",
       "      <td>2020-12-07</td>\n",
       "      <td>EU</td>\n",
       "      <td>PC</td>\n",
       "      <td>A</td>\n",
       "      <td>recommender_system_test</td>\n",
       "      <td>2020-12-07 21:52:07</td>\n",
       "      <td>login</td>\n",
       "      <td>NaN</td>\n",
       "      <td>0</td>\n",
       "    </tr>\n",
       "    <tr>\n",
       "      <th>3</th>\n",
       "      <td>DD4352CDCF8C3D57</td>\n",
       "      <td>2020-12-07</td>\n",
       "      <td>EU</td>\n",
       "      <td>Android</td>\n",
       "      <td>B</td>\n",
       "      <td>recommender_system_test</td>\n",
       "      <td>2020-12-07 15:32:54</td>\n",
       "      <td>product_page</td>\n",
       "      <td>NaN</td>\n",
       "      <td>0</td>\n",
       "    </tr>\n",
       "    <tr>\n",
       "      <th>4</th>\n",
       "      <td>DD4352CDCF8C3D57</td>\n",
       "      <td>2020-12-07</td>\n",
       "      <td>EU</td>\n",
       "      <td>Android</td>\n",
       "      <td>B</td>\n",
       "      <td>recommender_system_test</td>\n",
       "      <td>2020-12-08 08:29:31</td>\n",
       "      <td>product_page</td>\n",
       "      <td>NaN</td>\n",
       "      <td>1</td>\n",
       "    </tr>\n",
       "    <tr>\n",
       "      <th>5</th>\n",
       "      <td>DD4352CDCF8C3D57</td>\n",
       "      <td>2020-12-07</td>\n",
       "      <td>EU</td>\n",
       "      <td>Android</td>\n",
       "      <td>B</td>\n",
       "      <td>recommender_system_test</td>\n",
       "      <td>2020-12-10 18:18:27</td>\n",
       "      <td>product_page</td>\n",
       "      <td>NaN</td>\n",
       "      <td>3</td>\n",
       "    </tr>\n",
       "    <tr>\n",
       "      <th>...</th>\n",
       "      <td>...</td>\n",
       "      <td>...</td>\n",
       "      <td>...</td>\n",
       "      <td>...</td>\n",
       "      <td>...</td>\n",
       "      <td>...</td>\n",
       "      <td>...</td>\n",
       "      <td>...</td>\n",
       "      <td>...</td>\n",
       "      <td>...</td>\n",
       "    </tr>\n",
       "    <tr>\n",
       "      <th>27715</th>\n",
       "      <td>0416B34D35C8C8B8</td>\n",
       "      <td>2020-12-20</td>\n",
       "      <td>EU</td>\n",
       "      <td>Android</td>\n",
       "      <td>A</td>\n",
       "      <td>recommender_system_test</td>\n",
       "      <td>2020-12-21 22:28:29</td>\n",
       "      <td>purchase</td>\n",
       "      <td>4.99</td>\n",
       "      <td>1</td>\n",
       "    </tr>\n",
       "    <tr>\n",
       "      <th>27717</th>\n",
       "      <td>0416B34D35C8C8B8</td>\n",
       "      <td>2020-12-20</td>\n",
       "      <td>EU</td>\n",
       "      <td>Android</td>\n",
       "      <td>A</td>\n",
       "      <td>recommender_system_test</td>\n",
       "      <td>2020-12-20 20:58:26</td>\n",
       "      <td>product_page</td>\n",
       "      <td>NaN</td>\n",
       "      <td>0</td>\n",
       "    </tr>\n",
       "    <tr>\n",
       "      <th>27718</th>\n",
       "      <td>0416B34D35C8C8B8</td>\n",
       "      <td>2020-12-20</td>\n",
       "      <td>EU</td>\n",
       "      <td>Android</td>\n",
       "      <td>A</td>\n",
       "      <td>recommender_system_test</td>\n",
       "      <td>2020-12-21 22:28:29</td>\n",
       "      <td>product_page</td>\n",
       "      <td>NaN</td>\n",
       "      <td>1</td>\n",
       "    </tr>\n",
       "    <tr>\n",
       "      <th>27720</th>\n",
       "      <td>0416B34D35C8C8B8</td>\n",
       "      <td>2020-12-20</td>\n",
       "      <td>EU</td>\n",
       "      <td>Android</td>\n",
       "      <td>A</td>\n",
       "      <td>recommender_system_test</td>\n",
       "      <td>2020-12-20 20:58:25</td>\n",
       "      <td>login</td>\n",
       "      <td>NaN</td>\n",
       "      <td>0</td>\n",
       "    </tr>\n",
       "    <tr>\n",
       "      <th>27721</th>\n",
       "      <td>0416B34D35C8C8B8</td>\n",
       "      <td>2020-12-20</td>\n",
       "      <td>EU</td>\n",
       "      <td>Android</td>\n",
       "      <td>A</td>\n",
       "      <td>recommender_system_test</td>\n",
       "      <td>2020-12-21 22:28:29</td>\n",
       "      <td>login</td>\n",
       "      <td>NaN</td>\n",
       "      <td>1</td>\n",
       "    </tr>\n",
       "  </tbody>\n",
       "</table>\n",
       "<p>17579 rows × 10 columns</p>\n",
       "</div>"
      ],
      "text/plain": [
       "                user_id first_date region   device group  \\\n",
       "0      D72A72121175D8BE 2020-12-07     EU       PC     A   \n",
       "1      D72A72121175D8BE 2020-12-07     EU       PC     A   \n",
       "3      DD4352CDCF8C3D57 2020-12-07     EU  Android     B   \n",
       "4      DD4352CDCF8C3D57 2020-12-07     EU  Android     B   \n",
       "5      DD4352CDCF8C3D57 2020-12-07     EU  Android     B   \n",
       "...                 ...        ...    ...      ...   ...   \n",
       "27715  0416B34D35C8C8B8 2020-12-20     EU  Android     A   \n",
       "27717  0416B34D35C8C8B8 2020-12-20     EU  Android     A   \n",
       "27718  0416B34D35C8C8B8 2020-12-20     EU  Android     A   \n",
       "27720  0416B34D35C8C8B8 2020-12-20     EU  Android     A   \n",
       "27721  0416B34D35C8C8B8 2020-12-20     EU  Android     A   \n",
       "\n",
       "                       ab_test            event_dt    event_name  details  \\\n",
       "0      recommender_system_test 2020-12-07 21:52:10  product_page      NaN   \n",
       "1      recommender_system_test 2020-12-07 21:52:07         login      NaN   \n",
       "3      recommender_system_test 2020-12-07 15:32:54  product_page      NaN   \n",
       "4      recommender_system_test 2020-12-08 08:29:31  product_page      NaN   \n",
       "5      recommender_system_test 2020-12-10 18:18:27  product_page      NaN   \n",
       "...                        ...                 ...           ...      ...   \n",
       "27715  recommender_system_test 2020-12-21 22:28:29      purchase     4.99   \n",
       "27717  recommender_system_test 2020-12-20 20:58:26  product_page      NaN   \n",
       "27718  recommender_system_test 2020-12-21 22:28:29  product_page      NaN   \n",
       "27720  recommender_system_test 2020-12-20 20:58:25         login      NaN   \n",
       "27721  recommender_system_test 2020-12-21 22:28:29         login      NaN   \n",
       "\n",
       "       lifetime  \n",
       "0             0  \n",
       "1             0  \n",
       "3             0  \n",
       "4             1  \n",
       "5             3  \n",
       "...         ...  \n",
       "27715         1  \n",
       "27717         0  \n",
       "27718         1  \n",
       "27720         0  \n",
       "27721         1  \n",
       "\n",
       "[17579 rows x 10 columns]"
      ]
     },
     "execution_count": 60,
     "metadata": {},
     "output_type": "execute_result"
    }
   ],
   "source": [
    "fourteen_days['event_name'].unique()\n",
    "fourteen_days"
   ]
  },
  {
   "cell_type": "code",
   "execution_count": 61,
   "id": "7193cc1b-150e-4327-ac11-7b8cece1eb95",
   "metadata": {},
   "outputs": [
    {
     "name": "stdout",
     "output_type": "stream",
     "text": [
      "Среднее количество событий на пользователя в группе А\n"
     ]
    },
    {
     "name": "stderr",
     "output_type": "stream",
     "text": [
      "/tmp/ipykernel_48/1746504860.py:18: SettingWithCopyWarning:\n",
      "\n",
      "\n",
      "A value is trying to be set on a copy of a slice from a DataFrame.\n",
      "Try using .loc[row_indexer,col_indexer] = value instead\n",
      "\n",
      "See the caveats in the documentation: https://pandas.pydata.org/pandas-docs/stable/user_guide/indexing.html#returning-a-view-versus-a-copy\n",
      "\n",
      "/tmp/ipykernel_48/1746504860.py:19: SettingWithCopyWarning:\n",
      "\n",
      "\n",
      "A value is trying to be set on a copy of a slice from a DataFrame.\n",
      "Try using .loc[row_indexer,col_indexer] = value instead\n",
      "\n",
      "See the caveats in the documentation: https://pandas.pydata.org/pandas-docs/stable/user_guide/indexing.html#returning-a-view-versus-a-copy\n",
      "\n"
     ]
    },
    {
     "data": {
      "text/html": [
       "<div>\n",
       "<style scoped>\n",
       "    .dataframe tbody tr th:only-of-type {\n",
       "        vertical-align: middle;\n",
       "    }\n",
       "\n",
       "    .dataframe tbody tr th {\n",
       "        vertical-align: top;\n",
       "    }\n",
       "\n",
       "    .dataframe thead th {\n",
       "        text-align: right;\n",
       "    }\n",
       "</style>\n",
       "<table border=\"1\" class=\"dataframe\">\n",
       "  <thead>\n",
       "    <tr style=\"text-align: right;\">\n",
       "      <th></th>\n",
       "      <th>event_name</th>\n",
       "      <th>count_users</th>\n",
       "    </tr>\n",
       "  </thead>\n",
       "  <tbody>\n",
       "    <tr>\n",
       "      <th>0</th>\n",
       "      <td>login</td>\n",
       "      <td>2.16</td>\n",
       "    </tr>\n",
       "    <tr>\n",
       "      <th>1</th>\n",
       "      <td>product_cart</td>\n",
       "      <td>0.65</td>\n",
       "    </tr>\n",
       "    <tr>\n",
       "      <th>2</th>\n",
       "      <td>product_page</td>\n",
       "      <td>1.38</td>\n",
       "    </tr>\n",
       "    <tr>\n",
       "      <th>3</th>\n",
       "      <td>purchase</td>\n",
       "      <td>0.66</td>\n",
       "    </tr>\n",
       "  </tbody>\n",
       "</table>\n",
       "</div>"
      ],
      "text/plain": [
       "     event_name  count_users\n",
       "0         login         2.16\n",
       "1  product_cart         0.65\n",
       "2  product_page         1.38\n",
       "3      purchase         0.66"
      ]
     },
     "metadata": {},
     "output_type": "display_data"
    },
    {
     "name": "stdout",
     "output_type": "stream",
     "text": [
      "Среднее количество событий на пользователя в группе В\n"
     ]
    },
    {
     "data": {
      "text/html": [
       "<div>\n",
       "<style scoped>\n",
       "    .dataframe tbody tr th:only-of-type {\n",
       "        vertical-align: middle;\n",
       "    }\n",
       "\n",
       "    .dataframe tbody tr th {\n",
       "        vertical-align: top;\n",
       "    }\n",
       "\n",
       "    .dataframe thead th {\n",
       "        text-align: right;\n",
       "    }\n",
       "</style>\n",
       "<table border=\"1\" class=\"dataframe\">\n",
       "  <thead>\n",
       "    <tr style=\"text-align: right;\">\n",
       "      <th></th>\n",
       "      <th>event_name</th>\n",
       "      <th>count_users</th>\n",
       "    </tr>\n",
       "  </thead>\n",
       "  <tbody>\n",
       "    <tr>\n",
       "      <th>4</th>\n",
       "      <td>login</td>\n",
       "      <td>2.22</td>\n",
       "    </tr>\n",
       "    <tr>\n",
       "      <th>5</th>\n",
       "      <td>product_cart</td>\n",
       "      <td>0.61</td>\n",
       "    </tr>\n",
       "    <tr>\n",
       "      <th>6</th>\n",
       "      <td>product_page</td>\n",
       "      <td>1.21</td>\n",
       "    </tr>\n",
       "    <tr>\n",
       "      <th>7</th>\n",
       "      <td>purchase</td>\n",
       "      <td>0.58</td>\n",
       "    </tr>\n",
       "  </tbody>\n",
       "</table>\n",
       "</div>"
      ],
      "text/plain": [
       "     event_name  count_users\n",
       "4         login         2.22\n",
       "5  product_cart         0.61\n",
       "6  product_page         1.21\n",
       "7      purchase         0.58"
      ]
     },
     "metadata": {},
     "output_type": "display_data"
    }
   ],
   "source": [
    "#количество событий по пользователями и событиям  \n",
    "count_events_on_users_and_events = fourteen_days.groupby(['event_name', 'user_id'], as_index=False).agg({'device': 'count'})\\\n",
    "             .rename(columns={'device':'events_count'})\\\n",
    "             .merge(fourteen_days[['user_id', 'group']], on='user_id')\\\n",
    "             .drop_duplicates()\n",
    "\n",
    "#количество событий по группам\n",
    "count_events_on_users_and_events_group = count_events_on_users_and_events.groupby(['group', 'event_name'], as_index=False)['events_count'].agg('sum')\n",
    "count_events_on_users_and_events_group \n",
    "\n",
    "#количество оставшихся в тесте пользователей в группах А и В\n",
    "A = fourteen_days.query('group == \"A\"')['user_id'].nunique()\n",
    "B = fourteen_days.query('group == \"B\"')['user_id'].nunique()\n",
    "\n",
    "count_events_on_users_and_events_group_A = count_events_on_users_and_events_group[count_events_on_users_and_events_group['group'] == 'A']\n",
    "count_events_on_users_and_events_group_B = count_events_on_users_and_events_group[count_events_on_users_and_events_group['group'] == 'B']\n",
    "\n",
    "count_events_on_users_and_events_group_A['count_users'] = round(count_events_on_users_and_events_group_A['events_count'] / A,2)\n",
    "count_events_on_users_and_events_group_B['count_users'] = round(count_events_on_users_and_events_group_B['events_count'] / B,2)\n",
    "\n",
    "print('Среднее количество событий на пользователя в группе А')\n",
    "display(count_events_on_users_and_events_group_A[['event_name','count_users']])\n",
    "print('Среднее количество событий на пользователя в группе В')\n",
    "display(count_events_on_users_and_events_group_B[['event_name','count_users']])"
   ]
  },
  {
   "cell_type": "code",
   "execution_count": 62,
   "id": "7b72c5ac-40d4-4b9b-85f3-0a9c044b0bd4",
   "metadata": {},
   "outputs": [
    {
     "data": {
      "application/vnd.plotly.v1+json": {
       "config": {
        "plotlyServerURL": "https://plot.ly"
       },
       "data": [
        {
         "type": "box",
         "x": [
          "login",
          "product_cart",
          "product_page",
          "purchase"
         ],
         "xaxis": "x",
         "y": [
          2.16,
          0.65,
          1.38,
          0.66
         ],
         "yaxis": "y"
        },
        {
         "type": "box",
         "x": [
          "login",
          "product_cart",
          "product_page",
          "purchase"
         ],
         "xaxis": "x2",
         "y": [
          2.22,
          0.61,
          1.21,
          0.58
         ],
         "yaxis": "y2"
        }
       ],
       "layout": {
        "annotations": [
         {
          "font": {
           "size": 16
          },
          "showarrow": false,
          "text": "Группа А",
          "x": 0.225,
          "xanchor": "center",
          "xref": "paper",
          "y": 1,
          "yanchor": "bottom",
          "yref": "paper"
         },
         {
          "font": {
           "size": 16
          },
          "showarrow": false,
          "text": "Группа В",
          "x": 0.775,
          "xanchor": "center",
          "xref": "paper",
          "y": 1,
          "yanchor": "bottom",
          "yref": "paper"
         }
        ],
        "template": {
         "data": {
          "bar": [
           {
            "error_x": {
             "color": "#2a3f5f"
            },
            "error_y": {
             "color": "#2a3f5f"
            },
            "marker": {
             "line": {
              "color": "#E5ECF6",
              "width": 0.5
             },
             "pattern": {
              "fillmode": "overlay",
              "size": 10,
              "solidity": 0.2
             }
            },
            "type": "bar"
           }
          ],
          "barpolar": [
           {
            "marker": {
             "line": {
              "color": "#E5ECF6",
              "width": 0.5
             },
             "pattern": {
              "fillmode": "overlay",
              "size": 10,
              "solidity": 0.2
             }
            },
            "type": "barpolar"
           }
          ],
          "carpet": [
           {
            "aaxis": {
             "endlinecolor": "#2a3f5f",
             "gridcolor": "white",
             "linecolor": "white",
             "minorgridcolor": "white",
             "startlinecolor": "#2a3f5f"
            },
            "baxis": {
             "endlinecolor": "#2a3f5f",
             "gridcolor": "white",
             "linecolor": "white",
             "minorgridcolor": "white",
             "startlinecolor": "#2a3f5f"
            },
            "type": "carpet"
           }
          ],
          "choropleth": [
           {
            "colorbar": {
             "outlinewidth": 0,
             "ticks": ""
            },
            "type": "choropleth"
           }
          ],
          "contour": [
           {
            "colorbar": {
             "outlinewidth": 0,
             "ticks": ""
            },
            "colorscale": [
             [
              0,
              "#0d0887"
             ],
             [
              0.1111111111111111,
              "#46039f"
             ],
             [
              0.2222222222222222,
              "#7201a8"
             ],
             [
              0.3333333333333333,
              "#9c179e"
             ],
             [
              0.4444444444444444,
              "#bd3786"
             ],
             [
              0.5555555555555556,
              "#d8576b"
             ],
             [
              0.6666666666666666,
              "#ed7953"
             ],
             [
              0.7777777777777778,
              "#fb9f3a"
             ],
             [
              0.8888888888888888,
              "#fdca26"
             ],
             [
              1,
              "#f0f921"
             ]
            ],
            "type": "contour"
           }
          ],
          "contourcarpet": [
           {
            "colorbar": {
             "outlinewidth": 0,
             "ticks": ""
            },
            "type": "contourcarpet"
           }
          ],
          "heatmap": [
           {
            "colorbar": {
             "outlinewidth": 0,
             "ticks": ""
            },
            "colorscale": [
             [
              0,
              "#0d0887"
             ],
             [
              0.1111111111111111,
              "#46039f"
             ],
             [
              0.2222222222222222,
              "#7201a8"
             ],
             [
              0.3333333333333333,
              "#9c179e"
             ],
             [
              0.4444444444444444,
              "#bd3786"
             ],
             [
              0.5555555555555556,
              "#d8576b"
             ],
             [
              0.6666666666666666,
              "#ed7953"
             ],
             [
              0.7777777777777778,
              "#fb9f3a"
             ],
             [
              0.8888888888888888,
              "#fdca26"
             ],
             [
              1,
              "#f0f921"
             ]
            ],
            "type": "heatmap"
           }
          ],
          "heatmapgl": [
           {
            "colorbar": {
             "outlinewidth": 0,
             "ticks": ""
            },
            "colorscale": [
             [
              0,
              "#0d0887"
             ],
             [
              0.1111111111111111,
              "#46039f"
             ],
             [
              0.2222222222222222,
              "#7201a8"
             ],
             [
              0.3333333333333333,
              "#9c179e"
             ],
             [
              0.4444444444444444,
              "#bd3786"
             ],
             [
              0.5555555555555556,
              "#d8576b"
             ],
             [
              0.6666666666666666,
              "#ed7953"
             ],
             [
              0.7777777777777778,
              "#fb9f3a"
             ],
             [
              0.8888888888888888,
              "#fdca26"
             ],
             [
              1,
              "#f0f921"
             ]
            ],
            "type": "heatmapgl"
           }
          ],
          "histogram": [
           {
            "marker": {
             "pattern": {
              "fillmode": "overlay",
              "size": 10,
              "solidity": 0.2
             }
            },
            "type": "histogram"
           }
          ],
          "histogram2d": [
           {
            "colorbar": {
             "outlinewidth": 0,
             "ticks": ""
            },
            "colorscale": [
             [
              0,
              "#0d0887"
             ],
             [
              0.1111111111111111,
              "#46039f"
             ],
             [
              0.2222222222222222,
              "#7201a8"
             ],
             [
              0.3333333333333333,
              "#9c179e"
             ],
             [
              0.4444444444444444,
              "#bd3786"
             ],
             [
              0.5555555555555556,
              "#d8576b"
             ],
             [
              0.6666666666666666,
              "#ed7953"
             ],
             [
              0.7777777777777778,
              "#fb9f3a"
             ],
             [
              0.8888888888888888,
              "#fdca26"
             ],
             [
              1,
              "#f0f921"
             ]
            ],
            "type": "histogram2d"
           }
          ],
          "histogram2dcontour": [
           {
            "colorbar": {
             "outlinewidth": 0,
             "ticks": ""
            },
            "colorscale": [
             [
              0,
              "#0d0887"
             ],
             [
              0.1111111111111111,
              "#46039f"
             ],
             [
              0.2222222222222222,
              "#7201a8"
             ],
             [
              0.3333333333333333,
              "#9c179e"
             ],
             [
              0.4444444444444444,
              "#bd3786"
             ],
             [
              0.5555555555555556,
              "#d8576b"
             ],
             [
              0.6666666666666666,
              "#ed7953"
             ],
             [
              0.7777777777777778,
              "#fb9f3a"
             ],
             [
              0.8888888888888888,
              "#fdca26"
             ],
             [
              1,
              "#f0f921"
             ]
            ],
            "type": "histogram2dcontour"
           }
          ],
          "mesh3d": [
           {
            "colorbar": {
             "outlinewidth": 0,
             "ticks": ""
            },
            "type": "mesh3d"
           }
          ],
          "parcoords": [
           {
            "line": {
             "colorbar": {
              "outlinewidth": 0,
              "ticks": ""
             }
            },
            "type": "parcoords"
           }
          ],
          "pie": [
           {
            "automargin": true,
            "type": "pie"
           }
          ],
          "scatter": [
           {
            "marker": {
             "colorbar": {
              "outlinewidth": 0,
              "ticks": ""
             }
            },
            "type": "scatter"
           }
          ],
          "scatter3d": [
           {
            "line": {
             "colorbar": {
              "outlinewidth": 0,
              "ticks": ""
             }
            },
            "marker": {
             "colorbar": {
              "outlinewidth": 0,
              "ticks": ""
             }
            },
            "type": "scatter3d"
           }
          ],
          "scattercarpet": [
           {
            "marker": {
             "colorbar": {
              "outlinewidth": 0,
              "ticks": ""
             }
            },
            "type": "scattercarpet"
           }
          ],
          "scattergeo": [
           {
            "marker": {
             "colorbar": {
              "outlinewidth": 0,
              "ticks": ""
             }
            },
            "type": "scattergeo"
           }
          ],
          "scattergl": [
           {
            "marker": {
             "colorbar": {
              "outlinewidth": 0,
              "ticks": ""
             }
            },
            "type": "scattergl"
           }
          ],
          "scattermapbox": [
           {
            "marker": {
             "colorbar": {
              "outlinewidth": 0,
              "ticks": ""
             }
            },
            "type": "scattermapbox"
           }
          ],
          "scatterpolar": [
           {
            "marker": {
             "colorbar": {
              "outlinewidth": 0,
              "ticks": ""
             }
            },
            "type": "scatterpolar"
           }
          ],
          "scatterpolargl": [
           {
            "marker": {
             "colorbar": {
              "outlinewidth": 0,
              "ticks": ""
             }
            },
            "type": "scatterpolargl"
           }
          ],
          "scatterternary": [
           {
            "marker": {
             "colorbar": {
              "outlinewidth": 0,
              "ticks": ""
             }
            },
            "type": "scatterternary"
           }
          ],
          "surface": [
           {
            "colorbar": {
             "outlinewidth": 0,
             "ticks": ""
            },
            "colorscale": [
             [
              0,
              "#0d0887"
             ],
             [
              0.1111111111111111,
              "#46039f"
             ],
             [
              0.2222222222222222,
              "#7201a8"
             ],
             [
              0.3333333333333333,
              "#9c179e"
             ],
             [
              0.4444444444444444,
              "#bd3786"
             ],
             [
              0.5555555555555556,
              "#d8576b"
             ],
             [
              0.6666666666666666,
              "#ed7953"
             ],
             [
              0.7777777777777778,
              "#fb9f3a"
             ],
             [
              0.8888888888888888,
              "#fdca26"
             ],
             [
              1,
              "#f0f921"
             ]
            ],
            "type": "surface"
           }
          ],
          "table": [
           {
            "cells": {
             "fill": {
              "color": "#EBF0F8"
             },
             "line": {
              "color": "white"
             }
            },
            "header": {
             "fill": {
              "color": "#C8D4E3"
             },
             "line": {
              "color": "white"
             }
            },
            "type": "table"
           }
          ]
         },
         "layout": {
          "annotationdefaults": {
           "arrowcolor": "#2a3f5f",
           "arrowhead": 0,
           "arrowwidth": 1
          },
          "autotypenumbers": "strict",
          "coloraxis": {
           "colorbar": {
            "outlinewidth": 0,
            "ticks": ""
           }
          },
          "colorscale": {
           "diverging": [
            [
             0,
             "#8e0152"
            ],
            [
             0.1,
             "#c51b7d"
            ],
            [
             0.2,
             "#de77ae"
            ],
            [
             0.3,
             "#f1b6da"
            ],
            [
             0.4,
             "#fde0ef"
            ],
            [
             0.5,
             "#f7f7f7"
            ],
            [
             0.6,
             "#e6f5d0"
            ],
            [
             0.7,
             "#b8e186"
            ],
            [
             0.8,
             "#7fbc41"
            ],
            [
             0.9,
             "#4d9221"
            ],
            [
             1,
             "#276419"
            ]
           ],
           "sequential": [
            [
             0,
             "#0d0887"
            ],
            [
             0.1111111111111111,
             "#46039f"
            ],
            [
             0.2222222222222222,
             "#7201a8"
            ],
            [
             0.3333333333333333,
             "#9c179e"
            ],
            [
             0.4444444444444444,
             "#bd3786"
            ],
            [
             0.5555555555555556,
             "#d8576b"
            ],
            [
             0.6666666666666666,
             "#ed7953"
            ],
            [
             0.7777777777777778,
             "#fb9f3a"
            ],
            [
             0.8888888888888888,
             "#fdca26"
            ],
            [
             1,
             "#f0f921"
            ]
           ],
           "sequentialminus": [
            [
             0,
             "#0d0887"
            ],
            [
             0.1111111111111111,
             "#46039f"
            ],
            [
             0.2222222222222222,
             "#7201a8"
            ],
            [
             0.3333333333333333,
             "#9c179e"
            ],
            [
             0.4444444444444444,
             "#bd3786"
            ],
            [
             0.5555555555555556,
             "#d8576b"
            ],
            [
             0.6666666666666666,
             "#ed7953"
            ],
            [
             0.7777777777777778,
             "#fb9f3a"
            ],
            [
             0.8888888888888888,
             "#fdca26"
            ],
            [
             1,
             "#f0f921"
            ]
           ]
          },
          "colorway": [
           "#636efa",
           "#EF553B",
           "#00cc96",
           "#ab63fa",
           "#FFA15A",
           "#19d3f3",
           "#FF6692",
           "#B6E880",
           "#FF97FF",
           "#FECB52"
          ],
          "font": {
           "color": "#2a3f5f"
          },
          "geo": {
           "bgcolor": "white",
           "lakecolor": "white",
           "landcolor": "#E5ECF6",
           "showlakes": true,
           "showland": true,
           "subunitcolor": "white"
          },
          "hoverlabel": {
           "align": "left"
          },
          "hovermode": "closest",
          "mapbox": {
           "style": "light"
          },
          "paper_bgcolor": "white",
          "plot_bgcolor": "#E5ECF6",
          "polar": {
           "angularaxis": {
            "gridcolor": "white",
            "linecolor": "white",
            "ticks": ""
           },
           "bgcolor": "#E5ECF6",
           "radialaxis": {
            "gridcolor": "white",
            "linecolor": "white",
            "ticks": ""
           }
          },
          "scene": {
           "xaxis": {
            "backgroundcolor": "#E5ECF6",
            "gridcolor": "white",
            "gridwidth": 2,
            "linecolor": "white",
            "showbackground": true,
            "ticks": "",
            "zerolinecolor": "white"
           },
           "yaxis": {
            "backgroundcolor": "#E5ECF6",
            "gridcolor": "white",
            "gridwidth": 2,
            "linecolor": "white",
            "showbackground": true,
            "ticks": "",
            "zerolinecolor": "white"
           },
           "zaxis": {
            "backgroundcolor": "#E5ECF6",
            "gridcolor": "white",
            "gridwidth": 2,
            "linecolor": "white",
            "showbackground": true,
            "ticks": "",
            "zerolinecolor": "white"
           }
          },
          "shapedefaults": {
           "line": {
            "color": "#2a3f5f"
           }
          },
          "ternary": {
           "aaxis": {
            "gridcolor": "white",
            "linecolor": "white",
            "ticks": ""
           },
           "baxis": {
            "gridcolor": "white",
            "linecolor": "white",
            "ticks": ""
           },
           "bgcolor": "#E5ECF6",
           "caxis": {
            "gridcolor": "white",
            "linecolor": "white",
            "ticks": ""
           }
          },
          "title": {
           "x": 0.05
          },
          "xaxis": {
           "automargin": true,
           "gridcolor": "white",
           "linecolor": "white",
           "ticks": "",
           "title": {
            "standoff": 15
           },
           "zerolinecolor": "white",
           "zerolinewidth": 2
          },
          "yaxis": {
           "automargin": true,
           "gridcolor": "white",
           "linecolor": "white",
           "ticks": "",
           "title": {
            "standoff": 15
           },
           "zerolinecolor": "white",
           "zerolinewidth": 2
          }
         }
        },
        "xaxis": {
         "anchor": "y",
         "domain": [
          0,
          0.45
         ]
        },
        "xaxis2": {
         "anchor": "y2",
         "domain": [
          0.55,
          1
         ]
        },
        "yaxis": {
         "anchor": "x",
         "domain": [
          0,
          1
         ],
         "title": {
          "text": "Количество человек"
         }
        },
        "yaxis2": {
         "anchor": "x2",
         "domain": [
          0,
          1
         ],
         "title": {
          "text": "Количество человек"
         }
        }
       }
      },
      "text/html": [
       "<div>                            <div id=\"fb4c88fb-ae61-4859-879d-efad7d58130f\" class=\"plotly-graph-div\" style=\"height:525px; width:100%;\"></div>            <script type=\"text/javascript\">                require([\"plotly\"], function(Plotly) {                    window.PLOTLYENV=window.PLOTLYENV || {};                                    if (document.getElementById(\"fb4c88fb-ae61-4859-879d-efad7d58130f\")) {                    Plotly.newPlot(                        \"fb4c88fb-ae61-4859-879d-efad7d58130f\",                        [{\"x\":[\"login\",\"product_cart\",\"product_page\",\"purchase\"],\"y\":[2.16,0.65,1.38,0.66],\"type\":\"box\",\"xaxis\":\"x\",\"yaxis\":\"y\"},{\"x\":[\"login\",\"product_cart\",\"product_page\",\"purchase\"],\"y\":[2.22,0.61,1.21,0.58],\"type\":\"box\",\"xaxis\":\"x2\",\"yaxis\":\"y2\"}],                        {\"template\":{\"data\":{\"bar\":[{\"error_x\":{\"color\":\"#2a3f5f\"},\"error_y\":{\"color\":\"#2a3f5f\"},\"marker\":{\"line\":{\"color\":\"#E5ECF6\",\"width\":0.5},\"pattern\":{\"fillmode\":\"overlay\",\"size\":10,\"solidity\":0.2}},\"type\":\"bar\"}],\"barpolar\":[{\"marker\":{\"line\":{\"color\":\"#E5ECF6\",\"width\":0.5},\"pattern\":{\"fillmode\":\"overlay\",\"size\":10,\"solidity\":0.2}},\"type\":\"barpolar\"}],\"carpet\":[{\"aaxis\":{\"endlinecolor\":\"#2a3f5f\",\"gridcolor\":\"white\",\"linecolor\":\"white\",\"minorgridcolor\":\"white\",\"startlinecolor\":\"#2a3f5f\"},\"baxis\":{\"endlinecolor\":\"#2a3f5f\",\"gridcolor\":\"white\",\"linecolor\":\"white\",\"minorgridcolor\":\"white\",\"startlinecolor\":\"#2a3f5f\"},\"type\":\"carpet\"}],\"choropleth\":[{\"colorbar\":{\"outlinewidth\":0,\"ticks\":\"\"},\"type\":\"choropleth\"}],\"contour\":[{\"colorbar\":{\"outlinewidth\":0,\"ticks\":\"\"},\"colorscale\":[[0.0,\"#0d0887\"],[0.1111111111111111,\"#46039f\"],[0.2222222222222222,\"#7201a8\"],[0.3333333333333333,\"#9c179e\"],[0.4444444444444444,\"#bd3786\"],[0.5555555555555556,\"#d8576b\"],[0.6666666666666666,\"#ed7953\"],[0.7777777777777778,\"#fb9f3a\"],[0.8888888888888888,\"#fdca26\"],[1.0,\"#f0f921\"]],\"type\":\"contour\"}],\"contourcarpet\":[{\"colorbar\":{\"outlinewidth\":0,\"ticks\":\"\"},\"type\":\"contourcarpet\"}],\"heatmap\":[{\"colorbar\":{\"outlinewidth\":0,\"ticks\":\"\"},\"colorscale\":[[0.0,\"#0d0887\"],[0.1111111111111111,\"#46039f\"],[0.2222222222222222,\"#7201a8\"],[0.3333333333333333,\"#9c179e\"],[0.4444444444444444,\"#bd3786\"],[0.5555555555555556,\"#d8576b\"],[0.6666666666666666,\"#ed7953\"],[0.7777777777777778,\"#fb9f3a\"],[0.8888888888888888,\"#fdca26\"],[1.0,\"#f0f921\"]],\"type\":\"heatmap\"}],\"heatmapgl\":[{\"colorbar\":{\"outlinewidth\":0,\"ticks\":\"\"},\"colorscale\":[[0.0,\"#0d0887\"],[0.1111111111111111,\"#46039f\"],[0.2222222222222222,\"#7201a8\"],[0.3333333333333333,\"#9c179e\"],[0.4444444444444444,\"#bd3786\"],[0.5555555555555556,\"#d8576b\"],[0.6666666666666666,\"#ed7953\"],[0.7777777777777778,\"#fb9f3a\"],[0.8888888888888888,\"#fdca26\"],[1.0,\"#f0f921\"]],\"type\":\"heatmapgl\"}],\"histogram\":[{\"marker\":{\"pattern\":{\"fillmode\":\"overlay\",\"size\":10,\"solidity\":0.2}},\"type\":\"histogram\"}],\"histogram2d\":[{\"colorbar\":{\"outlinewidth\":0,\"ticks\":\"\"},\"colorscale\":[[0.0,\"#0d0887\"],[0.1111111111111111,\"#46039f\"],[0.2222222222222222,\"#7201a8\"],[0.3333333333333333,\"#9c179e\"],[0.4444444444444444,\"#bd3786\"],[0.5555555555555556,\"#d8576b\"],[0.6666666666666666,\"#ed7953\"],[0.7777777777777778,\"#fb9f3a\"],[0.8888888888888888,\"#fdca26\"],[1.0,\"#f0f921\"]],\"type\":\"histogram2d\"}],\"histogram2dcontour\":[{\"colorbar\":{\"outlinewidth\":0,\"ticks\":\"\"},\"colorscale\":[[0.0,\"#0d0887\"],[0.1111111111111111,\"#46039f\"],[0.2222222222222222,\"#7201a8\"],[0.3333333333333333,\"#9c179e\"],[0.4444444444444444,\"#bd3786\"],[0.5555555555555556,\"#d8576b\"],[0.6666666666666666,\"#ed7953\"],[0.7777777777777778,\"#fb9f3a\"],[0.8888888888888888,\"#fdca26\"],[1.0,\"#f0f921\"]],\"type\":\"histogram2dcontour\"}],\"mesh3d\":[{\"colorbar\":{\"outlinewidth\":0,\"ticks\":\"\"},\"type\":\"mesh3d\"}],\"parcoords\":[{\"line\":{\"colorbar\":{\"outlinewidth\":0,\"ticks\":\"\"}},\"type\":\"parcoords\"}],\"pie\":[{\"automargin\":true,\"type\":\"pie\"}],\"scatter\":[{\"marker\":{\"colorbar\":{\"outlinewidth\":0,\"ticks\":\"\"}},\"type\":\"scatter\"}],\"scatter3d\":[{\"line\":{\"colorbar\":{\"outlinewidth\":0,\"ticks\":\"\"}},\"marker\":{\"colorbar\":{\"outlinewidth\":0,\"ticks\":\"\"}},\"type\":\"scatter3d\"}],\"scattercarpet\":[{\"marker\":{\"colorbar\":{\"outlinewidth\":0,\"ticks\":\"\"}},\"type\":\"scattercarpet\"}],\"scattergeo\":[{\"marker\":{\"colorbar\":{\"outlinewidth\":0,\"ticks\":\"\"}},\"type\":\"scattergeo\"}],\"scattergl\":[{\"marker\":{\"colorbar\":{\"outlinewidth\":0,\"ticks\":\"\"}},\"type\":\"scattergl\"}],\"scattermapbox\":[{\"marker\":{\"colorbar\":{\"outlinewidth\":0,\"ticks\":\"\"}},\"type\":\"scattermapbox\"}],\"scatterpolar\":[{\"marker\":{\"colorbar\":{\"outlinewidth\":0,\"ticks\":\"\"}},\"type\":\"scatterpolar\"}],\"scatterpolargl\":[{\"marker\":{\"colorbar\":{\"outlinewidth\":0,\"ticks\":\"\"}},\"type\":\"scatterpolargl\"}],\"scatterternary\":[{\"marker\":{\"colorbar\":{\"outlinewidth\":0,\"ticks\":\"\"}},\"type\":\"scatterternary\"}],\"surface\":[{\"colorbar\":{\"outlinewidth\":0,\"ticks\":\"\"},\"colorscale\":[[0.0,\"#0d0887\"],[0.1111111111111111,\"#46039f\"],[0.2222222222222222,\"#7201a8\"],[0.3333333333333333,\"#9c179e\"],[0.4444444444444444,\"#bd3786\"],[0.5555555555555556,\"#d8576b\"],[0.6666666666666666,\"#ed7953\"],[0.7777777777777778,\"#fb9f3a\"],[0.8888888888888888,\"#fdca26\"],[1.0,\"#f0f921\"]],\"type\":\"surface\"}],\"table\":[{\"cells\":{\"fill\":{\"color\":\"#EBF0F8\"},\"line\":{\"color\":\"white\"}},\"header\":{\"fill\":{\"color\":\"#C8D4E3\"},\"line\":{\"color\":\"white\"}},\"type\":\"table\"}]},\"layout\":{\"annotationdefaults\":{\"arrowcolor\":\"#2a3f5f\",\"arrowhead\":0,\"arrowwidth\":1},\"autotypenumbers\":\"strict\",\"coloraxis\":{\"colorbar\":{\"outlinewidth\":0,\"ticks\":\"\"}},\"colorscale\":{\"diverging\":[[0,\"#8e0152\"],[0.1,\"#c51b7d\"],[0.2,\"#de77ae\"],[0.3,\"#f1b6da\"],[0.4,\"#fde0ef\"],[0.5,\"#f7f7f7\"],[0.6,\"#e6f5d0\"],[0.7,\"#b8e186\"],[0.8,\"#7fbc41\"],[0.9,\"#4d9221\"],[1,\"#276419\"]],\"sequential\":[[0.0,\"#0d0887\"],[0.1111111111111111,\"#46039f\"],[0.2222222222222222,\"#7201a8\"],[0.3333333333333333,\"#9c179e\"],[0.4444444444444444,\"#bd3786\"],[0.5555555555555556,\"#d8576b\"],[0.6666666666666666,\"#ed7953\"],[0.7777777777777778,\"#fb9f3a\"],[0.8888888888888888,\"#fdca26\"],[1.0,\"#f0f921\"]],\"sequentialminus\":[[0.0,\"#0d0887\"],[0.1111111111111111,\"#46039f\"],[0.2222222222222222,\"#7201a8\"],[0.3333333333333333,\"#9c179e\"],[0.4444444444444444,\"#bd3786\"],[0.5555555555555556,\"#d8576b\"],[0.6666666666666666,\"#ed7953\"],[0.7777777777777778,\"#fb9f3a\"],[0.8888888888888888,\"#fdca26\"],[1.0,\"#f0f921\"]]},\"colorway\":[\"#636efa\",\"#EF553B\",\"#00cc96\",\"#ab63fa\",\"#FFA15A\",\"#19d3f3\",\"#FF6692\",\"#B6E880\",\"#FF97FF\",\"#FECB52\"],\"font\":{\"color\":\"#2a3f5f\"},\"geo\":{\"bgcolor\":\"white\",\"lakecolor\":\"white\",\"landcolor\":\"#E5ECF6\",\"showlakes\":true,\"showland\":true,\"subunitcolor\":\"white\"},\"hoverlabel\":{\"align\":\"left\"},\"hovermode\":\"closest\",\"mapbox\":{\"style\":\"light\"},\"paper_bgcolor\":\"white\",\"plot_bgcolor\":\"#E5ECF6\",\"polar\":{\"angularaxis\":{\"gridcolor\":\"white\",\"linecolor\":\"white\",\"ticks\":\"\"},\"bgcolor\":\"#E5ECF6\",\"radialaxis\":{\"gridcolor\":\"white\",\"linecolor\":\"white\",\"ticks\":\"\"}},\"scene\":{\"xaxis\":{\"backgroundcolor\":\"#E5ECF6\",\"gridcolor\":\"white\",\"gridwidth\":2,\"linecolor\":\"white\",\"showbackground\":true,\"ticks\":\"\",\"zerolinecolor\":\"white\"},\"yaxis\":{\"backgroundcolor\":\"#E5ECF6\",\"gridcolor\":\"white\",\"gridwidth\":2,\"linecolor\":\"white\",\"showbackground\":true,\"ticks\":\"\",\"zerolinecolor\":\"white\"},\"zaxis\":{\"backgroundcolor\":\"#E5ECF6\",\"gridcolor\":\"white\",\"gridwidth\":2,\"linecolor\":\"white\",\"showbackground\":true,\"ticks\":\"\",\"zerolinecolor\":\"white\"}},\"shapedefaults\":{\"line\":{\"color\":\"#2a3f5f\"}},\"ternary\":{\"aaxis\":{\"gridcolor\":\"white\",\"linecolor\":\"white\",\"ticks\":\"\"},\"baxis\":{\"gridcolor\":\"white\",\"linecolor\":\"white\",\"ticks\":\"\"},\"bgcolor\":\"#E5ECF6\",\"caxis\":{\"gridcolor\":\"white\",\"linecolor\":\"white\",\"ticks\":\"\"}},\"title\":{\"x\":0.05},\"xaxis\":{\"automargin\":true,\"gridcolor\":\"white\",\"linecolor\":\"white\",\"ticks\":\"\",\"title\":{\"standoff\":15},\"zerolinecolor\":\"white\",\"zerolinewidth\":2},\"yaxis\":{\"automargin\":true,\"gridcolor\":\"white\",\"linecolor\":\"white\",\"ticks\":\"\",\"title\":{\"standoff\":15},\"zerolinecolor\":\"white\",\"zerolinewidth\":2}}},\"xaxis\":{\"anchor\":\"y\",\"domain\":[0.0,0.45]},\"yaxis\":{\"anchor\":\"x\",\"domain\":[0.0,1.0],\"title\":{\"text\":\"\\u041a\\u043e\\u043b\\u0438\\u0447\\u0435\\u0441\\u0442\\u0432\\u043e \\u0447\\u0435\\u043b\\u043e\\u0432\\u0435\\u043a\"}},\"xaxis2\":{\"anchor\":\"y2\",\"domain\":[0.55,1.0]},\"yaxis2\":{\"anchor\":\"x2\",\"domain\":[0.0,1.0],\"title\":{\"text\":\"\\u041a\\u043e\\u043b\\u0438\\u0447\\u0435\\u0441\\u0442\\u0432\\u043e \\u0447\\u0435\\u043b\\u043e\\u0432\\u0435\\u043a\"}},\"annotations\":[{\"font\":{\"size\":16},\"showarrow\":false,\"text\":\"\\u0413\\u0440\\u0443\\u043f\\u043f\\u0430 \\u0410\",\"x\":0.225,\"xanchor\":\"center\",\"xref\":\"paper\",\"y\":1.0,\"yanchor\":\"bottom\",\"yref\":\"paper\"},{\"font\":{\"size\":16},\"showarrow\":false,\"text\":\"\\u0413\\u0440\\u0443\\u043f\\u043f\\u0430 \\u0412\",\"x\":0.775,\"xanchor\":\"center\",\"xref\":\"paper\",\"y\":1.0,\"yanchor\":\"bottom\",\"yref\":\"paper\"}]},                        {\"responsive\": true}                    ).then(function(){\n",
       "                            \n",
       "var gd = document.getElementById('fb4c88fb-ae61-4859-879d-efad7d58130f');\n",
       "var x = new MutationObserver(function (mutations, observer) {{\n",
       "        var display = window.getComputedStyle(gd).display;\n",
       "        if (!display || display === 'none') {{\n",
       "            console.log([gd, 'removed!']);\n",
       "            Plotly.purge(gd);\n",
       "            observer.disconnect();\n",
       "        }}\n",
       "}});\n",
       "\n",
       "// Listen for the removal of the full notebook cells\n",
       "var notebookContainer = gd.closest('#notebook-container');\n",
       "if (notebookContainer) {{\n",
       "    x.observe(notebookContainer, {childList: true});\n",
       "}}\n",
       "\n",
       "// Listen for the clearing of the current output cell\n",
       "var outputEl = gd.closest('.output');\n",
       "if (outputEl) {{\n",
       "    x.observe(outputEl, {childList: true});\n",
       "}}\n",
       "\n",
       "                        })                };                });            </script>        </div>"
      ]
     },
     "metadata": {},
     "output_type": "display_data"
    }
   ],
   "source": [
    "#Построим наглядный график\n",
    "fig = make_subplots(\n",
    "    rows=1, cols=2,\n",
    "    subplot_titles=(\"Группа А\", \"Группа В\"))\n",
    "\n",
    "fig.add_trace(go.Box(x=count_events_on_users_and_events_group_A['event_name'], y=count_events_on_users_and_events_group_A['count_users']),\n",
    "              row=1, col=1)\n",
    "\n",
    "fig.add_trace(go.Box(x=count_events_on_users_and_events_group_B['event_name'], y=count_events_on_users_and_events_group_B['count_users']),\n",
    "              row=1, col=2)\n",
    "\n",
    "fig.update_yaxes(title_text=\"Количество человек\", row=1, col=1)\n",
    "fig.update_yaxes(title_text=\"Количество человек\", row=1, col=2)"
   ]
  },
  {
   "cell_type": "markdown",
   "id": "6786a937-6245-40c7-9e72-2f68ba3f79ad",
   "metadata": {},
   "source": [
    "**Вывод:**\n",
    "- Событие `Регистрация` между группами различается: 2.16(A) и 2.22(B) - Группа В лидирует.\n",
    "- В событиях `product_cart`, `product_page`, `purchase` лидирует группа А."
   ]
  },
  {
   "cell_type": "markdown",
   "id": "3b592e36-1dc1-43b1-a7a0-21c30b6aeb13",
   "metadata": {},
   "source": [
    "### Как число событий в выборках распределено по дням?"
   ]
  },
  {
   "cell_type": "markdown",
   "id": "55ba60fd-bbbb-4fa7-957e-47b92aa572fb",
   "metadata": {},
   "source": [
    "#### посмотрим в разрезе дней недели"
   ]
  },
  {
   "cell_type": "code",
   "execution_count": 63,
   "id": "0c3ac3d8-9fe8-4abc-ada4-e93835aac9af",
   "metadata": {},
   "outputs": [],
   "source": [
    "#Добавим столбец с днями недели\n",
    "fourteen_days['day'] = pd.to_datetime(fourteen_days['first_date']).dt.day_name()\n",
    "\n",
    "#Сделаем групппировку по выборкам\n",
    "a_day = fourteen_days.query('group == \"A\"')\n",
    "b_day = fourteen_days.query('group == \"B\"')\n",
    "\n",
    "a_f_d = a_day.groupby(['day','event_name']).agg(count_event = ('event_name','count')).reset_index()\n",
    "b_f_d = b_day.groupby(['day','event_name']).agg(count_event = ('event_name','count')).reset_index()"
   ]
  },
  {
   "cell_type": "code",
   "execution_count": 64,
   "id": "23087b97-1fb7-425d-8251-e1c117996656",
   "metadata": {},
   "outputs": [
    {
     "data": {
      "application/vnd.plotly.v1+json": {
       "config": {
        "plotlyServerURL": "https://plot.ly"
       },
       "data": [
        {
         "alignmentgroup": "True",
         "hovertemplate": "day=Friday<br>count_event=%{x}<br>event_name=%{y}<extra></extra>",
         "legendgroup": "Friday",
         "marker": {
          "color": "#636efa",
          "pattern": {
           "shape": ""
          }
         },
         "name": "Friday",
         "offsetgroup": "Friday",
         "orientation": "h",
         "showlegend": true,
         "textposition": "auto",
         "type": "bar",
         "x": [
          133,
          34,
          60,
          22
         ],
         "xaxis": "x",
         "y": [
          "login",
          "product_cart",
          "product_page",
          "purchase"
         ],
         "yaxis": "y"
        },
        {
         "alignmentgroup": "True",
         "hovertemplate": "day=Monday<br>count_event=%{x}<br>event_name=%{y}<extra></extra>",
         "legendgroup": "Monday",
         "marker": {
          "color": "#EF553B",
          "pattern": {
           "shape": ""
          }
         },
         "name": "Monday",
         "offsetgroup": "Monday",
         "orientation": "h",
         "showlegend": true,
         "textposition": "auto",
         "type": "bar",
         "x": [
          782,
          227,
          463,
          232
         ],
         "xaxis": "x",
         "y": [
          "login",
          "product_cart",
          "product_page",
          "purchase"
         ],
         "yaxis": "y"
        },
        {
         "alignmentgroup": "True",
         "hovertemplate": "day=Saturday<br>count_event=%{x}<br>event_name=%{y}<extra></extra>",
         "legendgroup": "Saturday",
         "marker": {
          "color": "#00cc96",
          "pattern": {
           "shape": ""
          }
         },
         "name": "Saturday",
         "offsetgroup": "Saturday",
         "orientation": "h",
         "showlegend": true,
         "textposition": "auto",
         "type": "bar",
         "x": [
          217,
          42,
          105,
          45
         ],
         "xaxis": "x",
         "y": [
          "login",
          "product_cart",
          "product_page",
          "purchase"
         ],
         "yaxis": "y"
        },
        {
         "alignmentgroup": "True",
         "hovertemplate": "day=Sunday<br>count_event=%{x}<br>event_name=%{y}<extra></extra>",
         "legendgroup": "Sunday",
         "marker": {
          "color": "#ab63fa",
          "pattern": {
           "shape": ""
          }
         },
         "name": "Sunday",
         "offsetgroup": "Sunday",
         "orientation": "h",
         "showlegend": true,
         "textposition": "auto",
         "type": "bar",
         "x": [
          115,
          21,
          61,
          33
         ],
         "xaxis": "x",
         "y": [
          "login",
          "product_cart",
          "product_page",
          "purchase"
         ],
         "yaxis": "y"
        },
        {
         "alignmentgroup": "True",
         "hovertemplate": "day=Thursday<br>count_event=%{x}<br>event_name=%{y}<extra></extra>",
         "legendgroup": "Thursday",
         "marker": {
          "color": "#FFA15A",
          "pattern": {
           "shape": ""
          }
         },
         "name": "Thursday",
         "offsetgroup": "Thursday",
         "orientation": "h",
         "showlegend": true,
         "textposition": "auto",
         "type": "bar",
         "x": [
          155,
          47,
          62,
          36
         ],
         "xaxis": "x",
         "y": [
          "login",
          "product_cart",
          "product_page",
          "purchase"
         ],
         "yaxis": "y"
        },
        {
         "alignmentgroup": "True",
         "hovertemplate": "day=Tuesday<br>count_event=%{x}<br>event_name=%{y}<extra></extra>",
         "legendgroup": "Tuesday",
         "marker": {
          "color": "#19d3f3",
          "pattern": {
           "shape": ""
          }
         },
         "name": "Tuesday",
         "offsetgroup": "Tuesday",
         "orientation": "h",
         "showlegend": true,
         "textposition": "auto",
         "type": "bar",
         "x": [
          191,
          45,
          84,
          51
         ],
         "xaxis": "x",
         "y": [
          "login",
          "product_cart",
          "product_page",
          "purchase"
         ],
         "yaxis": "y"
        },
        {
         "alignmentgroup": "True",
         "hovertemplate": "day=Wednesday<br>count_event=%{x}<br>event_name=%{y}<extra></extra>",
         "legendgroup": "Wednesday",
         "marker": {
          "color": "#FF6692",
          "pattern": {
           "shape": ""
          }
         },
         "name": "Wednesday",
         "offsetgroup": "Wednesday",
         "orientation": "h",
         "showlegend": true,
         "textposition": "auto",
         "type": "bar",
         "x": [
          467,
          151,
          287,
          118
         ],
         "xaxis": "x",
         "y": [
          "login",
          "product_cart",
          "product_page",
          "purchase"
         ],
         "yaxis": "y"
        }
       ],
       "layout": {
        "barmode": "relative",
        "height": 400,
        "legend": {
         "title": {
          "text": "day"
         },
         "tracegroupgap": 0
        },
        "template": {
         "data": {
          "bar": [
           {
            "error_x": {
             "color": "#2a3f5f"
            },
            "error_y": {
             "color": "#2a3f5f"
            },
            "marker": {
             "line": {
              "color": "#E5ECF6",
              "width": 0.5
             },
             "pattern": {
              "fillmode": "overlay",
              "size": 10,
              "solidity": 0.2
             }
            },
            "type": "bar"
           }
          ],
          "barpolar": [
           {
            "marker": {
             "line": {
              "color": "#E5ECF6",
              "width": 0.5
             },
             "pattern": {
              "fillmode": "overlay",
              "size": 10,
              "solidity": 0.2
             }
            },
            "type": "barpolar"
           }
          ],
          "carpet": [
           {
            "aaxis": {
             "endlinecolor": "#2a3f5f",
             "gridcolor": "white",
             "linecolor": "white",
             "minorgridcolor": "white",
             "startlinecolor": "#2a3f5f"
            },
            "baxis": {
             "endlinecolor": "#2a3f5f",
             "gridcolor": "white",
             "linecolor": "white",
             "minorgridcolor": "white",
             "startlinecolor": "#2a3f5f"
            },
            "type": "carpet"
           }
          ],
          "choropleth": [
           {
            "colorbar": {
             "outlinewidth": 0,
             "ticks": ""
            },
            "type": "choropleth"
           }
          ],
          "contour": [
           {
            "colorbar": {
             "outlinewidth": 0,
             "ticks": ""
            },
            "colorscale": [
             [
              0,
              "#0d0887"
             ],
             [
              0.1111111111111111,
              "#46039f"
             ],
             [
              0.2222222222222222,
              "#7201a8"
             ],
             [
              0.3333333333333333,
              "#9c179e"
             ],
             [
              0.4444444444444444,
              "#bd3786"
             ],
             [
              0.5555555555555556,
              "#d8576b"
             ],
             [
              0.6666666666666666,
              "#ed7953"
             ],
             [
              0.7777777777777778,
              "#fb9f3a"
             ],
             [
              0.8888888888888888,
              "#fdca26"
             ],
             [
              1,
              "#f0f921"
             ]
            ],
            "type": "contour"
           }
          ],
          "contourcarpet": [
           {
            "colorbar": {
             "outlinewidth": 0,
             "ticks": ""
            },
            "type": "contourcarpet"
           }
          ],
          "heatmap": [
           {
            "colorbar": {
             "outlinewidth": 0,
             "ticks": ""
            },
            "colorscale": [
             [
              0,
              "#0d0887"
             ],
             [
              0.1111111111111111,
              "#46039f"
             ],
             [
              0.2222222222222222,
              "#7201a8"
             ],
             [
              0.3333333333333333,
              "#9c179e"
             ],
             [
              0.4444444444444444,
              "#bd3786"
             ],
             [
              0.5555555555555556,
              "#d8576b"
             ],
             [
              0.6666666666666666,
              "#ed7953"
             ],
             [
              0.7777777777777778,
              "#fb9f3a"
             ],
             [
              0.8888888888888888,
              "#fdca26"
             ],
             [
              1,
              "#f0f921"
             ]
            ],
            "type": "heatmap"
           }
          ],
          "heatmapgl": [
           {
            "colorbar": {
             "outlinewidth": 0,
             "ticks": ""
            },
            "colorscale": [
             [
              0,
              "#0d0887"
             ],
             [
              0.1111111111111111,
              "#46039f"
             ],
             [
              0.2222222222222222,
              "#7201a8"
             ],
             [
              0.3333333333333333,
              "#9c179e"
             ],
             [
              0.4444444444444444,
              "#bd3786"
             ],
             [
              0.5555555555555556,
              "#d8576b"
             ],
             [
              0.6666666666666666,
              "#ed7953"
             ],
             [
              0.7777777777777778,
              "#fb9f3a"
             ],
             [
              0.8888888888888888,
              "#fdca26"
             ],
             [
              1,
              "#f0f921"
             ]
            ],
            "type": "heatmapgl"
           }
          ],
          "histogram": [
           {
            "marker": {
             "pattern": {
              "fillmode": "overlay",
              "size": 10,
              "solidity": 0.2
             }
            },
            "type": "histogram"
           }
          ],
          "histogram2d": [
           {
            "colorbar": {
             "outlinewidth": 0,
             "ticks": ""
            },
            "colorscale": [
             [
              0,
              "#0d0887"
             ],
             [
              0.1111111111111111,
              "#46039f"
             ],
             [
              0.2222222222222222,
              "#7201a8"
             ],
             [
              0.3333333333333333,
              "#9c179e"
             ],
             [
              0.4444444444444444,
              "#bd3786"
             ],
             [
              0.5555555555555556,
              "#d8576b"
             ],
             [
              0.6666666666666666,
              "#ed7953"
             ],
             [
              0.7777777777777778,
              "#fb9f3a"
             ],
             [
              0.8888888888888888,
              "#fdca26"
             ],
             [
              1,
              "#f0f921"
             ]
            ],
            "type": "histogram2d"
           }
          ],
          "histogram2dcontour": [
           {
            "colorbar": {
             "outlinewidth": 0,
             "ticks": ""
            },
            "colorscale": [
             [
              0,
              "#0d0887"
             ],
             [
              0.1111111111111111,
              "#46039f"
             ],
             [
              0.2222222222222222,
              "#7201a8"
             ],
             [
              0.3333333333333333,
              "#9c179e"
             ],
             [
              0.4444444444444444,
              "#bd3786"
             ],
             [
              0.5555555555555556,
              "#d8576b"
             ],
             [
              0.6666666666666666,
              "#ed7953"
             ],
             [
              0.7777777777777778,
              "#fb9f3a"
             ],
             [
              0.8888888888888888,
              "#fdca26"
             ],
             [
              1,
              "#f0f921"
             ]
            ],
            "type": "histogram2dcontour"
           }
          ],
          "mesh3d": [
           {
            "colorbar": {
             "outlinewidth": 0,
             "ticks": ""
            },
            "type": "mesh3d"
           }
          ],
          "parcoords": [
           {
            "line": {
             "colorbar": {
              "outlinewidth": 0,
              "ticks": ""
             }
            },
            "type": "parcoords"
           }
          ],
          "pie": [
           {
            "automargin": true,
            "type": "pie"
           }
          ],
          "scatter": [
           {
            "marker": {
             "colorbar": {
              "outlinewidth": 0,
              "ticks": ""
             }
            },
            "type": "scatter"
           }
          ],
          "scatter3d": [
           {
            "line": {
             "colorbar": {
              "outlinewidth": 0,
              "ticks": ""
             }
            },
            "marker": {
             "colorbar": {
              "outlinewidth": 0,
              "ticks": ""
             }
            },
            "type": "scatter3d"
           }
          ],
          "scattercarpet": [
           {
            "marker": {
             "colorbar": {
              "outlinewidth": 0,
              "ticks": ""
             }
            },
            "type": "scattercarpet"
           }
          ],
          "scattergeo": [
           {
            "marker": {
             "colorbar": {
              "outlinewidth": 0,
              "ticks": ""
             }
            },
            "type": "scattergeo"
           }
          ],
          "scattergl": [
           {
            "marker": {
             "colorbar": {
              "outlinewidth": 0,
              "ticks": ""
             }
            },
            "type": "scattergl"
           }
          ],
          "scattermapbox": [
           {
            "marker": {
             "colorbar": {
              "outlinewidth": 0,
              "ticks": ""
             }
            },
            "type": "scattermapbox"
           }
          ],
          "scatterpolar": [
           {
            "marker": {
             "colorbar": {
              "outlinewidth": 0,
              "ticks": ""
             }
            },
            "type": "scatterpolar"
           }
          ],
          "scatterpolargl": [
           {
            "marker": {
             "colorbar": {
              "outlinewidth": 0,
              "ticks": ""
             }
            },
            "type": "scatterpolargl"
           }
          ],
          "scatterternary": [
           {
            "marker": {
             "colorbar": {
              "outlinewidth": 0,
              "ticks": ""
             }
            },
            "type": "scatterternary"
           }
          ],
          "surface": [
           {
            "colorbar": {
             "outlinewidth": 0,
             "ticks": ""
            },
            "colorscale": [
             [
              0,
              "#0d0887"
             ],
             [
              0.1111111111111111,
              "#46039f"
             ],
             [
              0.2222222222222222,
              "#7201a8"
             ],
             [
              0.3333333333333333,
              "#9c179e"
             ],
             [
              0.4444444444444444,
              "#bd3786"
             ],
             [
              0.5555555555555556,
              "#d8576b"
             ],
             [
              0.6666666666666666,
              "#ed7953"
             ],
             [
              0.7777777777777778,
              "#fb9f3a"
             ],
             [
              0.8888888888888888,
              "#fdca26"
             ],
             [
              1,
              "#f0f921"
             ]
            ],
            "type": "surface"
           }
          ],
          "table": [
           {
            "cells": {
             "fill": {
              "color": "#EBF0F8"
             },
             "line": {
              "color": "white"
             }
            },
            "header": {
             "fill": {
              "color": "#C8D4E3"
             },
             "line": {
              "color": "white"
             }
            },
            "type": "table"
           }
          ]
         },
         "layout": {
          "annotationdefaults": {
           "arrowcolor": "#2a3f5f",
           "arrowhead": 0,
           "arrowwidth": 1
          },
          "autotypenumbers": "strict",
          "coloraxis": {
           "colorbar": {
            "outlinewidth": 0,
            "ticks": ""
           }
          },
          "colorscale": {
           "diverging": [
            [
             0,
             "#8e0152"
            ],
            [
             0.1,
             "#c51b7d"
            ],
            [
             0.2,
             "#de77ae"
            ],
            [
             0.3,
             "#f1b6da"
            ],
            [
             0.4,
             "#fde0ef"
            ],
            [
             0.5,
             "#f7f7f7"
            ],
            [
             0.6,
             "#e6f5d0"
            ],
            [
             0.7,
             "#b8e186"
            ],
            [
             0.8,
             "#7fbc41"
            ],
            [
             0.9,
             "#4d9221"
            ],
            [
             1,
             "#276419"
            ]
           ],
           "sequential": [
            [
             0,
             "#0d0887"
            ],
            [
             0.1111111111111111,
             "#46039f"
            ],
            [
             0.2222222222222222,
             "#7201a8"
            ],
            [
             0.3333333333333333,
             "#9c179e"
            ],
            [
             0.4444444444444444,
             "#bd3786"
            ],
            [
             0.5555555555555556,
             "#d8576b"
            ],
            [
             0.6666666666666666,
             "#ed7953"
            ],
            [
             0.7777777777777778,
             "#fb9f3a"
            ],
            [
             0.8888888888888888,
             "#fdca26"
            ],
            [
             1,
             "#f0f921"
            ]
           ],
           "sequentialminus": [
            [
             0,
             "#0d0887"
            ],
            [
             0.1111111111111111,
             "#46039f"
            ],
            [
             0.2222222222222222,
             "#7201a8"
            ],
            [
             0.3333333333333333,
             "#9c179e"
            ],
            [
             0.4444444444444444,
             "#bd3786"
            ],
            [
             0.5555555555555556,
             "#d8576b"
            ],
            [
             0.6666666666666666,
             "#ed7953"
            ],
            [
             0.7777777777777778,
             "#fb9f3a"
            ],
            [
             0.8888888888888888,
             "#fdca26"
            ],
            [
             1,
             "#f0f921"
            ]
           ]
          },
          "colorway": [
           "#636efa",
           "#EF553B",
           "#00cc96",
           "#ab63fa",
           "#FFA15A",
           "#19d3f3",
           "#FF6692",
           "#B6E880",
           "#FF97FF",
           "#FECB52"
          ],
          "font": {
           "color": "#2a3f5f"
          },
          "geo": {
           "bgcolor": "white",
           "lakecolor": "white",
           "landcolor": "#E5ECF6",
           "showlakes": true,
           "showland": true,
           "subunitcolor": "white"
          },
          "hoverlabel": {
           "align": "left"
          },
          "hovermode": "closest",
          "mapbox": {
           "style": "light"
          },
          "paper_bgcolor": "white",
          "plot_bgcolor": "#E5ECF6",
          "polar": {
           "angularaxis": {
            "gridcolor": "white",
            "linecolor": "white",
            "ticks": ""
           },
           "bgcolor": "#E5ECF6",
           "radialaxis": {
            "gridcolor": "white",
            "linecolor": "white",
            "ticks": ""
           }
          },
          "scene": {
           "xaxis": {
            "backgroundcolor": "#E5ECF6",
            "gridcolor": "white",
            "gridwidth": 2,
            "linecolor": "white",
            "showbackground": true,
            "ticks": "",
            "zerolinecolor": "white"
           },
           "yaxis": {
            "backgroundcolor": "#E5ECF6",
            "gridcolor": "white",
            "gridwidth": 2,
            "linecolor": "white",
            "showbackground": true,
            "ticks": "",
            "zerolinecolor": "white"
           },
           "zaxis": {
            "backgroundcolor": "#E5ECF6",
            "gridcolor": "white",
            "gridwidth": 2,
            "linecolor": "white",
            "showbackground": true,
            "ticks": "",
            "zerolinecolor": "white"
           }
          },
          "shapedefaults": {
           "line": {
            "color": "#2a3f5f"
           }
          },
          "ternary": {
           "aaxis": {
            "gridcolor": "white",
            "linecolor": "white",
            "ticks": ""
           },
           "baxis": {
            "gridcolor": "white",
            "linecolor": "white",
            "ticks": ""
           },
           "bgcolor": "#E5ECF6",
           "caxis": {
            "gridcolor": "white",
            "linecolor": "white",
            "ticks": ""
           }
          },
          "title": {
           "x": 0.05
          },
          "xaxis": {
           "automargin": true,
           "gridcolor": "white",
           "linecolor": "white",
           "ticks": "",
           "title": {
            "standoff": 15
           },
           "zerolinecolor": "white",
           "zerolinewidth": 2
          },
          "yaxis": {
           "automargin": true,
           "gridcolor": "white",
           "linecolor": "white",
           "ticks": "",
           "title": {
            "standoff": 15
           },
           "zerolinecolor": "white",
           "zerolinewidth": 2
          }
         }
        },
        "title": {
         "text": "Группа В"
        },
        "xaxis": {
         "anchor": "y",
         "domain": [
          0,
          1
         ],
         "title": {
          "text": "Количество событий"
         }
        },
        "yaxis": {
         "anchor": "x",
         "domain": [
          0,
          1
         ],
         "title": {
          "text": "События"
         }
        }
       }
      },
      "text/html": [
       "<div>                            <div id=\"116bddaa-48a8-459b-8891-de71a0272836\" class=\"plotly-graph-div\" style=\"height:400px; width:100%;\"></div>            <script type=\"text/javascript\">                require([\"plotly\"], function(Plotly) {                    window.PLOTLYENV=window.PLOTLYENV || {};                                    if (document.getElementById(\"116bddaa-48a8-459b-8891-de71a0272836\")) {                    Plotly.newPlot(                        \"116bddaa-48a8-459b-8891-de71a0272836\",                        [{\"alignmentgroup\":\"True\",\"hovertemplate\":\"day=Friday<br>count_event=%{x}<br>event_name=%{y}<extra></extra>\",\"legendgroup\":\"Friday\",\"marker\":{\"color\":\"#636efa\",\"pattern\":{\"shape\":\"\"}},\"name\":\"Friday\",\"offsetgroup\":\"Friday\",\"orientation\":\"h\",\"showlegend\":true,\"textposition\":\"auto\",\"x\":[133,34,60,22],\"xaxis\":\"x\",\"y\":[\"login\",\"product_cart\",\"product_page\",\"purchase\"],\"yaxis\":\"y\",\"type\":\"bar\"},{\"alignmentgroup\":\"True\",\"hovertemplate\":\"day=Monday<br>count_event=%{x}<br>event_name=%{y}<extra></extra>\",\"legendgroup\":\"Monday\",\"marker\":{\"color\":\"#EF553B\",\"pattern\":{\"shape\":\"\"}},\"name\":\"Monday\",\"offsetgroup\":\"Monday\",\"orientation\":\"h\",\"showlegend\":true,\"textposition\":\"auto\",\"x\":[782,227,463,232],\"xaxis\":\"x\",\"y\":[\"login\",\"product_cart\",\"product_page\",\"purchase\"],\"yaxis\":\"y\",\"type\":\"bar\"},{\"alignmentgroup\":\"True\",\"hovertemplate\":\"day=Saturday<br>count_event=%{x}<br>event_name=%{y}<extra></extra>\",\"legendgroup\":\"Saturday\",\"marker\":{\"color\":\"#00cc96\",\"pattern\":{\"shape\":\"\"}},\"name\":\"Saturday\",\"offsetgroup\":\"Saturday\",\"orientation\":\"h\",\"showlegend\":true,\"textposition\":\"auto\",\"x\":[217,42,105,45],\"xaxis\":\"x\",\"y\":[\"login\",\"product_cart\",\"product_page\",\"purchase\"],\"yaxis\":\"y\",\"type\":\"bar\"},{\"alignmentgroup\":\"True\",\"hovertemplate\":\"day=Sunday<br>count_event=%{x}<br>event_name=%{y}<extra></extra>\",\"legendgroup\":\"Sunday\",\"marker\":{\"color\":\"#ab63fa\",\"pattern\":{\"shape\":\"\"}},\"name\":\"Sunday\",\"offsetgroup\":\"Sunday\",\"orientation\":\"h\",\"showlegend\":true,\"textposition\":\"auto\",\"x\":[115,21,61,33],\"xaxis\":\"x\",\"y\":[\"login\",\"product_cart\",\"product_page\",\"purchase\"],\"yaxis\":\"y\",\"type\":\"bar\"},{\"alignmentgroup\":\"True\",\"hovertemplate\":\"day=Thursday<br>count_event=%{x}<br>event_name=%{y}<extra></extra>\",\"legendgroup\":\"Thursday\",\"marker\":{\"color\":\"#FFA15A\",\"pattern\":{\"shape\":\"\"}},\"name\":\"Thursday\",\"offsetgroup\":\"Thursday\",\"orientation\":\"h\",\"showlegend\":true,\"textposition\":\"auto\",\"x\":[155,47,62,36],\"xaxis\":\"x\",\"y\":[\"login\",\"product_cart\",\"product_page\",\"purchase\"],\"yaxis\":\"y\",\"type\":\"bar\"},{\"alignmentgroup\":\"True\",\"hovertemplate\":\"day=Tuesday<br>count_event=%{x}<br>event_name=%{y}<extra></extra>\",\"legendgroup\":\"Tuesday\",\"marker\":{\"color\":\"#19d3f3\",\"pattern\":{\"shape\":\"\"}},\"name\":\"Tuesday\",\"offsetgroup\":\"Tuesday\",\"orientation\":\"h\",\"showlegend\":true,\"textposition\":\"auto\",\"x\":[191,45,84,51],\"xaxis\":\"x\",\"y\":[\"login\",\"product_cart\",\"product_page\",\"purchase\"],\"yaxis\":\"y\",\"type\":\"bar\"},{\"alignmentgroup\":\"True\",\"hovertemplate\":\"day=Wednesday<br>count_event=%{x}<br>event_name=%{y}<extra></extra>\",\"legendgroup\":\"Wednesday\",\"marker\":{\"color\":\"#FF6692\",\"pattern\":{\"shape\":\"\"}},\"name\":\"Wednesday\",\"offsetgroup\":\"Wednesday\",\"orientation\":\"h\",\"showlegend\":true,\"textposition\":\"auto\",\"x\":[467,151,287,118],\"xaxis\":\"x\",\"y\":[\"login\",\"product_cart\",\"product_page\",\"purchase\"],\"yaxis\":\"y\",\"type\":\"bar\"}],                        {\"template\":{\"data\":{\"bar\":[{\"error_x\":{\"color\":\"#2a3f5f\"},\"error_y\":{\"color\":\"#2a3f5f\"},\"marker\":{\"line\":{\"color\":\"#E5ECF6\",\"width\":0.5},\"pattern\":{\"fillmode\":\"overlay\",\"size\":10,\"solidity\":0.2}},\"type\":\"bar\"}],\"barpolar\":[{\"marker\":{\"line\":{\"color\":\"#E5ECF6\",\"width\":0.5},\"pattern\":{\"fillmode\":\"overlay\",\"size\":10,\"solidity\":0.2}},\"type\":\"barpolar\"}],\"carpet\":[{\"aaxis\":{\"endlinecolor\":\"#2a3f5f\",\"gridcolor\":\"white\",\"linecolor\":\"white\",\"minorgridcolor\":\"white\",\"startlinecolor\":\"#2a3f5f\"},\"baxis\":{\"endlinecolor\":\"#2a3f5f\",\"gridcolor\":\"white\",\"linecolor\":\"white\",\"minorgridcolor\":\"white\",\"startlinecolor\":\"#2a3f5f\"},\"type\":\"carpet\"}],\"choropleth\":[{\"colorbar\":{\"outlinewidth\":0,\"ticks\":\"\"},\"type\":\"choropleth\"}],\"contour\":[{\"colorbar\":{\"outlinewidth\":0,\"ticks\":\"\"},\"colorscale\":[[0.0,\"#0d0887\"],[0.1111111111111111,\"#46039f\"],[0.2222222222222222,\"#7201a8\"],[0.3333333333333333,\"#9c179e\"],[0.4444444444444444,\"#bd3786\"],[0.5555555555555556,\"#d8576b\"],[0.6666666666666666,\"#ed7953\"],[0.7777777777777778,\"#fb9f3a\"],[0.8888888888888888,\"#fdca26\"],[1.0,\"#f0f921\"]],\"type\":\"contour\"}],\"contourcarpet\":[{\"colorbar\":{\"outlinewidth\":0,\"ticks\":\"\"},\"type\":\"contourcarpet\"}],\"heatmap\":[{\"colorbar\":{\"outlinewidth\":0,\"ticks\":\"\"},\"colorscale\":[[0.0,\"#0d0887\"],[0.1111111111111111,\"#46039f\"],[0.2222222222222222,\"#7201a8\"],[0.3333333333333333,\"#9c179e\"],[0.4444444444444444,\"#bd3786\"],[0.5555555555555556,\"#d8576b\"],[0.6666666666666666,\"#ed7953\"],[0.7777777777777778,\"#fb9f3a\"],[0.8888888888888888,\"#fdca26\"],[1.0,\"#f0f921\"]],\"type\":\"heatmap\"}],\"heatmapgl\":[{\"colorbar\":{\"outlinewidth\":0,\"ticks\":\"\"},\"colorscale\":[[0.0,\"#0d0887\"],[0.1111111111111111,\"#46039f\"],[0.2222222222222222,\"#7201a8\"],[0.3333333333333333,\"#9c179e\"],[0.4444444444444444,\"#bd3786\"],[0.5555555555555556,\"#d8576b\"],[0.6666666666666666,\"#ed7953\"],[0.7777777777777778,\"#fb9f3a\"],[0.8888888888888888,\"#fdca26\"],[1.0,\"#f0f921\"]],\"type\":\"heatmapgl\"}],\"histogram\":[{\"marker\":{\"pattern\":{\"fillmode\":\"overlay\",\"size\":10,\"solidity\":0.2}},\"type\":\"histogram\"}],\"histogram2d\":[{\"colorbar\":{\"outlinewidth\":0,\"ticks\":\"\"},\"colorscale\":[[0.0,\"#0d0887\"],[0.1111111111111111,\"#46039f\"],[0.2222222222222222,\"#7201a8\"],[0.3333333333333333,\"#9c179e\"],[0.4444444444444444,\"#bd3786\"],[0.5555555555555556,\"#d8576b\"],[0.6666666666666666,\"#ed7953\"],[0.7777777777777778,\"#fb9f3a\"],[0.8888888888888888,\"#fdca26\"],[1.0,\"#f0f921\"]],\"type\":\"histogram2d\"}],\"histogram2dcontour\":[{\"colorbar\":{\"outlinewidth\":0,\"ticks\":\"\"},\"colorscale\":[[0.0,\"#0d0887\"],[0.1111111111111111,\"#46039f\"],[0.2222222222222222,\"#7201a8\"],[0.3333333333333333,\"#9c179e\"],[0.4444444444444444,\"#bd3786\"],[0.5555555555555556,\"#d8576b\"],[0.6666666666666666,\"#ed7953\"],[0.7777777777777778,\"#fb9f3a\"],[0.8888888888888888,\"#fdca26\"],[1.0,\"#f0f921\"]],\"type\":\"histogram2dcontour\"}],\"mesh3d\":[{\"colorbar\":{\"outlinewidth\":0,\"ticks\":\"\"},\"type\":\"mesh3d\"}],\"parcoords\":[{\"line\":{\"colorbar\":{\"outlinewidth\":0,\"ticks\":\"\"}},\"type\":\"parcoords\"}],\"pie\":[{\"automargin\":true,\"type\":\"pie\"}],\"scatter\":[{\"marker\":{\"colorbar\":{\"outlinewidth\":0,\"ticks\":\"\"}},\"type\":\"scatter\"}],\"scatter3d\":[{\"line\":{\"colorbar\":{\"outlinewidth\":0,\"ticks\":\"\"}},\"marker\":{\"colorbar\":{\"outlinewidth\":0,\"ticks\":\"\"}},\"type\":\"scatter3d\"}],\"scattercarpet\":[{\"marker\":{\"colorbar\":{\"outlinewidth\":0,\"ticks\":\"\"}},\"type\":\"scattercarpet\"}],\"scattergeo\":[{\"marker\":{\"colorbar\":{\"outlinewidth\":0,\"ticks\":\"\"}},\"type\":\"scattergeo\"}],\"scattergl\":[{\"marker\":{\"colorbar\":{\"outlinewidth\":0,\"ticks\":\"\"}},\"type\":\"scattergl\"}],\"scattermapbox\":[{\"marker\":{\"colorbar\":{\"outlinewidth\":0,\"ticks\":\"\"}},\"type\":\"scattermapbox\"}],\"scatterpolar\":[{\"marker\":{\"colorbar\":{\"outlinewidth\":0,\"ticks\":\"\"}},\"type\":\"scatterpolar\"}],\"scatterpolargl\":[{\"marker\":{\"colorbar\":{\"outlinewidth\":0,\"ticks\":\"\"}},\"type\":\"scatterpolargl\"}],\"scatterternary\":[{\"marker\":{\"colorbar\":{\"outlinewidth\":0,\"ticks\":\"\"}},\"type\":\"scatterternary\"}],\"surface\":[{\"colorbar\":{\"outlinewidth\":0,\"ticks\":\"\"},\"colorscale\":[[0.0,\"#0d0887\"],[0.1111111111111111,\"#46039f\"],[0.2222222222222222,\"#7201a8\"],[0.3333333333333333,\"#9c179e\"],[0.4444444444444444,\"#bd3786\"],[0.5555555555555556,\"#d8576b\"],[0.6666666666666666,\"#ed7953\"],[0.7777777777777778,\"#fb9f3a\"],[0.8888888888888888,\"#fdca26\"],[1.0,\"#f0f921\"]],\"type\":\"surface\"}],\"table\":[{\"cells\":{\"fill\":{\"color\":\"#EBF0F8\"},\"line\":{\"color\":\"white\"}},\"header\":{\"fill\":{\"color\":\"#C8D4E3\"},\"line\":{\"color\":\"white\"}},\"type\":\"table\"}]},\"layout\":{\"annotationdefaults\":{\"arrowcolor\":\"#2a3f5f\",\"arrowhead\":0,\"arrowwidth\":1},\"autotypenumbers\":\"strict\",\"coloraxis\":{\"colorbar\":{\"outlinewidth\":0,\"ticks\":\"\"}},\"colorscale\":{\"diverging\":[[0,\"#8e0152\"],[0.1,\"#c51b7d\"],[0.2,\"#de77ae\"],[0.3,\"#f1b6da\"],[0.4,\"#fde0ef\"],[0.5,\"#f7f7f7\"],[0.6,\"#e6f5d0\"],[0.7,\"#b8e186\"],[0.8,\"#7fbc41\"],[0.9,\"#4d9221\"],[1,\"#276419\"]],\"sequential\":[[0.0,\"#0d0887\"],[0.1111111111111111,\"#46039f\"],[0.2222222222222222,\"#7201a8\"],[0.3333333333333333,\"#9c179e\"],[0.4444444444444444,\"#bd3786\"],[0.5555555555555556,\"#d8576b\"],[0.6666666666666666,\"#ed7953\"],[0.7777777777777778,\"#fb9f3a\"],[0.8888888888888888,\"#fdca26\"],[1.0,\"#f0f921\"]],\"sequentialminus\":[[0.0,\"#0d0887\"],[0.1111111111111111,\"#46039f\"],[0.2222222222222222,\"#7201a8\"],[0.3333333333333333,\"#9c179e\"],[0.4444444444444444,\"#bd3786\"],[0.5555555555555556,\"#d8576b\"],[0.6666666666666666,\"#ed7953\"],[0.7777777777777778,\"#fb9f3a\"],[0.8888888888888888,\"#fdca26\"],[1.0,\"#f0f921\"]]},\"colorway\":[\"#636efa\",\"#EF553B\",\"#00cc96\",\"#ab63fa\",\"#FFA15A\",\"#19d3f3\",\"#FF6692\",\"#B6E880\",\"#FF97FF\",\"#FECB52\"],\"font\":{\"color\":\"#2a3f5f\"},\"geo\":{\"bgcolor\":\"white\",\"lakecolor\":\"white\",\"landcolor\":\"#E5ECF6\",\"showlakes\":true,\"showland\":true,\"subunitcolor\":\"white\"},\"hoverlabel\":{\"align\":\"left\"},\"hovermode\":\"closest\",\"mapbox\":{\"style\":\"light\"},\"paper_bgcolor\":\"white\",\"plot_bgcolor\":\"#E5ECF6\",\"polar\":{\"angularaxis\":{\"gridcolor\":\"white\",\"linecolor\":\"white\",\"ticks\":\"\"},\"bgcolor\":\"#E5ECF6\",\"radialaxis\":{\"gridcolor\":\"white\",\"linecolor\":\"white\",\"ticks\":\"\"}},\"scene\":{\"xaxis\":{\"backgroundcolor\":\"#E5ECF6\",\"gridcolor\":\"white\",\"gridwidth\":2,\"linecolor\":\"white\",\"showbackground\":true,\"ticks\":\"\",\"zerolinecolor\":\"white\"},\"yaxis\":{\"backgroundcolor\":\"#E5ECF6\",\"gridcolor\":\"white\",\"gridwidth\":2,\"linecolor\":\"white\",\"showbackground\":true,\"ticks\":\"\",\"zerolinecolor\":\"white\"},\"zaxis\":{\"backgroundcolor\":\"#E5ECF6\",\"gridcolor\":\"white\",\"gridwidth\":2,\"linecolor\":\"white\",\"showbackground\":true,\"ticks\":\"\",\"zerolinecolor\":\"white\"}},\"shapedefaults\":{\"line\":{\"color\":\"#2a3f5f\"}},\"ternary\":{\"aaxis\":{\"gridcolor\":\"white\",\"linecolor\":\"white\",\"ticks\":\"\"},\"baxis\":{\"gridcolor\":\"white\",\"linecolor\":\"white\",\"ticks\":\"\"},\"bgcolor\":\"#E5ECF6\",\"caxis\":{\"gridcolor\":\"white\",\"linecolor\":\"white\",\"ticks\":\"\"}},\"title\":{\"x\":0.05},\"xaxis\":{\"automargin\":true,\"gridcolor\":\"white\",\"linecolor\":\"white\",\"ticks\":\"\",\"title\":{\"standoff\":15},\"zerolinecolor\":\"white\",\"zerolinewidth\":2},\"yaxis\":{\"automargin\":true,\"gridcolor\":\"white\",\"linecolor\":\"white\",\"ticks\":\"\",\"title\":{\"standoff\":15},\"zerolinecolor\":\"white\",\"zerolinewidth\":2}}},\"xaxis\":{\"anchor\":\"y\",\"domain\":[0.0,1.0],\"title\":{\"text\":\"\\u041a\\u043e\\u043b\\u0438\\u0447\\u0435\\u0441\\u0442\\u0432\\u043e \\u0441\\u043e\\u0431\\u044b\\u0442\\u0438\\u0439\"}},\"yaxis\":{\"anchor\":\"x\",\"domain\":[0.0,1.0],\"title\":{\"text\":\"\\u0421\\u043e\\u0431\\u044b\\u0442\\u0438\\u044f\"}},\"legend\":{\"title\":{\"text\":\"day\"},\"tracegroupgap\":0},\"title\":{\"text\":\"\\u0413\\u0440\\u0443\\u043f\\u043f\\u0430 \\u0412\"},\"barmode\":\"relative\",\"height\":400},                        {\"responsive\": true}                    ).then(function(){\n",
       "                            \n",
       "var gd = document.getElementById('116bddaa-48a8-459b-8891-de71a0272836');\n",
       "var x = new MutationObserver(function (mutations, observer) {{\n",
       "        var display = window.getComputedStyle(gd).display;\n",
       "        if (!display || display === 'none') {{\n",
       "            console.log([gd, 'removed!']);\n",
       "            Plotly.purge(gd);\n",
       "            observer.disconnect();\n",
       "        }}\n",
       "}});\n",
       "\n",
       "// Listen for the removal of the full notebook cells\n",
       "var notebookContainer = gd.closest('#notebook-container');\n",
       "if (notebookContainer) {{\n",
       "    x.observe(notebookContainer, {childList: true});\n",
       "}}\n",
       "\n",
       "// Listen for the clearing of the current output cell\n",
       "var outputEl = gd.closest('.output');\n",
       "if (outputEl) {{\n",
       "    x.observe(outputEl, {childList: true});\n",
       "}}\n",
       "\n",
       "                        })                };                });            </script>        </div>"
      ]
     },
     "metadata": {},
     "output_type": "display_data"
    },
    {
     "data": {
      "application/vnd.plotly.v1+json": {
       "config": {
        "plotlyServerURL": "https://plot.ly"
       },
       "data": [
        {
         "alignmentgroup": "True",
         "hovertemplate": "day=Friday<br>count_event=%{x}<br>event_name=%{y}<extra></extra>",
         "legendgroup": "Friday",
         "marker": {
          "color": "#636efa",
          "pattern": {
           "shape": ""
          }
         },
         "name": "Friday",
         "offsetgroup": "Friday",
         "orientation": "h",
         "showlegend": true,
         "textposition": "auto",
         "type": "bar",
         "x": [
          732,
          252,
          466,
          188
         ],
         "xaxis": "x",
         "y": [
          "login",
          "product_cart",
          "product_page",
          "purchase"
         ],
         "yaxis": "y"
        },
        {
         "alignmentgroup": "True",
         "hovertemplate": "day=Monday<br>count_event=%{x}<br>event_name=%{y}<extra></extra>",
         "legendgroup": "Monday",
         "marker": {
          "color": "#EF553B",
          "pattern": {
           "shape": ""
          }
         },
         "name": "Monday",
         "offsetgroup": "Monday",
         "orientation": "h",
         "showlegend": true,
         "textposition": "auto",
         "type": "bar",
         "x": [
          1953,
          551,
          1283,
          619
         ],
         "xaxis": "x",
         "y": [
          "login",
          "product_cart",
          "product_page",
          "purchase"
         ],
         "yaxis": "y"
        },
        {
         "alignmentgroup": "True",
         "hovertemplate": "day=Saturday<br>count_event=%{x}<br>event_name=%{y}<extra></extra>",
         "legendgroup": "Saturday",
         "marker": {
          "color": "#00cc96",
          "pattern": {
           "shape": ""
          }
         },
         "name": "Saturday",
         "offsetgroup": "Saturday",
         "orientation": "h",
         "showlegend": true,
         "textposition": "auto",
         "type": "bar",
         "x": [
          582,
          154,
          352,
          166
         ],
         "xaxis": "x",
         "y": [
          "login",
          "product_cart",
          "product_page",
          "purchase"
         ],
         "yaxis": "y"
        },
        {
         "alignmentgroup": "True",
         "hovertemplate": "day=Sunday<br>count_event=%{x}<br>event_name=%{y}<extra></extra>",
         "legendgroup": "Sunday",
         "marker": {
          "color": "#ab63fa",
          "pattern": {
           "shape": ""
          }
         },
         "name": "Sunday",
         "offsetgroup": "Sunday",
         "orientation": "h",
         "showlegend": true,
         "textposition": "auto",
         "type": "bar",
         "x": [
          537,
          131,
          337,
          168
         ],
         "xaxis": "x",
         "y": [
          "login",
          "product_cart",
          "product_page",
          "purchase"
         ],
         "yaxis": "y"
        },
        {
         "alignmentgroup": "True",
         "hovertemplate": "day=Thursday<br>count_event=%{x}<br>event_name=%{y}<extra></extra>",
         "legendgroup": "Thursday",
         "marker": {
          "color": "#FFA15A",
          "pattern": {
           "shape": ""
          }
         },
         "name": "Thursday",
         "offsetgroup": "Thursday",
         "orientation": "h",
         "showlegend": true,
         "textposition": "auto",
         "type": "bar",
         "x": [
          636,
          201,
          401,
          210
         ],
         "xaxis": "x",
         "y": [
          "login",
          "product_cart",
          "product_page",
          "purchase"
         ],
         "yaxis": "y"
        },
        {
         "alignmentgroup": "True",
         "hovertemplate": "day=Tuesday<br>count_event=%{x}<br>event_name=%{y}<extra></extra>",
         "legendgroup": "Tuesday",
         "marker": {
          "color": "#19d3f3",
          "pattern": {
           "shape": ""
          }
         },
         "name": "Tuesday",
         "offsetgroup": "Tuesday",
         "orientation": "h",
         "showlegend": true,
         "textposition": "auto",
         "type": "bar",
         "x": [
          827,
          279,
          540,
          248
         ],
         "xaxis": "x",
         "y": [
          "login",
          "product_cart",
          "product_page",
          "purchase"
         ],
         "yaxis": "y"
        },
        {
         "alignmentgroup": "True",
         "hovertemplate": "day=Wednesday<br>count_event=%{x}<br>event_name=%{y}<extra></extra>",
         "legendgroup": "Wednesday",
         "marker": {
          "color": "#FF6692",
          "pattern": {
           "shape": ""
          }
         },
         "name": "Wednesday",
         "offsetgroup": "Wednesday",
         "orientation": "h",
         "showlegend": true,
         "textposition": "auto",
         "type": "bar",
         "x": [
          655,
          210,
          403,
          212
         ],
         "xaxis": "x",
         "y": [
          "login",
          "product_cart",
          "product_page",
          "purchase"
         ],
         "yaxis": "y"
        }
       ],
       "layout": {
        "barmode": "relative",
        "height": 400,
        "legend": {
         "title": {
          "text": "day"
         },
         "tracegroupgap": 0
        },
        "template": {
         "data": {
          "bar": [
           {
            "error_x": {
             "color": "#2a3f5f"
            },
            "error_y": {
             "color": "#2a3f5f"
            },
            "marker": {
             "line": {
              "color": "#E5ECF6",
              "width": 0.5
             },
             "pattern": {
              "fillmode": "overlay",
              "size": 10,
              "solidity": 0.2
             }
            },
            "type": "bar"
           }
          ],
          "barpolar": [
           {
            "marker": {
             "line": {
              "color": "#E5ECF6",
              "width": 0.5
             },
             "pattern": {
              "fillmode": "overlay",
              "size": 10,
              "solidity": 0.2
             }
            },
            "type": "barpolar"
           }
          ],
          "carpet": [
           {
            "aaxis": {
             "endlinecolor": "#2a3f5f",
             "gridcolor": "white",
             "linecolor": "white",
             "minorgridcolor": "white",
             "startlinecolor": "#2a3f5f"
            },
            "baxis": {
             "endlinecolor": "#2a3f5f",
             "gridcolor": "white",
             "linecolor": "white",
             "minorgridcolor": "white",
             "startlinecolor": "#2a3f5f"
            },
            "type": "carpet"
           }
          ],
          "choropleth": [
           {
            "colorbar": {
             "outlinewidth": 0,
             "ticks": ""
            },
            "type": "choropleth"
           }
          ],
          "contour": [
           {
            "colorbar": {
             "outlinewidth": 0,
             "ticks": ""
            },
            "colorscale": [
             [
              0,
              "#0d0887"
             ],
             [
              0.1111111111111111,
              "#46039f"
             ],
             [
              0.2222222222222222,
              "#7201a8"
             ],
             [
              0.3333333333333333,
              "#9c179e"
             ],
             [
              0.4444444444444444,
              "#bd3786"
             ],
             [
              0.5555555555555556,
              "#d8576b"
             ],
             [
              0.6666666666666666,
              "#ed7953"
             ],
             [
              0.7777777777777778,
              "#fb9f3a"
             ],
             [
              0.8888888888888888,
              "#fdca26"
             ],
             [
              1,
              "#f0f921"
             ]
            ],
            "type": "contour"
           }
          ],
          "contourcarpet": [
           {
            "colorbar": {
             "outlinewidth": 0,
             "ticks": ""
            },
            "type": "contourcarpet"
           }
          ],
          "heatmap": [
           {
            "colorbar": {
             "outlinewidth": 0,
             "ticks": ""
            },
            "colorscale": [
             [
              0,
              "#0d0887"
             ],
             [
              0.1111111111111111,
              "#46039f"
             ],
             [
              0.2222222222222222,
              "#7201a8"
             ],
             [
              0.3333333333333333,
              "#9c179e"
             ],
             [
              0.4444444444444444,
              "#bd3786"
             ],
             [
              0.5555555555555556,
              "#d8576b"
             ],
             [
              0.6666666666666666,
              "#ed7953"
             ],
             [
              0.7777777777777778,
              "#fb9f3a"
             ],
             [
              0.8888888888888888,
              "#fdca26"
             ],
             [
              1,
              "#f0f921"
             ]
            ],
            "type": "heatmap"
           }
          ],
          "heatmapgl": [
           {
            "colorbar": {
             "outlinewidth": 0,
             "ticks": ""
            },
            "colorscale": [
             [
              0,
              "#0d0887"
             ],
             [
              0.1111111111111111,
              "#46039f"
             ],
             [
              0.2222222222222222,
              "#7201a8"
             ],
             [
              0.3333333333333333,
              "#9c179e"
             ],
             [
              0.4444444444444444,
              "#bd3786"
             ],
             [
              0.5555555555555556,
              "#d8576b"
             ],
             [
              0.6666666666666666,
              "#ed7953"
             ],
             [
              0.7777777777777778,
              "#fb9f3a"
             ],
             [
              0.8888888888888888,
              "#fdca26"
             ],
             [
              1,
              "#f0f921"
             ]
            ],
            "type": "heatmapgl"
           }
          ],
          "histogram": [
           {
            "marker": {
             "pattern": {
              "fillmode": "overlay",
              "size": 10,
              "solidity": 0.2
             }
            },
            "type": "histogram"
           }
          ],
          "histogram2d": [
           {
            "colorbar": {
             "outlinewidth": 0,
             "ticks": ""
            },
            "colorscale": [
             [
              0,
              "#0d0887"
             ],
             [
              0.1111111111111111,
              "#46039f"
             ],
             [
              0.2222222222222222,
              "#7201a8"
             ],
             [
              0.3333333333333333,
              "#9c179e"
             ],
             [
              0.4444444444444444,
              "#bd3786"
             ],
             [
              0.5555555555555556,
              "#d8576b"
             ],
             [
              0.6666666666666666,
              "#ed7953"
             ],
             [
              0.7777777777777778,
              "#fb9f3a"
             ],
             [
              0.8888888888888888,
              "#fdca26"
             ],
             [
              1,
              "#f0f921"
             ]
            ],
            "type": "histogram2d"
           }
          ],
          "histogram2dcontour": [
           {
            "colorbar": {
             "outlinewidth": 0,
             "ticks": ""
            },
            "colorscale": [
             [
              0,
              "#0d0887"
             ],
             [
              0.1111111111111111,
              "#46039f"
             ],
             [
              0.2222222222222222,
              "#7201a8"
             ],
             [
              0.3333333333333333,
              "#9c179e"
             ],
             [
              0.4444444444444444,
              "#bd3786"
             ],
             [
              0.5555555555555556,
              "#d8576b"
             ],
             [
              0.6666666666666666,
              "#ed7953"
             ],
             [
              0.7777777777777778,
              "#fb9f3a"
             ],
             [
              0.8888888888888888,
              "#fdca26"
             ],
             [
              1,
              "#f0f921"
             ]
            ],
            "type": "histogram2dcontour"
           }
          ],
          "mesh3d": [
           {
            "colorbar": {
             "outlinewidth": 0,
             "ticks": ""
            },
            "type": "mesh3d"
           }
          ],
          "parcoords": [
           {
            "line": {
             "colorbar": {
              "outlinewidth": 0,
              "ticks": ""
             }
            },
            "type": "parcoords"
           }
          ],
          "pie": [
           {
            "automargin": true,
            "type": "pie"
           }
          ],
          "scatter": [
           {
            "marker": {
             "colorbar": {
              "outlinewidth": 0,
              "ticks": ""
             }
            },
            "type": "scatter"
           }
          ],
          "scatter3d": [
           {
            "line": {
             "colorbar": {
              "outlinewidth": 0,
              "ticks": ""
             }
            },
            "marker": {
             "colorbar": {
              "outlinewidth": 0,
              "ticks": ""
             }
            },
            "type": "scatter3d"
           }
          ],
          "scattercarpet": [
           {
            "marker": {
             "colorbar": {
              "outlinewidth": 0,
              "ticks": ""
             }
            },
            "type": "scattercarpet"
           }
          ],
          "scattergeo": [
           {
            "marker": {
             "colorbar": {
              "outlinewidth": 0,
              "ticks": ""
             }
            },
            "type": "scattergeo"
           }
          ],
          "scattergl": [
           {
            "marker": {
             "colorbar": {
              "outlinewidth": 0,
              "ticks": ""
             }
            },
            "type": "scattergl"
           }
          ],
          "scattermapbox": [
           {
            "marker": {
             "colorbar": {
              "outlinewidth": 0,
              "ticks": ""
             }
            },
            "type": "scattermapbox"
           }
          ],
          "scatterpolar": [
           {
            "marker": {
             "colorbar": {
              "outlinewidth": 0,
              "ticks": ""
             }
            },
            "type": "scatterpolar"
           }
          ],
          "scatterpolargl": [
           {
            "marker": {
             "colorbar": {
              "outlinewidth": 0,
              "ticks": ""
             }
            },
            "type": "scatterpolargl"
           }
          ],
          "scatterternary": [
           {
            "marker": {
             "colorbar": {
              "outlinewidth": 0,
              "ticks": ""
             }
            },
            "type": "scatterternary"
           }
          ],
          "surface": [
           {
            "colorbar": {
             "outlinewidth": 0,
             "ticks": ""
            },
            "colorscale": [
             [
              0,
              "#0d0887"
             ],
             [
              0.1111111111111111,
              "#46039f"
             ],
             [
              0.2222222222222222,
              "#7201a8"
             ],
             [
              0.3333333333333333,
              "#9c179e"
             ],
             [
              0.4444444444444444,
              "#bd3786"
             ],
             [
              0.5555555555555556,
              "#d8576b"
             ],
             [
              0.6666666666666666,
              "#ed7953"
             ],
             [
              0.7777777777777778,
              "#fb9f3a"
             ],
             [
              0.8888888888888888,
              "#fdca26"
             ],
             [
              1,
              "#f0f921"
             ]
            ],
            "type": "surface"
           }
          ],
          "table": [
           {
            "cells": {
             "fill": {
              "color": "#EBF0F8"
             },
             "line": {
              "color": "white"
             }
            },
            "header": {
             "fill": {
              "color": "#C8D4E3"
             },
             "line": {
              "color": "white"
             }
            },
            "type": "table"
           }
          ]
         },
         "layout": {
          "annotationdefaults": {
           "arrowcolor": "#2a3f5f",
           "arrowhead": 0,
           "arrowwidth": 1
          },
          "autotypenumbers": "strict",
          "coloraxis": {
           "colorbar": {
            "outlinewidth": 0,
            "ticks": ""
           }
          },
          "colorscale": {
           "diverging": [
            [
             0,
             "#8e0152"
            ],
            [
             0.1,
             "#c51b7d"
            ],
            [
             0.2,
             "#de77ae"
            ],
            [
             0.3,
             "#f1b6da"
            ],
            [
             0.4,
             "#fde0ef"
            ],
            [
             0.5,
             "#f7f7f7"
            ],
            [
             0.6,
             "#e6f5d0"
            ],
            [
             0.7,
             "#b8e186"
            ],
            [
             0.8,
             "#7fbc41"
            ],
            [
             0.9,
             "#4d9221"
            ],
            [
             1,
             "#276419"
            ]
           ],
           "sequential": [
            [
             0,
             "#0d0887"
            ],
            [
             0.1111111111111111,
             "#46039f"
            ],
            [
             0.2222222222222222,
             "#7201a8"
            ],
            [
             0.3333333333333333,
             "#9c179e"
            ],
            [
             0.4444444444444444,
             "#bd3786"
            ],
            [
             0.5555555555555556,
             "#d8576b"
            ],
            [
             0.6666666666666666,
             "#ed7953"
            ],
            [
             0.7777777777777778,
             "#fb9f3a"
            ],
            [
             0.8888888888888888,
             "#fdca26"
            ],
            [
             1,
             "#f0f921"
            ]
           ],
           "sequentialminus": [
            [
             0,
             "#0d0887"
            ],
            [
             0.1111111111111111,
             "#46039f"
            ],
            [
             0.2222222222222222,
             "#7201a8"
            ],
            [
             0.3333333333333333,
             "#9c179e"
            ],
            [
             0.4444444444444444,
             "#bd3786"
            ],
            [
             0.5555555555555556,
             "#d8576b"
            ],
            [
             0.6666666666666666,
             "#ed7953"
            ],
            [
             0.7777777777777778,
             "#fb9f3a"
            ],
            [
             0.8888888888888888,
             "#fdca26"
            ],
            [
             1,
             "#f0f921"
            ]
           ]
          },
          "colorway": [
           "#636efa",
           "#EF553B",
           "#00cc96",
           "#ab63fa",
           "#FFA15A",
           "#19d3f3",
           "#FF6692",
           "#B6E880",
           "#FF97FF",
           "#FECB52"
          ],
          "font": {
           "color": "#2a3f5f"
          },
          "geo": {
           "bgcolor": "white",
           "lakecolor": "white",
           "landcolor": "#E5ECF6",
           "showlakes": true,
           "showland": true,
           "subunitcolor": "white"
          },
          "hoverlabel": {
           "align": "left"
          },
          "hovermode": "closest",
          "mapbox": {
           "style": "light"
          },
          "paper_bgcolor": "white",
          "plot_bgcolor": "#E5ECF6",
          "polar": {
           "angularaxis": {
            "gridcolor": "white",
            "linecolor": "white",
            "ticks": ""
           },
           "bgcolor": "#E5ECF6",
           "radialaxis": {
            "gridcolor": "white",
            "linecolor": "white",
            "ticks": ""
           }
          },
          "scene": {
           "xaxis": {
            "backgroundcolor": "#E5ECF6",
            "gridcolor": "white",
            "gridwidth": 2,
            "linecolor": "white",
            "showbackground": true,
            "ticks": "",
            "zerolinecolor": "white"
           },
           "yaxis": {
            "backgroundcolor": "#E5ECF6",
            "gridcolor": "white",
            "gridwidth": 2,
            "linecolor": "white",
            "showbackground": true,
            "ticks": "",
            "zerolinecolor": "white"
           },
           "zaxis": {
            "backgroundcolor": "#E5ECF6",
            "gridcolor": "white",
            "gridwidth": 2,
            "linecolor": "white",
            "showbackground": true,
            "ticks": "",
            "zerolinecolor": "white"
           }
          },
          "shapedefaults": {
           "line": {
            "color": "#2a3f5f"
           }
          },
          "ternary": {
           "aaxis": {
            "gridcolor": "white",
            "linecolor": "white",
            "ticks": ""
           },
           "baxis": {
            "gridcolor": "white",
            "linecolor": "white",
            "ticks": ""
           },
           "bgcolor": "#E5ECF6",
           "caxis": {
            "gridcolor": "white",
            "linecolor": "white",
            "ticks": ""
           }
          },
          "title": {
           "x": 0.05
          },
          "xaxis": {
           "automargin": true,
           "gridcolor": "white",
           "linecolor": "white",
           "ticks": "",
           "title": {
            "standoff": 15
           },
           "zerolinecolor": "white",
           "zerolinewidth": 2
          },
          "yaxis": {
           "automargin": true,
           "gridcolor": "white",
           "linecolor": "white",
           "ticks": "",
           "title": {
            "standoff": 15
           },
           "zerolinecolor": "white",
           "zerolinewidth": 2
          }
         }
        },
        "title": {
         "text": "Группа А"
        },
        "xaxis": {
         "anchor": "y",
         "domain": [
          0,
          1
         ],
         "title": {
          "text": "Количество событий"
         }
        },
        "yaxis": {
         "anchor": "x",
         "domain": [
          0,
          1
         ],
         "title": {
          "text": "События"
         }
        }
       }
      },
      "text/html": [
       "<div>                            <div id=\"19edbadd-c7ef-4f92-af9f-67b17d49c993\" class=\"plotly-graph-div\" style=\"height:400px; width:100%;\"></div>            <script type=\"text/javascript\">                require([\"plotly\"], function(Plotly) {                    window.PLOTLYENV=window.PLOTLYENV || {};                                    if (document.getElementById(\"19edbadd-c7ef-4f92-af9f-67b17d49c993\")) {                    Plotly.newPlot(                        \"19edbadd-c7ef-4f92-af9f-67b17d49c993\",                        [{\"alignmentgroup\":\"True\",\"hovertemplate\":\"day=Friday<br>count_event=%{x}<br>event_name=%{y}<extra></extra>\",\"legendgroup\":\"Friday\",\"marker\":{\"color\":\"#636efa\",\"pattern\":{\"shape\":\"\"}},\"name\":\"Friday\",\"offsetgroup\":\"Friday\",\"orientation\":\"h\",\"showlegend\":true,\"textposition\":\"auto\",\"x\":[732,252,466,188],\"xaxis\":\"x\",\"y\":[\"login\",\"product_cart\",\"product_page\",\"purchase\"],\"yaxis\":\"y\",\"type\":\"bar\"},{\"alignmentgroup\":\"True\",\"hovertemplate\":\"day=Monday<br>count_event=%{x}<br>event_name=%{y}<extra></extra>\",\"legendgroup\":\"Monday\",\"marker\":{\"color\":\"#EF553B\",\"pattern\":{\"shape\":\"\"}},\"name\":\"Monday\",\"offsetgroup\":\"Monday\",\"orientation\":\"h\",\"showlegend\":true,\"textposition\":\"auto\",\"x\":[1953,551,1283,619],\"xaxis\":\"x\",\"y\":[\"login\",\"product_cart\",\"product_page\",\"purchase\"],\"yaxis\":\"y\",\"type\":\"bar\"},{\"alignmentgroup\":\"True\",\"hovertemplate\":\"day=Saturday<br>count_event=%{x}<br>event_name=%{y}<extra></extra>\",\"legendgroup\":\"Saturday\",\"marker\":{\"color\":\"#00cc96\",\"pattern\":{\"shape\":\"\"}},\"name\":\"Saturday\",\"offsetgroup\":\"Saturday\",\"orientation\":\"h\",\"showlegend\":true,\"textposition\":\"auto\",\"x\":[582,154,352,166],\"xaxis\":\"x\",\"y\":[\"login\",\"product_cart\",\"product_page\",\"purchase\"],\"yaxis\":\"y\",\"type\":\"bar\"},{\"alignmentgroup\":\"True\",\"hovertemplate\":\"day=Sunday<br>count_event=%{x}<br>event_name=%{y}<extra></extra>\",\"legendgroup\":\"Sunday\",\"marker\":{\"color\":\"#ab63fa\",\"pattern\":{\"shape\":\"\"}},\"name\":\"Sunday\",\"offsetgroup\":\"Sunday\",\"orientation\":\"h\",\"showlegend\":true,\"textposition\":\"auto\",\"x\":[537,131,337,168],\"xaxis\":\"x\",\"y\":[\"login\",\"product_cart\",\"product_page\",\"purchase\"],\"yaxis\":\"y\",\"type\":\"bar\"},{\"alignmentgroup\":\"True\",\"hovertemplate\":\"day=Thursday<br>count_event=%{x}<br>event_name=%{y}<extra></extra>\",\"legendgroup\":\"Thursday\",\"marker\":{\"color\":\"#FFA15A\",\"pattern\":{\"shape\":\"\"}},\"name\":\"Thursday\",\"offsetgroup\":\"Thursday\",\"orientation\":\"h\",\"showlegend\":true,\"textposition\":\"auto\",\"x\":[636,201,401,210],\"xaxis\":\"x\",\"y\":[\"login\",\"product_cart\",\"product_page\",\"purchase\"],\"yaxis\":\"y\",\"type\":\"bar\"},{\"alignmentgroup\":\"True\",\"hovertemplate\":\"day=Tuesday<br>count_event=%{x}<br>event_name=%{y}<extra></extra>\",\"legendgroup\":\"Tuesday\",\"marker\":{\"color\":\"#19d3f3\",\"pattern\":{\"shape\":\"\"}},\"name\":\"Tuesday\",\"offsetgroup\":\"Tuesday\",\"orientation\":\"h\",\"showlegend\":true,\"textposition\":\"auto\",\"x\":[827,279,540,248],\"xaxis\":\"x\",\"y\":[\"login\",\"product_cart\",\"product_page\",\"purchase\"],\"yaxis\":\"y\",\"type\":\"bar\"},{\"alignmentgroup\":\"True\",\"hovertemplate\":\"day=Wednesday<br>count_event=%{x}<br>event_name=%{y}<extra></extra>\",\"legendgroup\":\"Wednesday\",\"marker\":{\"color\":\"#FF6692\",\"pattern\":{\"shape\":\"\"}},\"name\":\"Wednesday\",\"offsetgroup\":\"Wednesday\",\"orientation\":\"h\",\"showlegend\":true,\"textposition\":\"auto\",\"x\":[655,210,403,212],\"xaxis\":\"x\",\"y\":[\"login\",\"product_cart\",\"product_page\",\"purchase\"],\"yaxis\":\"y\",\"type\":\"bar\"}],                        {\"template\":{\"data\":{\"bar\":[{\"error_x\":{\"color\":\"#2a3f5f\"},\"error_y\":{\"color\":\"#2a3f5f\"},\"marker\":{\"line\":{\"color\":\"#E5ECF6\",\"width\":0.5},\"pattern\":{\"fillmode\":\"overlay\",\"size\":10,\"solidity\":0.2}},\"type\":\"bar\"}],\"barpolar\":[{\"marker\":{\"line\":{\"color\":\"#E5ECF6\",\"width\":0.5},\"pattern\":{\"fillmode\":\"overlay\",\"size\":10,\"solidity\":0.2}},\"type\":\"barpolar\"}],\"carpet\":[{\"aaxis\":{\"endlinecolor\":\"#2a3f5f\",\"gridcolor\":\"white\",\"linecolor\":\"white\",\"minorgridcolor\":\"white\",\"startlinecolor\":\"#2a3f5f\"},\"baxis\":{\"endlinecolor\":\"#2a3f5f\",\"gridcolor\":\"white\",\"linecolor\":\"white\",\"minorgridcolor\":\"white\",\"startlinecolor\":\"#2a3f5f\"},\"type\":\"carpet\"}],\"choropleth\":[{\"colorbar\":{\"outlinewidth\":0,\"ticks\":\"\"},\"type\":\"choropleth\"}],\"contour\":[{\"colorbar\":{\"outlinewidth\":0,\"ticks\":\"\"},\"colorscale\":[[0.0,\"#0d0887\"],[0.1111111111111111,\"#46039f\"],[0.2222222222222222,\"#7201a8\"],[0.3333333333333333,\"#9c179e\"],[0.4444444444444444,\"#bd3786\"],[0.5555555555555556,\"#d8576b\"],[0.6666666666666666,\"#ed7953\"],[0.7777777777777778,\"#fb9f3a\"],[0.8888888888888888,\"#fdca26\"],[1.0,\"#f0f921\"]],\"type\":\"contour\"}],\"contourcarpet\":[{\"colorbar\":{\"outlinewidth\":0,\"ticks\":\"\"},\"type\":\"contourcarpet\"}],\"heatmap\":[{\"colorbar\":{\"outlinewidth\":0,\"ticks\":\"\"},\"colorscale\":[[0.0,\"#0d0887\"],[0.1111111111111111,\"#46039f\"],[0.2222222222222222,\"#7201a8\"],[0.3333333333333333,\"#9c179e\"],[0.4444444444444444,\"#bd3786\"],[0.5555555555555556,\"#d8576b\"],[0.6666666666666666,\"#ed7953\"],[0.7777777777777778,\"#fb9f3a\"],[0.8888888888888888,\"#fdca26\"],[1.0,\"#f0f921\"]],\"type\":\"heatmap\"}],\"heatmapgl\":[{\"colorbar\":{\"outlinewidth\":0,\"ticks\":\"\"},\"colorscale\":[[0.0,\"#0d0887\"],[0.1111111111111111,\"#46039f\"],[0.2222222222222222,\"#7201a8\"],[0.3333333333333333,\"#9c179e\"],[0.4444444444444444,\"#bd3786\"],[0.5555555555555556,\"#d8576b\"],[0.6666666666666666,\"#ed7953\"],[0.7777777777777778,\"#fb9f3a\"],[0.8888888888888888,\"#fdca26\"],[1.0,\"#f0f921\"]],\"type\":\"heatmapgl\"}],\"histogram\":[{\"marker\":{\"pattern\":{\"fillmode\":\"overlay\",\"size\":10,\"solidity\":0.2}},\"type\":\"histogram\"}],\"histogram2d\":[{\"colorbar\":{\"outlinewidth\":0,\"ticks\":\"\"},\"colorscale\":[[0.0,\"#0d0887\"],[0.1111111111111111,\"#46039f\"],[0.2222222222222222,\"#7201a8\"],[0.3333333333333333,\"#9c179e\"],[0.4444444444444444,\"#bd3786\"],[0.5555555555555556,\"#d8576b\"],[0.6666666666666666,\"#ed7953\"],[0.7777777777777778,\"#fb9f3a\"],[0.8888888888888888,\"#fdca26\"],[1.0,\"#f0f921\"]],\"type\":\"histogram2d\"}],\"histogram2dcontour\":[{\"colorbar\":{\"outlinewidth\":0,\"ticks\":\"\"},\"colorscale\":[[0.0,\"#0d0887\"],[0.1111111111111111,\"#46039f\"],[0.2222222222222222,\"#7201a8\"],[0.3333333333333333,\"#9c179e\"],[0.4444444444444444,\"#bd3786\"],[0.5555555555555556,\"#d8576b\"],[0.6666666666666666,\"#ed7953\"],[0.7777777777777778,\"#fb9f3a\"],[0.8888888888888888,\"#fdca26\"],[1.0,\"#f0f921\"]],\"type\":\"histogram2dcontour\"}],\"mesh3d\":[{\"colorbar\":{\"outlinewidth\":0,\"ticks\":\"\"},\"type\":\"mesh3d\"}],\"parcoords\":[{\"line\":{\"colorbar\":{\"outlinewidth\":0,\"ticks\":\"\"}},\"type\":\"parcoords\"}],\"pie\":[{\"automargin\":true,\"type\":\"pie\"}],\"scatter\":[{\"marker\":{\"colorbar\":{\"outlinewidth\":0,\"ticks\":\"\"}},\"type\":\"scatter\"}],\"scatter3d\":[{\"line\":{\"colorbar\":{\"outlinewidth\":0,\"ticks\":\"\"}},\"marker\":{\"colorbar\":{\"outlinewidth\":0,\"ticks\":\"\"}},\"type\":\"scatter3d\"}],\"scattercarpet\":[{\"marker\":{\"colorbar\":{\"outlinewidth\":0,\"ticks\":\"\"}},\"type\":\"scattercarpet\"}],\"scattergeo\":[{\"marker\":{\"colorbar\":{\"outlinewidth\":0,\"ticks\":\"\"}},\"type\":\"scattergeo\"}],\"scattergl\":[{\"marker\":{\"colorbar\":{\"outlinewidth\":0,\"ticks\":\"\"}},\"type\":\"scattergl\"}],\"scattermapbox\":[{\"marker\":{\"colorbar\":{\"outlinewidth\":0,\"ticks\":\"\"}},\"type\":\"scattermapbox\"}],\"scatterpolar\":[{\"marker\":{\"colorbar\":{\"outlinewidth\":0,\"ticks\":\"\"}},\"type\":\"scatterpolar\"}],\"scatterpolargl\":[{\"marker\":{\"colorbar\":{\"outlinewidth\":0,\"ticks\":\"\"}},\"type\":\"scatterpolargl\"}],\"scatterternary\":[{\"marker\":{\"colorbar\":{\"outlinewidth\":0,\"ticks\":\"\"}},\"type\":\"scatterternary\"}],\"surface\":[{\"colorbar\":{\"outlinewidth\":0,\"ticks\":\"\"},\"colorscale\":[[0.0,\"#0d0887\"],[0.1111111111111111,\"#46039f\"],[0.2222222222222222,\"#7201a8\"],[0.3333333333333333,\"#9c179e\"],[0.4444444444444444,\"#bd3786\"],[0.5555555555555556,\"#d8576b\"],[0.6666666666666666,\"#ed7953\"],[0.7777777777777778,\"#fb9f3a\"],[0.8888888888888888,\"#fdca26\"],[1.0,\"#f0f921\"]],\"type\":\"surface\"}],\"table\":[{\"cells\":{\"fill\":{\"color\":\"#EBF0F8\"},\"line\":{\"color\":\"white\"}},\"header\":{\"fill\":{\"color\":\"#C8D4E3\"},\"line\":{\"color\":\"white\"}},\"type\":\"table\"}]},\"layout\":{\"annotationdefaults\":{\"arrowcolor\":\"#2a3f5f\",\"arrowhead\":0,\"arrowwidth\":1},\"autotypenumbers\":\"strict\",\"coloraxis\":{\"colorbar\":{\"outlinewidth\":0,\"ticks\":\"\"}},\"colorscale\":{\"diverging\":[[0,\"#8e0152\"],[0.1,\"#c51b7d\"],[0.2,\"#de77ae\"],[0.3,\"#f1b6da\"],[0.4,\"#fde0ef\"],[0.5,\"#f7f7f7\"],[0.6,\"#e6f5d0\"],[0.7,\"#b8e186\"],[0.8,\"#7fbc41\"],[0.9,\"#4d9221\"],[1,\"#276419\"]],\"sequential\":[[0.0,\"#0d0887\"],[0.1111111111111111,\"#46039f\"],[0.2222222222222222,\"#7201a8\"],[0.3333333333333333,\"#9c179e\"],[0.4444444444444444,\"#bd3786\"],[0.5555555555555556,\"#d8576b\"],[0.6666666666666666,\"#ed7953\"],[0.7777777777777778,\"#fb9f3a\"],[0.8888888888888888,\"#fdca26\"],[1.0,\"#f0f921\"]],\"sequentialminus\":[[0.0,\"#0d0887\"],[0.1111111111111111,\"#46039f\"],[0.2222222222222222,\"#7201a8\"],[0.3333333333333333,\"#9c179e\"],[0.4444444444444444,\"#bd3786\"],[0.5555555555555556,\"#d8576b\"],[0.6666666666666666,\"#ed7953\"],[0.7777777777777778,\"#fb9f3a\"],[0.8888888888888888,\"#fdca26\"],[1.0,\"#f0f921\"]]},\"colorway\":[\"#636efa\",\"#EF553B\",\"#00cc96\",\"#ab63fa\",\"#FFA15A\",\"#19d3f3\",\"#FF6692\",\"#B6E880\",\"#FF97FF\",\"#FECB52\"],\"font\":{\"color\":\"#2a3f5f\"},\"geo\":{\"bgcolor\":\"white\",\"lakecolor\":\"white\",\"landcolor\":\"#E5ECF6\",\"showlakes\":true,\"showland\":true,\"subunitcolor\":\"white\"},\"hoverlabel\":{\"align\":\"left\"},\"hovermode\":\"closest\",\"mapbox\":{\"style\":\"light\"},\"paper_bgcolor\":\"white\",\"plot_bgcolor\":\"#E5ECF6\",\"polar\":{\"angularaxis\":{\"gridcolor\":\"white\",\"linecolor\":\"white\",\"ticks\":\"\"},\"bgcolor\":\"#E5ECF6\",\"radialaxis\":{\"gridcolor\":\"white\",\"linecolor\":\"white\",\"ticks\":\"\"}},\"scene\":{\"xaxis\":{\"backgroundcolor\":\"#E5ECF6\",\"gridcolor\":\"white\",\"gridwidth\":2,\"linecolor\":\"white\",\"showbackground\":true,\"ticks\":\"\",\"zerolinecolor\":\"white\"},\"yaxis\":{\"backgroundcolor\":\"#E5ECF6\",\"gridcolor\":\"white\",\"gridwidth\":2,\"linecolor\":\"white\",\"showbackground\":true,\"ticks\":\"\",\"zerolinecolor\":\"white\"},\"zaxis\":{\"backgroundcolor\":\"#E5ECF6\",\"gridcolor\":\"white\",\"gridwidth\":2,\"linecolor\":\"white\",\"showbackground\":true,\"ticks\":\"\",\"zerolinecolor\":\"white\"}},\"shapedefaults\":{\"line\":{\"color\":\"#2a3f5f\"}},\"ternary\":{\"aaxis\":{\"gridcolor\":\"white\",\"linecolor\":\"white\",\"ticks\":\"\"},\"baxis\":{\"gridcolor\":\"white\",\"linecolor\":\"white\",\"ticks\":\"\"},\"bgcolor\":\"#E5ECF6\",\"caxis\":{\"gridcolor\":\"white\",\"linecolor\":\"white\",\"ticks\":\"\"}},\"title\":{\"x\":0.05},\"xaxis\":{\"automargin\":true,\"gridcolor\":\"white\",\"linecolor\":\"white\",\"ticks\":\"\",\"title\":{\"standoff\":15},\"zerolinecolor\":\"white\",\"zerolinewidth\":2},\"yaxis\":{\"automargin\":true,\"gridcolor\":\"white\",\"linecolor\":\"white\",\"ticks\":\"\",\"title\":{\"standoff\":15},\"zerolinecolor\":\"white\",\"zerolinewidth\":2}}},\"xaxis\":{\"anchor\":\"y\",\"domain\":[0.0,1.0],\"title\":{\"text\":\"\\u041a\\u043e\\u043b\\u0438\\u0447\\u0435\\u0441\\u0442\\u0432\\u043e \\u0441\\u043e\\u0431\\u044b\\u0442\\u0438\\u0439\"}},\"yaxis\":{\"anchor\":\"x\",\"domain\":[0.0,1.0],\"title\":{\"text\":\"\\u0421\\u043e\\u0431\\u044b\\u0442\\u0438\\u044f\"}},\"legend\":{\"title\":{\"text\":\"day\"},\"tracegroupgap\":0},\"title\":{\"text\":\"\\u0413\\u0440\\u0443\\u043f\\u043f\\u0430 \\u0410\"},\"barmode\":\"relative\",\"height\":400},                        {\"responsive\": true}                    ).then(function(){\n",
       "                            \n",
       "var gd = document.getElementById('19edbadd-c7ef-4f92-af9f-67b17d49c993');\n",
       "var x = new MutationObserver(function (mutations, observer) {{\n",
       "        var display = window.getComputedStyle(gd).display;\n",
       "        if (!display || display === 'none') {{\n",
       "            console.log([gd, 'removed!']);\n",
       "            Plotly.purge(gd);\n",
       "            observer.disconnect();\n",
       "        }}\n",
       "}});\n",
       "\n",
       "// Listen for the removal of the full notebook cells\n",
       "var notebookContainer = gd.closest('#notebook-container');\n",
       "if (notebookContainer) {{\n",
       "    x.observe(notebookContainer, {childList: true});\n",
       "}}\n",
       "\n",
       "// Listen for the clearing of the current output cell\n",
       "var outputEl = gd.closest('.output');\n",
       "if (outputEl) {{\n",
       "    x.observe(outputEl, {childList: true});\n",
       "}}\n",
       "\n",
       "                        })                };                });            </script>        </div>"
      ]
     },
     "metadata": {},
     "output_type": "display_data"
    }
   ],
   "source": [
    "#Построим графики\n",
    "fig = px.bar(a_f_d, x=\"count_event\", y=\"event_name\", color='day', orientation='h',\n",
    "             height=400,\n",
    "             title='Группа А')\n",
    "fig.update_layout(xaxis_title='Количество событий',\n",
    "                   yaxis_title='События')\n",
    "\n",
    "fig_2 = px.bar(b_f_d, x=\"count_event\", y=\"event_name\", color='day', orientation='h',\n",
    "             height=400,\n",
    "             title='Группа В')\n",
    "fig_2.update_layout(xaxis_title='Количество событий',\n",
    "                   yaxis_title='События')\n",
    "\n",
    "\n",
    "fig_2.show()\n",
    "fig.show()"
   ]
  },
  {
   "cell_type": "markdown",
   "id": "80562770-3ec2-4791-91d6-7d105af9c31e",
   "metadata": {},
   "source": [
    "#### посмотрим в разрезе распределения по общему количеству дней"
   ]
  },
  {
   "cell_type": "code",
   "execution_count": 65,
   "id": "3b24a548-9e3a-4097-89dd-d8ddf22f462c",
   "metadata": {},
   "outputs": [
    {
     "data": {
      "application/vnd.plotly.v1+json": {
       "config": {
        "plotlyServerURL": "https://plot.ly"
       },
       "data": [
        {
         "alignmentgroup": "True",
         "hovertemplate": "group=A<br>first_date=%{x}<br>count=%{y}<extra></extra>",
         "legendgroup": "A",
         "marker": {
          "color": "#636efa",
          "pattern": {
           "shape": ""
          }
         },
         "name": "A",
         "offsetgroup": "A",
         "orientation": "v",
         "showlegend": true,
         "textposition": "auto",
         "type": "bar",
         "x": [
          "2020-12-07T00:00:00",
          "2020-12-08T00:00:00",
          "2020-12-09T00:00:00",
          "2020-12-10T00:00:00",
          "2020-12-11T00:00:00",
          "2020-12-12T00:00:00",
          "2020-12-13T00:00:00",
          "2020-12-14T00:00:00",
          "2020-12-15T00:00:00",
          "2020-12-16T00:00:00",
          "2020-12-17T00:00:00",
          "2020-12-18T00:00:00",
          "2020-12-19T00:00:00",
          "2020-12-20T00:00:00",
          "2020-12-21T00:00:00"
         ],
         "xaxis": "x",
         "y": [
          968,
          618,
          511,
          322,
          483,
          290,
          230,
          2487,
          1276,
          969,
          1126,
          1155,
          964,
          943,
          951
         ],
         "yaxis": "y"
        },
        {
         "alignmentgroup": "True",
         "hovertemplate": "group=B<br>first_date=%{x}<br>count=%{y}<extra></extra>",
         "legendgroup": "B",
         "marker": {
          "color": "#EF553B",
          "pattern": {
           "shape": ""
          }
         },
         "name": "B",
         "offsetgroup": "B",
         "orientation": "v",
         "showlegend": true,
         "textposition": "auto",
         "type": "bar",
         "x": [
          "2020-12-07T00:00:00",
          "2020-12-08T00:00:00",
          "2020-12-09T00:00:00",
          "2020-12-10T00:00:00",
          "2020-12-11T00:00:00",
          "2020-12-12T00:00:00",
          "2020-12-13T00:00:00",
          "2020-12-14T00:00:00",
          "2020-12-15T00:00:00",
          "2020-12-16T00:00:00",
          "2020-12-17T00:00:00",
          "2020-12-18T00:00:00",
          "2020-12-19T00:00:00",
          "2020-12-20T00:00:00",
          "2020-12-21T00:00:00"
         ],
         "xaxis": "x",
         "y": [
          1200,
          238,
          467,
          138,
          71,
          246,
          33,
          313,
          133,
          556,
          162,
          178,
          163,
          197,
          191
         ],
         "yaxis": "y"
        }
       ],
       "layout": {
        "barmode": "relative",
        "legend": {
         "title": {
          "text": "group"
         },
         "tracegroupgap": 0
        },
        "template": {
         "data": {
          "bar": [
           {
            "error_x": {
             "color": "#2a3f5f"
            },
            "error_y": {
             "color": "#2a3f5f"
            },
            "marker": {
             "line": {
              "color": "#E5ECF6",
              "width": 0.5
             },
             "pattern": {
              "fillmode": "overlay",
              "size": 10,
              "solidity": 0.2
             }
            },
            "type": "bar"
           }
          ],
          "barpolar": [
           {
            "marker": {
             "line": {
              "color": "#E5ECF6",
              "width": 0.5
             },
             "pattern": {
              "fillmode": "overlay",
              "size": 10,
              "solidity": 0.2
             }
            },
            "type": "barpolar"
           }
          ],
          "carpet": [
           {
            "aaxis": {
             "endlinecolor": "#2a3f5f",
             "gridcolor": "white",
             "linecolor": "white",
             "minorgridcolor": "white",
             "startlinecolor": "#2a3f5f"
            },
            "baxis": {
             "endlinecolor": "#2a3f5f",
             "gridcolor": "white",
             "linecolor": "white",
             "minorgridcolor": "white",
             "startlinecolor": "#2a3f5f"
            },
            "type": "carpet"
           }
          ],
          "choropleth": [
           {
            "colorbar": {
             "outlinewidth": 0,
             "ticks": ""
            },
            "type": "choropleth"
           }
          ],
          "contour": [
           {
            "colorbar": {
             "outlinewidth": 0,
             "ticks": ""
            },
            "colorscale": [
             [
              0,
              "#0d0887"
             ],
             [
              0.1111111111111111,
              "#46039f"
             ],
             [
              0.2222222222222222,
              "#7201a8"
             ],
             [
              0.3333333333333333,
              "#9c179e"
             ],
             [
              0.4444444444444444,
              "#bd3786"
             ],
             [
              0.5555555555555556,
              "#d8576b"
             ],
             [
              0.6666666666666666,
              "#ed7953"
             ],
             [
              0.7777777777777778,
              "#fb9f3a"
             ],
             [
              0.8888888888888888,
              "#fdca26"
             ],
             [
              1,
              "#f0f921"
             ]
            ],
            "type": "contour"
           }
          ],
          "contourcarpet": [
           {
            "colorbar": {
             "outlinewidth": 0,
             "ticks": ""
            },
            "type": "contourcarpet"
           }
          ],
          "heatmap": [
           {
            "colorbar": {
             "outlinewidth": 0,
             "ticks": ""
            },
            "colorscale": [
             [
              0,
              "#0d0887"
             ],
             [
              0.1111111111111111,
              "#46039f"
             ],
             [
              0.2222222222222222,
              "#7201a8"
             ],
             [
              0.3333333333333333,
              "#9c179e"
             ],
             [
              0.4444444444444444,
              "#bd3786"
             ],
             [
              0.5555555555555556,
              "#d8576b"
             ],
             [
              0.6666666666666666,
              "#ed7953"
             ],
             [
              0.7777777777777778,
              "#fb9f3a"
             ],
             [
              0.8888888888888888,
              "#fdca26"
             ],
             [
              1,
              "#f0f921"
             ]
            ],
            "type": "heatmap"
           }
          ],
          "heatmapgl": [
           {
            "colorbar": {
             "outlinewidth": 0,
             "ticks": ""
            },
            "colorscale": [
             [
              0,
              "#0d0887"
             ],
             [
              0.1111111111111111,
              "#46039f"
             ],
             [
              0.2222222222222222,
              "#7201a8"
             ],
             [
              0.3333333333333333,
              "#9c179e"
             ],
             [
              0.4444444444444444,
              "#bd3786"
             ],
             [
              0.5555555555555556,
              "#d8576b"
             ],
             [
              0.6666666666666666,
              "#ed7953"
             ],
             [
              0.7777777777777778,
              "#fb9f3a"
             ],
             [
              0.8888888888888888,
              "#fdca26"
             ],
             [
              1,
              "#f0f921"
             ]
            ],
            "type": "heatmapgl"
           }
          ],
          "histogram": [
           {
            "marker": {
             "pattern": {
              "fillmode": "overlay",
              "size": 10,
              "solidity": 0.2
             }
            },
            "type": "histogram"
           }
          ],
          "histogram2d": [
           {
            "colorbar": {
             "outlinewidth": 0,
             "ticks": ""
            },
            "colorscale": [
             [
              0,
              "#0d0887"
             ],
             [
              0.1111111111111111,
              "#46039f"
             ],
             [
              0.2222222222222222,
              "#7201a8"
             ],
             [
              0.3333333333333333,
              "#9c179e"
             ],
             [
              0.4444444444444444,
              "#bd3786"
             ],
             [
              0.5555555555555556,
              "#d8576b"
             ],
             [
              0.6666666666666666,
              "#ed7953"
             ],
             [
              0.7777777777777778,
              "#fb9f3a"
             ],
             [
              0.8888888888888888,
              "#fdca26"
             ],
             [
              1,
              "#f0f921"
             ]
            ],
            "type": "histogram2d"
           }
          ],
          "histogram2dcontour": [
           {
            "colorbar": {
             "outlinewidth": 0,
             "ticks": ""
            },
            "colorscale": [
             [
              0,
              "#0d0887"
             ],
             [
              0.1111111111111111,
              "#46039f"
             ],
             [
              0.2222222222222222,
              "#7201a8"
             ],
             [
              0.3333333333333333,
              "#9c179e"
             ],
             [
              0.4444444444444444,
              "#bd3786"
             ],
             [
              0.5555555555555556,
              "#d8576b"
             ],
             [
              0.6666666666666666,
              "#ed7953"
             ],
             [
              0.7777777777777778,
              "#fb9f3a"
             ],
             [
              0.8888888888888888,
              "#fdca26"
             ],
             [
              1,
              "#f0f921"
             ]
            ],
            "type": "histogram2dcontour"
           }
          ],
          "mesh3d": [
           {
            "colorbar": {
             "outlinewidth": 0,
             "ticks": ""
            },
            "type": "mesh3d"
           }
          ],
          "parcoords": [
           {
            "line": {
             "colorbar": {
              "outlinewidth": 0,
              "ticks": ""
             }
            },
            "type": "parcoords"
           }
          ],
          "pie": [
           {
            "automargin": true,
            "type": "pie"
           }
          ],
          "scatter": [
           {
            "marker": {
             "colorbar": {
              "outlinewidth": 0,
              "ticks": ""
             }
            },
            "type": "scatter"
           }
          ],
          "scatter3d": [
           {
            "line": {
             "colorbar": {
              "outlinewidth": 0,
              "ticks": ""
             }
            },
            "marker": {
             "colorbar": {
              "outlinewidth": 0,
              "ticks": ""
             }
            },
            "type": "scatter3d"
           }
          ],
          "scattercarpet": [
           {
            "marker": {
             "colorbar": {
              "outlinewidth": 0,
              "ticks": ""
             }
            },
            "type": "scattercarpet"
           }
          ],
          "scattergeo": [
           {
            "marker": {
             "colorbar": {
              "outlinewidth": 0,
              "ticks": ""
             }
            },
            "type": "scattergeo"
           }
          ],
          "scattergl": [
           {
            "marker": {
             "colorbar": {
              "outlinewidth": 0,
              "ticks": ""
             }
            },
            "type": "scattergl"
           }
          ],
          "scattermapbox": [
           {
            "marker": {
             "colorbar": {
              "outlinewidth": 0,
              "ticks": ""
             }
            },
            "type": "scattermapbox"
           }
          ],
          "scatterpolar": [
           {
            "marker": {
             "colorbar": {
              "outlinewidth": 0,
              "ticks": ""
             }
            },
            "type": "scatterpolar"
           }
          ],
          "scatterpolargl": [
           {
            "marker": {
             "colorbar": {
              "outlinewidth": 0,
              "ticks": ""
             }
            },
            "type": "scatterpolargl"
           }
          ],
          "scatterternary": [
           {
            "marker": {
             "colorbar": {
              "outlinewidth": 0,
              "ticks": ""
             }
            },
            "type": "scatterternary"
           }
          ],
          "surface": [
           {
            "colorbar": {
             "outlinewidth": 0,
             "ticks": ""
            },
            "colorscale": [
             [
              0,
              "#0d0887"
             ],
             [
              0.1111111111111111,
              "#46039f"
             ],
             [
              0.2222222222222222,
              "#7201a8"
             ],
             [
              0.3333333333333333,
              "#9c179e"
             ],
             [
              0.4444444444444444,
              "#bd3786"
             ],
             [
              0.5555555555555556,
              "#d8576b"
             ],
             [
              0.6666666666666666,
              "#ed7953"
             ],
             [
              0.7777777777777778,
              "#fb9f3a"
             ],
             [
              0.8888888888888888,
              "#fdca26"
             ],
             [
              1,
              "#f0f921"
             ]
            ],
            "type": "surface"
           }
          ],
          "table": [
           {
            "cells": {
             "fill": {
              "color": "#EBF0F8"
             },
             "line": {
              "color": "white"
             }
            },
            "header": {
             "fill": {
              "color": "#C8D4E3"
             },
             "line": {
              "color": "white"
             }
            },
            "type": "table"
           }
          ]
         },
         "layout": {
          "annotationdefaults": {
           "arrowcolor": "#2a3f5f",
           "arrowhead": 0,
           "arrowwidth": 1
          },
          "autotypenumbers": "strict",
          "coloraxis": {
           "colorbar": {
            "outlinewidth": 0,
            "ticks": ""
           }
          },
          "colorscale": {
           "diverging": [
            [
             0,
             "#8e0152"
            ],
            [
             0.1,
             "#c51b7d"
            ],
            [
             0.2,
             "#de77ae"
            ],
            [
             0.3,
             "#f1b6da"
            ],
            [
             0.4,
             "#fde0ef"
            ],
            [
             0.5,
             "#f7f7f7"
            ],
            [
             0.6,
             "#e6f5d0"
            ],
            [
             0.7,
             "#b8e186"
            ],
            [
             0.8,
             "#7fbc41"
            ],
            [
             0.9,
             "#4d9221"
            ],
            [
             1,
             "#276419"
            ]
           ],
           "sequential": [
            [
             0,
             "#0d0887"
            ],
            [
             0.1111111111111111,
             "#46039f"
            ],
            [
             0.2222222222222222,
             "#7201a8"
            ],
            [
             0.3333333333333333,
             "#9c179e"
            ],
            [
             0.4444444444444444,
             "#bd3786"
            ],
            [
             0.5555555555555556,
             "#d8576b"
            ],
            [
             0.6666666666666666,
             "#ed7953"
            ],
            [
             0.7777777777777778,
             "#fb9f3a"
            ],
            [
             0.8888888888888888,
             "#fdca26"
            ],
            [
             1,
             "#f0f921"
            ]
           ],
           "sequentialminus": [
            [
             0,
             "#0d0887"
            ],
            [
             0.1111111111111111,
             "#46039f"
            ],
            [
             0.2222222222222222,
             "#7201a8"
            ],
            [
             0.3333333333333333,
             "#9c179e"
            ],
            [
             0.4444444444444444,
             "#bd3786"
            ],
            [
             0.5555555555555556,
             "#d8576b"
            ],
            [
             0.6666666666666666,
             "#ed7953"
            ],
            [
             0.7777777777777778,
             "#fb9f3a"
            ],
            [
             0.8888888888888888,
             "#fdca26"
            ],
            [
             1,
             "#f0f921"
            ]
           ]
          },
          "colorway": [
           "#636efa",
           "#EF553B",
           "#00cc96",
           "#ab63fa",
           "#FFA15A",
           "#19d3f3",
           "#FF6692",
           "#B6E880",
           "#FF97FF",
           "#FECB52"
          ],
          "font": {
           "color": "#2a3f5f"
          },
          "geo": {
           "bgcolor": "white",
           "lakecolor": "white",
           "landcolor": "#E5ECF6",
           "showlakes": true,
           "showland": true,
           "subunitcolor": "white"
          },
          "hoverlabel": {
           "align": "left"
          },
          "hovermode": "closest",
          "mapbox": {
           "style": "light"
          },
          "paper_bgcolor": "white",
          "plot_bgcolor": "#E5ECF6",
          "polar": {
           "angularaxis": {
            "gridcolor": "white",
            "linecolor": "white",
            "ticks": ""
           },
           "bgcolor": "#E5ECF6",
           "radialaxis": {
            "gridcolor": "white",
            "linecolor": "white",
            "ticks": ""
           }
          },
          "scene": {
           "xaxis": {
            "backgroundcolor": "#E5ECF6",
            "gridcolor": "white",
            "gridwidth": 2,
            "linecolor": "white",
            "showbackground": true,
            "ticks": "",
            "zerolinecolor": "white"
           },
           "yaxis": {
            "backgroundcolor": "#E5ECF6",
            "gridcolor": "white",
            "gridwidth": 2,
            "linecolor": "white",
            "showbackground": true,
            "ticks": "",
            "zerolinecolor": "white"
           },
           "zaxis": {
            "backgroundcolor": "#E5ECF6",
            "gridcolor": "white",
            "gridwidth": 2,
            "linecolor": "white",
            "showbackground": true,
            "ticks": "",
            "zerolinecolor": "white"
           }
          },
          "shapedefaults": {
           "line": {
            "color": "#2a3f5f"
           }
          },
          "ternary": {
           "aaxis": {
            "gridcolor": "white",
            "linecolor": "white",
            "ticks": ""
           },
           "baxis": {
            "gridcolor": "white",
            "linecolor": "white",
            "ticks": ""
           },
           "bgcolor": "#E5ECF6",
           "caxis": {
            "gridcolor": "white",
            "linecolor": "white",
            "ticks": ""
           }
          },
          "title": {
           "x": 0.05
          },
          "xaxis": {
           "automargin": true,
           "gridcolor": "white",
           "linecolor": "white",
           "ticks": "",
           "title": {
            "standoff": 15
           },
           "zerolinecolor": "white",
           "zerolinewidth": 2
          },
          "yaxis": {
           "automargin": true,
           "gridcolor": "white",
           "linecolor": "white",
           "ticks": "",
           "title": {
            "standoff": 15
           },
           "zerolinecolor": "white",
           "zerolinewidth": 2
          }
         }
        },
        "title": {
         "text": "Распределение событий по дням в двух группах"
        },
        "xaxis": {
         "anchor": "y",
         "domain": [
          0,
          1
         ],
         "title": {
          "text": "Дата"
         }
        },
        "yaxis": {
         "anchor": "x",
         "domain": [
          0,
          1
         ],
         "title": {
          "text": "Количество событий"
         }
        }
       }
      },
      "text/html": [
       "<div>                            <div id=\"fa03718f-d73e-4e87-9aea-53a77a09fb94\" class=\"plotly-graph-div\" style=\"height:525px; width:100%;\"></div>            <script type=\"text/javascript\">                require([\"plotly\"], function(Plotly) {                    window.PLOTLYENV=window.PLOTLYENV || {};                                    if (document.getElementById(\"fa03718f-d73e-4e87-9aea-53a77a09fb94\")) {                    Plotly.newPlot(                        \"fa03718f-d73e-4e87-9aea-53a77a09fb94\",                        [{\"alignmentgroup\":\"True\",\"hovertemplate\":\"group=A<br>first_date=%{x}<br>count=%{y}<extra></extra>\",\"legendgroup\":\"A\",\"marker\":{\"color\":\"#636efa\",\"pattern\":{\"shape\":\"\"}},\"name\":\"A\",\"offsetgroup\":\"A\",\"orientation\":\"v\",\"showlegend\":true,\"textposition\":\"auto\",\"x\":[\"2020-12-07T00:00:00\",\"2020-12-08T00:00:00\",\"2020-12-09T00:00:00\",\"2020-12-10T00:00:00\",\"2020-12-11T00:00:00\",\"2020-12-12T00:00:00\",\"2020-12-13T00:00:00\",\"2020-12-14T00:00:00\",\"2020-12-15T00:00:00\",\"2020-12-16T00:00:00\",\"2020-12-17T00:00:00\",\"2020-12-18T00:00:00\",\"2020-12-19T00:00:00\",\"2020-12-20T00:00:00\",\"2020-12-21T00:00:00\"],\"xaxis\":\"x\",\"y\":[968,618,511,322,483,290,230,2487,1276,969,1126,1155,964,943,951],\"yaxis\":\"y\",\"type\":\"bar\"},{\"alignmentgroup\":\"True\",\"hovertemplate\":\"group=B<br>first_date=%{x}<br>count=%{y}<extra></extra>\",\"legendgroup\":\"B\",\"marker\":{\"color\":\"#EF553B\",\"pattern\":{\"shape\":\"\"}},\"name\":\"B\",\"offsetgroup\":\"B\",\"orientation\":\"v\",\"showlegend\":true,\"textposition\":\"auto\",\"x\":[\"2020-12-07T00:00:00\",\"2020-12-08T00:00:00\",\"2020-12-09T00:00:00\",\"2020-12-10T00:00:00\",\"2020-12-11T00:00:00\",\"2020-12-12T00:00:00\",\"2020-12-13T00:00:00\",\"2020-12-14T00:00:00\",\"2020-12-15T00:00:00\",\"2020-12-16T00:00:00\",\"2020-12-17T00:00:00\",\"2020-12-18T00:00:00\",\"2020-12-19T00:00:00\",\"2020-12-20T00:00:00\",\"2020-12-21T00:00:00\"],\"xaxis\":\"x\",\"y\":[1200,238,467,138,71,246,33,313,133,556,162,178,163,197,191],\"yaxis\":\"y\",\"type\":\"bar\"}],                        {\"template\":{\"data\":{\"bar\":[{\"error_x\":{\"color\":\"#2a3f5f\"},\"error_y\":{\"color\":\"#2a3f5f\"},\"marker\":{\"line\":{\"color\":\"#E5ECF6\",\"width\":0.5},\"pattern\":{\"fillmode\":\"overlay\",\"size\":10,\"solidity\":0.2}},\"type\":\"bar\"}],\"barpolar\":[{\"marker\":{\"line\":{\"color\":\"#E5ECF6\",\"width\":0.5},\"pattern\":{\"fillmode\":\"overlay\",\"size\":10,\"solidity\":0.2}},\"type\":\"barpolar\"}],\"carpet\":[{\"aaxis\":{\"endlinecolor\":\"#2a3f5f\",\"gridcolor\":\"white\",\"linecolor\":\"white\",\"minorgridcolor\":\"white\",\"startlinecolor\":\"#2a3f5f\"},\"baxis\":{\"endlinecolor\":\"#2a3f5f\",\"gridcolor\":\"white\",\"linecolor\":\"white\",\"minorgridcolor\":\"white\",\"startlinecolor\":\"#2a3f5f\"},\"type\":\"carpet\"}],\"choropleth\":[{\"colorbar\":{\"outlinewidth\":0,\"ticks\":\"\"},\"type\":\"choropleth\"}],\"contour\":[{\"colorbar\":{\"outlinewidth\":0,\"ticks\":\"\"},\"colorscale\":[[0.0,\"#0d0887\"],[0.1111111111111111,\"#46039f\"],[0.2222222222222222,\"#7201a8\"],[0.3333333333333333,\"#9c179e\"],[0.4444444444444444,\"#bd3786\"],[0.5555555555555556,\"#d8576b\"],[0.6666666666666666,\"#ed7953\"],[0.7777777777777778,\"#fb9f3a\"],[0.8888888888888888,\"#fdca26\"],[1.0,\"#f0f921\"]],\"type\":\"contour\"}],\"contourcarpet\":[{\"colorbar\":{\"outlinewidth\":0,\"ticks\":\"\"},\"type\":\"contourcarpet\"}],\"heatmap\":[{\"colorbar\":{\"outlinewidth\":0,\"ticks\":\"\"},\"colorscale\":[[0.0,\"#0d0887\"],[0.1111111111111111,\"#46039f\"],[0.2222222222222222,\"#7201a8\"],[0.3333333333333333,\"#9c179e\"],[0.4444444444444444,\"#bd3786\"],[0.5555555555555556,\"#d8576b\"],[0.6666666666666666,\"#ed7953\"],[0.7777777777777778,\"#fb9f3a\"],[0.8888888888888888,\"#fdca26\"],[1.0,\"#f0f921\"]],\"type\":\"heatmap\"}],\"heatmapgl\":[{\"colorbar\":{\"outlinewidth\":0,\"ticks\":\"\"},\"colorscale\":[[0.0,\"#0d0887\"],[0.1111111111111111,\"#46039f\"],[0.2222222222222222,\"#7201a8\"],[0.3333333333333333,\"#9c179e\"],[0.4444444444444444,\"#bd3786\"],[0.5555555555555556,\"#d8576b\"],[0.6666666666666666,\"#ed7953\"],[0.7777777777777778,\"#fb9f3a\"],[0.8888888888888888,\"#fdca26\"],[1.0,\"#f0f921\"]],\"type\":\"heatmapgl\"}],\"histogram\":[{\"marker\":{\"pattern\":{\"fillmode\":\"overlay\",\"size\":10,\"solidity\":0.2}},\"type\":\"histogram\"}],\"histogram2d\":[{\"colorbar\":{\"outlinewidth\":0,\"ticks\":\"\"},\"colorscale\":[[0.0,\"#0d0887\"],[0.1111111111111111,\"#46039f\"],[0.2222222222222222,\"#7201a8\"],[0.3333333333333333,\"#9c179e\"],[0.4444444444444444,\"#bd3786\"],[0.5555555555555556,\"#d8576b\"],[0.6666666666666666,\"#ed7953\"],[0.7777777777777778,\"#fb9f3a\"],[0.8888888888888888,\"#fdca26\"],[1.0,\"#f0f921\"]],\"type\":\"histogram2d\"}],\"histogram2dcontour\":[{\"colorbar\":{\"outlinewidth\":0,\"ticks\":\"\"},\"colorscale\":[[0.0,\"#0d0887\"],[0.1111111111111111,\"#46039f\"],[0.2222222222222222,\"#7201a8\"],[0.3333333333333333,\"#9c179e\"],[0.4444444444444444,\"#bd3786\"],[0.5555555555555556,\"#d8576b\"],[0.6666666666666666,\"#ed7953\"],[0.7777777777777778,\"#fb9f3a\"],[0.8888888888888888,\"#fdca26\"],[1.0,\"#f0f921\"]],\"type\":\"histogram2dcontour\"}],\"mesh3d\":[{\"colorbar\":{\"outlinewidth\":0,\"ticks\":\"\"},\"type\":\"mesh3d\"}],\"parcoords\":[{\"line\":{\"colorbar\":{\"outlinewidth\":0,\"ticks\":\"\"}},\"type\":\"parcoords\"}],\"pie\":[{\"automargin\":true,\"type\":\"pie\"}],\"scatter\":[{\"marker\":{\"colorbar\":{\"outlinewidth\":0,\"ticks\":\"\"}},\"type\":\"scatter\"}],\"scatter3d\":[{\"line\":{\"colorbar\":{\"outlinewidth\":0,\"ticks\":\"\"}},\"marker\":{\"colorbar\":{\"outlinewidth\":0,\"ticks\":\"\"}},\"type\":\"scatter3d\"}],\"scattercarpet\":[{\"marker\":{\"colorbar\":{\"outlinewidth\":0,\"ticks\":\"\"}},\"type\":\"scattercarpet\"}],\"scattergeo\":[{\"marker\":{\"colorbar\":{\"outlinewidth\":0,\"ticks\":\"\"}},\"type\":\"scattergeo\"}],\"scattergl\":[{\"marker\":{\"colorbar\":{\"outlinewidth\":0,\"ticks\":\"\"}},\"type\":\"scattergl\"}],\"scattermapbox\":[{\"marker\":{\"colorbar\":{\"outlinewidth\":0,\"ticks\":\"\"}},\"type\":\"scattermapbox\"}],\"scatterpolar\":[{\"marker\":{\"colorbar\":{\"outlinewidth\":0,\"ticks\":\"\"}},\"type\":\"scatterpolar\"}],\"scatterpolargl\":[{\"marker\":{\"colorbar\":{\"outlinewidth\":0,\"ticks\":\"\"}},\"type\":\"scatterpolargl\"}],\"scatterternary\":[{\"marker\":{\"colorbar\":{\"outlinewidth\":0,\"ticks\":\"\"}},\"type\":\"scatterternary\"}],\"surface\":[{\"colorbar\":{\"outlinewidth\":0,\"ticks\":\"\"},\"colorscale\":[[0.0,\"#0d0887\"],[0.1111111111111111,\"#46039f\"],[0.2222222222222222,\"#7201a8\"],[0.3333333333333333,\"#9c179e\"],[0.4444444444444444,\"#bd3786\"],[0.5555555555555556,\"#d8576b\"],[0.6666666666666666,\"#ed7953\"],[0.7777777777777778,\"#fb9f3a\"],[0.8888888888888888,\"#fdca26\"],[1.0,\"#f0f921\"]],\"type\":\"surface\"}],\"table\":[{\"cells\":{\"fill\":{\"color\":\"#EBF0F8\"},\"line\":{\"color\":\"white\"}},\"header\":{\"fill\":{\"color\":\"#C8D4E3\"},\"line\":{\"color\":\"white\"}},\"type\":\"table\"}]},\"layout\":{\"annotationdefaults\":{\"arrowcolor\":\"#2a3f5f\",\"arrowhead\":0,\"arrowwidth\":1},\"autotypenumbers\":\"strict\",\"coloraxis\":{\"colorbar\":{\"outlinewidth\":0,\"ticks\":\"\"}},\"colorscale\":{\"diverging\":[[0,\"#8e0152\"],[0.1,\"#c51b7d\"],[0.2,\"#de77ae\"],[0.3,\"#f1b6da\"],[0.4,\"#fde0ef\"],[0.5,\"#f7f7f7\"],[0.6,\"#e6f5d0\"],[0.7,\"#b8e186\"],[0.8,\"#7fbc41\"],[0.9,\"#4d9221\"],[1,\"#276419\"]],\"sequential\":[[0.0,\"#0d0887\"],[0.1111111111111111,\"#46039f\"],[0.2222222222222222,\"#7201a8\"],[0.3333333333333333,\"#9c179e\"],[0.4444444444444444,\"#bd3786\"],[0.5555555555555556,\"#d8576b\"],[0.6666666666666666,\"#ed7953\"],[0.7777777777777778,\"#fb9f3a\"],[0.8888888888888888,\"#fdca26\"],[1.0,\"#f0f921\"]],\"sequentialminus\":[[0.0,\"#0d0887\"],[0.1111111111111111,\"#46039f\"],[0.2222222222222222,\"#7201a8\"],[0.3333333333333333,\"#9c179e\"],[0.4444444444444444,\"#bd3786\"],[0.5555555555555556,\"#d8576b\"],[0.6666666666666666,\"#ed7953\"],[0.7777777777777778,\"#fb9f3a\"],[0.8888888888888888,\"#fdca26\"],[1.0,\"#f0f921\"]]},\"colorway\":[\"#636efa\",\"#EF553B\",\"#00cc96\",\"#ab63fa\",\"#FFA15A\",\"#19d3f3\",\"#FF6692\",\"#B6E880\",\"#FF97FF\",\"#FECB52\"],\"font\":{\"color\":\"#2a3f5f\"},\"geo\":{\"bgcolor\":\"white\",\"lakecolor\":\"white\",\"landcolor\":\"#E5ECF6\",\"showlakes\":true,\"showland\":true,\"subunitcolor\":\"white\"},\"hoverlabel\":{\"align\":\"left\"},\"hovermode\":\"closest\",\"mapbox\":{\"style\":\"light\"},\"paper_bgcolor\":\"white\",\"plot_bgcolor\":\"#E5ECF6\",\"polar\":{\"angularaxis\":{\"gridcolor\":\"white\",\"linecolor\":\"white\",\"ticks\":\"\"},\"bgcolor\":\"#E5ECF6\",\"radialaxis\":{\"gridcolor\":\"white\",\"linecolor\":\"white\",\"ticks\":\"\"}},\"scene\":{\"xaxis\":{\"backgroundcolor\":\"#E5ECF6\",\"gridcolor\":\"white\",\"gridwidth\":2,\"linecolor\":\"white\",\"showbackground\":true,\"ticks\":\"\",\"zerolinecolor\":\"white\"},\"yaxis\":{\"backgroundcolor\":\"#E5ECF6\",\"gridcolor\":\"white\",\"gridwidth\":2,\"linecolor\":\"white\",\"showbackground\":true,\"ticks\":\"\",\"zerolinecolor\":\"white\"},\"zaxis\":{\"backgroundcolor\":\"#E5ECF6\",\"gridcolor\":\"white\",\"gridwidth\":2,\"linecolor\":\"white\",\"showbackground\":true,\"ticks\":\"\",\"zerolinecolor\":\"white\"}},\"shapedefaults\":{\"line\":{\"color\":\"#2a3f5f\"}},\"ternary\":{\"aaxis\":{\"gridcolor\":\"white\",\"linecolor\":\"white\",\"ticks\":\"\"},\"baxis\":{\"gridcolor\":\"white\",\"linecolor\":\"white\",\"ticks\":\"\"},\"bgcolor\":\"#E5ECF6\",\"caxis\":{\"gridcolor\":\"white\",\"linecolor\":\"white\",\"ticks\":\"\"}},\"title\":{\"x\":0.05},\"xaxis\":{\"automargin\":true,\"gridcolor\":\"white\",\"linecolor\":\"white\",\"ticks\":\"\",\"title\":{\"standoff\":15},\"zerolinecolor\":\"white\",\"zerolinewidth\":2},\"yaxis\":{\"automargin\":true,\"gridcolor\":\"white\",\"linecolor\":\"white\",\"ticks\":\"\",\"title\":{\"standoff\":15},\"zerolinecolor\":\"white\",\"zerolinewidth\":2}}},\"xaxis\":{\"anchor\":\"y\",\"domain\":[0.0,1.0],\"title\":{\"text\":\"\\u0414\\u0430\\u0442\\u0430\"}},\"yaxis\":{\"anchor\":\"x\",\"domain\":[0.0,1.0],\"title\":{\"text\":\"\\u041a\\u043e\\u043b\\u0438\\u0447\\u0435\\u0441\\u0442\\u0432\\u043e \\u0441\\u043e\\u0431\\u044b\\u0442\\u0438\\u0439\"}},\"legend\":{\"title\":{\"text\":\"group\"},\"tracegroupgap\":0},\"title\":{\"text\":\"\\u0420\\u0430\\u0441\\u043f\\u0440\\u0435\\u0434\\u0435\\u043b\\u0435\\u043d\\u0438\\u0435 \\u0441\\u043e\\u0431\\u044b\\u0442\\u0438\\u0439 \\u043f\\u043e \\u0434\\u043d\\u044f\\u043c \\u0432 \\u0434\\u0432\\u0443\\u0445 \\u0433\\u0440\\u0443\\u043f\\u043f\\u0430\\u0445\"},\"barmode\":\"relative\"},                        {\"responsive\": true}                    ).then(function(){\n",
       "                            \n",
       "var gd = document.getElementById('fa03718f-d73e-4e87-9aea-53a77a09fb94');\n",
       "var x = new MutationObserver(function (mutations, observer) {{\n",
       "        var display = window.getComputedStyle(gd).display;\n",
       "        if (!display || display === 'none') {{\n",
       "            console.log([gd, 'removed!']);\n",
       "            Plotly.purge(gd);\n",
       "            observer.disconnect();\n",
       "        }}\n",
       "}});\n",
       "\n",
       "// Listen for the removal of the full notebook cells\n",
       "var notebookContainer = gd.closest('#notebook-container');\n",
       "if (notebookContainer) {{\n",
       "    x.observe(notebookContainer, {childList: true});\n",
       "}}\n",
       "\n",
       "// Listen for the clearing of the current output cell\n",
       "var outputEl = gd.closest('.output');\n",
       "if (outputEl) {{\n",
       "    x.observe(outputEl, {childList: true});\n",
       "}}\n",
       "\n",
       "                        })                };                });            </script>        </div>"
      ]
     },
     "metadata": {},
     "output_type": "display_data"
    }
   ],
   "source": [
    "#Построим таблицу\n",
    "count_day = fourteen_days.groupby(['first_date', 'group']).agg(count = ('event_name','count')).reset_index()\n",
    "\n",
    "#Построим график\n",
    "fig = px.bar(count_day, x=\"first_date\", y=\"count\", color = 'group', title='Распределение событий по дням в двух группах')\n",
    "fig.update_layout(xaxis_title='Дата',\n",
    "                   yaxis_title='Количество событий')\n",
    "fig.show()"
   ]
  },
  {
   "cell_type": "markdown",
   "id": "3485e3f1-1ee2-442c-a4d5-2c1009632668",
   "metadata": {},
   "source": [
    "**Вывод:**\n",
    "\n",
    "Посмотрим в разрезе дней недели.\n",
    "\n",
    "- В понедельник \n",
    "    - Группа А \n",
    "        - топ событие `Регистрация` - 1953\n",
    "    - Группа В\n",
    "        - топ событие `Регистрация`, - 782. \n",
    "- Вторник\n",
    "    - Группа А \n",
    "        - топ событие `Регистрация` - 827\n",
    "    - Группа В\n",
    "        - топ событие `Регистрация`, - 191\n",
    "- Среда\n",
    "    - Группа А \n",
    "        - топ событие `Регистрация` - 467\n",
    "    - Группа В\n",
    "        - топ событие `Регистрация`, - 655\n",
    "- Четверг\n",
    "    - Группа А \n",
    "        - топ событие `Регистрация` - 636\n",
    "    - Группа В\n",
    "        - топ событие `Регистрация`, - 155\n",
    "- Пятница\n",
    "    - Группа А \n",
    "        - топ событие `Регистрация` - 732\n",
    "    - Группа В\n",
    "        - топ событие `Регистрация`, - 133\n",
    "- Суббота\n",
    "    - Группа А \n",
    "        - топ событие `Регистрация` - 532\n",
    "    - Группа В\n",
    "        - топ событие `Регистрация`, - 115\n",
    "- Воскресенье\n",
    "    - Группа А \n",
    "        - топ событие `Регистрация` - 582\n",
    "    - Группа В\n",
    "        - топ событие `Регистрация`, - 217    \n",
    "        \n",
    "Посмотрим по общему количеству дней.\n",
    "\n",
    "Больше событий у группы А прошло 14 декабря. А у группы В 7 декабря."
   ]
  },
  {
   "cell_type": "markdown",
   "id": "10207c23-1d42-41b3-b8fd-821efc017b12",
   "metadata": {},
   "source": [
    "### Как меняется конверсия в воронке в выборках на разных этапах?"
   ]
  },
  {
   "cell_type": "code",
   "execution_count": 66,
   "id": "5c9fc16f-1d31-4774-a0fb-04dd3d678198",
   "metadata": {},
   "outputs": [],
   "source": [
    "#СОздадим таблицы, где отражены агрегировнные данные по событиям\n",
    "hopper_a = fourteen_days.query('group == \"A\"').groupby('event_name')\\\n",
    ".agg(count_events = ('event_name','count'), user_count = ('user_id','nunique')).sort_values(by = 'count_events', ascending = False)\n",
    "hopper_b = fourteen_days.query('group == \"B\"').groupby('event_name')\\\n",
    ".agg(count_events = ('event_name','count'), user_count = ('user_id','nunique')).sort_values(by = 'count_events', ascending = False)"
   ]
  },
  {
   "cell_type": "code",
   "execution_count": 67,
   "id": "65f34eac-8d7b-47fd-95ee-97f3d04dbee1",
   "metadata": {},
   "outputs": [
    {
     "data": {
      "application/vnd.plotly.v1+json": {
       "config": {
        "plotlyServerURL": "https://plot.ly"
       },
       "data": [
        {
         "name": "A",
         "opacity": 0.85,
         "textinfo": "value+percent initial",
         "type": "funnel",
         "x": [
          2747,
          1780,
          872,
          824
         ],
         "y": [
          "login",
          "product_page",
          "purchase",
          "product_cart"
         ]
        },
        {
         "name": "B",
         "opacity": 0.85,
         "textinfo": "value+percent initial",
         "type": "funnel",
         "x": [
          927,
          523,
          255,
          256
         ],
         "y": [
          "login",
          "product_page",
          "product_cart",
          "purchase"
         ]
        }
       ],
       "layout": {
        "template": {
         "data": {
          "bar": [
           {
            "error_x": {
             "color": "#2a3f5f"
            },
            "error_y": {
             "color": "#2a3f5f"
            },
            "marker": {
             "line": {
              "color": "#E5ECF6",
              "width": 0.5
             },
             "pattern": {
              "fillmode": "overlay",
              "size": 10,
              "solidity": 0.2
             }
            },
            "type": "bar"
           }
          ],
          "barpolar": [
           {
            "marker": {
             "line": {
              "color": "#E5ECF6",
              "width": 0.5
             },
             "pattern": {
              "fillmode": "overlay",
              "size": 10,
              "solidity": 0.2
             }
            },
            "type": "barpolar"
           }
          ],
          "carpet": [
           {
            "aaxis": {
             "endlinecolor": "#2a3f5f",
             "gridcolor": "white",
             "linecolor": "white",
             "minorgridcolor": "white",
             "startlinecolor": "#2a3f5f"
            },
            "baxis": {
             "endlinecolor": "#2a3f5f",
             "gridcolor": "white",
             "linecolor": "white",
             "minorgridcolor": "white",
             "startlinecolor": "#2a3f5f"
            },
            "type": "carpet"
           }
          ],
          "choropleth": [
           {
            "colorbar": {
             "outlinewidth": 0,
             "ticks": ""
            },
            "type": "choropleth"
           }
          ],
          "contour": [
           {
            "colorbar": {
             "outlinewidth": 0,
             "ticks": ""
            },
            "colorscale": [
             [
              0,
              "#0d0887"
             ],
             [
              0.1111111111111111,
              "#46039f"
             ],
             [
              0.2222222222222222,
              "#7201a8"
             ],
             [
              0.3333333333333333,
              "#9c179e"
             ],
             [
              0.4444444444444444,
              "#bd3786"
             ],
             [
              0.5555555555555556,
              "#d8576b"
             ],
             [
              0.6666666666666666,
              "#ed7953"
             ],
             [
              0.7777777777777778,
              "#fb9f3a"
             ],
             [
              0.8888888888888888,
              "#fdca26"
             ],
             [
              1,
              "#f0f921"
             ]
            ],
            "type": "contour"
           }
          ],
          "contourcarpet": [
           {
            "colorbar": {
             "outlinewidth": 0,
             "ticks": ""
            },
            "type": "contourcarpet"
           }
          ],
          "heatmap": [
           {
            "colorbar": {
             "outlinewidth": 0,
             "ticks": ""
            },
            "colorscale": [
             [
              0,
              "#0d0887"
             ],
             [
              0.1111111111111111,
              "#46039f"
             ],
             [
              0.2222222222222222,
              "#7201a8"
             ],
             [
              0.3333333333333333,
              "#9c179e"
             ],
             [
              0.4444444444444444,
              "#bd3786"
             ],
             [
              0.5555555555555556,
              "#d8576b"
             ],
             [
              0.6666666666666666,
              "#ed7953"
             ],
             [
              0.7777777777777778,
              "#fb9f3a"
             ],
             [
              0.8888888888888888,
              "#fdca26"
             ],
             [
              1,
              "#f0f921"
             ]
            ],
            "type": "heatmap"
           }
          ],
          "heatmapgl": [
           {
            "colorbar": {
             "outlinewidth": 0,
             "ticks": ""
            },
            "colorscale": [
             [
              0,
              "#0d0887"
             ],
             [
              0.1111111111111111,
              "#46039f"
             ],
             [
              0.2222222222222222,
              "#7201a8"
             ],
             [
              0.3333333333333333,
              "#9c179e"
             ],
             [
              0.4444444444444444,
              "#bd3786"
             ],
             [
              0.5555555555555556,
              "#d8576b"
             ],
             [
              0.6666666666666666,
              "#ed7953"
             ],
             [
              0.7777777777777778,
              "#fb9f3a"
             ],
             [
              0.8888888888888888,
              "#fdca26"
             ],
             [
              1,
              "#f0f921"
             ]
            ],
            "type": "heatmapgl"
           }
          ],
          "histogram": [
           {
            "marker": {
             "pattern": {
              "fillmode": "overlay",
              "size": 10,
              "solidity": 0.2
             }
            },
            "type": "histogram"
           }
          ],
          "histogram2d": [
           {
            "colorbar": {
             "outlinewidth": 0,
             "ticks": ""
            },
            "colorscale": [
             [
              0,
              "#0d0887"
             ],
             [
              0.1111111111111111,
              "#46039f"
             ],
             [
              0.2222222222222222,
              "#7201a8"
             ],
             [
              0.3333333333333333,
              "#9c179e"
             ],
             [
              0.4444444444444444,
              "#bd3786"
             ],
             [
              0.5555555555555556,
              "#d8576b"
             ],
             [
              0.6666666666666666,
              "#ed7953"
             ],
             [
              0.7777777777777778,
              "#fb9f3a"
             ],
             [
              0.8888888888888888,
              "#fdca26"
             ],
             [
              1,
              "#f0f921"
             ]
            ],
            "type": "histogram2d"
           }
          ],
          "histogram2dcontour": [
           {
            "colorbar": {
             "outlinewidth": 0,
             "ticks": ""
            },
            "colorscale": [
             [
              0,
              "#0d0887"
             ],
             [
              0.1111111111111111,
              "#46039f"
             ],
             [
              0.2222222222222222,
              "#7201a8"
             ],
             [
              0.3333333333333333,
              "#9c179e"
             ],
             [
              0.4444444444444444,
              "#bd3786"
             ],
             [
              0.5555555555555556,
              "#d8576b"
             ],
             [
              0.6666666666666666,
              "#ed7953"
             ],
             [
              0.7777777777777778,
              "#fb9f3a"
             ],
             [
              0.8888888888888888,
              "#fdca26"
             ],
             [
              1,
              "#f0f921"
             ]
            ],
            "type": "histogram2dcontour"
           }
          ],
          "mesh3d": [
           {
            "colorbar": {
             "outlinewidth": 0,
             "ticks": ""
            },
            "type": "mesh3d"
           }
          ],
          "parcoords": [
           {
            "line": {
             "colorbar": {
              "outlinewidth": 0,
              "ticks": ""
             }
            },
            "type": "parcoords"
           }
          ],
          "pie": [
           {
            "automargin": true,
            "type": "pie"
           }
          ],
          "scatter": [
           {
            "marker": {
             "colorbar": {
              "outlinewidth": 0,
              "ticks": ""
             }
            },
            "type": "scatter"
           }
          ],
          "scatter3d": [
           {
            "line": {
             "colorbar": {
              "outlinewidth": 0,
              "ticks": ""
             }
            },
            "marker": {
             "colorbar": {
              "outlinewidth": 0,
              "ticks": ""
             }
            },
            "type": "scatter3d"
           }
          ],
          "scattercarpet": [
           {
            "marker": {
             "colorbar": {
              "outlinewidth": 0,
              "ticks": ""
             }
            },
            "type": "scattercarpet"
           }
          ],
          "scattergeo": [
           {
            "marker": {
             "colorbar": {
              "outlinewidth": 0,
              "ticks": ""
             }
            },
            "type": "scattergeo"
           }
          ],
          "scattergl": [
           {
            "marker": {
             "colorbar": {
              "outlinewidth": 0,
              "ticks": ""
             }
            },
            "type": "scattergl"
           }
          ],
          "scattermapbox": [
           {
            "marker": {
             "colorbar": {
              "outlinewidth": 0,
              "ticks": ""
             }
            },
            "type": "scattermapbox"
           }
          ],
          "scatterpolar": [
           {
            "marker": {
             "colorbar": {
              "outlinewidth": 0,
              "ticks": ""
             }
            },
            "type": "scatterpolar"
           }
          ],
          "scatterpolargl": [
           {
            "marker": {
             "colorbar": {
              "outlinewidth": 0,
              "ticks": ""
             }
            },
            "type": "scatterpolargl"
           }
          ],
          "scatterternary": [
           {
            "marker": {
             "colorbar": {
              "outlinewidth": 0,
              "ticks": ""
             }
            },
            "type": "scatterternary"
           }
          ],
          "surface": [
           {
            "colorbar": {
             "outlinewidth": 0,
             "ticks": ""
            },
            "colorscale": [
             [
              0,
              "#0d0887"
             ],
             [
              0.1111111111111111,
              "#46039f"
             ],
             [
              0.2222222222222222,
              "#7201a8"
             ],
             [
              0.3333333333333333,
              "#9c179e"
             ],
             [
              0.4444444444444444,
              "#bd3786"
             ],
             [
              0.5555555555555556,
              "#d8576b"
             ],
             [
              0.6666666666666666,
              "#ed7953"
             ],
             [
              0.7777777777777778,
              "#fb9f3a"
             ],
             [
              0.8888888888888888,
              "#fdca26"
             ],
             [
              1,
              "#f0f921"
             ]
            ],
            "type": "surface"
           }
          ],
          "table": [
           {
            "cells": {
             "fill": {
              "color": "#EBF0F8"
             },
             "line": {
              "color": "white"
             }
            },
            "header": {
             "fill": {
              "color": "#C8D4E3"
             },
             "line": {
              "color": "white"
             }
            },
            "type": "table"
           }
          ]
         },
         "layout": {
          "annotationdefaults": {
           "arrowcolor": "#2a3f5f",
           "arrowhead": 0,
           "arrowwidth": 1
          },
          "autotypenumbers": "strict",
          "coloraxis": {
           "colorbar": {
            "outlinewidth": 0,
            "ticks": ""
           }
          },
          "colorscale": {
           "diverging": [
            [
             0,
             "#8e0152"
            ],
            [
             0.1,
             "#c51b7d"
            ],
            [
             0.2,
             "#de77ae"
            ],
            [
             0.3,
             "#f1b6da"
            ],
            [
             0.4,
             "#fde0ef"
            ],
            [
             0.5,
             "#f7f7f7"
            ],
            [
             0.6,
             "#e6f5d0"
            ],
            [
             0.7,
             "#b8e186"
            ],
            [
             0.8,
             "#7fbc41"
            ],
            [
             0.9,
             "#4d9221"
            ],
            [
             1,
             "#276419"
            ]
           ],
           "sequential": [
            [
             0,
             "#0d0887"
            ],
            [
             0.1111111111111111,
             "#46039f"
            ],
            [
             0.2222222222222222,
             "#7201a8"
            ],
            [
             0.3333333333333333,
             "#9c179e"
            ],
            [
             0.4444444444444444,
             "#bd3786"
            ],
            [
             0.5555555555555556,
             "#d8576b"
            ],
            [
             0.6666666666666666,
             "#ed7953"
            ],
            [
             0.7777777777777778,
             "#fb9f3a"
            ],
            [
             0.8888888888888888,
             "#fdca26"
            ],
            [
             1,
             "#f0f921"
            ]
           ],
           "sequentialminus": [
            [
             0,
             "#0d0887"
            ],
            [
             0.1111111111111111,
             "#46039f"
            ],
            [
             0.2222222222222222,
             "#7201a8"
            ],
            [
             0.3333333333333333,
             "#9c179e"
            ],
            [
             0.4444444444444444,
             "#bd3786"
            ],
            [
             0.5555555555555556,
             "#d8576b"
            ],
            [
             0.6666666666666666,
             "#ed7953"
            ],
            [
             0.7777777777777778,
             "#fb9f3a"
            ],
            [
             0.8888888888888888,
             "#fdca26"
            ],
            [
             1,
             "#f0f921"
            ]
           ]
          },
          "colorway": [
           "#636efa",
           "#EF553B",
           "#00cc96",
           "#ab63fa",
           "#FFA15A",
           "#19d3f3",
           "#FF6692",
           "#B6E880",
           "#FF97FF",
           "#FECB52"
          ],
          "font": {
           "color": "#2a3f5f"
          },
          "geo": {
           "bgcolor": "white",
           "lakecolor": "white",
           "landcolor": "#E5ECF6",
           "showlakes": true,
           "showland": true,
           "subunitcolor": "white"
          },
          "hoverlabel": {
           "align": "left"
          },
          "hovermode": "closest",
          "mapbox": {
           "style": "light"
          },
          "paper_bgcolor": "white",
          "plot_bgcolor": "#E5ECF6",
          "polar": {
           "angularaxis": {
            "gridcolor": "white",
            "linecolor": "white",
            "ticks": ""
           },
           "bgcolor": "#E5ECF6",
           "radialaxis": {
            "gridcolor": "white",
            "linecolor": "white",
            "ticks": ""
           }
          },
          "scene": {
           "xaxis": {
            "backgroundcolor": "#E5ECF6",
            "gridcolor": "white",
            "gridwidth": 2,
            "linecolor": "white",
            "showbackground": true,
            "ticks": "",
            "zerolinecolor": "white"
           },
           "yaxis": {
            "backgroundcolor": "#E5ECF6",
            "gridcolor": "white",
            "gridwidth": 2,
            "linecolor": "white",
            "showbackground": true,
            "ticks": "",
            "zerolinecolor": "white"
           },
           "zaxis": {
            "backgroundcolor": "#E5ECF6",
            "gridcolor": "white",
            "gridwidth": 2,
            "linecolor": "white",
            "showbackground": true,
            "ticks": "",
            "zerolinecolor": "white"
           }
          },
          "shapedefaults": {
           "line": {
            "color": "#2a3f5f"
           }
          },
          "ternary": {
           "aaxis": {
            "gridcolor": "white",
            "linecolor": "white",
            "ticks": ""
           },
           "baxis": {
            "gridcolor": "white",
            "linecolor": "white",
            "ticks": ""
           },
           "bgcolor": "#E5ECF6",
           "caxis": {
            "gridcolor": "white",
            "linecolor": "white",
            "ticks": ""
           }
          },
          "title": {
           "x": 0.05
          },
          "xaxis": {
           "automargin": true,
           "gridcolor": "white",
           "linecolor": "white",
           "ticks": "",
           "title": {
            "standoff": 15
           },
           "zerolinecolor": "white",
           "zerolinewidth": 2
          },
          "yaxis": {
           "automargin": true,
           "gridcolor": "white",
           "linecolor": "white",
           "ticks": "",
           "title": {
            "standoff": 15
           },
           "zerolinecolor": "white",
           "zerolinewidth": 2
          }
         }
        }
       }
      },
      "text/html": [
       "<div>                            <div id=\"4fc096b6-8fb7-4a11-81f4-161dcdc8e794\" class=\"plotly-graph-div\" style=\"height:525px; width:100%;\"></div>            <script type=\"text/javascript\">                require([\"plotly\"], function(Plotly) {                    window.PLOTLYENV=window.PLOTLYENV || {};                                    if (document.getElementById(\"4fc096b6-8fb7-4a11-81f4-161dcdc8e794\")) {                    Plotly.newPlot(                        \"4fc096b6-8fb7-4a11-81f4-161dcdc8e794\",                        [{\"name\":\"A\",\"opacity\":0.85,\"textinfo\":\"value+percent initial\",\"x\":[2747,1780,872,824],\"y\":[\"login\",\"product_page\",\"purchase\",\"product_cart\"],\"type\":\"funnel\"},{\"name\":\"B\",\"opacity\":0.85,\"textinfo\":\"value+percent initial\",\"x\":[927,523,255,256],\"y\":[\"login\",\"product_page\",\"product_cart\",\"purchase\"],\"type\":\"funnel\"}],                        {\"template\":{\"data\":{\"bar\":[{\"error_x\":{\"color\":\"#2a3f5f\"},\"error_y\":{\"color\":\"#2a3f5f\"},\"marker\":{\"line\":{\"color\":\"#E5ECF6\",\"width\":0.5},\"pattern\":{\"fillmode\":\"overlay\",\"size\":10,\"solidity\":0.2}},\"type\":\"bar\"}],\"barpolar\":[{\"marker\":{\"line\":{\"color\":\"#E5ECF6\",\"width\":0.5},\"pattern\":{\"fillmode\":\"overlay\",\"size\":10,\"solidity\":0.2}},\"type\":\"barpolar\"}],\"carpet\":[{\"aaxis\":{\"endlinecolor\":\"#2a3f5f\",\"gridcolor\":\"white\",\"linecolor\":\"white\",\"minorgridcolor\":\"white\",\"startlinecolor\":\"#2a3f5f\"},\"baxis\":{\"endlinecolor\":\"#2a3f5f\",\"gridcolor\":\"white\",\"linecolor\":\"white\",\"minorgridcolor\":\"white\",\"startlinecolor\":\"#2a3f5f\"},\"type\":\"carpet\"}],\"choropleth\":[{\"colorbar\":{\"outlinewidth\":0,\"ticks\":\"\"},\"type\":\"choropleth\"}],\"contour\":[{\"colorbar\":{\"outlinewidth\":0,\"ticks\":\"\"},\"colorscale\":[[0.0,\"#0d0887\"],[0.1111111111111111,\"#46039f\"],[0.2222222222222222,\"#7201a8\"],[0.3333333333333333,\"#9c179e\"],[0.4444444444444444,\"#bd3786\"],[0.5555555555555556,\"#d8576b\"],[0.6666666666666666,\"#ed7953\"],[0.7777777777777778,\"#fb9f3a\"],[0.8888888888888888,\"#fdca26\"],[1.0,\"#f0f921\"]],\"type\":\"contour\"}],\"contourcarpet\":[{\"colorbar\":{\"outlinewidth\":0,\"ticks\":\"\"},\"type\":\"contourcarpet\"}],\"heatmap\":[{\"colorbar\":{\"outlinewidth\":0,\"ticks\":\"\"},\"colorscale\":[[0.0,\"#0d0887\"],[0.1111111111111111,\"#46039f\"],[0.2222222222222222,\"#7201a8\"],[0.3333333333333333,\"#9c179e\"],[0.4444444444444444,\"#bd3786\"],[0.5555555555555556,\"#d8576b\"],[0.6666666666666666,\"#ed7953\"],[0.7777777777777778,\"#fb9f3a\"],[0.8888888888888888,\"#fdca26\"],[1.0,\"#f0f921\"]],\"type\":\"heatmap\"}],\"heatmapgl\":[{\"colorbar\":{\"outlinewidth\":0,\"ticks\":\"\"},\"colorscale\":[[0.0,\"#0d0887\"],[0.1111111111111111,\"#46039f\"],[0.2222222222222222,\"#7201a8\"],[0.3333333333333333,\"#9c179e\"],[0.4444444444444444,\"#bd3786\"],[0.5555555555555556,\"#d8576b\"],[0.6666666666666666,\"#ed7953\"],[0.7777777777777778,\"#fb9f3a\"],[0.8888888888888888,\"#fdca26\"],[1.0,\"#f0f921\"]],\"type\":\"heatmapgl\"}],\"histogram\":[{\"marker\":{\"pattern\":{\"fillmode\":\"overlay\",\"size\":10,\"solidity\":0.2}},\"type\":\"histogram\"}],\"histogram2d\":[{\"colorbar\":{\"outlinewidth\":0,\"ticks\":\"\"},\"colorscale\":[[0.0,\"#0d0887\"],[0.1111111111111111,\"#46039f\"],[0.2222222222222222,\"#7201a8\"],[0.3333333333333333,\"#9c179e\"],[0.4444444444444444,\"#bd3786\"],[0.5555555555555556,\"#d8576b\"],[0.6666666666666666,\"#ed7953\"],[0.7777777777777778,\"#fb9f3a\"],[0.8888888888888888,\"#fdca26\"],[1.0,\"#f0f921\"]],\"type\":\"histogram2d\"}],\"histogram2dcontour\":[{\"colorbar\":{\"outlinewidth\":0,\"ticks\":\"\"},\"colorscale\":[[0.0,\"#0d0887\"],[0.1111111111111111,\"#46039f\"],[0.2222222222222222,\"#7201a8\"],[0.3333333333333333,\"#9c179e\"],[0.4444444444444444,\"#bd3786\"],[0.5555555555555556,\"#d8576b\"],[0.6666666666666666,\"#ed7953\"],[0.7777777777777778,\"#fb9f3a\"],[0.8888888888888888,\"#fdca26\"],[1.0,\"#f0f921\"]],\"type\":\"histogram2dcontour\"}],\"mesh3d\":[{\"colorbar\":{\"outlinewidth\":0,\"ticks\":\"\"},\"type\":\"mesh3d\"}],\"parcoords\":[{\"line\":{\"colorbar\":{\"outlinewidth\":0,\"ticks\":\"\"}},\"type\":\"parcoords\"}],\"pie\":[{\"automargin\":true,\"type\":\"pie\"}],\"scatter\":[{\"marker\":{\"colorbar\":{\"outlinewidth\":0,\"ticks\":\"\"}},\"type\":\"scatter\"}],\"scatter3d\":[{\"line\":{\"colorbar\":{\"outlinewidth\":0,\"ticks\":\"\"}},\"marker\":{\"colorbar\":{\"outlinewidth\":0,\"ticks\":\"\"}},\"type\":\"scatter3d\"}],\"scattercarpet\":[{\"marker\":{\"colorbar\":{\"outlinewidth\":0,\"ticks\":\"\"}},\"type\":\"scattercarpet\"}],\"scattergeo\":[{\"marker\":{\"colorbar\":{\"outlinewidth\":0,\"ticks\":\"\"}},\"type\":\"scattergeo\"}],\"scattergl\":[{\"marker\":{\"colorbar\":{\"outlinewidth\":0,\"ticks\":\"\"}},\"type\":\"scattergl\"}],\"scattermapbox\":[{\"marker\":{\"colorbar\":{\"outlinewidth\":0,\"ticks\":\"\"}},\"type\":\"scattermapbox\"}],\"scatterpolar\":[{\"marker\":{\"colorbar\":{\"outlinewidth\":0,\"ticks\":\"\"}},\"type\":\"scatterpolar\"}],\"scatterpolargl\":[{\"marker\":{\"colorbar\":{\"outlinewidth\":0,\"ticks\":\"\"}},\"type\":\"scatterpolargl\"}],\"scatterternary\":[{\"marker\":{\"colorbar\":{\"outlinewidth\":0,\"ticks\":\"\"}},\"type\":\"scatterternary\"}],\"surface\":[{\"colorbar\":{\"outlinewidth\":0,\"ticks\":\"\"},\"colorscale\":[[0.0,\"#0d0887\"],[0.1111111111111111,\"#46039f\"],[0.2222222222222222,\"#7201a8\"],[0.3333333333333333,\"#9c179e\"],[0.4444444444444444,\"#bd3786\"],[0.5555555555555556,\"#d8576b\"],[0.6666666666666666,\"#ed7953\"],[0.7777777777777778,\"#fb9f3a\"],[0.8888888888888888,\"#fdca26\"],[1.0,\"#f0f921\"]],\"type\":\"surface\"}],\"table\":[{\"cells\":{\"fill\":{\"color\":\"#EBF0F8\"},\"line\":{\"color\":\"white\"}},\"header\":{\"fill\":{\"color\":\"#C8D4E3\"},\"line\":{\"color\":\"white\"}},\"type\":\"table\"}]},\"layout\":{\"annotationdefaults\":{\"arrowcolor\":\"#2a3f5f\",\"arrowhead\":0,\"arrowwidth\":1},\"autotypenumbers\":\"strict\",\"coloraxis\":{\"colorbar\":{\"outlinewidth\":0,\"ticks\":\"\"}},\"colorscale\":{\"diverging\":[[0,\"#8e0152\"],[0.1,\"#c51b7d\"],[0.2,\"#de77ae\"],[0.3,\"#f1b6da\"],[0.4,\"#fde0ef\"],[0.5,\"#f7f7f7\"],[0.6,\"#e6f5d0\"],[0.7,\"#b8e186\"],[0.8,\"#7fbc41\"],[0.9,\"#4d9221\"],[1,\"#276419\"]],\"sequential\":[[0.0,\"#0d0887\"],[0.1111111111111111,\"#46039f\"],[0.2222222222222222,\"#7201a8\"],[0.3333333333333333,\"#9c179e\"],[0.4444444444444444,\"#bd3786\"],[0.5555555555555556,\"#d8576b\"],[0.6666666666666666,\"#ed7953\"],[0.7777777777777778,\"#fb9f3a\"],[0.8888888888888888,\"#fdca26\"],[1.0,\"#f0f921\"]],\"sequentialminus\":[[0.0,\"#0d0887\"],[0.1111111111111111,\"#46039f\"],[0.2222222222222222,\"#7201a8\"],[0.3333333333333333,\"#9c179e\"],[0.4444444444444444,\"#bd3786\"],[0.5555555555555556,\"#d8576b\"],[0.6666666666666666,\"#ed7953\"],[0.7777777777777778,\"#fb9f3a\"],[0.8888888888888888,\"#fdca26\"],[1.0,\"#f0f921\"]]},\"colorway\":[\"#636efa\",\"#EF553B\",\"#00cc96\",\"#ab63fa\",\"#FFA15A\",\"#19d3f3\",\"#FF6692\",\"#B6E880\",\"#FF97FF\",\"#FECB52\"],\"font\":{\"color\":\"#2a3f5f\"},\"geo\":{\"bgcolor\":\"white\",\"lakecolor\":\"white\",\"landcolor\":\"#E5ECF6\",\"showlakes\":true,\"showland\":true,\"subunitcolor\":\"white\"},\"hoverlabel\":{\"align\":\"left\"},\"hovermode\":\"closest\",\"mapbox\":{\"style\":\"light\"},\"paper_bgcolor\":\"white\",\"plot_bgcolor\":\"#E5ECF6\",\"polar\":{\"angularaxis\":{\"gridcolor\":\"white\",\"linecolor\":\"white\",\"ticks\":\"\"},\"bgcolor\":\"#E5ECF6\",\"radialaxis\":{\"gridcolor\":\"white\",\"linecolor\":\"white\",\"ticks\":\"\"}},\"scene\":{\"xaxis\":{\"backgroundcolor\":\"#E5ECF6\",\"gridcolor\":\"white\",\"gridwidth\":2,\"linecolor\":\"white\",\"showbackground\":true,\"ticks\":\"\",\"zerolinecolor\":\"white\"},\"yaxis\":{\"backgroundcolor\":\"#E5ECF6\",\"gridcolor\":\"white\",\"gridwidth\":2,\"linecolor\":\"white\",\"showbackground\":true,\"ticks\":\"\",\"zerolinecolor\":\"white\"},\"zaxis\":{\"backgroundcolor\":\"#E5ECF6\",\"gridcolor\":\"white\",\"gridwidth\":2,\"linecolor\":\"white\",\"showbackground\":true,\"ticks\":\"\",\"zerolinecolor\":\"white\"}},\"shapedefaults\":{\"line\":{\"color\":\"#2a3f5f\"}},\"ternary\":{\"aaxis\":{\"gridcolor\":\"white\",\"linecolor\":\"white\",\"ticks\":\"\"},\"baxis\":{\"gridcolor\":\"white\",\"linecolor\":\"white\",\"ticks\":\"\"},\"bgcolor\":\"#E5ECF6\",\"caxis\":{\"gridcolor\":\"white\",\"linecolor\":\"white\",\"ticks\":\"\"}},\"title\":{\"x\":0.05},\"xaxis\":{\"automargin\":true,\"gridcolor\":\"white\",\"linecolor\":\"white\",\"ticks\":\"\",\"title\":{\"standoff\":15},\"zerolinecolor\":\"white\",\"zerolinewidth\":2},\"yaxis\":{\"automargin\":true,\"gridcolor\":\"white\",\"linecolor\":\"white\",\"ticks\":\"\",\"title\":{\"standoff\":15},\"zerolinecolor\":\"white\",\"zerolinewidth\":2}}}},                        {\"responsive\": true}                    ).then(function(){\n",
       "                            \n",
       "var gd = document.getElementById('4fc096b6-8fb7-4a11-81f4-161dcdc8e794');\n",
       "var x = new MutationObserver(function (mutations, observer) {{\n",
       "        var display = window.getComputedStyle(gd).display;\n",
       "        if (!display || display === 'none') {{\n",
       "            console.log([gd, 'removed!']);\n",
       "            Plotly.purge(gd);\n",
       "            observer.disconnect();\n",
       "        }}\n",
       "}});\n",
       "\n",
       "// Listen for the removal of the full notebook cells\n",
       "var notebookContainer = gd.closest('#notebook-container');\n",
       "if (notebookContainer) {{\n",
       "    x.observe(notebookContainer, {childList: true});\n",
       "}}\n",
       "\n",
       "// Listen for the clearing of the current output cell\n",
       "var outputEl = gd.closest('.output');\n",
       "if (outputEl) {{\n",
       "    x.observe(outputEl, {childList: true});\n",
       "}}\n",
       "\n",
       "                        })                };                });            </script>        </div>"
      ]
     },
     "metadata": {},
     "output_type": "display_data"
    }
   ],
   "source": [
    "#Построим график\n",
    "fig = go.Figure()\n",
    "\n",
    "fig.add_trace(go.Funnel(\n",
    "    name = 'A', y = hopper_a.index, x = hopper_a['user_count'],\n",
    "    opacity = 0.85, textinfo = \"value+percent initial\"))\n",
    "\n",
    "fig.add_trace(go.Funnel(\n",
    "    name = 'B', y = hopper_b.index, x = hopper_b['user_count'],\n",
    "    opacity = 0.85, textinfo = \"value+percent initial\"))\n",
    "\n",
    "fig.show() "
   ]
  },
  {
   "cell_type": "markdown",
   "id": "fc1ae9ae-f1dc-48ab-8d7d-209975ac96bb",
   "metadata": {},
   "source": [
    "Воронка конверсии определенно показывает нам, что первоочередным событием является регистарция, потом идет просмотр страницы продукта, покупка и просмотр продуктовой карточки. И только 30% в группе А и 28% в группе В от всех зарегистрированных пользователей совершают покупку. Больше всего падает конверсия из просмотра карточки в покупку 51% у группы А и 52% в группе В. 10% роста конверсий метрик не обнаружено."
   ]
  },
  {
   "cell_type": "markdown",
   "id": "f5682b15-659a-4571-a94b-e911837a3c04",
   "metadata": {},
   "source": [
    "### Какие особенности данных нужно учесть, прежде чем приступать к A/B-тестированию?"
   ]
  },
  {
   "cell_type": "markdown",
   "id": "15bdd889-cce6-496a-bcbc-83a0bb990a6e",
   "metadata": {},
   "source": [
    "1. Тест попал под маркетинговую компанию `Christmas&New Year Promo EU` и `CIS New Year Gift Lottery` \n",
    "2. Было запущено два теста\n",
    "3. Группа А имеет внушительный перевес "
   ]
  },
  {
   "cell_type": "markdown",
   "id": "54dc9387-a0ba-4ff7-ae3a-133c349df37f",
   "metadata": {},
   "source": [
    "## Проведите оценку результатов A/B-тестирования"
   ]
  },
  {
   "cell_type": "markdown",
   "id": "80cd48d3-7a6a-45d4-a7b7-a502480137db",
   "metadata": {},
   "source": [
    "### Что можно сказать про результаты A/B-тестирования?"
   ]
  },
  {
   "cell_type": "code",
   "execution_count": 68,
   "id": "0374a9fa-caa9-4812-9072-05a552f1a232",
   "metadata": {},
   "outputs": [
    {
     "name": "stdout",
     "output_type": "stream",
     "text": [
      "Группа А - рост количества событий - регистрация: 16.3 %\n",
      "Группа В - рост количества событий - регистрация: 26.1 %\n",
      "\n",
      "Группа А - рост количества событий - просмотр страницы товара: 12.8 %\n",
      "Группа В - рост количества событий - просмотр страницы товара: 20.0 %\n",
      "\n",
      "Группа А - рост количества событий - просмотр карточки продукта: 16.0 %\n",
      "Группа В - рост количества событий - просмотр карточки продукта: 26.8 %\n",
      "\n",
      "Группа А - рост количества событий - покупка товара: 8.4 %\n",
      "Группа В - рост количества событий - покупка товара: 12.3 %\n"
     ]
    },
    {
     "name": "stderr",
     "output_type": "stream",
     "text": [
      "/tmp/ipykernel_48/2169365368.py:7: SettingWithCopyWarning:\n",
      "\n",
      "\n",
      "A value is trying to be set on a copy of a slice from a DataFrame.\n",
      "Try using .loc[row_indexer,col_indexer] = value instead\n",
      "\n",
      "See the caveats in the documentation: https://pandas.pydata.org/pandas-docs/stable/user_guide/indexing.html#returning-a-view-versus-a-copy\n",
      "\n",
      "/tmp/ipykernel_48/2169365368.py:21: SettingWithCopyWarning:\n",
      "\n",
      "\n",
      "A value is trying to be set on a copy of a slice from a DataFrame.\n",
      "Try using .loc[row_indexer,col_indexer] = value instead\n",
      "\n",
      "See the caveats in the documentation: https://pandas.pydata.org/pandas-docs/stable/user_guide/indexing.html#returning-a-view-versus-a-copy\n",
      "\n",
      "/tmp/ipykernel_48/2169365368.py:35: SettingWithCopyWarning:\n",
      "\n",
      "\n",
      "A value is trying to be set on a copy of a slice from a DataFrame.\n",
      "Try using .loc[row_indexer,col_indexer] = value instead\n",
      "\n",
      "See the caveats in the documentation: https://pandas.pydata.org/pandas-docs/stable/user_guide/indexing.html#returning-a-view-versus-a-copy\n",
      "\n",
      "/tmp/ipykernel_48/2169365368.py:49: SettingWithCopyWarning:\n",
      "\n",
      "\n",
      "A value is trying to be set on a copy of a slice from a DataFrame.\n",
      "Try using .loc[row_indexer,col_indexer] = value instead\n",
      "\n",
      "See the caveats in the documentation: https://pandas.pydata.org/pandas-docs/stable/user_guide/indexing.html#returning-a-view-versus-a-copy\n",
      "\n"
     ]
    }
   ],
   "source": [
    "#создадим таблицу\n",
    "convers = fourteen_days.groupby(['lifetime', 'group', 'event_name'], as_index=False)['user_id'].count().rename(columns={'user_id':'events_count'})\n",
    "\n",
    "#таблица с событием login\n",
    "login = convers.query('event_name == \"login\"')\n",
    "#добавим расчет cumsum от количества событий\n",
    "login['events_cumsum'] = login.groupby('group')['events_count'].cumsum()\n",
    "\n",
    "# расчёт роста количества событий login для двух групп за 14 дней лайфтайма\n",
    "a_log = round((login.iloc[-2]['events_cumsum'] - login.iloc[0]['events_cumsum']) \n",
    "                        / login.iloc[0]['events_cumsum'], 3) \n",
    "\n",
    "b_log = round((login.iloc[-1]['events_cumsum'] - login.iloc[1]['events_cumsum']) \n",
    "                        / login.iloc[1]['events_cumsum'], 3) \n",
    "\n",
    "\n",
    "\n",
    "#таблица с событием product_page\n",
    "product_pages = convers.query('event_name == \"product_page\"')\n",
    "#добавляем расчёт cumsum от количества событий\n",
    "product_pages['events_cumsum'] = product_pages.groupby('group')['events_count'].cumsum()\n",
    "\n",
    "# расчёт роста количества событий product_pages для двух групп за 14 дней лайфтайма\n",
    "a_prod_page = round((product_pages.iloc[-2]['events_cumsum'] - product_pages.iloc[0]['events_cumsum']) \n",
    "                        / product_pages.iloc[0]['events_cumsum'], 3) \n",
    "\n",
    "b_prod_page = round((product_pages.iloc[-1]['events_cumsum'] - product_pages.iloc[1]['events_cumsum']) \n",
    "                        / product_pages.iloc[1]['events_cumsum'], 3) \n",
    "\n",
    "\n",
    "\n",
    "#таблица с событием product_cart\n",
    "product_carts = convers.query('event_name == \"product_cart\"')\n",
    "#добавляем расчёт cumsum от количества событий\n",
    "product_carts['events_cumsum'] = product_carts.groupby('group')['events_count'].cumsum()\n",
    "\n",
    "# расчёт роста количества событий product_pages для двух групп за 14 дней лайфтайма\n",
    "a_product_cart = round((product_carts.iloc[-2]['events_cumsum'] - product_carts.iloc[0]['events_cumsum']) \n",
    "                        / product_carts.iloc[0]['events_cumsum'], 3) \n",
    "\n",
    "b_product_cart = round((product_carts.iloc[-1]['events_cumsum'] - product_carts.iloc[1]['events_cumsum']) \n",
    "                        / product_carts.iloc[1]['events_cumsum'], 3) \n",
    "\n",
    "\n",
    "\n",
    "#таблица с событием purchases\n",
    "purchases_  = convers.query('event_name == \"purchase\"')\n",
    "#добавляем расчёт cumsum от количества событий\n",
    "purchases_['events_cumsum'] = purchases_.groupby('group')['events_count'].cumsum()\n",
    "\n",
    "# расчёт роста количества событий product_pages для двух групп за 14 дней лайфтайма\n",
    "a_purchases = round((purchases_.iloc[-2]['events_cumsum'] - purchases_.iloc[0]['events_cumsum']) \n",
    "                        / purchases_.iloc[0]['events_cumsum'], 3) \n",
    "\n",
    "b_purchases = round((purchases_.iloc[-1]['events_cumsum'] - purchases_.iloc[1]['events_cumsum']) \n",
    "                        / purchases_.iloc[1]['events_cumsum'], 3) \n",
    "\n",
    "\n",
    "print(\"Группа А - рост количества событий - регистрация:\", round((a_log - 1)*100,2),'%')\n",
    "print(\"Группа В - рост количества событий - регистрация:\", round((b_log - 1)*100,2),'%')\n",
    "print(\"\")\n",
    "print(\"Группа А - рост количества событий - просмотр страницы товара:\", round((a_prod_page - 1)*100,2),'%')\n",
    "print(\"Группа В - рост количества событий - просмотр страницы товара:\", round((b_prod_page - 1)*100,2),'%')\n",
    "print(\"\")\n",
    "print(\"Группа А - рост количества событий - просмотр карточки продукта:\", round((a_product_cart - 1)*100,2),'%')\n",
    "print(\"Группа В - рост количества событий - просмотр карточки продукта:\", round((b_product_cart - 1)*100,2),'%')\n",
    "print(\"\")\n",
    "print(\"Группа А - рост количества событий - покупка товара:\", round((a_purchases - 1)*100,2),'%')\n",
    "print(\"Группа В - рост количества событий - покупка товара:\", round((b_purchases - 1)*100,2),'%')\n"
   ]
  },
  {
   "cell_type": "code",
   "execution_count": 77,
   "id": "9bdff9ff",
   "metadata": {
    "scrolled": false
   },
   "outputs": [
    {
     "name": "stdout",
     "output_type": "stream",
     "text": [
      "Группа А - рост количества событий - login: 16.3 %\n",
      "Группа В - рост количества событий - login: 26.1 %\n",
      "\n",
      "Группа А - рост количества событий - product_page: 12.8 %\n",
      "Группа В - рост количества событий - product_page: 20.0 %\n",
      "\n",
      "Группа А - рост количества событий - product_cart: 16.0 %\n",
      "Группа В - рост количества событий - product_cart: 26.8 %\n",
      "\n",
      "Группа А - рост количества событий - purchase: 8.4 %\n",
      "Группа В - рост количества событий - purchase: 12.3 %\n",
      "\n"
     ]
    },
    {
     "name": "stderr",
     "output_type": "stream",
     "text": [
      "/tmp/ipykernel_48/3180822016.py:6: SettingWithCopyWarning:\n",
      "\n",
      "\n",
      "A value is trying to be set on a copy of a slice from a DataFrame.\n",
      "Try using .loc[row_indexer,col_indexer] = value instead\n",
      "\n",
      "See the caveats in the documentation: https://pandas.pydata.org/pandas-docs/stable/user_guide/indexing.html#returning-a-view-versus-a-copy\n",
      "\n"
     ]
    }
   ],
   "source": [
    "# Автоматизируем процесс\n",
    "def think_rev(event_name):\n",
    "    \n",
    "    funnel = convers.query('event_name == @event_name')\n",
    "    #добавим расчет cumsum от количества событий\n",
    "    funnel['events_cumsum'] = funnel.groupby('group')['events_count'].cumsum()\n",
    "\n",
    "    # расчёт роста количества событий login для двух групп за 14 дней лайфтайма\n",
    "    a_log = round((funnel.iloc[-2]['events_cumsum'] - funnel.iloc[0]['events_cumsum']) \n",
    "                            / funnel.iloc[0]['events_cumsum'], 3) \n",
    "\n",
    "    b_log = round((funnel.iloc[-1]['events_cumsum'] - funnel.iloc[1]['events_cumsum']) \n",
    "                            / funnel.iloc[1]['events_cumsum'], 3) \n",
    "    \n",
    "    print(f\"Группа А - рост количества событий - {event_name}:\", round((a_log - 1)*100,2),'%')\n",
    "    print(f\"Группа В - рост количества событий - {event_name}:\", round((b_log - 1)*100,2),'%')\n",
    "    print(\"\")   \n",
    "\n",
    "\n",
    "think_rev('login')\n",
    "think_rev('product_page')\n",
    "think_rev('product_cart')\n",
    "think_rev('purchase')"
   ]
  },
  {
   "cell_type": "markdown",
   "id": "cfc297ee-9109-47a2-b826-83bc4db790a0",
   "metadata": {},
   "source": [
    "**Вывод:**\n",
    "\n",
    "Рост количества событий `Регистрация`\n",
    "- Группа А - 16.3 %\n",
    "- Группа В - 26.1 %\n",
    "\n",
    "Рост количества событий `Просмотр страницы товара`\n",
    "- Группа А - 12.8 %\n",
    "- Группа В - 20.0 %\n",
    "\n",
    "Рост количества событий `Просмотр карточки продукта`\n",
    "- Группа А - 16.0 %\n",
    "- Группа В - 26.8 %\n",
    "\n",
    "Рост количества событий `Покупка товара`\n",
    "- Группа А - 8.4 %\n",
    "- Группа В - 12.3 %"
   ]
  },
  {
   "cell_type": "markdown",
   "id": "47fad48d-610b-4f6d-a9f4-24bff86662b0",
   "metadata": {},
   "source": [
    "### Проверьте статистическую разницу долей z-критерием."
   ]
  },
  {
   "cell_type": "markdown",
   "id": "71235297-1ce7-41e5-9e2f-08b40354fe60",
   "metadata": {},
   "source": [
    "На данном этапе мы проведем сравнение пропорций для следующих метрик:\n",
    "    `login`,\n",
    "     `product_page` ,\n",
    "     `product_cart`,\n",
    "     `purchase`."
   ]
  },
  {
   "cell_type": "markdown",
   "id": "8aa58228-1660-40d5-9041-99fca5f16923",
   "metadata": {},
   "source": [
    "**Нулевая гипотеза**: Доли значений метрик в группах равны.\n",
    "\n",
    "**Альтернативная гипотеза**: Доли значений метрик в группах не равны.\n",
    "\n",
    "**Альфа**: Обозначим за 0.5, а метрики у нас 4, 0.5/4 = 0,13"
   ]
  },
  {
   "cell_type": "code",
   "execution_count": 78,
   "id": "54d6d0e6-6a78-4805-81db-9335d6c4e305",
   "metadata": {},
   "outputs": [],
   "source": [
    "#построим таблицу liftime, group и количество событий\n",
    "count_users = (fourteen_days.groupby(['lifetime','group'], as_index=False)['user_id'].nunique()\n",
    "               .rename(columns={'user_id':'users_count'}))\n"
   ]
  },
  {
   "cell_type": "code",
   "execution_count": 79,
   "id": "4bc87b98-4b13-4380-82f4-6caa4852a76a",
   "metadata": {},
   "outputs": [],
   "source": [
    "#события типа login\n",
    "login = login.merge(count_users, on=['lifetime', 'group'])\n",
    "login['event_by_user'] = login['events_count'] / login['users_count']\n",
    "\n",
    "#события типа product_page\n",
    "product_pages = product_pages.merge(count_users, on=['lifetime', 'group'])\n",
    "product_pages['event_by_user'] = product_pages['events_count'] / product_pages['users_count']\n",
    "\n",
    "#события типа product_cart\n",
    "product_carts = product_carts.merge(count_users, on=['lifetime', 'group'])\n",
    "product_carts['event_by_user'] = product_carts['events_count'] / product_carts['users_count']\n",
    "\n",
    "#события типа purchase\n",
    "purchases_ = purchases_.merge(count_users, on=['lifetime', 'group'])\n",
    "purchases_['event_by_user'] = purchases_['events_count'] / purchases_['users_count']"
   ]
  },
  {
   "cell_type": "code",
   "execution_count": 80,
   "id": "9d0d6311-7ed5-4b0b-987f-54603835d6ce",
   "metadata": {},
   "outputs": [
    {
     "name": "stdout",
     "output_type": "stream",
     "text": [
      "Тип события login\n"
     ]
    },
    {
     "data": {
      "text/plain": [
       "group\n",
       "A    0.999936\n",
       "B    0.999172\n",
       "Name: event_by_user, dtype: float64"
      ]
     },
     "metadata": {},
     "output_type": "display_data"
    },
    {
     "name": "stdout",
     "output_type": "stream",
     "text": [
      "##################################################\n",
      "\n",
      "Тип события product_pages\n"
     ]
    },
    {
     "data": {
      "text/plain": [
       "group\n",
       "A    0.632933\n",
       "B    0.538362\n",
       "Name: event_by_user, dtype: float64"
      ]
     },
     "metadata": {},
     "output_type": "display_data"
    },
    {
     "name": "stdout",
     "output_type": "stream",
     "text": [
      "##################################################\n",
      "\n",
      "Тип события product_carts\n"
     ]
    },
    {
     "data": {
      "text/plain": [
       "group\n",
       "A    0.274869\n",
       "B    0.291066\n",
       "Name: event_by_user, dtype: float64"
      ]
     },
     "metadata": {},
     "output_type": "display_data"
    },
    {
     "name": "stdout",
     "output_type": "stream",
     "text": [
      "##################################################\n",
      "\n",
      "Тип события purchases\n"
     ]
    },
    {
     "data": {
      "text/plain": [
       "group\n",
       "A    0.272584\n",
       "B    0.263668\n",
       "Name: event_by_user, dtype: float64"
      ]
     },
     "metadata": {},
     "output_type": "display_data"
    }
   ],
   "source": [
    "# смотрим на средние значения ключевых метрик\n",
    "print('Тип события login')\n",
    "display(login.groupby('group')['event_by_user'].mean())\n",
    "print('#'*50)\n",
    "print('')\n",
    "print('Тип события product_pages')\n",
    "display(product_pages.groupby('group')['event_by_user'].mean())\n",
    "print('#'*50)\n",
    "print('')\n",
    "print('Тип события product_carts')\n",
    "display(product_carts.groupby('group')['event_by_user'].mean())\n",
    "print('#'*50)\n",
    "print('')\n",
    "print('Тип события purchases')\n",
    "display(purchases_.groupby('group')['event_by_user'].mean())"
   ]
  },
  {
   "cell_type": "markdown",
   "id": "81a14b6e-27f0-4de7-9a53-2cb20f5ceb82",
   "metadata": {},
   "source": [
    "Наибольшее отличие в количестве событий имеет метрика product_carts."
   ]
  },
  {
   "cell_type": "code",
   "execution_count": 81,
   "id": "8d61eeec-d5d6-4ae8-af24-912e5888e9ed",
   "metadata": {},
   "outputs": [],
   "source": [
    "#приступим к расчет z - теста\n",
    "def test_z(df):\n",
    "    z = ztest(df.query('group == \"A\"')['event_by_user'], df.query('group == \"B\"')['event_by_user'], value=0)[1]\n",
    "    print(\"p-value:\", z)"
   ]
  },
  {
   "cell_type": "code",
   "execution_count": 82,
   "id": "2129f134-6858-433d-8e49-c4bc940b73b7",
   "metadata": {},
   "outputs": [
    {
     "name": "stdout",
     "output_type": "stream",
     "text": [
      "p-value: 0.2351186977094617\n"
     ]
    }
   ],
   "source": [
    "#Стат. разница между выборками типов login\n",
    "test_z(login)"
   ]
  },
  {
   "cell_type": "code",
   "execution_count": 83,
   "id": "cb8a7687-d23d-46fe-8e27-c773caf4471d",
   "metadata": {},
   "outputs": [
    {
     "name": "stdout",
     "output_type": "stream",
     "text": [
      "p-value: 0.00044194877853921796\n"
     ]
    }
   ],
   "source": [
    "#Стат. разница между выборками типов product_pages\n",
    "test_z(product_pages)"
   ]
  },
  {
   "cell_type": "code",
   "execution_count": 84,
   "id": "9a978c47-097a-4bf2-9c22-f6de4be1fd8e",
   "metadata": {},
   "outputs": [
    {
     "name": "stdout",
     "output_type": "stream",
     "text": [
      "p-value: 0.45802870383641603\n"
     ]
    }
   ],
   "source": [
    "#Стат. разница между выборками типов product_carts\n",
    "test_z(product_carts)"
   ]
  },
  {
   "cell_type": "code",
   "execution_count": 85,
   "id": "0d991a8f-e90b-4482-a6a2-d6ab6afe4026",
   "metadata": {},
   "outputs": [
    {
     "name": "stdout",
     "output_type": "stream",
     "text": [
      "p-value: 0.7305785686680758\n"
     ]
    }
   ],
   "source": [
    "#Стат. разница между выборками типов product_carts\n",
    "test_z(purchases_)"
   ]
  },
  {
   "cell_type": "markdown",
   "id": "0c76f703-8569-4ebc-bcbb-2d594418d7f1",
   "metadata": {},
   "source": [
    "**Вывод**\n",
    "\n",
    "Из 4 рассматриваемых метрик, только одна метрика `product_pages` оказалась меньше альфы, доли этой метрики имеют большую разницу, в отличии от остальных."
   ]
  },
  {
   "cell_type": "markdown",
   "id": "e7228cf1-129d-44ac-bc29-d0e2fde78215",
   "metadata": {},
   "source": [
    "## Общий вывод"
   ]
  },
  {
   "cell_type": "markdown",
   "id": "880cb578-0216-4f2c-80af-cb993ffd0bc8",
   "metadata": {},
   "source": [
    "Вывод будет описан по каждому модулю проекта, всего их 6:\n",
    "1. Вводная часть: указали цель исследования, ТЗ и описание данных\n",
    "\n",
    "2. Исследование данных/Предобработка\n",
    "    * подгрузили 4 датассета\n",
    "    * преобразовали типы данных, вчастности заменили все типы столбцов с датой\n",
    "    * посмотрели на пропуски - были только в столбце details 377577 шт, природа их наличия ясна (наличие заполненых строк в details обосновано тем, что там помечается сумма покупки в долларах)\n",
    "\n",
    "3. Оценка корректности проведения теста\n",
    "    * Проверили данные требований ТЗ на соответствие (узнали, что проводилось два теста: `recommender_system_test` и `interface_eu_test`)\n",
    "    * Количество пользователей принимавших участие в двух тестах 1602\n",
    "    * Дата запуска 2020-12-07\n",
    "    * Дата остновки набора 2020-12-21\n",
    "    * Аудитория теста у новых пользователей с Европы равна 15%, что соответствует ТЗ\n",
    "    * Ожидаемое количество участников теста: 6000. У нас количество участиков 6701.\n",
    "    * В временной интервал проведения теста попали две акции Christmas&New Year Promo и CIS New Year Gift Lottery. Но первая акция окажет большее влиияние, нежели чем вторая, потому что данная акция проводилась именно в Европе.\n",
    "    * пользователей, которые входят в группу А и В теста  recommender_system_test не обнаружено\n",
    "    * пользователи в группах распеределены не равномерно А 3824 пользователя - 57% от общего количества, а в группе В 2877 - 43%\n",
    "\n",
    "4. Исследовательский анализ данных\n",
    "    * количество событий на пользователя не совсем одинаково распределены в выборках\n",
    "        * Событие Регистрация между группами различается: 2.16(A) и 2.22(B) - Группа В лидирует.\n",
    "        * В событиях product_cart, product_page, purchase лидирует группа А.\n",
    "    * события по дням недели распределены весьма хаотично, например в понедельник выполняется событий больше , чем в остальные дни недели\n",
    "    * что касается распределения событий по общему количеству днейЮ который имеется в датассете , большая часть событий была 14 декабря у группы А и 7 декабря у группы В.\n",
    "    * Воронка конверсии определенно показывает нам, что первоочередным событием является регистарция, потом идет просмотр страницы продукта, покупка и просмотр продуктовой карточки. И только 30% в группе А и 28% в группе В от всех зарегистрированных пользователей совершают покупку. Больше всего падает конверсия из просмотра карточки в покупку 51% у группы А и 52% в группе В.\n",
    "\n",
    "5. Оценка результатов A/B-тестирования\n",
    "    * Рост количества событий в целом преобладает у группы В\n",
    "        * Рост количества событий Регистрация\n",
    "            * Группа А - 16.3 %\n",
    "            * Группа В - 26.1 %\n",
    "        * Рост количества событий Просмотр страницы товара\n",
    "            * Группа А - 12.8 %\n",
    "            * Группа В - 20.0 %\n",
    "        * Рост количества событий Просмотр карточки продукта\n",
    "            * Группа А - 16.0 %\n",
    "            * Группа В - 26.8 %\n",
    "        * Рост количества событий Покупка товара\n",
    "            * Группа А - 8.4 %\n",
    "            * Группа В - 12.3 %\n",
    "\n",
    "При проверке статистической разницы долей z-критерием, мы определили из 4 рассматриваемых метрик, только одна метрика product_pages оказалась меньше альфы, доли этой метрики имеют большую разницу, в отличии от остальных, в целом по результатам А/В теста лучшей из двух групп по показателям 4 метрик - аявляется группа А, однако сам тест не является корректным, пожтому и результаты не совсем однозначны. Например в группе А было больше пользователей чем в группе В, количество участников было более 6000, как ожидалось, активность проявляло в разы меньше."
   ]
  }
 ],
 "metadata": {
  "ExecuteTimeLog": [
   {
    "duration": 1206,
    "start_time": "2023-05-03T18:34:24.571Z"
   },
   {
    "duration": 1621,
    "start_time": "2023-05-03T18:34:25.780Z"
   },
   {
    "duration": 210,
    "start_time": "2023-05-03T18:34:27.403Z"
   },
   {
    "duration": 10,
    "start_time": "2023-05-03T18:34:27.616Z"
   },
   {
    "duration": 25,
    "start_time": "2023-05-03T18:34:27.633Z"
   },
   {
    "duration": 191,
    "start_time": "2023-05-03T18:34:27.662Z"
   },
   {
    "duration": 398,
    "start_time": "2023-05-03T18:34:27.855Z"
   },
   {
    "duration": 72,
    "start_time": "2023-05-03T18:34:28.255Z"
   },
   {
    "duration": 97,
    "start_time": "2023-05-03T18:34:28.337Z"
   },
   {
    "duration": 40,
    "start_time": "2023-05-03T18:34:28.441Z"
   },
   {
    "duration": 63,
    "start_time": "2023-05-03T18:34:28.485Z"
   },
   {
    "duration": 10,
    "start_time": "2023-05-03T18:34:28.556Z"
   },
   {
    "duration": 10,
    "start_time": "2023-05-03T18:34:28.568Z"
   },
   {
    "duration": 10,
    "start_time": "2023-05-03T18:34:28.582Z"
   },
   {
    "duration": 44,
    "start_time": "2023-05-03T18:34:28.595Z"
   },
   {
    "duration": 11,
    "start_time": "2023-05-03T18:34:28.645Z"
   },
   {
    "duration": 19,
    "start_time": "2023-05-03T18:34:28.659Z"
   },
   {
    "duration": 9,
    "start_time": "2023-05-03T18:34:28.685Z"
   },
   {
    "duration": 36,
    "start_time": "2023-05-03T18:34:28.699Z"
   },
   {
    "duration": 21,
    "start_time": "2023-05-03T18:34:28.738Z"
   },
   {
    "duration": 46,
    "start_time": "2023-05-03T18:34:28.761Z"
   },
   {
    "duration": 272,
    "start_time": "2023-05-03T18:34:28.810Z"
   },
   {
    "duration": 47,
    "start_time": "2023-05-03T18:34:29.085Z"
   },
   {
    "duration": 41,
    "start_time": "2023-05-03T18:34:29.136Z"
   },
   {
    "duration": 100,
    "start_time": "2023-05-03T18:34:29.179Z"
   },
   {
    "duration": 680,
    "start_time": "2023-05-03T18:34:29.281Z"
   },
   {
    "duration": 108,
    "start_time": "2023-05-03T18:34:29.964Z"
   },
   {
    "duration": 446,
    "start_time": "2023-05-03T18:34:30.075Z"
   },
   {
    "duration": 109,
    "start_time": "2023-05-03T18:34:30.528Z"
   },
   {
    "duration": 42,
    "start_time": "2023-05-03T18:34:30.639Z"
   },
   {
    "duration": 34,
    "start_time": "2023-05-03T18:34:30.683Z"
   },
   {
    "duration": 78,
    "start_time": "2023-05-03T18:34:30.720Z"
   },
   {
    "duration": 21,
    "start_time": "2023-05-03T18:34:30.811Z"
   },
   {
    "duration": 38,
    "start_time": "2023-05-03T18:34:30.834Z"
   },
   {
    "duration": 67,
    "start_time": "2023-05-03T18:34:30.874Z"
   },
   {
    "duration": 15,
    "start_time": "2023-05-03T18:34:30.942Z"
   },
   {
    "duration": 38,
    "start_time": "2023-05-03T18:34:30.961Z"
   },
   {
    "duration": 65,
    "start_time": "2023-05-03T18:34:31.006Z"
   },
   {
    "duration": 62,
    "start_time": "2023-05-03T18:34:31.073Z"
   },
   {
    "duration": 43,
    "start_time": "2023-05-03T18:34:31.137Z"
   },
   {
    "duration": 72,
    "start_time": "2023-05-04T05:23:49.280Z"
   },
   {
    "duration": 49,
    "start_time": "2023-05-04T05:27:11.339Z"
   },
   {
    "duration": 38,
    "start_time": "2023-05-04T05:36:21.035Z"
   },
   {
    "duration": 983,
    "start_time": "2023-05-04T05:36:27.154Z"
   },
   {
    "duration": 2032,
    "start_time": "2023-05-04T05:36:28.139Z"
   },
   {
    "duration": 137,
    "start_time": "2023-05-04T05:36:30.173Z"
   },
   {
    "duration": 4,
    "start_time": "2023-05-04T05:36:30.312Z"
   },
   {
    "duration": 29,
    "start_time": "2023-05-04T05:36:30.318Z"
   },
   {
    "duration": 148,
    "start_time": "2023-05-04T05:36:30.349Z"
   },
   {
    "duration": 270,
    "start_time": "2023-05-04T05:36:30.499Z"
   },
   {
    "duration": 40,
    "start_time": "2023-05-04T05:36:30.770Z"
   },
   {
    "duration": 63,
    "start_time": "2023-05-04T05:36:30.812Z"
   },
   {
    "duration": 31,
    "start_time": "2023-05-04T05:36:30.877Z"
   },
   {
    "duration": 27,
    "start_time": "2023-05-04T05:36:30.909Z"
   },
   {
    "duration": 4,
    "start_time": "2023-05-04T05:36:30.938Z"
   },
   {
    "duration": 68,
    "start_time": "2023-05-04T05:36:30.943Z"
   },
   {
    "duration": 45,
    "start_time": "2023-05-04T05:36:31.013Z"
   },
   {
    "duration": 32,
    "start_time": "2023-05-04T05:36:31.060Z"
   },
   {
    "duration": 24,
    "start_time": "2023-05-04T05:36:31.093Z"
   },
   {
    "duration": 31,
    "start_time": "2023-05-04T05:36:31.118Z"
   },
   {
    "duration": 53,
    "start_time": "2023-05-04T05:36:31.151Z"
   },
   {
    "duration": 48,
    "start_time": "2023-05-04T05:36:31.206Z"
   },
   {
    "duration": 43,
    "start_time": "2023-05-04T05:36:31.255Z"
   },
   {
    "duration": 37,
    "start_time": "2023-05-04T05:36:31.300Z"
   },
   {
    "duration": 172,
    "start_time": "2023-05-04T05:36:31.338Z"
   },
   {
    "duration": 22,
    "start_time": "2023-05-04T05:36:31.512Z"
   },
   {
    "duration": 44,
    "start_time": "2023-05-04T05:36:31.535Z"
   },
   {
    "duration": 76,
    "start_time": "2023-05-04T05:36:31.580Z"
   },
   {
    "duration": 246,
    "start_time": "2023-05-04T05:36:31.658Z"
   },
   {
    "duration": 100,
    "start_time": "2023-05-04T05:36:31.906Z"
   },
   {
    "duration": 365,
    "start_time": "2023-05-04T05:36:32.010Z"
   },
   {
    "duration": 65,
    "start_time": "2023-05-04T05:36:32.376Z"
   },
   {
    "duration": 27,
    "start_time": "2023-05-04T05:36:32.443Z"
   },
   {
    "duration": 28,
    "start_time": "2023-05-04T05:36:32.471Z"
   },
   {
    "duration": 43,
    "start_time": "2023-05-04T05:36:32.500Z"
   },
   {
    "duration": 12,
    "start_time": "2023-05-04T05:36:32.545Z"
   },
   {
    "duration": 41,
    "start_time": "2023-05-04T05:36:32.559Z"
   },
   {
    "duration": 23,
    "start_time": "2023-05-04T05:36:32.601Z"
   },
   {
    "duration": 2,
    "start_time": "2023-05-04T05:36:32.626Z"
   },
   {
    "duration": 10,
    "start_time": "2023-05-04T05:36:32.629Z"
   },
   {
    "duration": 8,
    "start_time": "2023-05-04T05:36:32.640Z"
   },
   {
    "duration": 7,
    "start_time": "2023-05-04T05:36:32.649Z"
   },
   {
    "duration": 43,
    "start_time": "2023-05-04T05:36:32.657Z"
   },
   {
    "duration": 14,
    "start_time": "2023-05-04T05:40:18.952Z"
   },
   {
    "duration": 28,
    "start_time": "2023-05-04T05:45:50.354Z"
   },
   {
    "duration": 13,
    "start_time": "2023-05-04T05:53:53.716Z"
   },
   {
    "duration": 14,
    "start_time": "2023-05-04T05:55:22.361Z"
   },
   {
    "duration": 9,
    "start_time": "2023-05-04T05:55:26.133Z"
   },
   {
    "duration": 4,
    "start_time": "2023-05-04T05:56:04.355Z"
   },
   {
    "duration": 1362,
    "start_time": "2023-05-04T05:56:04.361Z"
   },
   {
    "duration": 145,
    "start_time": "2023-05-04T05:56:05.725Z"
   },
   {
    "duration": 4,
    "start_time": "2023-05-04T05:56:05.872Z"
   },
   {
    "duration": 19,
    "start_time": "2023-05-04T05:56:05.896Z"
   },
   {
    "duration": 110,
    "start_time": "2023-05-04T05:56:05.917Z"
   },
   {
    "duration": 266,
    "start_time": "2023-05-04T05:56:06.029Z"
   },
   {
    "duration": 32,
    "start_time": "2023-05-04T05:56:06.297Z"
   },
   {
    "duration": 67,
    "start_time": "2023-05-04T05:56:06.330Z"
   },
   {
    "duration": 16,
    "start_time": "2023-05-04T05:56:06.398Z"
   },
   {
    "duration": 38,
    "start_time": "2023-05-04T05:56:06.417Z"
   },
   {
    "duration": 5,
    "start_time": "2023-05-04T05:56:06.457Z"
   },
   {
    "duration": 32,
    "start_time": "2023-05-04T05:56:06.464Z"
   },
   {
    "duration": 27,
    "start_time": "2023-05-04T05:56:06.497Z"
   },
   {
    "duration": 14,
    "start_time": "2023-05-04T05:56:06.526Z"
   },
   {
    "duration": 5,
    "start_time": "2023-05-04T05:56:06.542Z"
   },
   {
    "duration": 23,
    "start_time": "2023-05-04T05:56:06.548Z"
   },
   {
    "duration": 10,
    "start_time": "2023-05-04T05:56:06.572Z"
   },
   {
    "duration": 14,
    "start_time": "2023-05-04T05:56:06.584Z"
   },
   {
    "duration": 20,
    "start_time": "2023-05-04T05:56:06.601Z"
   },
   {
    "duration": 24,
    "start_time": "2023-05-04T05:56:06.623Z"
   },
   {
    "duration": 22,
    "start_time": "2023-05-04T05:56:06.649Z"
   },
   {
    "duration": 144,
    "start_time": "2023-05-04T05:56:06.673Z"
   },
   {
    "duration": 20,
    "start_time": "2023-05-04T05:56:06.819Z"
   },
   {
    "duration": 19,
    "start_time": "2023-05-04T05:56:06.841Z"
   },
   {
    "duration": 112,
    "start_time": "2023-05-04T05:56:06.862Z"
   },
   {
    "duration": 44,
    "start_time": "2023-05-04T05:56:06.976Z"
   },
   {
    "duration": 74,
    "start_time": "2023-05-04T05:56:07.022Z"
   },
   {
    "duration": 184,
    "start_time": "2023-05-04T05:56:07.100Z"
   },
   {
    "duration": 62,
    "start_time": "2023-05-04T05:56:07.286Z"
   },
   {
    "duration": 44,
    "start_time": "2023-05-04T05:56:07.350Z"
   },
   {
    "duration": 13,
    "start_time": "2023-05-04T05:56:07.396Z"
   },
   {
    "duration": 42,
    "start_time": "2023-05-04T05:56:07.412Z"
   },
   {
    "duration": 37,
    "start_time": "2023-05-04T05:56:07.457Z"
   },
   {
    "duration": 21,
    "start_time": "2023-05-04T05:56:07.496Z"
   },
   {
    "duration": 31,
    "start_time": "2023-05-04T05:56:07.518Z"
   },
   {
    "duration": 3,
    "start_time": "2023-05-04T05:56:07.551Z"
   },
   {
    "duration": 38,
    "start_time": "2023-05-04T05:56:07.556Z"
   },
   {
    "duration": 8,
    "start_time": "2023-05-04T05:56:07.595Z"
   },
   {
    "duration": 12,
    "start_time": "2023-05-04T05:56:07.605Z"
   },
   {
    "duration": 11,
    "start_time": "2023-05-04T05:56:07.619Z"
   },
   {
    "duration": 62,
    "start_time": "2023-05-04T10:35:49.959Z"
   },
   {
    "duration": 13,
    "start_time": "2023-05-04T13:38:53.123Z"
   },
   {
    "duration": 6,
    "start_time": "2023-05-04T13:38:59.895Z"
   },
   {
    "duration": 1165,
    "start_time": "2023-05-04T13:38:59.916Z"
   },
   {
    "duration": 146,
    "start_time": "2023-05-04T13:39:01.083Z"
   },
   {
    "duration": 6,
    "start_time": "2023-05-04T13:39:01.231Z"
   },
   {
    "duration": 54,
    "start_time": "2023-05-04T13:39:01.239Z"
   },
   {
    "duration": 180,
    "start_time": "2023-05-04T13:39:01.300Z"
   },
   {
    "duration": 338,
    "start_time": "2023-05-04T13:39:01.488Z"
   },
   {
    "duration": 34,
    "start_time": "2023-05-04T13:39:01.830Z"
   },
   {
    "duration": 98,
    "start_time": "2023-05-04T13:39:01.866Z"
   },
   {
    "duration": 17,
    "start_time": "2023-05-04T13:39:01.965Z"
   },
   {
    "duration": 47,
    "start_time": "2023-05-04T13:39:01.995Z"
   },
   {
    "duration": 21,
    "start_time": "2023-05-04T13:39:02.044Z"
   },
   {
    "duration": 46,
    "start_time": "2023-05-04T13:39:02.066Z"
   },
   {
    "duration": 46,
    "start_time": "2023-05-04T13:39:02.114Z"
   },
   {
    "duration": 37,
    "start_time": "2023-05-04T13:39:02.164Z"
   },
   {
    "duration": 43,
    "start_time": "2023-05-04T13:39:02.203Z"
   },
   {
    "duration": 38,
    "start_time": "2023-05-04T13:39:02.248Z"
   },
   {
    "duration": 29,
    "start_time": "2023-05-04T13:39:02.287Z"
   },
   {
    "duration": 28,
    "start_time": "2023-05-04T13:39:02.318Z"
   },
   {
    "duration": 11,
    "start_time": "2023-05-04T13:39:02.348Z"
   },
   {
    "duration": 43,
    "start_time": "2023-05-04T13:39:02.360Z"
   },
   {
    "duration": 158,
    "start_time": "2023-05-04T13:39:02.405Z"
   },
   {
    "duration": 21,
    "start_time": "2023-05-04T13:39:02.565Z"
   },
   {
    "duration": 47,
    "start_time": "2023-05-04T13:39:02.587Z"
   },
   {
    "duration": 114,
    "start_time": "2023-05-04T13:39:02.636Z"
   },
   {
    "duration": 29,
    "start_time": "2023-05-04T13:39:02.752Z"
   },
   {
    "duration": 79,
    "start_time": "2023-05-04T13:39:02.794Z"
   },
   {
    "duration": 227,
    "start_time": "2023-05-04T13:39:02.875Z"
   },
   {
    "duration": 78,
    "start_time": "2023-05-04T13:39:03.104Z"
   },
   {
    "duration": 60,
    "start_time": "2023-05-04T13:39:03.183Z"
   },
   {
    "duration": 13,
    "start_time": "2023-05-04T13:39:03.246Z"
   },
   {
    "duration": 58,
    "start_time": "2023-05-04T13:39:03.261Z"
   },
   {
    "duration": 13,
    "start_time": "2023-05-04T13:39:03.320Z"
   },
   {
    "duration": 18,
    "start_time": "2023-05-04T13:39:03.337Z"
   },
   {
    "duration": 28,
    "start_time": "2023-05-04T13:39:03.357Z"
   },
   {
    "duration": 30,
    "start_time": "2023-05-04T13:39:03.388Z"
   },
   {
    "duration": 29,
    "start_time": "2023-05-04T13:39:03.419Z"
   },
   {
    "duration": 3,
    "start_time": "2023-05-04T13:39:03.449Z"
   },
   {
    "duration": 17,
    "start_time": "2023-05-04T13:39:03.454Z"
   },
   {
    "duration": 22,
    "start_time": "2023-05-04T13:39:03.473Z"
   },
   {
    "duration": 14,
    "start_time": "2023-05-04T13:39:03.497Z"
   },
   {
    "duration": 15,
    "start_time": "2023-05-04T13:39:03.516Z"
   },
   {
    "duration": 17,
    "start_time": "2023-05-04T13:39:20.521Z"
   },
   {
    "duration": 1371,
    "start_time": "2023-05-04T21:14:58.612Z"
   },
   {
    "duration": 1993,
    "start_time": "2023-05-04T21:14:59.986Z"
   },
   {
    "duration": 187,
    "start_time": "2023-05-04T21:15:01.981Z"
   },
   {
    "duration": 0,
    "start_time": "2023-05-04T21:15:02.172Z"
   },
   {
    "duration": 0,
    "start_time": "2023-05-04T21:15:02.174Z"
   },
   {
    "duration": 0,
    "start_time": "2023-05-04T21:15:02.176Z"
   },
   {
    "duration": 0,
    "start_time": "2023-05-04T21:15:02.178Z"
   },
   {
    "duration": 0,
    "start_time": "2023-05-04T21:15:02.180Z"
   },
   {
    "duration": 0,
    "start_time": "2023-05-04T21:15:02.182Z"
   },
   {
    "duration": 0,
    "start_time": "2023-05-04T21:15:02.183Z"
   },
   {
    "duration": 0,
    "start_time": "2023-05-04T21:15:02.185Z"
   },
   {
    "duration": 0,
    "start_time": "2023-05-04T21:15:02.186Z"
   },
   {
    "duration": 0,
    "start_time": "2023-05-04T21:15:02.187Z"
   },
   {
    "duration": 0,
    "start_time": "2023-05-04T21:15:02.189Z"
   },
   {
    "duration": 0,
    "start_time": "2023-05-04T21:15:02.190Z"
   },
   {
    "duration": 0,
    "start_time": "2023-05-04T21:15:02.192Z"
   },
   {
    "duration": 0,
    "start_time": "2023-05-04T21:15:02.193Z"
   },
   {
    "duration": 0,
    "start_time": "2023-05-04T21:15:02.194Z"
   },
   {
    "duration": 0,
    "start_time": "2023-05-04T21:15:02.195Z"
   },
   {
    "duration": 0,
    "start_time": "2023-05-04T21:15:02.196Z"
   },
   {
    "duration": 0,
    "start_time": "2023-05-04T21:15:02.197Z"
   },
   {
    "duration": 0,
    "start_time": "2023-05-04T21:15:02.198Z"
   },
   {
    "duration": 0,
    "start_time": "2023-05-04T21:15:02.199Z"
   },
   {
    "duration": 0,
    "start_time": "2023-05-04T21:15:02.202Z"
   },
   {
    "duration": 0,
    "start_time": "2023-05-04T21:15:02.203Z"
   },
   {
    "duration": 0,
    "start_time": "2023-05-04T21:15:02.204Z"
   },
   {
    "duration": 0,
    "start_time": "2023-05-04T21:15:02.205Z"
   },
   {
    "duration": 0,
    "start_time": "2023-05-04T21:15:02.206Z"
   },
   {
    "duration": 0,
    "start_time": "2023-05-04T21:15:02.209Z"
   },
   {
    "duration": 0,
    "start_time": "2023-05-04T21:15:02.210Z"
   },
   {
    "duration": 0,
    "start_time": "2023-05-04T21:15:02.211Z"
   },
   {
    "duration": 1,
    "start_time": "2023-05-04T21:15:02.212Z"
   },
   {
    "duration": 0,
    "start_time": "2023-05-04T21:15:02.213Z"
   },
   {
    "duration": 0,
    "start_time": "2023-05-04T21:15:02.214Z"
   },
   {
    "duration": 0,
    "start_time": "2023-05-04T21:15:02.220Z"
   },
   {
    "duration": 0,
    "start_time": "2023-05-04T21:15:02.221Z"
   },
   {
    "duration": 0,
    "start_time": "2023-05-04T21:15:02.222Z"
   },
   {
    "duration": 0,
    "start_time": "2023-05-04T21:15:02.223Z"
   },
   {
    "duration": 0,
    "start_time": "2023-05-04T21:15:02.224Z"
   },
   {
    "duration": 0,
    "start_time": "2023-05-04T21:15:02.225Z"
   },
   {
    "duration": 113,
    "start_time": "2023-05-05T05:14:29.038Z"
   },
   {
    "duration": 54,
    "start_time": "2023-05-05T05:14:58.232Z"
   },
   {
    "duration": 1134,
    "start_time": "2023-05-05T05:15:05.124Z"
   },
   {
    "duration": 1689,
    "start_time": "2023-05-05T05:15:06.484Z"
   },
   {
    "duration": 210,
    "start_time": "2023-05-05T05:15:08.176Z"
   },
   {
    "duration": 5,
    "start_time": "2023-05-05T05:15:17.312Z"
   },
   {
    "duration": 1547,
    "start_time": "2023-05-05T05:15:17.319Z"
   },
   {
    "duration": 235,
    "start_time": "2023-05-05T05:15:18.869Z"
   },
   {
    "duration": 10,
    "start_time": "2023-05-05T05:15:19.106Z"
   },
   {
    "duration": 35,
    "start_time": "2023-05-05T05:15:19.119Z"
   },
   {
    "duration": 168,
    "start_time": "2023-05-05T05:15:19.156Z"
   },
   {
    "duration": 459,
    "start_time": "2023-05-05T05:15:19.327Z"
   },
   {
    "duration": 68,
    "start_time": "2023-05-05T05:15:19.787Z"
   },
   {
    "duration": 134,
    "start_time": "2023-05-05T05:15:19.858Z"
   },
   {
    "duration": 41,
    "start_time": "2023-05-05T05:15:19.994Z"
   },
   {
    "duration": 77,
    "start_time": "2023-05-05T05:15:20.038Z"
   },
   {
    "duration": 6,
    "start_time": "2023-05-05T05:15:20.117Z"
   },
   {
    "duration": 27,
    "start_time": "2023-05-05T05:15:20.125Z"
   },
   {
    "duration": 57,
    "start_time": "2023-05-05T05:15:20.154Z"
   },
   {
    "duration": 61,
    "start_time": "2023-05-05T05:15:20.213Z"
   },
   {
    "duration": 53,
    "start_time": "2023-05-05T05:15:20.276Z"
   },
   {
    "duration": 116,
    "start_time": "2023-05-05T05:15:20.331Z"
   },
   {
    "duration": 76,
    "start_time": "2023-05-05T05:15:20.449Z"
   },
   {
    "duration": 26,
    "start_time": "2023-05-05T05:15:20.527Z"
   },
   {
    "duration": 82,
    "start_time": "2023-05-05T05:15:20.556Z"
   },
   {
    "duration": 55,
    "start_time": "2023-05-05T05:15:20.640Z"
   },
   {
    "duration": 221,
    "start_time": "2023-05-05T05:15:20.697Z"
   },
   {
    "duration": 28,
    "start_time": "2023-05-05T05:15:20.921Z"
   },
   {
    "duration": 83,
    "start_time": "2023-05-05T05:15:20.951Z"
   },
   {
    "duration": 145,
    "start_time": "2023-05-05T05:15:21.035Z"
   },
   {
    "duration": 392,
    "start_time": "2023-05-05T05:15:21.184Z"
   },
   {
    "duration": 125,
    "start_time": "2023-05-05T05:15:21.578Z"
   },
   {
    "duration": 460,
    "start_time": "2023-05-05T05:15:21.709Z"
   },
   {
    "duration": 84,
    "start_time": "2023-05-05T05:15:22.185Z"
   },
   {
    "duration": 76,
    "start_time": "2023-05-05T05:15:22.271Z"
   },
   {
    "duration": 76,
    "start_time": "2023-05-05T05:15:22.348Z"
   },
   {
    "duration": 131,
    "start_time": "2023-05-05T05:15:22.426Z"
   },
   {
    "duration": 164,
    "start_time": "2023-05-05T05:15:22.560Z"
   },
   {
    "duration": 0,
    "start_time": "2023-05-05T05:15:22.726Z"
   },
   {
    "duration": 0,
    "start_time": "2023-05-05T05:15:22.727Z"
   },
   {
    "duration": 0,
    "start_time": "2023-05-05T05:15:22.729Z"
   },
   {
    "duration": 0,
    "start_time": "2023-05-05T05:15:22.730Z"
   },
   {
    "duration": 0,
    "start_time": "2023-05-05T05:15:22.731Z"
   },
   {
    "duration": 0,
    "start_time": "2023-05-05T05:15:22.732Z"
   },
   {
    "duration": 0,
    "start_time": "2023-05-05T05:15:22.734Z"
   },
   {
    "duration": 0,
    "start_time": "2023-05-05T05:15:22.736Z"
   },
   {
    "duration": 1297,
    "start_time": "2023-05-19T14:09:20.636Z"
   },
   {
    "duration": 1782,
    "start_time": "2023-05-19T14:09:21.935Z"
   },
   {
    "duration": 181,
    "start_time": "2023-05-19T14:09:23.719Z"
   },
   {
    "duration": 7,
    "start_time": "2023-05-19T14:09:23.902Z"
   },
   {
    "duration": 23,
    "start_time": "2023-05-19T14:09:23.912Z"
   },
   {
    "duration": 157,
    "start_time": "2023-05-19T14:09:23.938Z"
   },
   {
    "duration": 382,
    "start_time": "2023-05-19T14:09:24.097Z"
   },
   {
    "duration": 43,
    "start_time": "2023-05-19T14:09:24.483Z"
   },
   {
    "duration": 99,
    "start_time": "2023-05-19T14:09:24.528Z"
   },
   {
    "duration": 19,
    "start_time": "2023-05-19T14:09:24.629Z"
   },
   {
    "duration": 64,
    "start_time": "2023-05-19T14:09:24.650Z"
   },
   {
    "duration": 32,
    "start_time": "2023-05-19T14:09:24.717Z"
   },
   {
    "duration": 68,
    "start_time": "2023-05-19T14:09:24.751Z"
   },
   {
    "duration": 21,
    "start_time": "2023-05-19T14:09:24.823Z"
   },
   {
    "duration": 26,
    "start_time": "2023-05-19T14:09:24.846Z"
   },
   {
    "duration": 16,
    "start_time": "2023-05-19T14:09:24.879Z"
   },
   {
    "duration": 36,
    "start_time": "2023-05-19T14:09:24.900Z"
   },
   {
    "duration": 7,
    "start_time": "2023-05-19T14:09:24.938Z"
   },
   {
    "duration": 17,
    "start_time": "2023-05-19T14:09:24.947Z"
   },
   {
    "duration": 83,
    "start_time": "2023-05-19T14:09:24.967Z"
   },
   {
    "duration": 91,
    "start_time": "2023-05-19T14:09:25.052Z"
   },
   {
    "duration": 281,
    "start_time": "2023-05-19T14:09:25.145Z"
   },
   {
    "duration": 24,
    "start_time": "2023-05-19T14:09:25.428Z"
   },
   {
    "duration": 44,
    "start_time": "2023-05-19T14:09:25.454Z"
   },
   {
    "duration": 101,
    "start_time": "2023-05-19T14:09:25.501Z"
   },
   {
    "duration": 1171,
    "start_time": "2023-05-19T14:09:25.604Z"
   },
   {
    "duration": 253,
    "start_time": "2023-05-19T14:09:26.777Z"
   },
   {
    "duration": 1812,
    "start_time": "2023-05-19T14:09:27.032Z"
   },
   {
    "duration": 91,
    "start_time": "2023-05-19T14:09:28.845Z"
   },
   {
    "duration": 51,
    "start_time": "2023-05-19T14:09:28.938Z"
   },
   {
    "duration": 36,
    "start_time": "2023-05-19T14:09:28.994Z"
   },
   {
    "duration": 85,
    "start_time": "2023-05-19T14:09:29.032Z"
   },
   {
    "duration": 271,
    "start_time": "2023-05-19T14:09:29.119Z"
   },
   {
    "duration": 0,
    "start_time": "2023-05-19T14:09:29.398Z"
   },
   {
    "duration": 0,
    "start_time": "2023-05-19T14:09:29.399Z"
   },
   {
    "duration": 0,
    "start_time": "2023-05-19T14:09:29.400Z"
   },
   {
    "duration": 0,
    "start_time": "2023-05-19T14:09:29.401Z"
   },
   {
    "duration": 0,
    "start_time": "2023-05-19T14:09:29.402Z"
   },
   {
    "duration": 0,
    "start_time": "2023-05-19T14:09:29.404Z"
   },
   {
    "duration": 0,
    "start_time": "2023-05-19T14:09:29.405Z"
   },
   {
    "duration": 0,
    "start_time": "2023-05-19T14:09:29.406Z"
   },
   {
    "duration": 26,
    "start_time": "2023-05-19T14:17:13.298Z"
   },
   {
    "duration": 16,
    "start_time": "2023-05-19T14:17:40.906Z"
   },
   {
    "duration": 69,
    "start_time": "2023-05-19T14:18:01.149Z"
   },
   {
    "duration": 29,
    "start_time": "2023-05-19T14:18:23.568Z"
   },
   {
    "duration": 40,
    "start_time": "2023-05-19T14:19:15.668Z"
   },
   {
    "duration": 26,
    "start_time": "2023-05-19T14:21:59.002Z"
   },
   {
    "duration": 56,
    "start_time": "2023-05-19T14:22:20.668Z"
   },
   {
    "duration": 36,
    "start_time": "2023-05-19T14:31:43.147Z"
   },
   {
    "duration": 53,
    "start_time": "2023-05-19T14:32:11.435Z"
   },
   {
    "duration": 64,
    "start_time": "2023-05-19T14:34:53.601Z"
   },
   {
    "duration": 45,
    "start_time": "2023-05-19T14:35:42.714Z"
   },
   {
    "duration": 1014,
    "start_time": "2023-05-22T05:19:59.417Z"
   },
   {
    "duration": 1527,
    "start_time": "2023-05-22T05:20:00.434Z"
   },
   {
    "duration": 176,
    "start_time": "2023-05-22T05:20:01.963Z"
   },
   {
    "duration": 30,
    "start_time": "2023-05-22T05:20:02.142Z"
   },
   {
    "duration": 31,
    "start_time": "2023-05-22T05:20:02.174Z"
   },
   {
    "duration": 115,
    "start_time": "2023-05-22T05:20:02.208Z"
   },
   {
    "duration": 486,
    "start_time": "2023-05-22T05:20:02.325Z"
   },
   {
    "duration": 36,
    "start_time": "2023-05-22T05:20:02.813Z"
   },
   {
    "duration": 97,
    "start_time": "2023-05-22T05:20:02.851Z"
   },
   {
    "duration": 18,
    "start_time": "2023-05-22T05:20:02.951Z"
   },
   {
    "duration": 57,
    "start_time": "2023-05-22T05:20:02.972Z"
   },
   {
    "duration": 5,
    "start_time": "2023-05-22T05:20:03.031Z"
   },
   {
    "duration": 37,
    "start_time": "2023-05-22T05:20:03.038Z"
   },
   {
    "duration": 33,
    "start_time": "2023-05-22T05:20:03.077Z"
   },
   {
    "duration": 83,
    "start_time": "2023-05-22T05:20:03.112Z"
   },
   {
    "duration": 44,
    "start_time": "2023-05-22T05:20:03.197Z"
   },
   {
    "duration": 58,
    "start_time": "2023-05-22T05:20:03.243Z"
   },
   {
    "duration": 36,
    "start_time": "2023-05-22T05:20:03.303Z"
   },
   {
    "duration": 51,
    "start_time": "2023-05-22T05:20:03.341Z"
   },
   {
    "duration": 41,
    "start_time": "2023-05-22T05:20:03.394Z"
   },
   {
    "duration": 37,
    "start_time": "2023-05-22T05:20:03.437Z"
   },
   {
    "duration": 191,
    "start_time": "2023-05-22T05:20:03.476Z"
   },
   {
    "duration": 25,
    "start_time": "2023-05-22T05:20:03.671Z"
   },
   {
    "duration": 96,
    "start_time": "2023-05-22T05:20:03.697Z"
   },
   {
    "duration": 98,
    "start_time": "2023-05-22T05:20:03.795Z"
   },
   {
    "duration": 335,
    "start_time": "2023-05-22T05:20:03.895Z"
   },
   {
    "duration": 60,
    "start_time": "2023-05-22T05:20:04.233Z"
   },
   {
    "duration": 432,
    "start_time": "2023-05-22T05:20:04.297Z"
   },
   {
    "duration": 79,
    "start_time": "2023-05-22T05:20:04.731Z"
   },
   {
    "duration": 35,
    "start_time": "2023-05-22T05:20:04.812Z"
   },
   {
    "duration": 33,
    "start_time": "2023-05-22T05:20:04.849Z"
   },
   {
    "duration": 45,
    "start_time": "2023-05-22T05:20:04.884Z"
   },
   {
    "duration": 205,
    "start_time": "2023-05-22T05:20:04.931Z"
   },
   {
    "duration": 0,
    "start_time": "2023-05-22T05:20:05.138Z"
   },
   {
    "duration": 0,
    "start_time": "2023-05-22T05:20:05.139Z"
   },
   {
    "duration": 0,
    "start_time": "2023-05-22T05:20:05.141Z"
   },
   {
    "duration": 0,
    "start_time": "2023-05-22T05:20:05.142Z"
   },
   {
    "duration": 0,
    "start_time": "2023-05-22T05:20:05.143Z"
   },
   {
    "duration": 0,
    "start_time": "2023-05-22T05:20:05.145Z"
   },
   {
    "duration": 0,
    "start_time": "2023-05-22T05:20:05.146Z"
   },
   {
    "duration": 0,
    "start_time": "2023-05-22T05:20:05.148Z"
   },
   {
    "duration": 27,
    "start_time": "2023-05-22T05:21:17.635Z"
   },
   {
    "duration": 31,
    "start_time": "2023-05-22T05:22:29.173Z"
   },
   {
    "duration": 1194,
    "start_time": "2023-05-22T05:25:08.473Z"
   },
   {
    "duration": 4,
    "start_time": "2023-05-22T05:25:21.965Z"
   },
   {
    "duration": 1362,
    "start_time": "2023-05-22T05:25:21.971Z"
   },
   {
    "duration": 143,
    "start_time": "2023-05-22T05:25:23.335Z"
   },
   {
    "duration": 5,
    "start_time": "2023-05-22T05:25:23.480Z"
   },
   {
    "duration": 43,
    "start_time": "2023-05-22T05:25:23.487Z"
   },
   {
    "duration": 99,
    "start_time": "2023-05-22T05:25:23.532Z"
   },
   {
    "duration": 335,
    "start_time": "2023-05-22T05:25:23.632Z"
   },
   {
    "duration": 38,
    "start_time": "2023-05-22T05:25:23.972Z"
   },
   {
    "duration": 89,
    "start_time": "2023-05-22T05:25:24.013Z"
   },
   {
    "duration": 20,
    "start_time": "2023-05-22T05:25:24.104Z"
   },
   {
    "duration": 68,
    "start_time": "2023-05-22T05:25:24.127Z"
   },
   {
    "duration": 5,
    "start_time": "2023-05-22T05:25:24.197Z"
   },
   {
    "duration": 15,
    "start_time": "2023-05-22T05:25:24.204Z"
   },
   {
    "duration": 14,
    "start_time": "2023-05-22T05:25:24.221Z"
   },
   {
    "duration": 12,
    "start_time": "2023-05-22T05:25:24.238Z"
   },
   {
    "duration": 21,
    "start_time": "2023-05-22T05:25:24.252Z"
   },
   {
    "duration": 17,
    "start_time": "2023-05-22T05:25:24.275Z"
   },
   {
    "duration": 7,
    "start_time": "2023-05-22T05:25:24.295Z"
   },
   {
    "duration": 14,
    "start_time": "2023-05-22T05:25:24.304Z"
   },
   {
    "duration": 15,
    "start_time": "2023-05-22T05:25:24.321Z"
   },
   {
    "duration": 51,
    "start_time": "2023-05-22T05:25:24.338Z"
   },
   {
    "duration": 202,
    "start_time": "2023-05-22T05:25:24.391Z"
   },
   {
    "duration": 25,
    "start_time": "2023-05-22T05:25:24.595Z"
   },
   {
    "duration": 21,
    "start_time": "2023-05-22T05:25:24.624Z"
   },
   {
    "duration": 101,
    "start_time": "2023-05-22T05:25:24.647Z"
   },
   {
    "duration": 35,
    "start_time": "2023-05-22T05:25:24.772Z"
   },
   {
    "duration": 74,
    "start_time": "2023-05-22T05:25:24.809Z"
   },
   {
    "duration": 151,
    "start_time": "2023-05-22T05:25:24.885Z"
   },
   {
    "duration": 84,
    "start_time": "2023-05-22T05:25:25.037Z"
   },
   {
    "duration": 48,
    "start_time": "2023-05-22T05:25:25.123Z"
   },
   {
    "duration": 14,
    "start_time": "2023-05-22T05:25:25.174Z"
   },
   {
    "duration": 53,
    "start_time": "2023-05-22T05:25:25.190Z"
   },
   {
    "duration": 1373,
    "start_time": "2023-05-22T05:25:25.244Z"
   },
   {
    "duration": 0,
    "start_time": "2023-05-22T05:25:26.619Z"
   },
   {
    "duration": 0,
    "start_time": "2023-05-22T05:25:26.620Z"
   },
   {
    "duration": 0,
    "start_time": "2023-05-22T05:25:26.621Z"
   },
   {
    "duration": 0,
    "start_time": "2023-05-22T05:25:26.622Z"
   },
   {
    "duration": 0,
    "start_time": "2023-05-22T05:25:26.624Z"
   },
   {
    "duration": 0,
    "start_time": "2023-05-22T05:25:26.626Z"
   },
   {
    "duration": 0,
    "start_time": "2023-05-22T05:25:26.627Z"
   },
   {
    "duration": 0,
    "start_time": "2023-05-22T05:25:26.629Z"
   },
   {
    "duration": 30,
    "start_time": "2023-05-22T05:25:46.752Z"
   },
   {
    "duration": 29,
    "start_time": "2023-05-22T05:26:34.865Z"
   },
   {
    "duration": 27,
    "start_time": "2023-05-22T05:26:44.565Z"
   },
   {
    "duration": 14,
    "start_time": "2023-05-22T05:26:49.745Z"
   },
   {
    "duration": 1249,
    "start_time": "2023-05-22T05:27:09.139Z"
   },
   {
    "duration": 12,
    "start_time": "2023-05-22T05:27:16.587Z"
   },
   {
    "duration": 20,
    "start_time": "2023-05-22T05:29:15.210Z"
   },
   {
    "duration": 31,
    "start_time": "2023-05-22T05:29:48.592Z"
   },
   {
    "duration": 20,
    "start_time": "2023-05-22T05:30:01.600Z"
   },
   {
    "duration": 26,
    "start_time": "2023-05-22T05:30:02.182Z"
   },
   {
    "duration": 22,
    "start_time": "2023-05-22T05:30:03.044Z"
   },
   {
    "duration": 5,
    "start_time": "2023-05-22T05:30:05.436Z"
   },
   {
    "duration": 11,
    "start_time": "2023-05-22T05:30:06.059Z"
   },
   {
    "duration": 13,
    "start_time": "2023-05-22T05:30:06.611Z"
   },
   {
    "duration": 16,
    "start_time": "2023-05-22T05:30:07.173Z"
   },
   {
    "duration": 12,
    "start_time": "2023-05-22T05:30:07.669Z"
   }
  ],
  "kernelspec": {
   "display_name": "Python 3 (ipykernel)",
   "language": "python",
   "name": "python3"
  },
  "language_info": {
   "codemirror_mode": {
    "name": "ipython",
    "version": 3
   },
   "file_extension": ".py",
   "mimetype": "text/x-python",
   "name": "python",
   "nbconvert_exporter": "python",
   "pygments_lexer": "ipython3",
   "version": "3.9.5"
  },
  "toc": {
   "base_numbering": 1,
   "nav_menu": {},
   "number_sections": true,
   "sideBar": true,
   "skip_h1_title": true,
   "title_cell": "Table of Contents",
   "title_sidebar": "Contents",
   "toc_cell": false,
   "toc_position": {
    "height": "calc(100% - 180px)",
    "left": "10px",
    "top": "150px",
    "width": "217.333px"
   },
   "toc_section_display": true,
   "toc_window_display": true
  }
 },
 "nbformat": 4,
 "nbformat_minor": 5
}
