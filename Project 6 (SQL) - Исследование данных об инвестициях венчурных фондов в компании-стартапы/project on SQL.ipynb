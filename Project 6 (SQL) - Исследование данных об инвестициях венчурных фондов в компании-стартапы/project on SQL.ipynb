{
 "cells": [
  {
   "cell_type": "markdown",
   "id": "c9fbd6fd-fab0-4184-850f-7451b17fbf58",
   "metadata": {},
   "source": [
    "# Проект SQL - исследование данных об инвестиции венчурных фондов в компании-стартапы"
   ]
  },
  {
   "cell_type": "markdown",
   "id": "3db8618b-d942-4ecd-aa52-cb001a4d64a4",
   "metadata": {},
   "source": [
    "**Цель проекта:**\n",
    "\n",
    "Сделать различные выгрузки данных с базы. \n",
    "\n",
    "\n",
    "**Описание проекта**\n",
    "\n",
    "Проект был пройден в тренажере, правильность запросов обоснована, работа идет с базой данных, которая хранит информациб о венчурных фондах и инвестициях.\n",
    "\n",
    "**Инструменты**\n",
    "\n",
    "- PostgreSQL\n",
    "- Подзапросы, JOIN-соединения"
   ]
  },
  {
   "cell_type": "markdown",
   "id": "11bf088b-10fd-4b39-8b40-219a077f6285",
   "metadata": {},
   "source": [
    "**Описание данных**\n",
    "\n",
    "`acquisition`\n",
    "\n",
    "Содержит информацию о покупках одних компаний другими.\n",
    "Таблица включает такие поля:\n",
    "\n",
    "- первичный ключ id — идентификатор или уникальный номер покупки;\n",
    "- внешний ключ acquiring_company_id — ссылается на таблицу company — идентификатор компании-покупателя, то есть той, что покупает другую компанию;\n",
    "- внешний ключ acquired_company_id — ссылается на таблицу company — идентификатор компании, которую покупают;\n",
    "- term_code — способ оплаты сделки:\n",
    "    - cash — наличными;\n",
    "    - stock — акциями компании;\n",
    "    - cash_and_stock — смешанный тип оплаты: наличные и акции.\n",
    "- price_amount — сумма покупки в долларах;\n",
    "- acquired_at — дата совершения сделки;\n",
    "- created_at — дата и время создания записи в таблице;\n",
    "- updated_at — дата и время обновления записи в таблице.\n",
    "\n",
    "---\n",
    "`company`\n",
    "\n",
    "Содержит информацию о компаниях-стартапах.\n",
    "\n",
    "- первичный ключ id — идентификатор, или уникальный номер компании;\n",
    "- name — название компании;\n",
    "- category_code — категория деятельности компании, например:\n",
    "    - news — специализируется на работе с новостями;\n",
    "    - social — специализируется на социальной работе.\n",
    "- status — статус компании:\n",
    "    - acquired — приобретена;\n",
    "    - operating — действует;\n",
    "    - ipo — вышла на IPO;\n",
    "    - closed — перестала существовать.\n",
    "- founded_at — дата основания компании;\n",
    "- closed_at — дата закрытия компании, которую указывают в том случае, если компании больше не существует;\n",
    "- domain — домен сайта компании;\n",
    "- twitter_username — название профиля компании в твиттере;\n",
    "- country_code — код страны, например, USA для США, GBR для Великобритании;\n",
    "- investment_rounds — число раундов, в которых компания участвовала как инвестор;\n",
    "- funding_rounds — число раундов, в которых компания привлекала инвестиции;\n",
    "- funding_total — сумма привлечённых инвестиций в долларах;\n",
    "- milestones — количество важных этапов в истории компании;\n",
    "- created_at — дата и время создания записи в таблице;\n",
    "- updated_at — дата и время обновления записи в таблице.\n",
    "\n",
    "---\n",
    "`education`\n",
    "\n",
    "Хранит информацию об уровне образования сотрудников компаний.\n",
    "\n",
    "- первичный ключ id — уникальный номер записи с информацией об образовании;\n",
    "- внешний ключ person_id — ссылается на таблицу people — идентификатор человека, информация о котором представлена в записи;\n",
    "- degree_type — учебная степень, например:\n",
    "    - BA — Bachelor of Arts — бакалавр гуманитарных наук;\n",
    "    - MS — Master of Science — магистр естественных наук.\n",
    "- instituition — учебное заведение, название университета;\n",
    "- graduated_at — дата завершения обучения, выпуска;\n",
    "- created_at — дата и время создания записи в таблице;\n",
    "- updated_at — дата и время обновления записи в таблице.\n",
    "\n",
    "---\n",
    "`fund`\n",
    "\n",
    "Хранит информацию о венчурных фондах. \n",
    "\n",
    "- первичный ключ id — уникальный номер венчурного фонда;\n",
    "- name — название венчурного фонда;\n",
    "- founded_at — дата основания фонда;\n",
    "- domain — домен сайта фонда;\n",
    "- twitter_username — профиль фонда в твиттере;\n",
    "- country_code — код страны фонда;\n",
    "- investment_rounds — число инвестиционных раундов, в которых фонд принимал участие;\n",
    "- invested_companies — число компаний, в которые инвестировал фонд;\n",
    "- milestones — количество важных этапов в истории фонда;\n",
    "- created_at — дата и время создания записи в таблице;\n",
    "- updated_at — дата и время обновления записи в таблице.\n",
    "\n",
    "---\n",
    "`funding_round`\n",
    "\n",
    "Содержит информацию о раундах инвестиций. \n",
    "\n",
    "- первичный ключ id — уникальный номер инвестиционного раунда;\n",
    "- внешний ключ company_id — ссылается на таблицу company — уникальный номер компании, участвовавшей в инвестиционном раунде;\n",
    "- funded_at — дата проведения раунда;\n",
    "- funding_round_type — тип инвестиционного раунда, например:\n",
    "    - venture — венчурный раунд;\n",
    "    - angel — ангельский раунд;\n",
    "    - series_a — раунд А.\n",
    "- raised_amount — сумма инвестиций, которую привлекла компания в этом раунде в долларах;\n",
    "- pre_money_valuation — предварительная, проведённая до инвестиций оценка стоимости компании в долларах;\n",
    "- participants — количество участников инвестиционного раунда;\n",
    "- is_first_round — является ли этот раунд первым для компании;\n",
    "- is_last_round — является ли этот раунд последним для компании;\n",
    "- created_at — дата и время создания записи в таблице;\n",
    "- updated_at — дата и время обновления записи в таблице.\n",
    "\n",
    "---\n",
    "`investment`\n",
    "\n",
    "Содержит информацию об инвестициях венчурных фондов в компании-стартапы.\n",
    "\n",
    "- первичный ключ id — уникальный номер инвестиции;\n",
    "- внешний ключ funding_round_id — ссылается на таблицу funding_round — уникальный номер раунда инвестиции;\n",
    "- внешний ключ company_id — ссылается на таблицу company — уникальный номер компании-стартапа, в которую инвестируют;\n",
    "- внешний ключ fund_id — ссылается на таблицу fund — уникальный номер фонда, инвестирующего в компанию-стартап;\n",
    "- created_at — дата и время создания записи в таблице;\n",
    "- updated_at — дата и время обновления записи в таблице.\n",
    "\n",
    "---\n",
    "`people`\n",
    "\n",
    "Содержит информацию о сотрудниках компаний-стартапов.\n",
    "\n",
    "- первичный ключ id — уникальный номер сотрудника;\n",
    "- first_name — имя сотрудника;\n",
    "- last_name — фамилия сотрудника;\n",
    "- внешний ключ company_id — ссылается на таблицу company — уникальный номер компании-стартапа;\n",
    "- twitter_username — профиль сотрудника в твиттере;\n",
    "- created_at — дата и время создания записи в таблице;\n",
    "- updated_at — дата и время обновления записи в таблице."
   ]
  },
  {
   "cell_type": "markdown",
   "id": "4267c200-9cb4-4bea-8bed-68b4ee80c14c",
   "metadata": {},
   "source": [
    "## Задание 1 \n",
    "Посчитайть, сколько компаний закрылось."
   ]
  },
  {
   "cell_type": "code",
   "execution_count": 34,
   "id": "8841a0c3-0353-4ec1-901e-77541f849a47",
   "metadata": {},
   "outputs": [
    {
     "data": {
      "text/plain": [
       "\"\\nSELECT \\n      COUNT(status)\\nFROM\\n      company\\nWHERE\\n      status LIKE ('%closed%')\\n\""
      ]
     },
     "execution_count": 34,
     "metadata": {},
     "output_type": "execute_result"
    }
   ],
   "source": [
    "'''\n",
    "SELECT \n",
    "      COUNT(status)\n",
    "FROM\n",
    "      company\n",
    "WHERE\n",
    "      status LIKE ('%closed%')\n",
    "'''"
   ]
  },
  {
   "cell_type": "markdown",
   "id": "c9d97da5-9e0d-4a6b-8531-babfb1019634",
   "metadata": {},
   "source": [
    "## Задание 2 \n",
    "Отобразите количество привлечённых средств для новостных компаний США. Используйте данные из таблицы company. Отсортируйте таблицу по убыванию значений в поле funding_total ."
   ]
  },
  {
   "cell_type": "code",
   "execution_count": 35,
   "id": "45fd0413-9acf-4559-b8c1-39b5e5fcdcd9",
   "metadata": {},
   "outputs": [
    {
     "data": {
      "text/plain": [
       "\"\\nSELECT \\n      funding_total\\nFROM\\n      company\\nWHERE\\n      category_code = 'news'\\n  AND country_code = 'USA'\\nORDER BY \\n      funding_total DESC;\\n\""
      ]
     },
     "execution_count": 35,
     "metadata": {},
     "output_type": "execute_result"
    }
   ],
   "source": [
    "'''\n",
    "SELECT \n",
    "      funding_total\n",
    "FROM\n",
    "      company\n",
    "WHERE\n",
    "      category_code = 'news'\n",
    "  AND country_code = 'USA'\n",
    "ORDER BY \n",
    "      funding_total DESC;\n",
    "'''"
   ]
  },
  {
   "cell_type": "markdown",
   "id": "3cf4acb4-5679-48da-9977-f4ff2e2f901d",
   "metadata": {},
   "source": [
    "## Задание 3 \n",
    "Найдите общую сумму сделок по покупке одних компаний другими в долларах. Отберите сделки, которые осуществлялись только за наличные с 2011 по 2013 год включительно."
   ]
  },
  {
   "cell_type": "code",
   "execution_count": 36,
   "id": "96a1d3b5-dd81-4cf1-9dbd-b2d0fb7f66fa",
   "metadata": {},
   "outputs": [
    {
     "data": {
      "text/plain": [
       "\"\\nSELECT \\n      SUM(price_amount)\\nFROM \\n      acquisition\\nWHERE\\n      EXTRACT(YEAR FROM CAST(acquired_at AS timestamp)) BETWEEN 2011 AND 2013\\n  AND term_code = 'cash'\\n\""
      ]
     },
     "execution_count": 36,
     "metadata": {},
     "output_type": "execute_result"
    }
   ],
   "source": [
    "'''\n",
    "SELECT \n",
    "      SUM(price_amount)\n",
    "FROM \n",
    "      acquisition\n",
    "WHERE\n",
    "      EXTRACT(YEAR FROM CAST(acquired_at AS timestamp)) BETWEEN 2011 AND 2013\n",
    "  AND term_code = 'cash'\n",
    "'''"
   ]
  },
  {
   "cell_type": "markdown",
   "id": "4be96b10-4f28-4f35-833f-6ee21ef17f21",
   "metadata": {},
   "source": [
    "## Задание 4 \n",
    "Отобразите имя, фамилию и названия аккаунтов людей в твиттере, у которых названия аккаунтов начинаются на 'Silver'."
   ]
  },
  {
   "cell_type": "code",
   "execution_count": 37,
   "id": "186f7604-8429-4c57-9270-80d1be79c4e3",
   "metadata": {},
   "outputs": [
    {
     "data": {
      "text/plain": [
       "\"\\nSELECT\\n      first_name,\\n      last_name,\\n      twitter_username\\nFROM \\n      people\\nWHERE\\n      twitter_username LIKE 'Silver%'\\n\""
      ]
     },
     "execution_count": 37,
     "metadata": {},
     "output_type": "execute_result"
    }
   ],
   "source": [
    "'''\n",
    "SELECT\n",
    "      first_name,\n",
    "      last_name,\n",
    "      twitter_username\n",
    "FROM \n",
    "      people\n",
    "WHERE\n",
    "      twitter_username LIKE 'Silver%'\n",
    "'''"
   ]
  },
  {
   "cell_type": "markdown",
   "id": "a2e68650-17ad-4254-9925-9d10ca9416c4",
   "metadata": {},
   "source": [
    "## Задание 5 \n",
    "Выведите на экран всю информацию о людях, у которых названия аккаунтов в твиттере содержат подстроку 'money', а фамилия начинается на 'K'."
   ]
  },
  {
   "cell_type": "code",
   "execution_count": 38,
   "id": "0634ac88-7b07-49aa-98f2-c027e715c325",
   "metadata": {},
   "outputs": [
    {
     "data": {
      "text/plain": [
       "\"\\nSELECT *\\nFROM \\n      people\\nWHERE\\n      twitter_username LIKE '%money%' \\n  AND last_name LIKE 'K%'\\n\""
      ]
     },
     "execution_count": 38,
     "metadata": {},
     "output_type": "execute_result"
    }
   ],
   "source": [
    "'''\n",
    "SELECT *\n",
    "FROM \n",
    "      people\n",
    "WHERE\n",
    "      twitter_username LIKE '%money%' \n",
    "  AND last_name LIKE 'K%'\n",
    "'''"
   ]
  },
  {
   "cell_type": "markdown",
   "id": "678302cc-e2c2-4889-abec-25235c957803",
   "metadata": {},
   "source": [
    "## Задание 6 \n",
    "Для каждой страны отобразите общую сумму привлечённых инвестиций, которые получили компании, зарегистрированные в этой стране. Страну, в которой зарегистрирована компания, можно определить по коду страны. Отсортируйте данные по убыванию суммы."
   ]
  },
  {
   "cell_type": "code",
   "execution_count": 39,
   "id": "04b3e093-23bc-4d74-a559-8067bd9f7c44",
   "metadata": {},
   "outputs": [
    {
     "data": {
      "text/plain": [
       "'\\nSELECT \\n      country_code,\\n      SUM(funding_total)\\nFROM\\n      company\\nGROUP BY \\n      country_code\\nORDER BY \\n      SUM(funding_total) DESC;\\n'"
      ]
     },
     "execution_count": 39,
     "metadata": {},
     "output_type": "execute_result"
    }
   ],
   "source": [
    "'''\n",
    "SELECT \n",
    "      country_code,\n",
    "      SUM(funding_total)\n",
    "FROM\n",
    "      company\n",
    "GROUP BY \n",
    "      country_code\n",
    "ORDER BY \n",
    "      SUM(funding_total) DESC;\n",
    "'''"
   ]
  },
  {
   "cell_type": "markdown",
   "id": "76cf9336-4070-4aaf-8aec-142853e1d0e1",
   "metadata": {},
   "source": [
    "## Задание 7 \n",
    "Составьте таблицу, в которую войдёт дата проведения раунда, а также минимальное и максимальное значения суммы инвестиций, привлечённых в эту дату.Оставьте в итоговой таблице только те записи, в которых минимальное значение суммы инвестиций не равно нулю и не равно максимальному значению."
   ]
  },
  {
   "cell_type": "code",
   "execution_count": 40,
   "id": "65c54bd2-252a-45aa-825b-7a526144c7e0",
   "metadata": {},
   "outputs": [
    {
     "data": {
      "text/plain": [
       "'\\nSELECT \\n      funded_at,\\n      MIN(raised_amount),\\n      MAX(raised_amount)\\nFROM\\n      funding_round\\nGROUP BY\\n      funded_at\\nHAVING \\n      MIN(raised_amount) != 0\\n  AND MIN(raised_amount) != MAX(raised_amount);\\n'"
      ]
     },
     "execution_count": 40,
     "metadata": {},
     "output_type": "execute_result"
    }
   ],
   "source": [
    "'''\n",
    "SELECT \n",
    "      funded_at,\n",
    "      MIN(raised_amount),\n",
    "      MAX(raised_amount)\n",
    "FROM\n",
    "      funding_round\n",
    "GROUP BY\n",
    "      funded_at\n",
    "HAVING \n",
    "      MIN(raised_amount) != 0\n",
    "  AND MIN(raised_amount) != MAX(raised_amount);\n",
    "'''"
   ]
  },
  {
   "cell_type": "markdown",
   "id": "0c265f07-806a-4628-bf5e-a5c94a386e04",
   "metadata": {},
   "source": [
    "## Задание 8 \n",
    "Создайте поле с категориями:\n",
    "- Для фондов, которые инвестируют в 100 и более компаний, назначьте категорию high_activity.\n",
    "- Для фондов, которые инвестируют в 20 и более компаний до 100, назначьте категорию middle_activity.\n",
    "- Если количество инвестируемых компаний фонда не достигает 20, назначьте категорию low_activity.\n",
    "\n",
    "\n",
    "Отобразите все поля таблицы fund и новое поле с категориями."
   ]
  },
  {
   "cell_type": "code",
   "execution_count": 41,
   "id": "9bfe10f3-bf79-41a0-aea2-dc5b2278720e",
   "metadata": {},
   "outputs": [
    {
     "data": {
      "text/plain": [
       "\"\\nSELECT \\n     *,\\n      CASE\\n          WHEN invested_companies < 20 THEN 'low_activity'\\n          WHEN invested_companies < 100 THEN 'middle_activity'\\n          WHEN invested_companies >= 100 THEN 'high_activity'\\n       END   \\n          \\nFROM \\n      fund;\\n\""
      ]
     },
     "execution_count": 41,
     "metadata": {},
     "output_type": "execute_result"
    }
   ],
   "source": [
    "'''\n",
    "SELECT \n",
    "     *,\n",
    "      CASE\n",
    "          WHEN invested_companies < 20 THEN 'low_activity'\n",
    "          WHEN invested_companies < 100 THEN 'middle_activity'\n",
    "          WHEN invested_companies >= 100 THEN 'high_activity'\n",
    "       END   \n",
    "          \n",
    "FROM \n",
    "      fund;\n",
    "'''"
   ]
  },
  {
   "cell_type": "markdown",
   "id": "d244e46e-aefc-4180-adc8-0eebadba62b6",
   "metadata": {},
   "source": [
    "## Задание 9\n",
    "\n",
    "Для каждой из категорий, назначенных в предыдущем задании, посчитайте округлённое до ближайшего целого числа среднее количество инвестиционных раундов, в которых фонд принимал участие. Выведите на экран категории и среднее число инвестиционных раундов. Отсортируйте таблицу по возрастанию среднего."
   ]
  },
  {
   "cell_type": "code",
   "execution_count": 42,
   "id": "de947763-733a-42b4-b336-97df0c743273",
   "metadata": {},
   "outputs": [
    {
     "data": {
      "text/plain": [
       "\"\\nSELECT \\n       CASE\\n           WHEN invested_companies>=100 THEN 'high_activity'\\n           WHEN invested_companies>=20 THEN 'middle_activity'\\n           ELSE 'low_activity'\\n       END AS activity,\\n       ROUND(AVG(investment_rounds))\\n       \\nFROM fund\\n\\nGROUP BY \\n      activity\\nORDER BY\\n      AVG(investment_rounds) ASC;\\n\""
      ]
     },
     "execution_count": 42,
     "metadata": {},
     "output_type": "execute_result"
    }
   ],
   "source": [
    "'''\n",
    "SELECT \n",
    "       CASE\n",
    "           WHEN invested_companies>=100 THEN 'high_activity'\n",
    "           WHEN invested_companies>=20 THEN 'middle_activity'\n",
    "           ELSE 'low_activity'\n",
    "       END AS activity,\n",
    "       ROUND(AVG(investment_rounds))\n",
    "       \n",
    "FROM fund\n",
    "\n",
    "GROUP BY \n",
    "      activity\n",
    "ORDER BY\n",
    "      AVG(investment_rounds) ASC;\n",
    "'''"
   ]
  },
  {
   "cell_type": "markdown",
   "id": "f07729f8-7914-48b6-b6d9-573bd22cafe9",
   "metadata": {},
   "source": [
    "## Задание 10\n",
    "\n",
    "Проанализируйте, в каких странах находятся фонды, которые чаще всего инвестируют в стартапы. \n",
    "Для каждой страны посчитайте минимальное, максимальное и среднее число компаний, в которые инвестировали фонды этой страны, основанные с 2010 по 2012 год включительно. Исключите страны с фондами, у которых минимальное число компаний, получивших инвестиции, равно нулю. \n",
    "Выгрузите десять самых активных стран-инвесторов: отсортируйте таблицу по среднему количеству компаний от большего к меньшему. Затем добавьте сортировку по коду страны в лексикографическом порядке."
   ]
  },
  {
   "cell_type": "code",
   "execution_count": 43,
   "id": "45787d42-d1b2-4afe-a898-bc7c13f6c09c",
   "metadata": {},
   "outputs": [
    {
     "data": {
      "text/plain": [
       "'\\nSELECT \\n      country_code,\\n      MIN(invested_companies),\\n      MAX(invested_companies),\\n      AVG(invested_companies)      \\n      \\nFROM fund     \\nWHERE\\n      EXTRACT(YEAR FROM CAST(founded_at AS timestamp)) BETWEEN 2010 AND 2012\\nGROUP BY  \\n      country_code \\nHAVING\\n      MIN(invested_companies) != 0\\nORDER BY \\n      AVG(invested_companies) DESC,\\n      country_code ASC\\nLIMIT 10;\\n'"
      ]
     },
     "execution_count": 43,
     "metadata": {},
     "output_type": "execute_result"
    }
   ],
   "source": [
    "'''\n",
    "SELECT \n",
    "      country_code,\n",
    "      MIN(invested_companies),\n",
    "      MAX(invested_companies),\n",
    "      AVG(invested_companies)      \n",
    "      \n",
    "FROM fund     \n",
    "WHERE\n",
    "      EXTRACT(YEAR FROM CAST(founded_at AS timestamp)) BETWEEN 2010 AND 2012\n",
    "GROUP BY  \n",
    "      country_code \n",
    "HAVING\n",
    "      MIN(invested_companies) != 0\n",
    "ORDER BY \n",
    "      AVG(invested_companies) DESC,\n",
    "      country_code ASC\n",
    "LIMIT 10;\n",
    "'''"
   ]
  },
  {
   "cell_type": "markdown",
   "id": "b3d9b2a6-4a72-4294-acef-4e16741f7d57",
   "metadata": {},
   "source": [
    "## Задание 11\n",
    "\n",
    "Отобразите имя и фамилию всех сотрудников стартапов. Добавьте поле с названием учебного заведения, которое окончил сотрудник, если эта информация известна."
   ]
  },
  {
   "cell_type": "code",
   "execution_count": 44,
   "id": "880a304d-087f-481f-9c61-3b3b35faf841",
   "metadata": {},
   "outputs": [
    {
     "data": {
      "text/plain": [
       "'\\nSELECT \\n     people.first_name,\\n     people.last_name,\\n     education.instituition\\n     \\nFROM\\n     people LEFT JOIN education ON people.id=education.person_id;\\n'"
      ]
     },
     "execution_count": 44,
     "metadata": {},
     "output_type": "execute_result"
    }
   ],
   "source": [
    "'''\n",
    "SELECT \n",
    "     people.first_name,\n",
    "     people.last_name,\n",
    "     education.instituition\n",
    "     \n",
    "FROM\n",
    "     people LEFT JOIN education ON people.id=education.person_id;\n",
    "'''"
   ]
  },
  {
   "cell_type": "markdown",
   "id": "b44a5196-bf9b-4e91-8f66-3d6ebb2e19b2",
   "metadata": {},
   "source": [
    "## Задание 12\n",
    "\n",
    "Для каждой компании найдите количество учебных заведений, которые окончили её сотрудники. Выведите название компании и число уникальных названий учебных заведений. Составьте топ-5 компаний по количеству университетов."
   ]
  },
  {
   "cell_type": "code",
   "execution_count": 45,
   "id": "4dc709d0-0a2d-419d-8ef6-327b53cddecf",
   "metadata": {},
   "outputs": [
    {
     "data": {
      "text/plain": [
       "'\\nSELECT\\n       c.name,\\n       COUNT(DISTINCT e.instituition)\\n  \\nFROM\\n      education AS e \\n      JOIN people AS p \\n                       ON e.person_id = p.id\\n      JOIN company AS c \\n                       ON p.company_id = c.id\\n      \\nGROUP BY \\n      c.name\\n\\nORDER BY \\n       COUNT(e.instituition) DESC\\n       \\nLIMIT 5;\\n'"
      ]
     },
     "execution_count": 45,
     "metadata": {},
     "output_type": "execute_result"
    }
   ],
   "source": [
    "'''\n",
    "SELECT\n",
    "       c.name,\n",
    "       COUNT(DISTINCT e.instituition)\n",
    "  \n",
    "FROM\n",
    "      education AS e \n",
    "      JOIN people AS p \n",
    "                       ON e.person_id = p.id\n",
    "      JOIN company AS c \n",
    "                       ON p.company_id = c.id\n",
    "      \n",
    "GROUP BY \n",
    "      c.name\n",
    "\n",
    "ORDER BY \n",
    "       COUNT(e.instituition) DESC\n",
    "       \n",
    "LIMIT 5;\n",
    "'''"
   ]
  },
  {
   "cell_type": "markdown",
   "id": "e3df81ea-35cf-4aa8-af42-2e201b4d6c56",
   "metadata": {},
   "source": [
    "## Задание 12\n",
    "\n",
    "Составьте список с уникальными названиями закрытых компаний, для которых первый раунд финансирования оказался последним."
   ]
  },
  {
   "cell_type": "code",
   "execution_count": 46,
   "id": "18cfa9f6-3f0f-499c-a3c8-1acc38e3fe1c",
   "metadata": {},
   "outputs": [
    {
     "data": {
      "text/plain": [
       "\"\\nSELECT \\n      DISTINCT(name)\\nFROM\\n      company\\nWHERE \\n      id IN (SELECT \\n             company_id\\n       FROM \\n             funding_round\\n       WHERE \\n             is_first_round = 1\\n         AND is_last_round = 1)\\nAND status = 'closed'\\n\""
      ]
     },
     "execution_count": 46,
     "metadata": {},
     "output_type": "execute_result"
    }
   ],
   "source": [
    "'''\n",
    "SELECT \n",
    "      DISTINCT(name)\n",
    "FROM\n",
    "      company\n",
    "WHERE \n",
    "      id IN (SELECT \n",
    "             company_id\n",
    "       FROM \n",
    "             funding_round\n",
    "       WHERE \n",
    "             is_first_round = 1\n",
    "         AND is_last_round = 1)\n",
    "AND status = 'closed'\n",
    "'''"
   ]
  },
  {
   "cell_type": "markdown",
   "id": "b7870247-4754-4fbe-bfb5-7dbbb9af909b",
   "metadata": {},
   "source": [
    "## Задание 13\n",
    "\n",
    "Составьте список с уникальными названиями закрытых компаний, для которых первый раунд финансирования оказался последним."
   ]
  },
  {
   "cell_type": "code",
   "execution_count": 47,
   "id": "923738e8-9455-47c3-9a72-a823b3b8d2e4",
   "metadata": {},
   "outputs": [
    {
     "data": {
      "text/plain": [
       "\"\\nSELECT \\n      DISTINCT(name)\\nFROM\\n      company\\nWHERE \\n      id IN (SELECT \\n             company_id\\n       FROM \\n             funding_round\\n       WHERE \\n             is_first_round = 1\\n         AND is_last_round = 1)\\nAND status = 'closed'\\n\""
      ]
     },
     "execution_count": 47,
     "metadata": {},
     "output_type": "execute_result"
    }
   ],
   "source": [
    "'''\n",
    "SELECT \n",
    "      DISTINCT(name)\n",
    "FROM\n",
    "      company\n",
    "WHERE \n",
    "      id IN (SELECT \n",
    "             company_id\n",
    "       FROM \n",
    "             funding_round\n",
    "       WHERE \n",
    "             is_first_round = 1\n",
    "         AND is_last_round = 1)\n",
    "AND status = 'closed'\n",
    "'''"
   ]
  },
  {
   "cell_type": "markdown",
   "id": "d90c91ba-9e0a-427c-9c1d-d22df31af666",
   "metadata": {},
   "source": [
    "## Задание 14\n",
    "\n",
    "Составьте список уникальных номеров сотрудников, которые работают в компаниях, отобранных в предыдущем задании."
   ]
  },
  {
   "cell_type": "code",
   "execution_count": 48,
   "id": "556fc84a-133e-4a92-98fb-473bbd10d8ee",
   "metadata": {},
   "outputs": [
    {
     "data": {
      "text/plain": [
       "\"\\nSELECT \\n      DISTINCT(p.id)\\nFROM\\n      company AS c JOIN people AS p ON c.id = p.company_id\\nWHERE \\n      c.id IN (SELECT \\n             company_id\\n       FROM \\n             funding_round\\n       WHERE \\n             is_first_round = 1\\n         AND is_last_round = 1)\\nAND status = 'closed'\\n\""
      ]
     },
     "execution_count": 48,
     "metadata": {},
     "output_type": "execute_result"
    }
   ],
   "source": [
    "'''\n",
    "SELECT \n",
    "      DISTINCT(p.id)\n",
    "FROM\n",
    "      company AS c JOIN people AS p ON c.id = p.company_id\n",
    "WHERE \n",
    "      c.id IN (SELECT \n",
    "             company_id\n",
    "       FROM \n",
    "             funding_round\n",
    "       WHERE \n",
    "             is_first_round = 1\n",
    "         AND is_last_round = 1)\n",
    "AND status = 'closed'\n",
    "'''"
   ]
  },
  {
   "cell_type": "markdown",
   "id": "316313d6-9a7d-4c55-b6cc-690e4fc37f17",
   "metadata": {},
   "source": [
    "## Задание 15\n",
    "\n",
    "Составьте таблицу, куда войдут уникальные пары с номерами сотрудников из предыдущей задачи и учебным заведением, которое окончил сотрудник."
   ]
  },
  {
   "cell_type": "code",
   "execution_count": 49,
   "id": "0c5c70a9-c543-4d3a-b939-9b324af4bb9a",
   "metadata": {},
   "outputs": [
    {
     "data": {
      "text/plain": [
       "\"\\nSELECT \\n      DISTINCT(p.id),\\n      e.instituition\\nFROM\\n      company AS c JOIN people AS p ON c.id = p.company_id\\n                   JOIN education AS e ON p.id = e.person_id\\nWHERE \\n      c.id IN (SELECT \\n             company_id\\n       FROM \\n             funding_round\\n       WHERE \\n             is_first_round = 1\\n         AND is_last_round = 1)\\nAND status = 'closed'\\n\""
      ]
     },
     "execution_count": 49,
     "metadata": {},
     "output_type": "execute_result"
    }
   ],
   "source": [
    "'''\n",
    "SELECT \n",
    "      DISTINCT(p.id),\n",
    "      e.instituition\n",
    "FROM\n",
    "      company AS c JOIN people AS p ON c.id = p.company_id\n",
    "                   JOIN education AS e ON p.id = e.person_id\n",
    "WHERE \n",
    "      c.id IN (SELECT \n",
    "             company_id\n",
    "       FROM \n",
    "             funding_round\n",
    "       WHERE \n",
    "             is_first_round = 1\n",
    "         AND is_last_round = 1)\n",
    "AND status = 'closed'\n",
    "'''"
   ]
  },
  {
   "cell_type": "markdown",
   "id": "b195517f-2e23-42e7-a99c-ddfd6e3ed492",
   "metadata": {},
   "source": [
    "## Задание 16\n",
    "\n",
    "Посчитайте количество учебных заведений для каждого сотрудника из предыдущего задания. При подсчёте учитывайте, что некоторые сотрудники могли окончить одно и то же заведение дважды."
   ]
  },
  {
   "cell_type": "code",
   "execution_count": 50,
   "id": "3aa5d0cd-e0f9-4e7c-9163-762393a70525",
   "metadata": {},
   "outputs": [
    {
     "data": {
      "text/plain": [
       "\"\\nSELECT \\n      p.id,\\n      COUNT(e.instituition)\\nFROM\\n      company AS c JOIN people AS p ON c.id = p.company_id\\n                   JOIN education AS e ON p.id = e.person_id\\nWHERE \\n      c.id IN (SELECT \\n             company_id\\n       FROM \\n             funding_round\\n       WHERE \\n             is_first_round = 1\\n         AND is_last_round = 1)\\nAND status = 'closed'\\nGROUP BY\\n      p.id;\\n\""
      ]
     },
     "execution_count": 50,
     "metadata": {},
     "output_type": "execute_result"
    }
   ],
   "source": [
    "'''\n",
    "SELECT \n",
    "      p.id,\n",
    "      COUNT(e.instituition)\n",
    "FROM\n",
    "      company AS c JOIN people AS p ON c.id = p.company_id\n",
    "                   JOIN education AS e ON p.id = e.person_id\n",
    "WHERE \n",
    "      c.id IN (SELECT \n",
    "             company_id\n",
    "       FROM \n",
    "             funding_round\n",
    "       WHERE \n",
    "             is_first_round = 1\n",
    "         AND is_last_round = 1)\n",
    "AND status = 'closed'\n",
    "GROUP BY\n",
    "      p.id;\n",
    "'''"
   ]
  },
  {
   "cell_type": "markdown",
   "id": "512093cf-2266-4db1-a20c-29848397b0af",
   "metadata": {},
   "source": [
    "## Задание 17\n",
    "\n",
    "Дополните предыдущий запрос и выведите среднее число учебных заведений (всех, не только уникальных), которые окончили сотрудники разных компаний. Нужно вывести только одну запись, группировка здесь не понадобится."
   ]
  },
  {
   "cell_type": "code",
   "execution_count": 51,
   "id": "2c52967f-a361-46e8-be24-a6f8e15b1771",
   "metadata": {},
   "outputs": [
    {
     "data": {
      "text/plain": [
       "\"\\nSELECT\\n      AVG(c_e)\\n\\nFROM\\n(SELECT \\n      p.id,\\n      COUNT(e.instituition) AS c_e\\nFROM\\n      company AS c JOIN people AS p ON c.id = p.company_id\\n                   JOIN education AS e ON p.id = e.person_id\\nWHERE \\n      c.id IN (SELECT \\n             company_id\\n       FROM \\n             funding_round\\n       WHERE \\n             is_first_round = 1\\n         AND is_last_round = 1)\\nAND status = 'closed'\\nGROUP BY\\n      p.id) AS t;\\n\""
      ]
     },
     "execution_count": 51,
     "metadata": {},
     "output_type": "execute_result"
    }
   ],
   "source": [
    "'''\n",
    "SELECT\n",
    "      AVG(c_e)\n",
    "\n",
    "FROM\n",
    "(SELECT \n",
    "      p.id,\n",
    "      COUNT(e.instituition) AS c_e\n",
    "FROM\n",
    "      company AS c JOIN people AS p ON c.id = p.company_id\n",
    "                   JOIN education AS e ON p.id = e.person_id\n",
    "WHERE \n",
    "      c.id IN (SELECT \n",
    "             company_id\n",
    "       FROM \n",
    "             funding_round\n",
    "       WHERE \n",
    "             is_first_round = 1\n",
    "         AND is_last_round = 1)\n",
    "AND status = 'closed'\n",
    "GROUP BY\n",
    "      p.id) AS t;\n",
    "'''"
   ]
  },
  {
   "cell_type": "markdown",
   "id": "0e276503-0cc5-4957-bf41-111e029a2aa8",
   "metadata": {},
   "source": [
    "## Задание 18\n",
    "\n",
    "\n",
    "Напишите похожий запрос: выведите среднее число учебных заведений (всех, не только уникальных), которые окончили сотрудники Facebook*.\n",
    "*(сервис, запрещённый на территории РФ)"
   ]
  },
  {
   "cell_type": "code",
   "execution_count": 52,
   "id": "040f367d-47b8-435c-8a14-9414e9b5680b",
   "metadata": {},
   "outputs": [
    {
     "data": {
      "text/plain": [
       "\"\\nSELECT\\n      AVG(c_e)\\nFROM (SELECT \\n       p.id,\\n       COUNT(e.instituition) AS c_e\\nFROM\\n       company AS c JOIN people AS p ON c.id = p.company_id\\n                    JOIN education AS e ON p.id = e.person_id\\nWHERE \\n       c.name = 'Facebook'\\nGROUP BY\\n       p.id) AS T;\\n\""
      ]
     },
     "execution_count": 52,
     "metadata": {},
     "output_type": "execute_result"
    }
   ],
   "source": [
    "'''\n",
    "SELECT\n",
    "      AVG(c_e)\n",
    "FROM (SELECT \n",
    "       p.id,\n",
    "       COUNT(e.instituition) AS c_e\n",
    "FROM\n",
    "       company AS c JOIN people AS p ON c.id = p.company_id\n",
    "                    JOIN education AS e ON p.id = e.person_id\n",
    "WHERE \n",
    "       c.name = 'Facebook'\n",
    "GROUP BY\n",
    "       p.id) AS T;\n",
    "'''"
   ]
  },
  {
   "cell_type": "markdown",
   "id": "870362b0-6fda-438d-a855-b4c9feca0ce9",
   "metadata": {},
   "source": [
    "## Задание 19\n",
    "\n",
    "\n",
    "Составьте таблицу из полей:\n",
    "- name_of_fund — название фонда;\n",
    "- name_of_company — название компании;\n",
    "- amount — сумма инвестиций, которую привлекла компания в раунде.\n",
    "\n",
    "\n",
    "В таблицу войдут данные о компаниях, в истории которых было больше шести важных этапов, а раунды финансирования проходили с 2012 по 2013 год включительно."
   ]
  },
  {
   "cell_type": "code",
   "execution_count": 53,
   "id": "5a67ded9-14ae-4f51-8e1a-877524c6a652",
   "metadata": {},
   "outputs": [
    {
     "data": {
      "text/plain": [
       "\"\\nSELECT f.name AS name_of_fund,\\nc.name AS name_of_company,\\nfr.raised_amount AS amount\\nFROM investment AS i\\nLEFT JOIN company AS c ON c.id = i.company_id\\nLEFT JOIN fund AS f ON i.fund_id = f.id\\nINNER JOIN \\n(SELECT*\\nFROM funding_round\\nWHERE funded_at BETWEEN '2012-01-01' AND '2013-12-31')\\nAS fr ON fr.id = i.funding_round_id\\nWHERE c.milestones > 6;\\n\""
      ]
     },
     "execution_count": 53,
     "metadata": {},
     "output_type": "execute_result"
    }
   ],
   "source": [
    "'''\n",
    "SELECT f.name AS name_of_fund,\n",
    "c.name AS name_of_company,\n",
    "fr.raised_amount AS amount\n",
    "FROM investment AS i\n",
    "LEFT JOIN company AS c ON c.id = i.company_id\n",
    "LEFT JOIN fund AS f ON i.fund_id = f.id\n",
    "INNER JOIN \n",
    "(SELECT*\n",
    "FROM funding_round\n",
    "WHERE funded_at BETWEEN '2012-01-01' AND '2013-12-31')\n",
    "AS fr ON fr.id = i.funding_round_id\n",
    "WHERE c.milestones > 6;\n",
    "'''"
   ]
  },
  {
   "cell_type": "markdown",
   "id": "d89b9489-5358-4286-a35c-7b2a022cf2ff",
   "metadata": {},
   "source": [
    "## Задание 20\n",
    "\n",
    "Выгрузите таблицу, в которой будут такие поля:\n",
    "- название компании-покупателя;\n",
    "- сумма сделки;\n",
    "- название компании, которую купили;\n",
    "- сумма инвестиций, вложенных в купленную компанию;\n",
    "- доля, которая отображает, во сколько раз сумма покупки превысила сумму вложенных в компанию инвестиций, округлённая до ближайшего целого числа.\n",
    "\n",
    "Не учитывайте те сделки, в которых сумма покупки равна нулю. Если сумма инвестиций в компанию равна нулю, исключите такую компанию из таблицы. \n",
    "Отсортируйте таблицу по сумме сделки от большей к меньшей, а затем по названию купленной компании в лексикографическом порядке. Ограничьте таблицу первыми десятью записями."
   ]
  },
  {
   "cell_type": "code",
   "execution_count": 54,
   "id": "481d8110-c979-4138-b7d2-d3bdca40185b",
   "metadata": {},
   "outputs": [
    {
     "data": {
      "text/plain": [
       "'\\nWITH\\nsell AS (\\n         SELECT\\n              acquisition.id AS P,\\n              company.name AS first,\\n              acquisition.price_amount AS second\\n         FROM acquisition\\n                         LEFT JOIN company ON acquisition.acquiring_company_id = company.id\\n         WHERE acquisition.price_amount != 0),\\n   \\n   \\nbuy AS (\\n        SELECT\\n             acquisition.id AS P,\\n             company.name AS third,\\n             company.funding_total AS forth\\n        FROM acquisition\\n                        LEFT JOIN company ON acquisition.acquired_company_id = company.id\\n        WHERE company.funding_total != 0)\\n        \\nSELECT\\n     sell.first,\\n     sell.second,\\n     buy.third,\\n     buy.forth,\\n     ROUND(second / forth)\\n\\nFROM\\n     sell JOIN buy ON sell.P = buy.P\\nORDER BY \\n     second DESC,\\n     third ASC\\nLIMIT 10\\n'"
      ]
     },
     "execution_count": 54,
     "metadata": {},
     "output_type": "execute_result"
    }
   ],
   "source": [
    "'''\n",
    "WITH\n",
    "sell AS (\n",
    "         SELECT\n",
    "              acquisition.id AS P,\n",
    "              company.name AS first,\n",
    "              acquisition.price_amount AS second\n",
    "         FROM acquisition\n",
    "                         LEFT JOIN company ON acquisition.acquiring_company_id = company.id\n",
    "         WHERE acquisition.price_amount != 0),\n",
    "   \n",
    "   \n",
    "buy AS (\n",
    "        SELECT\n",
    "             acquisition.id AS P,\n",
    "             company.name AS third,\n",
    "             company.funding_total AS forth\n",
    "        FROM acquisition\n",
    "                        LEFT JOIN company ON acquisition.acquired_company_id = company.id\n",
    "        WHERE company.funding_total != 0)\n",
    "        \n",
    "SELECT\n",
    "     sell.first,\n",
    "     sell.second,\n",
    "     buy.third,\n",
    "     buy.forth,\n",
    "     ROUND(second / forth)\n",
    "\n",
    "FROM\n",
    "     sell JOIN buy ON sell.P = buy.P\n",
    "ORDER BY \n",
    "     second DESC,\n",
    "     third ASC\n",
    "LIMIT 10\n",
    "'''"
   ]
  },
  {
   "cell_type": "markdown",
   "id": "1b7afab6-4f30-4f86-916f-6dcd15e62d0a",
   "metadata": {},
   "source": [
    "## Задание 21\n",
    "\n",
    "Выгрузите таблицу, в которую войдут названия компаний из категории social, получившие финансирование с 2010 по 2013 год включительно. Проверьте, что сумма инвестиций не равна нулю. Выведите также номер месяца, в котором проходил раунд финансирования."
   ]
  },
  {
   "cell_type": "code",
   "execution_count": 55,
   "id": "e8ceb95d-17e1-4a71-8d44-2554e64c888b",
   "metadata": {},
   "outputs": [
    {
     "data": {
      "text/plain": [
       "\"\\nSELECT\\n      c.name,\\n      EXTRACT(MONTH FROM CAST(fr.funded_at AS timestamp))\\nFROM \\n      company AS c \\n                  JOIN funding_round AS fr ON c.id = fr.company_id\\nWHERE\\n      EXTRACT(YEAR FROM CAST(fr.funded_at AS timestamp)) BETWEEN 2010 AND 2013\\n  AND fr.raised_amount != 0\\n  AND c.category_code = 'social' \\n\""
      ]
     },
     "execution_count": 55,
     "metadata": {},
     "output_type": "execute_result"
    }
   ],
   "source": [
    "'''\n",
    "SELECT\n",
    "      c.name,\n",
    "      EXTRACT(MONTH FROM CAST(fr.funded_at AS timestamp))\n",
    "FROM \n",
    "      company AS c \n",
    "                  JOIN funding_round AS fr ON c.id = fr.company_id\n",
    "WHERE\n",
    "      EXTRACT(YEAR FROM CAST(fr.funded_at AS timestamp)) BETWEEN 2010 AND 2013\n",
    "  AND fr.raised_amount != 0\n",
    "  AND c.category_code = 'social' \n",
    "'''"
   ]
  },
  {
   "cell_type": "markdown",
   "id": "a0a70f68-7bd2-4e06-94ed-69424ad55d8a",
   "metadata": {},
   "source": [
    "## Задание 22\n",
    "\n",
    "Отберите данные по месяцам с 2010 по 2013 год, когда проходили инвестиционные раунды. Сгруппируйте данные по номеру месяца и получите таблицу, в которой будут поля:\n",
    "- номер месяца, в котором проходили раунды;\n",
    "- количество уникальных названий фондов из США, которые инвестировали в этом месяце;\n",
    "- количество компаний, купленных за этот месяц;\n",
    "- общая сумма сделок по покупкам в этом месяце."
   ]
  },
  {
   "cell_type": "code",
   "execution_count": 56,
   "id": "28f5b5dd-d4e7-4fb2-87bf-e43f1eb73402",
   "metadata": {},
   "outputs": [
    {
     "data": {
      "text/plain": [
       "\"\\nWITH \\n\\none AS (SELECT\\n      EXTRACT(MONTH FROM CAST(fr.funded_at AS timestamp)) AS month,\\n      COUNT(DISTINCT f.name) AS second\\nFROM\\n      fund AS f\\n               JOIN investment AS i ON f.id = i.fund_id\\n               JOIN funding_round AS fr ON i.funding_round_id = fr.id\\n               \\nWHERE\\n      EXTRACT(YEAR FROM CAST(fr.funded_at AS timestamp)) BETWEEN 2010 AND 2013\\n  AND country_code = 'USA'\\n  \\nGROUP BY \\n      EXTRACT(MONTH FROM CAST(fr.funded_at AS timestamp))),\\n      \\n      \\ntwo AS (\\n    SELECT\\n              COUNT(acquired_company_id) AS third,\\n              SUM(price_amount) AS forth,\\n              EXTRACT(MONTH FROM CAST(acquired_at AS timestamp)) AS month\\n        FROM\\n              acquisition\\n\\n        WHERE\\n              EXTRACT(YEAR FROM CAST(acquired_at AS timestamp)) BETWEEN 2010 AND 2013\\n\\n        GROUP BY \\n              EXTRACT(MONTH FROM CAST(acquired_at AS timestamp)))\\n              \\nSELECT\\n      one.month,\\n      one.second,\\n      two.third,\\n      two.forth\\n      \\nFROM one \\n        JOIN two ON one.month = two.month\\n\""
      ]
     },
     "execution_count": 56,
     "metadata": {},
     "output_type": "execute_result"
    }
   ],
   "source": [
    "'''\n",
    "WITH \n",
    "\n",
    "one AS (SELECT\n",
    "      EXTRACT(MONTH FROM CAST(fr.funded_at AS timestamp)) AS month,\n",
    "      COUNT(DISTINCT f.name) AS second\n",
    "FROM\n",
    "      fund AS f\n",
    "               JOIN investment AS i ON f.id = i.fund_id\n",
    "               JOIN funding_round AS fr ON i.funding_round_id = fr.id\n",
    "               \n",
    "WHERE\n",
    "      EXTRACT(YEAR FROM CAST(fr.funded_at AS timestamp)) BETWEEN 2010 AND 2013\n",
    "  AND country_code = 'USA'\n",
    "  \n",
    "GROUP BY \n",
    "      EXTRACT(MONTH FROM CAST(fr.funded_at AS timestamp))),\n",
    "      \n",
    "      \n",
    "two AS (\n",
    "    SELECT\n",
    "              COUNT(acquired_company_id) AS third,\n",
    "              SUM(price_amount) AS forth,\n",
    "              EXTRACT(MONTH FROM CAST(acquired_at AS timestamp)) AS month\n",
    "        FROM\n",
    "              acquisition\n",
    "\n",
    "        WHERE\n",
    "              EXTRACT(YEAR FROM CAST(acquired_at AS timestamp)) BETWEEN 2010 AND 2013\n",
    "\n",
    "        GROUP BY \n",
    "              EXTRACT(MONTH FROM CAST(acquired_at AS timestamp)))\n",
    "              \n",
    "SELECT\n",
    "      one.month,\n",
    "      one.second,\n",
    "      two.third,\n",
    "      two.forth\n",
    "      \n",
    "FROM one \n",
    "        JOIN two ON one.month = two.month\n",
    "'''"
   ]
  },
  {
   "cell_type": "markdown",
   "id": "1cbc2729-f1a9-44b7-81ec-27bcc05e5a57",
   "metadata": {},
   "source": [
    "## Задание 23\n",
    "\n",
    "\n",
    "Составьте сводную таблицу и выведите среднюю сумму инвестиций для стран, в которых есть стартапы, зарегистрированные в 2011, 2012 и 2013 годах. Данные за каждый год должны быть в отдельном поле. Отсортируйте таблицу по среднему значению инвестиций за 2011 год от большего к меньшему."
   ]
  },
  {
   "cell_type": "code",
   "execution_count": 57,
   "id": "41ce00e0-ddab-41f2-9e78-e0bb519df5b4",
   "metadata": {},
   "outputs": [
    {
     "data": {
      "text/plain": [
       "'\\nWITH\\n\\ny_2011 AS (SELECT\\n      country_code AS country,\\n      AVG(funding_total) AS a_2011\\nFROM company           \\nWHERE\\n       EXTRACT(YEAR FROM CAST(founded_at AS timestamp)) = 2011\\n       \\nGROUP BY\\n       country_code),\\n\\n\\ny_2012 AS (SELECT\\n      country_code AS country,\\n      AVG(funding_total) AS a_2012\\nFROM company        \\nWHERE\\n       EXTRACT(YEAR FROM CAST(founded_at AS timestamp)) = 2012\\n\\nGROUP BY\\n       country_code),\\n\\n\\ny_2013 AS (SELECT\\n      country_code AS country,\\n      AVG(funding_total) AS a_2013\\nFROM company          \\nWHERE\\n       EXTRACT(YEAR FROM CAST(founded_at AS timestamp)) = 2013\\n\\nGROUP BY\\n       country_code)\\n\\n\\nSELECT\\n       y_2011.country,\\n       y_2011.a_2011,\\n       y_2012.a_2012,\\n       y_2013.a_2013\\nFROM \\n       y_2011 \\n             JOIN y_2012 ON y_2011.country = y_2012.country\\n             JOIN y_2013 ON y_2012.country = y_2013.country\\n             \\nORDER BY \\n        a_2011 DESC\\n'"
      ]
     },
     "execution_count": 57,
     "metadata": {},
     "output_type": "execute_result"
    }
   ],
   "source": [
    "'''\n",
    "WITH\n",
    "\n",
    "y_2011 AS (SELECT\n",
    "      country_code AS country,\n",
    "      AVG(funding_total) AS a_2011\n",
    "FROM company           \n",
    "WHERE\n",
    "       EXTRACT(YEAR FROM CAST(founded_at AS timestamp)) = 2011\n",
    "       \n",
    "GROUP BY\n",
    "       country_code),\n",
    "\n",
    "\n",
    "y_2012 AS (SELECT\n",
    "      country_code AS country,\n",
    "      AVG(funding_total) AS a_2012\n",
    "FROM company        \n",
    "WHERE\n",
    "       EXTRACT(YEAR FROM CAST(founded_at AS timestamp)) = 2012\n",
    "\n",
    "GROUP BY\n",
    "       country_code),\n",
    "\n",
    "\n",
    "y_2013 AS (SELECT\n",
    "      country_code AS country,\n",
    "      AVG(funding_total) AS a_2013\n",
    "FROM company          \n",
    "WHERE\n",
    "       EXTRACT(YEAR FROM CAST(founded_at AS timestamp)) = 2013\n",
    "\n",
    "GROUP BY\n",
    "       country_code)\n",
    "\n",
    "\n",
    "SELECT\n",
    "       y_2011.country,\n",
    "       y_2011.a_2011,\n",
    "       y_2012.a_2012,\n",
    "       y_2013.a_2013\n",
    "FROM \n",
    "       y_2011 \n",
    "             JOIN y_2012 ON y_2011.country = y_2012.country\n",
    "             JOIN y_2013 ON y_2012.country = y_2013.country\n",
    "             \n",
    "ORDER BY \n",
    "        a_2011 DESC\n",
    "'''"
   ]
  }
 ],
 "metadata": {
  "kernelspec": {
   "display_name": "Python 3 (ipykernel)",
   "language": "python",
   "name": "python3"
  },
  "language_info": {
   "codemirror_mode": {
    "name": "ipython",
    "version": 3
   },
   "file_extension": ".py",
   "mimetype": "text/x-python",
   "name": "python",
   "nbconvert_exporter": "python",
   "pygments_lexer": "ipython3",
   "version": "3.10.9"
  }
 },
 "nbformat": 4,
 "nbformat_minor": 5
}
